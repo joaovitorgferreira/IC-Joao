{
 "cells": [
  {
   "cell_type": "markdown",
   "metadata": {},
   "source": [
    "## Notebook do test codes"
   ]
  },
  {
   "cell_type": "code",
   "execution_count": 5,
   "metadata": {},
   "outputs": [
    {
     "name": "stdout",
     "output_type": "stream",
     "text": [
      "--2022-01-31 18:26:15--  https://www.ebi.ac.uk/chembl/interface_api/delayed_jobs/outputs/DOWNLOAD-xjstES4UDqxNSfWh_1l2ns4UCPVrXuGI6FVHak9lc_E=/DOWNLOAD-xjstES4UDqxNSfWh_1l2ns4UCPVrXuGI6FVHak9lc_E=.zip\n",
      "Resolving www.ebi.ac.uk (www.ebi.ac.uk)... 193.62.193.80\n",
      "Connecting to www.ebi.ac.uk (www.ebi.ac.uk)|193.62.193.80|:443... connected.\n",
      "HTTP request sent, awaiting response... 200 OK\n",
      "Length: 56445 (55K) [application/zip]\n",
      "Saving to: ‘/home/tiago/documents/IC-Joao/databases/chembl/DOWNLOAD-xjstES4UDqxNSfWh_1l2ns4UCPVrXuGI6FVHak9lc_E=.zip’\n",
      "\n",
      "DOWNLOAD-xjstES4UDq 100%[===================>]  55.12K   134KB/s    in 0.4s    \n",
      "\n",
      "2022-01-31 18:26:16 (134 KB/s) - ‘/home/tiago/documents/IC-Joao/databases/chembl/DOWNLOAD-xjstES4UDqxNSfWh_1l2ns4UCPVrXuGI6FVHak9lc_E=.zip’ saved [56445/56445]\n",
      "\n"
     ]
    }
   ],
   "source": [
    "!wget -P ~/documents/IC-Joao/databases/chembl https://www.ebi.ac.uk/chembl/interface_api/delayed_jobs/outputs/DOWNLOAD-xjstES4UDqxNSfWh_1l2ns4UCPVrXuGI6FVHak9lc_E=/DOWNLOAD-xjstES4UDqxNSfWh_1l2ns4UCPVrXuGI6FVHak9lc_E=.zip"
   ]
  },
  {
   "cell_type": "code",
   "execution_count": 7,
   "metadata": {},
   "outputs": [
    {
     "name": "stdout",
     "output_type": "stream",
     "text": [
      "Archive:  /home/tiago/documents/IC-Joao/databases/chembl/DOWNLOAD-xjstES4UDqxNSfWh_1l2ns4UCPVrXuGI6FVHak9lc_E=.zip\n",
      "  inflating: DOWNLOAD-xjstES4UDqxNSfWh_1l2ns4UCPVrXuGI6FVHak9lc_E=.tsv  \n"
     ]
    }
   ],
   "source": [
    "!unzip ~/documents/IC-Joao/databases/chembl/DOWNLOAD-xjstES4UDqxNSfWh_1l2ns4UCPVrXuGI6FVHak9lc_E=.zip"
   ]
  },
  {
   "cell_type": "code",
   "execution_count": 29,
   "metadata": {},
   "outputs": [],
   "source": [
    "import pandas as pd\n",
    "df = pd.read_csv(\"~/documents/IC-Joao/databases/chembl/smiles_chembl_antib.tsv\",sep ='\\t')\n",
    "with open(\"chembl_smiles.fasta\",\"w+\") as chembl_smiles:\n",
    "    for data in df.itertuples():\n",
    "        chembl_smiles.write(f\">{data[1]}|{data[2]}\\n\")\n",
    "        chembl_smiles.write(f\"{data[-1]}\\n\")"
   ]
  }
 ],
 "metadata": {
  "interpreter": {
   "hash": "69b062beff2e598faec878e7941be38236741acb7206950d36f971aedaddcc7c"
  },
  "kernelspec": {
   "display_name": "Python 3.9.6 64-bit ('tf': conda)",
   "language": "python",
   "name": "python3"
  },
  "language_info": {
   "codemirror_mode": {
    "name": "ipython",
    "version": 3
   },
   "file_extension": ".py",
   "mimetype": "text/x-python",
   "name": "python",
   "nbconvert_exporter": "python",
   "pygments_lexer": "ipython3",
   "version": "3.9.6"
  },
  "orig_nbformat": 4
 },
 "nbformat": 4,
 "nbformat_minor": 2
}
