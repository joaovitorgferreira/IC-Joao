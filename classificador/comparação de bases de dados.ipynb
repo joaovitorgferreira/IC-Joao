{
 "cells": [
  {
   "cell_type": "code",
   "execution_count": 4,
   "metadata": {},
   "outputs": [],
   "source": [
    "from rdkit import Chem\n",
    "from rdkit.Chem import PandasTools\n",
    "import pandas as pd\n",
    "import numpy as np"
   ]
  },
  {
   "cell_type": "code",
   "execution_count": 3,
   "metadata": {},
   "outputs": [
    {
     "name": "stdout",
     "output_type": "stream",
     "text": [
      "--2022-05-26 09:46:45--  https://coconut.naturalproducts.net/download/sdf\n",
      "Resolving coconut.naturalproducts.net (coconut.naturalproducts.net)... 141.35.136.10\n",
      "Connecting to coconut.naturalproducts.net (coconut.naturalproducts.net)|141.35.136.10|:443... connected.\n",
      "HTTP request sent, awaiting response... 200 \n",
      "Length: 1753237900 (1.6G) [chemical/x-mdl-sdfile]\n",
      "Saving to: 'sdf'\n",
      "\n",
      "sdf                   0%[                    ]  14.01M  3.95MB/s    eta 7m 53s ^C\n"
     ]
    }
   ],
   "source": [
    "#Downloading Coconut database\n",
    "#!wget https://coconut.naturalproducts.net/download/sdf"
   ]
  },
  {
   "cell_type": "code",
   "execution_count": 5,
   "metadata": {},
   "outputs": [],
   "source": [
    "#!mv sdf coconut_05_2022.sdf"
   ]
  },
  {
   "cell_type": "code",
   "execution_count": 6,
   "metadata": {},
   "outputs": [
    {
     "name": "stderr",
     "output_type": "stream",
     "text": [
      "RDKit ERROR: [09:47:29] Explicit valence for atom # 20 C, 6, is greater than permitted\n",
      "RDKit ERROR: [09:47:29] ERROR: Could not sanitize molecule ending on line 53\n",
      "[09:47:29] Explicit valence for atom # 20 C, 6, is greater than permitted\n",
      "[09:47:29] ERROR: Could not sanitize molecule ending on line 53\n",
      "RDKit ERROR: [09:47:29] ERROR: Explicit valence for atom # 20 C, 6, is greater than permitted\n",
      "[09:47:29] ERROR: Explicit valence for atom # 20 C, 6, is greater than permitted\n",
      "[09:47:31] Explicit valence for atom # 3 B, 4, is greater than permitted\n",
      "RDKit ERROR: [09:47:31] Explicit valence for atom # 3 B, 4, is greater than permitted\n",
      "RDKit ERROR: [09:47:31] ERROR: Could not sanitize molecule ending on line 329955\n",
      "[09:47:31] ERROR: Could not sanitize molecule ending on line 329955\n"
     ]
    },
    {
     "name": "stdout",
     "output_type": "stream",
     "text": [
      "CPU times: user 3.9 s, sys: 16 ms, total: 3.92 s\n",
      "Wall time: 3.92 s\n"
     ]
    }
   ],
   "source": [
    "%%time\n",
    "\n",
    "suppl = Chem.SDMolSupplier('coconut_05_2022.sdf')\n",
    "\n",
    "coco = []\n",
    "\n",
    "for mol in suppl:\n",
    "    if type(mol) == Chem.rdchem.Mol:\n",
    "        coco.append(mol.GetPropsAsDict())"
   ]
  },
  {
   "cell_type": "code",
   "execution_count": null,
   "metadata": {},
   "outputs": [
    {
     "name": "stdout",
     "output_type": "stream",
     "text": [
      "--2022-05-24 10:52:56--  https://www.ebi.ac.uk/chembl/interface_api/delayed_jobs/outputs/DOWNLOAD-MIv3zuTdL36SNC9DO6_t4ItlkgQFZTgc_sujCMTI5vg=/DOWNLOAD-MIv3zuTdL36SNC9DO6_t4ItlkgQFZTgc_sujCMTI5vg=.zip\n",
      "Resolving www.ebi.ac.uk (www.ebi.ac.uk)... 193.62.193.80\n",
      "Connecting to www.ebi.ac.uk (www.ebi.ac.uk)|193.62.193.80|:443... connected.\n",
      "HTTP request sent, awaiting response... 200 OK\n",
      "Length: 33534 (33K) [application/zip]\n",
      "Saving to: 'DOWNLOAD-MIv3zuTdL36SNC9DO6_t4ItlkgQFZTgc_sujCMTI5vg=.zip'\n",
      "\n",
      "DOWNLOAD-MIv3zuTdL3 100%[===================>]  32.75K   109KB/s    in 0.3s    \n",
      "\n",
      "2022-05-24 10:52:58 (109 KB/s) - 'DOWNLOAD-MIv3zuTdL36SNC9DO6_t4ItlkgQFZTgc_sujCMTI5vg=.zip' saved [33534/33534]\n",
      "\n"
     ]
    }
   ],
   "source": [
    "#!wget https://www.ebi.ac.uk/chembl/interface_api/delayed_jobs/outputs/DOWNLOAD-MIv3zuTdL36SNC9DO6_t4ItlkgQFZTgc_sujCMTI5vg=/DOWNLOAD-MIv3zuTdL36SNC9DO6_t4ItlkgQFZTgc_sujCMTI5vg=.zip"
   ]
  },
  {
   "cell_type": "code",
   "execution_count": null,
   "metadata": {},
   "outputs": [
    {
     "name": "stdout",
     "output_type": "stream",
     "text": [
      "Archive:  /home/joao/documentos/IC-Joao/classificador/DOWNLOAD-MIv3zuTdL36SNC9DO6_t4ItlkgQFZTgc_sujCMTI5vg=.zip\n",
      "  inflating: DOWNLOAD-MIv3zuTdL36SNC9DO6_t4ItlkgQFZTgc_sujCMTI5vg=.csv  \n"
     ]
    }
   ],
   "source": [
    "#!unzip /home/joao/documentos/IC-Joao/classificador/DOWNLOAD-MIv3zuTdL36SNC9DO6_t4ItlkgQFZTgc_sujCMTI5vg=.zip"
   ]
  },
  {
   "cell_type": "code",
   "execution_count": 19,
   "metadata": {},
   "outputs": [],
   "source": [
    "df = pd.read_csv('/home/joao/documentos/IC-Joao/classificador/antibiotics.csv',sep=';', encoding='latin-1')\n"
   ]
  },
  {
   "cell_type": "code",
   "execution_count": 15,
   "metadata": {},
   "outputs": [
    {
     "data": {
      "text/html": [
       "<div>\n",
       "<style scoped>\n",
       "    .dataframe tbody tr th:only-of-type {\n",
       "        vertical-align: middle;\n",
       "    }\n",
       "\n",
       "    .dataframe tbody tr th {\n",
       "        vertical-align: top;\n",
       "    }\n",
       "\n",
       "    .dataframe thead th {\n",
       "        text-align: right;\n",
       "    }\n",
       "</style>\n",
       "<table border=\"1\" class=\"dataframe\">\n",
       "  <thead>\n",
       "    <tr style=\"text-align: right;\">\n",
       "      <th></th>\n",
       "      <th>SMILES</th>\n",
       "      <th>coconut_id</th>\n",
       "    </tr>\n",
       "  </thead>\n",
       "  <tbody>\n",
       "    <tr>\n",
       "      <th>0</th>\n",
       "      <td>O=C(O)C=1C(=O)C(O)(CC(=O)C1N)C2OC(COC(=O)C)C(O...</td>\n",
       "      <td>CNP0000002</td>\n",
       "    </tr>\n",
       "    <tr>\n",
       "      <th>1</th>\n",
       "      <td>O=C1OC2C(O)C=CC3C4=C5C(=O)C=6C(OC)=CC=C(OC)C6C...</td>\n",
       "      <td>CNP0000003</td>\n",
       "    </tr>\n",
       "    <tr>\n",
       "      <th>2</th>\n",
       "      <td>O=C1OC2C(O)C=CC3C4=C5C(=O)C=6C=CC=C(O)C6C(=O)C...</td>\n",
       "      <td>CNP0000004</td>\n",
       "    </tr>\n",
       "    <tr>\n",
       "      <th>3</th>\n",
       "      <td>O=C(OC1CC(C)(CCOC(=O)C(C)(C)C)C2CC(C)(C)CC2C1O...</td>\n",
       "      <td>CNP0000005</td>\n",
       "    </tr>\n",
       "    <tr>\n",
       "      <th>4</th>\n",
       "      <td>O=C1OC2C(O)C=CC3C4=C5C(=O)C=6C=CC=C(O)C6C(=O)C...</td>\n",
       "      <td>CNP0000006</td>\n",
       "    </tr>\n",
       "  </tbody>\n",
       "</table>\n",
       "</div>"
      ],
      "text/plain": [
       "                                              SMILES  coconut_id\n",
       "0  O=C(O)C=1C(=O)C(O)(CC(=O)C1N)C2OC(COC(=O)C)C(O...  CNP0000002\n",
       "1  O=C1OC2C(O)C=CC3C4=C5C(=O)C=6C(OC)=CC=C(OC)C6C...  CNP0000003\n",
       "2  O=C1OC2C(O)C=CC3C4=C5C(=O)C=6C=CC=C(O)C6C(=O)C...  CNP0000004\n",
       "3  O=C(OC1CC(C)(CCOC(=O)C(C)(C)C)C2CC(C)(C)CC2C1O...  CNP0000005\n",
       "4  O=C1OC2C(O)C=CC3C4=C5C(=O)C=6C=CC=C(O)C6C(=O)C...  CNP0000006"
      ]
     },
     "execution_count": 15,
     "metadata": {},
     "output_type": "execute_result"
    }
   ],
   "source": [
    "coconut = pd.DataFrame(coco)"
   ]
  },
  {
   "cell_type": "code",
   "execution_count": 20,
   "metadata": {},
   "outputs": [],
   "source": [
    "antibio = df.Inchi_Key"
   ]
  },
  {
   "cell_type": "code",
   "execution_count": 23,
   "metadata": {},
   "outputs": [],
   "source": [
    "from matplotlib_venn import venn3, venn3_circles\n",
    "from matplotlib import pyplot as plt"
   ]
  },
  {
   "cell_type": "code",
   "execution_count": 24,
   "metadata": {},
   "outputs": [
    {
     "name": "stdout",
     "output_type": "stream",
     "text": [
      "\u001b[0;31mSignature:\u001b[0m\n",
      "\u001b[0mvenn3\u001b[0m\u001b[0;34m(\u001b[0m\u001b[0;34m\u001b[0m\n",
      "\u001b[0;34m\u001b[0m    \u001b[0msubsets\u001b[0m\u001b[0;34m,\u001b[0m\u001b[0;34m\u001b[0m\n",
      "\u001b[0;34m\u001b[0m    \u001b[0mset_labels\u001b[0m\u001b[0;34m=\u001b[0m\u001b[0;34m(\u001b[0m\u001b[0;34m'A'\u001b[0m\u001b[0;34m,\u001b[0m \u001b[0;34m'B'\u001b[0m\u001b[0;34m,\u001b[0m \u001b[0;34m'C'\u001b[0m\u001b[0;34m)\u001b[0m\u001b[0;34m,\u001b[0m\u001b[0;34m\u001b[0m\n",
      "\u001b[0;34m\u001b[0m    \u001b[0mset_colors\u001b[0m\u001b[0;34m=\u001b[0m\u001b[0;34m(\u001b[0m\u001b[0;34m'r'\u001b[0m\u001b[0;34m,\u001b[0m \u001b[0;34m'g'\u001b[0m\u001b[0;34m,\u001b[0m \u001b[0;34m'b'\u001b[0m\u001b[0;34m)\u001b[0m\u001b[0;34m,\u001b[0m\u001b[0;34m\u001b[0m\n",
      "\u001b[0;34m\u001b[0m    \u001b[0malpha\u001b[0m\u001b[0;34m=\u001b[0m\u001b[0;36m0.4\u001b[0m\u001b[0;34m,\u001b[0m\u001b[0;34m\u001b[0m\n",
      "\u001b[0;34m\u001b[0m    \u001b[0mnormalize_to\u001b[0m\u001b[0;34m=\u001b[0m\u001b[0;36m1.0\u001b[0m\u001b[0;34m,\u001b[0m\u001b[0;34m\u001b[0m\n",
      "\u001b[0;34m\u001b[0m    \u001b[0max\u001b[0m\u001b[0;34m=\u001b[0m\u001b[0;32mNone\u001b[0m\u001b[0;34m,\u001b[0m\u001b[0;34m\u001b[0m\n",
      "\u001b[0;34m\u001b[0m    \u001b[0msubset_label_formatter\u001b[0m\u001b[0;34m=\u001b[0m\u001b[0;32mNone\u001b[0m\u001b[0;34m,\u001b[0m\u001b[0;34m\u001b[0m\n",
      "\u001b[0;34m\u001b[0m\u001b[0;34m)\u001b[0m\u001b[0;34m\u001b[0m\u001b[0;34m\u001b[0m\u001b[0m\n",
      "\u001b[0;31mDocstring:\u001b[0m\n",
      "Plots a 3-set area-weighted Venn diagram.\n",
      "The subsets parameter can be one of the following:\n",
      " - A list (or a tuple), containing three set objects.\n",
      " - A dict, providing sizes of seven diagram regions.\n",
      "   The regions are identified via three-letter binary codes ('100', '010', etc), hence a valid set could look like:\n",
      "   {'001': 10, '010': 20, '110':30, ...}. Unmentioned codes are considered to map to 0.\n",
      " - A list (or a tuple) with 7 numbers, denoting the sizes of the regions in the following order:\n",
      "   (100, 010, 110, 001, 101, 011, 111).\n",
      "\n",
      "``set_labels`` parameter is a list of three strings - set labels. Set it to None to disable set labels.\n",
      "The ``set_colors`` parameter should be a list of three elements, specifying the \"base colors\" of the three circles.\n",
      "The colors of circle intersections will be computed based on those.\n",
      "\n",
      "The ``normalize_to`` parameter specifies the total (on-axes) area of the circles to be drawn. Sometimes tuning it (together\n",
      "with the overall fiture size) may be useful to fit the text labels better.\n",
      "The return value is a ``VennDiagram`` object, that keeps references to the ``Text`` and ``Patch`` objects used on the plot\n",
      "and lets you know the centers and radii of the circles, if you need it.\n",
      "\n",
      "The ``ax`` parameter specifies the axes on which the plot will be drawn (None means current axes).\n",
      "\n",
      "The ``subset_label_formatter`` parameter is a function that can be passed to format the labels\n",
      "that describe the size of each subset.\n",
      "\n",
      "Note: if some of the circles happen to have zero area, you will probably not get a nice picture.\n",
      "\n",
      ">>> import matplotlib # (The first two lines prevent the doctest from falling when TCL not installed. Not really necessary in most cases)\n",
      ">>> matplotlib.use('Agg')\n",
      ">>> from matplotlib_venn import *\n",
      ">>> v = venn3(subsets=(1, 1, 1, 1, 1, 1, 1), set_labels = ('A', 'B', 'C'))\n",
      ">>> c = venn3_circles(subsets=(1, 1, 1, 1, 1, 1, 1), linestyle='dashed')\n",
      ">>> v.get_patch_by_id('100').set_alpha(1.0)\n",
      ">>> v.get_patch_by_id('100').set_color('white')\n",
      ">>> v.get_label_by_id('100').set_text('Unknown')\n",
      ">>> v.get_label_by_id('C').set_text('Set C')\n",
      "\n",
      "You can provide sets themselves rather than subset sizes:\n",
      ">>> v = venn3(subsets=[set([1,2]), set([2,3,4,5]), set([4,5,6,7,8,9,10,11])])\n",
      ">>> print(\"%0.2f %0.2f %0.2f\" % (v.get_circle_radius(0), v.get_circle_radius(1)/v.get_circle_radius(0), v.get_circle_radius(2)/v.get_circle_radius(0)))\n",
      "0.24 1.41 2.00\n",
      ">>> c = venn3_circles(subsets=[set([1,2]), set([2,3,4,5]), set([4,5,6,7,8,9,10,11])])\n",
      "\u001b[0;31mFile:\u001b[0m      ~/anaconda3/envs/diversedrl/lib/python3.7/site-packages/matplotlib_venn/_venn3.py\n",
      "\u001b[0;31mType:\u001b[0m      function\n"
     ]
    }
   ],
   "source": [
    "?venn3"
   ]
  },
  {
   "cell_type": "code",
   "execution_count": 26,
   "metadata": {},
   "outputs": [
    {
     "data": {
      "text/plain": [
       "4371"
      ]
     },
     "execution_count": 26,
     "metadata": {},
     "output_type": "execute_result"
    }
   ],
   "source": [
    "# coconut\n",
    "len(set(coconut['inchikey'])- set(antibio))"
   ]
  },
  {
   "cell_type": "code",
   "execution_count": 28,
   "metadata": {},
   "outputs": [
    {
     "data": {
      "text/plain": [
       "227"
      ]
     },
     "execution_count": 28,
     "metadata": {},
     "output_type": "execute_result"
    }
   ],
   "source": [
    "# antibio\n",
    "len(set(antibio)-set(coconut['inchikey']))"
   ]
  },
  {
   "cell_type": "code",
   "execution_count": 30,
   "metadata": {},
   "outputs": [
    {
     "data": {
      "text/plain": [
       "0"
      ]
     },
     "execution_count": 30,
     "metadata": {},
     "output_type": "execute_result"
    }
   ],
   "source": [
    "# antibio x coconut\n",
    "len(set(antibio).intersection(set(coconut['inchikey'])))"
   ]
  },
  {
   "cell_type": "code",
   "execution_count": null,
   "metadata": {},
   "outputs": [],
   "source": []
  }
 ],
 "metadata": {
  "interpreter": {
   "hash": "3218d1e1345bf85c44ac3e3bdb7899973b22b8c207b0aa6281a3c4896a58620c"
  },
  "kernelspec": {
   "display_name": "Python 3.7.11 ('diversedrl')",
   "language": "python",
   "name": "python3"
  },
  "language_info": {
   "codemirror_mode": {
    "name": "ipython",
    "version": 3
   },
   "file_extension": ".py",
   "mimetype": "text/x-python",
   "name": "python",
   "nbconvert_exporter": "python",
   "pygments_lexer": "ipython3",
   "version": "3.7.11"
  },
  "orig_nbformat": 4
 },
 "nbformat": 4,
 "nbformat_minor": 2
}
