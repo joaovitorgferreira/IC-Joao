{
 "cells": [
  {
   "cell_type": "code",
   "execution_count": 1,
   "metadata": {},
   "outputs": [],
   "source": [
    "from rdkit import Chem\n",
    "from rdkit.Chem import PandasTools\n",
    "import pandas as pd\n",
    "import numpy as np"
   ]
  },
  {
   "cell_type": "markdown",
   "metadata": {},
   "source": [
    "Sanitizando dados do Coconut"
   ]
  },
  {
   "cell_type": "code",
   "execution_count": 2,
   "metadata": {},
   "outputs": [
    {
     "name": "stderr",
     "output_type": "stream",
     "text": [
      "RDKit ERROR: [10:49:20] Explicit valence for atom # 20 C, 6, is greater than permitted\n",
      "[10:49:20] Explicit valence for atom # 20 C, 6, is greater than permitted\n",
      "RDKit ERROR: [10:49:20] ERROR: Could not sanitize molecule ending on line 53\n",
      "[10:49:20] ERROR: Could not sanitize molecule ending on line 53\n",
      "RDKit ERROR: [10:49:20] ERROR: Explicit valence for atom # 20 C, 6, is greater than permitted\n",
      "[10:49:20] ERROR: Explicit valence for atom # 20 C, 6, is greater than permitted\n",
      "[10:49:22] Explicit valence for atom # 3 B, 4, is greater than permitted\n",
      "RDKit ERROR: [10:49:22] Explicit valence for atom # 3 B, 4, is greater than permitted\n",
      "RDKit ERROR: [10:49:22] ERROR: Could not sanitize molecule ending on line 329955\n",
      "[10:49:22] ERROR: Could not sanitize molecule ending on line 329955\n"
     ]
    },
    {
     "name": "stdout",
     "output_type": "stream",
     "text": [
      "CPU times: user 3.95 s, sys: 16 ms, total: 3.96 s\n",
      "Wall time: 3.96 s\n"
     ]
    }
   ],
   "source": [
    "%%time\n",
    "\n",
    "suppl = Chem.SDMolSupplier('coconut_05_2022.sdf')\n",
    "\n",
    "coco = []\n",
    "\n",
    "for mol in suppl:\n",
    "    if type(mol) == Chem.rdchem.Mol:\n",
    "        coco.append(mol.GetPropsAsDict())"
   ]
  },
  {
   "cell_type": "code",
   "execution_count": 3,
   "metadata": {},
   "outputs": [],
   "source": [
    "coconut = pd.DataFrame(coco)"
   ]
  },
  {
   "cell_type": "markdown",
   "metadata": {},
   "source": [
    "Carregando datasets de antibióticos e comparando com o Coconut, usando InChIKey"
   ]
  },
  {
   "cell_type": "code",
   "execution_count": 4,
   "metadata": {},
   "outputs": [],
   "source": [
    "antibio = pd.read_csv('/home/joao/documentos/IC-Joao/classificador/antibio.csv', sep=';', encoding='latin-1')"
   ]
  },
  {
   "cell_type": "code",
   "execution_count": 5,
   "metadata": {},
   "outputs": [
    {
     "data": {
      "text/plain": [
       "0"
      ]
     },
     "execution_count": 5,
     "metadata": {},
     "output_type": "execute_result"
    }
   ],
   "source": [
    "len(set(antibio['InChIKey']).intersection(set(coconut['inchikey'])))"
   ]
  },
  {
   "cell_type": "code",
   "execution_count": 6,
   "metadata": {},
   "outputs": [],
   "source": [
    "antibio2 = pd.read_excel('/home/joao/documentos/IC-Joao/classificador/antibio2.xlsx')"
   ]
  },
  {
   "cell_type": "code",
   "execution_count": 7,
   "metadata": {},
   "outputs": [],
   "source": [
    "antb2 = []\n",
    "\n",
    "for x in antibio2['INCHI']:\n",
    "    try:\n",
    "        antb2.append(Chem.InchiToInchiKey(x))\n",
    "    except:\n",
    "        antb2.append('')\n",
    "\n",
    "\n",
    "antibio2['InChIKey'] = antb2\n",
    "antibio2 = antibio2[antibio2['InChIKey']!='']"
   ]
  },
  {
   "cell_type": "code",
   "execution_count": 8,
   "metadata": {},
   "outputs": [
    {
     "data": {
      "text/plain": [
       "0"
      ]
     },
     "execution_count": 8,
     "metadata": {},
     "output_type": "execute_result"
    }
   ],
   "source": [
    "len((set(coconut['inchikey'])).intersection(set(antibio2['InChIKey'])))"
   ]
  },
  {
   "cell_type": "code",
   "execution_count": 9,
   "metadata": {},
   "outputs": [
    {
     "data": {
      "text/plain": [
       "12"
      ]
     },
     "execution_count": 9,
     "metadata": {},
     "output_type": "execute_result"
    }
   ],
   "source": [
    "len((set(antibio2['InChIKey'])).intersection(set(antibio['InChIKey'])))\n"
   ]
  },
  {
   "cell_type": "markdown",
   "metadata": {},
   "source": [
    "Juntando os dois conjuntos de dados"
   ]
  },
  {
   "cell_type": "code",
   "execution_count": 10,
   "metadata": {},
   "outputs": [
    {
     "data": {
      "text/plain": [
       "Index(['Name', 'SMILES', 'Molecular Formula', 'LogP', 'Molecular Weight',\n",
       "       'HBD', 'HBA', 'TPSA', 'ROTB', 'AROM', 'ALERTS', 'INCHI', 'InChIKey'],\n",
       "      dtype='object')"
      ]
     },
     "execution_count": 10,
     "metadata": {},
     "output_type": "execute_result"
    }
   ],
   "source": [
    "antibio2.columns"
   ]
  },
  {
   "cell_type": "code",
   "execution_count": 11,
   "metadata": {},
   "outputs": [],
   "source": [
    "antibio2a = antibio2[['Name','SMILES','InChIKey']]"
   ]
  },
  {
   "cell_type": "code",
   "execution_count": 13,
   "metadata": {},
   "outputs": [],
   "source": [
    "antibioa = antibio[['Name','SMILES','InChIKey']]"
   ]
  },
  {
   "cell_type": "code",
   "execution_count": 14,
   "metadata": {},
   "outputs": [],
   "source": [
    "frames = [antibioa,antibio2a]\n",
    "antibiotics_list = pd.concat(frames)"
   ]
  },
  {
   "cell_type": "code",
   "execution_count": 15,
   "metadata": {},
   "outputs": [],
   "source": [
    "# Baixei a combinação para excluir as duplicatas manualmente\n",
    "# from pathlib import Path  \n",
    "# filepath = Path('/home/joao/documentos/IC-Joao/classificador/antibioticlist.xlsx')  \n",
    "# filepath.parent.mkdir(parents=True, exist_ok=True)  \n",
    "# antibiotics_list.to_excel(filepath,index=False) "
   ]
  },
  {
   "cell_type": "code",
   "execution_count": 16,
   "metadata": {},
   "outputs": [],
   "source": [
    "#Criei uma variável com as duplicadas e seus indices para saber qual remover\n",
    "dup = antibiotics_list['InChIKey'].duplicated()"
   ]
  },
  {
   "cell_type": "code",
   "execution_count": 17,
   "metadata": {},
   "outputs": [],
   "source": [
    "# Criei um csv para poder visualizar todos os índices\n",
    "# from pathlib import Path  \n",
    "# filepath = Path('/home/joao/documentos/IC-Joao/classificador/dup.csv')  \n",
    "# filepath.parent.mkdir(parents=True, exist_ok=True)  \n",
    "# dup.to_csv(filepath,index=True) "
   ]
  },
  {
   "cell_type": "markdown",
   "metadata": {},
   "source": [
    "Lista de antibióticos combinados, sem duplicatas\n",
    "\n"
   ]
  },
  {
   "cell_type": "code",
   "execution_count": 20,
   "metadata": {},
   "outputs": [],
   "source": [
    "no_double_antib = pd.read_excel('/home/joao/documentos/IC-Joao/classificador/lista-antibioticos-sem-duplicatas.xlsx')"
   ]
  },
  {
   "cell_type": "code",
   "execution_count": 22,
   "metadata": {},
   "outputs": [
    {
     "name": "stdout",
     "output_type": "stream",
     "text": [
      "0\n"
     ]
    }
   ],
   "source": [
    "#Conferindo se não há duplicatas\n",
    "y = 0\n",
    "for x in no_double_antib['InChIKey'].duplicated():\n",
    "    if x is True:\n",
    "        y = y + 1\n",
    "print(y)\n"
   ]
  },
  {
   "cell_type": "code",
   "execution_count": 23,
   "metadata": {},
   "outputs": [],
   "source": [
    "#Falta verificar manualmente se todas as moléculas são efetivamente antibióticos"
   ]
  },
  {
   "cell_type": "code",
   "execution_count": null,
   "metadata": {},
   "outputs": [],
   "source": []
  }
 ],
 "metadata": {
  "interpreter": {
   "hash": "3218d1e1345bf85c44ac3e3bdb7899973b22b8c207b0aa6281a3c4896a58620c"
  },
  "kernelspec": {
   "display_name": "Python 3.7.11 ('diversedrl')",
   "language": "python",
   "name": "python3"
  },
  "language_info": {
   "codemirror_mode": {
    "name": "ipython",
    "version": 3
   },
   "file_extension": ".py",
   "mimetype": "text/x-python",
   "name": "python",
   "nbconvert_exporter": "python",
   "pygments_lexer": "ipython3",
   "version": "3.7.11"
  },
  "orig_nbformat": 4
 },
 "nbformat": 4,
 "nbformat_minor": 2
}
