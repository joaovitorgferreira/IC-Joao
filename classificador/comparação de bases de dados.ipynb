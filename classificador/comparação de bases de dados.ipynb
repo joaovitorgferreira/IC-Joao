{
 "cells": [
  {
   "cell_type": "code",
   "execution_count": 1,
   "metadata": {},
   "outputs": [],
   "source": [
    "from rdkit import Chem\n",
    "from rdkit.Chem import PandasTools\n",
    "import pandas as pd\n",
    "import numpy as np"
   ]
  },
  {
   "cell_type": "markdown",
   "metadata": {},
   "source": [
    "Sanitizando dados do Coconut"
   ]
  },
  {
   "cell_type": "code",
   "execution_count": 2,
   "metadata": {},
   "outputs": [
    {
     "name": "stderr",
     "output_type": "stream",
     "text": [
      "RDKit ERROR: [22:26:50] Explicit valence for atom # 20 C, 6, is greater than permitted\n",
      "RDKit ERROR: [22:26:50] ERROR: Could not sanitize molecule ending on line 53\n",
      "[22:26:50] Explicit valence for atom # 20 C, 6, is greater than permitted\n",
      "[22:26:50] ERROR: Could not sanitize molecule ending on line 53\n",
      "RDKit ERROR: [22:26:50] ERROR: Explicit valence for atom # 20 C, 6, is greater than permitted\n",
      "[22:26:50] ERROR: Explicit valence for atom # 20 C, 6, is greater than permitted\n",
      "[22:26:52] Explicit valence for atom # 3 B, 4, is greater than permitted\n",
      "RDKit ERROR: [22:26:52] Explicit valence for atom # 3 B, 4, is greater than permitted\n",
      "RDKit ERROR: [22:26:52] ERROR: Could not sanitize molecule ending on line 329955\n",
      "[22:26:52] ERROR: Could not sanitize molecule ending on line 329955\n"
     ]
    },
    {
     "name": "stdout",
     "output_type": "stream",
     "text": [
      "CPU times: user 3.94 s, sys: 28 ms, total: 3.96 s\n",
      "Wall time: 3.96 s\n"
     ]
    }
   ],
   "source": [
    "%%time\n",
    "\n",
    "suppl = Chem.SDMolSupplier('coconut_05_2022.sdf')\n",
    "\n",
    "coco = []\n",
    "\n",
    "for mol in suppl:\n",
    "    if type(mol) == Chem.rdchem.Mol:\n",
    "        coco.append(mol.GetPropsAsDict())"
   ]
  },
  {
   "cell_type": "code",
   "execution_count": 3,
   "metadata": {},
   "outputs": [],
   "source": [
    "coconut = pd.DataFrame(coco)"
   ]
  },
  {
   "cell_type": "markdown",
   "metadata": {},
   "source": [
    "Carregando datasets de antibióticos e comparando com o Coconut, usando InChIKey"
   ]
  },
  {
   "cell_type": "code",
   "execution_count": 4,
   "metadata": {},
   "outputs": [],
   "source": [
    "antibio = pd.read_csv('/home/joao/documentos/IC-Joao/classificador/antibio.csv', sep=';', encoding='latin-1')"
   ]
  },
  {
   "cell_type": "code",
   "execution_count": 5,
   "metadata": {},
   "outputs": [
    {
     "data": {
      "text/plain": [
       "0"
      ]
     },
     "execution_count": 5,
     "metadata": {},
     "output_type": "execute_result"
    }
   ],
   "source": [
    "len(set(antibio['Inchi Key']).intersection(set(coconut['inchikey'])))"
   ]
  },
  {
   "cell_type": "code",
   "execution_count": 6,
   "metadata": {},
   "outputs": [],
   "source": [
    "antibio2 = pd.read_excel('/home/joao/documentos/IC-Joao/classificador/antibio2.xlsx')"
   ]
  },
  {
   "cell_type": "code",
   "execution_count": 8,
   "metadata": {},
   "outputs": [],
   "source": [
    "antb2 = []\n",
    "\n",
    "for x in antibio2['INCHI']:\n",
    "    try:\n",
    "        antb2.append(Chem.InchiToInchiKey(x))\n",
    "    except:\n",
    "        antb2.append('')\n",
    "\n",
    "\n",
    "antibio2['InChIKey'] = antb2\n",
    "antibio2 = antibio2[antibio2['InChIKey']!='']"
   ]
  },
  {
   "cell_type": "code",
   "execution_count": 12,
   "metadata": {},
   "outputs": [
    {
     "data": {
      "text/plain": [
       "0"
      ]
     },
     "execution_count": 12,
     "metadata": {},
     "output_type": "execute_result"
    }
   ],
   "source": [
    "len((set(coconut['inchikey'])).intersection(set(antibio2['InChIKey'])))"
   ]
  },
  {
   "cell_type": "code",
   "execution_count": 15,
   "metadata": {},
   "outputs": [
    {
     "data": {
      "text/plain": [
       "array(['OPFTUNCRGUEPRZ-UHFFFAOYSA-N', 'GRWFGVWFFZKLTI-UHFFFAOYSA-N',\n",
       "       'GNRIZKKCNOBBMO-UHFFFAOYSA-N', 'RPQZTTQVRYEKCR-UHFFFAOYSA-N',\n",
       "       'BCEHBSKCWLPMDN-UHFFFAOYSA-N', 'FBSKJMQYURKNSU-QPJJXVBHSA-N',\n",
       "       'SGTNSNPWRIOYBX-UHFFFAOYSA-N', 'MWOOGOJBHIARFG-UHFFFAOYSA-N',\n",
       "       'MYPYJXKWCTUITO-UHFFFAOYSA-N', 'CUCUKLJLRRAKFN-UHFFFAOYSA-N',\n",
       "       'WCGUUGGRBIKTOS-UHFFFAOYSA-N', 'IEDVJHCEMCRBQM-UHFFFAOYSA-N',\n",
       "       'XSCGXQMFQXDFCW-UHFFFAOYSA-N', 'XEFQLINVKFYRCS-UHFFFAOYSA-N',\n",
       "       'KJPRLNWUNMBNBZ-QPJJXVBHSA-N', 'XYNPYHXGMWJBLV-UHFFFAOYSA-N',\n",
       "       'NLVFBUXFDBBNBW-UHFFFAOYSA-N', 'QXHHHPZILQDDPS-UHFFFAOYSA-N',\n",
       "       'JTSDBFGMPLKDCD-PKKFATPISA-N', 'SOVUOXKZCCAWOJ-UHFFFAOYSA-N',\n",
       "       'OHKOGUYZJXTSFX-UHFFFAOYSA-N', 'MGSRCZKZVOBKFT-UHFFFAOYSA-N',\n",
       "       'VOHUWOUGEDDNDQ-UHFFFAOYSA-N', 'KLBQZWRITKRQQV-UHFFFAOYSA-N',\n",
       "       'OTVAEFIXJLOWRX-UHFFFAOYSA-N', 'ZFXYFBGIUFBOJW-UHFFFAOYSA-N',\n",
       "       'WVTKBKWTSCPRNU-UHFFFAOYSA-N', 'NWXMGUDVXFXRIG-UHFFFAOYSA-N',\n",
       "       'JCGHAEBIBSEQAD-UHFFFAOYSA-N', 'LJVAJPDWBABPEJ-UHFFFAOYSA-N',\n",
       "       'BJNLLBUOHPVGFT-UHFFFAOYSA-N', 'LPQZKKCYTLCDGQ-UHFFFAOYSA-N',\n",
       "       'LRBQNJMCXXYXIU-UHFFFAOYSA-N', 'WMPXPUYPYQKQCX-UHFFFAOYSA-N',\n",
       "       'WZRJTRPJURQBRM-UHFFFAOYSA-N', 'JLKIGFTWXXRPMT-UHFFFAOYSA-N',\n",
       "       'SEEPANYCNGTZFQ-UHFFFAOYSA-N', 'FKENQMMABCRJMK-UHFFFAOYSA-N',\n",
       "       'ZSJLQEPLLKMAKR-UHFFFAOYSA-N', 'UCSJYZPVAKXKNQ-UHFFFAOYSA-N',\n",
       "       'HCXVJBMSMIARIN-CMDGGOBGSA-N', 'LXMSZDCAJNLERA-UHFFFAOYSA-N',\n",
       "       'PLQDGTZICFBBSO-HTQBMWMVSA-N', 'UNFWWIHTNXNPBV-UHFFFAOYSA-N',\n",
       "       'RYMZZMVNJRMUDD-UHFFFAOYSA-N', 'VGKDLMBJGBXTGI-UHFFFAOYSA-N',\n",
       "       'INVGWHRKADIJHF-UHFFFAOYSA-N', 'NDVASEGYNIMXJL-UHFFFAOYSA-N',\n",
       "       'RXZBMPWDPOLZGW-FEMONOMJSA-N', 'BPRHUIZQVSMCRT-MDZDMXLPSA-N',\n",
       "       'DOUMFZQKYFQNTF-ZZXKWVIFSA-N', 'QEAOELIJQRYJJS-UHFFFAOYSA-N',\n",
       "       'JQXXHWHPUNPDRT-DUAWBEPNSA-N', 'ZWBTYMGEBZUQTK-MNWFVYFNSA-N',\n",
       "       'QEVHRUUCFGRFIF-UHFFFAOYSA-N', 'PPKJUHVNTMYXOD-CKTFPGDTSA-N',\n",
       "       'REFJWTPEDVJJIY-UHFFFAOYSA-N', 'WQGWDDDVZFFDIG-UHFFFAOYSA-N',\n",
       "       'YNCMLFHHXWETLD-UHFFFAOYSA-N', 'RXWNCPJZOCPEPQ-UHFFFAOYSA-N',\n",
       "       'MINDHVHHQZYEEK-DTQAZKPQSA-N', 'PWWVAXIEGOYWEE-UHFFFAOYSA-N',\n",
       "       'JIVSXRLRGOICGA-UHFFFAOYSA-N', 'MFDFERRIHVXMIY-UHFFFAOYSA-N',\n",
       "       'WQVJHHACXVLGBL-UHFFFAOYSA-N', 'KFEFLPDKISUVNR-ZZXKWVIFSA-N',\n",
       "       'MXXWOMGUGJBKIW-YPCIICBESA-N', 'LITBAYYWXZOHAW-UHFFFAOYSA-N',\n",
       "       'IVBHGBMCVLDMKU-UHFFFAOYSA-N', 'VGEREEWJJVICBM-UHFFFAOYSA-N',\n",
       "       'MCXUNHQDOJGJDG-UHFFFAOYSA-N', 'ICFJFFQQTFMIBG-UHFFFAOYSA-N',\n",
       "       'XDRYMKDFEDOLFX-UHFFFAOYSA-N', 'QJYNZEYHSMRWBK-UHFFFAOYSA-N',\n",
       "       'JGSARLDLIJGVTE-UHFFFAOYSA-N', 'FHFYDNQZQSQIAI-UHFFFAOYSA-N',\n",
       "       'AHOUBRCZNHFOSL-UHFFFAOYSA-N', 'INFDPOAKFNIJBF-UHFFFAOYSA-N',\n",
       "       'JMUPNNYLJGSMPK-UHFFFAOYSA-N', 'UWYHMGVUTGAWSP-UHFFFAOYSA-N',\n",
       "       'LNOHXHDWGCMVCO-UHFFFAOYSA-N', 'GSDSWSVVBLHKDQ-UHFFFAOYSA-N',\n",
       "       'YJQPYGGHQPGBLI-UHFFFAOYSA-N', 'OGJPXUAPXNRGGI-UHFFFAOYSA-N',\n",
       "       'HCZKYJDFEPMADG-UHFFFAOYSA-N', 'RMIXHJPMNBXMBU-UHFFFAOYSA-N',\n",
       "       'NXFQHRVNIOXGAQ-YCRREMRBSA-N', 'VKQFCGNPDRICFG-UHFFFAOYSA-N',\n",
       "       'NVNLLIYOARQCIX-JADBQDFBSA-N', 'DANUORFCFTYTSZ-UHFFFAOYSA-N',\n",
       "       'CIDUJQMULVCIBT-UHFFFAOYSA-N', 'OIXVKQDWLFHVGR-UHFFFAOYSA-N',\n",
       "       'PGBHMTALBVVCIT-UHFFFAOYSA-N', 'MHWLWQUZZRMNGJ-UHFFFAOYSA-N',\n",
       "       'PWKSKIMOESPYIA-UHFFFAOYSA-N', 'UAHWPYUMFXYFJY-UHFFFAOYSA-N',\n",
       "       'FABPRXSRWADJSP-UHFFFAOYSA-N', 'XFFOMNJIDRDDLQ-UHFFFAOYSA-N',\n",
       "       'NWIBSHFKIJFRCO-UHFFFAOYSA-N', 'FFTVPQUHLQBXQZ-UHFFFAOYSA-N',\n",
       "       'BYBLEWFAAKGYCD-UHFFFAOYSA-N', 'YPBATNHYBCGSSN-UHFFFAOYSA-N',\n",
       "       'VAOCPAMSLUNLGC-UHFFFAOYSA-N', 'HTMIBDQKFHUPSX-UHFFFAOYSA-N',\n",
       "       'XZWYZXLIPXDOLR-UHFFFAOYSA-N', 'DMJNNHOOLUXYBV-UHFFFAOYSA-N',\n",
       "       'NFLGAXVYCFJBMK-UHFFFAOYSA-N', 'XEEQGYMUWCZPDN-UHFFFAOYSA-N',\n",
       "       'VJOBNGRIBLNUKN-UHFFFAOYSA-N', 'BWWVAEOLVKTZFQ-CXUHLZMHSA-N',\n",
       "       'BPFYOAJNDMUVBL-UHFFFAOYSA-N', 'RDOIQAHITMMDAJ-UHFFFAOYSA-N',\n",
       "       'ZEKZLJVOYLTDKK-UHFFFAOYSA-N', 'ZSKVGTPCRGIANV-UHFFFAOYSA-N',\n",
       "       'FURUXTVZLHCCNA-UHFFFAOYSA-N', 'TYZROVQLWOKYKF-UHFFFAOYSA-N',\n",
       "       'OJMMVQQUTAEWLP-UHFFFAOYSA-N', 'IQVQXVFMNOFTMU-DHZHZOJOSA-N',\n",
       "       'VRQVVMDWGGWHTJ-UHFFFAOYSA-N', 'OBGBGHKYJAOXRR-UHFFFAOYSA-N',\n",
       "       'POULHZVOKOAJMA-UHFFFAOYSA-N', 'GKQPCPXONLDCMU-CCEZHUSRSA-N',\n",
       "       'APPXYONGBIXGRO-UHFFFAOYSA-N', 'XMAYWYJOQHXEEK-UHFFFAOYSA-N',\n",
       "       'SBUJHOSQTJFQJX-UHFFFAOYSA-N', 'VHVPQPYKVGDNFY-UHFFFAOYSA-N',\n",
       "       'QRXWMOHMRWLFEY-UHFFFAOYSA-N', 'DXDRHHKMWQZJHT-FPYGCLRLSA-N',\n",
       "       'YDOIFHVUBCIUHF-UHFFFAOYSA-N', 'MVTIDDWEBUVRRW-UHFFFAOYSA-N',\n",
       "       'FEPAFOYQTIEEIS-UHFFFAOYSA-N', 'IUAYMJGZBVDSGL-UHFFFAOYSA-N',\n",
       "       'LPLVUJXQOOQHMX-UHFFFAOYSA-N', 'WIGIZIANZCJQQY-UHFFFAOYSA-N',\n",
       "       'PZFAZQUREQIODZ-UHFFFAOYSA-N', 'CEAZRRDELHUEMR-UHFFFAOYSA-N',\n",
       "       'XUBOMFCQGDBHNK-UHFFFAOYSA-N', 'VFPFQHQNJCMNBZ-UHFFFAOYSA-N',\n",
       "       'LNTHITQWFMADLM-UHFFFAOYSA-N', 'IECPWNUMDGFDKC-QOMWVZHYSA-N',\n",
       "       'RTHCYVBBDHJXIQ-UHFFFAOYSA-N', 'OTOXYYMXFXPZII-UHFFFAOYSA-N',\n",
       "       'GJXWDTUCERCKIX-UHFFFAOYSA-N', 'YMDXZJFXQJVXBF-UHFFFAOYSA-N',\n",
       "       'IOVDQEIIMOZNNA-MHKBYHAFSA-N', 'XRECTZIEBJDKEO-UHFFFAOYSA-N',\n",
       "       'RFHAOTPXVQNOHP-UHFFFAOYSA-N', 'AYIRNRDRBQJXIF-UHFFFAOYSA-N',\n",
       "       'SYLKGLMBLAAGSC-UHFFFAOYSA-N', 'RRAFCDWBNXTKKO-UHFFFAOYSA-N',\n",
       "       'ZMMJGEGLRURXTF-UHFFFAOYSA-N', 'AEUTYOVWOVBAKS-UHFFFAOYSA-N',\n",
       "       'KTGRHKOEFSJQNS-UHFFFAOYSA-N', 'ULGZDMOVFRHVEP-UHFFFAOYSA-N',\n",
       "       'JUZNIMUFDBIJCM-UHFFFAOYSA-N', 'WMBWREPUVVBILR-UHFFFAOYSA-N',\n",
       "       'XMOCLSLCDHWDHP-UHFFFAOYSA-N', 'COGPRPSWSKLKTF-UHFFFAOYSA-N',\n",
       "       'LSHVYAFMTMFKBA-UHFFFAOYSA-N', 'PFTAWBLQPZVEMU-UHFFFAOYSA-N',\n",
       "       'KCXVZYZYPLLWCC-UHFFFAOYSA-N', 'LEZWWPYKPKIXLL-UHFFFAOYSA-N',\n",
       "       'UHHHTIKWXBRCLT-UHFFFAOYSA-N', 'SGKRLCUYIXIAHR-UHFFFAOYSA-N',\n",
       "       'AOJJSUZBOXZQNB-UHFFFAOYSA-N', 'AVAACINZEOAHHE-UHFFFAOYSA-N',\n",
       "       'AUZONCFQVSMFAP-UHFFFAOYSA-N', 'ZZVUWRFHKOJYTH-UHFFFAOYSA-N',\n",
       "       'DCOPUUMXTXDBNB-UHFFFAOYSA-N', 'UBAXRAHSPKWNCX-UHFFFAOYSA-N',\n",
       "       'RMKCQUWJDRTEHE-UHFFFAOYSA-N', 'GYLUFQJZYAJQDI-UHFFFAOYSA-N',\n",
       "       'RMCMHUFPMHONOO-UHFFFAOYSA-N', 'DYDCUQKUCUHJBH-UHFFFAOYSA-N',\n",
       "       'DOAKLVKFURWEDJ-UHFFFAOYSA-N', 'WENNXORDXYGDTP-UHFFFAOYSA-N',\n",
       "       'VFLDPWHFBUODDF-FCXRPNKRSA-N', 'YDYLISNLJUDIGF-UHFFFAOYSA-N',\n",
       "       'DYYYQLXAGIXUGM-AUWJEWJLSA-N', 'GPLGAQQQNWMVMM-UHFFFAOYSA-N',\n",
       "       'ARWLUFSLVSQRNF-UHFFFAOYSA-N', 'YKQOSKADJPQZHB-UHFFFAOYSA-N',\n",
       "       'DWHGNUUWCJZQHO-KYAHNWJWSA-M', 'UDTUCCXZNVRBEJ-UHFFFAOYSA-N',\n",
       "       'VNFPBHJOKIVQEB-UHFFFAOYSA-N', 'UNPLRYRWJLTVAE-UHFFFAOYSA-N',\n",
       "       'DGBIGWXXNGSACT-UHFFFAOYSA-N', 'WDQPAMHFFCXSNU-BGABXYSRSA-N',\n",
       "       'KDLRVYVGXIQJDK-UHFFFAOYSA-N', 'JCLGYRJNZLPPGX-UHFFFAOYSA-N',\n",
       "       'HZZVJAQRINQKSD-RJRFIUFISA-N', 'AGOYDEPGAOXOCK-UHFFFAOYSA-N',\n",
       "       'WTEVQBCEXWBHNA-JXMROGBWSA-N', 'WSEQXVZVJXJVFP-UHFFFAOYSA-N',\n",
       "       'MYSWGUAQZAJSOK-UHFFFAOYSA-N', 'SCKYRAXSEDYPSA-UHFFFAOYSA-N',\n",
       "       'BHQCQFFYRZLCQQ-UHFFFAOYSA-N', 'ZPEIMTDSQAKGNT-UHFFFAOYSA-N',\n",
       "       'YZIYKJHYYHPJIB-UHFFFAOYSA-N', 'GHXZTYHSJHQHIJ-UHFFFAOYSA-N',\n",
       "       'MSIJLVMSKDXAQN-UHFFFAOYSA-N', 'WIIZWVCIJKGZOK-UHFFFAOYSA-N',\n",
       "       'KSEBMYQBYZTDHS-HWKANZROSA-N', 'QAIPRVGONGVQAS-DUXPYHPUSA-N',\n",
       "       'FQYBTYFKOHPWQT-UHFFFAOYSA-N', 'RUDATBOHQWOJDD-UHFFFAOYSA-N',\n",
       "       'GVEZIHKRYBHEFX-ZIMISOLQSA-N', 'VUFGUVLLDPOSBC-UHFFFAOYSA-M',\n",
       "       'ZAIPMKNFIOOWCQ-UHFFFAOYSA-N', 'JFPVXVDWJQMJEE-OCKHKDLRSA-N',\n",
       "       'VAAUVRVFOQPIGI-KTZMUZOWSA-N', 'ZBHXIWJRIFEVQY-KSEXSDGBSA-N',\n",
       "       'LVFGWOQWXQLVRO-BQHDHOAWSA-N', 'ORFOPKXBNMVMKC-ZMFRSBBQSA-N',\n",
       "       'RDLPVSKMFDYCOR-UHFFFAOYSA-N', 'WZOZEZRFJCJXNZ-UHFFFAOYSA-N',\n",
       "       'AZZMGZXNTDTSME-NFLPFLSFSA-M', 'GPRBEKHLDVQUJE-AWQFTUOYSA-N',\n",
       "       'GCFBRXLSHGKWDP-UHFFFAOYSA-N', 'SNBUBQHDYVFSQF-UHFFFAOYSA-N',\n",
       "       'IPYWNMVPZOAFOQ-XGJQVJSISA-N', 'HVFLCNVBZFFHBT-FSJBWODESA-N',\n",
       "       'MLYYVTUWGNIJIB-UHFFFAOYSA-N', 'QYIYFLOTGYLRGG-UHFFFAOYSA-N',\n",
       "       'UGTJLJZQQFGTJD-UHFFFAOYSA-N', 'JYIKNQVWKBUSNH-UHFFFAOYSA-N',\n",
       "       'RECUKUPTGUEGMW-UHFFFAOYSA-N', 'FPPNZSSZRUTDAP-UHFFFAOYSA-N',\n",
       "       'RYYVLZVUVIJVGH-UHFFFAOYSA-N', 'WMBOCUXXNSOQHM-FLIBITNWSA-N',\n",
       "       'SWLMUYACZKCSHZ-UHFFFAOYSA-N', 'OYVAGSVQBOHSSS-UHFFFAOYSA-O',\n",
       "       'RGZSQWQPBWRIAQ-UHFFFAOYSA-N', 'WUADCCWRTIWANL-UHFFFAOYSA-N',\n",
       "       'IONFEFOVMAIGGC-UHFFFAOYSA-N', 'NBGQZFQREPIKMG-UHFFFAOYSA-N',\n",
       "       'QFFGVLORLPOAEC-UHFFFAOYSA-N', 'YBHILYKTIRIUTE-UHFFFAOYSA-N',\n",
       "       'UMISEVUFAORUTM-UHFFFAOYSA-M', 'VVZBFOKBSDGVGZ-UHFFFAOYSA-N',\n",
       "       'CLKOFPXJLQSYAH-UHFFFAOYSA-N', 'WZPBZJONDBGPKJ-CAOOACKPSA-N',\n",
       "       'JTWOMNBEOCYFNV-UHFFFAOYSA-N', 'MQTOSJVFKKJCRP-UHFFFAOYSA-N',\n",
       "       'HBOMLICNUCNMMY-UHFFFAOYSA-N', 'XUKUURHRXDUEBC-UHFFFAOYSA-N',\n",
       "       'BSYNRYMUTXBXSQ-UHFFFAOYSA-N', 'CVMHBXYXKYUCML-UHFFFAOYSA-L',\n",
       "       'AVKUERGKIZMTKX-UHFFFAOYSA-N', 'APKFDSVGJQXUKY-QVDADOJXSA-N',\n",
       "       'LSQZJLSUYDQPKJ-UHFFFAOYSA-N', 'ZPBWCRDSRKPIDG-UHFFFAOYSA-N',\n",
       "       'KRMDCWKBEZIMAB-UHFFFAOYSA-N', 'LKCWBDHBTVXHDL-UHFFFAOYSA-N',\n",
       "       'ZOJBYZNEUISWFT-UHFFFAOYSA-N', 'VBJNMXMOMSWRDV-UHFFFAOYSA-N',\n",
       "       'LZTCFLDZLBOLDW-UHFFFAOYSA-O', 'ZAPUISKYQSCYHN-UHFFFAOYSA-N',\n",
       "       'GHASVSINZRGABV-UHFFFAOYSA-N', 'WOVKYSAHUYNSMH-UHFFFAOYSA-N',\n",
       "       'NMUSYJAQQFHJEW-UHFFFAOYSA-N', 'YHQDZJICGQWFHK-UHFFFAOYSA-N',\n",
       "       'UYNFIPLGWJXQJQ-GAYYXQCQSA-N', 'MWBWWFOAEOYUST-UHFFFAOYSA-N',\n",
       "       'FJQZXWCSOKYVLO-UHFFFAOYSA-N', 'FRASJONUBLZVQX-UHFFFAOYSA-N',\n",
       "       'ITWBWJFEJCHKSN-UHFFFAOYSA-N', 'XMGQYMWWDOXHJM-UHFFFAOYSA-N'],\n",
       "      dtype=object)"
      ]
     },
     "execution_count": 15,
     "metadata": {},
     "output_type": "execute_result"
    }
   ],
   "source": [
    "(antibio2['InChIKey'].unique())"
   ]
  }
 ],
 "metadata": {
  "interpreter": {
   "hash": "3218d1e1345bf85c44ac3e3bdb7899973b22b8c207b0aa6281a3c4896a58620c"
  },
  "kernelspec": {
   "display_name": "Python 3.7.11 ('diversedrl')",
   "language": "python",
   "name": "python3"
  },
  "language_info": {
   "codemirror_mode": {
    "name": "ipython",
    "version": 3
   },
   "file_extension": ".py",
   "mimetype": "text/x-python",
   "name": "python",
   "nbconvert_exporter": "python",
   "pygments_lexer": "ipython3",
   "version": "3.7.11"
  },
  "orig_nbformat": 4
 },
 "nbformat": 4,
 "nbformat_minor": 2
}
