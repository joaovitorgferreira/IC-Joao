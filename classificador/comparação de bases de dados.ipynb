{
 "cells": [
  {
   "cell_type": "code",
   "execution_count": 2,
   "metadata": {},
   "outputs": [],
   "source": [
    "from rdkit import Chem\n",
    "from rdkit.Chem import PandasTools\n",
    "import pandas as pd\n",
    "import numpy as np"
   ]
  },
  {
   "cell_type": "markdown",
   "metadata": {},
   "source": [
    "Sanitizando dados do Coconut"
   ]
  },
  {
   "cell_type": "code",
   "execution_count": 3,
   "metadata": {},
   "outputs": [
    {
     "name": "stderr",
     "output_type": "stream",
     "text": [
      "RDKit ERROR: [15:01:32] Explicit valence for atom # 20 C, 6, is greater than permitted\n",
      "RDKit ERROR: [15:01:32] ERROR: Could not sanitize molecule ending on line 53\n",
      "[15:01:32] Explicit valence for atom # 20 C, 6, is greater than permitted\n",
      "[15:01:32] ERROR: Could not sanitize molecule ending on line 53\n",
      "RDKit ERROR: [15:01:32] ERROR: Explicit valence for atom # 20 C, 6, is greater than permitted\n",
      "[15:01:32] ERROR: Explicit valence for atom # 20 C, 6, is greater than permitted\n",
      "[15:01:34] Explicit valence for atom # 3 B, 4, is greater than permitted\n",
      "RDKit ERROR: [15:01:34] Explicit valence for atom # 3 B, 4, is greater than permitted\n",
      "RDKit ERROR: [15:01:34] ERROR: Could not sanitize molecule ending on line 329955\n",
      "[15:01:34] ERROR: Could not sanitize molecule ending on line 329955\n"
     ]
    },
    {
     "name": "stdout",
     "output_type": "stream",
     "text": [
      "CPU times: user 3.77 s, sys: 40 ms, total: 3.81 s\n",
      "Wall time: 3.81 s\n"
     ]
    }
   ],
   "source": [
    "%%time\n",
    "\n",
    "suppl = Chem.SDMolSupplier('coconut_05_2022.sdf')\n",
    "\n",
    "coco = []\n",
    "\n",
    "for mol in suppl:\n",
    "    if type(mol) == Chem.rdchem.Mol:\n",
    "        coco.append(mol.GetPropsAsDict())"
   ]
  },
  {
   "cell_type": "code",
   "execution_count": 4,
   "metadata": {},
   "outputs": [],
   "source": [
    "coconut = pd.DataFrame(coco)"
   ]
  },
  {
   "cell_type": "code",
   "execution_count": 5,
   "metadata": {},
   "outputs": [
    {
     "data": {
      "text/plain": [
       "(4371, 23)"
      ]
     },
     "execution_count": 5,
     "metadata": {},
     "output_type": "execute_result"
    }
   ],
   "source": [
    "coconut.shape"
   ]
  },
  {
   "cell_type": "markdown",
   "metadata": {},
   "source": [
    "Carregando datasets de antibióticos e comparando com o Coconut, usando InChIKey"
   ]
  },
  {
   "cell_type": "code",
   "execution_count": 6,
   "metadata": {},
   "outputs": [],
   "source": [
    "antibio = pd.read_csv('/home/joao/documentos/IC-Joao/classificador/antibio.csv', sep=';', encoding='latin-1')"
   ]
  },
  {
   "cell_type": "code",
   "execution_count": 7,
   "metadata": {},
   "outputs": [
    {
     "data": {
      "text/plain": [
       "0"
      ]
     },
     "execution_count": 7,
     "metadata": {},
     "output_type": "execute_result"
    }
   ],
   "source": [
    "len(set(antibio['InChIKey']).intersection(set(coconut['inchikey'])))"
   ]
  },
  {
   "cell_type": "code",
   "execution_count": 8,
   "metadata": {},
   "outputs": [],
   "source": [
    "antibio2 = pd.read_excel('/home/joao/documentos/IC-Joao/classificador/antibio2.xlsx')"
   ]
  },
  {
   "cell_type": "code",
   "execution_count": 9,
   "metadata": {},
   "outputs": [],
   "source": [
    "antb2 = []\n",
    "\n",
    "for x in antibio2['INCHI']:\n",
    "    try:\n",
    "        antb2.append(Chem.InchiToInchiKey(x))\n",
    "    except:\n",
    "        antb2.append('')\n",
    "\n",
    "\n",
    "antibio2['InChIKey'] = antb2\n",
    "antibio2 = antibio2[antibio2['InChIKey']!='']"
   ]
  },
  {
   "cell_type": "code",
   "execution_count": 10,
   "metadata": {},
   "outputs": [
    {
     "data": {
      "text/plain": [
       "0"
      ]
     },
     "execution_count": 10,
     "metadata": {},
     "output_type": "execute_result"
    }
   ],
   "source": [
    "len((set(coconut['inchikey'])).intersection(set(antibio2['InChIKey'])))"
   ]
  },
  {
   "cell_type": "code",
   "execution_count": 11,
   "metadata": {},
   "outputs": [
    {
     "data": {
      "text/plain": [
       "12"
      ]
     },
     "execution_count": 11,
     "metadata": {},
     "output_type": "execute_result"
    }
   ],
   "source": [
    "len((set(antibio2['InChIKey'])).intersection(set(antibio['InChIKey'])))\n"
   ]
  },
  {
   "cell_type": "markdown",
   "metadata": {},
   "source": [
    "Juntando os dois conjuntos de dados"
   ]
  },
  {
   "cell_type": "code",
   "execution_count": 12,
   "metadata": {},
   "outputs": [
    {
     "data": {
      "text/plain": [
       "Index(['Name', 'SMILES', 'Molecular Formula', 'LogP', 'Molecular Weight',\n",
       "       'HBD', 'HBA', 'TPSA', 'ROTB', 'AROM', 'ALERTS', 'INCHI', 'InChIKey'],\n",
       "      dtype='object')"
      ]
     },
     "execution_count": 12,
     "metadata": {},
     "output_type": "execute_result"
    }
   ],
   "source": [
    "antibio2.columns"
   ]
  },
  {
   "cell_type": "code",
   "execution_count": 13,
   "metadata": {},
   "outputs": [],
   "source": [
    "antibio2a = antibio2[['Name','SMILES','InChIKey']]"
   ]
  },
  {
   "cell_type": "code",
   "execution_count": 14,
   "metadata": {},
   "outputs": [],
   "source": [
    "antibioa = antibio[['Name','SMILES','InChIKey']]"
   ]
  },
  {
   "cell_type": "code",
   "execution_count": 15,
   "metadata": {},
   "outputs": [],
   "source": [
    "frames = [antibioa,antibio2a]\n",
    "antibiotics_list = pd.concat(frames)"
   ]
  },
  {
   "cell_type": "code",
   "execution_count": 16,
   "metadata": {},
   "outputs": [],
   "source": [
    "# Baixei a combinação para excluir as duplicatas manualmente\n",
    "# from pathlib import Path  \n",
    "# filepath = Path('/home/joao/documentos/IC-Joao/classificador/antibioticlist.xlsx')  \n",
    "# filepath.parent.mkdir(parents=True, exist_ok=True)  \n",
    "# antibiotics_list.to_excel(filepath,index=False) "
   ]
  },
  {
   "cell_type": "code",
   "execution_count": 17,
   "metadata": {},
   "outputs": [],
   "source": [
    "#Criei uma variável com as duplicadas e seus indices para saber qual remover\n",
    "dup = antibiotics_list['InChIKey'].duplicated()"
   ]
  },
  {
   "cell_type": "code",
   "execution_count": 18,
   "metadata": {},
   "outputs": [],
   "source": [
    "# Criei um csv para poder visualizar todos os índices\n",
    "# from pathlib import Path  \n",
    "# filepath = Path('/home/joao/documentos/IC-Joao/classificador/dup.csv')  \n",
    "# filepath.parent.mkdir(parents=True, exist_ok=True)  \n",
    "# dup.to_csv(filepath,index=True) "
   ]
  },
  {
   "cell_type": "markdown",
   "metadata": {},
   "source": [
    "Lista de antibióticos combinados, sem duplicatas\n",
    "\n"
   ]
  },
  {
   "cell_type": "code",
   "execution_count": 19,
   "metadata": {},
   "outputs": [],
   "source": [
    "no_double_antib = pd.read_excel('/home/joao/documentos/IC-Joao/classificador/lista-antibioticos-sem-duplicatas.xlsx')"
   ]
  },
  {
   "cell_type": "code",
   "execution_count": 20,
   "metadata": {},
   "outputs": [
    {
     "name": "stdout",
     "output_type": "stream",
     "text": [
      "0\n"
     ]
    }
   ],
   "source": [
    "#Conferindo se não há duplicatas\n",
    "y = 0\n",
    "for x in no_double_antib['InChIKey'].duplicated():\n",
    "    if x is True:\n",
    "        y = y + 1\n",
    "print(y)\n"
   ]
  },
  {
   "cell_type": "code",
   "execution_count": 21,
   "metadata": {},
   "outputs": [
    {
     "data": {
      "text/plain": [
       "(482, 3)"
      ]
     },
     "execution_count": 21,
     "metadata": {},
     "output_type": "execute_result"
    }
   ],
   "source": [
    "no_double_antib.shape"
   ]
  },
  {
   "cell_type": "code",
   "execution_count": 22,
   "metadata": {},
   "outputs": [
    {
     "data": {
      "text/plain": [
       "(4371, 23)"
      ]
     },
     "execution_count": 22,
     "metadata": {},
     "output_type": "execute_result"
    }
   ],
   "source": [
    "coconut.shape"
   ]
  },
  {
   "cell_type": "code",
   "execution_count": 23,
   "metadata": {},
   "outputs": [],
   "source": [
    "#Falta verificar manualmente se todas as moléculas são efetivamente antibióticos"
   ]
  },
  {
   "cell_type": "markdown",
   "metadata": {},
   "source": [
    "Adicionando coluna de 1 para indicar a classe de antibiótico"
   ]
  },
  {
   "cell_type": "code",
   "execution_count": 24,
   "metadata": {},
   "outputs": [],
   "source": [
    "one = np.ones(482,dtype=int)\n",
    "no_double_antib['Classe'] = one"
   ]
  },
  {
   "cell_type": "markdown",
   "metadata": {},
   "source": [
    "Adicionando a coluna de 0 para indicar a classe de não antibiótico\n"
   ]
  },
  {
   "cell_type": "code",
   "execution_count": 25,
   "metadata": {},
   "outputs": [],
   "source": [
    "zero = np.zeros(4371, dtype=int)\n",
    "coconut['Classe'] = zero"
   ]
  },
  {
   "cell_type": "markdown",
   "metadata": {},
   "source": [
    "Juntando os dados de antibióticos e não antibióticos"
   ]
  },
  {
   "cell_type": "code",
   "execution_count": 26,
   "metadata": {},
   "outputs": [
    {
     "data": {
      "text/plain": [
       "Index(['coconut_id', 'inchi', 'inchikey', 'SMILES', 'sugar_free_smiles',\n",
       "       'molecular_formula', 'molecular_weight', 'citationDOI', 'textTaxa',\n",
       "       'name', 'synonyms', 'NPL_score', 'number_of_carbons',\n",
       "       'number_of_nitrogens', 'number_of_oxygens', 'number_of_rings',\n",
       "       'total_atom_number', 'bond_count', 'found_in_databases',\n",
       "       'murko_framework', 'alogp', 'apol', 'topoPSA', 'Classe'],\n",
       "      dtype='object')"
      ]
     },
     "execution_count": 26,
     "metadata": {},
     "output_type": "execute_result"
    }
   ],
   "source": [
    "coconut.columns"
   ]
  },
  {
   "cell_type": "code",
   "execution_count": 27,
   "metadata": {},
   "outputs": [],
   "source": [
    "coconut_renamed = coconut.rename(columns = {'name':'Name','inchikey':'InChIKey'})"
   ]
  },
  {
   "cell_type": "code",
   "execution_count": 28,
   "metadata": {},
   "outputs": [],
   "source": [
    "coconut2 = coconut_renamed[['Name','SMILES','InChIKey','Classe']]"
   ]
  },
  {
   "cell_type": "code",
   "execution_count": 29,
   "metadata": {},
   "outputs": [],
   "source": [
    "final_dataset = pd.concat([no_double_antib, coconut_renamed[['Name','SMILES','InChIKey','Classe']]])"
   ]
  },
  {
   "cell_type": "code",
   "execution_count": 30,
   "metadata": {},
   "outputs": [],
   "source": [
    "from pathlib import Path  \n",
    "filepath = Path('/home/joao/documentos/IC-Joao/classificador/final_data_classifier.csv')  \n",
    "filepath.parent.mkdir(parents=True, exist_ok=True)  \n",
    "final_dataset.to_csv(filepath,index=True)"
   ]
  },
  {
   "cell_type": "code",
   "execution_count": 31,
   "metadata": {},
   "outputs": [],
   "source": [
    "new = pd.read_csv('/home/joao/documentos/IC-Joao/classificador/ligands_AntiBac.csv')"
   ]
  },
  {
   "cell_type": "code",
   "execution_count": 32,
   "metadata": {},
   "outputs": [],
   "source": [
    "antibionew = new[['Name','SMILES','InChIKey']]"
   ]
  },
  {
   "cell_type": "code",
   "execution_count": 33,
   "metadata": {},
   "outputs": [
    {
     "data": {
      "text/plain": [
       "(305, 3)"
      ]
     },
     "execution_count": 33,
     "metadata": {},
     "output_type": "execute_result"
    }
   ],
   "source": [
    "antibionew.shape"
   ]
  },
  {
   "cell_type": "code",
   "execution_count": 34,
   "metadata": {},
   "outputs": [
    {
     "name": "stderr",
     "output_type": "stream",
     "text": [
      "/home/joao/anaconda3/envs/diversedrl/lib/python3.7/site-packages/ipykernel_launcher.py:2: SettingWithCopyWarning: \n",
      "A value is trying to be set on a copy of a slice from a DataFrame.\n",
      "Try using .loc[row_indexer,col_indexer] = value instead\n",
      "\n",
      "See the caveats in the documentation: https://pandas.pydata.org/pandas-docs/stable/user_guide/indexing.html#returning-a-view-versus-a-copy\n",
      "  \n"
     ]
    }
   ],
   "source": [
    "one = np.ones(305,dtype=int)\n",
    "antibionew['Classe'] = one"
   ]
  },
  {
   "cell_type": "code",
   "execution_count": 35,
   "metadata": {},
   "outputs": [
    {
     "data": {
      "text/plain": [
       "Index(['Name', 'SMILES', 'InChIKey', 'Classe'], dtype='object')"
      ]
     },
     "execution_count": 35,
     "metadata": {},
     "output_type": "execute_result"
    }
   ],
   "source": [
    "antibionew.columns"
   ]
  },
  {
   "cell_type": "code",
   "execution_count": 36,
   "metadata": {},
   "outputs": [],
   "source": [
    "final_dataset2 = pd.concat([antibionew, coconut_renamed[['Name','SMILES','InChIKey','Classe']]])"
   ]
  },
  {
   "cell_type": "code",
   "execution_count": 37,
   "metadata": {},
   "outputs": [],
   "source": [
    "from pathlib import Path  \n",
    "filepath = Path('/home/joao/documentos/IC-Joao/classificador/final_data_classifier2.csv')  \n",
    "filepath.parent.mkdir(parents=True, exist_ok=True)  \n",
    "final_dataset2.to_csv(filepath,index=True)"
   ]
  },
  {
   "cell_type": "code",
   "execution_count": 38,
   "metadata": {},
   "outputs": [],
   "source": [
    "antimalar = pd.read_csv('/home/joao/documentos/IC-Joao/classificador/ligands_AntiMal.csv')"
   ]
  },
  {
   "cell_type": "code",
   "execution_count": 39,
   "metadata": {},
   "outputs": [
    {
     "data": {
      "text/plain": [
       "0"
      ]
     },
     "execution_count": 39,
     "metadata": {},
     "output_type": "execute_result"
    }
   ],
   "source": [
    "len((set(coconut['inchikey'])).intersection(set(antimalar['InChIKey'])))"
   ]
  },
  {
   "cell_type": "code",
   "execution_count": 40,
   "metadata": {},
   "outputs": [],
   "source": [
    "antimalaria= antimalar[['Name','SMILES','InChIKey']]"
   ]
  },
  {
   "cell_type": "code",
   "execution_count": 41,
   "metadata": {},
   "outputs": [
    {
     "name": "stderr",
     "output_type": "stream",
     "text": [
      "/home/joao/anaconda3/envs/diversedrl/lib/python3.7/site-packages/ipykernel_launcher.py:2: SettingWithCopyWarning: \n",
      "A value is trying to be set on a copy of a slice from a DataFrame.\n",
      "Try using .loc[row_indexer,col_indexer] = value instead\n",
      "\n",
      "See the caveats in the documentation: https://pandas.pydata.org/pandas-docs/stable/user_guide/indexing.html#returning-a-view-versus-a-copy\n",
      "  \n"
     ]
    }
   ],
   "source": [
    "one = np.ones(134,dtype=int)\n",
    "antimalaria['Classe'] = one"
   ]
  },
  {
   "cell_type": "code",
   "execution_count": 42,
   "metadata": {},
   "outputs": [],
   "source": [
    "antimalaria_set = pd.concat([antimalaria, coconut_renamed[['Name','SMILES','InChIKey','Classe']]])"
   ]
  },
  {
   "cell_type": "code",
   "execution_count": 43,
   "metadata": {},
   "outputs": [],
   "source": [
    "from pathlib import Path  \n",
    "filepath = Path('/home/joao/documentos/IC-Joao/classificador/antimalaria_set.csv')  \n",
    "filepath.parent.mkdir(parents=True, exist_ok=True)  \n",
    "antimalaria_set.to_csv(filepath,index=True)"
   ]
  },
  {
   "cell_type": "code",
   "execution_count": 44,
   "metadata": {},
   "outputs": [
    {
     "name": "stdout",
     "output_type": "stream",
     "text": [
      "CPU times: user 224 ms, sys: 0 ns, total: 224 ms\n",
      "Wall time: 220 ms\n"
     ]
    },
    {
     "name": "stderr",
     "output_type": "stream",
     "text": [
      "RDKit ERROR: [15:01:34] ERROR: Explicit valence for atom # 3 B, 4, is greater than permitted\n",
      "RDKit ERROR: [15:02:04] Explicit valence for atom # 10 N, 4, is greater than permitted\n",
      "RDKit ERROR: [15:02:04] ERROR: Could not sanitize molecule ending on line 12391\n",
      "[15:01:34] ERROR: Explicit valence for atom # 3 B, 4, is greater than permitted\n",
      "[15:02:04] Explicit valence for atom # 10 N, 4, is greater than permitted\n",
      "[15:02:04] ERROR: Could not sanitize molecule ending on line 12391\n",
      "RDKit ERROR: [15:02:04] ERROR: Explicit valence for atom # 10 N, 4, is greater than permitted\n",
      "[15:02:04] ERROR: Explicit valence for atom # 10 N, 4, is greater than permitted\n",
      "[15:02:04] Explicit valence for atom # 5 N, 4, is greater than permitted\n",
      "RDKit ERROR: [15:02:04] Explicit valence for atom # 5 N, 4, is greater than permitted\n",
      "RDKit ERROR: [15:02:04] ERROR: Could not sanitize molecule ending on line 44741\n",
      "[15:02:04] ERROR: Could not sanitize molecule ending on line 44741\n",
      "RDKit ERROR: [15:02:04] ERROR: Explicit valence for atom # 5 N, 4, is greater than permitted\n",
      "RDKit ERROR: [15:02:04] Explicit valence for atom # 5 N, 4, is greater than permitted\n",
      "RDKit ERROR: [15:02:04] ERROR: Could not sanitize molecule ending on line 46184\n",
      "[15:02:04] ERROR: Explicit valence for atom # 5 N, 4, is greater than permitted\n",
      "[15:02:04] Explicit valence for atom # 5 N, 4, is greater than permitted\n",
      "[15:02:04] ERROR: Could not sanitize molecule ending on line 46184\n",
      "RDKit ERROR: [15:02:04] ERROR: Explicit valence for atom # 5 N, 4, is greater than permitted\n",
      "RDKit ERROR: [15:02:04] Explicit valence for atom # 6 O, 4, is greater than permitted\n",
      "RDKit ERROR: [15:02:04] ERROR: Could not sanitize molecule ending on line 54773\n",
      "[15:02:04] ERROR: Explicit valence for atom # 5 N, 4, is greater than permitted\n",
      "[15:02:04] Explicit valence for atom # 6 O, 4, is greater than permitted\n",
      "[15:02:04] ERROR: Could not sanitize molecule ending on line 54773\n"
     ]
    }
   ],
   "source": [
    "%%time\n",
    "\n",
    "suppl = Chem.SDMolSupplier('coconut_antibiotic.sdf')\n",
    "\n",
    "coco_antib = []\n",
    "\n",
    "for mol in suppl:\n",
    "    if type(mol) == Chem.rdchem.Mol:\n",
    "        coco_antib.append(mol.GetPropsAsDict())"
   ]
  },
  {
   "cell_type": "code",
   "execution_count": 45,
   "metadata": {},
   "outputs": [],
   "source": [
    "coconut_antib = pd.DataFrame(coco_antib)"
   ]
  },
  {
   "cell_type": "code",
   "execution_count": 46,
   "metadata": {},
   "outputs": [
    {
     "data": {
      "text/plain": [
       "Index(['coconut_id', 'SMILES'], dtype='object')"
      ]
     },
     "execution_count": 46,
     "metadata": {},
     "output_type": "execute_result"
    }
   ],
   "source": [
    "coconut_antib.columns"
   ]
  },
  {
   "cell_type": "code",
   "execution_count": 47,
   "metadata": {},
   "outputs": [
    {
     "data": {
      "text/plain": [
       "0"
      ]
     },
     "execution_count": 47,
     "metadata": {},
     "output_type": "execute_result"
    }
   ],
   "source": [
    "len(set(coconut['SMILES']).intersection(set(coconut_antib['SMILES'])))"
   ]
  },
  {
   "cell_type": "code",
   "execution_count": 48,
   "metadata": {},
   "outputs": [
    {
     "data": {
      "text/html": [
       "<div>\n",
       "<style scoped>\n",
       "    .dataframe tbody tr th:only-of-type {\n",
       "        vertical-align: middle;\n",
       "    }\n",
       "\n",
       "    .dataframe tbody tr th {\n",
       "        vertical-align: top;\n",
       "    }\n",
       "\n",
       "    .dataframe thead th {\n",
       "        text-align: right;\n",
       "    }\n",
       "</style>\n",
       "<table border=\"1\" class=\"dataframe\">\n",
       "  <thead>\n",
       "    <tr style=\"text-align: right;\">\n",
       "      <th></th>\n",
       "      <th>coconut_id</th>\n",
       "      <th>inchi</th>\n",
       "      <th>inchikey</th>\n",
       "      <th>SMILES</th>\n",
       "      <th>sugar_free_smiles</th>\n",
       "      <th>molecular_formula</th>\n",
       "      <th>molecular_weight</th>\n",
       "      <th>citationDOI</th>\n",
       "      <th>textTaxa</th>\n",
       "      <th>name</th>\n",
       "      <th>...</th>\n",
       "      <th>number_of_oxygens</th>\n",
       "      <th>number_of_rings</th>\n",
       "      <th>total_atom_number</th>\n",
       "      <th>bond_count</th>\n",
       "      <th>found_in_databases</th>\n",
       "      <th>murko_framework</th>\n",
       "      <th>alogp</th>\n",
       "      <th>apol</th>\n",
       "      <th>topoPSA</th>\n",
       "      <th>Classe</th>\n",
       "    </tr>\n",
       "  </thead>\n",
       "  <tbody>\n",
       "    <tr>\n",
       "      <th>4366</th>\n",
       "      <td>CNP0004980</td>\n",
       "      <td>InChI=1S/C24H28FN5O/c1-14(2)19-9-16(10-23-29-2...</td>\n",
       "      <td>ZBJPKZONOXOXDW-UHFFFAOYSA-N</td>\n",
       "      <td>O=C(NCC1C=C(C)C(CC2=NC=3C=CC(F)=CC3N2)CC1C(C)C...</td>\n",
       "      <td>O=C(NCC1C=C(C)C(CC2=NC=3C=CC(F)=CC3N2)CC1C(C)C...</td>\n",
       "      <td>C24H28FN5O</td>\n",
       "      <td>421.511327</td>\n",
       "      <td>[]</td>\n",
       "      <td>[notax]</td>\n",
       "      <td>N-({4-[(6-fluoro-1H-1,3-benzodiazol-2-yl)methy...</td>\n",
       "      <td>...</td>\n",
       "      <td>1</td>\n",
       "      <td></td>\n",
       "      <td>59</td>\n",
       "      <td>34</td>\n",
       "      <td>[zincnp]</td>\n",
       "      <td>n1ccnc(c1)CNCC2C=CC(Cc3nc4ccccc4[nH]3)CC2</td>\n",
       "      <td>1.2843</td>\n",
       "      <td>67.769204</td>\n",
       "      <td>78.21</td>\n",
       "      <td>0</td>\n",
       "    </tr>\n",
       "    <tr>\n",
       "      <th>4367</th>\n",
       "      <td>CNP0004981</td>\n",
       "      <td>InChI=1S/C23H30FN3O/c1-13(2)19-9-16(10-22-26-2...</td>\n",
       "      <td>UAVNLOQNSFKQBA-UHFFFAOYSA-N</td>\n",
       "      <td>O=C(NCC1C=C(C)C(CC2=NC=3C=CC(F)=CC3N2)CC1C(C)C...</td>\n",
       "      <td>O=C(NCC1C=C(C)C(CC2=NC=3C=CC(F)=CC3N2)CC1C(C)C...</td>\n",
       "      <td>C23H30FN3O</td>\n",
       "      <td>383.503066</td>\n",
       "      <td>[]</td>\n",
       "      <td>[notax]</td>\n",
       "      <td>N-({4-[(6-fluoro-1H-1,3-benzodiazol-2-yl)methy...</td>\n",
       "      <td>...</td>\n",
       "      <td>1</td>\n",
       "      <td></td>\n",
       "      <td>58</td>\n",
       "      <td>31</td>\n",
       "      <td>[zincnp]</td>\n",
       "      <td>n1c2ccccc2[nH]c1CC3C=CC(CNCC4CC4)CC3</td>\n",
       "      <td>2.7660</td>\n",
       "      <td>65.142790</td>\n",
       "      <td>53.49</td>\n",
       "      <td>0</td>\n",
       "    </tr>\n",
       "    <tr>\n",
       "      <th>4368</th>\n",
       "      <td>CNP0004982</td>\n",
       "      <td>InChI=1S/C25H36FN3O/c1-6-17(7-2)25(30)27-14-19...</td>\n",
       "      <td>KDZDAAUYMMCLCJ-UHFFFAOYSA-N</td>\n",
       "      <td>O=C(NCC1C=C(C)C(CC2=NC=3C=CC(F)=CC3N2)CC1C(C)C...</td>\n",
       "      <td>O=C(NCC1C=C(C)C(CC2=NC=3C=CC(F)=CC3N2)CC1C(C)C...</td>\n",
       "      <td>C25H36FN3O</td>\n",
       "      <td>413.572182</td>\n",
       "      <td>[]</td>\n",
       "      <td>[notax]</td>\n",
       "      <td>2-ethyl-N-({4-[(6-fluoro-1H-1,3-benzodiazol-2-...</td>\n",
       "      <td>...</td>\n",
       "      <td>1</td>\n",
       "      <td></td>\n",
       "      <td>66</td>\n",
       "      <td>32</td>\n",
       "      <td>[zincnp]</td>\n",
       "      <td>n1c2ccccc2[nH]c1CC3C=CCCC3</td>\n",
       "      <td>4.0500</td>\n",
       "      <td>72.663548</td>\n",
       "      <td>53.49</td>\n",
       "      <td>0</td>\n",
       "    </tr>\n",
       "    <tr>\n",
       "      <th>4369</th>\n",
       "      <td>CNP0004983</td>\n",
       "      <td>InChI=1S/C21H28FN3O/c1-12(2)18-8-15(13(3)7-16(...</td>\n",
       "      <td>DQNBOIXYERNBME-UHFFFAOYSA-N</td>\n",
       "      <td>O=C(NCC1C=C(C)C(CC2=NC=3C=CC(F)=CC3N2)CC1C(C)C)C</td>\n",
       "      <td>O=C(NCC1C=C(C)C(CC2=NC=3C=CC(F)=CC3N2)CC1C(C)C)C</td>\n",
       "      <td>C21H28FN3O</td>\n",
       "      <td>357.465713</td>\n",
       "      <td>[]</td>\n",
       "      <td>[notax]</td>\n",
       "      <td>N-({4-[(6-fluoro-1H-1,3-benzodiazol-2-yl)methy...</td>\n",
       "      <td>...</td>\n",
       "      <td>1</td>\n",
       "      <td></td>\n",
       "      <td>54</td>\n",
       "      <td>28</td>\n",
       "      <td>[zincnp]</td>\n",
       "      <td>n1c2ccccc2[nH]c1CC3C=CCCC3</td>\n",
       "      <td>2.0082</td>\n",
       "      <td>60.289204</td>\n",
       "      <td>53.49</td>\n",
       "      <td>0</td>\n",
       "    </tr>\n",
       "    <tr>\n",
       "      <th>4370</th>\n",
       "      <td>CNP0004984</td>\n",
       "      <td>InChI=1S/C21H30N2O5/c1-14(2)11-19(25)22-16-5-3...</td>\n",
       "      <td>QMZPBPXBASHTDY-UHFFFAOYSA-N</td>\n",
       "      <td>O=C(NC1=CC=C(C=C1)C2OCC(=O)N(C3CCOCC3)C2CO)CC(C)C</td>\n",
       "      <td>O=C(NC1=CC=C(C=C1)C2OCC(=O)N(C3CCOCC3)C2CO)CC(C)C</td>\n",
       "      <td>C21H30N2O5</td>\n",
       "      <td>390.474107</td>\n",
       "      <td>[]</td>\n",
       "      <td>[notax]</td>\n",
       "      <td>N-{4-[3-(hydroxymethyl)-4-(oxan-4-yl)-5-oxomor...</td>\n",
       "      <td>...</td>\n",
       "      <td>5</td>\n",
       "      <td></td>\n",
       "      <td>58</td>\n",
       "      <td>30</td>\n",
       "      <td>[zincnp]</td>\n",
       "      <td>NaN</td>\n",
       "      <td>NaN</td>\n",
       "      <td>NaN</td>\n",
       "      <td>NaN</td>\n",
       "      <td>0</td>\n",
       "    </tr>\n",
       "  </tbody>\n",
       "</table>\n",
       "<p>5 rows × 24 columns</p>\n",
       "</div>"
      ],
      "text/plain": [
       "      coconut_id                                              inchi  \\\n",
       "4366  CNP0004980  InChI=1S/C24H28FN5O/c1-14(2)19-9-16(10-23-29-2...   \n",
       "4367  CNP0004981  InChI=1S/C23H30FN3O/c1-13(2)19-9-16(10-22-26-2...   \n",
       "4368  CNP0004982  InChI=1S/C25H36FN3O/c1-6-17(7-2)25(30)27-14-19...   \n",
       "4369  CNP0004983  InChI=1S/C21H28FN3O/c1-12(2)18-8-15(13(3)7-16(...   \n",
       "4370  CNP0004984  InChI=1S/C21H30N2O5/c1-14(2)11-19(25)22-16-5-3...   \n",
       "\n",
       "                         inchikey  \\\n",
       "4366  ZBJPKZONOXOXDW-UHFFFAOYSA-N   \n",
       "4367  UAVNLOQNSFKQBA-UHFFFAOYSA-N   \n",
       "4368  KDZDAAUYMMCLCJ-UHFFFAOYSA-N   \n",
       "4369  DQNBOIXYERNBME-UHFFFAOYSA-N   \n",
       "4370  QMZPBPXBASHTDY-UHFFFAOYSA-N   \n",
       "\n",
       "                                                 SMILES  \\\n",
       "4366  O=C(NCC1C=C(C)C(CC2=NC=3C=CC(F)=CC3N2)CC1C(C)C...   \n",
       "4367  O=C(NCC1C=C(C)C(CC2=NC=3C=CC(F)=CC3N2)CC1C(C)C...   \n",
       "4368  O=C(NCC1C=C(C)C(CC2=NC=3C=CC(F)=CC3N2)CC1C(C)C...   \n",
       "4369   O=C(NCC1C=C(C)C(CC2=NC=3C=CC(F)=CC3N2)CC1C(C)C)C   \n",
       "4370  O=C(NC1=CC=C(C=C1)C2OCC(=O)N(C3CCOCC3)C2CO)CC(C)C   \n",
       "\n",
       "                                      sugar_free_smiles molecular_formula  \\\n",
       "4366  O=C(NCC1C=C(C)C(CC2=NC=3C=CC(F)=CC3N2)CC1C(C)C...        C24H28FN5O   \n",
       "4367  O=C(NCC1C=C(C)C(CC2=NC=3C=CC(F)=CC3N2)CC1C(C)C...        C23H30FN3O   \n",
       "4368  O=C(NCC1C=C(C)C(CC2=NC=3C=CC(F)=CC3N2)CC1C(C)C...        C25H36FN3O   \n",
       "4369   O=C(NCC1C=C(C)C(CC2=NC=3C=CC(F)=CC3N2)CC1C(C)C)C        C21H28FN3O   \n",
       "4370  O=C(NC1=CC=C(C=C1)C2OCC(=O)N(C3CCOCC3)C2CO)CC(C)C        C21H30N2O5   \n",
       "\n",
       "      molecular_weight citationDOI textTaxa  \\\n",
       "4366        421.511327          []  [notax]   \n",
       "4367        383.503066          []  [notax]   \n",
       "4368        413.572182          []  [notax]   \n",
       "4369        357.465713          []  [notax]   \n",
       "4370        390.474107          []  [notax]   \n",
       "\n",
       "                                                   name  ...  \\\n",
       "4366  N-({4-[(6-fluoro-1H-1,3-benzodiazol-2-yl)methy...  ...   \n",
       "4367  N-({4-[(6-fluoro-1H-1,3-benzodiazol-2-yl)methy...  ...   \n",
       "4368  2-ethyl-N-({4-[(6-fluoro-1H-1,3-benzodiazol-2-...  ...   \n",
       "4369  N-({4-[(6-fluoro-1H-1,3-benzodiazol-2-yl)methy...  ...   \n",
       "4370  N-{4-[3-(hydroxymethyl)-4-(oxan-4-yl)-5-oxomor...  ...   \n",
       "\n",
       "     number_of_oxygens  number_of_rings  total_atom_number  bond_count  \\\n",
       "4366                 1                                  59          34   \n",
       "4367                 1                                  58          31   \n",
       "4368                 1                                  66          32   \n",
       "4369                 1                                  54          28   \n",
       "4370                 5                                  58          30   \n",
       "\n",
       "      found_in_databases                            murko_framework   alogp  \\\n",
       "4366            [zincnp]  n1ccnc(c1)CNCC2C=CC(Cc3nc4ccccc4[nH]3)CC2  1.2843   \n",
       "4367            [zincnp]       n1c2ccccc2[nH]c1CC3C=CC(CNCC4CC4)CC3  2.7660   \n",
       "4368            [zincnp]                 n1c2ccccc2[nH]c1CC3C=CCCC3  4.0500   \n",
       "4369            [zincnp]                 n1c2ccccc2[nH]c1CC3C=CCCC3  2.0082   \n",
       "4370            [zincnp]                                        NaN     NaN   \n",
       "\n",
       "           apol topoPSA Classe  \n",
       "4366  67.769204   78.21      0  \n",
       "4367  65.142790   53.49      0  \n",
       "4368  72.663548   53.49      0  \n",
       "4369  60.289204   53.49      0  \n",
       "4370        NaN     NaN      0  \n",
       "\n",
       "[5 rows x 24 columns]"
      ]
     },
     "execution_count": 48,
     "metadata": {},
     "output_type": "execute_result"
    }
   ],
   "source": [
    "coconut.tail()"
   ]
  },
  {
   "cell_type": "code",
   "execution_count": 49,
   "metadata": {},
   "outputs": [
    {
     "data": {
      "text/html": [
       "<div>\n",
       "<style scoped>\n",
       "    .dataframe tbody tr th:only-of-type {\n",
       "        vertical-align: middle;\n",
       "    }\n",
       "\n",
       "    .dataframe tbody tr th {\n",
       "        vertical-align: top;\n",
       "    }\n",
       "\n",
       "    .dataframe thead th {\n",
       "        text-align: right;\n",
       "    }\n",
       "</style>\n",
       "<table border=\"1\" class=\"dataframe\">\n",
       "  <thead>\n",
       "    <tr style=\"text-align: right;\">\n",
       "      <th></th>\n",
       "      <th>coconut_id</th>\n",
       "      <th>SMILES</th>\n",
       "    </tr>\n",
       "  </thead>\n",
       "  <tbody>\n",
       "    <tr>\n",
       "      <th>0</th>\n",
       "      <td>CNP0143582</td>\n",
       "      <td>O=C(O)C1=C(SCCNC(=O)C)CC2N1C(=O)C2C(O)C</td>\n",
       "    </tr>\n",
       "    <tr>\n",
       "      <th>1</th>\n",
       "      <td>CNP0222302</td>\n",
       "      <td>O=C(O)C1=C(SC=CN=C(O)C)CC2N1C(=O)C2C(O)C</td>\n",
       "    </tr>\n",
       "    <tr>\n",
       "      <th>2</th>\n",
       "      <td>CNP0150621</td>\n",
       "      <td>O=C(N(C)C1C(O)C(OC(=N)O)C(OC1NC2=NC3C(O)CN=C(O...</td>\n",
       "    </tr>\n",
       "    <tr>\n",
       "      <th>3</th>\n",
       "      <td>CNP0179118</td>\n",
       "      <td>OC(=NC1C(O)C(O)C(OC1CO)OC(C(O)CN)C(N)C(O)CO)CC</td>\n",
       "    </tr>\n",
       "    <tr>\n",
       "      <th>4</th>\n",
       "      <td>CNP0238626</td>\n",
       "      <td>N#CC1=CN(C=2N=CN=C(N)C12)C3OC(CO)C(O)C3O</td>\n",
       "    </tr>\n",
       "  </tbody>\n",
       "</table>\n",
       "</div>"
      ],
      "text/plain": [
       "   coconut_id                                             SMILES\n",
       "0  CNP0143582            O=C(O)C1=C(SCCNC(=O)C)CC2N1C(=O)C2C(O)C\n",
       "1  CNP0222302           O=C(O)C1=C(SC=CN=C(O)C)CC2N1C(=O)C2C(O)C\n",
       "2  CNP0150621  O=C(N(C)C1C(O)C(OC(=N)O)C(OC1NC2=NC3C(O)CN=C(O...\n",
       "3  CNP0179118     OC(=NC1C(O)C(O)C(OC1CO)OC(C(O)CN)C(N)C(O)CO)CC\n",
       "4  CNP0238626           N#CC1=CN(C=2N=CN=C(N)C12)C3OC(CO)C(O)C3O"
      ]
     },
     "execution_count": 49,
     "metadata": {},
     "output_type": "execute_result"
    }
   ],
   "source": [
    "coconut_antib.head()"
   ]
  },
  {
   "cell_type": "code",
   "execution_count": 50,
   "metadata": {},
   "outputs": [
    {
     "data": {
      "text/plain": [
       "(524, 2)"
      ]
     },
     "execution_count": 50,
     "metadata": {},
     "output_type": "execute_result"
    }
   ],
   "source": [
    "coconut_antib.shape"
   ]
  },
  {
   "cell_type": "code",
   "execution_count": 51,
   "metadata": {},
   "outputs": [],
   "source": [
    "one1 = np.ones(524,dtype=int)\n",
    "coconut_antib['Classe'] = one1"
   ]
  },
  {
   "cell_type": "code",
   "execution_count": 53,
   "metadata": {},
   "outputs": [
    {
     "data": {
      "text/html": [
       "<div>\n",
       "<style scoped>\n",
       "    .dataframe tbody tr th:only-of-type {\n",
       "        vertical-align: middle;\n",
       "    }\n",
       "\n",
       "    .dataframe tbody tr th {\n",
       "        vertical-align: top;\n",
       "    }\n",
       "\n",
       "    .dataframe thead th {\n",
       "        text-align: right;\n",
       "    }\n",
       "</style>\n",
       "<table border=\"1\" class=\"dataframe\">\n",
       "  <thead>\n",
       "    <tr style=\"text-align: right;\">\n",
       "      <th></th>\n",
       "      <th>coconut_id</th>\n",
       "      <th>SMILES</th>\n",
       "      <th>Classe</th>\n",
       "    </tr>\n",
       "  </thead>\n",
       "  <tbody>\n",
       "    <tr>\n",
       "      <th>0</th>\n",
       "      <td>CNP0143582</td>\n",
       "      <td>O=C(O)C1=C(SCCNC(=O)C)CC2N1C(=O)C2C(O)C</td>\n",
       "      <td>1</td>\n",
       "    </tr>\n",
       "    <tr>\n",
       "      <th>1</th>\n",
       "      <td>CNP0222302</td>\n",
       "      <td>O=C(O)C1=C(SC=CN=C(O)C)CC2N1C(=O)C2C(O)C</td>\n",
       "      <td>1</td>\n",
       "    </tr>\n",
       "    <tr>\n",
       "      <th>2</th>\n",
       "      <td>CNP0150621</td>\n",
       "      <td>O=C(N(C)C1C(O)C(OC(=N)O)C(OC1NC2=NC3C(O)CN=C(O...</td>\n",
       "      <td>1</td>\n",
       "    </tr>\n",
       "    <tr>\n",
       "      <th>3</th>\n",
       "      <td>CNP0179118</td>\n",
       "      <td>OC(=NC1C(O)C(O)C(OC1CO)OC(C(O)CN)C(N)C(O)CO)CC</td>\n",
       "      <td>1</td>\n",
       "    </tr>\n",
       "    <tr>\n",
       "      <th>4</th>\n",
       "      <td>CNP0238626</td>\n",
       "      <td>N#CC1=CN(C=2N=CN=C(N)C12)C3OC(CO)C(O)C3O</td>\n",
       "      <td>1</td>\n",
       "    </tr>\n",
       "  </tbody>\n",
       "</table>\n",
       "</div>"
      ],
      "text/plain": [
       "   coconut_id                                             SMILES  Classe\n",
       "0  CNP0143582            O=C(O)C1=C(SCCNC(=O)C)CC2N1C(=O)C2C(O)C       1\n",
       "1  CNP0222302           O=C(O)C1=C(SC=CN=C(O)C)CC2N1C(=O)C2C(O)C       1\n",
       "2  CNP0150621  O=C(N(C)C1C(O)C(OC(=N)O)C(OC1NC2=NC3C(O)CN=C(O...       1\n",
       "3  CNP0179118     OC(=NC1C(O)C(O)C(OC1CO)OC(C(O)CN)C(N)C(O)CO)CC       1\n",
       "4  CNP0238626           N#CC1=CN(C=2N=CN=C(N)C12)C3OC(CO)C(O)C3O       1"
      ]
     },
     "execution_count": 53,
     "metadata": {},
     "output_type": "execute_result"
    }
   ],
   "source": [
    "coconut_antib.head()"
   ]
  },
  {
   "cell_type": "code",
   "execution_count": 54,
   "metadata": {},
   "outputs": [],
   "source": [
    "finalset_for_real = pd.concat([coconut_antib, coconut_renamed[['SMILES','Classe']]])"
   ]
  },
  {
   "cell_type": "code",
   "execution_count": null,
   "metadata": {},
   "outputs": [],
   "source": [
    "from pathlib import Path  \n",
    "filepath = Path('/home/joao/documentos/IC-Joao/classificador/finale_ant.csv')  \n",
    "filepath.parent.mkdir(parents=True, exist_ok=True)  \n",
    "finalset_for_real.to_csv(filepath,index=True)"
   ]
  }
 ],
 "metadata": {
  "interpreter": {
   "hash": "3218d1e1345bf85c44ac3e3bdb7899973b22b8c207b0aa6281a3c4896a58620c"
  },
  "kernelspec": {
   "display_name": "Python 3.7.11 ('diversedrl')",
   "language": "python",
   "name": "python3"
  },
  "language_info": {
   "codemirror_mode": {
    "name": "ipython",
    "version": 3
   },
   "file_extension": ".py",
   "mimetype": "text/x-python",
   "name": "python",
   "nbconvert_exporter": "python",
   "pygments_lexer": "ipython3",
   "version": "3.7.11"
  },
  "orig_nbformat": 4
 },
 "nbformat": 4,
 "nbformat_minor": 2
}
