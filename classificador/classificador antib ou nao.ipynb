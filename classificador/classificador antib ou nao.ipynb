{
 "cells": [
  {
   "cell_type": "code",
   "execution_count": 2,
   "metadata": {},
   "outputs": [],
   "source": [
    "import pandas as pd\n",
    "import numpy as np\n",
    "import matplotlib.pyplot as plt\n",
    "import seaborn as sns\n",
    "\n",
    "plt.style.use('ggplot') # make plots look better"
   ]
  },
  {
   "cell_type": "code",
   "execution_count": 3,
   "metadata": {},
   "outputs": [],
   "source": [
    "df = pd.read_csv('/home/joao/documentos/IC-Joao/classificador/data_teste.csv',sep=';', encoding='latin-1')"
   ]
  },
  {
   "cell_type": "code",
   "execution_count": 4,
   "metadata": {},
   "outputs": [],
   "source": [
    "labels = np.asarray(df.Classe)"
   ]
  },
  {
   "cell_type": "code",
   "execution_count": null,
   "metadata": {},
   "outputs": [],
   "source": [
    "labels"
   ]
  },
  {
   "cell_type": "code",
   "execution_count": 5,
   "metadata": {},
   "outputs": [],
   "source": [
    "from sklearn.preprocessing import LabelEncoder\n",
    "le = LabelEncoder()\n",
    "le.fit(labels)\n",
    "\n",
    "# apply encoding to labels\n",
    "labels = le.transform(labels)"
   ]
  },
  {
   "cell_type": "code",
   "execution_count": null,
   "metadata": {},
   "outputs": [],
   "source": [
    "labels"
   ]
  },
  {
   "cell_type": "code",
   "execution_count": 6,
   "metadata": {},
   "outputs": [],
   "source": [
    "atoms = [\n",
    "         'H','B', 'C', 'N', 'O', 'P', 'S', 'F', 'Cl', 'Br', 'I','Na','Li','Ca','Al','Ag','Se','Mg','K','Zn'\n",
    "        ]\n",
    "\n",
    "special = [\n",
    "        '(', ')', '[', ']', '=', '#', '@', '*', '%', '0', '1', '2',\n",
    "        '3', '4', '5', '6', '7', '8', '9', '.', '/', '\\\\', '+', '-',\n",
    "         'c', 'n', 'o', 's','p'\n",
    "        ]\n",
    "\n",
    "padding = ['G', 'A', 'E'] #Go, Padding ,End\n",
    "table = sorted(atoms, key=len, reverse=True) + special + padding\n",
    "table_len = len(table)"
   ]
  },
  {
   "cell_type": "code",
   "execution_count": 7,
   "metadata": {},
   "outputs": [],
   "source": [
    "def tokenize(smiles):\n",
    "    N = len(smiles)\n",
    "    i = 0\n",
    "    j= 0\n",
    "    token = []\n",
    "    while (i < N):\n",
    "        for j in range(table_len):\n",
    "            symbol = table[j]\n",
    "            if symbol == smiles[i:i + len(symbol)]:\n",
    "                token.append(symbol)\n",
    "                i += len(symbol)\n",
    "                break\n",
    "    return token\n",
    "\n",
    "def one_hot_encode(trans_char): #create one hot encode table\n",
    "    transl_one_hot = {} #create dictionary\n",
    "    for i, char in enumerate(table): #create one hot encode vector for each character\n",
    "        lista = np.zeros(table_len) #create zero list for each char\n",
    "        lista[i] = 1 #set 1 on the correct position\n",
    "        transl_one_hot[char] = lista #save list in dictionary\n",
    "\n",
    "    result = np.array([transl_one_hot[s] for s in trans_char]) #find the vector corresponding to the character\n",
    "    result = result.reshape(1, result.shape[0], result.shape[1])\n",
    "    #print(\"\\nTransl_one_hot:\\n\",transl_one_hot,\"\\n\")\n",
    "    return result, transl_one_hot"
   ]
  },
  {
   "cell_type": "code",
   "execution_count": null,
   "metadata": {},
   "outputs": [],
   "source": [
    "a,b = one_hot_encode(token)"
   ]
  },
  {
   "cell_type": "code",
   "execution_count": 9,
   "metadata": {},
   "outputs": [],
   "source": [
    "df_selected = df.drop([\"Classe\"], axis=1)"
   ]
  },
  {
   "cell_type": "code",
   "execution_count": null,
   "metadata": {},
   "outputs": [],
   "source": [
    "set(df_selected.Smiles.values)"
   ]
  },
  {
   "cell_type": "code",
   "execution_count": null,
   "metadata": {},
   "outputs": [],
   "source": [
    "df_selected.Smiles[502]"
   ]
  },
  {
   "cell_type": "code",
   "execution_count": null,
   "metadata": {},
   "outputs": [],
   "source": [
    "array = []\n",
    "x = 0\n",
    "\n",
    "while x<len(df_selected.Smiles):\n",
    "    array.append(one_hot_encode(tokenize(df_selected.Smiles[x])))\n",
    "    x = x+1\n",
    "    print(x)\n",
    "print(array)\n",
    "\n"
   ]
  },
  {
   "cell_type": "code",
   "execution_count": 11,
   "metadata": {},
   "outputs": [],
   "source": [
    "x = 0\n",
    "longest_smile = '0'\n",
    "\n",
    "while x<len(df_selected.Smiles):\n",
    "    if len(df_selected.Smiles[x])>len(longest_smile):\n",
    "        longest_smile = df_selected.Smiles[x]\n",
    "    else:\n",
    "        longest_smile = longest_smile\n",
    "    x = x+1    \n",
    "    \n",
    "\n"
   ]
  },
  {
   "cell_type": "code",
   "execution_count": 16,
   "metadata": {},
   "outputs": [],
   "source": [
    "padding = 'A'\n",
    "lista_padding = []\n",
    "y = 0\n",
    "\n",
    "while y<len(df_selected.Smiles):\n",
    "    if len(df_selected.Smiles[y])<len(longest_smile):\n",
    "        lista_padding.append(df_selected.Smiles[y].rjust(len(longest_smile),padding))\n",
    "    y = y+1"
   ]
  },
  {
   "cell_type": "code",
   "execution_count": null,
   "metadata": {},
   "outputs": [],
   "source": [
    "from sklearn.model_selection import train_test_split\n",
    "\n",
    "smiles_train, smiles_test, labels_train, labels_test = train_test_split(\n",
    "    array, labels, \n",
    "    test_size=0.30, random_state=42)"
   ]
  },
  {
   "cell_type": "code",
   "execution_count": 18,
   "metadata": {},
   "outputs": [
    {
     "name": "stdout",
     "output_type": "stream",
     "text": [
      "AAAAAAAAAAAAAAAAAAAAAAAAAAAAAAAAAAAAAAAAAAAAAAAAAAAAAAAAAAAAAAAAAAAAAAAAAAAAAAAAAAAAAAAAAAAAAAAAAAAAAAAAAAAAAAAAAAAAAAAAAAAAAAAAAAAAAAAAAAAAAAAAAAAAAAAAAAAAAAAAAAAAAAAAAAAAAAAAAAAAAAAAAAAAAAAAAAAAAAAAAAAAAAAAAAAAAAAAAAAAAAAAAAAAAAAAAAAAAAAAAAAAAAACC[C@H]1OC(=O)[C@H](C)C(=O)[C@H](C)[C@@H](O[C@@H]2O[C@H](C)C[C@H](N(C)C)[C@H]2O)[C@](C)(OC)C[C@@H](C)C(=O)[C@H](C)[C@H]2N(CCCCn3cnc(-c4cccnc4)c3)C(=O)O[C@]12C\n"
     ]
    }
   ],
   "source": [
    "print(lista_padding[0])"
   ]
  },
  {
   "cell_type": "code",
   "execution_count": null,
   "metadata": {},
   "outputs": [],
   "source": [
    "from sklearn.ensemble import RandomForestClassifier\n",
    "\n",
    "# initialize\n",
    "clf = RandomForestClassifier()\n",
    "\n",
    "# train the classifier using the training data\n",
    "clf.fit(smiles_train, labels_train)"
   ]
  },
  {
   "cell_type": "code",
   "execution_count": null,
   "metadata": {},
   "outputs": [],
   "source": [
    "acc_test = clf.score(smiles_test, labels_test)\n",
    "\n",
    "print (\"Test Accuracy:\", acc_test)\n"
   ]
  },
  {
   "cell_type": "code",
   "execution_count": null,
   "metadata": {},
   "outputs": [],
   "source": [
    "molecule = vec.fit_transform('CCn1cc(C(=O)O)c(=O)c2ccc(C)nc21').toarray()\n",
    "class_code = clf.predict(molecule)"
   ]
  },
  {
   "cell_type": "code",
   "execution_count": null,
   "metadata": {},
   "outputs": [],
   "source": []
  }
 ],
 "metadata": {
  "interpreter": {
   "hash": "46b936ff1622c326d442b837a2b71fa5dbcf20e52e3a75b5ec5a0d8bfc7f438d"
  },
  "kernelspec": {
   "display_name": "Python 3.8.8 ('base')",
   "language": "python",
   "name": "python3"
  },
  "language_info": {
   "codemirror_mode": {
    "name": "ipython",
    "version": 3
   },
   "file_extension": ".py",
   "mimetype": "text/x-python",
   "name": "python",
   "nbconvert_exporter": "python",
   "pygments_lexer": "ipython3",
   "version": "3.8.8"
  },
  "orig_nbformat": 4
 },
 "nbformat": 4,
 "nbformat_minor": 2
}
