{
 "cells": [
  {
   "cell_type": "code",
   "execution_count": 104,
   "metadata": {},
   "outputs": [],
   "source": [
    "import pandas as pd"
   ]
  },
  {
   "cell_type": "code",
   "execution_count": 105,
   "metadata": {},
   "outputs": [],
   "source": [
    "classificador = pd.read_csv('/home/joao/documentos/IC-Joao/classificador/NPAtlas_download.tsv', index_col=False, sep = '\\t')"
   ]
  },
  {
   "cell_type": "code",
   "execution_count": 106,
   "metadata": {},
   "outputs": [
    {
     "data": {
      "text/html": [
       "<div>\n",
       "<style scoped>\n",
       "    .dataframe tbody tr th:only-of-type {\n",
       "        vertical-align: middle;\n",
       "    }\n",
       "\n",
       "    .dataframe tbody tr th {\n",
       "        vertical-align: top;\n",
       "    }\n",
       "\n",
       "    .dataframe thead th {\n",
       "        text-align: right;\n",
       "    }\n",
       "</style>\n",
       "<table border=\"1\" class=\"dataframe\">\n",
       "  <thead>\n",
       "    <tr style=\"text-align: right;\">\n",
       "      <th></th>\n",
       "      <th>npaid</th>\n",
       "      <th>compound_id</th>\n",
       "      <th>compound_names</th>\n",
       "      <th>compound_molecular_formula</th>\n",
       "      <th>compound_molecular_weight</th>\n",
       "      <th>compound_accurate_mass</th>\n",
       "      <th>compound_m_plus_h</th>\n",
       "      <th>compound_m_plus_na</th>\n",
       "      <th>compound_inchi</th>\n",
       "      <th>compound_inchikey</th>\n",
       "      <th>...</th>\n",
       "      <th>original_reference_doi</th>\n",
       "      <th>original_reference_pmid</th>\n",
       "      <th>original_reference_title</th>\n",
       "      <th>original_reference_type</th>\n",
       "      <th>original_journal_title</th>\n",
       "      <th>reassignment_dois</th>\n",
       "      <th>synthesis_dois</th>\n",
       "      <th>mibig_ids</th>\n",
       "      <th>gnps_ids</th>\n",
       "      <th>npatlas_url</th>\n",
       "    </tr>\n",
       "  </thead>\n",
       "  <tbody>\n",
       "    <tr>\n",
       "      <th>0</th>\n",
       "      <td>NPA000001</td>\n",
       "      <td>1</td>\n",
       "      <td>Curvularide C</td>\n",
       "      <td>C19H37NO5</td>\n",
       "      <td>359.507</td>\n",
       "      <td>359.2672</td>\n",
       "      <td>360.2745</td>\n",
       "      <td>382.2564</td>\n",
       "      <td>InChI=1S/C19H37NO5/c1-7-13(3)16(12-21)20-17(23...</td>\n",
       "      <td>BZLIDAVUQDTJQF-HWTFSWDCSA-N</td>\n",
       "      <td>...</td>\n",
       "      <td>10.1002/chem.201000652</td>\n",
       "      <td>20680940.0</td>\n",
       "      <td>Curvularides A-E: antifungal hybrid peptide-po...</td>\n",
       "      <td>article</td>\n",
       "      <td>Chemistry - A European Journal</td>\n",
       "      <td>[]</td>\n",
       "      <td>[]</td>\n",
       "      <td>[]</td>\n",
       "      <td>[]</td>\n",
       "      <td>https://www.npatlas.org/explore/compounds/NPA0...</td>\n",
       "    </tr>\n",
       "    <tr>\n",
       "      <th>1</th>\n",
       "      <td>NPA000002</td>\n",
       "      <td>2</td>\n",
       "      <td>Homopetasinic acid</td>\n",
       "      <td>C24H32O6</td>\n",
       "      <td>416.514</td>\n",
       "      <td>416.2199</td>\n",
       "      <td>417.2272</td>\n",
       "      <td>439.2091</td>\n",
       "      <td>InChI=1S/C24H32O6/c1-14(2)18-13-24(5)16(4)21(1...</td>\n",
       "      <td>MMWCHIIGAIJQMV-DHCANEKFSA-N</td>\n",
       "      <td>...</td>\n",
       "      <td>10.1016/j.tetlet.2016.01.095</td>\n",
       "      <td>NaN</td>\n",
       "      <td>Homopetasinic acid isolated from Diaporthe sp....</td>\n",
       "      <td>article</td>\n",
       "      <td>Tetrahedron Letters</td>\n",
       "      <td>[]</td>\n",
       "      <td>[]</td>\n",
       "      <td>[]</td>\n",
       "      <td>[]</td>\n",
       "      <td>https://www.npatlas.org/explore/compounds/NPA0...</td>\n",
       "    </tr>\n",
       "    <tr>\n",
       "      <th>2</th>\n",
       "      <td>NPA000003</td>\n",
       "      <td>3</td>\n",
       "      <td>A-503083 F</td>\n",
       "      <td>C18H22N4O13</td>\n",
       "      <td>502.389</td>\n",
       "      <td>502.1183</td>\n",
       "      <td>503.1256</td>\n",
       "      <td>525.1075</td>\n",
       "      <td>InChI=1S/C18H22N4O13/c1-31-9-10(11(13(19)26)34...</td>\n",
       "      <td>RNRCUOCMUNIOMZ-UHFFFAOYSA-N</td>\n",
       "      <td>...</td>\n",
       "      <td>10.7164/antibiotics.57.639</td>\n",
       "      <td>15638324.0</td>\n",
       "      <td>A-503083 A, B, E and F, novel inhibitors of ba...</td>\n",
       "      <td>article</td>\n",
       "      <td>Journal of Antibiotics</td>\n",
       "      <td>[]</td>\n",
       "      <td>[]</td>\n",
       "      <td>['BGC0000288']</td>\n",
       "      <td>[]</td>\n",
       "      <td>https://www.npatlas.org/explore/compounds/NPA0...</td>\n",
       "    </tr>\n",
       "    <tr>\n",
       "      <th>3</th>\n",
       "      <td>NPA000004</td>\n",
       "      <td>4</td>\n",
       "      <td>Aqabamycin E2</td>\n",
       "      <td>C16H11N3O5</td>\n",
       "      <td>325.280</td>\n",
       "      <td>325.0699</td>\n",
       "      <td>326.0772</td>\n",
       "      <td>348.0591</td>\n",
       "      <td>InChI=1S/C16H11N3O5/c20-12-7-6-10(8-11(12)19(2...</td>\n",
       "      <td>NMMDNCZQLOFGES-UHFFFAOYSA-N</td>\n",
       "      <td>...</td>\n",
       "      <td>10.1038/ja.2010.34</td>\n",
       "      <td>20431617.0</td>\n",
       "      <td>Aqabamycins A-G: novel nitro maleimides from a...</td>\n",
       "      <td>article</td>\n",
       "      <td>Journal of Antibiotics</td>\n",
       "      <td>[]</td>\n",
       "      <td>[]</td>\n",
       "      <td>[]</td>\n",
       "      <td>[]</td>\n",
       "      <td>https://www.npatlas.org/explore/compounds/NPA0...</td>\n",
       "    </tr>\n",
       "    <tr>\n",
       "      <th>4</th>\n",
       "      <td>NPA000005</td>\n",
       "      <td>5</td>\n",
       "      <td>Hymenopsin A</td>\n",
       "      <td>C22H32O6</td>\n",
       "      <td>392.492</td>\n",
       "      <td>392.2199</td>\n",
       "      <td>393.2272</td>\n",
       "      <td>415.2091</td>\n",
       "      <td>InChI=1S/C22H32O6/c1-18(10-23)6-3-7-19(2)13-9-...</td>\n",
       "      <td>OYLVOLOSQHRPLK-WRXMSMRBSA-N</td>\n",
       "      <td>...</td>\n",
       "      <td>10.1021/np900613d</td>\n",
       "      <td>19928955.0</td>\n",
       "      <td>Hymenopsins A and B and a macrophorin analogue...</td>\n",
       "      <td>article</td>\n",
       "      <td>Journal of Natural Products</td>\n",
       "      <td>[]</td>\n",
       "      <td>[]</td>\n",
       "      <td>[]</td>\n",
       "      <td>[]</td>\n",
       "      <td>https://www.npatlas.org/explore/compounds/NPA0...</td>\n",
       "    </tr>\n",
       "  </tbody>\n",
       "</table>\n",
       "<p>5 rows × 31 columns</p>\n",
       "</div>"
      ],
      "text/plain": [
       "       npaid  compound_id      compound_names compound_molecular_formula  \\\n",
       "0  NPA000001            1       Curvularide C                  C19H37NO5   \n",
       "1  NPA000002            2  Homopetasinic acid                   C24H32O6   \n",
       "2  NPA000003            3          A-503083 F                C18H22N4O13   \n",
       "3  NPA000004            4       Aqabamycin E2                 C16H11N3O5   \n",
       "4  NPA000005            5        Hymenopsin A                   C22H32O6   \n",
       "\n",
       "   compound_molecular_weight  compound_accurate_mass  compound_m_plus_h  \\\n",
       "0                    359.507                359.2672           360.2745   \n",
       "1                    416.514                416.2199           417.2272   \n",
       "2                    502.389                502.1183           503.1256   \n",
       "3                    325.280                325.0699           326.0772   \n",
       "4                    392.492                392.2199           393.2272   \n",
       "\n",
       "   compound_m_plus_na                                     compound_inchi  \\\n",
       "0            382.2564  InChI=1S/C19H37NO5/c1-7-13(3)16(12-21)20-17(23...   \n",
       "1            439.2091  InChI=1S/C24H32O6/c1-14(2)18-13-24(5)16(4)21(1...   \n",
       "2            525.1075  InChI=1S/C18H22N4O13/c1-31-9-10(11(13(19)26)34...   \n",
       "3            348.0591  InChI=1S/C16H11N3O5/c20-12-7-6-10(8-11(12)19(2...   \n",
       "4            415.2091  InChI=1S/C22H32O6/c1-18(10-23)6-3-7-19(2)13-9-...   \n",
       "\n",
       "             compound_inchikey  ...        original_reference_doi  \\\n",
       "0  BZLIDAVUQDTJQF-HWTFSWDCSA-N  ...        10.1002/chem.201000652   \n",
       "1  MMWCHIIGAIJQMV-DHCANEKFSA-N  ...  10.1016/j.tetlet.2016.01.095   \n",
       "2  RNRCUOCMUNIOMZ-UHFFFAOYSA-N  ...    10.7164/antibiotics.57.639   \n",
       "3  NMMDNCZQLOFGES-UHFFFAOYSA-N  ...            10.1038/ja.2010.34   \n",
       "4  OYLVOLOSQHRPLK-WRXMSMRBSA-N  ...             10.1021/np900613d   \n",
       "\n",
       "   original_reference_pmid                           original_reference_title  \\\n",
       "0               20680940.0  Curvularides A-E: antifungal hybrid peptide-po...   \n",
       "1                      NaN  Homopetasinic acid isolated from Diaporthe sp....   \n",
       "2               15638324.0  A-503083 A, B, E and F, novel inhibitors of ba...   \n",
       "3               20431617.0  Aqabamycins A-G: novel nitro maleimides from a...   \n",
       "4               19928955.0  Hymenopsins A and B and a macrophorin analogue...   \n",
       "\n",
       "  original_reference_type          original_journal_title reassignment_dois  \\\n",
       "0                 article  Chemistry - A European Journal                []   \n",
       "1                 article             Tetrahedron Letters                []   \n",
       "2                 article          Journal of Antibiotics                []   \n",
       "3                 article          Journal of Antibiotics                []   \n",
       "4                 article     Journal of Natural Products                []   \n",
       "\n",
       "  synthesis_dois       mibig_ids gnps_ids  \\\n",
       "0             []              []       []   \n",
       "1             []              []       []   \n",
       "2             []  ['BGC0000288']       []   \n",
       "3             []              []       []   \n",
       "4             []              []       []   \n",
       "\n",
       "                                         npatlas_url  \n",
       "0  https://www.npatlas.org/explore/compounds/NPA0...  \n",
       "1  https://www.npatlas.org/explore/compounds/NPA0...  \n",
       "2  https://www.npatlas.org/explore/compounds/NPA0...  \n",
       "3  https://www.npatlas.org/explore/compounds/NPA0...  \n",
       "4  https://www.npatlas.org/explore/compounds/NPA0...  \n",
       "\n",
       "[5 rows x 31 columns]"
      ]
     },
     "execution_count": 106,
     "metadata": {},
     "output_type": "execute_result"
    }
   ],
   "source": [
    "classificador.head()"
   ]
  },
  {
   "cell_type": "code",
   "execution_count": 107,
   "metadata": {},
   "outputs": [
    {
     "data": {
      "text/plain": [
       "(32552, 31)"
      ]
     },
     "execution_count": 107,
     "metadata": {},
     "output_type": "execute_result"
    }
   ],
   "source": [
    "classificador.shape"
   ]
  },
  {
   "cell_type": "code",
   "execution_count": 108,
   "metadata": {},
   "outputs": [
    {
     "data": {
      "text/plain": [
       "Index(['npaid', 'compound_id', 'compound_names', 'compound_molecular_formula',\n",
       "       'compound_molecular_weight', 'compound_accurate_mass',\n",
       "       'compound_m_plus_h', 'compound_m_plus_na', 'compound_inchi',\n",
       "       'compound_inchikey', 'compound_smiles', 'compound_cluster_id',\n",
       "       'compound_node_id', 'origin_type', 'genus', 'origin_species',\n",
       "       'original_reference_author_list', 'original_reference_year',\n",
       "       'original_reference_issue', 'original_reference_volume',\n",
       "       'original_reference_pages', 'original_reference_doi',\n",
       "       'original_reference_pmid', 'original_reference_title',\n",
       "       'original_reference_type', 'original_journal_title',\n",
       "       'reassignment_dois', 'synthesis_dois', 'mibig_ids', 'gnps_ids',\n",
       "       'npatlas_url'],\n",
       "      dtype='object')"
      ]
     },
     "execution_count": 108,
     "metadata": {},
     "output_type": "execute_result"
    }
   ],
   "source": [
    "classificador.columns"
   ]
  },
  {
   "cell_type": "code",
   "execution_count": 109,
   "metadata": {},
   "outputs": [
    {
     "data": {
      "text/plain": [
       "0           1\n",
       "1           2\n",
       "2           3\n",
       "3           4\n",
       "4           5\n",
       "         ... \n",
       "32547    1142\n",
       "32548      10\n",
       "32549      24\n",
       "32550      24\n",
       "32551      24\n",
       "Name: compound_node_id, Length: 32552, dtype: int64"
      ]
     },
     "execution_count": 109,
     "metadata": {},
     "output_type": "execute_result"
    }
   ],
   "source": [
    "classificador['compound_node_id']"
   ]
  },
  {
   "cell_type": "code",
   "execution_count": 110,
   "metadata": {},
   "outputs": [
    {
     "data": {
      "text/plain": [
       "6441"
      ]
     },
     "execution_count": 110,
     "metadata": {},
     "output_type": "execute_result"
    }
   ],
   "source": [
    "len(set(classificador['compound_node_id']))\n",
    "#set - lista todos os valores únicos, pode ser usado para operação com conjuntos\n",
    "#dados['compound_names'].unique()  faz a mesma coisa"
   ]
  },
  {
   "cell_type": "code",
   "execution_count": 111,
   "metadata": {},
   "outputs": [],
   "source": [
    "dados = classificador[['compound_smiles','compound_node_id']]"
   ]
  },
  {
   "cell_type": "code",
   "execution_count": 112,
   "metadata": {},
   "outputs": [],
   "source": [
    "from sklearn.model_selection import train_test_split"
   ]
  },
  {
   "cell_type": "code",
   "execution_count": 113,
   "metadata": {},
   "outputs": [],
   "source": [
    "X_train ,X_test, y_train, y_test = train_test_split(\n",
    "    classificador['compound_smiles'].values,classificador['compound_node_id'].values, test_size =0.25,\n",
    "    random_state=42\n",
    ")"
   ]
  },
  {
   "cell_type": "code",
   "execution_count": 114,
   "metadata": {},
   "outputs": [
    {
     "data": {
      "text/plain": [
       "(24414,)"
      ]
     },
     "execution_count": 114,
     "metadata": {},
     "output_type": "execute_result"
    }
   ],
   "source": [
    "X_train.shape"
   ]
  },
  {
   "cell_type": "code",
   "execution_count": 115,
   "metadata": {},
   "outputs": [],
   "source": [
    "lista2 = ['palavra']"
   ]
  },
  {
   "cell_type": "code",
   "execution_count": 116,
   "metadata": {},
   "outputs": [
    {
     "data": {
      "text/plain": [
       "['palavra']"
      ]
     },
     "execution_count": 116,
     "metadata": {},
     "output_type": "execute_result"
    }
   ],
   "source": [
    "lista2"
   ]
  },
  {
   "cell_type": "code",
   "execution_count": 117,
   "metadata": {},
   "outputs": [],
   "source": [
    "vocabulario = set(\" \".join(X_train))\n",
    "#juntar letras com um espaço entre elas"
   ]
  },
  {
   "cell_type": "code",
   "execution_count": 118,
   "metadata": {},
   "outputs": [],
   "source": [
    "vocabulario_test = set(\" \".join(X_test))"
   ]
  },
  {
   "cell_type": "code",
   "execution_count": 119,
   "metadata": {},
   "outputs": [],
   "source": [
    "vocab_final = vocabulario_test & vocabulario"
   ]
  },
  {
   "cell_type": "code",
   "execution_count": 120,
   "metadata": {},
   "outputs": [],
   "source": [
    "vocab_lista = list(vocab_final)\n"
   ]
  },
  {
   "cell_type": "code",
   "execution_count": 121,
   "metadata": {},
   "outputs": [],
   "source": [
    "index1 = vocab_lista.index(' ')"
   ]
  },
  {
   "cell_type": "code",
   "execution_count": 122,
   "metadata": {},
   "outputs": [
    {
     "data": {
      "text/plain": [
       "' '"
      ]
     },
     "execution_count": 122,
     "metadata": {},
     "output_type": "execute_result"
    }
   ],
   "source": [
    "vocab_lista.pop(22)"
   ]
  },
  {
   "cell_type": "code",
   "execution_count": 123,
   "metadata": {},
   "outputs": [
    {
     "data": {
      "text/plain": [
       "['n',\n",
       " '3',\n",
       " '8',\n",
       " ')',\n",
       " 'F',\n",
       " 'Z',\n",
       " '6',\n",
       " 'e',\n",
       " 'l',\n",
       " 'I',\n",
       " ']',\n",
       " 'S',\n",
       " '5',\n",
       " '2',\n",
       " '=',\n",
       " 'P',\n",
       " 'H',\n",
       " '#',\n",
       " 'r',\n",
       " 'N',\n",
       " '1',\n",
       " '+',\n",
       " '/',\n",
       " '4',\n",
       " '7',\n",
       " ':',\n",
       " '.',\n",
       " '\\\\',\n",
       " '@',\n",
       " '-',\n",
       " 'C',\n",
       " '(',\n",
       " '9',\n",
       " '[',\n",
       " 'B',\n",
       " 'O']"
      ]
     },
     "execution_count": 123,
     "metadata": {},
     "output_type": "execute_result"
    }
   ],
   "source": [
    "vocab_lista"
   ]
  },
  {
   "cell_type": "code",
   "execution_count": null,
   "metadata": {},
   "outputs": [],
   "source": []
  }
 ],
 "metadata": {
  "interpreter": {
   "hash": "c4e92272ad7a4516cbb4444cec248173ef04a9b08fea637e38aafc28191cfe9b"
  },
  "kernelspec": {
   "display_name": "Python 3.7.9 ('estudos')",
   "language": "python",
   "name": "python3"
  },
  "language_info": {
   "codemirror_mode": {
    "name": "ipython",
    "version": 3
   },
   "file_extension": ".py",
   "mimetype": "text/x-python",
   "name": "python",
   "nbconvert_exporter": "python",
   "pygments_lexer": "ipython3",
   "version": "3.7.9"
  },
  "orig_nbformat": 4
 },
 "nbformat": 4,
 "nbformat_minor": 2
}
