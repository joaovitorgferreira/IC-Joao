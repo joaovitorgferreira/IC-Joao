{
 "cells": [
  {
   "cell_type": "markdown",
   "metadata": {},
   "source": [
    "\n",
    "Classificador\n",
    "1. Importar dados\n",
    "\n",
    "Para criar um classificador formatar os dados da sequinte maneira:\n",
    "\n",
    "moleculas -> uma lista/array com todos os smiles do seu banco de dados\n",
    "\n",
    "classes -> uma lista/array de zeros e uns representando antibiótico e não antibiótico, respectivamente\n",
    "\n",
    "O classificador vai identificar traços das moleculas e associá-los às classes, então cada molécula deverá ter o mesmo índice que sua classe.\n",
    "\n",
    "bibliotecas sugeridas:\n",
    "\n",
    "    pandas\n",
    "    numpy\n",
    "\n"
   ]
  },
  {
   "cell_type": "code",
   "execution_count": 1,
   "metadata": {},
   "outputs": [],
   "source": [
    "import pandas as pd\n",
    "import numpy as np\n",
    "import sklearn as sk\n",
    "\n",
    "#Importar dados\n",
    "df = pd.read_csv('/home/joao/documentos/IC-Joao/classificador/finale_ant.csv',index_col=False)\n",
    "\n",
    "#Definir a coluna das classes\n",
    "labels = np.asarray(df.Classe) #1 para antibiótico, 0 para não antibiótico\n",
    "\n",
    "#Selecionar SMILES sem as classes\n",
    "df_selected = df.drop([\"Classe\",\"coconut_id\",\"Index\"], axis=1)\n",
    "\n",
    "#Codificar classes (não é mais necessário)\n",
    "#from sklearn.preprocessing import LabelEncoder\n",
    "#le = LabelEncoder()\n",
    "#le.fit(labels)\n",
    "\n",
    "#labels = le.transform(labels)"
   ]
  },
  {
   "cell_type": "markdown",
   "metadata": {},
   "source": [
    "\n",
    "2. Processamento dos dados\n",
    "2.1 Encoding/padding\n",
    "\n",
    "Nessa etapa acontece a codificação das moleculas. Pode ser tokens, one hot vector, integer vector. Você decide.\n",
    "\n",
    "É importante que ao final do processamento todos os tokens tenham o mesmo comprimento, então um processo chamado padding precisa ser aplicado.\n",
    "\n",
    "Por convenção as variáveis em machine learning assumem esses nomes:\n",
    "\n",
    "X -> uma lista/array com todos os smiles codificados\n",
    "\n",
    "y -> uma lista/array de zeros e uns representando antibiótico e não antibiótico, respectivamente\n",
    "\n",
    "Bibliotecas sugeridas:\n",
    "\n",
    "    numpy\n",
    "    sklearn\n",
    "\n"
   ]
  },
  {
   "cell_type": "markdown",
   "metadata": {},
   "source": [
    "ADIÇÕES DO TIAGO: INICIO"
   ]
  },
  {
   "cell_type": "code",
   "execution_count": 2,
   "metadata": {},
   "outputs": [],
   "source": [
    "comprimentos = [len(x) for x in df_selected.SMILES.values]"
   ]
  },
  {
   "cell_type": "code",
   "execution_count": 3,
   "metadata": {},
   "outputs": [
    {
     "data": {
      "text/plain": [
       "394"
      ]
     },
     "execution_count": 3,
     "metadata": {},
     "output_type": "execute_result"
    }
   ],
   "source": [
    "maior_smile = np.max(comprimentos)\n",
    "maior_smile"
   ]
  },
  {
   "cell_type": "code",
   "execution_count": 4,
   "metadata": {},
   "outputs": [
    {
     "name": "stderr",
     "output_type": "stream",
     "text": [
      "2022-06-28 10:04:03.064824: W tensorflow/stream_executor/platform/default/dso_loader.cc:64] Could not load dynamic library 'libcudart.so.11.0'; dlerror: libcudart.so.11.0: cannot open shared object file: No such file or directory\n",
      "2022-06-28 10:04:03.064841: I tensorflow/stream_executor/cuda/cudart_stub.cc:29] Ignore above cudart dlerror if you do not have a GPU set up on your machine.\n"
     ]
    }
   ],
   "source": [
    "from tensorflow.keras.preprocessing.sequence import pad_sequences\n",
    "\n",
    "smiles = list(df_selected.SMILES.values)\n",
    "\n",
    "table = ['se','Fe','As','Cl', 'Br', 'Na', 'Li', 'Ca', 'Al', 'Ag', 'Se', 'Mg', 'Zn', 'H', 'B', 'C', 'N', 'O', 'P', 'S', 'F', 'I', 'K', '(', ')', '[', ']', '=', '#', '@', '*', '%', '0', '1', '2', '3', '4', '5', '6', '7', '8', '9', '.', '/', '\\\\', '+', '-', 'c', 'n', 'o', 's', 'p']\n"
   ]
  },
  {
   "cell_type": "code",
   "execution_count": 5,
   "metadata": {},
   "outputs": [
    {
     "data": {
      "text/plain": [
       "4895"
      ]
     },
     "execution_count": 5,
     "metadata": {},
     "output_type": "execute_result"
    }
   ],
   "source": [
    "len(smiles)"
   ]
  },
  {
   "cell_type": "code",
   "execution_count": 6,
   "metadata": {},
   "outputs": [],
   "source": [
    "def tokenizer(smiles,table):\n",
    "    tokens_list = []\n",
    "    #index = 0\n",
    "    for smile in smiles:\n",
    "        #print(index)\n",
    "        i = 0\n",
    "        token = []\n",
    "        while i < len(smile):\n",
    "            for j in table:\n",
    "                if j == smile[i:i+len(j)]:\n",
    "                    token.append(j)\n",
    "                    i = i+len(j)\n",
    "                    break\n",
    "        while len(token) < maior_smile:\n",
    "            token.insert(0,\"A\")\n",
    "        tokens_list.append(token)\n",
    "        #index = index+1\n",
    "    return tokens_list\n",
    "\n",
    "padded_tokens = tokenizer(smiles,table)\n"
   ]
  },
  {
   "cell_type": "code",
   "execution_count": 7,
   "metadata": {},
   "outputs": [
    {
     "data": {
      "text/plain": [
       "4895"
      ]
     },
     "execution_count": 7,
     "metadata": {},
     "output_type": "execute_result"
    }
   ],
   "source": [
    "len(padded_tokens)"
   ]
  },
  {
   "cell_type": "code",
   "execution_count": 8,
   "metadata": {},
   "outputs": [
    {
     "data": {
      "text/plain": [
       "394"
      ]
     },
     "execution_count": 8,
     "metadata": {},
     "output_type": "execute_result"
    }
   ],
   "source": [
    "len(padded_tokens[0])"
   ]
  },
  {
   "cell_type": "code",
   "execution_count": 9,
   "metadata": {},
   "outputs": [],
   "source": [
    "#Usar integer encoding ao invez de one hot\n",
    "from sklearn.preprocessing import LabelEncoder\n",
    "tokens_encoder = LabelEncoder()\n",
    "table.append(\"A\")\n",
    "tokens_encoder.fit(table)\n",
    "tokens_int_encoded = np.array([tokens_encoder.transform(i) for i in padded_tokens])\n"
   ]
  },
  {
   "cell_type": "code",
   "execution_count": 10,
   "metadata": {},
   "outputs": [
    {
     "data": {
      "text/plain": [
       "array([[21, 21, 21, ..., 39,  3, 27],\n",
       "       [21, 21, 21, ..., 39,  3, 27],\n",
       "       [21, 21, 21, ..., 27, 37, 27],\n",
       "       ...,\n",
       "       [21, 21, 21, ...,  3, 27, 27],\n",
       "       [21, 21, 21, ..., 27,  3, 27],\n",
       "       [21, 21, 21, ..., 27,  3, 27]])"
      ]
     },
     "execution_count": 10,
     "metadata": {},
     "output_type": "execute_result"
    }
   ],
   "source": [
    "tokens_int_encoded"
   ]
  },
  {
   "cell_type": "code",
   "execution_count": 11,
   "metadata": {},
   "outputs": [
    {
     "data": {
      "text/plain": [
       "(4895, 394)"
      ]
     },
     "execution_count": 11,
     "metadata": {},
     "output_type": "execute_result"
    }
   ],
   "source": [
    "tokens_int_encoded.shape"
   ]
  },
  {
   "cell_type": "markdown",
   "metadata": {},
   "source": [
    "ADIÇÕES DO TIAGO: FIM"
   ]
  },
  {
   "cell_type": "markdown",
   "metadata": {},
   "source": [
    "\n",
    "3. Holdout: train/test split\n",
    "\n",
    "Depois do processamento, seu banco de dados precisa ser dividio em traino e teste. O Holdout é o ponto de separação. Geralmente os dados são dividos em dados em 70/30. 70% para treino e 30% para teste.\n",
    "\n",
    "Agora as variáveis serão separadas pelos conjuntos criados:\n",
    "\n",
    "X_treino -> 70% dos smiles codificados\n",
    "\n",
    "X_teste -> 30% dos smiles codificados\n",
    "\n",
    "y_treino -> 70% das classes\n",
    "\n",
    "y_teste -> 30% das classes\n",
    "\n",
    "Bibliotecas sugeridas:\n",
    "\n",
    "    numpy\n",
    "    sklearn\n",
    "\n"
   ]
  },
  {
   "cell_type": "code",
   "execution_count": 12,
   "metadata": {},
   "outputs": [],
   "source": [
    "from sklearn.model_selection import train_test_split\n",
    "\n",
    "smiles_train, smiles_test, labels_train, labels_test = train_test_split(\n",
    "    tokens_int_encoded, labels, \n",
    "    test_size=0.30, random_state=42)\n"
   ]
  },
  {
   "cell_type": "markdown",
   "metadata": {},
   "source": [
    "\n",
    "4. Modelo\n",
    "\n",
    "Depois de preparar os dados, precisamos criar um variável que contem nosso modelo. Estude o tensoflow/keras, mais especificamente a função Sequential(), para criação dos modelos.\n",
    "\n",
    "Arquiteturas sugeridas:\n",
    "\n",
    "    MultiLayer Perceptron (MLP)\n",
    "    Convolutional Neural Networks (CNN)\n",
    "\n",
    "Não esqueça de adicionar as métricas precision, recall, accuracy e loss. Para essa ultima, você precisa estudar sobre as funções de perda usadas para classificação binária (0,1).\n",
    "\n",
    "Depois de construído use o método .fit() para treinar seu classificador\n"
   ]
  },
  {
   "cell_type": "code",
   "execution_count": 13,
   "metadata": {},
   "outputs": [
    {
     "name": "stderr",
     "output_type": "stream",
     "text": [
      "2022-06-28 10:04:08.969740: W tensorflow/stream_executor/platform/default/dso_loader.cc:64] Could not load dynamic library 'libcuda.so.1'; dlerror: libcuda.so.1: cannot open shared object file: No such file or directory\n",
      "2022-06-28 10:04:08.969763: W tensorflow/stream_executor/cuda/cuda_driver.cc:269] failed call to cuInit: UNKNOWN ERROR (303)\n",
      "2022-06-28 10:04:08.969780: I tensorflow/stream_executor/cuda/cuda_diagnostics.cc:156] kernel driver does not appear to be running on this host (seriema): /proc/driver/nvidia/version does not exist\n",
      "2022-06-28 10:04:08.969943: I tensorflow/core/platform/cpu_feature_guard.cc:151] This TensorFlow binary is optimized with oneAPI Deep Neural Network Library (oneDNN) to use the following CPU instructions in performance-critical operations:  AVX2 FMA\n",
      "To enable them in other operations, rebuild TensorFlow with the appropriate compiler flags.\n"
     ]
    }
   ],
   "source": [
    "import tensorflow as tf\n",
    "from tensorflow.keras.models import Sequential\n",
    "model = Sequential([\n",
    "    tf.keras.layers.Input(shape = 394,),\n",
    "    tf.keras.layers.Dense(350, activation = 'relu'),\n",
    "    tf.keras.layers.Dense(200, activation = 'relu'),\n",
    "    tf.keras.layers.Dense(100, activation = 'relu'),\n",
    "    tf.keras.layers.Dense(1, activation = 'sigmoid')\n",
    "])\n",
    "model.compile(\n",
    "    optimizer='adam',\n",
    "    loss = tf.losses.BinaryCrossentropy(),\n",
    "    metrics = [tf.metrics.BinaryAccuracy(),\n",
    "    tf.metrics.Precision(),\n",
    "    tf.metrics.Recall()]\n",
    "\n",
    ")"
   ]
  },
  {
   "cell_type": "code",
   "execution_count": 14,
   "metadata": {},
   "outputs": [
    {
     "name": "stdout",
     "output_type": "stream",
     "text": [
      "Model: \"sequential\"\n",
      "_________________________________________________________________\n",
      " Layer (type)                Output Shape              Param #   \n",
      "=================================================================\n",
      " dense (Dense)               (None, 350)               138250    \n",
      "                                                                 \n",
      " dense_1 (Dense)             (None, 200)               70200     \n",
      "                                                                 \n",
      " dense_2 (Dense)             (None, 100)               20100     \n",
      "                                                                 \n",
      " dense_3 (Dense)             (None, 1)                 101       \n",
      "                                                                 \n",
      "=================================================================\n",
      "Total params: 228,651\n",
      "Trainable params: 228,651\n",
      "Non-trainable params: 0\n",
      "_________________________________________________________________\n"
     ]
    }
   ],
   "source": [
    "model.summary()"
   ]
  },
  {
   "cell_type": "code",
   "execution_count": 15,
   "metadata": {},
   "outputs": [
    {
     "data": {
      "text/plain": [
       "array([1, 1, 0, ..., 0, 0, 0])"
      ]
     },
     "execution_count": 15,
     "metadata": {},
     "output_type": "execute_result"
    }
   ],
   "source": [
    "labels_test"
   ]
  },
  {
   "cell_type": "code",
   "execution_count": 16,
   "metadata": {},
   "outputs": [
    {
     "name": "stdout",
     "output_type": "stream",
     "text": [
      "Epoch 1/100\n",
      "108/108 [==============================] - 1s 3ms/step - loss: 0.9039 - binary_accuracy: 0.8497 - precision: 0.1786 - recall: 0.1275 - val_loss: 0.5254 - val_binary_accuracy: 0.7781 - val_precision: 0.2508 - val_recall: 0.4561\n",
      "Epoch 2/100\n",
      "108/108 [==============================] - 0s 2ms/step - loss: 0.3421 - binary_accuracy: 0.8911 - precision: 0.3864 - recall: 0.0963 - val_loss: 0.3187 - val_binary_accuracy: 0.8816 - val_precision: 0.4348 - val_recall: 0.0585\n",
      "Epoch 3/100\n",
      "108/108 [==============================] - 0s 2ms/step - loss: 0.3190 - binary_accuracy: 0.8967 - precision: 0.4941 - recall: 0.1190 - val_loss: 0.3299 - val_binary_accuracy: 0.8856 - val_precision: 0.5789 - val_recall: 0.0643\n",
      "Epoch 4/100\n",
      "108/108 [==============================] - 0s 2ms/step - loss: 0.2971 - binary_accuracy: 0.8964 - precision: 0.4861 - recall: 0.0992 - val_loss: 0.3319 - val_binary_accuracy: 0.8768 - val_precision: 0.4242 - val_recall: 0.1637\n",
      "Epoch 5/100\n",
      "108/108 [==============================] - 0s 2ms/step - loss: 0.2740 - binary_accuracy: 0.9031 - precision: 0.6154 - recall: 0.1586 - val_loss: 0.5630 - val_binary_accuracy: 0.8836 - val_precision: 0.0000e+00 - val_recall: 0.0000e+00\n",
      "Epoch 6/100\n",
      "108/108 [==============================] - 0s 2ms/step - loss: 0.2815 - binary_accuracy: 0.8967 - precision: 0.4941 - recall: 0.1190 - val_loss: 0.4581 - val_binary_accuracy: 0.8850 - val_precision: 1.0000 - val_recall: 0.0117\n",
      "Epoch 7/100\n",
      "108/108 [==============================] - 0s 2ms/step - loss: 0.2886 - binary_accuracy: 0.9008 - precision: 0.5747 - recall: 0.1416 - val_loss: 0.3019 - val_binary_accuracy: 0.8809 - val_precision: 0.4375 - val_recall: 0.0819\n",
      "Epoch 8/100\n",
      "108/108 [==============================] - 0s 2ms/step - loss: 0.2670 - binary_accuracy: 0.9011 - precision: 0.5648 - recall: 0.1728 - val_loss: 0.4572 - val_binary_accuracy: 0.8843 - val_precision: 1.0000 - val_recall: 0.0058\n",
      "Epoch 9/100\n",
      "108/108 [==============================] - 0s 2ms/step - loss: 0.2876 - binary_accuracy: 0.9005 - precision: 0.5714 - recall: 0.1360 - val_loss: 0.3356 - val_binary_accuracy: 0.8816 - val_precision: 0.3846 - val_recall: 0.0292\n",
      "Epoch 10/100\n",
      "108/108 [==============================] - 0s 2ms/step - loss: 0.2739 - binary_accuracy: 0.9019 - precision: 0.6024 - recall: 0.1416 - val_loss: 0.7808 - val_binary_accuracy: 0.5058 - val_precision: 0.1724 - val_recall: 0.8538\n",
      "Epoch 11/100\n",
      "108/108 [==============================] - 0s 2ms/step - loss: 0.2635 - binary_accuracy: 0.9008 - precision: 0.5586 - recall: 0.1756 - val_loss: 0.3074 - val_binary_accuracy: 0.8802 - val_precision: 0.4390 - val_recall: 0.1053\n",
      "Epoch 12/100\n",
      "108/108 [==============================] - 0s 2ms/step - loss: 0.2807 - binary_accuracy: 0.9022 - precision: 0.6000 - recall: 0.1530 - val_loss: 0.4451 - val_binary_accuracy: 0.8836 - val_precision: 0.0000e+00 - val_recall: 0.0000e+00\n",
      "Epoch 13/100\n",
      "108/108 [==============================] - 0s 2ms/step - loss: 0.2727 - binary_accuracy: 0.9025 - precision: 0.6118 - recall: 0.1473 - val_loss: 0.4281 - val_binary_accuracy: 0.8843 - val_precision: 0.6667 - val_recall: 0.0117\n",
      "Epoch 14/100\n",
      "108/108 [==============================] - 0s 2ms/step - loss: 0.2658 - binary_accuracy: 0.9046 - precision: 0.6300 - recall: 0.1785 - val_loss: 0.3739 - val_binary_accuracy: 0.8843 - val_precision: 0.6000 - val_recall: 0.0175\n",
      "Epoch 15/100\n",
      "108/108 [==============================] - 0s 2ms/step - loss: 0.2609 - binary_accuracy: 0.9043 - precision: 0.6404 - recall: 0.1615 - val_loss: 0.4755 - val_binary_accuracy: 0.8843 - val_precision: 1.0000 - val_recall: 0.0058\n",
      "Epoch 16/100\n",
      "108/108 [==============================] - 0s 2ms/step - loss: 0.2494 - binary_accuracy: 0.9086 - precision: 0.6923 - recall: 0.2040 - val_loss: 0.3046 - val_binary_accuracy: 0.8734 - val_precision: 0.3973 - val_recall: 0.1696\n",
      "Epoch 17/100\n",
      "108/108 [==============================] - 0s 2ms/step - loss: 0.2664 - binary_accuracy: 0.9028 - precision: 0.5943 - recall: 0.1785 - val_loss: 0.3758 - val_binary_accuracy: 0.8843 - val_precision: 0.5385 - val_recall: 0.0409\n",
      "Epoch 18/100\n",
      "108/108 [==============================] - 0s 2ms/step - loss: 0.2703 - binary_accuracy: 0.8996 - precision: 0.5506 - recall: 0.1388 - val_loss: 0.3616 - val_binary_accuracy: 0.8550 - val_precision: 0.3807 - val_recall: 0.3918\n",
      "Epoch 19/100\n",
      "108/108 [==============================] - 0s 2ms/step - loss: 0.2507 - binary_accuracy: 0.9069 - precision: 0.6635 - recall: 0.1955 - val_loss: 0.3148 - val_binary_accuracy: 0.8836 - val_precision: 0.5000 - val_recall: 0.2339\n",
      "Epoch 20/100\n",
      "108/108 [==============================] - 0s 2ms/step - loss: 0.2489 - binary_accuracy: 0.9051 - precision: 0.6207 - recall: 0.2040 - val_loss: 0.3319 - val_binary_accuracy: 0.8870 - val_precision: 0.6316 - val_recall: 0.0702\n",
      "Epoch 21/100\n",
      "108/108 [==============================] - 0s 2ms/step - loss: 0.2522 - binary_accuracy: 0.9048 - precision: 0.6015 - recall: 0.2266 - val_loss: 0.3561 - val_binary_accuracy: 0.8850 - val_precision: 0.5833 - val_recall: 0.0409\n",
      "Epoch 22/100\n",
      "108/108 [==============================] - 0s 2ms/step - loss: 0.2602 - binary_accuracy: 0.9037 - precision: 0.6055 - recall: 0.1870 - val_loss: 0.3230 - val_binary_accuracy: 0.8850 - val_precision: 0.5556 - val_recall: 0.0585\n",
      "Epoch 23/100\n",
      "108/108 [==============================] - 0s 2ms/step - loss: 0.2461 - binary_accuracy: 0.9095 - precision: 0.6937 - recall: 0.2181 - val_loss: 0.3064 - val_binary_accuracy: 0.8754 - val_precision: 0.4250 - val_recall: 0.1988\n",
      "Epoch 24/100\n",
      "108/108 [==============================] - 0s 2ms/step - loss: 0.2492 - binary_accuracy: 0.9063 - precision: 0.6270 - recall: 0.2238 - val_loss: 0.3646 - val_binary_accuracy: 0.8843 - val_precision: 0.5714 - val_recall: 0.0234\n",
      "Epoch 25/100\n",
      "108/108 [==============================] - 0s 2ms/step - loss: 0.2422 - binary_accuracy: 0.9040 - precision: 0.6053 - recall: 0.1955 - val_loss: 0.2981 - val_binary_accuracy: 0.8829 - val_precision: 0.4906 - val_recall: 0.1520\n",
      "Epoch 26/100\n",
      "108/108 [==============================] - 0s 2ms/step - loss: 0.2382 - binary_accuracy: 0.9092 - precision: 0.6567 - recall: 0.2493 - val_loss: 0.3348 - val_binary_accuracy: 0.8768 - val_precision: 0.3913 - val_recall: 0.1053\n",
      "Epoch 27/100\n",
      "108/108 [==============================] - 0s 2ms/step - loss: 0.2461 - binary_accuracy: 0.9031 - precision: 0.5913 - recall: 0.1926 - val_loss: 0.4180 - val_binary_accuracy: 0.8836 - val_precision: 0.5000 - val_recall: 0.0117\n",
      "Epoch 28/100\n",
      "108/108 [==============================] - 0s 2ms/step - loss: 0.2521 - binary_accuracy: 0.9069 - precision: 0.6700 - recall: 0.1898 - val_loss: 0.2970 - val_binary_accuracy: 0.8843 - val_precision: 0.5070 - val_recall: 0.2105\n",
      "Epoch 29/100\n",
      "108/108 [==============================] - 0s 2ms/step - loss: 0.2583 - binary_accuracy: 0.9022 - precision: 0.5900 - recall: 0.1671 - val_loss: 0.3253 - val_binary_accuracy: 0.8829 - val_precision: 0.3333 - val_recall: 0.0058\n",
      "Epoch 30/100\n",
      "108/108 [==============================] - 0s 2ms/step - loss: 0.2545 - binary_accuracy: 0.9066 - precision: 0.6813 - recall: 0.1756 - val_loss: 0.3010 - val_binary_accuracy: 0.8822 - val_precision: 0.4839 - val_recall: 0.1754\n",
      "Epoch 31/100\n",
      "108/108 [==============================] - 0s 2ms/step - loss: 0.2717 - binary_accuracy: 0.9022 - precision: 0.6000 - recall: 0.1530 - val_loss: 0.3251 - val_binary_accuracy: 0.8850 - val_precision: 0.6000 - val_recall: 0.0351\n",
      "Epoch 32/100\n",
      "108/108 [==============================] - 0s 2ms/step - loss: 0.2480 - binary_accuracy: 0.9034 - precision: 0.6341 - recall: 0.1473 - val_loss: 0.3014 - val_binary_accuracy: 0.8788 - val_precision: 0.4578 - val_recall: 0.2222\n",
      "Epoch 33/100\n",
      "108/108 [==============================] - 0s 2ms/step - loss: 0.2378 - binary_accuracy: 0.9089 - precision: 0.6694 - recall: 0.2295 - val_loss: 0.3278 - val_binary_accuracy: 0.8884 - val_precision: 0.6522 - val_recall: 0.0877\n",
      "Epoch 34/100\n",
      "108/108 [==============================] - 0s 2ms/step - loss: 0.2388 - binary_accuracy: 0.9098 - precision: 0.6594 - recall: 0.2578 - val_loss: 0.3317 - val_binary_accuracy: 0.8863 - val_precision: 0.5909 - val_recall: 0.0760\n",
      "Epoch 35/100\n",
      "108/108 [==============================] - 0s 2ms/step - loss: 0.2425 - binary_accuracy: 0.9151 - precision: 0.7422 - recall: 0.2691 - val_loss: 0.3059 - val_binary_accuracy: 0.8781 - val_precision: 0.4487 - val_recall: 0.2047\n",
      "Epoch 36/100\n",
      "108/108 [==============================] - 0s 2ms/step - loss: 0.2292 - binary_accuracy: 0.9159 - precision: 0.7273 - recall: 0.2946 - val_loss: 0.3302 - val_binary_accuracy: 0.8836 - val_precision: 0.5000 - val_recall: 0.3392\n",
      "Epoch 37/100\n",
      "108/108 [==============================] - 0s 2ms/step - loss: 0.2585 - binary_accuracy: 0.9043 - precision: 0.6667 - recall: 0.1416 - val_loss: 2.4720 - val_binary_accuracy: 0.1838 - val_precision: 0.1232 - val_recall: 0.9825\n",
      "Epoch 38/100\n",
      "108/108 [==============================] - 0s 2ms/step - loss: 0.2946 - binary_accuracy: 0.8952 - precision: 0.4830 - recall: 0.2408 - val_loss: 0.3488 - val_binary_accuracy: 0.8843 - val_precision: 0.5333 - val_recall: 0.0468\n",
      "Epoch 39/100\n",
      "108/108 [==============================] - 0s 2ms/step - loss: 0.2612 - binary_accuracy: 0.9028 - precision: 0.5980 - recall: 0.1728 - val_loss: 0.3254 - val_binary_accuracy: 0.8707 - val_precision: 0.4371 - val_recall: 0.3860\n",
      "Epoch 40/100\n",
      "108/108 [==============================] - 0s 2ms/step - loss: 0.2460 - binary_accuracy: 0.9037 - precision: 0.5983 - recall: 0.1983 - val_loss: 0.3253 - val_binary_accuracy: 0.8693 - val_precision: 0.4314 - val_recall: 0.3860\n",
      "Epoch 41/100\n",
      "108/108 [==============================] - 0s 2ms/step - loss: 0.2454 - binary_accuracy: 0.9060 - precision: 0.6099 - recall: 0.2436 - val_loss: 0.3066 - val_binary_accuracy: 0.8856 - val_precision: 0.5306 - val_recall: 0.1520\n",
      "Epoch 42/100\n",
      "108/108 [==============================] - 0s 2ms/step - loss: 0.2429 - binary_accuracy: 0.9107 - precision: 0.6942 - recall: 0.2380 - val_loss: 0.3027 - val_binary_accuracy: 0.8809 - val_precision: 0.4750 - val_recall: 0.2222\n",
      "Epoch 43/100\n",
      "108/108 [==============================] - 0s 2ms/step - loss: 0.2334 - binary_accuracy: 0.9101 - precision: 0.6667 - recall: 0.2550 - val_loss: 0.3172 - val_binary_accuracy: 0.8856 - val_precision: 0.5319 - val_recall: 0.1462\n",
      "Epoch 44/100\n",
      "108/108 [==============================] - 0s 2ms/step - loss: 0.2394 - binary_accuracy: 0.9116 - precision: 0.6786 - recall: 0.2691 - val_loss: 0.3464 - val_binary_accuracy: 0.8570 - val_precision: 0.4049 - val_recall: 0.4854\n",
      "Epoch 45/100\n",
      "108/108 [==============================] - 0s 2ms/step - loss: 0.2424 - binary_accuracy: 0.9113 - precision: 0.6522 - recall: 0.2975 - val_loss: 0.3105 - val_binary_accuracy: 0.8884 - val_precision: 0.5745 - val_recall: 0.1579\n",
      "Epoch 46/100\n",
      "108/108 [==============================] - 0s 2ms/step - loss: 0.2326 - binary_accuracy: 0.9139 - precision: 0.6908 - recall: 0.2975 - val_loss: 0.3092 - val_binary_accuracy: 0.8904 - val_precision: 0.6923 - val_recall: 0.1053\n",
      "Epoch 47/100\n",
      "108/108 [==============================] - 0s 2ms/step - loss: 0.2231 - binary_accuracy: 0.9151 - precision: 0.7067 - recall: 0.3003 - val_loss: 0.3506 - val_binary_accuracy: 0.8884 - val_precision: 0.6400 - val_recall: 0.0936\n",
      "Epoch 48/100\n",
      "108/108 [==============================] - 0s 2ms/step - loss: 0.2345 - binary_accuracy: 0.9101 - precision: 0.6718 - recall: 0.2493 - val_loss: 0.4922 - val_binary_accuracy: 0.7515 - val_precision: 0.2679 - val_recall: 0.6550\n",
      "Epoch 49/100\n",
      "108/108 [==============================] - 0s 2ms/step - loss: 0.2523 - binary_accuracy: 0.9046 - precision: 0.6383 - recall: 0.1700 - val_loss: 0.3270 - val_binary_accuracy: 0.8897 - val_precision: 0.6047 - val_recall: 0.1520\n",
      "Epoch 50/100\n",
      "108/108 [==============================] - 0s 2ms/step - loss: 0.2293 - binary_accuracy: 0.9156 - precision: 0.7078 - recall: 0.3088 - val_loss: 0.3325 - val_binary_accuracy: 0.8870 - val_precision: 0.5581 - val_recall: 0.1404\n",
      "Epoch 51/100\n",
      "108/108 [==============================] - 0s 2ms/step - loss: 0.2356 - binary_accuracy: 0.9113 - precision: 0.6788 - recall: 0.2635 - val_loss: 0.3089 - val_binary_accuracy: 0.8890 - val_precision: 0.6667 - val_recall: 0.0936\n",
      "Epoch 52/100\n",
      "108/108 [==============================] - 0s 2ms/step - loss: 0.2384 - binary_accuracy: 0.9119 - precision: 0.6917 - recall: 0.2606 - val_loss: 0.3254 - val_binary_accuracy: 0.8877 - val_precision: 0.8750 - val_recall: 0.0409\n",
      "Epoch 53/100\n",
      "108/108 [==============================] - 0s 2ms/step - loss: 0.2409 - binary_accuracy: 0.9119 - precision: 0.7107 - recall: 0.2436 - val_loss: 0.3068 - val_binary_accuracy: 0.8836 - val_precision: 0.5000 - val_recall: 0.1696\n",
      "Epoch 54/100\n",
      "108/108 [==============================] - 0s 2ms/step - loss: 0.2272 - binary_accuracy: 0.9139 - precision: 0.6959 - recall: 0.2918 - val_loss: 0.3129 - val_binary_accuracy: 0.8856 - val_precision: 0.5200 - val_recall: 0.2281\n",
      "Epoch 55/100\n",
      "108/108 [==============================] - 0s 2ms/step - loss: 0.2246 - binary_accuracy: 0.9165 - precision: 0.7248 - recall: 0.3059 - val_loss: 0.3134 - val_binary_accuracy: 0.8809 - val_precision: 0.4811 - val_recall: 0.2982\n",
      "Epoch 56/100\n",
      "108/108 [==============================] - 0s 2ms/step - loss: 0.2278 - binary_accuracy: 0.9136 - precision: 0.6939 - recall: 0.2890 - val_loss: 0.3913 - val_binary_accuracy: 0.8822 - val_precision: 0.0000e+00 - val_recall: 0.0000e+00\n",
      "Epoch 57/100\n",
      "108/108 [==============================] - 0s 2ms/step - loss: 0.2329 - binary_accuracy: 0.9116 - precision: 0.7315 - recall: 0.2238 - val_loss: 0.3108 - val_binary_accuracy: 0.8897 - val_precision: 0.6286 - val_recall: 0.1287\n",
      "Epoch 58/100\n",
      "108/108 [==============================] - 0s 2ms/step - loss: 0.2182 - binary_accuracy: 0.9177 - precision: 0.7261 - recall: 0.3229 - val_loss: 0.3227 - val_binary_accuracy: 0.8768 - val_precision: 0.4265 - val_recall: 0.1696\n",
      "Epoch 59/100\n",
      "108/108 [==============================] - 0s 2ms/step - loss: 0.2231 - binary_accuracy: 0.9168 - precision: 0.7361 - recall: 0.3003 - val_loss: 0.3204 - val_binary_accuracy: 0.8870 - val_precision: 0.5455 - val_recall: 0.1754\n",
      "Epoch 60/100\n",
      "108/108 [==============================] - 0s 2ms/step - loss: 0.2135 - binary_accuracy: 0.9203 - precision: 0.7564 - recall: 0.3343 - val_loss: 0.3526 - val_binary_accuracy: 0.8884 - val_precision: 0.5745 - val_recall: 0.1579\n",
      "Epoch 61/100\n",
      "108/108 [==============================] - 0s 2ms/step - loss: 0.2182 - binary_accuracy: 0.9194 - precision: 0.7692 - recall: 0.3116 - val_loss: 0.3278 - val_binary_accuracy: 0.8768 - val_precision: 0.4590 - val_recall: 0.3275\n",
      "Epoch 62/100\n",
      "108/108 [==============================] - 0s 2ms/step - loss: 0.2134 - binary_accuracy: 0.9189 - precision: 0.7358 - recall: 0.3314 - val_loss: 0.3256 - val_binary_accuracy: 0.8768 - val_precision: 0.4554 - val_recall: 0.2982\n",
      "Epoch 63/100\n",
      "108/108 [==============================] - 0s 2ms/step - loss: 0.2358 - binary_accuracy: 0.9078 - precision: 0.7126 - recall: 0.1756 - val_loss: 0.3107 - val_binary_accuracy: 0.8761 - val_precision: 0.4368 - val_recall: 0.2222\n",
      "Epoch 64/100\n",
      "108/108 [==============================] - 0s 2ms/step - loss: 0.2338 - binary_accuracy: 0.9107 - precision: 0.7374 - recall: 0.2068 - val_loss: 0.3081 - val_binary_accuracy: 0.8822 - val_precision: 0.4783 - val_recall: 0.1287\n",
      "Epoch 65/100\n",
      "108/108 [==============================] - 0s 2ms/step - loss: 0.2340 - binary_accuracy: 0.9107 - precision: 0.7282 - recall: 0.2125 - val_loss: 0.3184 - val_binary_accuracy: 0.8856 - val_precision: 0.6000 - val_recall: 0.0526\n",
      "Epoch 66/100\n",
      "108/108 [==============================] - 0s 2ms/step - loss: 0.2337 - binary_accuracy: 0.9031 - precision: 0.6615 - recall: 0.1218 - val_loss: 0.3120 - val_binary_accuracy: 0.8870 - val_precision: 0.6667 - val_recall: 0.0585\n",
      "Epoch 67/100\n",
      "108/108 [==============================] - 0s 2ms/step - loss: 0.2225 - binary_accuracy: 0.9156 - precision: 0.7462 - recall: 0.2748 - val_loss: 0.3175 - val_binary_accuracy: 0.8890 - val_precision: 0.7222 - val_recall: 0.0760\n",
      "Epoch 68/100\n",
      "108/108 [==============================] - 0s 2ms/step - loss: 0.2266 - binary_accuracy: 0.9130 - precision: 0.7477 - recall: 0.2351 - val_loss: 0.3989 - val_binary_accuracy: 0.8421 - val_precision: 0.3452 - val_recall: 0.3977\n",
      "Epoch 69/100\n",
      "108/108 [==============================] - 0s 2ms/step - loss: 0.2331 - binary_accuracy: 0.9110 - precision: 0.6600 - recall: 0.2805 - val_loss: 0.3154 - val_binary_accuracy: 0.8897 - val_precision: 0.7143 - val_recall: 0.0877\n",
      "Epoch 70/100\n",
      "108/108 [==============================] - 0s 2ms/step - loss: 0.2167 - binary_accuracy: 0.9168 - precision: 0.7297 - recall: 0.3059 - val_loss: 0.3169 - val_binary_accuracy: 0.8870 - val_precision: 0.5455 - val_recall: 0.1754\n",
      "Epoch 71/100\n",
      "108/108 [==============================] - 0s 2ms/step - loss: 0.2213 - binary_accuracy: 0.9168 - precision: 0.7329 - recall: 0.3031 - val_loss: 0.3469 - val_binary_accuracy: 0.8659 - val_precision: 0.4071 - val_recall: 0.3333\n",
      "Epoch 72/100\n",
      "108/108 [==============================] - 0s 2ms/step - loss: 0.2454 - binary_accuracy: 0.9060 - precision: 0.6303 - recall: 0.2125 - val_loss: 0.3061 - val_binary_accuracy: 0.8843 - val_precision: 0.5098 - val_recall: 0.1520\n",
      "Epoch 73/100\n",
      "108/108 [==============================] - 0s 2ms/step - loss: 0.2121 - binary_accuracy: 0.9191 - precision: 0.7923 - recall: 0.2918 - val_loss: 0.3561 - val_binary_accuracy: 0.8768 - val_precision: 0.4359 - val_recall: 0.1988\n",
      "Epoch 74/100\n",
      "108/108 [==============================] - 0s 2ms/step - loss: 0.2630 - binary_accuracy: 0.9019 - precision: 0.5876 - recall: 0.1615 - val_loss: 0.3154 - val_binary_accuracy: 0.8850 - val_precision: 0.5278 - val_recall: 0.1111\n",
      "Epoch 75/100\n",
      "108/108 [==============================] - 0s 2ms/step - loss: 0.2532 - binary_accuracy: 0.9046 - precision: 0.6275 - recall: 0.1813 - val_loss: 0.3082 - val_binary_accuracy: 0.8863 - val_precision: 0.5588 - val_recall: 0.1111\n",
      "Epoch 76/100\n",
      "108/108 [==============================] - 0s 2ms/step - loss: 0.2302 - binary_accuracy: 0.9119 - precision: 0.6711 - recall: 0.2833 - val_loss: 0.3065 - val_binary_accuracy: 0.8809 - val_precision: 0.4737 - val_recall: 0.2105\n",
      "Epoch 77/100\n",
      "108/108 [==============================] - 0s 2ms/step - loss: 0.2322 - binary_accuracy: 0.9113 - precision: 0.6842 - recall: 0.2578 - val_loss: 0.3088 - val_binary_accuracy: 0.8816 - val_precision: 0.4815 - val_recall: 0.2281\n",
      "Epoch 78/100\n",
      "108/108 [==============================] - 0s 2ms/step - loss: 0.2207 - binary_accuracy: 0.9174 - precision: 0.7108 - recall: 0.3343 - val_loss: 0.3137 - val_binary_accuracy: 0.8843 - val_precision: 0.5094 - val_recall: 0.1579\n",
      "Epoch 79/100\n",
      "108/108 [==============================] - 0s 2ms/step - loss: 0.2273 - binary_accuracy: 0.9162 - precision: 0.7260 - recall: 0.3003 - val_loss: 0.3154 - val_binary_accuracy: 0.8836 - val_precision: 0.5000 - val_recall: 0.1287\n",
      "Epoch 80/100\n",
      "108/108 [==============================] - 0s 2ms/step - loss: 0.2269 - binary_accuracy: 0.9154 - precision: 0.6821 - recall: 0.3343 - val_loss: 0.3035 - val_binary_accuracy: 0.8843 - val_precision: 0.5122 - val_recall: 0.1228\n",
      "Epoch 81/100\n",
      "108/108 [==============================] - 0s 2ms/step - loss: 0.2263 - binary_accuracy: 0.9124 - precision: 0.6710 - recall: 0.2946 - val_loss: 0.3111 - val_binary_accuracy: 0.8741 - val_precision: 0.4286 - val_recall: 0.2456\n",
      "Epoch 82/100\n",
      "108/108 [==============================] - 0s 2ms/step - loss: 0.2200 - binary_accuracy: 0.9145 - precision: 0.6685 - recall: 0.3371 - val_loss: 0.3160 - val_binary_accuracy: 0.8822 - val_precision: 0.4884 - val_recall: 0.2456\n",
      "Epoch 83/100\n",
      "108/108 [==============================] - 0s 2ms/step - loss: 0.2161 - binary_accuracy: 0.9127 - precision: 0.6500 - recall: 0.3314 - val_loss: 0.3296 - val_binary_accuracy: 0.8761 - val_precision: 0.4382 - val_recall: 0.2281\n",
      "Epoch 84/100\n",
      "108/108 [==============================] - 0s 2ms/step - loss: 0.2091 - binary_accuracy: 0.9221 - precision: 0.7443 - recall: 0.3711 - val_loss: 0.3273 - val_binary_accuracy: 0.8850 - val_precision: 0.5278 - val_recall: 0.1111\n",
      "Epoch 85/100\n",
      "108/108 [==============================] - 0s 2ms/step - loss: 0.2066 - binary_accuracy: 0.9218 - precision: 0.7225 - recall: 0.3909 - val_loss: 0.3266 - val_binary_accuracy: 0.8713 - val_precision: 0.4318 - val_recall: 0.3333\n",
      "Epoch 86/100\n",
      "108/108 [==============================] - 0s 2ms/step - loss: 0.2135 - binary_accuracy: 0.9221 - precision: 0.7312 - recall: 0.3853 - val_loss: 0.3240 - val_binary_accuracy: 0.8897 - val_precision: 0.5957 - val_recall: 0.1637\n",
      "Epoch 87/100\n",
      "108/108 [==============================] - 0s 2ms/step - loss: 0.2155 - binary_accuracy: 0.9197 - precision: 0.7532 - recall: 0.3286 - val_loss: 0.3197 - val_binary_accuracy: 0.8809 - val_precision: 0.4583 - val_recall: 0.1287\n",
      "Epoch 88/100\n",
      "108/108 [==============================] - 0s 2ms/step - loss: 0.2109 - binary_accuracy: 0.9218 - precision: 0.7576 - recall: 0.3541 - val_loss: 0.3262 - val_binary_accuracy: 0.8747 - val_precision: 0.4343 - val_recall: 0.2515\n",
      "Epoch 89/100\n",
      "108/108 [==============================] - 0s 2ms/step - loss: 0.2203 - binary_accuracy: 0.9165 - precision: 0.7190 - recall: 0.3116 - val_loss: 0.3282 - val_binary_accuracy: 0.8856 - val_precision: 0.6364 - val_recall: 0.0409\n",
      "Epoch 90/100\n",
      "108/108 [==============================] - 0s 2ms/step - loss: 0.2126 - binary_accuracy: 0.9200 - precision: 0.7423 - recall: 0.3428 - val_loss: 0.3400 - val_binary_accuracy: 0.8822 - val_precision: 0.4853 - val_recall: 0.1930\n",
      "Epoch 91/100\n",
      "108/108 [==============================] - 0s 2ms/step - loss: 0.2114 - binary_accuracy: 0.9203 - precision: 0.7222 - recall: 0.3683 - val_loss: 0.3162 - val_binary_accuracy: 0.8829 - val_precision: 0.4894 - val_recall: 0.1345\n",
      "Epoch 92/100\n",
      "108/108 [==============================] - 0s 2ms/step - loss: 0.2087 - binary_accuracy: 0.9218 - precision: 0.7707 - recall: 0.3428 - val_loss: 0.3094 - val_binary_accuracy: 0.8788 - val_precision: 0.3871 - val_recall: 0.0702\n",
      "Epoch 93/100\n",
      "108/108 [==============================] - 0s 2ms/step - loss: 0.2113 - binary_accuracy: 0.9229 - precision: 0.7602 - recall: 0.3683 - val_loss: 0.3040 - val_binary_accuracy: 0.8870 - val_precision: 0.5510 - val_recall: 0.1579\n",
      "Epoch 94/100\n",
      "108/108 [==============================] - 0s 2ms/step - loss: 0.2115 - binary_accuracy: 0.9224 - precision: 0.7574 - recall: 0.3626 - val_loss: 0.3752 - val_binary_accuracy: 0.8768 - val_precision: 0.4306 - val_recall: 0.1813\n",
      "Epoch 95/100\n",
      "108/108 [==============================] - 0s 2ms/step - loss: 0.2299 - binary_accuracy: 0.9180 - precision: 0.7769 - recall: 0.2861 - val_loss: 0.3640 - val_binary_accuracy: 0.8768 - val_precision: 0.4242 - val_recall: 0.1637\n",
      "Epoch 96/100\n",
      "108/108 [==============================] - 0s 2ms/step - loss: 0.2092 - binary_accuracy: 0.9244 - precision: 0.7831 - recall: 0.3683 - val_loss: 0.3239 - val_binary_accuracy: 0.8768 - val_precision: 0.4490 - val_recall: 0.2573\n",
      "Epoch 97/100\n",
      "108/108 [==============================] - 0s 2ms/step - loss: 0.2054 - binary_accuracy: 0.9241 - precision: 0.7627 - recall: 0.3824 - val_loss: 0.3299 - val_binary_accuracy: 0.8747 - val_precision: 0.4480 - val_recall: 0.3275\n",
      "Epoch 98/100\n",
      "108/108 [==============================] - 0s 2ms/step - loss: 0.2069 - binary_accuracy: 0.9256 - precision: 0.8025 - recall: 0.3683 - val_loss: 0.3400 - val_binary_accuracy: 0.8802 - val_precision: 0.4561 - val_recall: 0.1520\n",
      "Epoch 99/100\n",
      "108/108 [==============================] - 0s 2ms/step - loss: 0.2011 - binary_accuracy: 0.9264 - precision: 0.8061 - recall: 0.3768 - val_loss: 0.3272 - val_binary_accuracy: 0.8816 - val_precision: 0.4667 - val_recall: 0.1228\n",
      "Epoch 100/100\n",
      "108/108 [==============================] - 0s 2ms/step - loss: 0.2118 - binary_accuracy: 0.9227 - precision: 0.7933 - recall: 0.3371 - val_loss: 0.3352 - val_binary_accuracy: 0.8720 - val_precision: 0.4220 - val_recall: 0.2690\n"
     ]
    }
   ],
   "source": [
    "MLP = model.fit(smiles_train,labels_train, epochs=100, verbose =1,validation_data=(smiles_test,labels_test))"
   ]
  },
  {
   "cell_type": "code",
   "execution_count": 41,
   "metadata": {},
   "outputs": [
    {
     "data": {
      "text/plain": [
       "<matplotlib.legend.Legend at 0x7f15e4523b10>"
      ]
     },
     "execution_count": 41,
     "metadata": {},
     "output_type": "execute_result"
    },
    {
     "data": {
      "image/png": "[encoded data removed]",
      "text/plain": [
       "<Figure size 720x720 with 1 Axes>"
      ]
     },
     "metadata": {
      "needs_background": "light"
     },
     "output_type": "display_data"
    }
   ],
   "source": [
    "import matplotlib.pyplot as plt\n",
    "plt.figure(figsize=(10,10))\n",
    "plt.plot(MLP.history['loss'],label = 'train')\n",
    "plt.plot(MLP.history['val_loss'],label = 'test')\n",
    "plt.title('Erro', fontsize =10)\n",
    "plt.xlabel('epoch')\n",
    "plt.ylabel('erro')\n",
    "plt.legend()\n"
   ]
  },
  {
   "cell_type": "code",
   "execution_count": 18,
   "metadata": {},
   "outputs": [],
   "source": [
    "predictions = np.round(model.predict(smiles_test))"
   ]
  },
  {
   "cell_type": "code",
   "execution_count": 19,
   "metadata": {},
   "outputs": [],
   "source": [
    "from sklearn.metrics import confusion_matrix\n",
    "cm = confusion_matrix(labels_test, predictions)"
   ]
  },
  {
   "cell_type": "code",
   "execution_count": 20,
   "metadata": {},
   "outputs": [],
   "source": [
    "import seaborn as sns\n"
   ]
  },
  {
   "cell_type": "code",
   "execution_count": 21,
   "metadata": {},
   "outputs": [
    {
     "data": {
      "text/plain": [
       "Text(0.5, 15.0, 'PREDICTED')"
      ]
     },
     "execution_count": 21,
     "metadata": {},
     "output_type": "execute_result"
    },
    {
     "data": {
      "image/png": "[encoded data removed]",
      "text/plain": [
       "<Figure size 432x288 with 2 Axes>"
      ]
     },
     "metadata": {
      "needs_background": "light"
     },
     "output_type": "display_data"
    }
   ],
   "source": [
    "sns.heatmap(cm, annot=True,cmap='coolwarm')\n",
    "plt.ylabel(\"TRUE\")\n",
    "plt.xlabel(\"PREDICTED\")"
   ]
  },
  {
   "cell_type": "code",
   "execution_count": 22,
   "metadata": {},
   "outputs": [],
   "source": [
    "tn, fp, fn, tp = confusion_matrix(labels_test, predictions).ravel()"
   ]
  },
  {
   "cell_type": "code",
   "execution_count": 23,
   "metadata": {},
   "outputs": [
    {
     "data": {
      "text/plain": [
       "(1235, 63, 125, 46)"
      ]
     },
     "execution_count": 23,
     "metadata": {},
     "output_type": "execute_result"
    }
   ],
   "source": [
    "tn, fp, fn, tp "
   ]
  },
  {
   "cell_type": "code",
   "execution_count": 24,
   "metadata": {},
   "outputs": [
    {
     "data": {
      "text/plain": [
       "0.8720217835262083"
      ]
     },
     "execution_count": 24,
     "metadata": {},
     "output_type": "execute_result"
    }
   ],
   "source": [
    "#acurácia\n",
    "(tp+tn)/(tp+tn+fp+fn)"
   ]
  },
  {
   "cell_type": "code",
   "execution_count": 25,
   "metadata": {},
   "outputs": [
    {
     "data": {
      "text/plain": [
       "0.26900584795321636"
      ]
     },
     "execution_count": 25,
     "metadata": {},
     "output_type": "execute_result"
    }
   ],
   "source": [
    "#acerta o que é antibiótico\n",
    "(tp)/(tp+fn)"
   ]
  },
  {
   "cell_type": "code",
   "execution_count": 26,
   "metadata": {},
   "outputs": [
    {
     "data": {
      "text/plain": [
       "0.9514637904468413"
      ]
     },
     "execution_count": 26,
     "metadata": {},
     "output_type": "execute_result"
    }
   ],
   "source": [
    "#acerta o que não é antibiótico\n",
    "(tn)/(tn+fp)"
   ]
  },
  {
   "cell_type": "markdown",
   "metadata": {},
   "source": [
    "Convolucional"
   ]
  },
  {
   "cell_type": "code",
   "execution_count": 27,
   "metadata": {},
   "outputs": [],
   "source": [
    "from tensorflow.keras.layers import Flatten, Dense, Conv1D, MaxPool1D, Dropout"
   ]
  },
  {
   "cell_type": "code",
   "execution_count": 28,
   "metadata": {},
   "outputs": [],
   "source": [
    "CNN = Sequential([\n",
    "    tf.keras.layers.Embedding(input_dim = 394, output_dim = 1, input_length = maior_smile),\n",
    "\n",
    "    tf.keras.layers.Conv1D(filters = 32,kernel_size = 3),  #Conv1\n",
    "    tf.keras.layers.MaxPooling1D(pool_size = 3), \n",
    "\n",
    "    #tf.keras.layers.Conv1D(filters = 64,kernel_size = 3),  #Conv2\n",
    "\n",
    "    tf.keras.layers.Conv1D(filters = 128,kernel_size = 3), #Conv3\n",
    "    tf.keras.layers.MaxPooling1D(pool_size = 3),\n",
    "\n",
    "    #tf.keras.layers.Conv1D(filters = 256,kernel_size = 3), #Conv4\n",
    "    \n",
    "\n",
    "    tf.keras.layers.Conv1D(filters = 256,kernel_size = 3), #Conv5\n",
    "    tf.keras.layers.MaxPooling1D(pool_size = 3),\n",
    "\n",
    "    tf.keras.layers.Conv1D(filters = 256,kernel_size = 3),    #Conv6\n",
    "    tf.keras.layers.MaxPooling1D(pool_size = 3),\n",
    "\n",
    "    tf.keras.layers.Flatten(),\n",
    "    tf.keras.layers.Dropout(0.42),\n",
    "    \n",
    "    tf.keras.layers.Dense(394, activation = \"relu\"),\n",
    "    tf.keras.layers.Dense(300, activation = \"relu\"),\n",
    "\n",
    "    tf.keras.layers.Dense(1, activation = \"sigmoid\")\n",
    "])\n",
    "CNN.compile(\n",
    "    optimizer = tf.optimizers.Adam(),\n",
    "    loss = tf.losses.BinaryCrossentropy(),\n",
    "    metrics = [\n",
    "        tf.metrics.BinaryAccuracy(),\n",
    "        tf.keras.metrics.Precision(),\n",
    "        tf.keras.metrics.Recall()\n",
    "    ]\n",
    ")\n"
   ]
  },
  {
   "cell_type": "code",
   "execution_count": 38,
   "metadata": {},
   "outputs": [
    {
     "name": "stdout",
     "output_type": "stream",
     "text": [
      "Epoch 1/100\n",
      "343/343 [==============================] - 2s 5ms/step - loss: 0.2081 - binary_accuracy: 0.9410 - precision_1: 0.9809 - recall_1: 0.4363 - val_loss: 0.5760 - val_binary_accuracy: 0.8931 - val_precision_1: 0.6167 - val_recall_1: 0.2164\n",
      "Epoch 2/100\n",
      "343/343 [==============================] - 2s 5ms/step - loss: 0.2085 - binary_accuracy: 0.9416 - precision_1: 0.9811 - recall_1: 0.4419 - val_loss: 0.6703 - val_binary_accuracy: 0.8924 - val_precision_1: 0.6102 - val_recall_1: 0.2105\n",
      "Epoch 3/100\n",
      "343/343 [==============================] - 2s 5ms/step - loss: 0.2091 - binary_accuracy: 0.9405 - precision_1: 0.9627 - recall_1: 0.4391 - val_loss: 0.6578 - val_binary_accuracy: 0.8938 - val_precision_1: 0.6154 - val_recall_1: 0.2339\n",
      "Epoch 4/100\n",
      "343/343 [==============================] - 2s 5ms/step - loss: 0.2086 - binary_accuracy: 0.9410 - precision_1: 0.9809 - recall_1: 0.4363 - val_loss: 0.6787 - val_binary_accuracy: 0.8938 - val_precision_1: 0.6190 - val_recall_1: 0.2281\n",
      "Epoch 5/100\n",
      "343/343 [==============================] - 2s 5ms/step - loss: 0.2090 - binary_accuracy: 0.9410 - precision_1: 0.9748 - recall_1: 0.4391 - val_loss: 0.6670 - val_binary_accuracy: 0.8931 - val_precision_1: 0.6129 - val_recall_1: 0.2222\n",
      "Epoch 6/100\n",
      "343/343 [==============================] - 2s 5ms/step - loss: 0.2087 - binary_accuracy: 0.9416 - precision_1: 0.9873 - recall_1: 0.4391 - val_loss: 0.6859 - val_binary_accuracy: 0.8897 - val_precision_1: 0.5542 - val_recall_1: 0.2690\n",
      "Epoch 7/100\n",
      "343/343 [==============================] - 2s 5ms/step - loss: 0.2090 - binary_accuracy: 0.9416 - precision_1: 0.9752 - recall_1: 0.4448 - val_loss: 0.8077 - val_binary_accuracy: 0.8952 - val_precision_1: 0.6269 - val_recall_1: 0.2456\n",
      "Epoch 8/100\n",
      "343/343 [==============================] - 2s 5ms/step - loss: 0.2128 - binary_accuracy: 0.9410 - precision_1: 0.9871 - recall_1: 0.4334 - val_loss: 0.8733 - val_binary_accuracy: 0.8911 - val_precision_1: 0.6341 - val_recall_1: 0.1520\n",
      "Epoch 9/100\n",
      "343/343 [==============================] - 2s 5ms/step - loss: 0.2137 - binary_accuracy: 0.9396 - precision_1: 0.9620 - recall_1: 0.4306 - val_loss: 1.1140 - val_binary_accuracy: 0.8904 - val_precision_1: 0.5806 - val_recall_1: 0.2105\n",
      "Epoch 10/100\n",
      "343/343 [==============================] - 2s 5ms/step - loss: 0.2194 - binary_accuracy: 0.9393 - precision_1: 0.9618 - recall_1: 0.4278 - val_loss: 0.4894 - val_binary_accuracy: 0.8945 - val_precision_1: 0.6818 - val_recall_1: 0.1754\n",
      "Epoch 11/100\n",
      "343/343 [==============================] - 2s 5ms/step - loss: 0.2104 - binary_accuracy: 0.9410 - precision_1: 0.9871 - recall_1: 0.4334 - val_loss: 0.6753 - val_binary_accuracy: 0.8945 - val_precision_1: 0.6290 - val_recall_1: 0.2281\n",
      "Epoch 12/100\n",
      "343/343 [==============================] - 2s 5ms/step - loss: 0.2078 - binary_accuracy: 0.9413 - precision_1: 0.9810 - recall_1: 0.4391 - val_loss: 0.8010 - val_binary_accuracy: 0.8945 - val_precision_1: 0.6600 - val_recall_1: 0.1930\n",
      "Epoch 13/100\n",
      "343/343 [==============================] - 2s 5ms/step - loss: 0.2082 - binary_accuracy: 0.9402 - precision_1: 0.9684 - recall_1: 0.4334 - val_loss: 0.8140 - val_binary_accuracy: 0.8958 - val_precision_1: 0.6552 - val_recall_1: 0.2222\n",
      "Epoch 14/100\n",
      "343/343 [==============================] - 2s 5ms/step - loss: 0.2085 - binary_accuracy: 0.9413 - precision_1: 0.9872 - recall_1: 0.4363 - val_loss: 0.8935 - val_binary_accuracy: 0.8965 - val_precision_1: 0.6610 - val_recall_1: 0.2281\n",
      "Epoch 15/100\n",
      "343/343 [==============================] - 2s 5ms/step - loss: 0.2090 - binary_accuracy: 0.9416 - precision_1: 0.9811 - recall_1: 0.4419 - val_loss: 0.9397 - val_binary_accuracy: 0.8965 - val_precision_1: 0.6727 - val_recall_1: 0.2164\n",
      "Epoch 16/100\n",
      "343/343 [==============================] - 2s 5ms/step - loss: 0.2077 - binary_accuracy: 0.9407 - precision_1: 0.9808 - recall_1: 0.4334 - val_loss: 1.0313 - val_binary_accuracy: 0.8952 - val_precision_1: 0.6349 - val_recall_1: 0.2339\n",
      "Epoch 17/100\n",
      "343/343 [==============================] - 2s 5ms/step - loss: 0.2077 - binary_accuracy: 0.9422 - precision_1: 0.9936 - recall_1: 0.4419 - val_loss: 0.9472 - val_binary_accuracy: 0.8979 - val_precision_1: 0.6615 - val_recall_1: 0.2515\n",
      "Epoch 18/100\n",
      "343/343 [==============================] - 2s 5ms/step - loss: 0.2087 - binary_accuracy: 0.9407 - precision_1: 0.9747 - recall_1: 0.4363 - val_loss: 1.0191 - val_binary_accuracy: 0.8986 - val_precision_1: 0.6897 - val_recall_1: 0.2339\n",
      "Epoch 19/100\n",
      "343/343 [==============================] - 2s 5ms/step - loss: 0.2091 - binary_accuracy: 0.9419 - precision_1: 0.9936 - recall_1: 0.4391 - val_loss: 0.9647 - val_binary_accuracy: 0.8965 - val_precision_1: 0.6610 - val_recall_1: 0.2281\n",
      "Epoch 20/100\n",
      "343/343 [==============================] - 2s 5ms/step - loss: 0.2425 - binary_accuracy: 0.9407 - precision_1: 0.9412 - recall_1: 0.4533 - val_loss: 1.3085 - val_binary_accuracy: 0.8952 - val_precision_1: 0.6604 - val_recall_1: 0.2047\n",
      "Epoch 21/100\n",
      "343/343 [==============================] - 2s 5ms/step - loss: 0.2175 - binary_accuracy: 0.9402 - precision_1: 0.9684 - recall_1: 0.4334 - val_loss: 0.6023 - val_binary_accuracy: 0.8850 - val_precision_1: 0.5093 - val_recall_1: 0.3216\n",
      "Epoch 22/100\n",
      "343/343 [==============================] - 2s 5ms/step - loss: 0.2307 - binary_accuracy: 0.9378 - precision_1: 0.9605 - recall_1: 0.4136 - val_loss: 0.3583 - val_binary_accuracy: 0.8972 - val_precision_1: 0.6852 - val_recall_1: 0.2164\n",
      "Epoch 23/100\n",
      "343/343 [==============================] - 2s 5ms/step - loss: 0.2180 - binary_accuracy: 0.9399 - precision_1: 0.9742 - recall_1: 0.4278 - val_loss: 0.4318 - val_binary_accuracy: 0.8986 - val_precision_1: 0.6528 - val_recall_1: 0.2749\n",
      "Epoch 24/100\n",
      "343/343 [==============================] - 2s 5ms/step - loss: 0.2112 - binary_accuracy: 0.9416 - precision_1: 0.9811 - recall_1: 0.4419 - val_loss: 0.4630 - val_binary_accuracy: 0.8986 - val_precision_1: 0.6774 - val_recall_1: 0.2456\n",
      "Epoch 25/100\n",
      "343/343 [==============================] - 2s 5ms/step - loss: 0.2099 - binary_accuracy: 0.9405 - precision_1: 0.9686 - recall_1: 0.4363 - val_loss: 0.4786 - val_binary_accuracy: 0.8993 - val_precision_1: 0.7091 - val_recall_1: 0.2281\n",
      "Epoch 26/100\n",
      "343/343 [==============================] - 2s 5ms/step - loss: 0.2081 - binary_accuracy: 0.9416 - precision_1: 0.9811 - recall_1: 0.4419 - val_loss: 0.5988 - val_binary_accuracy: 0.8972 - val_precision_1: 0.6562 - val_recall_1: 0.2456\n",
      "Epoch 27/100\n",
      "343/343 [==============================] - 2s 5ms/step - loss: 0.2079 - binary_accuracy: 0.9413 - precision_1: 0.9810 - recall_1: 0.4391 - val_loss: 0.6452 - val_binary_accuracy: 0.8979 - val_precision_1: 0.6721 - val_recall_1: 0.2398\n",
      "Epoch 28/100\n",
      "343/343 [==============================] - 2s 5ms/step - loss: 0.2077 - binary_accuracy: 0.9416 - precision_1: 0.9873 - recall_1: 0.4391 - val_loss: 0.7422 - val_binary_accuracy: 0.8993 - val_precision_1: 0.6769 - val_recall_1: 0.2573\n",
      "Epoch 29/100\n",
      "343/343 [==============================] - 2s 5ms/step - loss: 0.2075 - binary_accuracy: 0.9416 - precision_1: 0.9752 - recall_1: 0.4448 - val_loss: 0.8083 - val_binary_accuracy: 0.8979 - val_precision_1: 0.6667 - val_recall_1: 0.2456\n",
      "Epoch 30/100\n",
      "343/343 [==============================] - 2s 5ms/step - loss: 0.2090 - binary_accuracy: 0.9419 - precision_1: 0.9873 - recall_1: 0.4419 - val_loss: 0.7965 - val_binary_accuracy: 0.8979 - val_precision_1: 0.6842 - val_recall_1: 0.2281\n",
      "Epoch 31/100\n",
      "343/343 [==============================] - 2s 5ms/step - loss: 0.2074 - binary_accuracy: 0.9419 - precision_1: 0.9936 - recall_1: 0.4391 - val_loss: 0.8422 - val_binary_accuracy: 0.8945 - val_precision_1: 0.6081 - val_recall_1: 0.2632\n",
      "Epoch 32/100\n",
      "343/343 [==============================] - 2s 5ms/step - loss: 0.2079 - binary_accuracy: 0.9402 - precision_1: 0.9744 - recall_1: 0.4306 - val_loss: 0.8647 - val_binary_accuracy: 0.8979 - val_precision_1: 0.6615 - val_recall_1: 0.2515\n",
      "Epoch 33/100\n",
      "343/343 [==============================] - 2s 5ms/step - loss: 0.2070 - binary_accuracy: 0.9416 - precision_1: 0.9811 - recall_1: 0.4419 - val_loss: 0.9246 - val_binary_accuracy: 0.9006 - val_precision_1: 0.7119 - val_recall_1: 0.2456\n",
      "Epoch 34/100\n",
      "343/343 [==============================] - 2s 5ms/step - loss: 0.2080 - binary_accuracy: 0.9413 - precision_1: 0.9872 - recall_1: 0.4363 - val_loss: 0.8978 - val_binary_accuracy: 0.8986 - val_precision_1: 0.6719 - val_recall_1: 0.2515\n",
      "Epoch 35/100\n",
      "343/343 [==============================] - 2s 5ms/step - loss: 0.2083 - binary_accuracy: 0.9410 - precision_1: 0.9748 - recall_1: 0.4391 - val_loss: 0.7769 - val_binary_accuracy: 0.8972 - val_precision_1: 0.6515 - val_recall_1: 0.2515\n",
      "Epoch 36/100\n",
      "343/343 [==============================] - 2s 5ms/step - loss: 0.2105 - binary_accuracy: 0.9410 - precision_1: 0.9809 - recall_1: 0.4363 - val_loss: 0.8534 - val_binary_accuracy: 0.8979 - val_precision_1: 0.6780 - val_recall_1: 0.2339\n",
      "Epoch 37/100\n",
      "343/343 [==============================] - 2s 5ms/step - loss: 0.2150 - binary_accuracy: 0.9396 - precision_1: 0.9620 - recall_1: 0.4306 - val_loss: 0.8614 - val_binary_accuracy: 0.8965 - val_precision_1: 0.6863 - val_recall_1: 0.2047\n",
      "Epoch 38/100\n",
      "343/343 [==============================] - 2s 5ms/step - loss: 0.2206 - binary_accuracy: 0.9402 - precision_1: 0.9805 - recall_1: 0.4278 - val_loss: 0.6229 - val_binary_accuracy: 0.8958 - val_precision_1: 0.6607 - val_recall_1: 0.2164\n",
      "Epoch 39/100\n",
      "343/343 [==============================] - 2s 5ms/step - loss: 0.2184 - binary_accuracy: 0.9402 - precision_1: 0.9805 - recall_1: 0.4278 - val_loss: 0.5062 - val_binary_accuracy: 0.8986 - val_precision_1: 0.6528 - val_recall_1: 0.2749\n",
      "Epoch 40/100\n",
      "343/343 [==============================] - 2s 5ms/step - loss: 0.2276 - binary_accuracy: 0.9399 - precision_1: 0.9509 - recall_1: 0.4391 - val_loss: 0.6135 - val_binary_accuracy: 0.8931 - val_precision_1: 0.6346 - val_recall_1: 0.1930\n",
      "Epoch 41/100\n",
      "343/343 [==============================] - 2s 5ms/step - loss: 0.2090 - binary_accuracy: 0.9419 - precision_1: 0.9936 - recall_1: 0.4391 - val_loss: 0.9039 - val_binary_accuracy: 0.8938 - val_precision_1: 0.6531 - val_recall_1: 0.1871\n",
      "Epoch 42/100\n",
      "343/343 [==============================] - 2s 5ms/step - loss: 0.2082 - binary_accuracy: 0.9402 - precision_1: 0.9684 - recall_1: 0.4334 - val_loss: 1.0048 - val_binary_accuracy: 0.8952 - val_precision_1: 0.6604 - val_recall_1: 0.2047\n",
      "Epoch 43/100\n",
      "343/343 [==============================] - 2s 5ms/step - loss: 0.2073 - binary_accuracy: 0.9422 - precision_1: 1.0000 - recall_1: 0.4391 - val_loss: 1.2844 - val_binary_accuracy: 0.8945 - val_precision_1: 0.6481 - val_recall_1: 0.2047\n",
      "Epoch 44/100\n",
      "343/343 [==============================] - 2s 5ms/step - loss: 0.2082 - binary_accuracy: 0.9413 - precision_1: 0.9810 - recall_1: 0.4391 - val_loss: 1.0489 - val_binary_accuracy: 0.8972 - val_precision_1: 0.7083 - val_recall_1: 0.1988\n",
      "Epoch 45/100\n",
      "343/343 [==============================] - 2s 5ms/step - loss: 0.2097 - binary_accuracy: 0.9407 - precision_1: 0.9747 - recall_1: 0.4363 - val_loss: 0.9011 - val_binary_accuracy: 0.8958 - val_precision_1: 0.7045 - val_recall_1: 0.1813\n",
      "Epoch 46/100\n",
      "343/343 [==============================] - 2s 5ms/step - loss: 0.2317 - binary_accuracy: 0.9378 - precision_1: 0.9605 - recall_1: 0.4136 - val_loss: 0.4391 - val_binary_accuracy: 0.8986 - val_precision_1: 0.6833 - val_recall_1: 0.2398\n",
      "Epoch 47/100\n",
      "343/343 [==============================] - 2s 5ms/step - loss: 0.2085 - binary_accuracy: 0.9428 - precision_1: 0.9876 - recall_1: 0.4504 - val_loss: 0.5355 - val_binary_accuracy: 0.8986 - val_precision_1: 0.6774 - val_recall_1: 0.2456\n",
      "Epoch 48/100\n",
      "343/343 [==============================] - 2s 5ms/step - loss: 0.2084 - binary_accuracy: 0.9413 - precision_1: 0.9750 - recall_1: 0.4419 - val_loss: 0.5418 - val_binary_accuracy: 0.9006 - val_precision_1: 0.7119 - val_recall_1: 0.2456\n",
      "Epoch 49/100\n",
      "343/343 [==============================] - 2s 5ms/step - loss: 0.2083 - binary_accuracy: 0.9413 - precision_1: 0.9935 - recall_1: 0.4334 - val_loss: 0.5274 - val_binary_accuracy: 0.8986 - val_precision_1: 0.6774 - val_recall_1: 0.2456\n",
      "Epoch 50/100\n",
      "343/343 [==============================] - 2s 5ms/step - loss: 0.2083 - binary_accuracy: 0.9407 - precision_1: 0.9747 - recall_1: 0.4363 - val_loss: 0.7280 - val_binary_accuracy: 0.8999 - val_precision_1: 0.7069 - val_recall_1: 0.2398\n",
      "Epoch 51/100\n",
      "343/343 [==============================] - 2s 5ms/step - loss: 0.2071 - binary_accuracy: 0.9422 - precision_1: 0.9874 - recall_1: 0.4448 - val_loss: 1.3190 - val_binary_accuracy: 0.8972 - val_precision_1: 0.6190 - val_recall_1: 0.3041\n",
      "Epoch 52/100\n",
      "343/343 [==============================] - 2s 5ms/step - loss: 0.2104 - binary_accuracy: 0.9422 - precision_1: 0.9874 - recall_1: 0.4448 - val_loss: 1.2739 - val_binary_accuracy: 0.9006 - val_precision_1: 0.7193 - val_recall_1: 0.2398\n",
      "Epoch 53/100\n",
      "343/343 [==============================] - 2s 5ms/step - loss: 0.2247 - binary_accuracy: 0.9396 - precision_1: 0.9679 - recall_1: 0.4278 - val_loss: 0.5116 - val_binary_accuracy: 0.8965 - val_precision_1: 0.7021 - val_recall_1: 0.1930\n",
      "Epoch 54/100\n",
      "343/343 [==============================] - 2s 5ms/step - loss: 0.2086 - binary_accuracy: 0.9413 - precision_1: 0.9810 - recall_1: 0.4391 - val_loss: 0.6423 - val_binary_accuracy: 0.8986 - val_precision_1: 0.7200 - val_recall_1: 0.2105\n",
      "Epoch 55/100\n",
      "343/343 [==============================] - 2s 5ms/step - loss: 0.2079 - binary_accuracy: 0.9410 - precision_1: 0.9748 - recall_1: 0.4391 - val_loss: 0.7196 - val_binary_accuracy: 0.8986 - val_precision_1: 0.7292 - val_recall_1: 0.2047\n",
      "Epoch 56/100\n",
      "343/343 [==============================] - 2s 5ms/step - loss: 0.2075 - binary_accuracy: 0.9416 - precision_1: 0.9935 - recall_1: 0.4363 - val_loss: 0.8457 - val_binary_accuracy: 0.8999 - val_precision_1: 0.7069 - val_recall_1: 0.2398\n",
      "Epoch 57/100\n",
      "343/343 [==============================] - 2s 5ms/step - loss: 0.2076 - binary_accuracy: 0.9416 - precision_1: 0.9752 - recall_1: 0.4448 - val_loss: 0.7840 - val_binary_accuracy: 0.8979 - val_precision_1: 0.7059 - val_recall_1: 0.2105\n",
      "Epoch 58/100\n",
      "343/343 [==============================] - 2s 5ms/step - loss: 0.2082 - binary_accuracy: 0.9413 - precision_1: 0.9810 - recall_1: 0.4391 - val_loss: 0.9420 - val_binary_accuracy: 0.8986 - val_precision_1: 0.7037 - val_recall_1: 0.2222\n",
      "Epoch 59/100\n",
      "343/343 [==============================] - 2s 5ms/step - loss: 0.2071 - binary_accuracy: 0.9416 - precision_1: 0.9873 - recall_1: 0.4391 - val_loss: 0.8915 - val_binary_accuracy: 0.8972 - val_precision_1: 0.6667 - val_recall_1: 0.2339\n",
      "Epoch 60/100\n",
      "343/343 [==============================] - 2s 5ms/step - loss: 0.2238 - binary_accuracy: 0.9413 - precision_1: 0.9810 - recall_1: 0.4391 - val_loss: 0.5027 - val_binary_accuracy: 0.8911 - val_precision_1: 0.5647 - val_recall_1: 0.2807\n",
      "Epoch 61/100\n",
      "343/343 [==============================] - 2s 5ms/step - loss: 0.2179 - binary_accuracy: 0.9402 - precision_1: 0.9625 - recall_1: 0.4363 - val_loss: 0.5388 - val_binary_accuracy: 0.8945 - val_precision_1: 0.6212 - val_recall_1: 0.2398\n",
      "Epoch 62/100\n",
      "343/343 [==============================] - 2s 5ms/step - loss: 0.2092 - binary_accuracy: 0.9405 - precision_1: 0.9627 - recall_1: 0.4391 - val_loss: 0.7590 - val_binary_accuracy: 0.8972 - val_precision_1: 0.7083 - val_recall_1: 0.1988\n",
      "Epoch 63/100\n",
      "343/343 [==============================] - 2s 5ms/step - loss: 0.2089 - binary_accuracy: 0.9410 - precision_1: 0.9748 - recall_1: 0.4391 - val_loss: 0.7847 - val_binary_accuracy: 0.8938 - val_precision_1: 0.6119 - val_recall_1: 0.2398\n",
      "Epoch 64/100\n",
      "343/343 [==============================] - 2s 5ms/step - loss: 0.2073 - binary_accuracy: 0.9422 - precision_1: 0.9814 - recall_1: 0.4476 - val_loss: 0.7171 - val_binary_accuracy: 0.8986 - val_precision_1: 0.7292 - val_recall_1: 0.2047\n",
      "Epoch 65/100\n",
      "343/343 [==============================] - 2s 5ms/step - loss: 0.2087 - binary_accuracy: 0.9416 - precision_1: 0.9811 - recall_1: 0.4419 - val_loss: 0.7921 - val_binary_accuracy: 0.8965 - val_precision_1: 0.7436 - val_recall_1: 0.1696\n",
      "Epoch 66/100\n",
      "343/343 [==============================] - 2s 5ms/step - loss: 0.2081 - binary_accuracy: 0.9416 - precision_1: 0.9873 - recall_1: 0.4391 - val_loss: 0.8501 - val_binary_accuracy: 0.8958 - val_precision_1: 0.6286 - val_recall_1: 0.2573\n",
      "Epoch 67/100\n",
      "343/343 [==============================] - 2s 5ms/step - loss: 0.2075 - binary_accuracy: 0.9419 - precision_1: 0.9812 - recall_1: 0.4448 - val_loss: 0.7749 - val_binary_accuracy: 0.8945 - val_precision_1: 0.6053 - val_recall_1: 0.2690\n",
      "Epoch 68/100\n",
      "343/343 [==============================] - 2s 5ms/step - loss: 0.2071 - binary_accuracy: 0.9407 - precision_1: 0.9688 - recall_1: 0.4391 - val_loss: 0.9665 - val_binary_accuracy: 0.9006 - val_precision_1: 0.6984 - val_recall_1: 0.2573\n",
      "Epoch 69/100\n",
      "343/343 [==============================] - 2s 5ms/step - loss: 0.2074 - binary_accuracy: 0.9416 - precision_1: 0.9935 - recall_1: 0.4363 - val_loss: 1.2392 - val_binary_accuracy: 0.8952 - val_precision_1: 0.6269 - val_recall_1: 0.2456\n",
      "Epoch 70/100\n",
      "343/343 [==============================] - 2s 5ms/step - loss: 0.2073 - binary_accuracy: 0.9410 - precision_1: 0.9748 - recall_1: 0.4391 - val_loss: 1.1947 - val_binary_accuracy: 0.9006 - val_precision_1: 0.7451 - val_recall_1: 0.2222\n",
      "Epoch 71/100\n",
      "343/343 [==============================] - 2s 5ms/step - loss: 0.2094 - binary_accuracy: 0.9407 - precision_1: 0.9808 - recall_1: 0.4334 - val_loss: 1.3645 - val_binary_accuracy: 0.8938 - val_precision_1: 0.6056 - val_recall_1: 0.2515\n",
      "Epoch 72/100\n",
      "343/343 [==============================] - 2s 5ms/step - loss: 0.2088 - binary_accuracy: 0.9405 - precision_1: 0.9686 - recall_1: 0.4363 - val_loss: 1.1263 - val_binary_accuracy: 0.8904 - val_precision_1: 0.5694 - val_recall_1: 0.2398\n",
      "Epoch 73/100\n",
      "343/343 [==============================] - 2s 5ms/step - loss: 0.2070 - binary_accuracy: 0.9402 - precision_1: 0.9568 - recall_1: 0.4391 - val_loss: 1.4651 - val_binary_accuracy: 0.8958 - val_precision_1: 0.6324 - val_recall_1: 0.2515\n",
      "Epoch 74/100\n",
      "343/343 [==============================] - 2s 5ms/step - loss: 0.2080 - binary_accuracy: 0.9416 - precision_1: 0.9752 - recall_1: 0.4448 - val_loss: 1.2118 - val_binary_accuracy: 0.8958 - val_precision_1: 0.6875 - val_recall_1: 0.1930\n",
      "Epoch 75/100\n",
      "343/343 [==============================] - 2s 5ms/step - loss: 0.2179 - binary_accuracy: 0.9410 - precision_1: 0.9809 - recall_1: 0.4363 - val_loss: 0.9096 - val_binary_accuracy: 0.8761 - val_precision_1: 0.4586 - val_recall_1: 0.3567\n",
      "Epoch 76/100\n",
      "343/343 [==============================] - 2s 5ms/step - loss: 0.2340 - binary_accuracy: 0.9378 - precision_1: 0.9545 - recall_1: 0.4164 - val_loss: 0.5085 - val_binary_accuracy: 0.8965 - val_precision_1: 0.6267 - val_recall_1: 0.2749\n",
      "Epoch 77/100\n",
      "343/343 [==============================] - 2s 5ms/step - loss: 0.2235 - binary_accuracy: 0.9407 - precision_1: 0.9747 - recall_1: 0.4363 - val_loss: 0.5308 - val_binary_accuracy: 0.8965 - val_precision_1: 0.6667 - val_recall_1: 0.2222\n",
      "Epoch 78/100\n",
      "343/343 [==============================] - 2s 5ms/step - loss: 0.2171 - binary_accuracy: 0.9396 - precision_1: 0.9563 - recall_1: 0.4334 - val_loss: 0.3695 - val_binary_accuracy: 0.8952 - val_precision_1: 0.6269 - val_recall_1: 0.2456\n",
      "Epoch 79/100\n",
      "343/343 [==============================] - 2s 5ms/step - loss: 0.2113 - binary_accuracy: 0.9399 - precision_1: 0.9455 - recall_1: 0.4419 - val_loss: 0.4587 - val_binary_accuracy: 0.8993 - val_precision_1: 0.7170 - val_recall_1: 0.2222\n",
      "Epoch 80/100\n",
      "343/343 [==============================] - 2s 5ms/step - loss: 0.2083 - binary_accuracy: 0.9402 - precision_1: 0.9625 - recall_1: 0.4363 - val_loss: 0.7904 - val_binary_accuracy: 0.8952 - val_precision_1: 0.6393 - val_recall_1: 0.2281\n",
      "Epoch 81/100\n",
      "343/343 [==============================] - 2s 5ms/step - loss: 0.2134 - binary_accuracy: 0.9393 - precision_1: 0.9341 - recall_1: 0.4419 - val_loss: 0.7530 - val_binary_accuracy: 0.8952 - val_precision_1: 0.6104 - val_recall_1: 0.2749\n",
      "Epoch 82/100\n",
      "343/343 [==============================] - 2s 5ms/step - loss: 0.2144 - binary_accuracy: 0.9410 - precision_1: 0.9689 - recall_1: 0.4419 - val_loss: 0.4613 - val_binary_accuracy: 0.8965 - val_precision_1: 0.6939 - val_recall_1: 0.1988\n",
      "Epoch 83/100\n",
      "343/343 [==============================] - 2s 5ms/step - loss: 0.2095 - binary_accuracy: 0.9407 - precision_1: 0.9747 - recall_1: 0.4363 - val_loss: 0.5509 - val_binary_accuracy: 0.8918 - val_precision_1: 0.5857 - val_recall_1: 0.2398\n",
      "Epoch 84/100\n",
      "343/343 [==============================] - 2s 5ms/step - loss: 0.2314 - binary_accuracy: 0.9375 - precision_1: 0.9603 - recall_1: 0.4108 - val_loss: 0.3641 - val_binary_accuracy: 0.8952 - val_precision_1: 0.9048 - val_recall_1: 0.1111\n",
      "Epoch 85/100\n",
      "343/343 [==============================] - 2s 5ms/step - loss: 0.2118 - binary_accuracy: 0.9410 - precision_1: 0.9467 - recall_1: 0.4533 - val_loss: 0.4422 - val_binary_accuracy: 0.8931 - val_precision_1: 0.6207 - val_recall_1: 0.2105\n",
      "Epoch 86/100\n",
      "343/343 [==============================] - 2s 5ms/step - loss: 0.2082 - binary_accuracy: 0.9410 - precision_1: 0.9809 - recall_1: 0.4363 - val_loss: 0.5653 - val_binary_accuracy: 0.8938 - val_precision_1: 0.6271 - val_recall_1: 0.2164\n",
      "Epoch 87/100\n",
      "343/343 [==============================] - 2s 5ms/step - loss: 0.2071 - binary_accuracy: 0.9410 - precision_1: 0.9748 - recall_1: 0.4391 - val_loss: 0.5856 - val_binary_accuracy: 0.8945 - val_precision_1: 0.6333 - val_recall_1: 0.2222\n",
      "Epoch 88/100\n",
      "343/343 [==============================] - 2s 5ms/step - loss: 0.2071 - binary_accuracy: 0.9419 - precision_1: 0.9873 - recall_1: 0.4419 - val_loss: 0.6769 - val_binary_accuracy: 0.8952 - val_precision_1: 0.6977 - val_recall_1: 0.1754\n",
      "Epoch 89/100\n",
      "343/343 [==============================] - 2s 5ms/step - loss: 0.2094 - binary_accuracy: 0.9399 - precision_1: 0.9623 - recall_1: 0.4334 - val_loss: 0.5533 - val_binary_accuracy: 0.8945 - val_precision_1: 0.6290 - val_recall_1: 0.2281\n",
      "Epoch 90/100\n",
      "343/343 [==============================] - 2s 5ms/step - loss: 0.2076 - binary_accuracy: 0.9416 - precision_1: 0.9752 - recall_1: 0.4448 - val_loss: 0.7239 - val_binary_accuracy: 0.8952 - val_precision_1: 0.6232 - val_recall_1: 0.2515\n",
      "Epoch 91/100\n",
      "343/343 [==============================] - 2s 5ms/step - loss: 0.2073 - binary_accuracy: 0.9416 - precision_1: 0.9752 - recall_1: 0.4448 - val_loss: 0.7283 - val_binary_accuracy: 0.8938 - val_precision_1: 0.6087 - val_recall_1: 0.2456\n",
      "Epoch 92/100\n",
      "343/343 [==============================] - 2s 5ms/step - loss: 0.2068 - binary_accuracy: 0.9410 - precision_1: 0.9689 - recall_1: 0.4419 - val_loss: 0.9270 - val_binary_accuracy: 0.8958 - val_precision_1: 0.6406 - val_recall_1: 0.2398\n",
      "Epoch 93/100\n",
      "343/343 [==============================] - 2s 5ms/step - loss: 0.2062 - binary_accuracy: 0.9407 - precision_1: 0.9518 - recall_1: 0.4476 - val_loss: 0.9705 - val_binary_accuracy: 0.8965 - val_precision_1: 0.6418 - val_recall_1: 0.2515\n",
      "Epoch 94/100\n",
      "343/343 [==============================] - 2s 5ms/step - loss: 0.2067 - binary_accuracy: 0.9416 - precision_1: 0.9811 - recall_1: 0.4419 - val_loss: 0.9856 - val_binary_accuracy: 0.8965 - val_precision_1: 0.6727 - val_recall_1: 0.2164\n",
      "Epoch 95/100\n",
      "343/343 [==============================] - 2s 5ms/step - loss: 0.2076 - binary_accuracy: 0.9405 - precision_1: 0.9627 - recall_1: 0.4391 - val_loss: 0.6687 - val_binary_accuracy: 0.8958 - val_precision_1: 0.6552 - val_recall_1: 0.2222\n",
      "Epoch 96/100\n",
      "343/343 [==============================] - 2s 5ms/step - loss: 0.2069 - binary_accuracy: 0.9407 - precision_1: 0.9747 - recall_1: 0.4363 - val_loss: 0.8918 - val_binary_accuracy: 0.8952 - val_precision_1: 0.6441 - val_recall_1: 0.2222\n",
      "Epoch 97/100\n",
      "343/343 [==============================] - 2s 5ms/step - loss: 0.2100 - binary_accuracy: 0.9413 - precision_1: 0.9810 - recall_1: 0.4391 - val_loss: 1.0064 - val_binary_accuracy: 0.8938 - val_precision_1: 0.6056 - val_recall_1: 0.2515\n",
      "Epoch 98/100\n",
      "343/343 [==============================] - 2s 5ms/step - loss: 0.2277 - binary_accuracy: 0.9390 - precision_1: 0.9500 - recall_1: 0.4306 - val_loss: 0.3487 - val_binary_accuracy: 0.8918 - val_precision_1: 0.8750 - val_recall_1: 0.0819\n",
      "Epoch 99/100\n",
      "343/343 [==============================] - 2s 5ms/step - loss: 0.2419 - binary_accuracy: 0.9314 - precision_1: 0.9155 - recall_1: 0.3683 - val_loss: 0.3534 - val_binary_accuracy: 0.8952 - val_precision_1: 0.6308 - val_recall_1: 0.2398\n",
      "Epoch 100/100\n",
      "343/343 [==============================] - 2s 5ms/step - loss: 0.2104 - binary_accuracy: 0.9407 - precision_1: 0.9747 - recall_1: 0.4363 - val_loss: 0.9489 - val_binary_accuracy: 0.8945 - val_precision_1: 0.6481 - val_recall_1: 0.2047\n"
     ]
    }
   ],
   "source": [
    "trainer = CNN.fit(\n",
    "     smiles_train,\n",
    "     labels_train,\n",
    "     epochs = 100,\n",
    "     batch_size = 10,\n",
    "     validation_data = (smiles_test,labels_test),  \n",
    "     verbose = 1)"
   ]
  },
  {
   "cell_type": "code",
   "execution_count": 39,
   "metadata": {},
   "outputs": [],
   "source": [
    "y_hat = (CNN.predict(smiles_test) > 0.5).astype(\"float\")"
   ]
  },
  {
   "cell_type": "code",
   "execution_count": 40,
   "metadata": {},
   "outputs": [
    {
     "ename": "KeyError",
     "evalue": "'accuracy'",
     "output_type": "error",
     "traceback": [
      "\u001b[0;31m---------------------------------------------------------------------------\u001b[0m",
      "\u001b[0;31mKeyError\u001b[0m                                  Traceback (most recent call last)",
      "\u001b[0;32m/tmp/ipykernel_12842/2378312141.py\u001b[0m in \u001b[0;36m<module>\u001b[0;34m\u001b[0m\n\u001b[0;32m----> 1\u001b[0;31m \u001b[0mplt\u001b[0m\u001b[0;34m.\u001b[0m\u001b[0mplot\u001b[0m\u001b[0;34m(\u001b[0m\u001b[0mtrainer\u001b[0m\u001b[0;34m.\u001b[0m\u001b[0mhistory\u001b[0m\u001b[0;34m[\u001b[0m\u001b[0;34m'accuracy'\u001b[0m\u001b[0;34m]\u001b[0m\u001b[0;34m)\u001b[0m\u001b[0;34m\u001b[0m\u001b[0;34m\u001b[0m\u001b[0m\n\u001b[0m\u001b[1;32m      2\u001b[0m \u001b[0mplt\u001b[0m\u001b[0;34m.\u001b[0m\u001b[0mplot\u001b[0m\u001b[0;34m(\u001b[0m\u001b[0mtrainer\u001b[0m\u001b[0;34m.\u001b[0m\u001b[0mhistory\u001b[0m\u001b[0;34m[\u001b[0m\u001b[0;34m'val_accuracy'\u001b[0m\u001b[0;34m]\u001b[0m\u001b[0;34m)\u001b[0m\u001b[0;34m\u001b[0m\u001b[0;34m\u001b[0m\u001b[0m\n\u001b[1;32m      3\u001b[0m \u001b[0mplt\u001b[0m\u001b[0;34m.\u001b[0m\u001b[0mlegend\u001b[0m\u001b[0;34m(\u001b[0m\u001b[0;34m[\u001b[0m\u001b[0;34m\"accuracy\"\u001b[0m\u001b[0;34m,\u001b[0m\u001b[0;34m\"val_accuracy\"\u001b[0m\u001b[0;34m]\u001b[0m\u001b[0;34m)\u001b[0m\u001b[0;34m\u001b[0m\u001b[0;34m\u001b[0m\u001b[0m\n\u001b[1;32m      4\u001b[0m \u001b[0mplt\u001b[0m\u001b[0;34m.\u001b[0m\u001b[0mtitle\u001b[0m\u001b[0;34m(\u001b[0m\u001b[0;34m'Accuracy Vs Val_Accuracy'\u001b[0m\u001b[0;34m)\u001b[0m\u001b[0;34m\u001b[0m\u001b[0;34m\u001b[0m\u001b[0m\n\u001b[1;32m      5\u001b[0m \u001b[0mplt\u001b[0m\u001b[0;34m.\u001b[0m\u001b[0mxlabel\u001b[0m\u001b[0;34m(\u001b[0m\u001b[0;34m'Epoch'\u001b[0m\u001b[0;34m)\u001b[0m\u001b[0;34m\u001b[0m\u001b[0;34m\u001b[0m\u001b[0m\n",
      "\u001b[0;31mKeyError\u001b[0m: 'accuracy'"
     ]
    }
   ],
   "source": [
    "plt.plot(trainer.history['accuracy'])\n",
    "plt.plot(trainer.history['val_accuracy'])\n",
    "plt.legend([\"accuracy\",\"val_accuracy\"])\n",
    "plt.title('Accuracy Vs Val_Accuracy')\n",
    "plt.xlabel('Epoch')\n",
    "plt.ylabel('Accuracy')"
   ]
  },
  {
   "cell_type": "code",
   "execution_count": null,
   "metadata": {},
   "outputs": [],
   "source": [
    "plt.plot(trainer.history['loss'])\n",
    "plt.plot(trainer.history['val_loss'])\n",
    "plt.legend([\"loss\",\"val_loss\"])\n",
    "plt.title('Loss Vs Val_loss')\n",
    "plt.xlabel('Epoch')\n",
    "plt.ylabel('Loss')"
   ]
  },
  {
   "cell_type": "code",
   "execution_count": 31,
   "metadata": {},
   "outputs": [],
   "source": [
    "cm2 = confusion_matrix(labels_test, y_hat)  "
   ]
  },
  {
   "cell_type": "code",
   "execution_count": 32,
   "metadata": {},
   "outputs": [
    {
     "data": {
      "text/plain": [
       "Text(0.5, 33.0, 'Predicted Values')"
      ]
     },
     "execution_count": 32,
     "metadata": {},
     "output_type": "execute_result"
    },
    {
     "data": {
      "image/png": "[encoded data removed]",
      "text/plain": [
       "<Figure size 432x432 with 2 Axes>"
      ]
     },
     "metadata": {
      "needs_background": "light"
     },
     "output_type": "display_data"
    }
   ],
   "source": [
    "plt.figure(figsize = (6,6))\n",
    "sns.heatmap(cm2, annot = True, fmt = \".5g\", cmap = \"coolwarm\",linewidths=.5)\n",
    "plt.ylabel('Actual Values',fontsize = 14)\n",
    "plt.xlabel('Predicted Values')\n"
   ]
  },
  {
   "cell_type": "code",
   "execution_count": 33,
   "metadata": {},
   "outputs": [
    {
     "data": {
      "text/plain": [
       "(1270, 28, 127, 44)"
      ]
     },
     "execution_count": 33,
     "metadata": {},
     "output_type": "execute_result"
    }
   ],
   "source": [
    "tn2, fp2, fn2, tp2 = confusion_matrix(labels_test, y_hat).ravel()\n",
    "tn2, fp2, fn2, tp2"
   ]
  },
  {
   "cell_type": "code",
   "execution_count": 34,
   "metadata": {},
   "outputs": [
    {
     "data": {
      "text/plain": [
       "0.8944860449285228"
      ]
     },
     "execution_count": 34,
     "metadata": {},
     "output_type": "execute_result"
    }
   ],
   "source": [
    "#acurácia\n",
    "(tp2+tn2)/(tp2+tn2+fp2+fn2)"
   ]
  },
  {
   "cell_type": "code",
   "execution_count": 35,
   "metadata": {},
   "outputs": [
    {
     "data": {
      "text/plain": [
       "0.2573099415204678"
      ]
     },
     "execution_count": 35,
     "metadata": {},
     "output_type": "execute_result"
    }
   ],
   "source": [
    "#acerta o que é antibiótico\n",
    "(tp2)/(tp2+fn2)"
   ]
  },
  {
   "cell_type": "code",
   "execution_count": 36,
   "metadata": {},
   "outputs": [
    {
     "data": {
      "text/plain": [
       "0.9784283513097073"
      ]
     },
     "execution_count": 36,
     "metadata": {},
     "output_type": "execute_result"
    }
   ],
   "source": [
    "#acerta o que não é antibiótico\n",
    "(tn2)/(tn2+fp2)"
   ]
  }
 ],
 "metadata": {
  "interpreter": {
   "hash": "3218d1e1345bf85c44ac3e3bdb7899973b22b8c207b0aa6281a3c4896a58620c"
  },
  "kernelspec": {
   "display_name": "Python 3.7.11 ('diversedrl')",
   "language": "python",
   "name": "python3"
  },
  "language_info": {
   "codemirror_mode": {
    "name": "ipython",
    "version": 3
   },
   "file_extension": ".py",
   "mimetype": "text/x-python",
   "name": "python",
   "nbconvert_exporter": "python",
   "pygments_lexer": "ipython3",
   "version": "3.7.11"
  },
  "orig_nbformat": 4
 },
 "nbformat": 4,
 "nbformat_minor": 2
}
