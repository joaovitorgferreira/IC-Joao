{
 "cells": [
  {
   "cell_type": "markdown",
   "metadata": {},
   "source": [
    "\n",
    "Classificador\n",
    "1. Importar dados\n",
    "\n",
    "Para criar um classificador formatar os dados da sequinte maneira:\n",
    "\n",
    "moleculas -> uma lista/array com todos os smiles do seu banco de dados\n",
    "\n",
    "classes -> uma lista/array de zeros e uns representando antibiótico e não antibiótico, respectivamente\n",
    "\n",
    "O classificador vai identificar traços das moleculas e associá-los às classes, então cada molécula deverá ter o mesmo índice que sua classe.\n",
    "\n",
    "bibliotecas sugeridas:\n",
    "\n",
    "    pandas\n",
    "    numpy\n",
    "\n"
   ]
  },
  {
   "cell_type": "code",
   "execution_count": 1,
   "metadata": {},
   "outputs": [],
   "source": [
    "import pandas as pd\n",
    "import numpy as np\n",
    "import sklearn as sk\n",
    "\n",
    "#Importar dados\n",
    "df = pd.read_csv('/home/joao/documentos/IC-Joao/classificador/finale_ant.csv',index_col=False)\n",
    "\n",
    "#Definir a coluna das classes\n",
    "labels = np.asarray(df.Classe) #1 para antibiótico, 0 para não antibiótico\n",
    "\n",
    "#Selecionar SMILES sem as classes\n",
    "df_selected = df.drop([\"Classe\",\"coconut_id\",\"Index\"], axis=1)\n",
    "\n",
    "#Codificar classes (não é mais necessário)\n",
    "#from sklearn.preprocessing import LabelEncoder\n",
    "#le = LabelEncoder()\n",
    "#le.fit(labels)\n",
    "\n",
    "#labels = le.transform(labels)"
   ]
  },
  {
   "cell_type": "markdown",
   "metadata": {},
   "source": [
    "\n",
    "2. Processamento dos dados\n",
    "2.1 Encoding/padding\n",
    "\n",
    "Nessa etapa acontece a codificação das moleculas. Pode ser tokens, one hot vector, integer vector. Você decide.\n",
    "\n",
    "É importante que ao final do processamento todos os tokens tenham o mesmo comprimento, então um processo chamado padding precisa ser aplicado.\n",
    "\n",
    "Por convenção as variáveis em machine learning assumem esses nomes:\n",
    "\n",
    "X -> uma lista/array com todos os smiles codificados\n",
    "\n",
    "y -> uma lista/array de zeros e uns representando antibiótico e não antibiótico, respectivamente\n",
    "\n",
    "Bibliotecas sugeridas:\n",
    "\n",
    "    numpy\n",
    "    sklearn\n",
    "\n"
   ]
  },
  {
   "cell_type": "markdown",
   "metadata": {},
   "source": [
    "ADIÇÕES DO TIAGO: INICIO"
   ]
  },
  {
   "cell_type": "code",
   "execution_count": 2,
   "metadata": {},
   "outputs": [],
   "source": [
    "comprimentos = [len(x) for x in df_selected.SMILES.values]"
   ]
  },
  {
   "cell_type": "code",
   "execution_count": 3,
   "metadata": {},
   "outputs": [
    {
     "data": {
      "text/plain": [
       "394"
      ]
     },
     "execution_count": 3,
     "metadata": {},
     "output_type": "execute_result"
    }
   ],
   "source": [
    "maior_smile = np.max(comprimentos)\n",
    "maior_smile"
   ]
  },
  {
   "cell_type": "code",
   "execution_count": 4,
   "metadata": {},
   "outputs": [
    {
     "name": "stderr",
     "output_type": "stream",
     "text": [
      "2022-06-30 12:43:32.745420: W tensorflow/stream_executor/platform/default/dso_loader.cc:64] Could not load dynamic library 'libcudart.so.11.0'; dlerror: libcudart.so.11.0: cannot open shared object file: No such file or directory\n",
      "2022-06-30 12:43:32.745437: I tensorflow/stream_executor/cuda/cudart_stub.cc:29] Ignore above cudart dlerror if you do not have a GPU set up on your machine.\n"
     ]
    }
   ],
   "source": [
    "from tensorflow.keras.preprocessing.sequence import pad_sequences\n",
    "\n",
    "smiles = list(df_selected.SMILES.values)\n",
    "\n",
    "table = ['se','Fe','As','Cl', 'Br', 'Na', 'Li', 'Ca', 'Al', 'Ag', 'Se', 'Mg', 'Zn', 'H', 'B', 'C', 'N', 'O', 'P', 'S', 'F', 'I', 'K', '(', ')', '[', ']', '=', '#', '@', '*', '%', '0', '1', '2', '3', '4', '5', '6', '7', '8', '9', '.', '/', '\\\\', '+', '-', 'c', 'n', 'o', 's', 'p']\n"
   ]
  },
  {
   "cell_type": "code",
   "execution_count": 5,
   "metadata": {},
   "outputs": [
    {
     "data": {
      "text/plain": [
       "4895"
      ]
     },
     "execution_count": 5,
     "metadata": {},
     "output_type": "execute_result"
    }
   ],
   "source": [
    "len(smiles)"
   ]
  },
  {
   "cell_type": "code",
   "execution_count": 6,
   "metadata": {},
   "outputs": [],
   "source": [
    "def tokenizer(smiles,table):\n",
    "    tokens_list = []\n",
    "    #index = 0\n",
    "    for smile in smiles:\n",
    "        #print(index)\n",
    "        i = 0\n",
    "        token = []\n",
    "        while i < len(smile):\n",
    "            for j in table:\n",
    "                if j == smile[i:i+len(j)]:\n",
    "                    token.append(j)\n",
    "                    i = i+len(j)\n",
    "                    break\n",
    "        while len(token) < maior_smile:\n",
    "            token.insert(0,\"A\")\n",
    "        tokens_list.append(token)\n",
    "        #index = index+1\n",
    "    return tokens_list\n",
    "\n",
    "padded_tokens = tokenizer(smiles,table)\n"
   ]
  },
  {
   "cell_type": "code",
   "execution_count": 7,
   "metadata": {},
   "outputs": [
    {
     "data": {
      "text/plain": [
       "4895"
      ]
     },
     "execution_count": 7,
     "metadata": {},
     "output_type": "execute_result"
    }
   ],
   "source": [
    "len(padded_tokens)"
   ]
  },
  {
   "cell_type": "code",
   "execution_count": 8,
   "metadata": {},
   "outputs": [
    {
     "data": {
      "text/plain": [
       "394"
      ]
     },
     "execution_count": 8,
     "metadata": {},
     "output_type": "execute_result"
    }
   ],
   "source": [
    "len(padded_tokens[0])"
   ]
  },
  {
   "cell_type": "code",
   "execution_count": 9,
   "metadata": {},
   "outputs": [],
   "source": [
    "#Usar integer encoding ao invez de one hot\n",
    "from sklearn.preprocessing import LabelEncoder\n",
    "tokens_encoder = LabelEncoder()\n",
    "table.append(\"A\")\n",
    "tokens_encoder.fit(table)\n",
    "tokens_int_encoded = np.array([tokens_encoder.transform(i) for i in padded_tokens])\n"
   ]
  },
  {
   "cell_type": "code",
   "execution_count": 10,
   "metadata": {},
   "outputs": [
    {
     "data": {
      "text/plain": [
       "array([[21, 21, 21, ..., 39,  3, 27],\n",
       "       [21, 21, 21, ..., 39,  3, 27],\n",
       "       [21, 21, 21, ..., 27, 37, 27],\n",
       "       ...,\n",
       "       [21, 21, 21, ...,  3, 27, 27],\n",
       "       [21, 21, 21, ..., 27,  3, 27],\n",
       "       [21, 21, 21, ..., 27,  3, 27]])"
      ]
     },
     "execution_count": 10,
     "metadata": {},
     "output_type": "execute_result"
    }
   ],
   "source": [
    "tokens_int_encoded"
   ]
  },
  {
   "cell_type": "code",
   "execution_count": 11,
   "metadata": {},
   "outputs": [
    {
     "data": {
      "text/plain": [
       "(4895, 394)"
      ]
     },
     "execution_count": 11,
     "metadata": {},
     "output_type": "execute_result"
    }
   ],
   "source": [
    "tokens_int_encoded.shape"
   ]
  },
  {
   "cell_type": "markdown",
   "metadata": {},
   "source": [
    "ADIÇÕES DO TIAGO: FIM"
   ]
  },
  {
   "cell_type": "markdown",
   "metadata": {},
   "source": [
    "\n",
    "3. Holdout: train/test split\n",
    "\n",
    "Depois do processamento, seu banco de dados precisa ser dividio em traino e teste. O Holdout é o ponto de separação. Geralmente os dados são dividos em dados em 70/30. 70% para treino e 30% para teste.\n",
    "\n",
    "Agora as variáveis serão separadas pelos conjuntos criados:\n",
    "\n",
    "X_treino -> 70% dos smiles codificados\n",
    "\n",
    "X_teste -> 30% dos smiles codificados\n",
    "\n",
    "y_treino -> 70% das classes\n",
    "\n",
    "y_teste -> 30% das classes\n",
    "\n",
    "Bibliotecas sugeridas:\n",
    "\n",
    "    numpy\n",
    "    sklearn\n",
    "\n"
   ]
  },
  {
   "cell_type": "code",
   "execution_count": 12,
   "metadata": {},
   "outputs": [],
   "source": [
    "from sklearn.model_selection import train_test_split\n",
    "\n",
    "smiles_train, smiles_test, labels_train, labels_test = train_test_split(\n",
    "    tokens_int_encoded, labels, \n",
    "    test_size=0.30, random_state=42)\n"
   ]
  },
  {
   "cell_type": "markdown",
   "metadata": {},
   "source": [
    "\n",
    "4. Modelo\n",
    "\n",
    "Depois de preparar os dados, precisamos criar um variável que contem nosso modelo. Estude o tensoflow/keras, mais especificamente a função Sequential(), para criação dos modelos.\n",
    "\n",
    "Arquiteturas sugeridas:\n",
    "\n",
    "    MultiLayer Perceptron (MLP)\n",
    "    Convolutional Neural Networks (CNN)\n",
    "\n",
    "Não esqueça de adicionar as métricas precision, recall, accuracy e loss. Para essa ultima, você precisa estudar sobre as funções de perda usadas para classificação binária (0,1).\n",
    "\n",
    "Depois de construído use o método .fit() para treinar seu classificador\n"
   ]
  },
  {
   "cell_type": "code",
   "execution_count": 13,
   "metadata": {},
   "outputs": [
    {
     "name": "stderr",
     "output_type": "stream",
     "text": [
      "2022-06-30 12:43:37.727692: W tensorflow/stream_executor/platform/default/dso_loader.cc:64] Could not load dynamic library 'libcuda.so.1'; dlerror: libcuda.so.1: cannot open shared object file: No such file or directory\n",
      "2022-06-30 12:43:37.727712: W tensorflow/stream_executor/cuda/cuda_driver.cc:269] failed call to cuInit: UNKNOWN ERROR (303)\n",
      "2022-06-30 12:43:37.727729: I tensorflow/stream_executor/cuda/cuda_diagnostics.cc:156] kernel driver does not appear to be running on this host (seriema): /proc/driver/nvidia/version does not exist\n",
      "2022-06-30 12:43:37.727870: I tensorflow/core/platform/cpu_feature_guard.cc:151] This TensorFlow binary is optimized with oneAPI Deep Neural Network Library (oneDNN) to use the following CPU instructions in performance-critical operations:  AVX2 FMA\n",
      "To enable them in other operations, rebuild TensorFlow with the appropriate compiler flags.\n"
     ]
    }
   ],
   "source": [
    "import tensorflow as tf\n",
    "from tensorflow.keras.models import Sequential\n",
    "model = Sequential([\n",
    "    tf.keras.layers.Input(shape = 394,),\n",
    "    tf.keras.layers.Dense(350, activation = 'relu'),\n",
    "    tf.keras.layers.Dense(200, activation = 'relu'),\n",
    "    tf.keras.layers.Dense(100, activation = 'relu'),\n",
    "    tf.keras.layers.Dense(1, activation = 'sigmoid')\n",
    "])\n",
    "model.compile(\n",
    "    optimizer='adam',\n",
    "    loss = tf.losses.BinaryCrossentropy(),\n",
    "    metrics = [tf.metrics.BinaryAccuracy(),\n",
    "    tf.metrics.Precision(),\n",
    "    tf.metrics.Recall()]\n",
    "\n",
    ")"
   ]
  },
  {
   "cell_type": "code",
   "execution_count": 14,
   "metadata": {},
   "outputs": [
    {
     "name": "stdout",
     "output_type": "stream",
     "text": [
      "Model: \"sequential\"\n",
      "_________________________________________________________________\n",
      " Layer (type)                Output Shape              Param #   \n",
      "=================================================================\n",
      " dense (Dense)               (None, 350)               138250    \n",
      "                                                                 \n",
      " dense_1 (Dense)             (None, 200)               70200     \n",
      "                                                                 \n",
      " dense_2 (Dense)             (None, 100)               20100     \n",
      "                                                                 \n",
      " dense_3 (Dense)             (None, 1)                 101       \n",
      "                                                                 \n",
      "=================================================================\n",
      "Total params: 228,651\n",
      "Trainable params: 228,651\n",
      "Non-trainable params: 0\n",
      "_________________________________________________________________\n"
     ]
    }
   ],
   "source": [
    "model.summary()"
   ]
  },
  {
   "cell_type": "code",
   "execution_count": 15,
   "metadata": {},
   "outputs": [
    {
     "data": {
      "text/plain": [
       "array([1, 1, 0, ..., 0, 0, 0])"
      ]
     },
     "execution_count": 15,
     "metadata": {},
     "output_type": "execute_result"
    }
   ],
   "source": [
    "labels_test"
   ]
  },
  {
   "cell_type": "code",
   "execution_count": 16,
   "metadata": {},
   "outputs": [
    {
     "name": "stdout",
     "output_type": "stream",
     "text": [
      "Epoch 1/100\n",
      "108/108 [==============================] - 1s 3ms/step - loss: 1.3058 - binary_accuracy: 0.8450 - precision: 0.1496 - recall: 0.1076 - val_loss: 0.8657 - val_binary_accuracy: 0.3438 - val_precision: 0.1220 - val_recall: 0.7485\n",
      "Epoch 2/100\n",
      "108/108 [==============================] - 0s 2ms/step - loss: 0.4244 - binary_accuracy: 0.8795 - precision: 0.2059 - recall: 0.0595 - val_loss: 0.4160 - val_binary_accuracy: 0.8829 - val_precision: 0.0000e+00 - val_recall: 0.0000e+00\n",
      "Epoch 3/100\n",
      "108/108 [==============================] - 0s 2ms/step - loss: 0.3439 - binary_accuracy: 0.8897 - precision: 0.3457 - recall: 0.0793 - val_loss: 0.5565 - val_binary_accuracy: 0.7250 - val_precision: 0.2334 - val_recall: 0.5965\n",
      "Epoch 4/100\n",
      "108/108 [==============================] - 0s 2ms/step - loss: 0.2969 - binary_accuracy: 0.8964 - precision: 0.4848 - recall: 0.0907 - val_loss: 0.4091 - val_binary_accuracy: 0.8836 - val_precision: 0.5000 - val_recall: 0.0058\n",
      "Epoch 5/100\n",
      "108/108 [==============================] - 0s 2ms/step - loss: 0.3138 - binary_accuracy: 0.8961 - precision: 0.4839 - recall: 0.1275 - val_loss: 0.3328 - val_binary_accuracy: 0.8781 - val_precision: 0.4000 - val_recall: 0.0936\n",
      "Epoch 6/100\n",
      "108/108 [==============================] - 0s 2ms/step - loss: 0.2887 - binary_accuracy: 0.8973 - precision: 0.5053 - recall: 0.1360 - val_loss: 0.4334 - val_binary_accuracy: 0.8836 - val_precision: 0.0000e+00 - val_recall: 0.0000e+00\n",
      "Epoch 7/100\n",
      "108/108 [==============================] - 0s 2ms/step - loss: 0.2658 - binary_accuracy: 0.8970 - precision: 0.5000 - recall: 0.1473 - val_loss: 0.3050 - val_binary_accuracy: 0.8816 - val_precision: 0.4348 - val_recall: 0.0585\n",
      "Epoch 8/100\n",
      "108/108 [==============================] - 0s 2ms/step - loss: 0.2719 - binary_accuracy: 0.9031 - precision: 0.6082 - recall: 0.1671 - val_loss: 0.3747 - val_binary_accuracy: 0.8666 - val_precision: 0.4233 - val_recall: 0.4035\n",
      "Epoch 9/100\n",
      "108/108 [==============================] - 0s 2ms/step - loss: 0.3143 - binary_accuracy: 0.8911 - precision: 0.4306 - recall: 0.1756 - val_loss: 0.3157 - val_binary_accuracy: 0.8863 - val_precision: 0.6667 - val_recall: 0.0468\n",
      "Epoch 10/100\n",
      "108/108 [==============================] - 0s 2ms/step - loss: 0.2672 - binary_accuracy: 0.9031 - precision: 0.5963 - recall: 0.1841 - val_loss: 0.6426 - val_binary_accuracy: 0.8836 - val_precision: 0.0000e+00 - val_recall: 0.0000e+00\n",
      "Epoch 11/100\n",
      "108/108 [==============================] - 0s 2ms/step - loss: 0.3199 - binary_accuracy: 0.8873 - precision: 0.3226 - recall: 0.0850 - val_loss: 0.3227 - val_binary_accuracy: 0.8816 - val_precision: 0.4727 - val_recall: 0.1520\n",
      "Epoch 12/100\n",
      "108/108 [==============================] - 0s 2ms/step - loss: 0.3010 - binary_accuracy: 0.8975 - precision: 0.5143 - recall: 0.1020 - val_loss: 0.3071 - val_binary_accuracy: 0.8850 - val_precision: 0.5500 - val_recall: 0.0643\n",
      "Epoch 13/100\n",
      "108/108 [==============================] - 0s 2ms/step - loss: 0.2869 - binary_accuracy: 0.9005 - precision: 0.5714 - recall: 0.1360 - val_loss: 0.3153 - val_binary_accuracy: 0.8829 - val_precision: 0.0000e+00 - val_recall: 0.0000e+00\n",
      "Epoch 14/100\n",
      "108/108 [==============================] - 0s 2ms/step - loss: 0.2877 - binary_accuracy: 0.9031 - precision: 0.6235 - recall: 0.1501 - val_loss: 0.3644 - val_binary_accuracy: 0.8639 - val_precision: 0.4027 - val_recall: 0.3509\n",
      "Epoch 15/100\n",
      "108/108 [==============================] - 0s 2ms/step - loss: 0.2662 - binary_accuracy: 0.9046 - precision: 0.6140 - recall: 0.1983 - val_loss: 0.2923 - val_binary_accuracy: 0.8890 - val_precision: 0.7222 - val_recall: 0.0760\n",
      "Epoch 16/100\n",
      "108/108 [==============================] - 0s 2ms/step - loss: 0.2693 - binary_accuracy: 0.8999 - precision: 0.5658 - recall: 0.1218 - val_loss: 0.4104 - val_binary_accuracy: 0.8843 - val_precision: 1.0000 - val_recall: 0.0058\n",
      "Epoch 17/100\n",
      "108/108 [==============================] - 0s 2ms/step - loss: 0.2493 - binary_accuracy: 0.9072 - precision: 0.6549 - recall: 0.2096 - val_loss: 0.3422 - val_binary_accuracy: 0.8741 - val_precision: 0.4364 - val_recall: 0.2807\n",
      "Epoch 18/100\n",
      "108/108 [==============================] - 0s 2ms/step - loss: 0.2709 - binary_accuracy: 0.9002 - precision: 0.5679 - recall: 0.1303 - val_loss: 0.3169 - val_binary_accuracy: 0.8713 - val_precision: 0.3816 - val_recall: 0.1696\n",
      "Epoch 19/100\n",
      "108/108 [==============================] - 0s 2ms/step - loss: 0.2573 - binary_accuracy: 0.9054 - precision: 0.6330 - recall: 0.1955 - val_loss: 0.3171 - val_binary_accuracy: 0.8720 - val_precision: 0.4175 - val_recall: 0.2515\n",
      "Epoch 20/100\n",
      "108/108 [==============================] - 0s 2ms/step - loss: 0.2625 - binary_accuracy: 0.9002 - precision: 0.5524 - recall: 0.1643 - val_loss: 0.3138 - val_binary_accuracy: 0.8843 - val_precision: 0.5455 - val_recall: 0.0351\n",
      "Epoch 21/100\n",
      "108/108 [==============================] - 0s 2ms/step - loss: 0.2602 - binary_accuracy: 0.9028 - precision: 0.6515 - recall: 0.1218 - val_loss: 0.3306 - val_binary_accuracy: 0.8877 - val_precision: 0.6667 - val_recall: 0.0702\n",
      "Epoch 22/100\n",
      "108/108 [==============================] - 0s 2ms/step - loss: 0.2544 - binary_accuracy: 0.9081 - precision: 0.6532 - recall: 0.2295 - val_loss: 0.3147 - val_binary_accuracy: 0.8836 - val_precision: 0.5000 - val_recall: 0.0175\n",
      "Epoch 23/100\n",
      "108/108 [==============================] - 0s 2ms/step - loss: 0.2342 - binary_accuracy: 0.9107 - precision: 0.6975 - recall: 0.2351 - val_loss: 0.3010 - val_binary_accuracy: 0.8904 - val_precision: 0.6389 - val_recall: 0.1345\n",
      "Epoch 24/100\n",
      "108/108 [==============================] - 0s 2ms/step - loss: 0.2575 - binary_accuracy: 0.9072 - precision: 0.6378 - recall: 0.2295 - val_loss: 0.3071 - val_binary_accuracy: 0.8856 - val_precision: 0.6667 - val_recall: 0.0351\n",
      "Epoch 25/100\n",
      "108/108 [==============================] - 0s 2ms/step - loss: 0.2582 - binary_accuracy: 0.9089 - precision: 0.7303 - recall: 0.1841 - val_loss: 0.3323 - val_binary_accuracy: 0.8843 - val_precision: 0.5714 - val_recall: 0.0234\n",
      "Epoch 26/100\n",
      "108/108 [==============================] - 0s 2ms/step - loss: 0.2574 - binary_accuracy: 0.9072 - precision: 0.6923 - recall: 0.1785 - val_loss: 0.3214 - val_binary_accuracy: 0.8734 - val_precision: 0.4336 - val_recall: 0.2865\n",
      "Epoch 27/100\n",
      "108/108 [==============================] - 0s 2ms/step - loss: 0.2502 - binary_accuracy: 0.9063 - precision: 0.6739 - recall: 0.1756 - val_loss: 0.3330 - val_binary_accuracy: 0.8639 - val_precision: 0.3717 - val_recall: 0.2456\n",
      "Epoch 28/100\n",
      "108/108 [==============================] - 0s 2ms/step - loss: 0.2476 - binary_accuracy: 0.9092 - precision: 0.6842 - recall: 0.2210 - val_loss: 0.3492 - val_binary_accuracy: 0.8591 - val_precision: 0.3966 - val_recall: 0.4035\n",
      "Epoch 29/100\n",
      "108/108 [==============================] - 0s 2ms/step - loss: 0.2577 - binary_accuracy: 0.9063 - precision: 0.6404 - recall: 0.2068 - val_loss: 0.3083 - val_binary_accuracy: 0.8781 - val_precision: 0.4600 - val_recall: 0.2690\n",
      "Epoch 30/100\n",
      "108/108 [==============================] - 0s 2ms/step - loss: 0.2403 - binary_accuracy: 0.9098 - precision: 0.6746 - recall: 0.2408 - val_loss: 0.3295 - val_binary_accuracy: 0.8863 - val_precision: 0.5556 - val_recall: 0.1170\n",
      "Epoch 31/100\n",
      "108/108 [==============================] - 0s 2ms/step - loss: 0.2501 - binary_accuracy: 0.9072 - precision: 0.6496 - recall: 0.2153 - val_loss: 0.3248 - val_binary_accuracy: 0.8843 - val_precision: 0.6000 - val_recall: 0.0175\n",
      "Epoch 32/100\n",
      "108/108 [==============================] - 0s 2ms/step - loss: 0.2528 - binary_accuracy: 0.9083 - precision: 0.6857 - recall: 0.2040 - val_loss: 0.4540 - val_binary_accuracy: 0.7774 - val_precision: 0.2383 - val_recall: 0.4152\n",
      "Epoch 33/100\n",
      "108/108 [==============================] - 0s 2ms/step - loss: 0.2687 - binary_accuracy: 0.9043 - precision: 0.6289 - recall: 0.1728 - val_loss: 0.2990 - val_binary_accuracy: 0.8884 - val_precision: 0.6522 - val_recall: 0.0877\n",
      "Epoch 34/100\n",
      "108/108 [==============================] - 0s 2ms/step - loss: 0.2478 - binary_accuracy: 0.9081 - precision: 0.7111 - recall: 0.1813 - val_loss: 0.3380 - val_binary_accuracy: 0.8863 - val_precision: 0.6429 - val_recall: 0.0526\n",
      "Epoch 35/100\n",
      "108/108 [==============================] - 0s 2ms/step - loss: 0.2593 - binary_accuracy: 0.9037 - precision: 0.6494 - recall: 0.1416 - val_loss: 0.3268 - val_binary_accuracy: 0.8836 - val_precision: 0.0000e+00 - val_recall: 0.0000e+00\n",
      "Epoch 36/100\n",
      "108/108 [==============================] - 0s 2ms/step - loss: 0.2802 - binary_accuracy: 0.8993 - precision: 0.6818 - recall: 0.0425 - val_loss: 0.3060 - val_binary_accuracy: 0.8829 - val_precision: 0.0000e+00 - val_recall: 0.0000e+00\n",
      "Epoch 37/100\n",
      "108/108 [==============================] - 0s 2ms/step - loss: 0.2591 - binary_accuracy: 0.9019 - precision: 0.7742 - recall: 0.0680 - val_loss: 0.3008 - val_binary_accuracy: 0.8856 - val_precision: 0.5455 - val_recall: 0.1053\n",
      "Epoch 38/100\n",
      "108/108 [==============================] - 0s 2ms/step - loss: 0.2725 - binary_accuracy: 0.9008 - precision: 0.5915 - recall: 0.1190 - val_loss: 0.5895 - val_binary_accuracy: 0.5861 - val_precision: 0.1978 - val_recall: 0.8363\n",
      "Epoch 39/100\n",
      "108/108 [==============================] - 0s 2ms/step - loss: 0.3270 - binary_accuracy: 0.8345 - precision: 0.1698 - recall: 0.1558 - val_loss: 0.3204 - val_binary_accuracy: 0.8856 - val_precision: 0.6667 - val_recall: 0.0351\n",
      "Epoch 40/100\n",
      "108/108 [==============================] - 0s 2ms/step - loss: 0.2645 - binary_accuracy: 0.9043 - precision: 0.6404 - recall: 0.1615 - val_loss: 0.3127 - val_binary_accuracy: 0.8850 - val_precision: 0.5833 - val_recall: 0.0409\n",
      "Epoch 41/100\n",
      "108/108 [==============================] - 0s 2ms/step - loss: 0.2597 - binary_accuracy: 0.9048 - precision: 0.6452 - recall: 0.1700 - val_loss: 0.3033 - val_binary_accuracy: 0.8850 - val_precision: 0.5294 - val_recall: 0.1053\n",
      "Epoch 42/100\n",
      "108/108 [==============================] - 0s 2ms/step - loss: 0.2590 - binary_accuracy: 0.9031 - precision: 0.6000 - recall: 0.1785 - val_loss: 0.3224 - val_binary_accuracy: 0.8856 - val_precision: 0.6364 - val_recall: 0.0409\n",
      "Epoch 43/100\n",
      "108/108 [==============================] - 0s 2ms/step - loss: 0.2587 - binary_accuracy: 0.9028 - precision: 0.6282 - recall: 0.1388 - val_loss: 0.3025 - val_binary_accuracy: 0.8856 - val_precision: 0.5349 - val_recall: 0.1345\n",
      "Epoch 44/100\n",
      "108/108 [==============================] - 0s 2ms/step - loss: 0.2603 - binary_accuracy: 0.9025 - precision: 0.5856 - recall: 0.1841 - val_loss: 0.3020 - val_binary_accuracy: 0.8822 - val_precision: 0.4808 - val_recall: 0.1462\n",
      "Epoch 45/100\n",
      "108/108 [==============================] - 0s 2ms/step - loss: 0.2447 - binary_accuracy: 0.9016 - precision: 0.6538 - recall: 0.0963 - val_loss: 0.3592 - val_binary_accuracy: 0.8877 - val_precision: 0.6875 - val_recall: 0.0643\n",
      "Epoch 46/100\n",
      "108/108 [==============================] - 0s 2ms/step - loss: 0.2464 - binary_accuracy: 0.9034 - precision: 0.6146 - recall: 0.1671 - val_loss: 0.3112 - val_binary_accuracy: 0.8856 - val_precision: 0.5455 - val_recall: 0.1053\n",
      "Epoch 47/100\n",
      "108/108 [==============================] - 0s 2ms/step - loss: 0.2448 - binary_accuracy: 0.9063 - precision: 0.6481 - recall: 0.1983 - val_loss: 0.3092 - val_binary_accuracy: 0.8720 - val_precision: 0.4309 - val_recall: 0.3099\n",
      "Epoch 48/100\n",
      "108/108 [==============================] - 0s 2ms/step - loss: 0.2500 - binary_accuracy: 0.9048 - precision: 0.5839 - recall: 0.2663 - val_loss: 0.3031 - val_binary_accuracy: 0.8870 - val_precision: 0.5714 - val_recall: 0.1170\n",
      "Epoch 49/100\n",
      "108/108 [==============================] - 0s 2ms/step - loss: 0.2467 - binary_accuracy: 0.9054 - precision: 0.6142 - recall: 0.2210 - val_loss: 0.3215 - val_binary_accuracy: 0.8863 - val_precision: 0.5588 - val_recall: 0.1111\n",
      "Epoch 50/100\n",
      "108/108 [==============================] - 0s 2ms/step - loss: 0.2440 - binary_accuracy: 0.9054 - precision: 0.6000 - recall: 0.2465 - val_loss: 0.3402 - val_binary_accuracy: 0.8890 - val_precision: 0.6429 - val_recall: 0.1053\n",
      "Epoch 51/100\n",
      "108/108 [==============================] - 0s 2ms/step - loss: 0.2423 - binary_accuracy: 0.9083 - precision: 0.6364 - recall: 0.2578 - val_loss: 0.3218 - val_binary_accuracy: 0.8863 - val_precision: 0.5500 - val_recall: 0.1287\n",
      "Epoch 52/100\n",
      "108/108 [==============================] - 0s 2ms/step - loss: 0.2454 - binary_accuracy: 0.9101 - precision: 0.6471 - recall: 0.2805 - val_loss: 0.3441 - val_binary_accuracy: 0.8877 - val_precision: 0.6500 - val_recall: 0.0760\n",
      "Epoch 53/100\n",
      "108/108 [==============================] - 0s 2ms/step - loss: 0.2444 - binary_accuracy: 0.9037 - precision: 0.5689 - recall: 0.2691 - val_loss: 0.3039 - val_binary_accuracy: 0.8809 - val_precision: 0.4630 - val_recall: 0.1462\n",
      "Epoch 54/100\n",
      "108/108 [==============================] - 0s 2ms/step - loss: 0.2494 - binary_accuracy: 0.9078 - precision: 0.6609 - recall: 0.2153 - val_loss: 0.3278 - val_binary_accuracy: 0.8897 - val_precision: 0.6364 - val_recall: 0.1228\n",
      "Epoch 55/100\n",
      "108/108 [==============================] - 0s 2ms/step - loss: 0.2451 - binary_accuracy: 0.9054 - precision: 0.5868 - recall: 0.2776 - val_loss: 0.3655 - val_binary_accuracy: 0.8877 - val_precision: 0.6500 - val_recall: 0.0760\n",
      "Epoch 56/100\n",
      "108/108 [==============================] - 0s 2ms/step - loss: 0.2479 - binary_accuracy: 0.9057 - precision: 0.5904 - recall: 0.2776 - val_loss: 0.3003 - val_binary_accuracy: 0.8768 - val_precision: 0.4432 - val_recall: 0.2281\n",
      "Epoch 57/100\n",
      "108/108 [==============================] - 0s 2ms/step - loss: 0.2509 - binary_accuracy: 0.9075 - precision: 0.6011 - recall: 0.3031 - val_loss: 0.3234 - val_binary_accuracy: 0.8877 - val_precision: 0.5882 - val_recall: 0.1170\n",
      "Epoch 58/100\n",
      "108/108 [==============================] - 0s 2ms/step - loss: 0.2406 - binary_accuracy: 0.9081 - precision: 0.6357 - recall: 0.2521 - val_loss: 0.3058 - val_binary_accuracy: 0.8775 - val_precision: 0.4646 - val_recall: 0.3450\n",
      "Epoch 59/100\n",
      "108/108 [==============================] - 0s 2ms/step - loss: 0.2845 - binary_accuracy: 0.8783 - precision: 0.3740 - recall: 0.2691 - val_loss: 0.3016 - val_binary_accuracy: 0.8870 - val_precision: 0.5758 - val_recall: 0.1111\n",
      "Epoch 60/100\n",
      "108/108 [==============================] - 0s 2ms/step - loss: 0.2381 - binary_accuracy: 0.9043 - precision: 0.6016 - recall: 0.2096 - val_loss: 0.3004 - val_binary_accuracy: 0.8802 - val_precision: 0.4658 - val_recall: 0.1988\n",
      "Epoch 61/100\n",
      "108/108 [==============================] - 0s 2ms/step - loss: 0.2373 - binary_accuracy: 0.9069 - precision: 0.5988 - recall: 0.2918 - val_loss: 0.3409 - val_binary_accuracy: 0.8890 - val_precision: 0.6250 - val_recall: 0.1170\n",
      "Epoch 62/100\n",
      "108/108 [==============================] - 0s 2ms/step - loss: 0.2381 - binary_accuracy: 0.9063 - precision: 0.5930 - recall: 0.2890 - val_loss: 0.3368 - val_binary_accuracy: 0.8884 - val_precision: 0.6061 - val_recall: 0.1170\n",
      "Epoch 63/100\n",
      "108/108 [==============================] - 0s 2ms/step - loss: 0.2411 - binary_accuracy: 0.9083 - precision: 0.6140 - recall: 0.2975 - val_loss: 0.2983 - val_binary_accuracy: 0.8781 - val_precision: 0.4535 - val_recall: 0.2281\n",
      "Epoch 64/100\n",
      "108/108 [==============================] - 0s 2ms/step - loss: 0.2370 - binary_accuracy: 0.9107 - precision: 0.6298 - recall: 0.3229 - val_loss: 0.3137 - val_binary_accuracy: 0.8836 - val_precision: 0.5000 - val_recall: 0.1404\n",
      "Epoch 65/100\n",
      "108/108 [==============================] - 0s 2ms/step - loss: 0.2551 - binary_accuracy: 0.9022 - precision: 0.5511 - recall: 0.2748 - val_loss: 0.2967 - val_binary_accuracy: 0.8836 - val_precision: 0.5000 - val_recall: 0.1520\n",
      "Epoch 66/100\n",
      "108/108 [==============================] - 0s 2ms/step - loss: 0.2538 - binary_accuracy: 0.9048 - precision: 0.6134 - recall: 0.2068 - val_loss: 0.3006 - val_binary_accuracy: 0.8809 - val_precision: 0.4800 - val_recall: 0.2807\n",
      "Epoch 67/100\n",
      "108/108 [==============================] - 0s 2ms/step - loss: 0.2395 - binary_accuracy: 0.9072 - precision: 0.6048 - recall: 0.2861 - val_loss: 0.3381 - val_binary_accuracy: 0.8904 - val_precision: 0.6786 - val_recall: 0.1111\n",
      "Epoch 68/100\n",
      "108/108 [==============================] - 0s 2ms/step - loss: 0.2410 - binary_accuracy: 0.9083 - precision: 0.6211 - recall: 0.2833 - val_loss: 0.2997 - val_binary_accuracy: 0.8788 - val_precision: 0.4624 - val_recall: 0.2515\n",
      "Epoch 69/100\n",
      "108/108 [==============================] - 0s 2ms/step - loss: 0.2375 - binary_accuracy: 0.9083 - precision: 0.6066 - recall: 0.3144 - val_loss: 0.3116 - val_binary_accuracy: 0.8836 - val_precision: 0.5000 - val_recall: 0.1462\n",
      "Epoch 70/100\n",
      "108/108 [==============================] - 0s 2ms/step - loss: 0.2369 - binary_accuracy: 0.9086 - precision: 0.6124 - recall: 0.3088 - val_loss: 0.3216 - val_binary_accuracy: 0.8870 - val_precision: 0.5610 - val_recall: 0.1345\n",
      "Epoch 71/100\n",
      "108/108 [==============================] - 0s 2ms/step - loss: 0.2353 - binary_accuracy: 0.9089 - precision: 0.6323 - recall: 0.2776 - val_loss: 0.3012 - val_binary_accuracy: 0.8809 - val_precision: 0.4811 - val_recall: 0.2982\n",
      "Epoch 72/100\n",
      "108/108 [==============================] - 0s 2ms/step - loss: 0.2411 - binary_accuracy: 0.9081 - precision: 0.6080 - recall: 0.3031 - val_loss: 0.3252 - val_binary_accuracy: 0.8679 - val_precision: 0.4335 - val_recall: 0.4386\n",
      "Epoch 73/100\n",
      "108/108 [==============================] - 0s 2ms/step - loss: 0.2471 - binary_accuracy: 0.9066 - precision: 0.5922 - recall: 0.3003 - val_loss: 0.3678 - val_binary_accuracy: 0.8877 - val_precision: 0.6500 - val_recall: 0.0760\n",
      "Epoch 74/100\n",
      "108/108 [==============================] - 0s 2ms/step - loss: 0.2398 - binary_accuracy: 0.9086 - precision: 0.6220 - recall: 0.2890 - val_loss: 0.3026 - val_binary_accuracy: 0.8809 - val_precision: 0.4756 - val_recall: 0.2281\n",
      "Epoch 75/100\n",
      "108/108 [==============================] - 0s 2ms/step - loss: 0.2348 - binary_accuracy: 0.9104 - precision: 0.6150 - recall: 0.3484 - val_loss: 0.3221 - val_binary_accuracy: 0.8890 - val_precision: 0.6111 - val_recall: 0.1287\n",
      "Epoch 76/100\n",
      "108/108 [==============================] - 0s 2ms/step - loss: 0.2411 - binary_accuracy: 0.9078 - precision: 0.6259 - recall: 0.2606 - val_loss: 0.3244 - val_binary_accuracy: 0.8877 - val_precision: 0.5750 - val_recall: 0.1345\n",
      "Epoch 77/100\n",
      "108/108 [==============================] - 0s 2ms/step - loss: 0.2460 - binary_accuracy: 0.9095 - precision: 0.6287 - recall: 0.2975 - val_loss: 0.3013 - val_binary_accuracy: 0.8836 - val_precision: 0.5000 - val_recall: 0.2982\n",
      "Epoch 78/100\n",
      "108/108 [==============================] - 0s 2ms/step - loss: 0.2398 - binary_accuracy: 0.9089 - precision: 0.6158 - recall: 0.3088 - val_loss: 0.3010 - val_binary_accuracy: 0.8822 - val_precision: 0.4821 - val_recall: 0.1579\n",
      "Epoch 79/100\n",
      "108/108 [==============================] - 0s 2ms/step - loss: 0.2337 - binary_accuracy: 0.9127 - precision: 0.6687 - recall: 0.3031 - val_loss: 0.3258 - val_binary_accuracy: 0.8836 - val_precision: 0.5000 - val_recall: 0.1345\n",
      "Epoch 80/100\n",
      "108/108 [==============================] - 0s 2ms/step - loss: 0.2446 - binary_accuracy: 0.9095 - precision: 0.6369 - recall: 0.2833 - val_loss: 0.2966 - val_binary_accuracy: 0.8836 - val_precision: 0.5000 - val_recall: 0.1988\n",
      "Epoch 81/100\n",
      "108/108 [==============================] - 0s 2ms/step - loss: 0.2308 - binary_accuracy: 0.9124 - precision: 0.6568 - recall: 0.3144 - val_loss: 0.3449 - val_binary_accuracy: 0.8897 - val_precision: 0.6364 - val_recall: 0.1228\n",
      "Epoch 82/100\n",
      "108/108 [==============================] - 0s 2ms/step - loss: 0.2386 - binary_accuracy: 0.9098 - precision: 0.6486 - recall: 0.2720 - val_loss: 0.3003 - val_binary_accuracy: 0.8843 - val_precision: 0.5049 - val_recall: 0.3041\n",
      "Epoch 83/100\n",
      "108/108 [==============================] - 0s 2ms/step - loss: 0.2392 - binary_accuracy: 0.9078 - precision: 0.6082 - recall: 0.2946 - val_loss: 0.2960 - val_binary_accuracy: 0.8870 - val_precision: 0.5333 - val_recall: 0.2339\n",
      "Epoch 84/100\n",
      "108/108 [==============================] - 0s 2ms/step - loss: 0.2359 - binary_accuracy: 0.9078 - precision: 0.6022 - recall: 0.3088 - val_loss: 0.3417 - val_binary_accuracy: 0.8884 - val_precision: 0.5946 - val_recall: 0.1287\n",
      "Epoch 85/100\n",
      "108/108 [==============================] - 0s 2ms/step - loss: 0.2711 - binary_accuracy: 0.9022 - precision: 0.6731 - recall: 0.0992 - val_loss: 0.2958 - val_binary_accuracy: 0.8843 - val_precision: 0.5091 - val_recall: 0.1637\n",
      "Epoch 86/100\n",
      "108/108 [==============================] - 0s 2ms/step - loss: 0.2313 - binary_accuracy: 0.9127 - precision: 0.6667 - recall: 0.3059 - val_loss: 0.3068 - val_binary_accuracy: 0.8850 - val_precision: 0.5185 - val_recall: 0.1637\n",
      "Epoch 87/100\n",
      "108/108 [==============================] - 0s 2ms/step - loss: 0.2369 - binary_accuracy: 0.9107 - precision: 0.6343 - recall: 0.3144 - val_loss: 0.2994 - val_binary_accuracy: 0.8829 - val_precision: 0.4956 - val_recall: 0.3275\n",
      "Epoch 88/100\n",
      "108/108 [==============================] - 0s 2ms/step - loss: 0.2345 - binary_accuracy: 0.9104 - precision: 0.6173 - recall: 0.3428 - val_loss: 0.2987 - val_binary_accuracy: 0.8816 - val_precision: 0.4854 - val_recall: 0.2924\n",
      "Epoch 89/100\n",
      "108/108 [==============================] - 0s 2ms/step - loss: 0.2401 - binary_accuracy: 0.9092 - precision: 0.6522 - recall: 0.2550 - val_loss: 0.2988 - val_binary_accuracy: 0.8843 - val_precision: 0.5047 - val_recall: 0.3158\n",
      "Epoch 90/100\n",
      "108/108 [==============================] - 0s 2ms/step - loss: 0.2340 - binary_accuracy: 0.9119 - precision: 0.6474 - recall: 0.3173 - val_loss: 0.2956 - val_binary_accuracy: 0.8843 - val_precision: 0.5075 - val_recall: 0.1988\n",
      "Epoch 91/100\n",
      "108/108 [==============================] - 0s 2ms/step - loss: 0.2382 - binary_accuracy: 0.9095 - precision: 0.6387 - recall: 0.2805 - val_loss: 0.2948 - val_binary_accuracy: 0.8863 - val_precision: 0.5303 - val_recall: 0.2047\n",
      "Epoch 92/100\n",
      "108/108 [==============================] - 0s 2ms/step - loss: 0.2333 - binary_accuracy: 0.9121 - precision: 0.6585 - recall: 0.3059 - val_loss: 0.3450 - val_binary_accuracy: 0.8924 - val_precision: 0.7241 - val_recall: 0.1228\n",
      "Epoch 93/100\n",
      "108/108 [==============================] - 0s 2ms/step - loss: 0.2415 - binary_accuracy: 0.9089 - precision: 0.6340 - recall: 0.2748 - val_loss: 0.2966 - val_binary_accuracy: 0.8843 - val_precision: 0.5085 - val_recall: 0.1754\n",
      "Epoch 94/100\n",
      "108/108 [==============================] - 0s 2ms/step - loss: 0.2308 - binary_accuracy: 0.9133 - precision: 0.6667 - recall: 0.3173 - val_loss: 0.2983 - val_binary_accuracy: 0.8843 - val_precision: 0.5055 - val_recall: 0.2690\n",
      "Epoch 95/100\n",
      "108/108 [==============================] - 0s 2ms/step - loss: 0.2380 - binary_accuracy: 0.9083 - precision: 0.6089 - recall: 0.3088 - val_loss: 0.2992 - val_binary_accuracy: 0.8822 - val_precision: 0.4904 - val_recall: 0.2982\n",
      "Epoch 96/100\n",
      "108/108 [==============================] - 0s 2ms/step - loss: 0.2351 - binary_accuracy: 0.9136 - precision: 0.6629 - recall: 0.3286 - val_loss: 0.2994 - val_binary_accuracy: 0.8863 - val_precision: 0.5238 - val_recall: 0.2573\n",
      "Epoch 97/100\n",
      "108/108 [==============================] - 0s 2ms/step - loss: 0.2351 - binary_accuracy: 0.9092 - precision: 0.6296 - recall: 0.2890 - val_loss: 0.2951 - val_binary_accuracy: 0.8863 - val_precision: 0.5263 - val_recall: 0.2339\n",
      "Epoch 98/100\n",
      "108/108 [==============================] - 0s 2ms/step - loss: 0.2348 - binary_accuracy: 0.9148 - precision: 0.6918 - recall: 0.3116 - val_loss: 0.3022 - val_binary_accuracy: 0.8863 - val_precision: 0.5312 - val_recall: 0.1988\n",
      "Epoch 99/100\n",
      "108/108 [==============================] - 0s 2ms/step - loss: 0.2382 - binary_accuracy: 0.9119 - precision: 0.6527 - recall: 0.3088 - val_loss: 0.3180 - val_binary_accuracy: 0.8877 - val_precision: 0.5750 - val_recall: 0.1345\n",
      "Epoch 100/100\n",
      "108/108 [==============================] - 0s 2ms/step - loss: 0.2314 - binary_accuracy: 0.9133 - precision: 0.6795 - recall: 0.3003 - val_loss: 0.3397 - val_binary_accuracy: 0.8877 - val_precision: 0.5789 - val_recall: 0.1287\n"
     ]
    }
   ],
   "source": [
    "MLP = model.fit(smiles_train,labels_train, epochs=100, verbose =1,validation_data=(smiles_test,labels_test))"
   ]
  },
  {
   "cell_type": "code",
   "execution_count": 17,
   "metadata": {},
   "outputs": [
    {
     "data": {
      "text/plain": [
       "<matplotlib.legend.Legend at 0x7f70606c68d0>"
      ]
     },
     "execution_count": 17,
     "metadata": {},
     "output_type": "execute_result"
    },
    {
     "data": {
      "image/png": "[encoded data removed]",
      "text/plain": [
       "<Figure size 720x720 with 1 Axes>"
      ]
     },
     "metadata": {
      "needs_background": "light"
     },
     "output_type": "display_data"
    }
   ],
   "source": [
    "import matplotlib.pyplot as plt\n",
    "plt.figure(figsize=(10,10))\n",
    "plt.plot(MLP.history['loss'],label = 'train')\n",
    "plt.plot(MLP.history['val_loss'],label = 'test')\n",
    "plt.title('Erro', fontsize =10)\n",
    "plt.xlabel('epoch')\n",
    "plt.ylabel('erro')\n",
    "plt.legend()\n"
   ]
  },
  {
   "cell_type": "code",
   "execution_count": 18,
   "metadata": {},
   "outputs": [],
   "source": [
    "predictions = np.round(model.predict(smiles_test))"
   ]
  },
  {
   "cell_type": "code",
   "execution_count": 19,
   "metadata": {},
   "outputs": [],
   "source": [
    "from sklearn.metrics import confusion_matrix\n",
    "cm = confusion_matrix(labels_test, predictions)"
   ]
  },
  {
   "cell_type": "code",
   "execution_count": 20,
   "metadata": {},
   "outputs": [],
   "source": [
    "import seaborn as sns\n"
   ]
  },
  {
   "cell_type": "code",
   "execution_count": 21,
   "metadata": {},
   "outputs": [
    {
     "data": {
      "text/plain": [
       "Text(0.5, 15.0, 'PREDICTED')"
      ]
     },
     "execution_count": 21,
     "metadata": {},
     "output_type": "execute_result"
    },
    {
     "data": {
      "image/png": "[encoded data removed]",
      "text/plain": [
       "<Figure size 432x288 with 2 Axes>"
      ]
     },
     "metadata": {
      "needs_background": "light"
     },
     "output_type": "display_data"
    }
   ],
   "source": [
    "sns.heatmap(cm, annot=True,cmap='coolwarm')\n",
    "plt.ylabel(\"TRUE\")\n",
    "plt.xlabel(\"PREDICTED\")"
   ]
  },
  {
   "cell_type": "code",
   "execution_count": 22,
   "metadata": {},
   "outputs": [],
   "source": [
    "tn, fp, fn, tp = confusion_matrix(labels_test, predictions).ravel()"
   ]
  },
  {
   "cell_type": "code",
   "execution_count": 23,
   "metadata": {},
   "outputs": [
    {
     "data": {
      "text/plain": [
       "(1282, 16, 149, 22)"
      ]
     },
     "execution_count": 23,
     "metadata": {},
     "output_type": "execute_result"
    }
   ],
   "source": [
    "tn, fp, fn, tp "
   ]
  },
  {
   "cell_type": "code",
   "execution_count": 24,
   "metadata": {},
   "outputs": [
    {
     "data": {
      "text/plain": [
       "0.8876786929884275"
      ]
     },
     "execution_count": 24,
     "metadata": {},
     "output_type": "execute_result"
    }
   ],
   "source": [
    "#acurácia\n",
    "(tp+tn)/(tp+tn+fp+fn)"
   ]
  },
  {
   "cell_type": "code",
   "execution_count": 25,
   "metadata": {},
   "outputs": [
    {
     "data": {
      "text/plain": [
       "0.1286549707602339"
      ]
     },
     "execution_count": 25,
     "metadata": {},
     "output_type": "execute_result"
    }
   ],
   "source": [
    "#acerta o que é antibiótico\n",
    "(tp)/(tp+fn)"
   ]
  },
  {
   "cell_type": "code",
   "execution_count": 26,
   "metadata": {},
   "outputs": [
    {
     "data": {
      "text/plain": [
       "0.987673343605547"
      ]
     },
     "execution_count": 26,
     "metadata": {},
     "output_type": "execute_result"
    }
   ],
   "source": [
    "#acerta o que não é antibiótico\n",
    "(tn)/(tn+fp)"
   ]
  },
  {
   "cell_type": "markdown",
   "metadata": {},
   "source": [
    "Convolucional"
   ]
  },
  {
   "cell_type": "code",
   "execution_count": 27,
   "metadata": {},
   "outputs": [],
   "source": [
    "from tensorflow.keras.layers import Flatten, Dense, Conv1D, MaxPool1D, Dropout"
   ]
  },
  {
   "cell_type": "code",
   "execution_count": 28,
   "metadata": {},
   "outputs": [],
   "source": [
    "CNN = Sequential([\n",
    "    tf.keras.layers.Embedding(input_dim = 394, output_dim = 1, input_length = maior_smile),\n",
    "\n",
    "    tf.keras.layers.Conv1D(filters = 32,kernel_size = 3),  #Conv1\n",
    "    tf.keras.layers.MaxPooling1D(pool_size = 3), \n",
    "\n",
    "    #tf.keras.layers.Conv1D(filters = 64,kernel_size = 3),  #Conv2\n",
    "\n",
    "    tf.keras.layers.Conv1D(filters = 128,kernel_size = 3), #Conv3\n",
    "    tf.keras.layers.MaxPooling1D(pool_size = 3),\n",
    "\n",
    "    #tf.keras.layers.Conv1D(filters = 256,kernel_size = 3), #Conv4\n",
    "    \n",
    "\n",
    "    tf.keras.layers.Conv1D(filters = 256,kernel_size = 3), #Conv5\n",
    "    tf.keras.layers.MaxPooling1D(pool_size = 3),\n",
    "\n",
    "    tf.keras.layers.Conv1D(filters = 256,kernel_size = 3),    #Conv6\n",
    "    tf.keras.layers.MaxPooling1D(pool_size = 3),\n",
    "\n",
    "    tf.keras.layers.Flatten(),\n",
    "    tf.keras.layers.Dropout(0.42),\n",
    "    \n",
    "    tf.keras.layers.Dense(394, activation = \"relu\"),\n",
    "    tf.keras.layers.Dense(150, activation = \"relu\"),\n",
    "\n",
    "    tf.keras.layers.Dense(1, activation = \"sigmoid\")\n",
    "])\n",
    "CNN.compile(\n",
    "    optimizer = tf.optimizers.Adam(),\n",
    "    loss = tf.losses.BinaryCrossentropy(),\n",
    "    metrics = [\n",
    "        tf.metrics.BinaryAccuracy(),\n",
    "        tf.keras.metrics.Precision(),\n",
    "        tf.keras.metrics.Recall()\n",
    "    ]\n",
    ")\n"
   ]
  },
  {
   "cell_type": "code",
   "execution_count": 29,
   "metadata": {},
   "outputs": [
    {
     "name": "stdout",
     "output_type": "stream",
     "text": [
      "Epoch 1/100\n",
      "343/343 [==============================] - 3s 5ms/step - loss: 0.3463 - binary_accuracy: 0.8970 - precision_1: 0.0000e+00 - recall_1: 0.0000e+00 - val_loss: 0.3450 - val_binary_accuracy: 0.8836 - val_precision_1: 0.0000e+00 - val_recall_1: 0.0000e+00\n",
      "Epoch 2/100\n",
      "343/343 [==============================] - 2s 5ms/step - loss: 0.3121 - binary_accuracy: 0.8970 - precision_1: 0.0000e+00 - recall_1: 0.0000e+00 - val_loss: 0.3223 - val_binary_accuracy: 0.8836 - val_precision_1: 0.0000e+00 - val_recall_1: 0.0000e+00\n",
      "Epoch 3/100\n",
      "343/343 [==============================] - 2s 5ms/step - loss: 0.3056 - binary_accuracy: 0.8961 - precision_1: 0.4211 - recall_1: 0.0227 - val_loss: 0.3253 - val_binary_accuracy: 0.8836 - val_precision_1: 0.0000e+00 - val_recall_1: 0.0000e+00\n",
      "Epoch 4/100\n",
      "343/343 [==============================] - 2s 5ms/step - loss: 0.2994 - binary_accuracy: 0.8981 - precision_1: 0.5312 - recall_1: 0.0963 - val_loss: 0.3244 - val_binary_accuracy: 0.8843 - val_precision_1: 1.0000 - val_recall_1: 0.0058\n",
      "Epoch 5/100\n",
      "343/343 [==============================] - 2s 5ms/step - loss: 0.2967 - binary_accuracy: 0.8987 - precision_1: 0.5652 - recall_1: 0.0737 - val_loss: 0.3161 - val_binary_accuracy: 0.8897 - val_precision_1: 0.6364 - val_recall_1: 0.1228\n",
      "Epoch 6/100\n",
      "343/343 [==============================] - 2s 5ms/step - loss: 0.3068 - binary_accuracy: 0.8961 - precision_1: 0.4789 - recall_1: 0.0963 - val_loss: 0.3186 - val_binary_accuracy: 0.8836 - val_precision_1: 0.0000e+00 - val_recall_1: 0.0000e+00\n",
      "Epoch 7/100\n",
      "343/343 [==============================] - 2s 5ms/step - loss: 0.2956 - binary_accuracy: 0.8999 - precision_1: 0.7500 - recall_1: 0.0425 - val_loss: 0.3222 - val_binary_accuracy: 0.8802 - val_precision_1: 0.2727 - val_recall_1: 0.0175\n",
      "Epoch 8/100\n",
      "343/343 [==============================] - 2s 5ms/step - loss: 0.2938 - binary_accuracy: 0.9008 - precision_1: 0.6970 - recall_1: 0.0652 - val_loss: 0.3360 - val_binary_accuracy: 0.8863 - val_precision_1: 0.5476 - val_recall_1: 0.1345\n",
      "Epoch 9/100\n",
      "343/343 [==============================] - 2s 5ms/step - loss: 0.2924 - binary_accuracy: 0.9008 - precision_1: 0.5890 - recall_1: 0.1218 - val_loss: 0.3170 - val_binary_accuracy: 0.8836 - val_precision_1: 0.0000e+00 - val_recall_1: 0.0000e+00\n",
      "Epoch 10/100\n",
      "343/343 [==============================] - 2s 5ms/step - loss: 0.2859 - binary_accuracy: 0.9013 - precision_1: 0.6190 - recall_1: 0.1105 - val_loss: 0.3167 - val_binary_accuracy: 0.8843 - val_precision_1: 0.6000 - val_recall_1: 0.0175\n",
      "Epoch 11/100\n",
      "343/343 [==============================] - 2s 5ms/step - loss: 0.2864 - binary_accuracy: 0.9043 - precision_1: 0.6712 - recall_1: 0.1388 - val_loss: 0.3137 - val_binary_accuracy: 0.8897 - val_precision_1: 0.6364 - val_recall_1: 0.1228\n",
      "Epoch 12/100\n",
      "343/343 [==============================] - 2s 5ms/step - loss: 0.2794 - binary_accuracy: 0.9069 - precision_1: 0.6491 - recall_1: 0.2096 - val_loss: 0.3125 - val_binary_accuracy: 0.8863 - val_precision_1: 0.6000 - val_recall_1: 0.0702\n",
      "Epoch 13/100\n",
      "343/343 [==============================] - 2s 5ms/step - loss: 0.2801 - binary_accuracy: 0.9121 - precision_1: 0.7281 - recall_1: 0.2351 - val_loss: 0.3107 - val_binary_accuracy: 0.8904 - val_precision_1: 0.5833 - val_recall_1: 0.2047\n",
      "Epoch 14/100\n",
      "343/343 [==============================] - 2s 5ms/step - loss: 0.2756 - binary_accuracy: 0.9110 - precision_1: 0.6739 - recall_1: 0.2635 - val_loss: 0.3169 - val_binary_accuracy: 0.8843 - val_precision_1: 0.5106 - val_recall_1: 0.1404\n",
      "Epoch 15/100\n",
      "343/343 [==============================] - 2s 5ms/step - loss: 0.2701 - binary_accuracy: 0.9156 - precision_1: 0.7162 - recall_1: 0.3003 - val_loss: 0.3443 - val_binary_accuracy: 0.8843 - val_precision_1: 0.5714 - val_recall_1: 0.0234\n",
      "Epoch 16/100\n",
      "343/343 [==============================] - 2s 5ms/step - loss: 0.2790 - binary_accuracy: 0.9127 - precision_1: 0.7213 - recall_1: 0.2493 - val_loss: 0.3440 - val_binary_accuracy: 0.8931 - val_precision_1: 0.7333 - val_recall_1: 0.1287\n",
      "Epoch 17/100\n",
      "343/343 [==============================] - 2s 5ms/step - loss: 0.2677 - binary_accuracy: 0.9151 - precision_1: 0.7123 - recall_1: 0.2946 - val_loss: 0.3260 - val_binary_accuracy: 0.8863 - val_precision_1: 0.5333 - val_recall_1: 0.1871\n",
      "Epoch 18/100\n",
      "343/343 [==============================] - 2s 5ms/step - loss: 0.2674 - binary_accuracy: 0.9171 - precision_1: 0.7285 - recall_1: 0.3116 - val_loss: 0.3311 - val_binary_accuracy: 0.8918 - val_precision_1: 0.7727 - val_recall_1: 0.0994\n",
      "Epoch 19/100\n",
      "343/343 [==============================] - 2s 5ms/step - loss: 0.2637 - binary_accuracy: 0.9177 - precision_1: 0.7483 - recall_1: 0.3031 - val_loss: 0.3248 - val_binary_accuracy: 0.8938 - val_precision_1: 0.7586 - val_recall_1: 0.1287\n",
      "Epoch 20/100\n",
      "343/343 [==============================] - 2s 5ms/step - loss: 0.2572 - binary_accuracy: 0.9221 - precision_1: 0.7792 - recall_1: 0.3399 - val_loss: 0.3220 - val_binary_accuracy: 0.8911 - val_precision_1: 0.5604 - val_recall_1: 0.2982\n",
      "Epoch 21/100\n",
      "343/343 [==============================] - 2s 5ms/step - loss: 0.2632 - binary_accuracy: 0.9180 - precision_1: 0.7250 - recall_1: 0.3286 - val_loss: 0.3893 - val_binary_accuracy: 0.8897 - val_precision_1: 0.7143 - val_recall_1: 0.0877\n",
      "Epoch 22/100\n",
      "343/343 [==============================] - 2s 5ms/step - loss: 0.2589 - binary_accuracy: 0.9212 - precision_1: 0.7902 - recall_1: 0.3201 - val_loss: 0.3516 - val_binary_accuracy: 0.8911 - val_precision_1: 0.7037 - val_recall_1: 0.1111\n",
      "Epoch 23/100\n",
      "343/343 [==============================] - 2s 5ms/step - loss: 0.2515 - binary_accuracy: 0.9253 - precision_1: 0.8170 - recall_1: 0.3541 - val_loss: 0.3624 - val_binary_accuracy: 0.8945 - val_precision_1: 0.7353 - val_recall_1: 0.1462\n",
      "Epoch 24/100\n",
      "343/343 [==============================] - 2s 5ms/step - loss: 0.2413 - binary_accuracy: 0.9279 - precision_1: 0.8442 - recall_1: 0.3683 - val_loss: 0.3315 - val_binary_accuracy: 0.8972 - val_precision_1: 0.6667 - val_recall_1: 0.2339\n",
      "Epoch 25/100\n",
      "343/343 [==============================] - 2s 5ms/step - loss: 0.2552 - binary_accuracy: 0.9276 - precision_1: 0.8571 - recall_1: 0.3569 - val_loss: 0.3385 - val_binary_accuracy: 0.8958 - val_precision_1: 0.6957 - val_recall_1: 0.1871\n",
      "Epoch 26/100\n",
      "343/343 [==============================] - 2s 5ms/step - loss: 0.2480 - binary_accuracy: 0.9308 - precision_1: 0.8919 - recall_1: 0.3739 - val_loss: 0.3680 - val_binary_accuracy: 0.8945 - val_precision_1: 0.6481 - val_recall_1: 0.2047\n",
      "Epoch 27/100\n",
      "343/343 [==============================] - 2s 5ms/step - loss: 0.2454 - binary_accuracy: 0.9276 - precision_1: 0.8621 - recall_1: 0.3541 - val_loss: 0.3518 - val_binary_accuracy: 0.8931 - val_precision_1: 0.5875 - val_recall_1: 0.2749\n",
      "Epoch 28/100\n",
      "343/343 [==============================] - 2s 5ms/step - loss: 0.2412 - binary_accuracy: 0.9305 - precision_1: 0.8758 - recall_1: 0.3796 - val_loss: 0.3802 - val_binary_accuracy: 0.8877 - val_precision_1: 0.5349 - val_recall_1: 0.2690\n",
      "Epoch 29/100\n",
      "343/343 [==============================] - 2s 5ms/step - loss: 0.2312 - binary_accuracy: 0.9337 - precision_1: 0.9145 - recall_1: 0.3938 - val_loss: 0.3640 - val_binary_accuracy: 0.8890 - val_precision_1: 0.5444 - val_recall_1: 0.2865\n",
      "Epoch 30/100\n",
      "343/343 [==============================] - 2s 5ms/step - loss: 0.2416 - binary_accuracy: 0.9343 - precision_1: 0.9156 - recall_1: 0.3994 - val_loss: 0.3874 - val_binary_accuracy: 0.8911 - val_precision_1: 0.6222 - val_recall_1: 0.1637\n",
      "Epoch 31/100\n",
      "343/343 [==============================] - 2s 5ms/step - loss: 0.2345 - binary_accuracy: 0.9314 - precision_1: 0.9041 - recall_1: 0.3739 - val_loss: 0.3386 - val_binary_accuracy: 0.8924 - val_precision_1: 0.6140 - val_recall_1: 0.2047\n",
      "Epoch 32/100\n",
      "343/343 [==============================] - 2s 5ms/step - loss: 0.2267 - binary_accuracy: 0.9358 - precision_1: 0.9404 - recall_1: 0.4023 - val_loss: 0.4076 - val_binary_accuracy: 0.8918 - val_precision_1: 0.6034 - val_recall_1: 0.2047\n",
      "Epoch 33/100\n",
      "343/343 [==============================] - 2s 5ms/step - loss: 0.2243 - binary_accuracy: 0.9358 - precision_1: 0.9290 - recall_1: 0.4079 - val_loss: 0.4014 - val_binary_accuracy: 0.8918 - val_precision_1: 0.6500 - val_recall_1: 0.1520\n",
      "Epoch 34/100\n",
      "343/343 [==============================] - 2s 5ms/step - loss: 0.2366 - binary_accuracy: 0.9349 - precision_1: 0.9276 - recall_1: 0.3994 - val_loss: 0.3742 - val_binary_accuracy: 0.8952 - val_precision_1: 0.6809 - val_recall_1: 0.1871\n",
      "Epoch 35/100\n",
      "343/343 [==============================] - 2s 5ms/step - loss: 0.2349 - binary_accuracy: 0.9335 - precision_1: 0.9433 - recall_1: 0.3768 - val_loss: 0.3707 - val_binary_accuracy: 0.8965 - val_precision_1: 0.6118 - val_recall_1: 0.3041\n",
      "Epoch 36/100\n",
      "343/343 [==============================] - 2s 5ms/step - loss: 0.2292 - binary_accuracy: 0.9349 - precision_1: 0.9276 - recall_1: 0.3994 - val_loss: 0.3936 - val_binary_accuracy: 0.8952 - val_precision_1: 0.6393 - val_recall_1: 0.2281\n",
      "Epoch 37/100\n",
      "343/343 [==============================] - 2s 5ms/step - loss: 0.2329 - binary_accuracy: 0.9375 - precision_1: 0.9484 - recall_1: 0.4164 - val_loss: 0.3939 - val_binary_accuracy: 0.8931 - val_precision_1: 0.7333 - val_recall_1: 0.1287\n",
      "Epoch 38/100\n",
      "343/343 [==============================] - 2s 5ms/step - loss: 0.2300 - binary_accuracy: 0.9358 - precision_1: 0.9404 - recall_1: 0.4023 - val_loss: 0.3742 - val_binary_accuracy: 0.8958 - val_precision_1: 0.6875 - val_recall_1: 0.1930\n",
      "Epoch 39/100\n",
      "343/343 [==============================] - 2s 5ms/step - loss: 0.2350 - binary_accuracy: 0.9320 - precision_1: 0.8896 - recall_1: 0.3881 - val_loss: 0.3591 - val_binary_accuracy: 0.8938 - val_precision_1: 0.7027 - val_recall_1: 0.1520\n",
      "Epoch 40/100\n",
      "343/343 [==============================] - 2s 5ms/step - loss: 0.2211 - binary_accuracy: 0.9387 - precision_1: 0.9673 - recall_1: 0.4193 - val_loss: 0.4299 - val_binary_accuracy: 0.8965 - val_precision_1: 0.7021 - val_recall_1: 0.1930\n",
      "Epoch 41/100\n",
      "343/343 [==============================] - 2s 5ms/step - loss: 0.2227 - binary_accuracy: 0.9384 - precision_1: 0.9551 - recall_1: 0.4221 - val_loss: 0.4504 - val_binary_accuracy: 0.8904 - val_precision_1: 0.5714 - val_recall_1: 0.2339\n",
      "Epoch 42/100\n",
      "343/343 [==============================] - 2s 5ms/step - loss: 0.2339 - binary_accuracy: 0.9320 - precision_1: 0.9225 - recall_1: 0.3711 - val_loss: 0.4038 - val_binary_accuracy: 0.8952 - val_precision_1: 0.6977 - val_recall_1: 0.1754\n",
      "Epoch 43/100\n",
      "343/343 [==============================] - 2s 5ms/step - loss: 0.2298 - binary_accuracy: 0.9337 - precision_1: 0.9200 - recall_1: 0.3909 - val_loss: 0.4029 - val_binary_accuracy: 0.8965 - val_precision_1: 0.6863 - val_recall_1: 0.2047\n",
      "Epoch 44/100\n",
      "343/343 [==============================] - 2s 5ms/step - loss: 0.2261 - binary_accuracy: 0.9352 - precision_1: 0.9172 - recall_1: 0.4079 - val_loss: 0.4034 - val_binary_accuracy: 0.8931 - val_precision_1: 0.6207 - val_recall_1: 0.2105\n",
      "Epoch 45/100\n",
      "343/343 [==============================] - 2s 5ms/step - loss: 0.2249 - binary_accuracy: 0.9367 - precision_1: 0.9533 - recall_1: 0.4051 - val_loss: 0.4102 - val_binary_accuracy: 0.8938 - val_precision_1: 0.6154 - val_recall_1: 0.2339\n",
      "Epoch 46/100\n",
      "343/343 [==============================] - 2s 5ms/step - loss: 0.2261 - binary_accuracy: 0.9381 - precision_1: 0.9669 - recall_1: 0.4136 - val_loss: 0.5016 - val_binary_accuracy: 0.8938 - val_precision_1: 0.6744 - val_recall_1: 0.1696\n",
      "Epoch 47/100\n",
      "343/343 [==============================] - 2s 5ms/step - loss: 0.2134 - binary_accuracy: 0.9402 - precision_1: 0.9684 - recall_1: 0.4334 - val_loss: 0.4889 - val_binary_accuracy: 0.8938 - val_precision_1: 0.6744 - val_recall_1: 0.1696\n",
      "Epoch 48/100\n",
      "343/343 [==============================] - 2s 5ms/step - loss: 0.2196 - binary_accuracy: 0.9390 - precision_1: 0.9675 - recall_1: 0.4221 - val_loss: 0.4890 - val_binary_accuracy: 0.8931 - val_precision_1: 0.6591 - val_recall_1: 0.1696\n",
      "Epoch 49/100\n",
      "343/343 [==============================] - 2s 5ms/step - loss: 0.2246 - binary_accuracy: 0.9370 - precision_1: 0.9536 - recall_1: 0.4079 - val_loss: 0.3937 - val_binary_accuracy: 0.8890 - val_precision_1: 0.5571 - val_recall_1: 0.2281\n",
      "Epoch 50/100\n",
      "343/343 [==============================] - 2s 5ms/step - loss: 0.2295 - binary_accuracy: 0.9358 - precision_1: 0.9404 - recall_1: 0.4023 - val_loss: 0.4282 - val_binary_accuracy: 0.8945 - val_precision_1: 0.7857 - val_recall_1: 0.1287\n",
      "Epoch 51/100\n",
      "343/343 [==============================] - 2s 5ms/step - loss: 0.2230 - binary_accuracy: 0.9375 - precision_1: 0.9484 - recall_1: 0.4164 - val_loss: 0.4398 - val_binary_accuracy: 0.8931 - val_precision_1: 0.7188 - val_recall_1: 0.1345\n",
      "Epoch 52/100\n",
      "343/343 [==============================] - 2s 5ms/step - loss: 0.2196 - binary_accuracy: 0.9381 - precision_1: 0.9669 - recall_1: 0.4136 - val_loss: 0.5352 - val_binary_accuracy: 0.8911 - val_precision_1: 0.7391 - val_recall_1: 0.0994\n",
      "Epoch 53/100\n",
      "343/343 [==============================] - 2s 5ms/step - loss: 0.2280 - binary_accuracy: 0.9349 - precision_1: 0.9643 - recall_1: 0.3824 - val_loss: 0.4183 - val_binary_accuracy: 0.8965 - val_precision_1: 0.6667 - val_recall_1: 0.2222\n",
      "Epoch 54/100\n",
      "343/343 [==============================] - 2s 5ms/step - loss: 0.2242 - binary_accuracy: 0.9370 - precision_1: 0.9363 - recall_1: 0.4164 - val_loss: 0.4711 - val_binary_accuracy: 0.8931 - val_precision_1: 0.8182 - val_recall_1: 0.1053\n",
      "Epoch 55/100\n",
      "343/343 [==============================] - 2s 5ms/step - loss: 0.2231 - binary_accuracy: 0.9358 - precision_1: 0.9290 - recall_1: 0.4079 - val_loss: 0.3974 - val_binary_accuracy: 0.8938 - val_precision_1: 0.6667 - val_recall_1: 0.1754\n",
      "Epoch 56/100\n",
      "343/343 [==============================] - 2s 5ms/step - loss: 0.2205 - binary_accuracy: 0.9384 - precision_1: 0.9671 - recall_1: 0.4164 - val_loss: 0.4155 - val_binary_accuracy: 0.8952 - val_precision_1: 0.6164 - val_recall_1: 0.2632\n",
      "Epoch 57/100\n",
      "343/343 [==============================] - 2s 5ms/step - loss: 0.2190 - binary_accuracy: 0.9387 - precision_1: 0.9799 - recall_1: 0.4136 - val_loss: 0.4572 - val_binary_accuracy: 0.8924 - val_precision_1: 0.6585 - val_recall_1: 0.1579\n",
      "Epoch 58/100\n",
      "343/343 [==============================] - 2s 5ms/step - loss: 0.2235 - binary_accuracy: 0.9384 - precision_1: 0.9610 - recall_1: 0.4193 - val_loss: 0.4761 - val_binary_accuracy: 0.8931 - val_precision_1: 0.6094 - val_recall_1: 0.2281\n",
      "Epoch 59/100\n",
      "343/343 [==============================] - 2s 5ms/step - loss: 0.2168 - binary_accuracy: 0.9387 - precision_1: 0.9673 - recall_1: 0.4193 - val_loss: 0.4698 - val_binary_accuracy: 0.8931 - val_precision_1: 0.6129 - val_recall_1: 0.2222\n",
      "Epoch 60/100\n",
      "343/343 [==============================] - 2s 5ms/step - loss: 0.2227 - binary_accuracy: 0.9367 - precision_1: 0.9474 - recall_1: 0.4079 - val_loss: 0.4159 - val_binary_accuracy: 0.8945 - val_precision_1: 0.6600 - val_recall_1: 0.1930\n",
      "Epoch 61/100\n",
      "343/343 [==============================] - 2s 5ms/step - loss: 0.2161 - binary_accuracy: 0.9384 - precision_1: 0.9551 - recall_1: 0.4221 - val_loss: 0.4930 - val_binary_accuracy: 0.8952 - val_precision_1: 0.6667 - val_recall_1: 0.1988\n",
      "Epoch 62/100\n",
      "343/343 [==============================] - 2s 5ms/step - loss: 0.2181 - binary_accuracy: 0.9393 - precision_1: 0.9739 - recall_1: 0.4221 - val_loss: 0.4644 - val_binary_accuracy: 0.8931 - val_precision_1: 0.6522 - val_recall_1: 0.1754\n",
      "Epoch 63/100\n",
      "343/343 [==============================] - 2s 5ms/step - loss: 0.2214 - binary_accuracy: 0.9375 - precision_1: 0.9603 - recall_1: 0.4108 - val_loss: 0.4081 - val_binary_accuracy: 0.8965 - val_precision_1: 0.7021 - val_recall_1: 0.1930\n",
      "Epoch 64/100\n",
      "343/343 [==============================] - 2s 5ms/step - loss: 0.2176 - binary_accuracy: 0.9387 - precision_1: 0.9613 - recall_1: 0.4221 - val_loss: 0.5554 - val_binary_accuracy: 0.8945 - val_precision_1: 0.7857 - val_recall_1: 0.1287\n",
      "Epoch 65/100\n",
      "343/343 [==============================] - 2s 5ms/step - loss: 0.2320 - binary_accuracy: 0.9370 - precision_1: 0.9597 - recall_1: 0.4051 - val_loss: 0.4413 - val_binary_accuracy: 0.8965 - val_precision_1: 0.7436 - val_recall_1: 0.1696\n",
      "Epoch 66/100\n",
      "343/343 [==============================] - 2s 5ms/step - loss: 0.2216 - binary_accuracy: 0.9375 - precision_1: 0.9603 - recall_1: 0.4108 - val_loss: 0.4216 - val_binary_accuracy: 0.8965 - val_precision_1: 0.6301 - val_recall_1: 0.2690\n",
      "Epoch 67/100\n",
      "343/343 [==============================] - 2s 5ms/step - loss: 0.2198 - binary_accuracy: 0.9370 - precision_1: 0.9363 - recall_1: 0.4164 - val_loss: 0.4134 - val_binary_accuracy: 0.8993 - val_precision_1: 0.7170 - val_recall_1: 0.2222\n",
      "Epoch 68/100\n",
      "343/343 [==============================] - 2s 5ms/step - loss: 0.2238 - binary_accuracy: 0.9372 - precision_1: 0.9539 - recall_1: 0.4108 - val_loss: 0.4074 - val_binary_accuracy: 0.9027 - val_precision_1: 0.7333 - val_recall_1: 0.2573\n",
      "Epoch 69/100\n",
      "343/343 [==============================] - 2s 5ms/step - loss: 0.2153 - binary_accuracy: 0.9393 - precision_1: 0.9618 - recall_1: 0.4278 - val_loss: 0.4726 - val_binary_accuracy: 0.8999 - val_precision_1: 0.6875 - val_recall_1: 0.2573\n",
      "Epoch 70/100\n",
      "343/343 [==============================] - 2s 5ms/step - loss: 0.2162 - binary_accuracy: 0.9396 - precision_1: 0.9620 - recall_1: 0.4306 - val_loss: 0.4945 - val_binary_accuracy: 0.8986 - val_precision_1: 0.7750 - val_recall_1: 0.1813\n",
      "Epoch 71/100\n",
      "343/343 [==============================] - 2s 5ms/step - loss: 0.2149 - binary_accuracy: 0.9387 - precision_1: 0.9735 - recall_1: 0.4164 - val_loss: 0.4637 - val_binary_accuracy: 0.8999 - val_precision_1: 0.7500 - val_recall_1: 0.2105\n",
      "Epoch 72/100\n",
      "343/343 [==============================] - 2s 5ms/step - loss: 0.2152 - binary_accuracy: 0.9390 - precision_1: 0.9865 - recall_1: 0.4136 - val_loss: 0.5023 - val_binary_accuracy: 0.9013 - val_precision_1: 0.7708 - val_recall_1: 0.2164\n",
      "Epoch 73/100\n",
      "343/343 [==============================] - 2s 5ms/step - loss: 0.2237 - binary_accuracy: 0.9375 - precision_1: 0.9484 - recall_1: 0.4164 - val_loss: 0.4011 - val_binary_accuracy: 0.8986 - val_precision_1: 0.7500 - val_recall_1: 0.1930\n",
      "Epoch 74/100\n",
      "343/343 [==============================] - 2s 5ms/step - loss: 0.2233 - binary_accuracy: 0.9384 - precision_1: 0.9797 - recall_1: 0.4108 - val_loss: 0.3937 - val_binary_accuracy: 0.8993 - val_precision_1: 0.7949 - val_recall_1: 0.1813\n",
      "Epoch 75/100\n",
      "343/343 [==============================] - 2s 5ms/step - loss: 0.2169 - binary_accuracy: 0.9405 - precision_1: 0.9869 - recall_1: 0.4278 - val_loss: 0.4348 - val_binary_accuracy: 0.9013 - val_precision_1: 0.7407 - val_recall_1: 0.2339\n",
      "Epoch 76/100\n",
      "343/343 [==============================] - 2s 5ms/step - loss: 0.2195 - binary_accuracy: 0.9390 - precision_1: 0.9615 - recall_1: 0.4249 - val_loss: 0.4625 - val_binary_accuracy: 0.9013 - val_precision_1: 0.7826 - val_recall_1: 0.2105\n",
      "Epoch 77/100\n",
      "343/343 [==============================] - 2s 5ms/step - loss: 0.2364 - binary_accuracy: 0.9346 - precision_1: 0.9329 - recall_1: 0.3938 - val_loss: 0.3434 - val_binary_accuracy: 0.8945 - val_precision_1: 0.6481 - val_recall_1: 0.2047\n",
      "Epoch 78/100\n",
      "343/343 [==============================] - 2s 5ms/step - loss: 0.2230 - binary_accuracy: 0.9381 - precision_1: 0.9490 - recall_1: 0.4221 - val_loss: 0.4340 - val_binary_accuracy: 0.8972 - val_precision_1: 0.6923 - val_recall_1: 0.2105\n",
      "Epoch 79/100\n",
      "343/343 [==============================] - 2s 5ms/step - loss: 0.2247 - binary_accuracy: 0.9375 - precision_1: 0.9603 - recall_1: 0.4108 - val_loss: 0.4128 - val_binary_accuracy: 0.8965 - val_precision_1: 0.7568 - val_recall_1: 0.1637\n",
      "Epoch 80/100\n",
      "343/343 [==============================] - 2s 5ms/step - loss: 0.2155 - binary_accuracy: 0.9384 - precision_1: 0.9610 - recall_1: 0.4193 - val_loss: 0.4792 - val_binary_accuracy: 0.8972 - val_precision_1: 0.6724 - val_recall_1: 0.2281\n",
      "Epoch 81/100\n",
      "343/343 [==============================] - 2s 5ms/step - loss: 0.2122 - binary_accuracy: 0.9399 - precision_1: 0.9742 - recall_1: 0.4278 - val_loss: 0.4416 - val_binary_accuracy: 0.8986 - val_precision_1: 0.7200 - val_recall_1: 0.2105\n",
      "Epoch 82/100\n",
      "343/343 [==============================] - 2s 5ms/step - loss: 0.2150 - binary_accuracy: 0.9405 - precision_1: 0.9745 - recall_1: 0.4334 - val_loss: 0.4423 - val_binary_accuracy: 0.8979 - val_precision_1: 0.7561 - val_recall_1: 0.1813\n",
      "Epoch 83/100\n",
      "343/343 [==============================] - 2s 5ms/step - loss: 0.2151 - binary_accuracy: 0.9390 - precision_1: 0.9800 - recall_1: 0.4164 - val_loss: 0.4942 - val_binary_accuracy: 0.8965 - val_precision_1: 0.8065 - val_recall_1: 0.1462\n",
      "Epoch 84/100\n",
      "343/343 [==============================] - 2s 5ms/step - loss: 0.2143 - binary_accuracy: 0.9399 - precision_1: 0.9804 - recall_1: 0.4249 - val_loss: 0.5306 - val_binary_accuracy: 0.8958 - val_precision_1: 0.7368 - val_recall_1: 0.1637\n",
      "Epoch 85/100\n",
      "343/343 [==============================] - 2s 5ms/step - loss: 0.2144 - binary_accuracy: 0.9399 - precision_1: 0.9868 - recall_1: 0.4221 - val_loss: 0.5704 - val_binary_accuracy: 0.8986 - val_precision_1: 0.6964 - val_recall_1: 0.2281\n",
      "Epoch 86/100\n",
      "343/343 [==============================] - 2s 5ms/step - loss: 0.2166 - binary_accuracy: 0.9390 - precision_1: 0.9675 - recall_1: 0.4221 - val_loss: 0.4975 - val_binary_accuracy: 0.8999 - val_precision_1: 0.7500 - val_recall_1: 0.2105\n",
      "Epoch 87/100\n",
      "343/343 [==============================] - 2s 5ms/step - loss: 0.2132 - binary_accuracy: 0.9396 - precision_1: 0.9803 - recall_1: 0.4221 - val_loss: 0.5468 - val_binary_accuracy: 0.8979 - val_precision_1: 0.6842 - val_recall_1: 0.2281\n",
      "Epoch 88/100\n",
      "343/343 [==============================] - 2s 5ms/step - loss: 0.2136 - binary_accuracy: 0.9399 - precision_1: 0.9682 - recall_1: 0.4306 - val_loss: 0.5298 - val_binary_accuracy: 0.8999 - val_precision_1: 0.7609 - val_recall_1: 0.2047\n",
      "Epoch 89/100\n",
      "343/343 [==============================] - 2s 5ms/step - loss: 0.2115 - binary_accuracy: 0.9396 - precision_1: 0.9867 - recall_1: 0.4193 - val_loss: 0.5750 - val_binary_accuracy: 0.8965 - val_precision_1: 0.6418 - val_recall_1: 0.2515\n",
      "Epoch 90/100\n",
      "343/343 [==============================] - 2s 5ms/step - loss: 0.2369 - binary_accuracy: 0.9329 - precision_1: 0.9362 - recall_1: 0.3739 - val_loss: 0.3927 - val_binary_accuracy: 0.8952 - val_precision_1: 0.6604 - val_recall_1: 0.2047\n",
      "Epoch 91/100\n",
      "343/343 [==============================] - 2s 5ms/step - loss: 0.2268 - binary_accuracy: 0.9367 - precision_1: 0.9595 - recall_1: 0.4023 - val_loss: 0.3709 - val_binary_accuracy: 0.8958 - val_precision_1: 0.7250 - val_recall_1: 0.1696\n",
      "Epoch 92/100\n",
      "343/343 [==============================] - 2s 5ms/step - loss: 0.2173 - binary_accuracy: 0.9378 - precision_1: 0.9545 - recall_1: 0.4164 - val_loss: 0.5386 - val_binary_accuracy: 0.8979 - val_precision_1: 0.7143 - val_recall_1: 0.2047\n",
      "Epoch 93/100\n",
      "343/343 [==============================] - 2s 5ms/step - loss: 0.2164 - binary_accuracy: 0.9396 - precision_1: 0.9679 - recall_1: 0.4278 - val_loss: 0.4933 - val_binary_accuracy: 0.8999 - val_precision_1: 0.7143 - val_recall_1: 0.2339\n",
      "Epoch 94/100\n",
      "343/343 [==============================] - 2s 5ms/step - loss: 0.2141 - binary_accuracy: 0.9399 - precision_1: 0.9804 - recall_1: 0.4249 - val_loss: 0.5117 - val_binary_accuracy: 0.8979 - val_precision_1: 0.6780 - val_recall_1: 0.2339\n",
      "Epoch 95/100\n",
      "343/343 [==============================] - 2s 5ms/step - loss: 0.2113 - binary_accuracy: 0.9405 - precision_1: 0.9745 - recall_1: 0.4334 - val_loss: 0.5593 - val_binary_accuracy: 0.8999 - val_precision_1: 0.7609 - val_recall_1: 0.2047\n",
      "Epoch 96/100\n",
      "343/343 [==============================] - 2s 5ms/step - loss: 0.2119 - binary_accuracy: 0.9402 - precision_1: 0.9744 - recall_1: 0.4306 - val_loss: 0.6246 - val_binary_accuracy: 0.8979 - val_precision_1: 0.6721 - val_recall_1: 0.2398\n",
      "Epoch 97/100\n",
      "343/343 [==============================] - 2s 5ms/step - loss: 0.2128 - binary_accuracy: 0.9399 - precision_1: 0.9682 - recall_1: 0.4306 - val_loss: 0.5976 - val_binary_accuracy: 0.9006 - val_precision_1: 0.7358 - val_recall_1: 0.2281\n",
      "Epoch 98/100\n",
      "343/343 [==============================] - 2s 5ms/step - loss: 0.2123 - binary_accuracy: 0.9396 - precision_1: 0.9679 - recall_1: 0.4278 - val_loss: 0.5130 - val_binary_accuracy: 0.8972 - val_precision_1: 0.6667 - val_recall_1: 0.2339\n",
      "Epoch 99/100\n",
      "343/343 [==============================] - 2s 5ms/step - loss: 0.2262 - binary_accuracy: 0.9361 - precision_1: 0.9589 - recall_1: 0.3966 - val_loss: 0.3898 - val_binary_accuracy: 0.8958 - val_precision_1: 0.6184 - val_recall_1: 0.2749\n",
      "Epoch 100/100\n",
      "343/343 [==============================] - 2s 5ms/step - loss: 0.2164 - binary_accuracy: 0.9393 - precision_1: 0.9677 - recall_1: 0.4249 - val_loss: 0.5451 - val_binary_accuracy: 0.9006 - val_precision_1: 0.7358 - val_recall_1: 0.2281\n"
     ]
    }
   ],
   "source": [
    "trainer = CNN.fit(\n",
    "     smiles_train,\n",
    "     labels_train,\n",
    "     epochs = 100,\n",
    "     batch_size = 10,\n",
    "     validation_data = (smiles_test,labels_test),  \n",
    "     verbose = 1)"
   ]
  },
  {
   "cell_type": "code",
   "execution_count": 30,
   "metadata": {},
   "outputs": [],
   "source": [
    "y_hat = (CNN.predict(smiles_test) > 0.5).astype(\"float\")"
   ]
  },
  {
   "cell_type": "code",
   "execution_count": 31,
   "metadata": {},
   "outputs": [
    {
     "ename": "KeyError",
     "evalue": "'accuracy'",
     "output_type": "error",
     "traceback": [
      "\u001b[0;31m---------------------------------------------------------------------------\u001b[0m",
      "\u001b[0;31mKeyError\u001b[0m                                  Traceback (most recent call last)",
      "\u001b[0;32m/tmp/ipykernel_10787/2378312141.py\u001b[0m in \u001b[0;36m<module>\u001b[0;34m\u001b[0m\n\u001b[0;32m----> 1\u001b[0;31m \u001b[0mplt\u001b[0m\u001b[0;34m.\u001b[0m\u001b[0mplot\u001b[0m\u001b[0;34m(\u001b[0m\u001b[0mtrainer\u001b[0m\u001b[0;34m.\u001b[0m\u001b[0mhistory\u001b[0m\u001b[0;34m[\u001b[0m\u001b[0;34m'accuracy'\u001b[0m\u001b[0;34m]\u001b[0m\u001b[0;34m)\u001b[0m\u001b[0;34m\u001b[0m\u001b[0;34m\u001b[0m\u001b[0m\n\u001b[0m\u001b[1;32m      2\u001b[0m \u001b[0mplt\u001b[0m\u001b[0;34m.\u001b[0m\u001b[0mplot\u001b[0m\u001b[0;34m(\u001b[0m\u001b[0mtrainer\u001b[0m\u001b[0;34m.\u001b[0m\u001b[0mhistory\u001b[0m\u001b[0;34m[\u001b[0m\u001b[0;34m'val_accuracy'\u001b[0m\u001b[0;34m]\u001b[0m\u001b[0;34m)\u001b[0m\u001b[0;34m\u001b[0m\u001b[0;34m\u001b[0m\u001b[0m\n\u001b[1;32m      3\u001b[0m \u001b[0mplt\u001b[0m\u001b[0;34m.\u001b[0m\u001b[0mlegend\u001b[0m\u001b[0;34m(\u001b[0m\u001b[0;34m[\u001b[0m\u001b[0;34m\"accuracy\"\u001b[0m\u001b[0;34m,\u001b[0m\u001b[0;34m\"val_accuracy\"\u001b[0m\u001b[0;34m]\u001b[0m\u001b[0;34m)\u001b[0m\u001b[0;34m\u001b[0m\u001b[0;34m\u001b[0m\u001b[0m\n\u001b[1;32m      4\u001b[0m \u001b[0mplt\u001b[0m\u001b[0;34m.\u001b[0m\u001b[0mtitle\u001b[0m\u001b[0;34m(\u001b[0m\u001b[0;34m'Accuracy Vs Val_Accuracy'\u001b[0m\u001b[0;34m)\u001b[0m\u001b[0;34m\u001b[0m\u001b[0;34m\u001b[0m\u001b[0m\n\u001b[1;32m      5\u001b[0m \u001b[0mplt\u001b[0m\u001b[0;34m.\u001b[0m\u001b[0mxlabel\u001b[0m\u001b[0;34m(\u001b[0m\u001b[0;34m'Epoch'\u001b[0m\u001b[0;34m)\u001b[0m\u001b[0;34m\u001b[0m\u001b[0;34m\u001b[0m\u001b[0m\n",
      "\u001b[0;31mKeyError\u001b[0m: 'accuracy'"
     ]
    }
   ],
   "source": [
    "plt.plot(trainer.history['accuracy'])\n",
    "plt.plot(trainer.history['val_accuracy'])\n",
    "plt.legend([\"accuracy\",\"val_accuracy\"])\n",
    "plt.title('Accuracy Vs Val_Accuracy')\n",
    "plt.xlabel('Epoch')\n",
    "plt.ylabel('Accuracy')"
   ]
  },
  {
   "cell_type": "code",
   "execution_count": null,
   "metadata": {},
   "outputs": [],
   "source": [
    "plt.plot(trainer.history['loss'])\n",
    "plt.plot(trainer.history['val_loss'])\n",
    "plt.legend([\"loss\",\"val_loss\"])\n",
    "plt.title('Loss Vs Val_loss')\n",
    "plt.xlabel('Epoch')\n",
    "plt.ylabel('Loss')"
   ]
  },
  {
   "cell_type": "code",
   "execution_count": 32,
   "metadata": {},
   "outputs": [],
   "source": [
    "cm2 = confusion_matrix(labels_test, y_hat)  "
   ]
  },
  {
   "cell_type": "code",
   "execution_count": 33,
   "metadata": {},
   "outputs": [
    {
     "data": {
      "text/plain": [
       "Text(0.5, 33.0, 'Predicted Values')"
      ]
     },
     "execution_count": 33,
     "metadata": {},
     "output_type": "execute_result"
    },
    {
     "data": {
      "image/png": "[encoded data removed]",
      "text/plain": [
       "<Figure size 432x432 with 2 Axes>"
      ]
     },
     "metadata": {
      "needs_background": "light"
     },
     "output_type": "display_data"
    }
   ],
   "source": [
    "plt.figure(figsize = (6,6))\n",
    "sns.heatmap(cm2, annot = True, fmt = \".5g\", cmap = \"coolwarm\",linewidths=.5)\n",
    "plt.ylabel('Actual Values',fontsize = 14)\n",
    "plt.xlabel('Predicted Values')\n"
   ]
  },
  {
   "cell_type": "code",
   "execution_count": 34,
   "metadata": {},
   "outputs": [
    {
     "data": {
      "text/plain": [
       "(1284, 14, 132, 39)"
      ]
     },
     "execution_count": 34,
     "metadata": {},
     "output_type": "execute_result"
    }
   ],
   "source": [
    "tn2, fp2, fn2, tp2 = confusion_matrix(labels_test, y_hat).ravel()\n",
    "tn2, fp2, fn2, tp2"
   ]
  },
  {
   "cell_type": "code",
   "execution_count": 35,
   "metadata": {},
   "outputs": [
    {
     "data": {
      "text/plain": [
       "0.9006126616746086"
      ]
     },
     "execution_count": 35,
     "metadata": {},
     "output_type": "execute_result"
    }
   ],
   "source": [
    "#acurácia\n",
    "(tp2+tn2)/(tp2+tn2+fp2+fn2)"
   ]
  },
  {
   "cell_type": "code",
   "execution_count": 36,
   "metadata": {},
   "outputs": [
    {
     "data": {
      "text/plain": [
       "0.22807017543859648"
      ]
     },
     "execution_count": 36,
     "metadata": {},
     "output_type": "execute_result"
    }
   ],
   "source": [
    "#acerta o que é antibiótico\n",
    "(tp2)/(tp2+fn2)"
   ]
  },
  {
   "cell_type": "code",
   "execution_count": 37,
   "metadata": {},
   "outputs": [
    {
     "data": {
      "text/plain": [
       "0.9892141756548536"
      ]
     },
     "execution_count": 37,
     "metadata": {},
     "output_type": "execute_result"
    }
   ],
   "source": [
    "#acerta o que não é antibiótico\n",
    "(tn2)/(tn2+fp2)"
   ]
  },
  {
   "cell_type": "markdown",
   "metadata": {},
   "source": [
    "Convolucional mais simples"
   ]
  },
  {
   "cell_type": "code",
   "execution_count": 49,
   "metadata": {},
   "outputs": [],
   "source": [
    "CNN2 = tf.keras.models.Sequential([\n",
    "    tf.keras.layers.Embedding(input_dim = 53,output_dim = 1,input_length = maior_smile),\n",
    "    tf.keras.layers.Conv1D(filters = 16,kernel_size = 3),\n",
    "    tf.keras.layers.MaxPooling1D(pool_size = 5),\n",
    "    tf.keras.layers.Dropout(0.42),\n",
    "    tf.keras.layers.Conv1D(filters = 32,kernel_size = 3),\n",
    "    tf.keras.layers.MaxPooling1D(pool_size = 4),\n",
    "    tf.keras.layers.Dropout(0.42),\n",
    "    tf.keras.layers.Conv1D(filters = 64,kernel_size = 3),\n",
    "    tf.keras.layers.MaxPooling1D(pool_size = 2),\n",
    "    tf.keras.layers.Dropout(0.42),\n",
    "    tf.keras.layers.Conv1D(filters = 128,kernel_size = 3),\n",
    "    tf.keras.layers.MaxPooling1D(pool_size = 2),   \n",
    "    tf.keras.layers.Flatten(),\n",
    "    tf.keras.layers.Dropout(0.42),\n",
    "\n",
    "    tf.keras.layers.Dense(394, activation = \"relu\"),\n",
    "    tf.keras.layers.Dense(150, activation = \"relu\"),\n",
    "    tf.keras.layers.Dense(1, activation = \"sigmoid\")\n",
    "    ])\n",
    "CNN2.compile(\n",
    "    optimizer = tf.optimizers.Adam(),\n",
    "    loss = tf.losses.BinaryCrossentropy(),\n",
    "    metrics = [\n",
    "        tf.metrics.BinaryAccuracy(),\n",
    "        tf.keras.metrics.Precision(),\n",
    "        tf.keras.metrics.Recall()\n",
    "    ]\n",
    ")"
   ]
  },
  {
   "cell_type": "code",
   "execution_count": 50,
   "metadata": {},
   "outputs": [
    {
     "name": "stdout",
     "output_type": "stream",
     "text": [
      "Epoch 1/100\n",
      "343/343 [==============================] - 2s 4ms/step - loss: 0.3420 - binary_accuracy: 0.8952 - precision_4: 0.2000 - recall_4: 0.0057 - val_loss: 0.3294 - val_binary_accuracy: 0.8836 - val_precision_4: 0.0000e+00 - val_recall_4: 0.0000e+00\n",
      "Epoch 2/100\n",
      "343/343 [==============================] - 1s 3ms/step - loss: 0.3136 - binary_accuracy: 0.8970 - precision_4: 0.0000e+00 - recall_4: 0.0000e+00 - val_loss: 0.3201 - val_binary_accuracy: 0.8836 - val_precision_4: 0.0000e+00 - val_recall_4: 0.0000e+00\n",
      "Epoch 3/100\n",
      "343/343 [==============================] - 1s 3ms/step - loss: 0.3062 - binary_accuracy: 0.8970 - precision_4: 0.0000e+00 - recall_4: 0.0000e+00 - val_loss: 0.3231 - val_binary_accuracy: 0.8836 - val_precision_4: 0.0000e+00 - val_recall_4: 0.0000e+00\n",
      "Epoch 4/100\n",
      "343/343 [==============================] - 1s 3ms/step - loss: 0.3020 - binary_accuracy: 0.8970 - precision_4: 0.0000e+00 - recall_4: 0.0000e+00 - val_loss: 0.3150 - val_binary_accuracy: 0.8836 - val_precision_4: 0.0000e+00 - val_recall_4: 0.0000e+00\n",
      "Epoch 5/100\n",
      "343/343 [==============================] - 1s 3ms/step - loss: 0.2953 - binary_accuracy: 0.8973 - precision_4: 0.6000 - recall_4: 0.0085 - val_loss: 0.3054 - val_binary_accuracy: 0.8836 - val_precision_4: 0.0000e+00 - val_recall_4: 0.0000e+00\n",
      "Epoch 6/100\n",
      "343/343 [==============================] - 1s 3ms/step - loss: 0.2852 - binary_accuracy: 0.8967 - precision_4: 0.4545 - recall_4: 0.0142 - val_loss: 0.2981 - val_binary_accuracy: 0.8877 - val_precision_4: 0.5417 - val_recall_4: 0.2281\n",
      "Epoch 7/100\n",
      "343/343 [==============================] - 1s 3ms/step - loss: 0.2786 - binary_accuracy: 0.8920 - precision_4: 0.3191 - recall_4: 0.0425 - val_loss: 0.2857 - val_binary_accuracy: 0.8836 - val_precision_4: 0.5000 - val_recall_4: 0.0117\n",
      "Epoch 8/100\n",
      "343/343 [==============================] - 1s 3ms/step - loss: 0.2806 - binary_accuracy: 0.8946 - precision_4: 0.3667 - recall_4: 0.0312 - val_loss: 0.2863 - val_binary_accuracy: 0.8836 - val_precision_4: 0.0000e+00 - val_recall_4: 0.0000e+00\n",
      "Epoch 9/100\n",
      "343/343 [==============================] - 1s 3ms/step - loss: 0.2703 - binary_accuracy: 0.8970 - precision_4: 0.0000e+00 - recall_4: 0.0000e+00 - val_loss: 0.3001 - val_binary_accuracy: 0.8836 - val_precision_4: 0.0000e+00 - val_recall_4: 0.0000e+00\n",
      "Epoch 10/100\n",
      "343/343 [==============================] - 1s 3ms/step - loss: 0.2705 - binary_accuracy: 0.8990 - precision_4: 0.6207 - recall_4: 0.0510 - val_loss: 0.3088 - val_binary_accuracy: 0.8836 - val_precision_4: 0.0000e+00 - val_recall_4: 0.0000e+00\n",
      "Epoch 11/100\n",
      "343/343 [==============================] - 1s 3ms/step - loss: 0.2679 - binary_accuracy: 0.8975 - precision_4: 0.6000 - recall_4: 0.0170 - val_loss: 0.2780 - val_binary_accuracy: 0.8836 - val_precision_4: 0.0000e+00 - val_recall_4: 0.0000e+00\n",
      "Epoch 12/100\n",
      "343/343 [==============================] - 1s 3ms/step - loss: 0.2696 - binary_accuracy: 0.8961 - precision_4: 0.2000 - recall_4: 0.0028 - val_loss: 0.2719 - val_binary_accuracy: 0.8836 - val_precision_4: 0.0000e+00 - val_recall_4: 0.0000e+00\n",
      "Epoch 13/100\n",
      "343/343 [==============================] - 1s 3ms/step - loss: 0.2598 - binary_accuracy: 0.8964 - precision_4: 0.2500 - recall_4: 0.0028 - val_loss: 0.2787 - val_binary_accuracy: 0.8836 - val_precision_4: 0.5000 - val_recall_4: 0.0058\n",
      "Epoch 14/100\n",
      "343/343 [==============================] - 1s 3ms/step - loss: 0.2557 - binary_accuracy: 0.8958 - precision_4: 0.4231 - recall_4: 0.0312 - val_loss: 0.2789 - val_binary_accuracy: 0.8816 - val_precision_4: 0.2857 - val_recall_4: 0.0117\n",
      "Epoch 15/100\n",
      "343/343 [==============================] - 1s 3ms/step - loss: 0.2477 - binary_accuracy: 0.8970 - precision_4: 0.5000 - recall_4: 0.0227 - val_loss: 0.2669 - val_binary_accuracy: 0.8836 - val_precision_4: 0.0000e+00 - val_recall_4: 0.0000e+00\n",
      "Epoch 16/100\n",
      "343/343 [==============================] - 1s 3ms/step - loss: 0.2489 - binary_accuracy: 0.8958 - precision_4: 0.3333 - recall_4: 0.0113 - val_loss: 0.2545 - val_binary_accuracy: 0.8836 - val_precision_4: 0.0000e+00 - val_recall_4: 0.0000e+00\n",
      "Epoch 17/100\n",
      "343/343 [==============================] - 1s 3ms/step - loss: 0.2453 - binary_accuracy: 0.8973 - precision_4: 0.6667 - recall_4: 0.0057 - val_loss: 0.2553 - val_binary_accuracy: 0.8890 - val_precision_4: 0.5625 - val_recall_4: 0.2105\n",
      "Epoch 18/100\n",
      "343/343 [==============================] - 1s 3ms/step - loss: 0.2465 - binary_accuracy: 0.9008 - precision_4: 0.5890 - recall_4: 0.1218 - val_loss: 0.2653 - val_binary_accuracy: 0.8836 - val_precision_4: 0.0000e+00 - val_recall_4: 0.0000e+00\n",
      "Epoch 19/100\n",
      "343/343 [==============================] - 1s 3ms/step - loss: 0.2407 - binary_accuracy: 0.8996 - precision_4: 0.6552 - recall_4: 0.0538 - val_loss: 0.2490 - val_binary_accuracy: 0.8850 - val_precision_4: 0.6667 - val_recall_4: 0.0234\n",
      "Epoch 20/100\n",
      "343/343 [==============================] - 1s 3ms/step - loss: 0.2363 - binary_accuracy: 0.9005 - precision_4: 0.5625 - recall_4: 0.1530 - val_loss: 0.2528 - val_binary_accuracy: 0.8877 - val_precision_4: 0.8000 - val_recall_4: 0.0468\n",
      "Epoch 21/100\n",
      "343/343 [==============================] - 1s 3ms/step - loss: 0.2390 - binary_accuracy: 0.9028 - precision_4: 0.6389 - recall_4: 0.1303 - val_loss: 0.2554 - val_binary_accuracy: 0.8836 - val_precision_4: 0.5000 - val_recall_4: 0.0468\n",
      "Epoch 22/100\n",
      "343/343 [==============================] - 1s 3ms/step - loss: 0.2428 - binary_accuracy: 0.9025 - precision_4: 0.6234 - recall_4: 0.1360 - val_loss: 0.2571 - val_binary_accuracy: 0.8836 - val_precision_4: 0.5000 - val_recall_4: 0.0468\n",
      "Epoch 23/100\n",
      "343/343 [==============================] - 1s 3ms/step - loss: 0.2395 - binary_accuracy: 0.9013 - precision_4: 0.6667 - recall_4: 0.0850 - val_loss: 0.2448 - val_binary_accuracy: 0.8870 - val_precision_4: 0.6923 - val_recall_4: 0.0526\n",
      "Epoch 24/100\n",
      "343/343 [==============================] - 1s 3ms/step - loss: 0.2363 - binary_accuracy: 0.9054 - precision_4: 0.6381 - recall_4: 0.1898 - val_loss: 0.2465 - val_binary_accuracy: 0.8897 - val_precision_4: 0.5529 - val_recall_4: 0.2749\n",
      "Epoch 25/100\n",
      "343/343 [==============================] - 1s 3ms/step - loss: 0.2360 - binary_accuracy: 0.9054 - precision_4: 0.6465 - recall_4: 0.1813 - val_loss: 0.2473 - val_binary_accuracy: 0.8931 - val_precision_4: 0.6458 - val_recall_4: 0.1813\n",
      "Epoch 26/100\n",
      "343/343 [==============================] - 1s 3ms/step - loss: 0.2333 - binary_accuracy: 0.9081 - precision_4: 0.6863 - recall_4: 0.1983 - val_loss: 0.2573 - val_binary_accuracy: 0.8952 - val_precision_4: 0.6308 - val_recall_4: 0.2398\n",
      "Epoch 27/100\n",
      "343/343 [==============================] - 1s 3ms/step - loss: 0.2272 - binary_accuracy: 0.9101 - precision_4: 0.6642 - recall_4: 0.2578 - val_loss: 0.2855 - val_binary_accuracy: 0.8938 - val_precision_4: 0.7273 - val_recall_4: 0.1404\n",
      "Epoch 28/100\n",
      "343/343 [==============================] - 1s 3ms/step - loss: 0.2276 - binary_accuracy: 0.9121 - precision_4: 0.7031 - recall_4: 0.2550 - val_loss: 0.3008 - val_binary_accuracy: 0.8877 - val_precision_4: 0.6500 - val_recall_4: 0.0760\n",
      "Epoch 29/100\n",
      "343/343 [==============================] - 1s 3ms/step - loss: 0.2313 - binary_accuracy: 0.9075 - precision_4: 0.6636 - recall_4: 0.2068 - val_loss: 0.2524 - val_binary_accuracy: 0.8952 - val_precision_4: 0.6491 - val_recall_4: 0.2164\n",
      "Epoch 30/100\n",
      "343/343 [==============================] - 1s 3ms/step - loss: 0.2262 - binary_accuracy: 0.9048 - precision_4: 0.6015 - recall_4: 0.2266 - val_loss: 0.2434 - val_binary_accuracy: 0.8993 - val_precision_4: 0.7091 - val_recall_4: 0.2281\n",
      "Epoch 31/100\n",
      "343/343 [==============================] - 1s 3ms/step - loss: 0.2231 - binary_accuracy: 0.9098 - precision_4: 0.6507 - recall_4: 0.2691 - val_loss: 0.2462 - val_binary_accuracy: 0.8986 - val_precision_4: 0.6279 - val_recall_4: 0.3158\n",
      "Epoch 32/100\n",
      "343/343 [==============================] - 1s 3ms/step - loss: 0.2317 - binary_accuracy: 0.9075 - precision_4: 0.6343 - recall_4: 0.2408 - val_loss: 0.2513 - val_binary_accuracy: 0.9020 - val_precision_4: 0.6421 - val_recall_4: 0.3567\n",
      "Epoch 33/100\n",
      "343/343 [==============================] - 1s 3ms/step - loss: 0.2265 - binary_accuracy: 0.9098 - precision_4: 0.6429 - recall_4: 0.2805 - val_loss: 0.2526 - val_binary_accuracy: 0.8884 - val_precision_4: 0.5660 - val_recall_4: 0.1754\n",
      "Epoch 34/100\n",
      "343/343 [==============================] - 1s 3ms/step - loss: 0.2271 - binary_accuracy: 0.9092 - precision_4: 0.6438 - recall_4: 0.2663 - val_loss: 0.2497 - val_binary_accuracy: 0.9013 - val_precision_4: 0.6857 - val_recall_4: 0.2807\n",
      "Epoch 35/100\n",
      "343/343 [==============================] - 1s 3ms/step - loss: 0.2234 - binary_accuracy: 0.9148 - precision_4: 0.7226 - recall_4: 0.2805 - val_loss: 0.2393 - val_binary_accuracy: 0.9054 - val_precision_4: 0.6429 - val_recall_4: 0.4211\n",
      "Epoch 36/100\n",
      "343/343 [==============================] - 1s 3ms/step - loss: 0.2285 - binary_accuracy: 0.9119 - precision_4: 0.6689 - recall_4: 0.2861 - val_loss: 0.2636 - val_binary_accuracy: 0.8958 - val_precision_4: 0.6607 - val_recall_4: 0.2164\n",
      "Epoch 37/100\n",
      "343/343 [==============================] - 1s 3ms/step - loss: 0.2290 - binary_accuracy: 0.9119 - precision_4: 0.7008 - recall_4: 0.2521 - val_loss: 0.2417 - val_binary_accuracy: 0.8993 - val_precision_4: 0.6533 - val_recall_4: 0.2865\n",
      "Epoch 38/100\n",
      "343/343 [==============================] - 1s 3ms/step - loss: 0.2219 - binary_accuracy: 0.9095 - precision_4: 0.6937 - recall_4: 0.2181 - val_loss: 0.2552 - val_binary_accuracy: 0.8972 - val_precision_4: 0.6923 - val_recall_4: 0.2105\n",
      "Epoch 39/100\n",
      "343/343 [==============================] - 1s 3ms/step - loss: 0.2347 - binary_accuracy: 0.9104 - precision_4: 0.6855 - recall_4: 0.2408 - val_loss: 0.2523 - val_binary_accuracy: 0.8993 - val_precision_4: 0.7347 - val_recall_4: 0.2105\n",
      "Epoch 40/100\n",
      "343/343 [==============================] - 1s 3ms/step - loss: 0.2262 - binary_accuracy: 0.9154 - precision_4: 0.7172 - recall_4: 0.2946 - val_loss: 0.2553 - val_binary_accuracy: 0.8958 - val_precision_4: 0.7812 - val_recall_4: 0.1462\n",
      "Epoch 41/100\n",
      "343/343 [==============================] - 1s 3ms/step - loss: 0.2198 - binary_accuracy: 0.9148 - precision_4: 0.7226 - recall_4: 0.2805 - val_loss: 0.2406 - val_binary_accuracy: 0.9027 - val_precision_4: 0.7059 - val_recall_4: 0.2807\n",
      "Epoch 42/100\n",
      "343/343 [==============================] - 1s 3ms/step - loss: 0.2209 - binary_accuracy: 0.9142 - precision_4: 0.6810 - recall_4: 0.3144 - val_loss: 0.2470 - val_binary_accuracy: 0.9067 - val_precision_4: 0.6667 - val_recall_4: 0.3977\n",
      "Epoch 43/100\n",
      "343/343 [==============================] - 1s 3ms/step - loss: 0.2222 - binary_accuracy: 0.9156 - precision_4: 0.6951 - recall_4: 0.3229 - val_loss: 0.2403 - val_binary_accuracy: 0.9067 - val_precision_4: 0.6518 - val_recall_4: 0.4269\n",
      "Epoch 44/100\n",
      "343/343 [==============================] - 1s 3ms/step - loss: 0.2244 - binary_accuracy: 0.9139 - precision_4: 0.6747 - recall_4: 0.3173 - val_loss: 0.2639 - val_binary_accuracy: 0.8945 - val_precision_4: 0.6667 - val_recall_4: 0.1871\n",
      "Epoch 45/100\n",
      "343/343 [==============================] - 1s 3ms/step - loss: 0.2254 - binary_accuracy: 0.9162 - precision_4: 0.7391 - recall_4: 0.2890 - val_loss: 0.2665 - val_binary_accuracy: 0.9088 - val_precision_4: 0.7126 - val_recall_4: 0.3626\n",
      "Epoch 46/100\n",
      "343/343 [==============================] - 1s 3ms/step - loss: 0.2199 - binary_accuracy: 0.9139 - precision_4: 0.7071 - recall_4: 0.2805 - val_loss: 0.2365 - val_binary_accuracy: 0.9074 - val_precision_4: 0.6549 - val_recall_4: 0.4327\n",
      "Epoch 47/100\n",
      "343/343 [==============================] - 1s 3ms/step - loss: 0.2155 - binary_accuracy: 0.9194 - precision_4: 0.7584 - recall_4: 0.3201 - val_loss: 0.2445 - val_binary_accuracy: 0.9074 - val_precision_4: 0.6446 - val_recall_4: 0.4561\n",
      "Epoch 48/100\n",
      "343/343 [==============================] - 1s 3ms/step - loss: 0.2131 - binary_accuracy: 0.9177 - precision_4: 0.7006 - recall_4: 0.3513 - val_loss: 0.2423 - val_binary_accuracy: 0.9040 - val_precision_4: 0.7143 - val_recall_4: 0.2924\n",
      "Epoch 49/100\n",
      "343/343 [==============================] - 1s 3ms/step - loss: 0.2174 - binary_accuracy: 0.9194 - precision_4: 0.7730 - recall_4: 0.3088 - val_loss: 0.2477 - val_binary_accuracy: 0.9054 - val_precision_4: 0.6739 - val_recall_4: 0.3626\n",
      "Epoch 50/100\n",
      "343/343 [==============================] - 1s 3ms/step - loss: 0.2068 - binary_accuracy: 0.9189 - precision_4: 0.7273 - recall_4: 0.3399 - val_loss: 0.2685 - val_binary_accuracy: 0.9095 - val_precision_4: 0.6827 - val_recall_4: 0.4152\n",
      "Epoch 51/100\n",
      "343/343 [==============================] - 1s 3ms/step - loss: 0.2184 - binary_accuracy: 0.9203 - precision_4: 0.7703 - recall_4: 0.3229 - val_loss: 0.2393 - val_binary_accuracy: 0.9067 - val_precision_4: 0.6848 - val_recall_4: 0.3684\n",
      "Epoch 52/100\n",
      "343/343 [==============================] - 1s 3ms/step - loss: 0.2160 - binary_accuracy: 0.9162 - precision_4: 0.7143 - recall_4: 0.3116 - val_loss: 0.2358 - val_binary_accuracy: 0.9081 - val_precision_4: 0.6957 - val_recall_4: 0.3743\n",
      "Epoch 53/100\n",
      "343/343 [==============================] - 1s 3ms/step - loss: 0.2150 - binary_accuracy: 0.9180 - precision_4: 0.7338 - recall_4: 0.3201 - val_loss: 0.2368 - val_binary_accuracy: 0.9061 - val_precision_4: 0.6813 - val_recall_4: 0.3626\n",
      "Epoch 54/100\n",
      "343/343 [==============================] - 1s 3ms/step - loss: 0.2182 - binary_accuracy: 0.9168 - precision_4: 0.7297 - recall_4: 0.3059 - val_loss: 0.2414 - val_binary_accuracy: 0.8972 - val_precision_4: 0.6613 - val_recall_4: 0.2398\n",
      "Epoch 55/100\n",
      "343/343 [==============================] - 1s 3ms/step - loss: 0.2106 - binary_accuracy: 0.9186 - precision_4: 0.7372 - recall_4: 0.3258 - val_loss: 0.2549 - val_binary_accuracy: 0.9067 - val_precision_4: 0.7361 - val_recall_4: 0.3099\n",
      "Epoch 56/100\n",
      "343/343 [==============================] - 1s 3ms/step - loss: 0.2113 - binary_accuracy: 0.9194 - precision_4: 0.7655 - recall_4: 0.3144 - val_loss: 0.2298 - val_binary_accuracy: 0.9081 - val_precision_4: 0.7093 - val_recall_4: 0.3567\n",
      "Epoch 57/100\n",
      "343/343 [==============================] - 1s 3ms/step - loss: 0.2157 - binary_accuracy: 0.9177 - precision_4: 0.7415 - recall_4: 0.3088 - val_loss: 0.2447 - val_binary_accuracy: 0.8958 - val_precision_4: 0.6184 - val_recall_4: 0.2749\n",
      "Epoch 58/100\n",
      "343/343 [==============================] - 1s 3ms/step - loss: 0.2165 - binary_accuracy: 0.9148 - precision_4: 0.6894 - recall_4: 0.3144 - val_loss: 0.2365 - val_binary_accuracy: 0.9081 - val_precision_4: 0.6731 - val_recall_4: 0.4094\n",
      "Epoch 59/100\n",
      "343/343 [==============================] - 1s 3ms/step - loss: 0.2111 - binary_accuracy: 0.9159 - precision_4: 0.6684 - recall_4: 0.3654 - val_loss: 0.2357 - val_binary_accuracy: 0.9054 - val_precision_4: 0.7759 - val_recall_4: 0.2632\n",
      "Epoch 60/100\n",
      "343/343 [==============================] - 1s 3ms/step - loss: 0.2153 - binary_accuracy: 0.9151 - precision_4: 0.7153 - recall_4: 0.2918 - val_loss: 0.2365 - val_binary_accuracy: 0.9040 - val_precision_4: 0.6667 - val_recall_4: 0.3509\n",
      "Epoch 61/100\n",
      "343/343 [==============================] - 1s 3ms/step - loss: 0.2145 - binary_accuracy: 0.9200 - precision_4: 0.7394 - recall_4: 0.3456 - val_loss: 0.2383 - val_binary_accuracy: 0.9054 - val_precision_4: 0.7105 - val_recall_4: 0.3158\n",
      "Epoch 62/100\n",
      "343/343 [==============================] - 1s 3ms/step - loss: 0.2075 - binary_accuracy: 0.9218 - precision_4: 0.7545 - recall_4: 0.3569 - val_loss: 0.2506 - val_binary_accuracy: 0.9047 - val_precision_4: 0.6667 - val_recall_4: 0.3626\n",
      "Epoch 63/100\n",
      "343/343 [==============================] - 1s 3ms/step - loss: 0.2173 - binary_accuracy: 0.9162 - precision_4: 0.6964 - recall_4: 0.3314 - val_loss: 0.2502 - val_binary_accuracy: 0.9033 - val_precision_4: 0.6986 - val_recall_4: 0.2982\n",
      "Epoch 64/100\n",
      "343/343 [==============================] - 1s 3ms/step - loss: 0.2162 - binary_accuracy: 0.9156 - precision_4: 0.7286 - recall_4: 0.2890 - val_loss: 0.2503 - val_binary_accuracy: 0.9067 - val_precision_4: 0.7024 - val_recall_4: 0.3450\n",
      "Epoch 65/100\n",
      "343/343 [==============================] - 1s 3ms/step - loss: 0.2188 - binary_accuracy: 0.9162 - precision_4: 0.7230 - recall_4: 0.3031 - val_loss: 0.2445 - val_binary_accuracy: 0.9033 - val_precision_4: 0.6526 - val_recall_4: 0.3626\n",
      "Epoch 66/100\n",
      "343/343 [==============================] - 1s 4ms/step - loss: 0.2157 - binary_accuracy: 0.9218 - precision_4: 0.7607 - recall_4: 0.3513 - val_loss: 0.2588 - val_binary_accuracy: 0.9095 - val_precision_4: 0.7639 - val_recall_4: 0.3216\n",
      "Epoch 67/100\n",
      "343/343 [==============================] - 1s 3ms/step - loss: 0.2099 - binary_accuracy: 0.9200 - precision_4: 0.7548 - recall_4: 0.3314 - val_loss: 0.2461 - val_binary_accuracy: 0.9006 - val_precision_4: 0.7049 - val_recall_4: 0.2515\n",
      "Epoch 68/100\n",
      "343/343 [==============================] - 1s 3ms/step - loss: 0.2123 - binary_accuracy: 0.9174 - precision_4: 0.7734 - recall_4: 0.2805 - val_loss: 0.2787 - val_binary_accuracy: 0.8993 - val_precision_4: 0.6186 - val_recall_4: 0.3509\n",
      "Epoch 69/100\n",
      "343/343 [==============================] - 1s 3ms/step - loss: 0.2111 - binary_accuracy: 0.9200 - precision_4: 0.7582 - recall_4: 0.3286 - val_loss: 0.2358 - val_binary_accuracy: 0.9142 - val_precision_4: 0.7848 - val_recall_4: 0.3626\n",
      "Epoch 70/100\n",
      "343/343 [==============================] - 1s 3ms/step - loss: 0.2177 - binary_accuracy: 0.9174 - precision_4: 0.7244 - recall_4: 0.3201 - val_loss: 0.2395 - val_binary_accuracy: 0.9101 - val_precision_4: 0.7407 - val_recall_4: 0.3509\n",
      "Epoch 71/100\n",
      "343/343 [==============================] - 1s 3ms/step - loss: 0.2163 - binary_accuracy: 0.9165 - precision_4: 0.7161 - recall_4: 0.3144 - val_loss: 0.2380 - val_binary_accuracy: 0.9088 - val_precision_4: 0.6907 - val_recall_4: 0.3918\n",
      "Epoch 72/100\n",
      "343/343 [==============================] - 1s 3ms/step - loss: 0.2075 - binary_accuracy: 0.9191 - precision_4: 0.7135 - recall_4: 0.3598 - val_loss: 0.2342 - val_binary_accuracy: 0.9081 - val_precision_4: 0.7143 - val_recall_4: 0.3509\n",
      "Epoch 73/100\n",
      "343/343 [==============================] - 1s 3ms/step - loss: 0.2097 - binary_accuracy: 0.9151 - precision_4: 0.6667 - recall_4: 0.3513 - val_loss: 0.2926 - val_binary_accuracy: 0.9074 - val_precision_4: 0.7778 - val_recall_4: 0.2865\n",
      "Epoch 74/100\n",
      "343/343 [==============================] - 1s 3ms/step - loss: 0.2197 - binary_accuracy: 0.9194 - precision_4: 0.7619 - recall_4: 0.3173 - val_loss: 0.2579 - val_binary_accuracy: 0.8999 - val_precision_4: 0.6277 - val_recall_4: 0.3450\n",
      "Epoch 75/100\n",
      "343/343 [==============================] - 1s 3ms/step - loss: 0.2182 - binary_accuracy: 0.9212 - precision_4: 0.7345 - recall_4: 0.3683 - val_loss: 0.2550 - val_binary_accuracy: 0.9108 - val_precision_4: 0.7500 - val_recall_4: 0.3509\n",
      "Epoch 76/100\n",
      "343/343 [==============================] - 1s 3ms/step - loss: 0.2079 - binary_accuracy: 0.9221 - precision_4: 0.7867 - recall_4: 0.3343 - val_loss: 0.2571 - val_binary_accuracy: 0.9013 - val_precision_4: 0.6354 - val_recall_4: 0.3567\n",
      "Epoch 77/100\n",
      "343/343 [==============================] - 1s 4ms/step - loss: 0.2083 - binary_accuracy: 0.9212 - precision_4: 0.7427 - recall_4: 0.3598 - val_loss: 0.2682 - val_binary_accuracy: 0.9074 - val_precision_4: 0.7059 - val_recall_4: 0.3509\n",
      "Epoch 78/100\n",
      "343/343 [==============================] - 1s 4ms/step - loss: 0.2122 - binary_accuracy: 0.9200 - precision_4: 0.7423 - recall_4: 0.3428 - val_loss: 0.2516 - val_binary_accuracy: 0.8999 - val_precision_4: 0.6667 - val_recall_4: 0.2807\n",
      "Epoch 79/100\n",
      "343/343 [==============================] - 1s 4ms/step - loss: 0.2151 - binary_accuracy: 0.9183 - precision_4: 0.7186 - recall_4: 0.3399 - val_loss: 0.2453 - val_binary_accuracy: 0.9047 - val_precision_4: 0.7246 - val_recall_4: 0.2924\n",
      "Epoch 80/100\n",
      "343/343 [==============================] - 1s 4ms/step - loss: 0.2081 - binary_accuracy: 0.9221 - precision_4: 0.7756 - recall_4: 0.3428 - val_loss: 0.2438 - val_binary_accuracy: 0.9061 - val_precision_4: 0.7260 - val_recall_4: 0.3099\n",
      "Epoch 81/100\n",
      "343/343 [==============================] - 1s 4ms/step - loss: 0.2101 - binary_accuracy: 0.9221 - precision_4: 0.7590 - recall_4: 0.3569 - val_loss: 0.2403 - val_binary_accuracy: 0.9040 - val_precision_4: 0.6531 - val_recall_4: 0.3743\n",
      "Epoch 82/100\n",
      "343/343 [==============================] - 1s 4ms/step - loss: 0.2195 - binary_accuracy: 0.9203 - precision_4: 0.7532 - recall_4: 0.3371 - val_loss: 0.2890 - val_binary_accuracy: 0.9067 - val_precision_4: 0.7297 - val_recall_4: 0.3158\n",
      "Epoch 83/100\n",
      "343/343 [==============================] - 1s 3ms/step - loss: 0.2106 - binary_accuracy: 0.9206 - precision_4: 0.7755 - recall_4: 0.3229 - val_loss: 0.2395 - val_binary_accuracy: 0.9074 - val_precision_4: 0.6923 - val_recall_4: 0.3684\n",
      "Epoch 84/100\n",
      "343/343 [==============================] - 1s 3ms/step - loss: 0.2010 - binary_accuracy: 0.9197 - precision_4: 0.7321 - recall_4: 0.3484 - val_loss: 0.2455 - val_binary_accuracy: 0.9101 - val_precision_4: 0.6893 - val_recall_4: 0.4152\n",
      "Epoch 85/100\n",
      "343/343 [==============================] - 1s 3ms/step - loss: 0.2099 - binary_accuracy: 0.9200 - precision_4: 0.7232 - recall_4: 0.3626 - val_loss: 0.2351 - val_binary_accuracy: 0.9074 - val_precision_4: 0.6966 - val_recall_4: 0.3626\n",
      "Epoch 86/100\n",
      "343/343 [==============================] - 1s 4ms/step - loss: 0.2101 - binary_accuracy: 0.9218 - precision_4: 0.7429 - recall_4: 0.3683 - val_loss: 0.2517 - val_binary_accuracy: 0.9047 - val_precision_4: 0.7313 - val_recall_4: 0.2865\n",
      "Epoch 87/100\n",
      "343/343 [==============================] - 1s 4ms/step - loss: 0.2176 - binary_accuracy: 0.9191 - precision_4: 0.7468 - recall_4: 0.3258 - val_loss: 0.2473 - val_binary_accuracy: 0.9108 - val_precision_4: 0.7857 - val_recall_4: 0.3216\n",
      "Epoch 88/100\n",
      "343/343 [==============================] - 1s 3ms/step - loss: 0.2065 - binary_accuracy: 0.9212 - precision_4: 0.7399 - recall_4: 0.3626 - val_loss: 0.2509 - val_binary_accuracy: 0.9122 - val_precision_4: 0.7917 - val_recall_4: 0.3333\n",
      "Epoch 89/100\n",
      "343/343 [==============================] - 1s 4ms/step - loss: 0.2016 - binary_accuracy: 0.9224 - precision_4: 0.7486 - recall_4: 0.3711 - val_loss: 0.2352 - val_binary_accuracy: 0.9095 - val_precision_4: 0.7065 - val_recall_4: 0.3801\n",
      "Epoch 90/100\n",
      "343/343 [==============================] - 1s 4ms/step - loss: 0.2101 - binary_accuracy: 0.9221 - precision_4: 0.7529 - recall_4: 0.3626 - val_loss: 0.2323 - val_binary_accuracy: 0.9122 - val_precision_4: 0.7692 - val_recall_4: 0.3509\n",
      "Epoch 91/100\n",
      "343/343 [==============================] - 1s 4ms/step - loss: 0.1999 - binary_accuracy: 0.9238 - precision_4: 0.7584 - recall_4: 0.3824 - val_loss: 0.2543 - val_binary_accuracy: 0.9067 - val_precision_4: 0.6700 - val_recall_4: 0.3918\n",
      "Epoch 92/100\n",
      "343/343 [==============================] - 1s 4ms/step - loss: 0.2046 - binary_accuracy: 0.9227 - precision_4: 0.7558 - recall_4: 0.3683 - val_loss: 0.2818 - val_binary_accuracy: 0.9054 - val_precision_4: 0.6633 - val_recall_4: 0.3801\n",
      "Epoch 93/100\n",
      "343/343 [==============================] - 1s 4ms/step - loss: 0.2118 - binary_accuracy: 0.9224 - precision_4: 0.7669 - recall_4: 0.3541 - val_loss: 0.2640 - val_binary_accuracy: 0.9040 - val_precision_4: 0.6667 - val_recall_4: 0.3509\n",
      "Epoch 94/100\n",
      "343/343 [==============================] - 1s 4ms/step - loss: 0.2012 - binary_accuracy: 0.9221 - precision_4: 0.7443 - recall_4: 0.3711 - val_loss: 0.2425 - val_binary_accuracy: 0.9074 - val_precision_4: 0.7160 - val_recall_4: 0.3392\n",
      "Epoch 95/100\n",
      "343/343 [==============================] - 1s 4ms/step - loss: 0.2057 - binary_accuracy: 0.9212 - precision_4: 0.7546 - recall_4: 0.3484 - val_loss: 0.2494 - val_binary_accuracy: 0.9054 - val_precision_4: 0.6481 - val_recall_4: 0.4094\n",
      "Epoch 96/100\n",
      "343/343 [==============================] - 1s 4ms/step - loss: 0.2095 - binary_accuracy: 0.9229 - precision_4: 0.7354 - recall_4: 0.3938 - val_loss: 0.2420 - val_binary_accuracy: 0.9061 - val_precision_4: 0.6737 - val_recall_4: 0.3743\n",
      "Epoch 97/100\n",
      "343/343 [==============================] - 1s 4ms/step - loss: 0.2069 - binary_accuracy: 0.9180 - precision_4: 0.7338 - recall_4: 0.3201 - val_loss: 0.2329 - val_binary_accuracy: 0.9115 - val_precision_4: 0.7356 - val_recall_4: 0.3743\n",
      "Epoch 98/100\n",
      "343/343 [==============================] - 1s 4ms/step - loss: 0.2072 - binary_accuracy: 0.9203 - precision_4: 0.7353 - recall_4: 0.3541 - val_loss: 0.2448 - val_binary_accuracy: 0.9013 - val_precision_4: 0.6477 - val_recall_4: 0.3333\n",
      "Epoch 99/100\n",
      "343/343 [==============================] - 1s 4ms/step - loss: 0.2019 - binary_accuracy: 0.9221 - precision_4: 0.7792 - recall_4: 0.3399 - val_loss: 0.2593 - val_binary_accuracy: 0.9088 - val_precision_4: 0.7606 - val_recall_4: 0.3158\n",
      "Epoch 100/100\n",
      "343/343 [==============================] - 1s 4ms/step - loss: 0.2042 - binary_accuracy: 0.9212 - precision_4: 0.7643 - recall_4: 0.3399 - val_loss: 0.2537 - val_binary_accuracy: 0.9108 - val_precision_4: 0.6852 - val_recall_4: 0.4327\n"
     ]
    }
   ],
   "source": [
    "trainer = CNN2.fit(\n",
    "     smiles_train,\n",
    "     labels_train,\n",
    "     batch_size = 10,\n",
    "     epochs = 100,\n",
    "     validation_data = (smiles_test,labels_test),  \n",
    "     verbose = 1)"
   ]
  },
  {
   "cell_type": "code",
   "execution_count": 40,
   "metadata": {},
   "outputs": [],
   "source": [
    "y_hat2 = (CNN2.predict(smiles_test) > 0.5).astype(\"float\")"
   ]
  },
  {
   "cell_type": "code",
   "execution_count": 41,
   "metadata": {},
   "outputs": [],
   "source": [
    "cm3 = confusion_matrix(labels_test, y_hat2)  "
   ]
  },
  {
   "cell_type": "code",
   "execution_count": 42,
   "metadata": {},
   "outputs": [
    {
     "data": {
      "text/plain": [
       "Text(0.5, 33.0, 'Predicted Values')"
      ]
     },
     "execution_count": 42,
     "metadata": {},
     "output_type": "execute_result"
    },
    {
     "data": {
      "image/png": "[encoded data removed]",
      "text/plain": [
       "<Figure size 432x432 with 2 Axes>"
      ]
     },
     "metadata": {
      "needs_background": "light"
     },
     "output_type": "display_data"
    }
   ],
   "source": [
    "plt.figure(figsize = (6,6))\n",
    "sns.heatmap(cm3, annot = True, fmt = \".5g\", cmap = \"coolwarm\",linewidths=.5)\n",
    "plt.ylabel('Actual Values',fontsize = 14)\n",
    "plt.xlabel('Predicted Values')"
   ]
  },
  {
   "cell_type": "code",
   "execution_count": 43,
   "metadata": {},
   "outputs": [
    {
     "data": {
      "text/plain": [
       "(1240, 58, 90, 81)"
      ]
     },
     "execution_count": 43,
     "metadata": {},
     "output_type": "execute_result"
    }
   ],
   "source": [
    "tn3, fp3, fn3, tp3 = confusion_matrix(labels_test, y_hat2).ravel()\n",
    "tn3, fp3, fn3, tp3"
   ]
  },
  {
   "cell_type": "code",
   "execution_count": 44,
   "metadata": {},
   "outputs": [
    {
     "data": {
      "text/plain": [
       "0.8992511912865895"
      ]
     },
     "execution_count": 44,
     "metadata": {},
     "output_type": "execute_result"
    }
   ],
   "source": [
    "#acurácia\n",
    "(tp3+tn3)/(tp3+tn3+fp3+fn3)"
   ]
  },
  {
   "cell_type": "code",
   "execution_count": 45,
   "metadata": {},
   "outputs": [
    {
     "data": {
      "text/plain": [
       "0.47368421052631576"
      ]
     },
     "execution_count": 45,
     "metadata": {},
     "output_type": "execute_result"
    }
   ],
   "source": [
    "#acerta o que é antimalárico\n",
    "(tp3)/(tp3+fn3)"
   ]
  },
  {
   "cell_type": "code",
   "execution_count": 46,
   "metadata": {},
   "outputs": [
    {
     "data": {
      "text/plain": [
       "0.9553158705701078"
      ]
     },
     "execution_count": 46,
     "metadata": {},
     "output_type": "execute_result"
    }
   ],
   "source": [
    "#acerta o que não é antimalárico\n",
    "(tn3)/(tn3+fp3)"
   ]
  }
 ],
 "metadata": {
  "interpreter": {
   "hash": "3218d1e1345bf85c44ac3e3bdb7899973b22b8c207b0aa6281a3c4896a58620c"
  },
  "kernelspec": {
   "display_name": "Python 3.7.11 ('diversedrl')",
   "language": "python",
   "name": "python3"
  },
  "language_info": {
   "codemirror_mode": {
    "name": "ipython",
    "version": 3
   },
   "file_extension": ".py",
   "mimetype": "text/x-python",
   "name": "python",
   "nbconvert_exporter": "python",
   "pygments_lexer": "ipython3",
   "version": "3.7.11"
  },
  "orig_nbformat": 4
 },
 "nbformat": 4,
 "nbformat_minor": 2
}
