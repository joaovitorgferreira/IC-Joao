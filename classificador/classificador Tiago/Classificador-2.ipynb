{
 "cells": [
  {
   "cell_type": "markdown",
   "metadata": {},
   "source": [
    "\n",
    "Classificador\n",
    "1. Importar dados\n",
    "\n",
    "Para criar um classificador formatar os dados da sequinte maneira:\n",
    "\n",
    "moleculas -> uma lista/array com todos os smiles do seu banco de dados\n",
    "\n",
    "classes -> uma lista/array de zeros e uns representando antibiótico e não antibiótico, respectivamente\n",
    "\n",
    "O classificador vai identificar traços das moleculas e associá-los às classes, então cada molécula deverá ter o mesmo índice que sua classe.\n",
    "\n",
    "bibliotecas sugeridas:\n",
    "\n",
    "    pandas\n",
    "    numpy\n",
    "\n"
   ]
  },
  {
   "cell_type": "code",
   "execution_count": 9,
   "metadata": {},
   "outputs": [],
   "source": [
    "import pandas as pd\n",
    "import numpy as np\n",
    "import sklearn as sk\n",
    "\n",
    "#Importar dados\n",
    "df = pd.read_csv('/home/joao/documentos/IC-Joao/classificador/antimalaria_set.csv',index_col=False)\n",
    "\n",
    "#Definir a coluna das classes\n",
    "labels = np.asarray(df.Classe) #1 para antibiótico, 0 para não antibiótico\n",
    "\n",
    "#Selecionar SMILES sem as classes\n",
    "df_selected = df.drop([\"Classe\",\"Name\",\"InChIKey\",\"Index\"], axis=1)\n",
    "\n",
    "#Codificar classes (não é mais necessário)\n",
    "#from sklearn.preprocessing import LabelEncoder\n",
    "#le = LabelEncoder()\n",
    "#le.fit(labels)\n",
    "\n",
    "#labels = le.transform(labels)"
   ]
  },
  {
   "cell_type": "code",
   "execution_count": 6,
   "metadata": {},
   "outputs": [
    {
     "data": {
      "text/plain": [
       "str"
      ]
     },
     "execution_count": 6,
     "metadata": {},
     "output_type": "execute_result"
    }
   ],
   "source": [
    "type(df_selected.SMILES.values[0])"
   ]
  },
  {
   "cell_type": "markdown",
   "metadata": {},
   "source": [
    "\n",
    "2. Processamento dos dados\n",
    "2.1 Encoding/padding\n",
    "\n",
    "Nessa etapa acontece a codificação das moleculas. Pode ser tokens, one hot vector, integer vector. Você decide.\n",
    "\n",
    "É importante que ao final do processamento todos os tokens tenham o mesmo comprimento, então um processo chamado padding precisa ser aplicado.\n",
    "\n",
    "Por convenção as variáveis em machine learning assumem esses nomes:\n",
    "\n",
    "X -> uma lista/array com todos os smiles codificados\n",
    "\n",
    "y -> uma lista/array de zeros e uns representando antibiótico e não antibiótico, respectivamente\n",
    "\n",
    "Bibliotecas sugeridas:\n",
    "\n",
    "    numpy\n",
    "    sklearn\n",
    "\n"
   ]
  },
  {
   "cell_type": "markdown",
   "metadata": {},
   "source": [
    "ADIÇÕES DO TIAGO: INICIO"
   ]
  },
  {
   "cell_type": "code",
   "execution_count": 11,
   "metadata": {},
   "outputs": [],
   "source": [
    "comprimentos = [len(x) for x in df_selected.SMILES.values]"
   ]
  },
  {
   "cell_type": "code",
   "execution_count": 12,
   "metadata": {},
   "outputs": [
    {
     "data": {
      "text/plain": [
       "394"
      ]
     },
     "execution_count": 12,
     "metadata": {},
     "output_type": "execute_result"
    }
   ],
   "source": [
    "maior_smile = np.max(comprimentos)\n",
    "maior_smile"
   ]
  },
  {
   "cell_type": "code",
   "execution_count": 13,
   "metadata": {},
   "outputs": [
    {
     "name": "stderr",
     "output_type": "stream",
     "text": [
      "2022-06-03 15:13:09.927405: W tensorflow/stream_executor/platform/default/dso_loader.cc:64] Could not load dynamic library 'libcudart.so.11.0'; dlerror: libcudart.so.11.0: cannot open shared object file: No such file or directory\n",
      "2022-06-03 15:13:09.927439: I tensorflow/stream_executor/cuda/cudart_stub.cc:29] Ignore above cudart dlerror if you do not have a GPU set up on your machine.\n"
     ]
    }
   ],
   "source": [
    "from tensorflow.keras.preprocessing.sequence import pad_sequences\n",
    "\n",
    "smiles = list(df_selected.SMILES.values)\n",
    "\n",
    "table = ['se','Fe','As','Cl', 'Br', 'Na', 'Li', 'Ca', 'Al', 'Ag', 'Se', 'Mg', 'Zn', 'H', 'B', 'C', 'N', 'O', 'P', 'S', 'F', 'I', 'K', '(', ')', '[', ']', '=', '#', '@', '*', '%', '0', '1', '2', '3', '4', '5', '6', '7', '8', '9', '.', '/', '\\\\', '+', '-', 'c', 'n', 'o', 's', 'p']\n"
   ]
  },
  {
   "cell_type": "code",
   "execution_count": 59,
   "metadata": {},
   "outputs": [
    {
     "data": {
      "text/plain": [
       "4676"
      ]
     },
     "execution_count": 59,
     "metadata": {},
     "output_type": "execute_result"
    }
   ],
   "source": [
    "len(smiles)"
   ]
  },
  {
   "cell_type": "code",
   "execution_count": 48,
   "metadata": {},
   "outputs": [
    {
     "data": {
      "text/plain": [
       "'O=C(NC1=CC=C(C=C1)C2OCC(=O)N(C3CCOCC3)C2CO)CC(C)C'"
      ]
     },
     "execution_count": 48,
     "metadata": {},
     "output_type": "execute_result"
    }
   ],
   "source": [
    "smiles[4675]"
   ]
  },
  {
   "cell_type": "code",
   "execution_count": 14,
   "metadata": {},
   "outputs": [],
   "source": [
    "def tokenizer(smiles,table):\n",
    "    tokens_list = []\n",
    "    #index = 0\n",
    "    for smile in smiles:\n",
    "        #print(index)\n",
    "        i = 0\n",
    "        token = []\n",
    "        while i < len(smile):\n",
    "            for j in table:\n",
    "                if j == smile[i:i+len(j)]:\n",
    "                    token.append(j)\n",
    "                    i = i+len(j)\n",
    "                    break\n",
    "        while len(token) < maior_smile:\n",
    "            token.insert(0,\"A\")\n",
    "        tokens_list.append(token)\n",
    "        #index = index+1\n",
    "    return tokens_list\n",
    "\n",
    "padded_tokens = tokenizer(smiles,table)\n"
   ]
  },
  {
   "cell_type": "code",
   "execution_count": 15,
   "metadata": {},
   "outputs": [
    {
     "data": {
      "text/plain": [
       "4503"
      ]
     },
     "execution_count": 15,
     "metadata": {},
     "output_type": "execute_result"
    }
   ],
   "source": [
    "len(padded_tokens)"
   ]
  },
  {
   "cell_type": "code",
   "execution_count": 16,
   "metadata": {},
   "outputs": [
    {
     "data": {
      "text/plain": [
       "394"
      ]
     },
     "execution_count": 16,
     "metadata": {},
     "output_type": "execute_result"
    }
   ],
   "source": [
    "len(padded_tokens[0])"
   ]
  },
  {
   "cell_type": "code",
   "execution_count": 17,
   "metadata": {},
   "outputs": [],
   "source": [
    "#Usar integer encoding ao invez de one hot\n",
    "from sklearn.preprocessing import LabelEncoder\n",
    "tokens_encoder = LabelEncoder()\n",
    "table.append(\"A\")\n",
    "tokens_encoder.fit(table)\n",
    "tokens_int_encoded = np.array([tokens_encoder.transform(i) for i in padded_tokens])\n"
   ]
  },
  {
   "cell_type": "code",
   "execution_count": null,
   "metadata": {},
   "outputs": [],
   "source": [
    "tokens_int_encoded"
   ]
  },
  {
   "cell_type": "code",
   "execution_count": null,
   "metadata": {},
   "outputs": [],
   "source": [
    "tokens_int_encoded.shape"
   ]
  },
  {
   "cell_type": "markdown",
   "metadata": {},
   "source": [
    "ADIÇÕES DO TIAGO: FIM"
   ]
  },
  {
   "cell_type": "markdown",
   "metadata": {},
   "source": [
    "\n",
    "3. Holdout: train/test split\n",
    "\n",
    "Depois do processamento, seu banco de dados precisa ser dividio em traino e teste. O Holdout é o ponto de separação. Geralmente os dados são dividos em dados em 70/30. 70% para treino e 30% para teste.\n",
    "\n",
    "Agora as variáveis serão separadas pelos conjuntos criados:\n",
    "\n",
    "X_treino -> 70% dos smiles codificados\n",
    "\n",
    "X_teste -> 30% dos smiles codificados\n",
    "\n",
    "y_treino -> 70% das classes\n",
    "\n",
    "y_teste -> 30% das classes\n",
    "\n",
    "Bibliotecas sugeridas:\n",
    "\n",
    "    numpy\n",
    "    sklearn\n",
    "\n"
   ]
  },
  {
   "cell_type": "code",
   "execution_count": 18,
   "metadata": {},
   "outputs": [],
   "source": [
    "from sklearn.model_selection import train_test_split\n",
    "\n",
    "smiles_train, smiles_test, labels_train, labels_test = train_test_split(\n",
    "    tokens_int_encoded, labels, \n",
    "    test_size=0.30, random_state=42)\n"
   ]
  },
  {
   "cell_type": "markdown",
   "metadata": {},
   "source": [
    "\n",
    "4. Modelo\n",
    "\n",
    "Depois de preparar os dados, precisamos criar um variável que contem nosso modelo. Estude o tensoflow/keras, mais especificamente a função Sequential(), para criação dos modelos.\n",
    "\n",
    "Arquiteturas sugeridas:\n",
    "\n",
    "    MultiLayer Perceptron (MLP)\n",
    "    Convolutional Neural Networks (CNN)\n",
    "\n",
    "Não esqueça de adicionar as métricas precision, recall, accuracy e loss. Para essa ultima, você precisa estudar sobre as funções de perda usadas para classificação binária (0,1).\n",
    "\n",
    "Depois de construído use o método .fit() para treinar seu classificador\n"
   ]
  },
  {
   "cell_type": "code",
   "execution_count": 42,
   "metadata": {},
   "outputs": [],
   "source": [
    "import tensorflow as tf\n",
    "from tensorflow.keras.models import Sequential\n",
    "model = Sequential([\n",
    "    tf.keras.layers.Input(shape = 394,),\n",
    "    tf.keras.layers.Dense(350, activation = 'relu'),\n",
    "    tf.keras.layers.Dense(200, activation = 'relu'),\n",
    "    tf.keras.layers.Dense(100, activation = 'relu'),\n",
    "    tf.keras.layers.Dense(1, activation = 'sigmoid')\n",
    "])\n",
    "model.compile(\n",
    "    optimizer='adam',\n",
    "    loss = tf.losses.BinaryCrossentropy(),\n",
    "    metrics = [tf.metrics.BinaryAccuracy(),\n",
    "    tf.metrics.Precision(),\n",
    "    tf.metrics.Recall()]\n",
    "\n",
    ")"
   ]
  },
  {
   "cell_type": "code",
   "execution_count": null,
   "metadata": {},
   "outputs": [],
   "source": [
    "model.summary()"
   ]
  },
  {
   "cell_type": "code",
   "execution_count": 54,
   "metadata": {},
   "outputs": [
    {
     "data": {
      "text/plain": [
       "array([ 0., nan,  0., ...,  0.,  0.,  0.])"
      ]
     },
     "execution_count": 54,
     "metadata": {},
     "output_type": "execute_result"
    }
   ],
   "source": [
    "labels_test"
   ]
  },
  {
   "cell_type": "code",
   "execution_count": 43,
   "metadata": {},
   "outputs": [
    {
     "name": "stdout",
     "output_type": "stream",
     "text": [
      "Epoch 1/100\n",
      "99/99 [==============================] - 1s 4ms/step - loss: 0.9777 - binary_accuracy: 0.9442 - precision_2: 0.0882 - recall_2: 0.0978 - val_loss: 0.3759 - val_binary_accuracy: 0.9704 - val_precision_2: 0.0000e+00 - val_recall_2: 0.0000e+00\n",
      "Epoch 2/100\n",
      "99/99 [==============================] - 0s 2ms/step - loss: 0.1859 - binary_accuracy: 0.9730 - precision_2: 0.7059 - recall_2: 0.1304 - val_loss: 0.1349 - val_binary_accuracy: 0.9704 - val_precision_2: 0.0000e+00 - val_recall_2: 0.0000e+00\n",
      "Epoch 3/100\n",
      "99/99 [==============================] - 0s 2ms/step - loss: 0.1703 - binary_accuracy: 0.9714 - precision_2: 0.5263 - recall_2: 0.2174 - val_loss: 0.0547 - val_binary_accuracy: 0.9845 - val_precision_2: 0.8519 - val_recall_2: 0.5750\n",
      "Epoch 4/100\n",
      "99/99 [==============================] - 0s 2ms/step - loss: 0.0535 - binary_accuracy: 0.9845 - precision_2: 0.9057 - recall_2: 0.5217 - val_loss: 0.0449 - val_binary_accuracy: 0.9874 - val_precision_2: 0.9600 - val_recall_2: 0.6000\n",
      "Epoch 5/100\n",
      "99/99 [==============================] - 0s 2ms/step - loss: 0.0482 - binary_accuracy: 0.9860 - precision_2: 0.9138 - recall_2: 0.5761 - val_loss: 0.0666 - val_binary_accuracy: 0.9756 - val_precision_2: 1.0000 - val_recall_2: 0.1750\n",
      "Epoch 6/100\n",
      "99/99 [==============================] - 0s 2ms/step - loss: 0.0794 - binary_accuracy: 0.9829 - precision_2: 0.8276 - recall_2: 0.5217 - val_loss: 0.0413 - val_binary_accuracy: 0.9874 - val_precision_2: 0.9259 - val_recall_2: 0.6250\n",
      "Epoch 7/100\n",
      "99/99 [==============================] - 0s 2ms/step - loss: 0.1017 - binary_accuracy: 0.9800 - precision_2: 0.7302 - recall_2: 0.5000 - val_loss: 0.0542 - val_binary_accuracy: 0.9837 - val_precision_2: 1.0000 - val_recall_2: 0.4500\n",
      "Epoch 8/100\n",
      "99/99 [==============================] - 0s 2ms/step - loss: 0.0676 - binary_accuracy: 0.9826 - precision_2: 0.7681 - recall_2: 0.5761 - val_loss: 0.0523 - val_binary_accuracy: 0.9845 - val_precision_2: 1.0000 - val_recall_2: 0.4750\n",
      "Epoch 9/100\n",
      "99/99 [==============================] - 0s 2ms/step - loss: 0.0439 - binary_accuracy: 0.9873 - precision_2: 0.8824 - recall_2: 0.6522 - val_loss: 0.0412 - val_binary_accuracy: 0.9874 - val_precision_2: 0.9600 - val_recall_2: 0.6000\n",
      "Epoch 10/100\n",
      "99/99 [==============================] - 0s 2ms/step - loss: 0.0479 - binary_accuracy: 0.9864 - precision_2: 0.8451 - recall_2: 0.6522 - val_loss: 0.0395 - val_binary_accuracy: 0.9845 - val_precision_2: 0.7568 - val_recall_2: 0.7000\n",
      "Epoch 11/100\n",
      "99/99 [==============================] - 0s 2ms/step - loss: 0.0342 - binary_accuracy: 0.9908 - precision_2: 0.9315 - recall_2: 0.7391 - val_loss: 0.0533 - val_binary_accuracy: 0.9882 - val_precision_2: 1.0000 - val_recall_2: 0.6000\n",
      "Epoch 12/100\n",
      "99/99 [==============================] - 0s 2ms/step - loss: 0.0393 - binary_accuracy: 0.9889 - precision_2: 0.8701 - recall_2: 0.7283 - val_loss: 0.0428 - val_binary_accuracy: 0.9889 - val_precision_2: 1.0000 - val_recall_2: 0.6250\n",
      "Epoch 13/100\n",
      "99/99 [==============================] - 0s 2ms/step - loss: 0.0363 - binary_accuracy: 0.9902 - precision_2: 0.9067 - recall_2: 0.7391 - val_loss: 0.2467 - val_binary_accuracy: 0.9193 - val_precision_2: 0.2653 - val_recall_2: 0.9750\n",
      "Epoch 14/100\n",
      "99/99 [==============================] - 0s 2ms/step - loss: 0.0851 - binary_accuracy: 0.9819 - precision_2: 0.7612 - recall_2: 0.5543 - val_loss: 0.2928 - val_binary_accuracy: 0.9704 - val_precision_2: 0.0000e+00 - val_recall_2: 0.0000e+00\n",
      "Epoch 15/100\n",
      "99/99 [==============================] - 0s 2ms/step - loss: 0.0521 - binary_accuracy: 0.9870 - precision_2: 0.8806 - recall_2: 0.6413 - val_loss: 0.0730 - val_binary_accuracy: 0.9808 - val_precision_2: 1.0000 - val_recall_2: 0.3500\n",
      "Epoch 16/100\n",
      "99/99 [==============================] - 0s 2ms/step - loss: 0.0333 - binary_accuracy: 0.9892 - precision_2: 0.8919 - recall_2: 0.7174 - val_loss: 0.0372 - val_binary_accuracy: 0.9889 - val_precision_2: 0.9630 - val_recall_2: 0.6500\n",
      "Epoch 17/100\n",
      "99/99 [==============================] - 0s 2ms/step - loss: 0.1856 - binary_accuracy: 0.9632 - precision_2: 0.3723 - recall_2: 0.3804 - val_loss: 0.0628 - val_binary_accuracy: 0.9763 - val_precision_2: 1.0000 - val_recall_2: 0.2000\n",
      "Epoch 18/100\n",
      "99/99 [==============================] - 0s 2ms/step - loss: 0.0441 - binary_accuracy: 0.9857 - precision_2: 0.8406 - recall_2: 0.6304 - val_loss: 0.0439 - val_binary_accuracy: 0.9896 - val_precision_2: 1.0000 - val_recall_2: 0.6500\n",
      "Epoch 19/100\n",
      "99/99 [==============================] - 0s 2ms/step - loss: 0.0669 - binary_accuracy: 0.9826 - precision_2: 0.7846 - recall_2: 0.5543 - val_loss: 0.1174 - val_binary_accuracy: 0.9748 - val_precision_2: 1.0000 - val_recall_2: 0.1500\n",
      "Epoch 20/100\n",
      "99/99 [==============================] - 0s 2ms/step - loss: 0.0399 - binary_accuracy: 0.9895 - precision_2: 0.9041 - recall_2: 0.7174 - val_loss: 0.0962 - val_binary_accuracy: 0.9763 - val_precision_2: 1.0000 - val_recall_2: 0.2000\n",
      "Epoch 21/100\n",
      "99/99 [==============================] - 0s 2ms/step - loss: 0.0375 - binary_accuracy: 0.9883 - precision_2: 0.8986 - recall_2: 0.6739 - val_loss: 0.0570 - val_binary_accuracy: 0.9845 - val_precision_2: 1.0000 - val_recall_2: 0.4750\n",
      "Epoch 22/100\n",
      "99/99 [==============================] - 0s 2ms/step - loss: 0.0310 - binary_accuracy: 0.9914 - precision_2: 0.9333 - recall_2: 0.7609 - val_loss: 0.0600 - val_binary_accuracy: 0.9859 - val_precision_2: 1.0000 - val_recall_2: 0.5250\n",
      "Epoch 23/100\n",
      "99/99 [==============================] - 0s 2ms/step - loss: 0.0242 - binary_accuracy: 0.9908 - precision_2: 0.9091 - recall_2: 0.7609 - val_loss: 0.0842 - val_binary_accuracy: 0.9726 - val_precision_2: 0.5246 - val_recall_2: 0.8000\n",
      "Epoch 24/100\n",
      "99/99 [==============================] - 0s 2ms/step - loss: 0.0629 - binary_accuracy: 0.9873 - precision_2: 0.8824 - recall_2: 0.6522 - val_loss: 0.1205 - val_binary_accuracy: 0.9734 - val_precision_2: 1.0000 - val_recall_2: 0.1000\n",
      "Epoch 25/100\n",
      "99/99 [==============================] - 0s 2ms/step - loss: 0.0488 - binary_accuracy: 0.9876 - precision_2: 0.8955 - recall_2: 0.6522 - val_loss: 0.1123 - val_binary_accuracy: 0.9741 - val_precision_2: 1.0000 - val_recall_2: 0.1250\n",
      "Epoch 26/100\n",
      "99/99 [==============================] - 0s 2ms/step - loss: 0.0466 - binary_accuracy: 0.9876 - precision_2: 0.9077 - recall_2: 0.6413 - val_loss: 0.1364 - val_binary_accuracy: 0.9719 - val_precision_2: 1.0000 - val_recall_2: 0.0500\n",
      "Epoch 27/100\n",
      "99/99 [==============================] - 0s 2ms/step - loss: 0.0535 - binary_accuracy: 0.9870 - precision_2: 0.8923 - recall_2: 0.6304 - val_loss: 0.0611 - val_binary_accuracy: 0.9874 - val_precision_2: 0.8966 - val_recall_2: 0.6500\n",
      "Epoch 28/100\n",
      "99/99 [==============================] - 0s 2ms/step - loss: 0.0403 - binary_accuracy: 0.9876 - precision_2: 0.8841 - recall_2: 0.6630 - val_loss: 0.0777 - val_binary_accuracy: 0.9793 - val_precision_2: 1.0000 - val_recall_2: 0.3000\n",
      "Epoch 29/100\n",
      "99/99 [==============================] - 0s 2ms/step - loss: 0.0338 - binary_accuracy: 0.9905 - precision_2: 0.9079 - recall_2: 0.7500 - val_loss: 0.0422 - val_binary_accuracy: 0.9874 - val_precision_2: 0.8710 - val_recall_2: 0.6750\n",
      "Epoch 30/100\n",
      "99/99 [==============================] - 0s 2ms/step - loss: 0.0470 - binary_accuracy: 0.9860 - precision_2: 0.8529 - recall_2: 0.6304 - val_loss: 0.0574 - val_binary_accuracy: 0.9815 - val_precision_2: 0.6744 - val_recall_2: 0.7250\n",
      "Epoch 31/100\n",
      "99/99 [==============================] - 0s 2ms/step - loss: 0.0794 - binary_accuracy: 0.9822 - precision_2: 0.8600 - recall_2: 0.4674 - val_loss: 0.0579 - val_binary_accuracy: 0.9830 - val_precision_2: 0.7297 - val_recall_2: 0.6750\n",
      "Epoch 32/100\n",
      "99/99 [==============================] - 0s 2ms/step - loss: 0.0569 - binary_accuracy: 0.9867 - precision_2: 0.9310 - recall_2: 0.5870 - val_loss: 0.0766 - val_binary_accuracy: 0.9808 - val_precision_2: 1.0000 - val_recall_2: 0.3500\n",
      "Epoch 33/100\n",
      "99/99 [==============================] - 0s 2ms/step - loss: 0.0799 - binary_accuracy: 0.9803 - precision_2: 0.8261 - recall_2: 0.4130 - val_loss: 0.0819 - val_binary_accuracy: 0.9734 - val_precision_2: 1.0000 - val_recall_2: 0.1000\n",
      "Epoch 34/100\n",
      "99/99 [==============================] - 0s 2ms/step - loss: 0.0422 - binary_accuracy: 0.9876 - precision_2: 0.8955 - recall_2: 0.6522 - val_loss: 0.0741 - val_binary_accuracy: 0.9793 - val_precision_2: 1.0000 - val_recall_2: 0.3000\n",
      "Epoch 35/100\n",
      "99/99 [==============================] - 0s 2ms/step - loss: 0.0567 - binary_accuracy: 0.9873 - precision_2: 0.9333 - recall_2: 0.6087 - val_loss: 0.1297 - val_binary_accuracy: 0.9704 - val_precision_2: 0.0000e+00 - val_recall_2: 0.0000e+00\n",
      "Epoch 36/100\n",
      "99/99 [==============================] - 0s 2ms/step - loss: 0.0663 - binary_accuracy: 0.9787 - precision_2: 0.9032 - recall_2: 0.3043 - val_loss: 0.0674 - val_binary_accuracy: 0.9734 - val_precision_2: 1.0000 - val_recall_2: 0.1000\n",
      "Epoch 37/100\n",
      "99/99 [==============================] - 0s 2ms/step - loss: 0.0378 - binary_accuracy: 0.9870 - precision_2: 0.9474 - recall_2: 0.5870 - val_loss: 0.0498 - val_binary_accuracy: 0.9889 - val_precision_2: 0.9630 - val_recall_2: 0.6500\n",
      "Epoch 38/100\n",
      "99/99 [==============================] - 0s 2ms/step - loss: 0.0368 - binary_accuracy: 0.9892 - precision_2: 0.9265 - recall_2: 0.6848 - val_loss: 0.0609 - val_binary_accuracy: 0.9822 - val_precision_2: 1.0000 - val_recall_2: 0.4000\n",
      "Epoch 39/100\n",
      "99/99 [==============================] - 0s 2ms/step - loss: 0.0398 - binary_accuracy: 0.9873 - precision_2: 0.9194 - recall_2: 0.6196 - val_loss: 0.0564 - val_binary_accuracy: 0.9845 - val_precision_2: 1.0000 - val_recall_2: 0.4750\n",
      "Epoch 40/100\n",
      "99/99 [==============================] - 0s 2ms/step - loss: 0.0323 - binary_accuracy: 0.9879 - precision_2: 0.9355 - recall_2: 0.6304 - val_loss: 0.0614 - val_binary_accuracy: 0.9837 - val_precision_2: 1.0000 - val_recall_2: 0.4500\n",
      "Epoch 41/100\n",
      "99/99 [==============================] - 0s 2ms/step - loss: 0.0399 - binary_accuracy: 0.9905 - precision_2: 0.9306 - recall_2: 0.7283 - val_loss: 0.0434 - val_binary_accuracy: 0.9889 - val_precision_2: 0.9630 - val_recall_2: 0.6500\n",
      "Epoch 42/100\n",
      "99/99 [==============================] - 0s 2ms/step - loss: 0.0233 - binary_accuracy: 0.9927 - precision_2: 0.9600 - recall_2: 0.7826 - val_loss: 0.0735 - val_binary_accuracy: 0.9845 - val_precision_2: 1.0000 - val_recall_2: 0.4750\n",
      "Epoch 43/100\n",
      "99/99 [==============================] - 0s 2ms/step - loss: 0.0453 - binary_accuracy: 0.9851 - precision_2: 0.8571 - recall_2: 0.5870 - val_loss: 0.0465 - val_binary_accuracy: 0.9867 - val_precision_2: 0.9231 - val_recall_2: 0.6000\n",
      "Epoch 44/100\n",
      "99/99 [==============================] - 0s 2ms/step - loss: 0.0324 - binary_accuracy: 0.9898 - precision_2: 0.9054 - recall_2: 0.7283 - val_loss: 0.0863 - val_binary_accuracy: 0.9785 - val_precision_2: 1.0000 - val_recall_2: 0.2750\n",
      "Epoch 45/100\n",
      "99/99 [==============================] - 0s 2ms/step - loss: 0.0484 - binary_accuracy: 0.9898 - precision_2: 0.9545 - recall_2: 0.6848 - val_loss: 0.0423 - val_binary_accuracy: 0.9882 - val_precision_2: 0.9286 - val_recall_2: 0.6500\n",
      "Epoch 46/100\n",
      "99/99 [==============================] - 0s 2ms/step - loss: 0.0236 - binary_accuracy: 0.9933 - precision_2: 0.9610 - recall_2: 0.8043 - val_loss: 0.0549 - val_binary_accuracy: 0.9808 - val_precision_2: 0.6591 - val_recall_2: 0.7250\n",
      "Epoch 47/100\n",
      "99/99 [==============================] - 0s 2ms/step - loss: 0.0290 - binary_accuracy: 0.9918 - precision_2: 0.9231 - recall_2: 0.7826 - val_loss: 0.0574 - val_binary_accuracy: 0.9867 - val_precision_2: 1.0000 - val_recall_2: 0.5500\n",
      "Epoch 48/100\n",
      "99/99 [==============================] - 0s 2ms/step - loss: 0.0476 - binary_accuracy: 0.9895 - precision_2: 0.9403 - recall_2: 0.6848 - val_loss: 0.0443 - val_binary_accuracy: 0.9874 - val_precision_2: 0.8966 - val_recall_2: 0.6500\n",
      "Epoch 49/100\n",
      "99/99 [==============================] - 0s 2ms/step - loss: 0.0288 - binary_accuracy: 0.9921 - precision_2: 0.9467 - recall_2: 0.7717 - val_loss: 0.0634 - val_binary_accuracy: 0.9859 - val_precision_2: 1.0000 - val_recall_2: 0.5250\n",
      "Epoch 50/100\n",
      "99/99 [==============================] - 0s 2ms/step - loss: 0.0283 - binary_accuracy: 0.9921 - precision_2: 0.9467 - recall_2: 0.7717 - val_loss: 0.0461 - val_binary_accuracy: 0.9874 - val_precision_2: 0.9600 - val_recall_2: 0.6000\n",
      "Epoch 51/100\n",
      "99/99 [==============================] - 0s 2ms/step - loss: 0.0467 - binary_accuracy: 0.9864 - precision_2: 0.8657 - recall_2: 0.6304 - val_loss: 0.0488 - val_binary_accuracy: 0.9867 - val_precision_2: 1.0000 - val_recall_2: 0.5500\n",
      "Epoch 52/100\n",
      "99/99 [==============================] - 0s 2ms/step - loss: 0.0299 - binary_accuracy: 0.9902 - precision_2: 0.8765 - recall_2: 0.7717 - val_loss: 0.0496 - val_binary_accuracy: 0.9830 - val_precision_2: 0.7073 - val_recall_2: 0.7250\n",
      "Epoch 53/100\n",
      "99/99 [==============================] - 0s 2ms/step - loss: 0.0447 - binary_accuracy: 0.9883 - precision_2: 0.8873 - recall_2: 0.6848 - val_loss: 0.0448 - val_binary_accuracy: 0.9874 - val_precision_2: 0.9600 - val_recall_2: 0.6000\n",
      "Epoch 54/100\n",
      "99/99 [==============================] - 0s 2ms/step - loss: 0.0233 - binary_accuracy: 0.9927 - precision_2: 0.9481 - recall_2: 0.7935 - val_loss: 0.0484 - val_binary_accuracy: 0.9837 - val_precision_2: 0.7250 - val_recall_2: 0.7250\n",
      "Epoch 55/100\n",
      "99/99 [==============================] - 0s 2ms/step - loss: 0.0231 - binary_accuracy: 0.9927 - precision_2: 0.9367 - recall_2: 0.8043 - val_loss: 0.0456 - val_binary_accuracy: 0.9882 - val_precision_2: 0.9000 - val_recall_2: 0.6750\n",
      "Epoch 56/100\n",
      "99/99 [==============================] - 0s 2ms/step - loss: 0.0279 - binary_accuracy: 0.9908 - precision_2: 0.8795 - recall_2: 0.7935 - val_loss: 0.0701 - val_binary_accuracy: 0.9815 - val_precision_2: 1.0000 - val_recall_2: 0.3750\n",
      "Epoch 57/100\n",
      "99/99 [==============================] - 0s 2ms/step - loss: 0.0456 - binary_accuracy: 0.9883 - precision_2: 0.9104 - recall_2: 0.6630 - val_loss: 0.1092 - val_binary_accuracy: 0.9756 - val_precision_2: 1.0000 - val_recall_2: 0.1750\n",
      "Epoch 58/100\n",
      "99/99 [==============================] - 0s 2ms/step - loss: 0.0326 - binary_accuracy: 0.9908 - precision_2: 0.9701 - recall_2: 0.7065 - val_loss: 0.0478 - val_binary_accuracy: 0.9845 - val_precision_2: 0.7436 - val_recall_2: 0.7250\n",
      "Epoch 59/100\n",
      "99/99 [==============================] - 0s 2ms/step - loss: 0.0385 - binary_accuracy: 0.9892 - precision_2: 0.9028 - recall_2: 0.7065 - val_loss: 0.0427 - val_binary_accuracy: 0.9874 - val_precision_2: 0.9600 - val_recall_2: 0.6000\n",
      "Epoch 60/100\n",
      "99/99 [==============================] - 0s 2ms/step - loss: 0.0308 - binary_accuracy: 0.9908 - precision_2: 0.9437 - recall_2: 0.7283 - val_loss: 0.0567 - val_binary_accuracy: 0.9859 - val_precision_2: 1.0000 - val_recall_2: 0.5250\n",
      "Epoch 61/100\n",
      "99/99 [==============================] - 0s 2ms/step - loss: 0.0202 - binary_accuracy: 0.9940 - precision_2: 0.9620 - recall_2: 0.8261 - val_loss: 0.0473 - val_binary_accuracy: 0.9882 - val_precision_2: 0.9615 - val_recall_2: 0.6250\n",
      "Epoch 62/100\n",
      "99/99 [==============================] - 0s 2ms/step - loss: 0.0304 - binary_accuracy: 0.9918 - precision_2: 0.9459 - recall_2: 0.7609 - val_loss: 0.0451 - val_binary_accuracy: 0.9852 - val_precision_2: 0.7632 - val_recall_2: 0.7250\n",
      "Epoch 63/100\n",
      "99/99 [==============================] - 0s 2ms/step - loss: 0.0190 - binary_accuracy: 0.9943 - precision_2: 0.9744 - recall_2: 0.8261 - val_loss: 0.0797 - val_binary_accuracy: 0.9756 - val_precision_2: 0.5614 - val_recall_2: 0.8000\n",
      "Epoch 64/100\n",
      "99/99 [==============================] - 0s 2ms/step - loss: 0.0339 - binary_accuracy: 0.9908 - precision_2: 0.9315 - recall_2: 0.7391 - val_loss: 0.0528 - val_binary_accuracy: 0.9882 - val_precision_2: 1.0000 - val_recall_2: 0.6000\n",
      "Epoch 65/100\n",
      "99/99 [==============================] - 0s 2ms/step - loss: 0.0193 - binary_accuracy: 0.9946 - precision_2: 0.9518 - recall_2: 0.8587 - val_loss: 0.0619 - val_binary_accuracy: 0.9785 - val_precision_2: 0.6122 - val_recall_2: 0.7500\n",
      "Epoch 66/100\n",
      "99/99 [==============================] - 0s 2ms/step - loss: 0.0208 - binary_accuracy: 0.9940 - precision_2: 0.9506 - recall_2: 0.8370 - val_loss: 0.0546 - val_binary_accuracy: 0.9874 - val_precision_2: 0.9600 - val_recall_2: 0.6000\n",
      "Epoch 67/100\n",
      "99/99 [==============================] - 0s 2ms/step - loss: 0.0164 - binary_accuracy: 0.9956 - precision_2: 0.9756 - recall_2: 0.8696 - val_loss: 0.0463 - val_binary_accuracy: 0.9882 - val_precision_2: 0.9000 - val_recall_2: 0.6750\n",
      "Epoch 68/100\n",
      "99/99 [==============================] - 0s 2ms/step - loss: 0.0171 - binary_accuracy: 0.9956 - precision_2: 0.9643 - recall_2: 0.8804 - val_loss: 0.0605 - val_binary_accuracy: 0.9815 - val_precision_2: 0.6667 - val_recall_2: 0.7500\n",
      "Epoch 69/100\n",
      "99/99 [==============================] - 0s 2ms/step - loss: 0.0321 - binary_accuracy: 0.9908 - precision_2: 0.9315 - recall_2: 0.7391 - val_loss: 0.0695 - val_binary_accuracy: 0.9845 - val_precision_2: 1.0000 - val_recall_2: 0.4750\n",
      "Epoch 70/100\n",
      "99/99 [==============================] - 0s 2ms/step - loss: 0.0210 - binary_accuracy: 0.9940 - precision_2: 0.9740 - recall_2: 0.8152 - val_loss: 0.0442 - val_binary_accuracy: 0.9889 - val_precision_2: 0.9310 - val_recall_2: 0.6750\n",
      "Epoch 71/100\n",
      "99/99 [==============================] - 0s 2ms/step - loss: 0.0251 - binary_accuracy: 0.9933 - precision_2: 0.9383 - recall_2: 0.8261 - val_loss: 0.0459 - val_binary_accuracy: 0.9867 - val_precision_2: 0.8056 - val_recall_2: 0.7250\n",
      "Epoch 72/100\n",
      "99/99 [==============================] - 0s 2ms/step - loss: 0.0252 - binary_accuracy: 0.9937 - precision_2: 0.9615 - recall_2: 0.8152 - val_loss: 0.0514 - val_binary_accuracy: 0.9889 - val_precision_2: 0.9630 - val_recall_2: 0.6500\n",
      "Epoch 73/100\n",
      "99/99 [==============================] - 0s 2ms/step - loss: 0.0156 - binary_accuracy: 0.9959 - precision_2: 0.9647 - recall_2: 0.8913 - val_loss: 0.0520 - val_binary_accuracy: 0.9852 - val_precision_2: 0.7500 - val_recall_2: 0.7500\n",
      "Epoch 74/100\n",
      "99/99 [==============================] - 0s 2ms/step - loss: 0.0238 - binary_accuracy: 0.9937 - precision_2: 0.9186 - recall_2: 0.8587 - val_loss: 0.0459 - val_binary_accuracy: 0.9896 - val_precision_2: 0.9643 - val_recall_2: 0.6750\n",
      "Epoch 75/100\n",
      "99/99 [==============================] - 0s 2ms/step - loss: 0.0166 - binary_accuracy: 0.9962 - precision_2: 0.9762 - recall_2: 0.8913 - val_loss: 0.0472 - val_binary_accuracy: 0.9874 - val_precision_2: 0.8710 - val_recall_2: 0.6750\n",
      "Epoch 76/100\n",
      "99/99 [==============================] - 0s 2ms/step - loss: 0.0527 - binary_accuracy: 0.9867 - precision_2: 0.8788 - recall_2: 0.6304 - val_loss: 0.0535 - val_binary_accuracy: 0.9889 - val_precision_2: 0.9630 - val_recall_2: 0.6500\n",
      "Epoch 77/100\n",
      "99/99 [==============================] - 0s 2ms/step - loss: 0.0219 - binary_accuracy: 0.9940 - precision_2: 0.9620 - recall_2: 0.8261 - val_loss: 0.0475 - val_binary_accuracy: 0.9889 - val_precision_2: 0.9630 - val_recall_2: 0.6500\n",
      "Epoch 78/100\n",
      "99/99 [==============================] - 0s 2ms/step - loss: 0.0299 - binary_accuracy: 0.9911 - precision_2: 0.9571 - recall_2: 0.7283 - val_loss: 0.0458 - val_binary_accuracy: 0.9889 - val_precision_2: 0.9630 - val_recall_2: 0.6500\n",
      "Epoch 79/100\n",
      "99/99 [==============================] - 0s 2ms/step - loss: 0.0191 - binary_accuracy: 0.9943 - precision_2: 0.9405 - recall_2: 0.8587 - val_loss: 0.0539 - val_binary_accuracy: 0.9874 - val_precision_2: 1.0000 - val_recall_2: 0.5750\n",
      "Epoch 80/100\n",
      "99/99 [==============================] - 0s 2ms/step - loss: 0.0168 - binary_accuracy: 0.9952 - precision_2: 0.9639 - recall_2: 0.8696 - val_loss: 0.0465 - val_binary_accuracy: 0.9882 - val_precision_2: 0.8333 - val_recall_2: 0.7500\n",
      "Epoch 81/100\n",
      "99/99 [==============================] - 0s 2ms/step - loss: 0.0213 - binary_accuracy: 0.9949 - precision_2: 0.9750 - recall_2: 0.8478 - val_loss: 0.0458 - val_binary_accuracy: 0.9882 - val_precision_2: 0.9000 - val_recall_2: 0.6750\n",
      "Epoch 82/100\n",
      "99/99 [==============================] - 0s 2ms/step - loss: 0.0315 - binary_accuracy: 0.9908 - precision_2: 0.9200 - recall_2: 0.7500 - val_loss: 0.0455 - val_binary_accuracy: 0.9867 - val_precision_2: 1.0000 - val_recall_2: 0.5500\n",
      "Epoch 83/100\n",
      "99/99 [==============================] - 0s 2ms/step - loss: 0.0162 - binary_accuracy: 0.9962 - precision_2: 0.9878 - recall_2: 0.8804 - val_loss: 0.0487 - val_binary_accuracy: 0.9889 - val_precision_2: 0.9630 - val_recall_2: 0.6500\n",
      "Epoch 84/100\n",
      "99/99 [==============================] - 0s 2ms/step - loss: 0.0178 - binary_accuracy: 0.9949 - precision_2: 0.9419 - recall_2: 0.8804 - val_loss: 0.0474 - val_binary_accuracy: 0.9896 - val_precision_2: 0.9643 - val_recall_2: 0.6750\n",
      "Epoch 85/100\n",
      "99/99 [==============================] - 0s 2ms/step - loss: 0.0153 - binary_accuracy: 0.9956 - precision_2: 0.9643 - recall_2: 0.8804 - val_loss: 0.0566 - val_binary_accuracy: 0.9837 - val_precision_2: 0.7143 - val_recall_2: 0.7500\n",
      "Epoch 86/100\n",
      "99/99 [==============================] - 0s 2ms/step - loss: 0.0264 - binary_accuracy: 0.9924 - precision_2: 0.9250 - recall_2: 0.8043 - val_loss: 0.0417 - val_binary_accuracy: 0.9889 - val_precision_2: 0.9310 - val_recall_2: 0.6750\n",
      "Epoch 87/100\n",
      "99/99 [==============================] - 0s 2ms/step - loss: 0.0194 - binary_accuracy: 0.9946 - precision_2: 0.9412 - recall_2: 0.8696 - val_loss: 0.0454 - val_binary_accuracy: 0.9889 - val_precision_2: 0.8571 - val_recall_2: 0.7500\n",
      "Epoch 88/100\n",
      "99/99 [==============================] - 0s 2ms/step - loss: 0.0262 - binary_accuracy: 0.9921 - precision_2: 0.9241 - recall_2: 0.7935 - val_loss: 0.0537 - val_binary_accuracy: 0.9837 - val_precision_2: 0.7143 - val_recall_2: 0.7500\n",
      "Epoch 89/100\n",
      "99/99 [==============================] - 0s 2ms/step - loss: 0.0243 - binary_accuracy: 0.9930 - precision_2: 0.9375 - recall_2: 0.8152 - val_loss: 0.0550 - val_binary_accuracy: 0.9867 - val_precision_2: 1.0000 - val_recall_2: 0.5500\n",
      "Epoch 90/100\n",
      "99/99 [==============================] - 0s 2ms/step - loss: 0.0200 - binary_accuracy: 0.9956 - precision_2: 0.9875 - recall_2: 0.8587 - val_loss: 0.2027 - val_binary_accuracy: 0.9519 - val_precision_2: 0.3711 - val_recall_2: 0.9000\n",
      "Epoch 91/100\n",
      "99/99 [==============================] - 0s 2ms/step - loss: 0.0520 - binary_accuracy: 0.9860 - precision_2: 0.8750 - recall_2: 0.6087 - val_loss: 0.0423 - val_binary_accuracy: 0.9889 - val_precision_2: 0.9032 - val_recall_2: 0.7000\n",
      "Epoch 92/100\n",
      "99/99 [==============================] - 0s 2ms/step - loss: 0.0203 - binary_accuracy: 0.9949 - precision_2: 0.9634 - recall_2: 0.8587 - val_loss: 0.0688 - val_binary_accuracy: 0.9793 - val_precision_2: 0.6250 - val_recall_2: 0.7500\n",
      "Epoch 93/100\n",
      "99/99 [==============================] - 0s 2ms/step - loss: 0.0196 - binary_accuracy: 0.9949 - precision_2: 0.9750 - recall_2: 0.8478 - val_loss: 0.0453 - val_binary_accuracy: 0.9889 - val_precision_2: 0.8571 - val_recall_2: 0.7500\n",
      "Epoch 94/100\n",
      "99/99 [==============================] - 0s 2ms/step - loss: 0.0196 - binary_accuracy: 0.9949 - precision_2: 0.9634 - recall_2: 0.8587 - val_loss: 0.0430 - val_binary_accuracy: 0.9874 - val_precision_2: 0.8485 - val_recall_2: 0.7000\n",
      "Epoch 95/100\n",
      "99/99 [==============================] - 0s 2ms/step - loss: 0.0191 - binary_accuracy: 0.9933 - precision_2: 0.9494 - recall_2: 0.8152 - val_loss: 0.0475 - val_binary_accuracy: 0.9874 - val_precision_2: 0.8108 - val_recall_2: 0.7500\n",
      "Epoch 96/100\n",
      "99/99 [==============================] - 0s 2ms/step - loss: 0.0203 - binary_accuracy: 0.9933 - precision_2: 0.9277 - recall_2: 0.8370 - val_loss: 0.0476 - val_binary_accuracy: 0.9867 - val_precision_2: 0.7895 - val_recall_2: 0.7500\n",
      "Epoch 97/100\n",
      "99/99 [==============================] - 0s 2ms/step - loss: 0.0150 - binary_accuracy: 0.9971 - precision_2: 1.0000 - recall_2: 0.9022 - val_loss: 0.0468 - val_binary_accuracy: 0.9896 - val_precision_2: 0.9333 - val_recall_2: 0.7000\n",
      "Epoch 98/100\n",
      "99/99 [==============================] - 0s 2ms/step - loss: 0.0168 - binary_accuracy: 0.9956 - precision_2: 0.9756 - recall_2: 0.8696 - val_loss: 0.0686 - val_binary_accuracy: 0.9822 - val_precision_2: 0.6818 - val_recall_2: 0.7500\n",
      "Epoch 99/100\n",
      "99/99 [==============================] - 0s 2ms/step - loss: 0.0293 - binary_accuracy: 0.9911 - precision_2: 0.9000 - recall_2: 0.7826 - val_loss: 0.0483 - val_binary_accuracy: 0.9859 - val_precision_2: 0.7692 - val_recall_2: 0.7500\n",
      "Epoch 100/100\n",
      "99/99 [==============================] - 0s 2ms/step - loss: 0.0148 - binary_accuracy: 0.9959 - precision_2: 0.9759 - recall_2: 0.8804 - val_loss: 0.0490 - val_binary_accuracy: 0.9882 - val_precision_2: 0.8333 - val_recall_2: 0.7500\n"
     ]
    }
   ],
   "source": [
    "MLP = model.fit(smiles_train,labels_train, epochs=100, verbose =1,validation_data=(smiles_test,labels_test))"
   ]
  },
  {
   "cell_type": "code",
   "execution_count": 44,
   "metadata": {},
   "outputs": [
    {
     "data": {
      "text/plain": [
       "<matplotlib.legend.Legend at 0x7fd97c0ddd10>"
      ]
     },
     "execution_count": 44,
     "metadata": {},
     "output_type": "execute_result"
    },
    {
     "data": {
      "image/png": "[encoded data removed]",
      "text/plain": [
       "<Figure size 720x720 with 1 Axes>"
      ]
     },
     "metadata": {
      "needs_background": "light"
     },
     "output_type": "display_data"
    }
   ],
   "source": [
    "import matplotlib.pyplot as plt\n",
    "plt.figure(figsize=(10,10))\n",
    "plt.plot(MLP.history['loss'],label = 'train')\n",
    "plt.plot(MLP.history['val_loss'],label = 'test')\n",
    "plt.legend()\n"
   ]
  },
  {
   "cell_type": "code",
   "execution_count": 45,
   "metadata": {},
   "outputs": [],
   "source": [
    "predictions = np.round(model.predict(smiles_test))"
   ]
  },
  {
   "cell_type": "code",
   "execution_count": 46,
   "metadata": {},
   "outputs": [],
   "source": [
    "from sklearn.metrics import confusion_matrix\n",
    "cm = confusion_matrix(labels_test, predictions)"
   ]
  },
  {
   "cell_type": "code",
   "execution_count": 24,
   "metadata": {},
   "outputs": [],
   "source": [
    "import seaborn as sns\n"
   ]
  },
  {
   "cell_type": "code",
   "execution_count": 47,
   "metadata": {},
   "outputs": [
    {
     "data": {
      "text/plain": [
       "Text(0.5, 15.0, 'PREDICTED')"
      ]
     },
     "execution_count": 47,
     "metadata": {},
     "output_type": "execute_result"
    },
    {
     "data": {
      "image/png": "[encoded data removed]",
      "text/plain": [
       "<Figure size 432x288 with 2 Axes>"
      ]
     },
     "metadata": {
      "needs_background": "light"
     },
     "output_type": "display_data"
    }
   ],
   "source": [
    "sns.heatmap(cm, annot=True,cmap='coolwarm')\n",
    "plt.ylabel(\"TRUE\")\n",
    "plt.xlabel(\"PREDICTED\")"
   ]
  },
  {
   "cell_type": "code",
   "execution_count": 48,
   "metadata": {},
   "outputs": [],
   "source": [
    "tn, fp, fn, tp = confusion_matrix(labels_test, predictions).ravel()"
   ]
  },
  {
   "cell_type": "code",
   "execution_count": 49,
   "metadata": {},
   "outputs": [
    {
     "data": {
      "text/plain": [
       "(1305, 6, 10, 30)"
      ]
     },
     "execution_count": 49,
     "metadata": {},
     "output_type": "execute_result"
    }
   ],
   "source": [
    "tn, fp, fn, tp "
   ]
  },
  {
   "cell_type": "code",
   "execution_count": 50,
   "metadata": {},
   "outputs": [
    {
     "data": {
      "text/plain": [
       "0.9881569207994079"
      ]
     },
     "execution_count": 50,
     "metadata": {},
     "output_type": "execute_result"
    }
   ],
   "source": [
    "#acurácia\n",
    "(tp+tn)/(tp+tn+fp+fn)"
   ]
  },
  {
   "cell_type": "code",
   "execution_count": 51,
   "metadata": {},
   "outputs": [
    {
     "data": {
      "text/plain": [
       "0.75"
      ]
     },
     "execution_count": 51,
     "metadata": {},
     "output_type": "execute_result"
    }
   ],
   "source": [
    "#acerta o que é antibiótico\n",
    "(tp)/(tp+fn)"
   ]
  },
  {
   "cell_type": "code",
   "execution_count": 52,
   "metadata": {},
   "outputs": [
    {
     "data": {
      "text/plain": [
       "0.9954233409610984"
      ]
     },
     "execution_count": 52,
     "metadata": {},
     "output_type": "execute_result"
    }
   ],
   "source": [
    "#acerta o que não é antibiótico\n",
    "(tn)/(tn+fp)"
   ]
  }
 ],
 "metadata": {
  "interpreter": {
   "hash": "3218d1e1345bf85c44ac3e3bdb7899973b22b8c207b0aa6281a3c4896a58620c"
  },
  "kernelspec": {
   "display_name": "Python 3.7.11 ('diversedrl')",
   "language": "python",
   "name": "python3"
  },
  "language_info": {
   "codemirror_mode": {
    "name": "ipython",
    "version": 3
   },
   "file_extension": ".py",
   "mimetype": "text/x-python",
   "name": "python",
   "nbconvert_exporter": "python",
   "pygments_lexer": "ipython3",
   "version": "3.7.11"
  },
  "orig_nbformat": 4
 },
 "nbformat": 4,
 "nbformat_minor": 2
}
