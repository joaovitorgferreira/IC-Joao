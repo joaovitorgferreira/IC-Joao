{
 "cells": [
  {
   "cell_type": "markdown",
   "metadata": {},
   "source": [
    "\n",
    "Classificador\n",
    "1. Importar dados\n",
    "\n",
    "Para criar um classificador formatar os dados da sequinte maneira:\n",
    "\n",
    "moleculas -> uma lista/array com todos os smiles do seu banco de dados\n",
    "\n",
    "classes -> uma lista/array de zeros e uns representando antibiótico e não antibiótico, respectivamente\n",
    "\n",
    "O classificador vai identificar traços das moleculas e associá-los às classes, então cada molécula deverá ter o mesmo índice que sua classe.\n",
    "\n",
    "bibliotecas sugeridas:\n",
    "\n",
    "    pandas\n",
    "    numpy\n",
    "\n"
   ]
  },
  {
   "cell_type": "code",
   "execution_count": 4,
   "metadata": {},
   "outputs": [],
   "source": [
    "import pandas as pd\n",
    "import numpy as np\n",
    "import sklearn as sk\n",
    "\n",
    "#Importar dados\n",
    "df = pd.read_csv('/home/joao/documentos/IC-Joao/classificador/final_data_classifier.csv',index_col=False)\n",
    "\n",
    "#Definir a coluna das classes\n",
    "labels = np.asarray(df.Classe) #1 para antibiótico, 0 para não antibiótico\n",
    "\n",
    "#Selecionar SMILES sem as classes\n",
    "df_selected = df.drop([\"Classe\",\"Name\",\"InChIKey\",\"Index\"], axis=1)\n",
    "\n",
    "#Codificar classes (não é mais necessário)\n",
    "#from sklearn.preprocessing import LabelEncoder\n",
    "#le = LabelEncoder()\n",
    "#le.fit(labels)\n",
    "\n",
    "#labels = le.transform(labels)"
   ]
  },
  {
   "cell_type": "markdown",
   "metadata": {},
   "source": [
    "\n",
    "2. Processamento dos dados\n",
    "2.1 Encoding/padding\n",
    "\n",
    "Nessa etapa acontece a codificação das moleculas. Pode ser tokens, one hot vector, integer vector. Você decide.\n",
    "\n",
    "É importante que ao final do processamento todos os tokens tenham o mesmo comprimento, então um processo chamado padding precisa ser aplicado.\n",
    "\n",
    "Por convenção as variáveis em machine learning assumem esses nomes:\n",
    "\n",
    "X -> uma lista/array com todos os smiles codificados\n",
    "\n",
    "y -> uma lista/array de zeros e uns representando antibiótico e não antibiótico, respectivamente\n",
    "\n",
    "Bibliotecas sugeridas:\n",
    "\n",
    "    numpy\n",
    "    sklearn\n",
    "\n"
   ]
  },
  {
   "cell_type": "markdown",
   "metadata": {},
   "source": [
    "ADIÇÕES DO TIAGO: INICIO"
   ]
  },
  {
   "cell_type": "code",
   "execution_count": 5,
   "metadata": {},
   "outputs": [],
   "source": [
    "comprimentos = [len(x) for x in df_selected.SMILES.values]\n"
   ]
  },
  {
   "cell_type": "code",
   "execution_count": 6,
   "metadata": {},
   "outputs": [
    {
     "data": {
      "text/plain": [
       "425"
      ]
     },
     "execution_count": 6,
     "metadata": {},
     "output_type": "execute_result"
    }
   ],
   "source": [
    "maior_smile = np.max(comprimentos)\n",
    "maior_smile"
   ]
  },
  {
   "cell_type": "code",
   "execution_count": 7,
   "metadata": {},
   "outputs": [],
   "source": [
    "from tensorflow.keras.preprocessing.sequence import pad_sequences\n",
    "\n",
    "smiles = list(df_selected.SMILES.values)\n",
    "\n",
    "table = ['As','Cl', 'Br', 'Na', 'Li', 'Ca', 'Al', 'Ag', 'Se', 'Mg', 'Zn', 'H', 'B', 'C', 'N', 'O', 'P', 'S', 'F', 'I', 'K', '(', ')', '[', ']', '=', '#', '@', '*', '%', '0', '1', '2', '3', '4', '5', '6', '7', '8', '9', '.', '/', '\\\\', '+', '-', 'c', 'n', 'o', 's', 'p']\n"
   ]
  },
  {
   "cell_type": "code",
   "execution_count": 8,
   "metadata": {},
   "outputs": [
    {
     "data": {
      "text/plain": [
       "4853"
      ]
     },
     "execution_count": 8,
     "metadata": {},
     "output_type": "execute_result"
    }
   ],
   "source": [
    "len(smiles)"
   ]
  },
  {
   "cell_type": "code",
   "execution_count": 9,
   "metadata": {},
   "outputs": [],
   "source": [
    "def tokenizer(smiles,table):\n",
    "    tokens_list = []\n",
    "    #index = 0\n",
    "    for smile in smiles:\n",
    "        #print(index)\n",
    "        i = 0\n",
    "        token = []\n",
    "        while i < len(smile):\n",
    "            for j in table:\n",
    "                if j == smile[i:i+len(j)]:\n",
    "                    token.append(j)\n",
    "                    i = i+len(j)\n",
    "                    break\n",
    "        while len(token) < maior_smile:\n",
    "            token.insert(0,\"A\")\n",
    "        tokens_list.append(token)\n",
    "        #index = index+1\n",
    "    return tokens_list\n",
    "\n",
    "padded_tokens = tokenizer(smiles,table)\n"
   ]
  },
  {
   "cell_type": "code",
   "execution_count": 10,
   "metadata": {},
   "outputs": [
    {
     "data": {
      "text/plain": [
       "4853"
      ]
     },
     "execution_count": 10,
     "metadata": {},
     "output_type": "execute_result"
    }
   ],
   "source": [
    "len(padded_tokens)"
   ]
  },
  {
   "cell_type": "code",
   "execution_count": 11,
   "metadata": {},
   "outputs": [
    {
     "data": {
      "text/plain": [
       "425"
      ]
     },
     "execution_count": 11,
     "metadata": {},
     "output_type": "execute_result"
    }
   ],
   "source": [
    "len(padded_tokens[0])"
   ]
  },
  {
   "cell_type": "code",
   "execution_count": 12,
   "metadata": {},
   "outputs": [],
   "source": [
    "#Usar integer encoding ao invez de one hot\n",
    "from sklearn.preprocessing import LabelEncoder\n",
    "tokens_encoder = LabelEncoder()\n",
    "table.append(\"A\")\n",
    "tokens_encoder.fit(table)\n",
    "tokens_int_encoded = np.array([tokens_encoder.transform(i) for i in padded_tokens])\n"
   ]
  },
  {
   "cell_type": "code",
   "execution_count": 13,
   "metadata": {},
   "outputs": [
    {
     "data": {
      "text/plain": [
       "array([[21, 21, 21, ...,  3, 19, 38],\n",
       "       [21, 21, 21, ..., 45, 10, 11],\n",
       "       [21, 21, 21, ..., 27, 36, 10],\n",
       "       ...,\n",
       "       [21, 21, 21, ...,  3, 27, 27],\n",
       "       [21, 21, 21, ..., 27,  3, 27],\n",
       "       [21, 21, 21, ..., 27,  3, 27]])"
      ]
     },
     "execution_count": 13,
     "metadata": {},
     "output_type": "execute_result"
    }
   ],
   "source": [
    "tokens_int_encoded"
   ]
  },
  {
   "cell_type": "code",
   "execution_count": 14,
   "metadata": {},
   "outputs": [
    {
     "data": {
      "text/plain": [
       "(4853, 425)"
      ]
     },
     "execution_count": 14,
     "metadata": {},
     "output_type": "execute_result"
    }
   ],
   "source": [
    "tokens_int_encoded.shape"
   ]
  },
  {
   "cell_type": "markdown",
   "metadata": {},
   "source": [
    "ADIÇÕES DO TIAGO: FIM"
   ]
  },
  {
   "cell_type": "markdown",
   "metadata": {},
   "source": [
    "\n",
    "3. Holdout: train/test split\n",
    "\n",
    "Depois do processamento, seu banco de dados precisa ser dividio em traino e teste. O Holdout é o ponto de separação. Geralmente os dados são dividos em dados em 70/30. 70% para treino e 30% para teste.\n",
    "\n",
    "Agora as variáveis serão separadas pelos conjuntos criados:\n",
    "\n",
    "X_treino -> 70% dos smiles codificados\n",
    "\n",
    "X_teste -> 30% dos smiles codificados\n",
    "\n",
    "y_treino -> 70% das classes\n",
    "\n",
    "y_teste -> 30% das classes\n",
    "\n",
    "Bibliotecas sugeridas:\n",
    "\n",
    "    numpy\n",
    "    sklearn\n",
    "\n"
   ]
  },
  {
   "cell_type": "code",
   "execution_count": 184,
   "metadata": {},
   "outputs": [],
   "source": [
    "from sklearn.model_selection import train_test_split\n",
    "\n",
    "smiles_train, smiles_test, labels_train, labels_test = train_test_split(\n",
    "    tokens_int_encoded, labels, \n",
    "    test_size=0.30, random_state=42)\n"
   ]
  },
  {
   "cell_type": "markdown",
   "metadata": {},
   "source": [
    "\n",
    "4. Modelo\n",
    "\n",
    "Depois de preparar os dados, precisamos criar um variável que contem nosso modelo. Estude o tensoflow/keras, mais especificamente a função Sequential(), para criação dos modelos.\n",
    "\n",
    "Arquiteturas sugeridas:\n",
    "\n",
    "    MultiLayer Perceptron (MLP)\n",
    "    Convolutional Neural Networks (CNN)\n",
    "\n",
    "Não esqueça de adicionar as métricas precision, recall, accuracy e loss. Para essa ultima, você precisa estudar sobre as funções de perda usadas para classificação binária (0,1).\n",
    "\n",
    "Depois de construído use o método .fit() para treinar seu classificador\n"
   ]
  },
  {
   "cell_type": "code",
   "execution_count": 185,
   "metadata": {},
   "outputs": [],
   "source": [
    "import tensorflow as tf\n",
    "from tensorflow.keras.models import Sequential\n",
    "model = Sequential([\n",
    "    tf.keras.layers.Input(shape = 425,),\n",
    "    tf.keras.layers.Dense(300, activation = 'relu'),\n",
    "    tf.keras.layers.Dense(100, activation = 'relu'),\n",
    "    tf.keras.layers.Dense(1, activation = 'sigmoid')\n",
    "])\n",
    "model.compile(\n",
    "    optimizer='adam',\n",
    "    loss = tf.losses.BinaryCrossentropy(),\n",
    "    metrics = [tf.metrics.BinaryAccuracy(),\n",
    "    tf.metrics.Precision(),\n",
    "    tf.metrics.Recall()]\n",
    "\n",
    ")"
   ]
  },
  {
   "cell_type": "code",
   "execution_count": 28,
   "metadata": {},
   "outputs": [
    {
     "name": "stdout",
     "output_type": "stream",
     "text": [
      "Model: \"sequential_4\"\n",
      "_________________________________________________________________\n",
      " Layer (type)                Output Shape              Param #   \n",
      "=================================================================\n",
      " dense_3 (Dense)             (None, 425)               181050    \n",
      "                                                                 \n",
      " dense_4 (Dense)             (None, 100)               42600     \n",
      "                                                                 \n",
      " dense_5 (Dense)             (None, 1)                 101       \n",
      "                                                                 \n",
      "=================================================================\n",
      "Total params: 223,751\n",
      "Trainable params: 223,751\n",
      "Non-trainable params: 0\n",
      "_________________________________________________________________\n"
     ]
    }
   ],
   "source": [
    "model.summary()"
   ]
  },
  {
   "cell_type": "code",
   "execution_count": 186,
   "metadata": {},
   "outputs": [
    {
     "name": "stdout",
     "output_type": "stream",
     "text": [
      "Epoch 1/100\n",
      "107/107 [==============================] - 1s 3ms/step - loss: 1.3212 - binary_accuracy: 0.8419 - precision_14: 0.1472 - recall_14: 0.1350 - val_loss: 0.4192 - val_binary_accuracy: 0.8482 - val_precision_14: 0.3280 - val_recall_14: 0.3974\n",
      "Epoch 2/100\n",
      "107/107 [==============================] - 0s 1ms/step - loss: 0.5099 - binary_accuracy: 0.8731 - precision_14: 0.2892 - recall_14: 0.2209 - val_loss: 0.5127 - val_binary_accuracy: 0.8977 - val_precision_14: 0.8182 - val_recall_14: 0.0577\n",
      "Epoch 3/100\n",
      "107/107 [==============================] - 0s 2ms/step - loss: 0.4116 - binary_accuracy: 0.8849 - precision_14: 0.3556 - recall_14: 0.2454 - val_loss: 0.4037 - val_binary_accuracy: 0.8393 - val_precision_14: 0.3347 - val_recall_14: 0.5064\n",
      "Epoch 4/100\n",
      "107/107 [==============================] - 0s 2ms/step - loss: 0.4251 - binary_accuracy: 0.8878 - precision_14: 0.3767 - recall_14: 0.2577 - val_loss: 0.2807 - val_binary_accuracy: 0.9155 - val_precision_14: 0.7538 - val_recall_14: 0.3141\n",
      "Epoch 5/100\n",
      "107/107 [==============================] - 0s 1ms/step - loss: 0.3512 - binary_accuracy: 0.9023 - precision_14: 0.4847 - recall_14: 0.2914 - val_loss: 0.2682 - val_binary_accuracy: 0.9141 - val_precision_14: 0.7925 - val_recall_14: 0.2692\n",
      "Epoch 6/100\n",
      "107/107 [==============================] - 0s 1ms/step - loss: 0.2645 - binary_accuracy: 0.9152 - precision_14: 0.6234 - recall_14: 0.2945 - val_loss: 0.3352 - val_binary_accuracy: 0.9073 - val_precision_14: 0.9565 - val_recall_14: 0.1410\n",
      "Epoch 7/100\n",
      "107/107 [==============================] - 0s 1ms/step - loss: 0.2612 - binary_accuracy: 0.9220 - precision_14: 0.7163 - recall_14: 0.3098 - val_loss: 0.2854 - val_binary_accuracy: 0.9128 - val_precision_14: 0.9143 - val_recall_14: 0.2051\n",
      "Epoch 8/100\n",
      "107/107 [==============================] - 0s 1ms/step - loss: 0.3026 - binary_accuracy: 0.9093 - precision_14: 0.5577 - recall_14: 0.2669 - val_loss: 0.2757 - val_binary_accuracy: 0.9162 - val_precision_14: 0.8696 - val_recall_14: 0.2564\n",
      "Epoch 9/100\n",
      "107/107 [==============================] - 0s 1ms/step - loss: 0.2726 - binary_accuracy: 0.9158 - precision_14: 0.6515 - recall_14: 0.2638 - val_loss: 0.3666 - val_binary_accuracy: 0.8771 - val_precision_14: 0.4320 - val_recall_14: 0.4679\n",
      "Epoch 10/100\n",
      "107/107 [==============================] - 0s 2ms/step - loss: 0.2810 - binary_accuracy: 0.9087 - precision_14: 0.5597 - recall_14: 0.2301 - val_loss: 0.2904 - val_binary_accuracy: 0.9135 - val_precision_14: 0.6744 - val_recall_14: 0.3718\n",
      "Epoch 11/100\n",
      "107/107 [==============================] - 0s 1ms/step - loss: 0.2507 - binary_accuracy: 0.9211 - precision_14: 0.7788 - recall_14: 0.2485 - val_loss: 0.2758 - val_binary_accuracy: 0.9141 - val_precision_14: 0.9189 - val_recall_14: 0.2179\n",
      "Epoch 12/100\n",
      "107/107 [==============================] - 0s 2ms/step - loss: 0.2394 - binary_accuracy: 0.9249 - precision_14: 0.7983 - recall_14: 0.2914 - val_loss: 0.2567 - val_binary_accuracy: 0.9162 - val_precision_14: 0.8864 - val_recall_14: 0.2500\n",
      "Epoch 13/100\n",
      "107/107 [==============================] - 0s 2ms/step - loss: 0.2417 - binary_accuracy: 0.9249 - precision_14: 0.7983 - recall_14: 0.2914 - val_loss: 0.2543 - val_binary_accuracy: 0.9183 - val_precision_14: 0.9302 - val_recall_14: 0.2564\n",
      "Epoch 14/100\n",
      "107/107 [==============================] - 0s 1ms/step - loss: 0.2273 - binary_accuracy: 0.9258 - precision_14: 0.8190 - recall_14: 0.2914 - val_loss: 0.4098 - val_binary_accuracy: 0.8489 - val_precision_14: 0.3760 - val_recall_14: 0.6218\n",
      "Epoch 15/100\n",
      "107/107 [==============================] - 0s 2ms/step - loss: 0.2666 - binary_accuracy: 0.9182 - precision_14: 0.6690 - recall_14: 0.2914 - val_loss: 0.4581 - val_binary_accuracy: 0.8977 - val_precision_14: 1.0000 - val_recall_14: 0.0449\n",
      "Epoch 16/100\n",
      "107/107 [==============================] - 0s 2ms/step - loss: 0.2544 - binary_accuracy: 0.9205 - precision_14: 0.7333 - recall_14: 0.2699 - val_loss: 0.3106 - val_binary_accuracy: 0.9073 - val_precision_14: 0.5882 - val_recall_14: 0.4487\n",
      "Epoch 17/100\n",
      "107/107 [==============================] - 0s 2ms/step - loss: 0.2403 - binary_accuracy: 0.9214 - precision_14: 0.7479 - recall_14: 0.2730 - val_loss: 0.5252 - val_binary_accuracy: 0.7459 - val_precision_14: 0.2440 - val_recall_14: 0.6538\n",
      "Epoch 18/100\n",
      "107/107 [==============================] - 0s 2ms/step - loss: 0.2894 - binary_accuracy: 0.9137 - precision_14: 0.6813 - recall_14: 0.1902 - val_loss: 0.2911 - val_binary_accuracy: 0.8997 - val_precision_14: 1.0000 - val_recall_14: 0.0641\n",
      "Epoch 19/100\n",
      "107/107 [==============================] - 0s 2ms/step - loss: 0.2558 - binary_accuracy: 0.9161 - precision_14: 0.7733 - recall_14: 0.1779 - val_loss: 0.2661 - val_binary_accuracy: 0.9107 - val_precision_14: 1.0000 - val_recall_14: 0.1667\n",
      "Epoch 20/100\n",
      "107/107 [==============================] - 0s 2ms/step - loss: 0.2422 - binary_accuracy: 0.9220 - precision_14: 0.8506 - recall_14: 0.2270 - val_loss: 0.2942 - val_binary_accuracy: 0.9052 - val_precision_14: 0.9500 - val_recall_14: 0.1218\n",
      "Epoch 21/100\n",
      "107/107 [==============================] - 0s 2ms/step - loss: 0.2697 - binary_accuracy: 0.9096 - precision_14: 0.6267 - recall_14: 0.1442 - val_loss: 0.2839 - val_binary_accuracy: 0.9183 - val_precision_14: 0.8627 - val_recall_14: 0.2821\n",
      "Epoch 22/100\n",
      "107/107 [==============================] - 0s 2ms/step - loss: 0.2538 - binary_accuracy: 0.9173 - precision_14: 0.7647 - recall_14: 0.1994 - val_loss: 0.2635 - val_binary_accuracy: 0.9148 - val_precision_14: 0.7500 - val_recall_14: 0.3077\n",
      "Epoch 23/100\n",
      "107/107 [==============================] - 0s 1ms/step - loss: 0.2667 - binary_accuracy: 0.9146 - precision_14: 0.7195 - recall_14: 0.1810 - val_loss: 0.5236 - val_binary_accuracy: 0.8942 - val_precision_14: 1.0000 - val_recall_14: 0.0128\n",
      "Epoch 24/100\n",
      "107/107 [==============================] - 0s 2ms/step - loss: 0.2790 - binary_accuracy: 0.9193 - precision_14: 0.8824 - recall_14: 0.1840 - val_loss: 0.2820 - val_binary_accuracy: 0.9148 - val_precision_14: 0.8077 - val_recall_14: 0.2692\n",
      "Epoch 25/100\n",
      "107/107 [==============================] - 0s 2ms/step - loss: 0.2776 - binary_accuracy: 0.9114 - precision_14: 0.7049 - recall_14: 0.1319 - val_loss: 0.3223 - val_binary_accuracy: 0.8963 - val_precision_14: 1.0000 - val_recall_14: 0.0321\n",
      "Epoch 26/100\n",
      "107/107 [==============================] - 0s 2ms/step - loss: 0.2744 - binary_accuracy: 0.9152 - precision_14: 0.8276 - recall_14: 0.1472 - val_loss: 0.3443 - val_binary_accuracy: 0.8997 - val_precision_14: 1.0000 - val_recall_14: 0.0641\n",
      "Epoch 27/100\n",
      "107/107 [==============================] - 0s 2ms/step - loss: 0.2493 - binary_accuracy: 0.9185 - precision_14: 0.8101 - recall_14: 0.1963 - val_loss: 0.2949 - val_binary_accuracy: 0.9080 - val_precision_14: 1.0000 - val_recall_14: 0.1410\n",
      "Epoch 28/100\n",
      "107/107 [==============================] - 0s 2ms/step - loss: 0.2645 - binary_accuracy: 0.9193 - precision_14: 0.8824 - recall_14: 0.1840 - val_loss: 0.2902 - val_binary_accuracy: 0.8997 - val_precision_14: 1.0000 - val_recall_14: 0.0641\n",
      "Epoch 29/100\n",
      "107/107 [==============================] - 0s 2ms/step - loss: 0.2437 - binary_accuracy: 0.9196 - precision_14: 0.7912 - recall_14: 0.2209 - val_loss: 0.2724 - val_binary_accuracy: 0.9169 - val_precision_14: 0.7692 - val_recall_14: 0.3205\n",
      "Epoch 30/100\n",
      "107/107 [==============================] - 0s 2ms/step - loss: 0.2542 - binary_accuracy: 0.9196 - precision_14: 0.8442 - recall_14: 0.1994 - val_loss: 0.2822 - val_binary_accuracy: 0.9176 - val_precision_14: 0.9737 - val_recall_14: 0.2372\n",
      "Epoch 31/100\n",
      "107/107 [==============================] - 0s 2ms/step - loss: 0.2587 - binary_accuracy: 0.9167 - precision_14: 0.7590 - recall_14: 0.1933 - val_loss: 0.2720 - val_binary_accuracy: 0.9121 - val_precision_14: 0.9667 - val_recall_14: 0.1859\n",
      "Epoch 32/100\n",
      "107/107 [==============================] - 0s 2ms/step - loss: 0.2382 - binary_accuracy: 0.9252 - precision_14: 0.8750 - recall_14: 0.2577 - val_loss: 0.2752 - val_binary_accuracy: 0.9196 - val_precision_14: 0.9756 - val_recall_14: 0.2564\n",
      "Epoch 33/100\n",
      "107/107 [==============================] - 0s 2ms/step - loss: 0.2380 - binary_accuracy: 0.9238 - precision_14: 0.8252 - recall_14: 0.2607 - val_loss: 0.2624 - val_binary_accuracy: 0.9217 - val_precision_14: 0.9375 - val_recall_14: 0.2885\n",
      "Epoch 34/100\n",
      "107/107 [==============================] - 0s 2ms/step - loss: 0.2240 - binary_accuracy: 0.9291 - precision_14: 0.8512 - recall_14: 0.3160 - val_loss: 0.2751 - val_binary_accuracy: 0.9183 - val_precision_14: 0.9744 - val_recall_14: 0.2436\n",
      "Epoch 35/100\n",
      "107/107 [==============================] - 0s 1ms/step - loss: 0.2301 - binary_accuracy: 0.9282 - precision_14: 0.9020 - recall_14: 0.2822 - val_loss: 0.2725 - val_binary_accuracy: 0.9224 - val_precision_14: 0.8772 - val_recall_14: 0.3205\n",
      "Epoch 36/100\n",
      "107/107 [==============================] - 0s 2ms/step - loss: 0.2218 - binary_accuracy: 0.9314 - precision_14: 0.8720 - recall_14: 0.3344 - val_loss: 0.2889 - val_binary_accuracy: 0.9176 - val_precision_14: 0.7093 - val_recall_14: 0.3910\n",
      "Epoch 37/100\n",
      "107/107 [==============================] - 0s 2ms/step - loss: 0.2293 - binary_accuracy: 0.9252 - precision_14: 0.8103 - recall_14: 0.2883 - val_loss: 0.4027 - val_binary_accuracy: 0.8352 - val_precision_14: 0.3409 - val_recall_14: 0.5769\n",
      "Epoch 38/100\n",
      "107/107 [==============================] - 0s 2ms/step - loss: 0.2328 - binary_accuracy: 0.9243 - precision_14: 0.7851 - recall_14: 0.2914 - val_loss: 0.2792 - val_binary_accuracy: 0.9059 - val_precision_14: 1.0000 - val_recall_14: 0.1218\n",
      "Epoch 39/100\n",
      "107/107 [==============================] - 0s 2ms/step - loss: 0.2291 - binary_accuracy: 0.9264 - precision_14: 0.8393 - recall_14: 0.2883 - val_loss: 0.3152 - val_binary_accuracy: 0.8935 - val_precision_14: 1.0000 - val_recall_14: 0.0064\n",
      "Epoch 40/100\n",
      "107/107 [==============================] - 0s 2ms/step - loss: 0.2491 - binary_accuracy: 0.9149 - precision_14: 0.7681 - recall_14: 0.1626 - val_loss: 0.2611 - val_binary_accuracy: 0.9203 - val_precision_14: 0.9348 - val_recall_14: 0.2756\n",
      "Epoch 41/100\n",
      "107/107 [==============================] - 0s 2ms/step - loss: 0.2273 - binary_accuracy: 0.9258 - precision_14: 0.8558 - recall_14: 0.2730 - val_loss: 0.2692 - val_binary_accuracy: 0.9128 - val_precision_14: 1.0000 - val_recall_14: 0.1859\n",
      "Epoch 42/100\n",
      "107/107 [==============================] - 0s 2ms/step - loss: 0.2187 - binary_accuracy: 0.9291 - precision_14: 0.8761 - recall_14: 0.3037 - val_loss: 0.2565 - val_binary_accuracy: 0.9169 - val_precision_14: 0.9268 - val_recall_14: 0.2436\n",
      "Epoch 43/100\n",
      "107/107 [==============================] - 0s 2ms/step - loss: 0.2195 - binary_accuracy: 0.9293 - precision_14: 0.8359 - recall_14: 0.3282 - val_loss: 0.2691 - val_binary_accuracy: 0.9141 - val_precision_14: 1.0000 - val_recall_14: 0.1987\n",
      "Epoch 44/100\n",
      "107/107 [==============================] - 0s 2ms/step - loss: 0.2149 - binary_accuracy: 0.9341 - precision_14: 0.8750 - recall_14: 0.3650 - val_loss: 0.2824 - val_binary_accuracy: 0.9176 - val_precision_14: 0.7000 - val_recall_14: 0.4038\n",
      "Epoch 45/100\n",
      "107/107 [==============================] - 0s 2ms/step - loss: 0.2187 - binary_accuracy: 0.9320 - precision_14: 0.8626 - recall_14: 0.3466 - val_loss: 0.2706 - val_binary_accuracy: 0.9176 - val_precision_14: 0.9500 - val_recall_14: 0.2436\n",
      "Epoch 46/100\n",
      "107/107 [==============================] - 0s 2ms/step - loss: 0.2156 - binary_accuracy: 0.9302 - precision_14: 0.8618 - recall_14: 0.3252 - val_loss: 0.2562 - val_binary_accuracy: 0.9210 - val_precision_14: 0.7887 - val_recall_14: 0.3590\n",
      "Epoch 47/100\n",
      "107/107 [==============================] - 0s 2ms/step - loss: 0.2160 - binary_accuracy: 0.9329 - precision_14: 0.8769 - recall_14: 0.3497 - val_loss: 0.2504 - val_binary_accuracy: 0.9210 - val_precision_14: 0.8868 - val_recall_14: 0.3013\n",
      "Epoch 48/100\n",
      "107/107 [==============================] - 0s 2ms/step - loss: 0.2019 - binary_accuracy: 0.9364 - precision_14: 0.9231 - recall_14: 0.3681 - val_loss: 0.3304 - val_binary_accuracy: 0.8757 - val_precision_14: 0.4242 - val_recall_14: 0.4487\n",
      "Epoch 49/100\n",
      "107/107 [==============================] - 0s 1ms/step - loss: 0.2661 - binary_accuracy: 0.9111 - precision_14: 0.7143 - recall_14: 0.1227 - val_loss: 0.2882 - val_binary_accuracy: 0.8977 - val_precision_14: 1.0000 - val_recall_14: 0.0449\n",
      "Epoch 50/100\n",
      "107/107 [==============================] - 0s 1ms/step - loss: 0.2567 - binary_accuracy: 0.9120 - precision_14: 0.8140 - recall_14: 0.1074 - val_loss: 0.2677 - val_binary_accuracy: 0.9100 - val_precision_14: 0.8788 - val_recall_14: 0.1859\n",
      "Epoch 51/100\n",
      "107/107 [==============================] - 0s 2ms/step - loss: 0.2637 - binary_accuracy: 0.9108 - precision_14: 0.6769 - recall_14: 0.1350 - val_loss: 0.2873 - val_binary_accuracy: 0.9004 - val_precision_14: 0.5932 - val_recall_14: 0.2244\n",
      "Epoch 52/100\n",
      "107/107 [==============================] - 0s 1ms/step - loss: 0.2418 - binary_accuracy: 0.9170 - precision_14: 0.7973 - recall_14: 0.1810 - val_loss: 0.2594 - val_binary_accuracy: 0.9128 - val_precision_14: 1.0000 - val_recall_14: 0.1859\n",
      "Epoch 53/100\n",
      "107/107 [==============================] - 0s 2ms/step - loss: 0.2340 - binary_accuracy: 0.9176 - precision_14: 0.7614 - recall_14: 0.2055 - val_loss: 0.2771 - val_binary_accuracy: 0.9093 - val_precision_14: 0.9000 - val_recall_14: 0.1731\n",
      "Epoch 54/100\n",
      "107/107 [==============================] - 0s 2ms/step - loss: 0.2685 - binary_accuracy: 0.9137 - precision_14: 0.7260 - recall_14: 0.1626 - val_loss: 0.2795 - val_binary_accuracy: 0.9038 - val_precision_14: 0.9444 - val_recall_14: 0.1090\n",
      "Epoch 55/100\n",
      "107/107 [==============================] - 0s 2ms/step - loss: 0.2408 - binary_accuracy: 0.9167 - precision_14: 0.7867 - recall_14: 0.1810 - val_loss: 0.2679 - val_binary_accuracy: 0.9128 - val_precision_14: 0.7377 - val_recall_14: 0.2885\n",
      "Epoch 56/100\n",
      "107/107 [==============================] - 0s 2ms/step - loss: 0.2441 - binary_accuracy: 0.9152 - precision_14: 0.6667 - recall_14: 0.2331 - val_loss: 0.2610 - val_binary_accuracy: 0.9162 - val_precision_14: 0.8400 - val_recall_14: 0.2692\n",
      "Epoch 57/100\n",
      "107/107 [==============================] - 0s 2ms/step - loss: 0.2449 - binary_accuracy: 0.9170 - precision_14: 0.6964 - recall_14: 0.2393 - val_loss: 0.3392 - val_binary_accuracy: 0.8970 - val_precision_14: 1.0000 - val_recall_14: 0.0385\n",
      "Epoch 58/100\n",
      "107/107 [==============================] - 0s 2ms/step - loss: 0.2408 - binary_accuracy: 0.9202 - precision_14: 0.8571 - recall_14: 0.2025 - val_loss: 0.2968 - val_binary_accuracy: 0.9025 - val_precision_14: 1.0000 - val_recall_14: 0.0897\n",
      "Epoch 59/100\n",
      "107/107 [==============================] - 0s 2ms/step - loss: 0.2340 - binary_accuracy: 0.9176 - precision_14: 0.7130 - recall_14: 0.2362 - val_loss: 0.2629 - val_binary_accuracy: 0.9183 - val_precision_14: 0.8936 - val_recall_14: 0.2692\n",
      "Epoch 60/100\n",
      "107/107 [==============================] - 0s 2ms/step - loss: 0.2387 - binary_accuracy: 0.9246 - precision_14: 0.8241 - recall_14: 0.2730 - val_loss: 0.2523 - val_binary_accuracy: 0.9210 - val_precision_14: 0.9020 - val_recall_14: 0.2949\n",
      "Epoch 61/100\n",
      "107/107 [==============================] - 0s 2ms/step - loss: 0.2295 - binary_accuracy: 0.9229 - precision_14: 0.7500 - recall_14: 0.2945 - val_loss: 0.2616 - val_binary_accuracy: 0.9135 - val_precision_14: 0.9167 - val_recall_14: 0.2115\n",
      "Epoch 62/100\n",
      "107/107 [==============================] - 0s 1ms/step - loss: 0.2168 - binary_accuracy: 0.9267 - precision_14: 0.7939 - recall_14: 0.3190 - val_loss: 0.2550 - val_binary_accuracy: 0.9196 - val_precision_14: 0.7910 - val_recall_14: 0.3397\n",
      "Epoch 63/100\n",
      "107/107 [==============================] - 0s 2ms/step - loss: 0.2136 - binary_accuracy: 0.9296 - precision_14: 0.7806 - recall_14: 0.3712 - val_loss: 0.2584 - val_binary_accuracy: 0.9162 - val_precision_14: 0.8696 - val_recall_14: 0.2564\n",
      "Epoch 64/100\n",
      "107/107 [==============================] - 0s 2ms/step - loss: 0.2105 - binary_accuracy: 0.9320 - precision_14: 0.7950 - recall_14: 0.3926 - val_loss: 0.2646 - val_binary_accuracy: 0.9190 - val_precision_14: 0.8654 - val_recall_14: 0.2885\n",
      "Epoch 65/100\n",
      "107/107 [==============================] - 0s 2ms/step - loss: 0.2170 - binary_accuracy: 0.9305 - precision_14: 0.8041 - recall_14: 0.3650 - val_loss: 0.2499 - val_binary_accuracy: 0.9231 - val_precision_14: 0.8056 - val_recall_14: 0.3718\n",
      "Epoch 66/100\n",
      "107/107 [==============================] - 0s 1ms/step - loss: 0.2115 - binary_accuracy: 0.9258 - precision_14: 0.7434 - recall_14: 0.3466 - val_loss: 0.2688 - val_binary_accuracy: 0.9155 - val_precision_14: 0.8000 - val_recall_14: 0.2821\n",
      "Epoch 67/100\n",
      "107/107 [==============================] - 0s 1ms/step - loss: 0.2047 - binary_accuracy: 0.9341 - precision_14: 0.7931 - recall_14: 0.4233 - val_loss: 0.2753 - val_binary_accuracy: 0.9203 - val_precision_14: 1.0000 - val_recall_14: 0.2564\n",
      "Epoch 68/100\n",
      "107/107 [==============================] - 0s 2ms/step - loss: 0.2166 - binary_accuracy: 0.9293 - precision_14: 0.7722 - recall_14: 0.3742 - val_loss: 0.2500 - val_binary_accuracy: 0.9169 - val_precision_14: 0.8070 - val_recall_14: 0.2949\n",
      "Epoch 69/100\n",
      "107/107 [==============================] - 0s 2ms/step - loss: 0.2125 - binary_accuracy: 0.9264 - precision_14: 0.7405 - recall_14: 0.3589 - val_loss: 0.3114 - val_binary_accuracy: 0.8894 - val_precision_14: 0.4803 - val_recall_14: 0.3910\n",
      "Epoch 70/100\n",
      "107/107 [==============================] - 0s 1ms/step - loss: 0.2066 - binary_accuracy: 0.9332 - precision_14: 0.8075 - recall_14: 0.3988 - val_loss: 0.2470 - val_binary_accuracy: 0.9265 - val_precision_14: 0.8551 - val_recall_14: 0.3782\n",
      "Epoch 71/100\n",
      "107/107 [==============================] - 0s 1ms/step - loss: 0.1970 - binary_accuracy: 0.9370 - precision_14: 0.8256 - recall_14: 0.4356 - val_loss: 0.2468 - val_binary_accuracy: 0.9231 - val_precision_14: 0.7750 - val_recall_14: 0.3974\n",
      "Epoch 72/100\n",
      "107/107 [==============================] - 0s 1ms/step - loss: 0.1930 - binary_accuracy: 0.9388 - precision_14: 0.8554 - recall_14: 0.4356 - val_loss: 0.2790 - val_binary_accuracy: 0.9032 - val_precision_14: 0.5610 - val_recall_14: 0.4423\n",
      "Epoch 73/100\n",
      "107/107 [==============================] - 0s 1ms/step - loss: 0.2235 - binary_accuracy: 0.9267 - precision_14: 0.7391 - recall_14: 0.3650 - val_loss: 0.2599 - val_binary_accuracy: 0.9190 - val_precision_14: 0.9750 - val_recall_14: 0.2500\n",
      "Epoch 74/100\n",
      "107/107 [==============================] - 0s 1ms/step - loss: 0.1977 - binary_accuracy: 0.9367 - precision_14: 0.8447 - recall_14: 0.4172 - val_loss: 0.2543 - val_binary_accuracy: 0.9196 - val_precision_14: 0.8980 - val_recall_14: 0.2821\n",
      "Epoch 75/100\n",
      "107/107 [==============================] - 0s 1ms/step - loss: 0.1959 - binary_accuracy: 0.9379 - precision_14: 0.8662 - recall_14: 0.4172 - val_loss: 0.2338 - val_binary_accuracy: 0.9224 - val_precision_14: 0.7792 - val_recall_14: 0.3846\n",
      "Epoch 76/100\n",
      "107/107 [==============================] - 0s 2ms/step - loss: 0.1948 - binary_accuracy: 0.9376 - precision_14: 0.8353 - recall_14: 0.4356 - val_loss: 0.2576 - val_binary_accuracy: 0.9203 - val_precision_14: 0.7174 - val_recall_14: 0.4231\n",
      "Epoch 77/100\n",
      "107/107 [==============================] - 0s 1ms/step - loss: 0.1887 - binary_accuracy: 0.9388 - precision_14: 0.8278 - recall_14: 0.4571 - val_loss: 0.2339 - val_binary_accuracy: 0.9238 - val_precision_14: 0.8358 - val_recall_14: 0.3590\n",
      "Epoch 78/100\n",
      "107/107 [==============================] - 0s 2ms/step - loss: 0.1888 - binary_accuracy: 0.9423 - precision_14: 0.8421 - recall_14: 0.4908 - val_loss: 0.2704 - val_binary_accuracy: 0.9038 - val_precision_14: 0.5556 - val_recall_14: 0.5128\n",
      "Epoch 79/100\n",
      "107/107 [==============================] - 0s 2ms/step - loss: 0.1966 - binary_accuracy: 0.9379 - precision_14: 0.8212 - recall_14: 0.4509 - val_loss: 0.2370 - val_binary_accuracy: 0.9251 - val_precision_14: 0.8133 - val_recall_14: 0.3910\n",
      "Epoch 80/100\n",
      "107/107 [==============================] - 0s 2ms/step - loss: 0.1910 - binary_accuracy: 0.9405 - precision_14: 0.8483 - recall_14: 0.4632 - val_loss: 0.2382 - val_binary_accuracy: 0.9217 - val_precision_14: 0.7763 - val_recall_14: 0.3782\n",
      "Epoch 81/100\n",
      "107/107 [==============================] - 0s 2ms/step - loss: 0.1931 - binary_accuracy: 0.9402 - precision_14: 0.8727 - recall_14: 0.4417 - val_loss: 0.2390 - val_binary_accuracy: 0.9238 - val_precision_14: 0.8000 - val_recall_14: 0.3846\n",
      "Epoch 82/100\n",
      "107/107 [==============================] - 0s 2ms/step - loss: 0.1900 - binary_accuracy: 0.9417 - precision_14: 0.8478 - recall_14: 0.4785 - val_loss: 0.2379 - val_binary_accuracy: 0.9245 - val_precision_14: 0.7805 - val_recall_14: 0.4103\n",
      "Epoch 83/100\n",
      "107/107 [==============================] - 0s 2ms/step - loss: 0.1916 - binary_accuracy: 0.9405 - precision_14: 0.8444 - recall_14: 0.4663 - val_loss: 0.2376 - val_binary_accuracy: 0.9238 - val_precision_14: 0.7922 - val_recall_14: 0.3910\n",
      "Epoch 84/100\n",
      "107/107 [==============================] - 0s 2ms/step - loss: 0.1844 - binary_accuracy: 0.9438 - precision_14: 0.8729 - recall_14: 0.4847 - val_loss: 0.2383 - val_binary_accuracy: 0.9245 - val_precision_14: 0.7875 - val_recall_14: 0.4038\n",
      "Epoch 85/100\n",
      "107/107 [==============================] - 0s 2ms/step - loss: 0.1838 - binary_accuracy: 0.9411 - precision_14: 0.8351 - recall_14: 0.4816 - val_loss: 0.2533 - val_binary_accuracy: 0.9141 - val_precision_14: 0.6303 - val_recall_14: 0.4808\n",
      "Epoch 86/100\n",
      "107/107 [==============================] - 0s 2ms/step - loss: 0.1853 - binary_accuracy: 0.9414 - precision_14: 0.8802 - recall_14: 0.4509 - val_loss: 0.2422 - val_binary_accuracy: 0.9279 - val_precision_14: 0.8228 - val_recall_14: 0.4167\n",
      "Epoch 87/100\n",
      "107/107 [==============================] - 0s 2ms/step - loss: 0.1957 - binary_accuracy: 0.9391 - precision_14: 0.8400 - recall_14: 0.4509 - val_loss: 0.2397 - val_binary_accuracy: 0.9245 - val_precision_14: 0.8966 - val_recall_14: 0.3333\n",
      "Epoch 88/100\n",
      "107/107 [==============================] - 0s 2ms/step - loss: 0.2048 - binary_accuracy: 0.9311 - precision_14: 0.7614 - recall_14: 0.4110 - val_loss: 0.2694 - val_binary_accuracy: 0.9224 - val_precision_14: 0.9574 - val_recall_14: 0.2885\n",
      "Epoch 89/100\n",
      "107/107 [==============================] - 0s 2ms/step - loss: 0.1832 - binary_accuracy: 0.9435 - precision_14: 0.8641 - recall_14: 0.4877 - val_loss: 0.2382 - val_binary_accuracy: 0.9231 - val_precision_14: 0.7292 - val_recall_14: 0.4487\n",
      "Epoch 90/100\n",
      "107/107 [==============================] - 0s 2ms/step - loss: 0.1715 - binary_accuracy: 0.9458 - precision_14: 0.8698 - recall_14: 0.5123 - val_loss: 0.2525 - val_binary_accuracy: 0.9162 - val_precision_14: 0.6700 - val_recall_14: 0.4295\n",
      "Epoch 91/100\n",
      "107/107 [==============================] - 0s 2ms/step - loss: 0.1755 - binary_accuracy: 0.9420 - precision_14: 0.8342 - recall_14: 0.4939 - val_loss: 0.2370 - val_binary_accuracy: 0.9258 - val_precision_14: 0.7609 - val_recall_14: 0.4487\n",
      "Epoch 92/100\n",
      "107/107 [==============================] - 0s 2ms/step - loss: 0.1832 - binary_accuracy: 0.9467 - precision_14: 0.8836 - recall_14: 0.5123 - val_loss: 0.2471 - val_binary_accuracy: 0.9183 - val_precision_14: 0.7033 - val_recall_14: 0.4103\n",
      "Epoch 93/100\n",
      "107/107 [==============================] - 0s 2ms/step - loss: 0.1891 - binary_accuracy: 0.9408 - precision_14: 0.8272 - recall_14: 0.4847 - val_loss: 0.3065 - val_binary_accuracy: 0.8894 - val_precision_14: 0.4837 - val_recall_14: 0.4744\n",
      "Epoch 94/100\n",
      "107/107 [==============================] - 0s 2ms/step - loss: 0.1867 - binary_accuracy: 0.9391 - precision_14: 0.8251 - recall_14: 0.4632 - val_loss: 0.2358 - val_binary_accuracy: 0.9245 - val_precision_14: 0.8710 - val_recall_14: 0.3462\n",
      "Epoch 95/100\n",
      "107/107 [==============================] - 0s 1ms/step - loss: 0.1733 - binary_accuracy: 0.9476 - precision_14: 0.8776 - recall_14: 0.5276 - val_loss: 0.2470 - val_binary_accuracy: 0.9162 - val_precision_14: 0.6771 - val_recall_14: 0.4167\n",
      "Epoch 96/100\n",
      "107/107 [==============================] - 0s 2ms/step - loss: 0.1786 - binary_accuracy: 0.9458 - precision_14: 0.8698 - recall_14: 0.5123 - val_loss: 0.2323 - val_binary_accuracy: 0.9251 - val_precision_14: 0.8615 - val_recall_14: 0.3590\n",
      "Epoch 97/100\n",
      "107/107 [==============================] - 0s 2ms/step - loss: 0.1792 - binary_accuracy: 0.9444 - precision_14: 0.8827 - recall_14: 0.4847 - val_loss: 0.2315 - val_binary_accuracy: 0.9286 - val_precision_14: 0.8250 - val_recall_14: 0.4231\n",
      "Epoch 98/100\n",
      "107/107 [==============================] - 0s 2ms/step - loss: 0.1745 - binary_accuracy: 0.9470 - precision_14: 0.8510 - recall_14: 0.5429 - val_loss: 0.2327 - val_binary_accuracy: 0.9299 - val_precision_14: 0.8553 - val_recall_14: 0.4167\n",
      "Epoch 99/100\n",
      "107/107 [==============================] - 0s 2ms/step - loss: 0.1699 - binary_accuracy: 0.9467 - precision_14: 0.8643 - recall_14: 0.5276 - val_loss: 0.2868 - val_binary_accuracy: 0.9231 - val_precision_14: 0.8438 - val_recall_14: 0.3462\n",
      "Epoch 100/100\n",
      "107/107 [==============================] - 0s 2ms/step - loss: 0.1860 - binary_accuracy: 0.9414 - precision_14: 0.8290 - recall_14: 0.4908 - val_loss: 0.2431 - val_binary_accuracy: 0.9313 - val_precision_14: 0.8415 - val_recall_14: 0.4423\n"
     ]
    }
   ],
   "source": [
    "MLP = model.fit(smiles_train,labels_train, epochs=100, verbose =1,validation_data=(smiles_test,labels_test))"
   ]
  },
  {
   "cell_type": "code",
   "execution_count": 187,
   "metadata": {},
   "outputs": [
    {
     "data": {
      "text/plain": [
       "<matplotlib.legend.Legend at 0x7fd469654310>"
      ]
     },
     "execution_count": 187,
     "metadata": {},
     "output_type": "execute_result"
    },
    {
     "data": {
      "image/png": "[encoded data removed]",
      "text/plain": [
       "<Figure size 720x720 with 1 Axes>"
      ]
     },
     "metadata": {
      "needs_background": "light"
     },
     "output_type": "display_data"
    }
   ],
   "source": [
    "import matplotlib.pyplot as plt\n",
    "plt.figure(figsize=(10,10))\n",
    "plt.plot(MLP.history['loss'],label = 'train')\n",
    "plt.plot(MLP.history['val_loss'],label = 'test')\n",
    "plt.legend()\n"
   ]
  },
  {
   "cell_type": "code",
   "execution_count": 188,
   "metadata": {},
   "outputs": [],
   "source": [
    "predictions = np.round(model.predict(smiles_test))"
   ]
  },
  {
   "cell_type": "code",
   "execution_count": 189,
   "metadata": {},
   "outputs": [],
   "source": [
    "from sklearn.metrics import confusion_matrix\n",
    "cm = confusion_matrix(labels_test, predictions)"
   ]
  },
  {
   "cell_type": "code",
   "execution_count": 69,
   "metadata": {},
   "outputs": [],
   "source": [
    "import seaborn as sns\n"
   ]
  },
  {
   "cell_type": "code",
   "execution_count": 190,
   "metadata": {},
   "outputs": [
    {
     "data": {
      "text/plain": [
       "Text(0.5, 15.0, 'PREDICTED')"
      ]
     },
     "execution_count": 190,
     "metadata": {},
     "output_type": "execute_result"
    },
    {
     "data": {
      "image/png": "[encoded data removed]",
      "text/plain": [
       "<Figure size 432x288 with 2 Axes>"
      ]
     },
     "metadata": {
      "needs_background": "light"
     },
     "output_type": "display_data"
    }
   ],
   "source": [
    "sns.heatmap(cm, annot=True,cmap='coolwarm')\n",
    "plt.ylabel(\"TRUE\")\n",
    "plt.xlabel(\"PREDICTED\")"
   ]
  },
  {
   "cell_type": "code",
   "execution_count": 191,
   "metadata": {},
   "outputs": [],
   "source": [
    "tn, fp, fn, tp = confusion_matrix(labels_test, predictions).ravel()"
   ]
  },
  {
   "cell_type": "code",
   "execution_count": 192,
   "metadata": {},
   "outputs": [
    {
     "data": {
      "text/plain": [
       "(1287, 13, 87, 69)"
      ]
     },
     "execution_count": 192,
     "metadata": {},
     "output_type": "execute_result"
    }
   ],
   "source": [
    "tn, fp, fn, tp "
   ]
  },
  {
   "cell_type": "code",
   "execution_count": 193,
   "metadata": {},
   "outputs": [
    {
     "data": {
      "text/plain": [
       "0.9313186813186813"
      ]
     },
     "execution_count": 193,
     "metadata": {},
     "output_type": "execute_result"
    }
   ],
   "source": [
    "#acurácia\n",
    "(tp+tn)/(tp+tn+fp+fn)"
   ]
  },
  {
   "cell_type": "code",
   "execution_count": 194,
   "metadata": {},
   "outputs": [
    {
     "data": {
      "text/plain": [
       "0.4423076923076923"
      ]
     },
     "execution_count": 194,
     "metadata": {},
     "output_type": "execute_result"
    }
   ],
   "source": [
    "#acerta o que é antibiótico\n",
    "(tp)/(tp+fn)"
   ]
  },
  {
   "cell_type": "code",
   "execution_count": 183,
   "metadata": {},
   "outputs": [
    {
     "data": {
      "text/plain": [
       "0.9907321594068582"
      ]
     },
     "execution_count": 183,
     "metadata": {},
     "output_type": "execute_result"
    }
   ],
   "source": [
    "#acerta o que não é antibiótico\n",
    "(tn)/(tn+fp)"
   ]
  }
 ],
 "metadata": {
  "interpreter": {
   "hash": "3218d1e1345bf85c44ac3e3bdb7899973b22b8c207b0aa6281a3c4896a58620c"
  },
  "kernelspec": {
   "display_name": "Python 3.7.11 ('diversedrl')",
   "language": "python",
   "name": "python3"
  },
  "language_info": {
   "codemirror_mode": {
    "name": "ipython",
    "version": 3
   },
   "file_extension": ".py",
   "mimetype": "text/x-python",
   "name": "python",
   "nbconvert_exporter": "python",
   "pygments_lexer": "ipython3",
   "version": "3.7.11"
  },
  "orig_nbformat": 4
 },
 "nbformat": 4,
 "nbformat_minor": 2
}
