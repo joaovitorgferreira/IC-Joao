{
 "cells": [
  {
   "cell_type": "markdown",
   "metadata": {},
   "source": [
    "\n",
    "Classificador\n",
    "1. Importar dados\n",
    "\n",
    "Para criar um classificador formatar os dados da sequinte maneira:\n",
    "\n",
    "moleculas -> uma lista/array com todos os smiles do seu banco de dados\n",
    "\n",
    "classes -> uma lista/array de zeros e uns representando antibiótico e não antibiótico, respectivamente\n",
    "\n",
    "O classificador vai identificar traços das moleculas e associá-los às classes, então cada molécula deverá ter o mesmo índice que sua classe.\n",
    "\n",
    "bibliotecas sugeridas:\n",
    "\n",
    "    pandas\n",
    "    numpy\n",
    "\n"
   ]
  },
  {
   "cell_type": "code",
   "execution_count": 9,
   "metadata": {},
   "outputs": [],
   "source": [
    "import pandas as pd\n",
    "import numpy as np\n",
    "import sklearn as sk\n",
    "\n",
    "#Importar dados\n",
    "df = pd.read_csv('/home/joao/documentos/IC-Joao/classificador/data_teste.csv',sep=';', encoding='latin-1')\n",
    "\n",
    "#Definir a coluna das classes\n",
    "labels = np.asarray(df.Classe)\n",
    "\n",
    "#Selecionar SMILES sem as classes\n",
    "df_selected = df.drop([\"Classe\"], axis=1)\n",
    "\n",
    "#Codificar classes\n",
    "from sklearn.preprocessing import LabelEncoder\n",
    "le = LabelEncoder()\n",
    "le.fit(labels)\n",
    "\n",
    "labels = le.transform(labels)"
   ]
  },
  {
   "cell_type": "markdown",
   "metadata": {},
   "source": [
    "\n",
    "2. Processamento dos dados\n",
    "2.1 Encoding/padding\n",
    "\n",
    "Nessa etapa acontece a codificação das moleculas. Pode ser tokens, one hot vector, integer vector. Você decide.\n",
    "\n",
    "É importante que ao final do processamento todos os tokens tenham o mesmo comprimento, então um processo chamado padding precisa ser aplicado.\n",
    "\n",
    "Por convenção as variáveis em machine learning assumem esses nomes:\n",
    "\n",
    "X -> uma lista/array com todos os smiles codificados\n",
    "\n",
    "y -> uma lista/array de zeros e uns representando antibiótico e não antibiótico, respectivamente\n",
    "\n",
    "Bibliotecas sugeridas:\n",
    "\n",
    "    numpy\n",
    "    sklearn\n",
    "\n"
   ]
  },
  {
   "cell_type": "markdown",
   "metadata": {},
   "source": [
    "ADIÇÕES DO TIAGO: INICIO"
   ]
  },
  {
   "cell_type": "code",
   "execution_count": 10,
   "metadata": {},
   "outputs": [],
   "source": [
    "comprimentos = [len(x) for x in df_selected.Smiles.values]\n"
   ]
  },
  {
   "cell_type": "code",
   "execution_count": 11,
   "metadata": {},
   "outputs": [
    {
     "data": {
      "text/plain": [
       "405"
      ]
     },
     "execution_count": 11,
     "metadata": {},
     "output_type": "execute_result"
    }
   ],
   "source": [
    "maior_smile = np.max(comprimentos)\n",
    "maior_smile"
   ]
  },
  {
   "cell_type": "code",
   "execution_count": 12,
   "metadata": {},
   "outputs": [],
   "source": [
    "from tensorflow.keras.preprocessing.sequence import pad_sequences\n",
    "\n",
    "smiles = list(df_selected.Smiles.values)\n",
    "\n",
    "table = ['Cl', 'Br', 'Na', 'Li', 'Ca', 'Al', 'Ag', 'Se', 'Mg', 'Zn', 'H', 'B', 'C', 'N', 'O', 'P', 'S', 'F', 'I', 'K', '(', ')', '[', ']', '=', '#', '@', '*', '%', '0', '1', '2', '3', '4', '5', '6', '7', '8', '9', '.', '/', '\\\\', '+', '-', 'c', 'n', 'o', 's', 'p']\n"
   ]
  },
  {
   "cell_type": "code",
   "execution_count": 13,
   "metadata": {},
   "outputs": [
    {
     "data": {
      "text/plain": [
       "502"
      ]
     },
     "execution_count": 13,
     "metadata": {},
     "output_type": "execute_result"
    }
   ],
   "source": [
    "len(smiles)"
   ]
  },
  {
   "cell_type": "code",
   "execution_count": 14,
   "metadata": {},
   "outputs": [],
   "source": [
    "def tokenizer(smiles,table):\n",
    "    tokens_list = []\n",
    "    for smile in smiles:\n",
    "        i = 0\n",
    "        token = []\n",
    "        while i < len(smile):\n",
    "            for j in table:\n",
    "                if j == smile[i:i+len(j)]:\n",
    "                    token.append(j)\n",
    "                    i = i+len(j)\n",
    "                    break\n",
    "        while len(token) < maior_smile:\n",
    "            token.insert(0,\"A\")\n",
    "        tokens_list.append(token)\n",
    "    return tokens_list\n",
    "\n",
    "padded_tokens = tokenizer(smiles,table)\n"
   ]
  },
  {
   "cell_type": "code",
   "execution_count": 15,
   "metadata": {},
   "outputs": [
    {
     "data": {
      "text/plain": [
       "502"
      ]
     },
     "execution_count": 15,
     "metadata": {},
     "output_type": "execute_result"
    }
   ],
   "source": [
    "len(padded_tokens)"
   ]
  },
  {
   "cell_type": "code",
   "execution_count": 16,
   "metadata": {},
   "outputs": [
    {
     "data": {
      "text/plain": [
       "405"
      ]
     },
     "execution_count": 16,
     "metadata": {},
     "output_type": "execute_result"
    }
   ],
   "source": [
    "len(padded_tokens[0])"
   ]
  },
  {
   "cell_type": "code",
   "execution_count": 17,
   "metadata": {},
   "outputs": [],
   "source": [
    "#Usar integer encoding ao invez de one hot\n",
    "from sklearn.preprocessing import LabelEncoder\n",
    "tokens_encoder = LabelEncoder()\n",
    "table.append(\"A\")\n",
    "tokens_encoder.fit(table)\n",
    "tokens_int_encoded = np.array([tokens_encoder.transform(i) for i in padded_tokens])\n"
   ]
  },
  {
   "cell_type": "code",
   "execution_count": 18,
   "metadata": {},
   "outputs": [
    {
     "data": {
      "text/plain": [
       "array([[21, 21, 21, ..., 10, 11, 26],\n",
       "       [21, 21, 21, ..., 26, 26, 10],\n",
       "       [21, 21, 21, ..., 44, 10, 37],\n",
       "       ...,\n",
       "       [21, 21, 21, ..., 45, 46, 10],\n",
       "       [21, 21, 21, ..., 26, 26, 10],\n",
       "       [21, 21, 21, ..., 45, 45, 10]])"
      ]
     },
     "execution_count": 18,
     "metadata": {},
     "output_type": "execute_result"
    }
   ],
   "source": [
    "tokens_int_encoded"
   ]
  },
  {
   "cell_type": "code",
   "execution_count": 19,
   "metadata": {},
   "outputs": [
    {
     "data": {
      "text/plain": [
       "(502, 405)"
      ]
     },
     "execution_count": 19,
     "metadata": {},
     "output_type": "execute_result"
    }
   ],
   "source": [
    "tokens_int_encoded.shape"
   ]
  },
  {
   "cell_type": "markdown",
   "metadata": {},
   "source": [
    "ADIÇÕES DO TIAGO: FIM"
   ]
  },
  {
   "cell_type": "markdown",
   "metadata": {},
   "source": [
    "\n",
    "3. Holdout: train/test split\n",
    "\n",
    "Depois do processamento, seu banco de dados precisa ser dividio em traino e teste. O Holdout é o ponto de separação. Geralmente os dados são dividos em dados em 70/30. 70% para treino e 30% para teste.\n",
    "\n",
    "Agora as variáveis serão separadas pelos conjuntos criados:\n",
    "\n",
    "X_treino -> 70% dos smiles codificados\n",
    "\n",
    "X_teste -> 30% dos smiles codificados\n",
    "\n",
    "y_treino -> 70% das classes\n",
    "\n",
    "y_teste -> 30% das classes\n",
    "\n",
    "Bibliotecas sugeridas:\n",
    "\n",
    "    numpy\n",
    "    sklearn\n",
    "\n"
   ]
  },
  {
   "cell_type": "code",
   "execution_count": 20,
   "metadata": {},
   "outputs": [],
   "source": [
    "from sklearn.model_selection import train_test_split\n",
    "\n",
    "smiles_train, smiles_test, labels_train, labels_test = train_test_split(\n",
    "    tokens_int_encoded, labels, \n",
    "    test_size=0.30, random_state=42)\n"
   ]
  },
  {
   "cell_type": "markdown",
   "metadata": {},
   "source": [
    "\n",
    "4. Modelo\n",
    "\n",
    "Depois de preparar os dados, precisamos criar um variável que contem nosso modelo. Estude o tensoflow/keras, mais especificamente a função Sequential(), para criação dos modelos.\n",
    "\n",
    "Arquiteturas sugeridas:\n",
    "\n",
    "    MultiLayer Perceptron (MLP)\n",
    "    Convolutional Neural Networks (CNN)\n",
    "\n",
    "Não esqueça de adicionar as métricas precision, recall, accuracy e loss. Para essa ultima, você precisa estudar sobre as funções de perda usadas para classificação binária (0,1).\n",
    "\n",
    "Depois de construído use o método .fit() para treinar seu classificador\n"
   ]
  },
  {
   "cell_type": "code",
   "execution_count": 62,
   "metadata": {},
   "outputs": [],
   "source": [
    "import tensorflow as tf\n",
    "from tensorflow.keras.models import Sequential\n",
    "model = Sequential([\n",
    "    tf.keras.layers.Input(shape = 405,),\n",
    "    tf.keras.layers.Dense(405, activation = 'relu'),\n",
    "    tf.keras.layers.Dense(200, activation = 'relu'),\n",
    "    tf.keras.layers.Dense(1, activation = 'sigmoid')\n",
    "])\n",
    "model.compile(\n",
    "    optimizer='adam',\n",
    "    loss = tf.losses.BinaryCrossentropy(),\n",
    "    metrics = [tf.metrics.BinaryAccuracy(),\n",
    "    tf.metrics.Precision(),\n",
    "    tf.metrics.Recall()]\n",
    "\n",
    ")"
   ]
  },
  {
   "cell_type": "code",
   "execution_count": 63,
   "metadata": {},
   "outputs": [
    {
     "name": "stdout",
     "output_type": "stream",
     "text": [
      "Model: \"sequential_2\"\n",
      "_________________________________________________________________\n",
      " Layer (type)                Output Shape              Param #   \n",
      "=================================================================\n",
      " dense_5 (Dense)             (None, 405)               164430    \n",
      "                                                                 \n",
      " dense_6 (Dense)             (None, 200)               81200     \n",
      "                                                                 \n",
      " dense_7 (Dense)             (None, 1)                 201       \n",
      "                                                                 \n",
      "=================================================================\n",
      "Total params: 245,831\n",
      "Trainable params: 245,831\n",
      "Non-trainable params: 0\n",
      "_________________________________________________________________\n"
     ]
    }
   ],
   "source": [
    "model.summary()"
   ]
  },
  {
   "cell_type": "code",
   "execution_count": 64,
   "metadata": {},
   "outputs": [
    {
     "name": "stdout",
     "output_type": "stream",
     "text": [
      "Epoch 1/100\n",
      "11/11 [==============================] - 1s 25ms/step - loss: 14.1337 - binary_accuracy: 0.4473 - precision_2: 0.5026 - recall_2: 0.4872 - val_loss: 4.6592 - val_binary_accuracy: 0.5364 - val_precision_2: 0.5364 - val_recall_2: 1.0000\n",
      "Epoch 2/100\n",
      "11/11 [==============================] - 0s 4ms/step - loss: 2.4078 - binary_accuracy: 0.5043 - precision_2: 0.5528 - recall_2: 0.5641 - val_loss: 1.5949 - val_binary_accuracy: 0.4503 - val_precision_2: 0.3333 - val_recall_2: 0.0247\n",
      "Epoch 3/100\n",
      "11/11 [==============================] - 0s 4ms/step - loss: 1.5583 - binary_accuracy: 0.5698 - precision_2: 0.6134 - recall_2: 0.6103 - val_loss: 1.8871 - val_binary_accuracy: 0.5364 - val_precision_2: 0.5364 - val_recall_2: 1.0000\n",
      "Epoch 4/100\n",
      "11/11 [==============================] - 0s 4ms/step - loss: 0.8744 - binary_accuracy: 0.5926 - precision_2: 0.6287 - recall_2: 0.6513 - val_loss: 0.9032 - val_binary_accuracy: 0.5894 - val_precision_2: 0.5748 - val_recall_2: 0.9012\n",
      "Epoch 5/100\n",
      "11/11 [==============================] - 0s 4ms/step - loss: 0.7459 - binary_accuracy: 0.6182 - precision_2: 0.6502 - recall_2: 0.6769 - val_loss: 0.7990 - val_binary_accuracy: 0.5762 - val_precision_2: 0.5726 - val_recall_2: 0.8272\n",
      "Epoch 6/100\n",
      "11/11 [==============================] - 0s 4ms/step - loss: 0.7781 - binary_accuracy: 0.6296 - precision_2: 0.6702 - recall_2: 0.6564 - val_loss: 0.8105 - val_binary_accuracy: 0.5762 - val_precision_2: 0.5714 - val_recall_2: 0.8395\n",
      "Epoch 7/100\n",
      "11/11 [==============================] - 0s 4ms/step - loss: 0.6697 - binary_accuracy: 0.7094 - precision_2: 0.7085 - recall_2: 0.8103 - val_loss: 0.9607 - val_binary_accuracy: 0.5166 - val_precision_2: 0.7000 - val_recall_2: 0.1728\n",
      "Epoch 8/100\n",
      "11/11 [==============================] - 0s 4ms/step - loss: 0.5799 - binary_accuracy: 0.7179 - precision_2: 0.7449 - recall_2: 0.7487 - val_loss: 0.7831 - val_binary_accuracy: 0.6225 - val_precision_2: 0.7069 - val_recall_2: 0.5062\n",
      "Epoch 9/100\n",
      "11/11 [==============================] - 0s 4ms/step - loss: 0.6237 - binary_accuracy: 0.6980 - precision_2: 0.7171 - recall_2: 0.7538 - val_loss: 0.7012 - val_binary_accuracy: 0.6358 - val_precision_2: 0.6300 - val_recall_2: 0.7778\n",
      "Epoch 10/100\n",
      "11/11 [==============================] - 0s 4ms/step - loss: 0.4995 - binary_accuracy: 0.7293 - precision_2: 0.7404 - recall_2: 0.7897 - val_loss: 0.6742 - val_binary_accuracy: 0.6490 - val_precision_2: 0.6667 - val_recall_2: 0.6914\n",
      "Epoch 11/100\n",
      "11/11 [==============================] - 0s 4ms/step - loss: 0.5232 - binary_accuracy: 0.7550 - precision_2: 0.7608 - recall_2: 0.8154 - val_loss: 0.6927 - val_binary_accuracy: 0.6424 - val_precision_2: 0.6452 - val_recall_2: 0.7407\n",
      "Epoch 12/100\n",
      "11/11 [==============================] - 0s 4ms/step - loss: 0.4634 - binary_accuracy: 0.7806 - precision_2: 0.7783 - recall_2: 0.8462 - val_loss: 0.8543 - val_binary_accuracy: 0.5563 - val_precision_2: 0.7188 - val_recall_2: 0.2840\n",
      "Epoch 13/100\n",
      "11/11 [==============================] - 0s 4ms/step - loss: 0.8771 - binary_accuracy: 0.6325 - precision_2: 0.6542 - recall_2: 0.7179 - val_loss: 0.6876 - val_binary_accuracy: 0.6623 - val_precision_2: 0.7273 - val_recall_2: 0.5926\n",
      "Epoch 14/100\n",
      "11/11 [==============================] - 0s 4ms/step - loss: 0.8303 - binary_accuracy: 0.6040 - precision_2: 0.6687 - recall_2: 0.5692 - val_loss: 1.1714 - val_binary_accuracy: 0.5563 - val_precision_2: 0.5479 - val_recall_2: 0.9877\n",
      "Epoch 15/100\n",
      "11/11 [==============================] - 0s 4ms/step - loss: 0.7662 - binary_accuracy: 0.6439 - precision_2: 0.6804 - recall_2: 0.6769 - val_loss: 0.6647 - val_binary_accuracy: 0.6424 - val_precision_2: 0.6800 - val_recall_2: 0.6296\n",
      "Epoch 16/100\n",
      "11/11 [==============================] - 0s 4ms/step - loss: 0.7590 - binary_accuracy: 0.6296 - precision_2: 0.6457 - recall_2: 0.7385 - val_loss: 0.8382 - val_binary_accuracy: 0.5960 - val_precision_2: 0.8571 - val_recall_2: 0.2963\n",
      "Epoch 17/100\n",
      "11/11 [==============================] - 0s 4ms/step - loss: 0.7391 - binary_accuracy: 0.6439 - precision_2: 0.7160 - recall_2: 0.5949 - val_loss: 1.0005 - val_binary_accuracy: 0.5695 - val_precision_2: 0.5563 - val_recall_2: 0.9753\n",
      "Epoch 18/100\n",
      "11/11 [==============================] - 0s 4ms/step - loss: 0.6283 - binary_accuracy: 0.6724 - precision_2: 0.6818 - recall_2: 0.7692 - val_loss: 0.6424 - val_binary_accuracy: 0.6556 - val_precision_2: 0.6835 - val_recall_2: 0.6667\n",
      "Epoch 19/100\n",
      "11/11 [==============================] - 0s 4ms/step - loss: 0.4890 - binary_accuracy: 0.7521 - precision_2: 0.7812 - recall_2: 0.7692 - val_loss: 0.7762 - val_binary_accuracy: 0.5960 - val_precision_2: 0.5820 - val_recall_2: 0.8765\n",
      "Epoch 20/100\n",
      "11/11 [==============================] - 0s 4ms/step - loss: 0.4863 - binary_accuracy: 0.7265 - precision_2: 0.7220 - recall_2: 0.8256 - val_loss: 0.6810 - val_binary_accuracy: 0.5828 - val_precision_2: 0.5882 - val_recall_2: 0.7407\n",
      "Epoch 21/100\n",
      "11/11 [==============================] - 0s 4ms/step - loss: 0.4786 - binary_accuracy: 0.7607 - precision_2: 0.7846 - recall_2: 0.7846 - val_loss: 0.7174 - val_binary_accuracy: 0.6026 - val_precision_2: 0.5963 - val_recall_2: 0.8025\n",
      "Epoch 22/100\n",
      "11/11 [==============================] - 0s 4ms/step - loss: 0.4637 - binary_accuracy: 0.7721 - precision_2: 0.7751 - recall_2: 0.8308 - val_loss: 0.7402 - val_binary_accuracy: 0.6556 - val_precision_2: 0.7544 - val_recall_2: 0.5309\n",
      "Epoch 23/100\n",
      "11/11 [==============================] - 0s 5ms/step - loss: 0.5502 - binary_accuracy: 0.7179 - precision_2: 0.7353 - recall_2: 0.7692 - val_loss: 0.6648 - val_binary_accuracy: 0.6291 - val_precision_2: 0.6263 - val_recall_2: 0.7654\n",
      "Epoch 24/100\n",
      "11/11 [==============================] - 0s 4ms/step - loss: 0.4207 - binary_accuracy: 0.8034 - precision_2: 0.8281 - recall_2: 0.8154 - val_loss: 0.6512 - val_binary_accuracy: 0.6689 - val_precision_2: 0.6914 - val_recall_2: 0.6914\n",
      "Epoch 25/100\n",
      "11/11 [==============================] - 0s 4ms/step - loss: 0.3942 - binary_accuracy: 0.8376 - precision_2: 0.8317 - recall_2: 0.8872 - val_loss: 0.6979 - val_binary_accuracy: 0.6093 - val_precision_2: 0.6058 - val_recall_2: 0.7778\n",
      "Epoch 26/100\n",
      "11/11 [==============================] - 0s 4ms/step - loss: 0.3816 - binary_accuracy: 0.8405 - precision_2: 0.8357 - recall_2: 0.8872 - val_loss: 0.6997 - val_binary_accuracy: 0.6424 - val_precision_2: 0.6364 - val_recall_2: 0.7778\n",
      "Epoch 27/100\n",
      "11/11 [==============================] - 0s 4ms/step - loss: 0.3591 - binary_accuracy: 0.8462 - precision_2: 0.8406 - recall_2: 0.8923 - val_loss: 0.7609 - val_binary_accuracy: 0.6093 - val_precision_2: 0.6000 - val_recall_2: 0.8148\n",
      "Epoch 28/100\n",
      "11/11 [==============================] - 0s 4ms/step - loss: 0.4137 - binary_accuracy: 0.8006 - precision_2: 0.8019 - recall_2: 0.8513 - val_loss: 0.6990 - val_binary_accuracy: 0.6556 - val_precision_2: 0.7231 - val_recall_2: 0.5802\n",
      "Epoch 29/100\n",
      "11/11 [==============================] - 0s 4ms/step - loss: 0.3906 - binary_accuracy: 0.8291 - precision_2: 0.8293 - recall_2: 0.8718 - val_loss: 0.6871 - val_binary_accuracy: 0.6623 - val_precision_2: 0.6630 - val_recall_2: 0.7531\n",
      "Epoch 30/100\n",
      "11/11 [==============================] - 0s 4ms/step - loss: 0.4100 - binary_accuracy: 0.7920 - precision_2: 0.7990 - recall_2: 0.8359 - val_loss: 0.6916 - val_binary_accuracy: 0.6623 - val_precision_2: 0.6974 - val_recall_2: 0.6543\n",
      "Epoch 31/100\n",
      "11/11 [==============================] - 0s 4ms/step - loss: 0.3912 - binary_accuracy: 0.7977 - precision_2: 0.7768 - recall_2: 0.8923 - val_loss: 0.9051 - val_binary_accuracy: 0.6358 - val_precision_2: 0.8421 - val_recall_2: 0.3951\n",
      "Epoch 32/100\n",
      "11/11 [==============================] - 0s 4ms/step - loss: 0.4790 - binary_accuracy: 0.7721 - precision_2: 0.7919 - recall_2: 0.8000 - val_loss: 0.6897 - val_binary_accuracy: 0.6424 - val_precision_2: 0.6484 - val_recall_2: 0.7284\n",
      "Epoch 33/100\n",
      "11/11 [==============================] - 0s 4ms/step - loss: 0.3491 - binary_accuracy: 0.8519 - precision_2: 0.8629 - recall_2: 0.8718 - val_loss: 0.7131 - val_binary_accuracy: 0.6689 - val_precision_2: 0.7067 - val_recall_2: 0.6543\n",
      "Epoch 34/100\n",
      "11/11 [==============================] - 0s 4ms/step - loss: 0.3341 - binary_accuracy: 0.8604 - precision_2: 0.8544 - recall_2: 0.9026 - val_loss: 0.6748 - val_binary_accuracy: 0.6954 - val_precision_2: 0.7059 - val_recall_2: 0.7407\n",
      "Epoch 35/100\n",
      "11/11 [==============================] - 0s 4ms/step - loss: 0.3661 - binary_accuracy: 0.8291 - precision_2: 0.8082 - recall_2: 0.9077 - val_loss: 0.7276 - val_binary_accuracy: 0.6623 - val_precision_2: 0.7273 - val_recall_2: 0.5926\n",
      "Epoch 36/100\n",
      "11/11 [==============================] - 0s 5ms/step - loss: 0.3437 - binary_accuracy: 0.8490 - precision_2: 0.8622 - recall_2: 0.8667 - val_loss: 0.7699 - val_binary_accuracy: 0.6424 - val_precision_2: 0.6216 - val_recall_2: 0.8519\n",
      "Epoch 37/100\n",
      "11/11 [==============================] - 0s 4ms/step - loss: 0.3582 - binary_accuracy: 0.8462 - precision_2: 0.8341 - recall_2: 0.9026 - val_loss: 0.8561 - val_binary_accuracy: 0.6026 - val_precision_2: 0.7143 - val_recall_2: 0.4321\n",
      "Epoch 38/100\n",
      "11/11 [==============================] - 0s 4ms/step - loss: 0.3218 - binary_accuracy: 0.8575 - precision_2: 0.8643 - recall_2: 0.8821 - val_loss: 0.7717 - val_binary_accuracy: 0.6490 - val_precision_2: 0.6250 - val_recall_2: 0.8642\n",
      "Epoch 39/100\n",
      "11/11 [==============================] - 0s 4ms/step - loss: 0.3464 - binary_accuracy: 0.8462 - precision_2: 0.8406 - recall_2: 0.8923 - val_loss: 0.7395 - val_binary_accuracy: 0.6755 - val_precision_2: 0.7424 - val_recall_2: 0.6049\n",
      "Epoch 40/100\n",
      "11/11 [==============================] - 0s 4ms/step - loss: 0.4148 - binary_accuracy: 0.8091 - precision_2: 0.8200 - recall_2: 0.8410 - val_loss: 0.7010 - val_binary_accuracy: 0.6954 - val_precision_2: 0.7333 - val_recall_2: 0.6790\n",
      "Epoch 41/100\n",
      "11/11 [==============================] - 0s 4ms/step - loss: 0.2911 - binary_accuracy: 0.8746 - precision_2: 0.8683 - recall_2: 0.9128 - val_loss: 0.7457 - val_binary_accuracy: 0.6755 - val_precision_2: 0.6778 - val_recall_2: 0.7531\n",
      "Epoch 42/100\n",
      "11/11 [==============================] - 0s 4ms/step - loss: 0.2724 - binary_accuracy: 0.8803 - precision_2: 0.8768 - recall_2: 0.9128 - val_loss: 0.7981 - val_binary_accuracy: 0.6755 - val_precision_2: 0.6667 - val_recall_2: 0.7901\n",
      "Epoch 43/100\n",
      "11/11 [==============================] - 0s 4ms/step - loss: 0.2647 - binary_accuracy: 0.8946 - precision_2: 0.8835 - recall_2: 0.9333 - val_loss: 0.7560 - val_binary_accuracy: 0.6954 - val_precision_2: 0.7397 - val_recall_2: 0.6667\n",
      "Epoch 44/100\n",
      "11/11 [==============================] - 0s 4ms/step - loss: 0.2662 - binary_accuracy: 0.8946 - precision_2: 0.8798 - recall_2: 0.9385 - val_loss: 0.7950 - val_binary_accuracy: 0.6689 - val_precision_2: 0.7013 - val_recall_2: 0.6667\n",
      "Epoch 45/100\n",
      "11/11 [==============================] - 0s 4ms/step - loss: 0.2884 - binary_accuracy: 0.8718 - precision_2: 0.8750 - recall_2: 0.8974 - val_loss: 0.7773 - val_binary_accuracy: 0.7086 - val_precision_2: 0.7606 - val_recall_2: 0.6667\n",
      "Epoch 46/100\n",
      "11/11 [==============================] - 0s 4ms/step - loss: 0.2581 - binary_accuracy: 0.8974 - precision_2: 0.8878 - recall_2: 0.9333 - val_loss: 0.8065 - val_binary_accuracy: 0.6689 - val_precision_2: 0.6667 - val_recall_2: 0.7654\n",
      "Epoch 47/100\n",
      "11/11 [==============================] - 0s 4ms/step - loss: 0.2430 - binary_accuracy: 0.9117 - precision_2: 0.9059 - recall_2: 0.9385 - val_loss: 0.7911 - val_binary_accuracy: 0.6755 - val_precision_2: 0.7000 - val_recall_2: 0.6914\n",
      "Epoch 48/100\n",
      "11/11 [==============================] - 0s 4ms/step - loss: 0.2244 - binary_accuracy: 0.9088 - precision_2: 0.9095 - recall_2: 0.9282 - val_loss: 0.8163 - val_binary_accuracy: 0.6821 - val_precision_2: 0.6774 - val_recall_2: 0.7778\n",
      "Epoch 49/100\n",
      "11/11 [==============================] - 0s 4ms/step - loss: 0.2271 - binary_accuracy: 0.8946 - precision_2: 0.8911 - recall_2: 0.9231 - val_loss: 0.9446 - val_binary_accuracy: 0.6358 - val_precision_2: 0.6140 - val_recall_2: 0.8642\n",
      "Epoch 50/100\n",
      "11/11 [==============================] - 0s 4ms/step - loss: 0.2658 - binary_accuracy: 0.8946 - precision_2: 0.8835 - recall_2: 0.9333 - val_loss: 0.7793 - val_binary_accuracy: 0.6887 - val_precision_2: 0.6889 - val_recall_2: 0.7654\n",
      "Epoch 51/100\n",
      "11/11 [==============================] - 0s 4ms/step - loss: 0.2121 - binary_accuracy: 0.9174 - precision_2: 0.9109 - recall_2: 0.9436 - val_loss: 0.8220 - val_binary_accuracy: 0.6954 - val_precision_2: 0.7108 - val_recall_2: 0.7284\n",
      "Epoch 52/100\n",
      "11/11 [==============================] - 0s 4ms/step - loss: 0.2470 - binary_accuracy: 0.9031 - precision_2: 0.8966 - recall_2: 0.9333 - val_loss: 0.7967 - val_binary_accuracy: 0.6887 - val_precision_2: 0.7297 - val_recall_2: 0.6667\n",
      "Epoch 53/100\n",
      "11/11 [==============================] - 0s 4ms/step - loss: 0.2483 - binary_accuracy: 0.9060 - precision_2: 0.8971 - recall_2: 0.9385 - val_loss: 1.0261 - val_binary_accuracy: 0.6358 - val_precision_2: 0.7955 - val_recall_2: 0.4321\n",
      "Epoch 54/100\n",
      "11/11 [==============================] - 0s 4ms/step - loss: 0.2991 - binary_accuracy: 0.8860 - precision_2: 0.8818 - recall_2: 0.9179 - val_loss: 0.8323 - val_binary_accuracy: 0.6689 - val_precision_2: 0.7183 - val_recall_2: 0.6296\n",
      "Epoch 55/100\n",
      "11/11 [==============================] - 0s 4ms/step - loss: 0.2103 - binary_accuracy: 0.9231 - precision_2: 0.9330 - recall_2: 0.9282 - val_loss: 0.9329 - val_binary_accuracy: 0.6225 - val_precision_2: 0.6071 - val_recall_2: 0.8395\n",
      "Epoch 56/100\n",
      "11/11 [==============================] - 0s 4ms/step - loss: 0.2845 - binary_accuracy: 0.8917 - precision_2: 0.8792 - recall_2: 0.9333 - val_loss: 0.8392 - val_binary_accuracy: 0.6821 - val_precision_2: 0.6854 - val_recall_2: 0.7531\n",
      "Epoch 57/100\n",
      "11/11 [==============================] - 0s 4ms/step - loss: 0.2986 - binary_accuracy: 0.8547 - precision_2: 0.8564 - recall_2: 0.8872 - val_loss: 0.8075 - val_binary_accuracy: 0.6490 - val_precision_2: 0.6228 - val_recall_2: 0.8765\n",
      "Epoch 58/100\n",
      "11/11 [==============================] - 0s 4ms/step - loss: 0.2452 - binary_accuracy: 0.8860 - precision_2: 0.8974 - recall_2: 0.8974 - val_loss: 1.0883 - val_binary_accuracy: 0.6026 - val_precision_2: 0.5840 - val_recall_2: 0.9012\n",
      "Epoch 59/100\n",
      "11/11 [==============================] - 0s 4ms/step - loss: 0.3100 - binary_accuracy: 0.8604 - precision_2: 0.8578 - recall_2: 0.8974 - val_loss: 0.8789 - val_binary_accuracy: 0.6424 - val_precision_2: 0.6174 - val_recall_2: 0.8765\n",
      "Epoch 60/100\n",
      "11/11 [==============================] - 0s 4ms/step - loss: 0.2529 - binary_accuracy: 0.8917 - precision_2: 0.8905 - recall_2: 0.9179 - val_loss: 0.8841 - val_binary_accuracy: 0.6556 - val_precision_2: 0.6465 - val_recall_2: 0.7901\n",
      "Epoch 61/100\n",
      "11/11 [==============================] - 0s 4ms/step - loss: 0.2250 - binary_accuracy: 0.9003 - precision_2: 0.8883 - recall_2: 0.9385 - val_loss: 0.8879 - val_binary_accuracy: 0.6887 - val_precision_2: 0.7833 - val_recall_2: 0.5802\n",
      "Epoch 62/100\n",
      "11/11 [==============================] - 0s 4ms/step - loss: 0.2067 - binary_accuracy: 0.9202 - precision_2: 0.9196 - recall_2: 0.9385 - val_loss: 0.8003 - val_binary_accuracy: 0.6954 - val_precision_2: 0.6804 - val_recall_2: 0.8148\n",
      "Epoch 63/100\n",
      "11/11 [==============================] - 0s 4ms/step - loss: 0.1842 - binary_accuracy: 0.9373 - precision_2: 0.9303 - recall_2: 0.9590 - val_loss: 0.9858 - val_binary_accuracy: 0.6887 - val_precision_2: 0.6635 - val_recall_2: 0.8519\n",
      "Epoch 64/100\n",
      "11/11 [==============================] - 0s 5ms/step - loss: 0.2122 - binary_accuracy: 0.9202 - precision_2: 0.9239 - recall_2: 0.9333 - val_loss: 0.8733 - val_binary_accuracy: 0.7152 - val_precision_2: 0.6979 - val_recall_2: 0.8272\n",
      "Epoch 65/100\n",
      "11/11 [==============================] - 0s 4ms/step - loss: 0.2698 - binary_accuracy: 0.8946 - precision_2: 0.9031 - recall_2: 0.9077 - val_loss: 0.7968 - val_binary_accuracy: 0.6755 - val_precision_2: 0.6538 - val_recall_2: 0.8395\n",
      "Epoch 66/100\n",
      "11/11 [==============================] - 0s 4ms/step - loss: 0.2375 - binary_accuracy: 0.9231 - precision_2: 0.9158 - recall_2: 0.9487 - val_loss: 0.9532 - val_binary_accuracy: 0.6689 - val_precision_2: 0.6914 - val_recall_2: 0.6914\n",
      "Epoch 67/100\n",
      "11/11 [==============================] - 0s 4ms/step - loss: 0.2157 - binary_accuracy: 0.9117 - precision_2: 0.8942 - recall_2: 0.9538 - val_loss: 0.9836 - val_binary_accuracy: 0.6755 - val_precision_2: 0.7500 - val_recall_2: 0.5926\n",
      "Epoch 68/100\n",
      "11/11 [==============================] - 0s 4ms/step - loss: 0.2984 - binary_accuracy: 0.8718 - precision_2: 0.8676 - recall_2: 0.9077 - val_loss: 0.8757 - val_binary_accuracy: 0.6887 - val_precision_2: 0.7361 - val_recall_2: 0.6543\n",
      "Epoch 69/100\n",
      "11/11 [==============================] - 0s 4ms/step - loss: 0.2305 - binary_accuracy: 0.8917 - precision_2: 0.8945 - recall_2: 0.9128 - val_loss: 1.0182 - val_binary_accuracy: 0.6556 - val_precision_2: 0.7458 - val_recall_2: 0.5432\n",
      "Epoch 70/100\n",
      "11/11 [==============================] - 0s 4ms/step - loss: 0.2409 - binary_accuracy: 0.9088 - precision_2: 0.9055 - recall_2: 0.9333 - val_loss: 0.8205 - val_binary_accuracy: 0.7086 - val_precision_2: 0.6947 - val_recall_2: 0.8148\n",
      "Epoch 71/100\n",
      "11/11 [==============================] - 0s 4ms/step - loss: 0.2151 - binary_accuracy: 0.9031 - precision_2: 0.8889 - recall_2: 0.9436 - val_loss: 0.8442 - val_binary_accuracy: 0.7020 - val_precision_2: 0.6875 - val_recall_2: 0.8148\n",
      "Epoch 72/100\n",
      "11/11 [==============================] - 0s 4ms/step - loss: 0.2110 - binary_accuracy: 0.9174 - precision_2: 0.9192 - recall_2: 0.9333 - val_loss: 0.8168 - val_binary_accuracy: 0.6755 - val_precision_2: 0.6702 - val_recall_2: 0.7778\n",
      "Epoch 73/100\n",
      "11/11 [==============================] - 0s 4ms/step - loss: 0.2059 - binary_accuracy: 0.9174 - precision_2: 0.9069 - recall_2: 0.9487 - val_loss: 0.7739 - val_binary_accuracy: 0.7020 - val_precision_2: 0.7195 - val_recall_2: 0.7284\n",
      "Epoch 74/100\n",
      "11/11 [==============================] - 0s 4ms/step - loss: 0.1879 - binary_accuracy: 0.9231 - precision_2: 0.9118 - recall_2: 0.9538 - val_loss: 0.8526 - val_binary_accuracy: 0.6954 - val_precision_2: 0.7397 - val_recall_2: 0.6667\n",
      "Epoch 75/100\n",
      "11/11 [==============================] - 0s 4ms/step - loss: 0.2434 - binary_accuracy: 0.9031 - precision_2: 0.9086 - recall_2: 0.9179 - val_loss: 0.8895 - val_binary_accuracy: 0.6821 - val_precision_2: 0.6737 - val_recall_2: 0.7901\n",
      "Epoch 76/100\n",
      "11/11 [==============================] - 0s 4ms/step - loss: 0.2512 - binary_accuracy: 0.9088 - precision_2: 0.9179 - recall_2: 0.9179 - val_loss: 1.1667 - val_binary_accuracy: 0.6159 - val_precision_2: 0.5906 - val_recall_2: 0.9259\n",
      "Epoch 77/100\n",
      "11/11 [==============================] - 0s 4ms/step - loss: 0.2545 - binary_accuracy: 0.8917 - precision_2: 0.8905 - recall_2: 0.9179 - val_loss: 0.9108 - val_binary_accuracy: 0.6887 - val_precision_2: 0.6667 - val_recall_2: 0.8395\n",
      "Epoch 78/100\n",
      "11/11 [==============================] - 0s 4ms/step - loss: 0.2033 - binary_accuracy: 0.9145 - precision_2: 0.9024 - recall_2: 0.9487 - val_loss: 0.9402 - val_binary_accuracy: 0.6821 - val_precision_2: 0.6667 - val_recall_2: 0.8148\n",
      "Epoch 79/100\n",
      "11/11 [==============================] - 0s 4ms/step - loss: 0.1510 - binary_accuracy: 0.9459 - precision_2: 0.9272 - recall_2: 0.9795 - val_loss: 0.8868 - val_binary_accuracy: 0.7020 - val_precision_2: 0.7308 - val_recall_2: 0.7037\n",
      "Epoch 80/100\n",
      "11/11 [==============================] - 0s 4ms/step - loss: 0.4001 - binary_accuracy: 0.8177 - precision_2: 0.8291 - recall_2: 0.8462 - val_loss: 0.7764 - val_binary_accuracy: 0.6821 - val_precision_2: 0.7037 - val_recall_2: 0.7037\n",
      "Epoch 81/100\n",
      "11/11 [==============================] - 0s 4ms/step - loss: 0.3500 - binary_accuracy: 0.8547 - precision_2: 0.8871 - recall_2: 0.8462 - val_loss: 0.7822 - val_binary_accuracy: 0.7152 - val_precision_2: 0.7500 - val_recall_2: 0.7037\n",
      "Epoch 82/100\n",
      "11/11 [==============================] - 0s 4ms/step - loss: 0.2432 - binary_accuracy: 0.8917 - precision_2: 0.8867 - recall_2: 0.9231 - val_loss: 0.8389 - val_binary_accuracy: 0.7086 - val_precision_2: 0.6832 - val_recall_2: 0.8519\n",
      "Epoch 83/100\n",
      "11/11 [==============================] - 0s 5ms/step - loss: 0.3095 - binary_accuracy: 0.8604 - precision_2: 0.8650 - recall_2: 0.8872 - val_loss: 0.8078 - val_binary_accuracy: 0.7152 - val_precision_2: 0.7021 - val_recall_2: 0.8148\n",
      "Epoch 84/100\n",
      "11/11 [==============================] - 0s 4ms/step - loss: 0.2380 - binary_accuracy: 0.9031 - precision_2: 0.9086 - recall_2: 0.9179 - val_loss: 0.8870 - val_binary_accuracy: 0.6821 - val_precision_2: 0.6602 - val_recall_2: 0.8395\n",
      "Epoch 85/100\n",
      "11/11 [==============================] - 0s 4ms/step - loss: 0.2218 - binary_accuracy: 0.9003 - precision_2: 0.8922 - recall_2: 0.9333 - val_loss: 0.8291 - val_binary_accuracy: 0.7086 - val_precision_2: 0.7761 - val_recall_2: 0.6420\n",
      "Epoch 86/100\n",
      "11/11 [==============================] - 0s 4ms/step - loss: 0.1842 - binary_accuracy: 0.9174 - precision_2: 0.9192 - recall_2: 0.9333 - val_loss: 0.7841 - val_binary_accuracy: 0.7219 - val_precision_2: 0.7294 - val_recall_2: 0.7654\n",
      "Epoch 87/100\n",
      "11/11 [==============================] - 0s 4ms/step - loss: 0.1523 - binary_accuracy: 0.9345 - precision_2: 0.9257 - recall_2: 0.9590 - val_loss: 0.9045 - val_binary_accuracy: 0.6954 - val_precision_2: 0.7465 - val_recall_2: 0.6543\n",
      "Epoch 88/100\n",
      "11/11 [==============================] - 0s 4ms/step - loss: 0.1982 - binary_accuracy: 0.9117 - precision_2: 0.9227 - recall_2: 0.9179 - val_loss: 1.0226 - val_binary_accuracy: 0.6689 - val_precision_2: 0.6476 - val_recall_2: 0.8395\n",
      "Epoch 89/100\n",
      "11/11 [==============================] - 0s 4ms/step - loss: 0.1643 - binary_accuracy: 0.9316 - precision_2: 0.9171 - recall_2: 0.9641 - val_loss: 0.8495 - val_binary_accuracy: 0.7152 - val_precision_2: 0.7209 - val_recall_2: 0.7654\n",
      "Epoch 90/100\n",
      "11/11 [==============================] - 0s 4ms/step - loss: 0.1515 - binary_accuracy: 0.9430 - precision_2: 0.9397 - recall_2: 0.9590 - val_loss: 0.8328 - val_binary_accuracy: 0.6755 - val_precision_2: 0.6739 - val_recall_2: 0.7654\n",
      "Epoch 91/100\n",
      "11/11 [==============================] - 0s 4ms/step - loss: 0.1674 - binary_accuracy: 0.9345 - precision_2: 0.9175 - recall_2: 0.9692 - val_loss: 1.0190 - val_binary_accuracy: 0.6755 - val_precision_2: 0.7581 - val_recall_2: 0.5802\n",
      "Epoch 92/100\n",
      "11/11 [==============================] - 0s 4ms/step - loss: 0.2292 - binary_accuracy: 0.8860 - precision_2: 0.8856 - recall_2: 0.9128 - val_loss: 1.0571 - val_binary_accuracy: 0.6159 - val_precision_2: 0.7091 - val_recall_2: 0.4815\n",
      "Epoch 93/100\n",
      "11/11 [==============================] - 0s 4ms/step - loss: 0.2598 - binary_accuracy: 0.9003 - precision_2: 0.9082 - recall_2: 0.9128 - val_loss: 0.9408 - val_binary_accuracy: 0.6623 - val_precision_2: 0.6829 - val_recall_2: 0.6914\n",
      "Epoch 94/100\n",
      "11/11 [==============================] - 0s 4ms/step - loss: 0.2273 - binary_accuracy: 0.9060 - precision_2: 0.9050 - recall_2: 0.9282 - val_loss: 0.9928 - val_binary_accuracy: 0.6623 - val_precision_2: 0.6293 - val_recall_2: 0.9012\n",
      "Epoch 95/100\n",
      "11/11 [==============================] - 0s 4ms/step - loss: 0.2189 - binary_accuracy: 0.9117 - precision_2: 0.8942 - recall_2: 0.9538 - val_loss: 0.9293 - val_binary_accuracy: 0.6887 - val_precision_2: 0.7656 - val_recall_2: 0.6049\n",
      "Epoch 96/100\n",
      "11/11 [==============================] - 0s 4ms/step - loss: 0.1793 - binary_accuracy: 0.9316 - precision_2: 0.9254 - recall_2: 0.9538 - val_loss: 0.9470 - val_binary_accuracy: 0.6424 - val_precision_2: 0.6239 - val_recall_2: 0.8395\n",
      "Epoch 97/100\n",
      "11/11 [==============================] - 0s 4ms/step - loss: 0.2164 - binary_accuracy: 0.9174 - precision_2: 0.9109 - recall_2: 0.9436 - val_loss: 1.0553 - val_binary_accuracy: 0.6887 - val_precision_2: 0.6735 - val_recall_2: 0.8148\n",
      "Epoch 98/100\n",
      "11/11 [==============================] - 0s 4ms/step - loss: 0.1500 - binary_accuracy: 0.9487 - precision_2: 0.9585 - recall_2: 0.9487 - val_loss: 1.0142 - val_binary_accuracy: 0.6623 - val_precision_2: 0.6364 - val_recall_2: 0.8642\n",
      "Epoch 99/100\n",
      "11/11 [==============================] - 0s 4ms/step - loss: 0.3128 - binary_accuracy: 0.8718 - precision_2: 0.8641 - recall_2: 0.9128 - val_loss: 0.9060 - val_binary_accuracy: 0.6556 - val_precision_2: 0.7302 - val_recall_2: 0.5679\n",
      "Epoch 100/100\n",
      "11/11 [==============================] - 0s 4ms/step - loss: 0.2128 - binary_accuracy: 0.9202 - precision_2: 0.9418 - recall_2: 0.9128 - val_loss: 0.8542 - val_binary_accuracy: 0.6954 - val_precision_2: 0.6923 - val_recall_2: 0.7778\n"
     ]
    }
   ],
   "source": [
    "MLP = model.fit(smiles_train,labels_train, epochs=100, verbose =1,validation_data=(smiles_test,labels_test))"
   ]
  },
  {
   "cell_type": "code",
   "execution_count": 65,
   "metadata": {},
   "outputs": [
    {
     "data": {
      "text/plain": [
       "<matplotlib.legend.Legend at 0x7f939d72f9d0>"
      ]
     },
     "execution_count": 65,
     "metadata": {},
     "output_type": "execute_result"
    },
    {
     "data": {
      "image/png": "[encoded data removed]",
      "text/plain": [
       "<Figure size 720x720 with 1 Axes>"
      ]
     },
     "metadata": {
      "needs_background": "light"
     },
     "output_type": "display_data"
    }
   ],
   "source": [
    "import matplotlib.pyplot as plt\n",
    "plt.figure(figsize=(10,10))\n",
    "plt.plot(MLP.history['loss'],label = 'train')\n",
    "plt.plot(MLP.history['val_loss'],label = 'test')\n",
    "plt.legend()\n"
   ]
  },
  {
   "cell_type": "code",
   "execution_count": 66,
   "metadata": {},
   "outputs": [],
   "source": [
    "predictions = np.round(model.predict(smiles_test))"
   ]
  },
  {
   "cell_type": "code",
   "execution_count": 67,
   "metadata": {},
   "outputs": [],
   "source": [
    "from sklearn.metrics import confusion_matrix\n",
    "cm = confusion_matrix(labels_test, predictions)"
   ]
  },
  {
   "cell_type": "code",
   "execution_count": 68,
   "metadata": {},
   "outputs": [],
   "source": [
    "import seaborn as sns\n"
   ]
  },
  {
   "cell_type": "code",
   "execution_count": 69,
   "metadata": {},
   "outputs": [
    {
     "data": {
      "text/plain": [
       "Text(0.5, 15.0, 'PREDICTED')"
      ]
     },
     "execution_count": 69,
     "metadata": {},
     "output_type": "execute_result"
    },
    {
     "data": {
      "image/png": "[encoded data removed]",
      "text/plain": [
       "<Figure size 432x288 with 2 Axes>"
      ]
     },
     "metadata": {
      "needs_background": "light"
     },
     "output_type": "display_data"
    }
   ],
   "source": [
    "sns.heatmap(cm, annot=True,cmap='coolwarm')\n",
    "plt.ylabel(\"TRUE\")\n",
    "plt.xlabel(\"PREDICTED\")"
   ]
  },
  {
   "cell_type": "code",
   "execution_count": 70,
   "metadata": {},
   "outputs": [],
   "source": [
    "tn, fp, fn, tp = confusion_matrix(labels_test, predictions).ravel()"
   ]
  },
  {
   "cell_type": "code",
   "execution_count": 60,
   "metadata": {},
   "outputs": [
    {
     "data": {
      "text/plain": [
       "(0, 70, 0, 81)"
      ]
     },
     "execution_count": 60,
     "metadata": {},
     "output_type": "execute_result"
    }
   ],
   "source": [
    "tn, fp, fn, tp "
   ]
  },
  {
   "cell_type": "code",
   "execution_count": 71,
   "metadata": {},
   "outputs": [
    {
     "data": {
      "text/plain": [
       "0.7777777777777778"
      ]
     },
     "execution_count": 71,
     "metadata": {},
     "output_type": "execute_result"
    }
   ],
   "source": [
    "tp/(tp+fn)"
   ]
  },
  {
   "cell_type": "code",
   "execution_count": null,
   "metadata": {},
   "outputs": [],
   "source": []
  }
 ],
 "metadata": {
  "interpreter": {
   "hash": "3218d1e1345bf85c44ac3e3bdb7899973b22b8c207b0aa6281a3c4896a58620c"
  },
  "kernelspec": {
   "display_name": "Python 3.7.11 ('diversedrl')",
   "language": "python",
   "name": "python3"
  },
  "language_info": {
   "codemirror_mode": {
    "name": "ipython",
    "version": 3
   },
   "file_extension": ".py",
   "mimetype": "text/x-python",
   "name": "python",
   "nbconvert_exporter": "python",
   "pygments_lexer": "ipython3",
   "version": "3.7.11"
  },
  "orig_nbformat": 4
 },
 "nbformat": 4,
 "nbformat_minor": 2
}
