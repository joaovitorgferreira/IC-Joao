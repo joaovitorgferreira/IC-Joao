{
 "cells": [
  {
   "cell_type": "markdown",
   "metadata": {},
   "source": [
    "\n",
    "Classificador\n",
    "1. Importar dados\n",
    "\n",
    "Para criar um classificador formatar os dados da sequinte maneira:\n",
    "\n",
    "moleculas -> uma lista/array com todos os smiles do seu banco de dados\n",
    "\n",
    "classes -> uma lista/array de zeros e uns representando antibiótico e não antibiótico, respectivamente\n",
    "\n",
    "O classificador vai identificar traços das moleculas e associá-los às classes, então cada molécula deverá ter o mesmo índice que sua classe.\n",
    "\n",
    "bibliotecas sugeridas:\n",
    "\n",
    "    pandas\n",
    "    numpy\n",
    "\n"
   ]
  },
  {
   "cell_type": "code",
   "execution_count": 1,
   "metadata": {},
   "outputs": [],
   "source": [
    "import pandas as pd\n",
    "import numpy as np\n",
    "import sklearn as sk\n",
    "\n",
    "#Importar dados\n",
    "df = pd.read_csv('/home/joao/documentos/IC-Joao/classificador/finale_ant.csv',index_col=False)\n",
    "\n",
    "#Definir a coluna das classes\n",
    "labels = np.asarray(df.Classe) #1 para antibiótico, 0 para não antibiótico\n",
    "\n",
    "#Selecionar SMILES sem as classes\n",
    "df_selected = df.drop([\"Classe\",\"coconut_id\",\"Index\"], axis=1)\n",
    "\n",
    "#Codificar classes (não é mais necessário)\n",
    "#from sklearn.preprocessing import LabelEncoder\n",
    "#le = LabelEncoder()\n",
    "#le.fit(labels)\n",
    "\n",
    "#labels = le.transform(labels)"
   ]
  },
  {
   "cell_type": "markdown",
   "metadata": {},
   "source": [
    "\n",
    "2. Processamento dos dados\n",
    "2.1 Encoding/padding\n",
    "\n",
    "Nessa etapa acontece a codificação das moleculas. Pode ser tokens, one hot vector, integer vector. Você decide.\n",
    "\n",
    "É importante que ao final do processamento todos os tokens tenham o mesmo comprimento, então um processo chamado padding precisa ser aplicado.\n",
    "\n",
    "Por convenção as variáveis em machine learning assumem esses nomes:\n",
    "\n",
    "X -> uma lista/array com todos os smiles codificados\n",
    "\n",
    "y -> uma lista/array de zeros e uns representando antibiótico e não antibiótico, respectivamente\n",
    "\n",
    "Bibliotecas sugeridas:\n",
    "\n",
    "    numpy\n",
    "    sklearn\n",
    "\n"
   ]
  },
  {
   "cell_type": "markdown",
   "metadata": {},
   "source": [
    "ADIÇÕES DO TIAGO: INICIO"
   ]
  },
  {
   "cell_type": "code",
   "execution_count": 2,
   "metadata": {},
   "outputs": [],
   "source": [
    "comprimentos = [len(x) for x in df_selected.SMILES.values]"
   ]
  },
  {
   "cell_type": "code",
   "execution_count": 3,
   "metadata": {},
   "outputs": [
    {
     "data": {
      "text/plain": [
       "394"
      ]
     },
     "execution_count": 3,
     "metadata": {},
     "output_type": "execute_result"
    }
   ],
   "source": [
    "maior_smile = np.max(comprimentos)\n",
    "maior_smile"
   ]
  },
  {
   "cell_type": "code",
   "execution_count": 4,
   "metadata": {},
   "outputs": [
    {
     "name": "stderr",
     "output_type": "stream",
     "text": [
      "2022-06-27 15:53:11.525894: W tensorflow/stream_executor/platform/default/dso_loader.cc:64] Could not load dynamic library 'libcudart.so.11.0'; dlerror: libcudart.so.11.0: cannot open shared object file: No such file or directory\n",
      "2022-06-27 15:53:11.525911: I tensorflow/stream_executor/cuda/cudart_stub.cc:29] Ignore above cudart dlerror if you do not have a GPU set up on your machine.\n"
     ]
    }
   ],
   "source": [
    "from tensorflow.keras.preprocessing.sequence import pad_sequences\n",
    "\n",
    "smiles = list(df_selected.SMILES.values)\n",
    "\n",
    "table = ['se','Fe','As','Cl', 'Br', 'Na', 'Li', 'Ca', 'Al', 'Ag', 'Se', 'Mg', 'Zn', 'H', 'B', 'C', 'N', 'O', 'P', 'S', 'F', 'I', 'K', '(', ')', '[', ']', '=', '#', '@', '*', '%', '0', '1', '2', '3', '4', '5', '6', '7', '8', '9', '.', '/', '\\\\', '+', '-', 'c', 'n', 'o', 's', 'p']\n"
   ]
  },
  {
   "cell_type": "code",
   "execution_count": 5,
   "metadata": {},
   "outputs": [
    {
     "data": {
      "text/plain": [
       "4895"
      ]
     },
     "execution_count": 5,
     "metadata": {},
     "output_type": "execute_result"
    }
   ],
   "source": [
    "len(smiles)"
   ]
  },
  {
   "cell_type": "code",
   "execution_count": 6,
   "metadata": {},
   "outputs": [],
   "source": [
    "def tokenizer(smiles,table):\n",
    "    tokens_list = []\n",
    "    #index = 0\n",
    "    for smile in smiles:\n",
    "        #print(index)\n",
    "        i = 0\n",
    "        token = []\n",
    "        while i < len(smile):\n",
    "            for j in table:\n",
    "                if j == smile[i:i+len(j)]:\n",
    "                    token.append(j)\n",
    "                    i = i+len(j)\n",
    "                    break\n",
    "        while len(token) < maior_smile:\n",
    "            token.insert(0,\"A\")\n",
    "        tokens_list.append(token)\n",
    "        #index = index+1\n",
    "    return tokens_list\n",
    "\n",
    "padded_tokens = tokenizer(smiles,table)\n"
   ]
  },
  {
   "cell_type": "code",
   "execution_count": 7,
   "metadata": {},
   "outputs": [
    {
     "data": {
      "text/plain": [
       "4895"
      ]
     },
     "execution_count": 7,
     "metadata": {},
     "output_type": "execute_result"
    }
   ],
   "source": [
    "len(padded_tokens)"
   ]
  },
  {
   "cell_type": "code",
   "execution_count": 8,
   "metadata": {},
   "outputs": [
    {
     "data": {
      "text/plain": [
       "394"
      ]
     },
     "execution_count": 8,
     "metadata": {},
     "output_type": "execute_result"
    }
   ],
   "source": [
    "len(padded_tokens[0])"
   ]
  },
  {
   "cell_type": "code",
   "execution_count": 9,
   "metadata": {},
   "outputs": [],
   "source": [
    "#Usar integer encoding ao invez de one hot\n",
    "from sklearn.preprocessing import LabelEncoder\n",
    "tokens_encoder = LabelEncoder()\n",
    "table.append(\"A\")\n",
    "tokens_encoder.fit(table)\n",
    "tokens_int_encoded = np.array([tokens_encoder.transform(i) for i in padded_tokens])\n"
   ]
  },
  {
   "cell_type": "code",
   "execution_count": 10,
   "metadata": {},
   "outputs": [
    {
     "data": {
      "text/plain": [
       "array([[21, 21, 21, ..., 39,  3, 27],\n",
       "       [21, 21, 21, ..., 39,  3, 27],\n",
       "       [21, 21, 21, ..., 27, 37, 27],\n",
       "       ...,\n",
       "       [21, 21, 21, ...,  3, 27, 27],\n",
       "       [21, 21, 21, ..., 27,  3, 27],\n",
       "       [21, 21, 21, ..., 27,  3, 27]])"
      ]
     },
     "execution_count": 10,
     "metadata": {},
     "output_type": "execute_result"
    }
   ],
   "source": [
    "tokens_int_encoded"
   ]
  },
  {
   "cell_type": "code",
   "execution_count": 11,
   "metadata": {},
   "outputs": [
    {
     "data": {
      "text/plain": [
       "(4895, 394)"
      ]
     },
     "execution_count": 11,
     "metadata": {},
     "output_type": "execute_result"
    }
   ],
   "source": [
    "tokens_int_encoded.shape"
   ]
  },
  {
   "cell_type": "markdown",
   "metadata": {},
   "source": [
    "ADIÇÕES DO TIAGO: FIM"
   ]
  },
  {
   "cell_type": "markdown",
   "metadata": {},
   "source": [
    "\n",
    "3. Holdout: train/test split\n",
    "\n",
    "Depois do processamento, seu banco de dados precisa ser dividio em traino e teste. O Holdout é o ponto de separação. Geralmente os dados são dividos em dados em 70/30. 70% para treino e 30% para teste.\n",
    "\n",
    "Agora as variáveis serão separadas pelos conjuntos criados:\n",
    "\n",
    "X_treino -> 70% dos smiles codificados\n",
    "\n",
    "X_teste -> 30% dos smiles codificados\n",
    "\n",
    "y_treino -> 70% das classes\n",
    "\n",
    "y_teste -> 30% das classes\n",
    "\n",
    "Bibliotecas sugeridas:\n",
    "\n",
    "    numpy\n",
    "    sklearn\n",
    "\n"
   ]
  },
  {
   "cell_type": "code",
   "execution_count": 12,
   "metadata": {},
   "outputs": [],
   "source": [
    "from sklearn.model_selection import train_test_split\n",
    "\n",
    "smiles_train, smiles_test, labels_train, labels_test = train_test_split(\n",
    "    tokens_int_encoded, labels, \n",
    "    test_size=0.30, random_state=42)\n"
   ]
  },
  {
   "cell_type": "markdown",
   "metadata": {},
   "source": [
    "\n",
    "4. Modelo\n",
    "\n",
    "Depois de preparar os dados, precisamos criar um variável que contem nosso modelo. Estude o tensoflow/keras, mais especificamente a função Sequential(), para criação dos modelos.\n",
    "\n",
    "Arquiteturas sugeridas:\n",
    "\n",
    "    MultiLayer Perceptron (MLP)\n",
    "    Convolutional Neural Networks (CNN)\n",
    "\n",
    "Não esqueça de adicionar as métricas precision, recall, accuracy e loss. Para essa ultima, você precisa estudar sobre as funções de perda usadas para classificação binária (0,1).\n",
    "\n",
    "Depois de construído use o método .fit() para treinar seu classificador\n"
   ]
  },
  {
   "cell_type": "code",
   "execution_count": 13,
   "metadata": {},
   "outputs": [
    {
     "name": "stderr",
     "output_type": "stream",
     "text": [
      "2022-06-27 15:53:21.466195: W tensorflow/stream_executor/platform/default/dso_loader.cc:64] Could not load dynamic library 'libcuda.so.1'; dlerror: libcuda.so.1: cannot open shared object file: No such file or directory\n",
      "2022-06-27 15:53:21.466216: W tensorflow/stream_executor/cuda/cuda_driver.cc:269] failed call to cuInit: UNKNOWN ERROR (303)\n",
      "2022-06-27 15:53:21.466233: I tensorflow/stream_executor/cuda/cuda_diagnostics.cc:156] kernel driver does not appear to be running on this host (seriema): /proc/driver/nvidia/version does not exist\n",
      "2022-06-27 15:53:21.466376: I tensorflow/core/platform/cpu_feature_guard.cc:151] This TensorFlow binary is optimized with oneAPI Deep Neural Network Library (oneDNN) to use the following CPU instructions in performance-critical operations:  AVX2 FMA\n",
      "To enable them in other operations, rebuild TensorFlow with the appropriate compiler flags.\n"
     ]
    }
   ],
   "source": [
    "import tensorflow as tf\n",
    "from tensorflow.keras.models import Sequential\n",
    "model = Sequential([\n",
    "    tf.keras.layers.Input(shape = 394,),\n",
    "    tf.keras.layers.Dense(350, activation = 'relu'),\n",
    "    tf.keras.layers.Dense(200, activation = 'relu'),\n",
    "    #tf.keras.layers.Dense(100, activation = 'relu'),\n",
    "    tf.keras.layers.Dense(1, activation = 'sigmoid')\n",
    "])\n",
    "model.compile(\n",
    "    optimizer='adam',\n",
    "    loss = tf.losses.BinaryCrossentropy(),\n",
    "    metrics = [tf.metrics.BinaryAccuracy(),\n",
    "    tf.metrics.Precision(),\n",
    "    tf.metrics.Recall()]\n",
    "\n",
    ")"
   ]
  },
  {
   "cell_type": "code",
   "execution_count": 14,
   "metadata": {},
   "outputs": [
    {
     "name": "stdout",
     "output_type": "stream",
     "text": [
      "Model: \"sequential\"\n",
      "_________________________________________________________________\n",
      " Layer (type)                Output Shape              Param #   \n",
      "=================================================================\n",
      " dense (Dense)               (None, 350)               138250    \n",
      "                                                                 \n",
      " dense_1 (Dense)             (None, 200)               70200     \n",
      "                                                                 \n",
      " dense_2 (Dense)             (None, 1)                 201       \n",
      "                                                                 \n",
      "=================================================================\n",
      "Total params: 208,651\n",
      "Trainable params: 208,651\n",
      "Non-trainable params: 0\n",
      "_________________________________________________________________\n"
     ]
    }
   ],
   "source": [
    "model.summary()"
   ]
  },
  {
   "cell_type": "code",
   "execution_count": 15,
   "metadata": {},
   "outputs": [
    {
     "data": {
      "text/plain": [
       "array([1, 1, 0, ..., 0, 0, 0])"
      ]
     },
     "execution_count": 15,
     "metadata": {},
     "output_type": "execute_result"
    }
   ],
   "source": [
    "labels_test"
   ]
  },
  {
   "cell_type": "code",
   "execution_count": 16,
   "metadata": {},
   "outputs": [
    {
     "name": "stdout",
     "output_type": "stream",
     "text": [
      "Epoch 1/100\n",
      "108/108 [==============================] - 1s 3ms/step - loss: 2.1822 - binary_accuracy: 0.8392 - precision: 0.1221 - recall: 0.0907 - val_loss: 0.3384 - val_binary_accuracy: 0.8836 - val_precision: 0.5000 - val_recall: 0.0643\n",
      "Epoch 2/100\n",
      "108/108 [==============================] - 0s 1ms/step - loss: 0.4805 - binary_accuracy: 0.8701 - precision: 0.2356 - recall: 0.1161 - val_loss: 0.5645 - val_binary_accuracy: 0.8829 - val_precision: 0.0000e+00 - val_recall: 0.0000e+00\n",
      "Epoch 3/100\n",
      "108/108 [==============================] - 0s 1ms/step - loss: 0.3017 - binary_accuracy: 0.8958 - precision: 0.4722 - recall: 0.0963 - val_loss: 0.3003 - val_binary_accuracy: 0.8856 - val_precision: 0.5714 - val_recall: 0.0702\n",
      "Epoch 4/100\n",
      "108/108 [==============================] - 0s 1ms/step - loss: 0.2820 - binary_accuracy: 0.8990 - precision: 0.5376 - recall: 0.1416 - val_loss: 0.2977 - val_binary_accuracy: 0.8850 - val_precision: 0.5208 - val_recall: 0.1462\n",
      "Epoch 5/100\n",
      "108/108 [==============================] - 0s 1ms/step - loss: 0.3374 - binary_accuracy: 0.8938 - precision: 0.4586 - recall: 0.1728 - val_loss: 0.3794 - val_binary_accuracy: 0.8822 - val_precision: 0.0000e+00 - val_recall: 0.0000e+00\n",
      "Epoch 6/100\n",
      "108/108 [==============================] - 0s 1ms/step - loss: 0.2941 - binary_accuracy: 0.8996 - precision: 0.5529 - recall: 0.1331 - val_loss: 0.3866 - val_binary_accuracy: 0.8448 - val_precision: 0.3649 - val_recall: 0.4503\n",
      "Epoch 7/100\n",
      "108/108 [==============================] - 0s 2ms/step - loss: 0.3044 - binary_accuracy: 0.8943 - precision: 0.4458 - recall: 0.1048 - val_loss: 0.3885 - val_binary_accuracy: 0.8850 - val_precision: 1.0000 - val_recall: 0.0117\n",
      "Epoch 8/100\n",
      "108/108 [==============================] - 0s 1ms/step - loss: 0.2729 - binary_accuracy: 0.9043 - precision: 0.6471 - recall: 0.1558 - val_loss: 0.3071 - val_binary_accuracy: 0.8829 - val_precision: 0.4815 - val_recall: 0.0760\n",
      "Epoch 9/100\n",
      "108/108 [==============================] - 0s 1ms/step - loss: 0.2648 - binary_accuracy: 0.9040 - precision: 0.6176 - recall: 0.1785 - val_loss: 0.3889 - val_binary_accuracy: 0.8829 - val_precision: 0.4000 - val_recall: 0.0117\n",
      "Epoch 10/100\n",
      "108/108 [==============================] - 0s 1ms/step - loss: 0.2860 - binary_accuracy: 0.8984 - precision: 0.5263 - recall: 0.1416 - val_loss: 0.3320 - val_binary_accuracy: 0.8829 - val_precision: 0.4286 - val_recall: 0.0175\n",
      "Epoch 11/100\n",
      "108/108 [==============================] - 0s 1ms/step - loss: 0.2625 - binary_accuracy: 0.9048 - precision: 0.6392 - recall: 0.1756 - val_loss: 0.3297 - val_binary_accuracy: 0.8816 - val_precision: 0.2857 - val_recall: 0.0117\n",
      "Epoch 12/100\n",
      "108/108 [==============================] - 0s 1ms/step - loss: 0.2633 - binary_accuracy: 0.9040 - precision: 0.6200 - recall: 0.1756 - val_loss: 0.5213 - val_binary_accuracy: 0.7284 - val_precision: 0.2409 - val_recall: 0.6199\n",
      "Epoch 13/100\n",
      "108/108 [==============================] - 0s 1ms/step - loss: 0.2749 - binary_accuracy: 0.9031 - precision: 0.6235 - recall: 0.1501 - val_loss: 0.3079 - val_binary_accuracy: 0.8788 - val_precision: 0.4364 - val_recall: 0.1404\n",
      "Epoch 14/100\n",
      "108/108 [==============================] - 0s 1ms/step - loss: 0.2555 - binary_accuracy: 0.9066 - precision: 0.6602 - recall: 0.1926 - val_loss: 0.3498 - val_binary_accuracy: 0.8843 - val_precision: 0.5714 - val_recall: 0.0234\n",
      "Epoch 15/100\n",
      "108/108 [==============================] - 0s 1ms/step - loss: 0.2664 - binary_accuracy: 0.9048 - precision: 0.6337 - recall: 0.1813 - val_loss: 0.3195 - val_binary_accuracy: 0.8775 - val_precision: 0.4494 - val_recall: 0.2339\n",
      "Epoch 16/100\n",
      "108/108 [==============================] - 0s 1ms/step - loss: 0.2724 - binary_accuracy: 0.9025 - precision: 0.6203 - recall: 0.1388 - val_loss: 0.3354 - val_binary_accuracy: 0.8836 - val_precision: 0.5000 - val_recall: 0.0409\n",
      "Epoch 17/100\n",
      "108/108 [==============================] - 0s 1ms/step - loss: 0.2539 - binary_accuracy: 0.9040 - precision: 0.6176 - recall: 0.1785 - val_loss: 0.3978 - val_binary_accuracy: 0.8836 - val_precision: 0.5000 - val_recall: 0.0175\n",
      "Epoch 18/100\n",
      "108/108 [==============================] - 0s 1ms/step - loss: 0.2522 - binary_accuracy: 0.9031 - precision: 0.5827 - recall: 0.2096 - val_loss: 0.3299 - val_binary_accuracy: 0.8850 - val_precision: 0.5455 - val_recall: 0.0702\n",
      "Epoch 19/100\n",
      "108/108 [==============================] - 0s 1ms/step - loss: 0.2535 - binary_accuracy: 0.9016 - precision: 0.5690 - recall: 0.1870 - val_loss: 0.4076 - val_binary_accuracy: 0.8843 - val_precision: 0.6667 - val_recall: 0.0117\n",
      "Epoch 20/100\n",
      "108/108 [==============================] - 0s 1ms/step - loss: 0.2439 - binary_accuracy: 0.9133 - precision: 0.7258 - recall: 0.2550 - val_loss: 0.3103 - val_binary_accuracy: 0.8863 - val_precision: 0.5556 - val_recall: 0.1170\n",
      "Epoch 21/100\n",
      "108/108 [==============================] - 0s 1ms/step - loss: 0.2435 - binary_accuracy: 0.9069 - precision: 0.6574 - recall: 0.2011 - val_loss: 0.3072 - val_binary_accuracy: 0.8911 - val_precision: 0.5932 - val_recall: 0.2047\n",
      "Epoch 22/100\n",
      "108/108 [==============================] - 0s 1ms/step - loss: 0.2465 - binary_accuracy: 0.9016 - precision: 0.5580 - recall: 0.2181 - val_loss: 0.3634 - val_binary_accuracy: 0.8877 - val_precision: 0.7500 - val_recall: 0.0526\n",
      "Epoch 23/100\n",
      "108/108 [==============================] - 0s 1ms/step - loss: 0.2719 - binary_accuracy: 0.9013 - precision: 0.6230 - recall: 0.1076 - val_loss: 0.3434 - val_binary_accuracy: 0.8836 - val_precision: 0.5000 - val_recall: 0.0526\n",
      "Epoch 24/100\n",
      "108/108 [==============================] - 0s 1ms/step - loss: 0.2612 - binary_accuracy: 0.9016 - precision: 0.6212 - recall: 0.1161 - val_loss: 0.3254 - val_binary_accuracy: 0.8734 - val_precision: 0.4074 - val_recall: 0.1930\n",
      "Epoch 25/100\n",
      "108/108 [==============================] - 0s 2ms/step - loss: 0.2456 - binary_accuracy: 0.9098 - precision: 0.7200 - recall: 0.2040 - val_loss: 0.3227 - val_binary_accuracy: 0.8850 - val_precision: 0.5833 - val_recall: 0.0409\n",
      "Epoch 26/100\n",
      "108/108 [==============================] - 0s 1ms/step - loss: 0.2493 - binary_accuracy: 0.9075 - precision: 0.6698 - recall: 0.2011 - val_loss: 0.4055 - val_binary_accuracy: 0.8836 - val_precision: 0.5000 - val_recall: 0.0058\n",
      "Epoch 27/100\n",
      "108/108 [==============================] - 0s 1ms/step - loss: 0.2593 - binary_accuracy: 0.9048 - precision: 0.6452 - recall: 0.1700 - val_loss: 0.2993 - val_binary_accuracy: 0.8870 - val_precision: 0.5610 - val_recall: 0.1345\n",
      "Epoch 28/100\n",
      "108/108 [==============================] - 0s 1ms/step - loss: 0.2519 - binary_accuracy: 0.9098 - precision: 0.6897 - recall: 0.2266 - val_loss: 0.3214 - val_binary_accuracy: 0.8829 - val_precision: 0.4898 - val_recall: 0.1404\n",
      "Epoch 29/100\n",
      "108/108 [==============================] - 0s 1ms/step - loss: 0.2437 - binary_accuracy: 0.9060 - precision: 0.6667 - recall: 0.1756 - val_loss: 0.3332 - val_binary_accuracy: 0.8890 - val_precision: 0.7000 - val_recall: 0.0819\n",
      "Epoch 30/100\n",
      "108/108 [==============================] - 0s 1ms/step - loss: 0.2455 - binary_accuracy: 0.9081 - precision: 0.6397 - recall: 0.2465 - val_loss: 0.4522 - val_binary_accuracy: 0.8856 - val_precision: 0.6154 - val_recall: 0.0468\n",
      "Epoch 31/100\n",
      "108/108 [==============================] - 0s 1ms/step - loss: 0.2506 - binary_accuracy: 0.9066 - precision: 0.6364 - recall: 0.2181 - val_loss: 0.3263 - val_binary_accuracy: 0.8856 - val_precision: 0.5882 - val_recall: 0.0585\n",
      "Epoch 32/100\n",
      "108/108 [==============================] - 0s 1ms/step - loss: 0.2542 - binary_accuracy: 0.9046 - precision: 0.6327 - recall: 0.1756 - val_loss: 0.2967 - val_binary_accuracy: 0.8856 - val_precision: 0.5306 - val_recall: 0.1520\n",
      "Epoch 33/100\n",
      "108/108 [==============================] - 0s 1ms/step - loss: 0.2435 - binary_accuracy: 0.9060 - precision: 0.6476 - recall: 0.1926 - val_loss: 0.3016 - val_binary_accuracy: 0.8788 - val_precision: 0.4690 - val_recall: 0.3099\n",
      "Epoch 34/100\n",
      "108/108 [==============================] - 0s 1ms/step - loss: 0.2400 - binary_accuracy: 0.9110 - precision: 0.6765 - recall: 0.2606 - val_loss: 0.3113 - val_binary_accuracy: 0.8802 - val_precision: 0.4757 - val_recall: 0.2865\n",
      "Epoch 35/100\n",
      "108/108 [==============================] - 0s 2ms/step - loss: 0.2426 - binary_accuracy: 0.9089 - precision: 0.6376 - recall: 0.2691 - val_loss: 0.3206 - val_binary_accuracy: 0.8870 - val_precision: 0.5472 - val_recall: 0.1696\n",
      "Epoch 36/100\n",
      "108/108 [==============================] - 0s 1ms/step - loss: 0.2592 - binary_accuracy: 0.9060 - precision: 0.6348 - recall: 0.2068 - val_loss: 0.3412 - val_binary_accuracy: 0.8829 - val_precision: 0.4286 - val_recall: 0.0175\n",
      "Epoch 37/100\n",
      "108/108 [==============================] - 0s 1ms/step - loss: 0.2342 - binary_accuracy: 0.9130 - precision: 0.7311 - recall: 0.2465 - val_loss: 0.3103 - val_binary_accuracy: 0.8897 - val_precision: 0.5818 - val_recall: 0.1871\n",
      "Epoch 38/100\n",
      "108/108 [==============================] - 0s 1ms/step - loss: 0.2429 - binary_accuracy: 0.9078 - precision: 0.6391 - recall: 0.2408 - val_loss: 0.3038 - val_binary_accuracy: 0.8843 - val_precision: 0.5060 - val_recall: 0.2456\n",
      "Epoch 39/100\n",
      "108/108 [==============================] - 0s 1ms/step - loss: 0.2516 - binary_accuracy: 0.9063 - precision: 0.6538 - recall: 0.1926 - val_loss: 0.3205 - val_binary_accuracy: 0.8877 - val_precision: 0.7143 - val_recall: 0.0585\n",
      "Epoch 40/100\n",
      "108/108 [==============================] - 0s 1ms/step - loss: 0.2501 - binary_accuracy: 0.9043 - precision: 0.6238 - recall: 0.1785 - val_loss: 0.3036 - val_binary_accuracy: 0.8890 - val_precision: 0.7000 - val_recall: 0.0819\n",
      "Epoch 41/100\n",
      "108/108 [==============================] - 0s 1ms/step - loss: 0.2474 - binary_accuracy: 0.9037 - precision: 0.6322 - recall: 0.1558 - val_loss: 0.3001 - val_binary_accuracy: 0.8931 - val_precision: 0.7692 - val_recall: 0.1170\n",
      "Epoch 42/100\n",
      "108/108 [==============================] - 0s 1ms/step - loss: 0.2419 - binary_accuracy: 0.9060 - precision: 0.6535 - recall: 0.1870 - val_loss: 0.3276 - val_binary_accuracy: 0.8918 - val_precision: 0.7500 - val_recall: 0.1053\n",
      "Epoch 43/100\n",
      "108/108 [==============================] - 0s 1ms/step - loss: 0.2677 - binary_accuracy: 0.8961 - precision: 0.4899 - recall: 0.2068 - val_loss: 0.3126 - val_binary_accuracy: 0.8904 - val_precision: 0.7778 - val_recall: 0.0819\n",
      "Epoch 44/100\n",
      "108/108 [==============================] - 0s 1ms/step - loss: 0.2478 - binary_accuracy: 0.8993 - precision: 0.5588 - recall: 0.1076 - val_loss: 0.2995 - val_binary_accuracy: 0.8809 - val_precision: 0.4524 - val_recall: 0.1111\n",
      "Epoch 45/100\n",
      "108/108 [==============================] - 0s 1ms/step - loss: 0.2426 - binary_accuracy: 0.9037 - precision: 0.6322 - recall: 0.1558 - val_loss: 0.3283 - val_binary_accuracy: 0.8618 - val_precision: 0.4024 - val_recall: 0.3860\n",
      "Epoch 46/100\n",
      "108/108 [==============================] - 0s 1ms/step - loss: 0.2394 - binary_accuracy: 0.9019 - precision: 0.5752 - recall: 0.1841 - val_loss: 0.3295 - val_binary_accuracy: 0.8877 - val_precision: 0.7500 - val_recall: 0.0526\n",
      "Epoch 47/100\n",
      "108/108 [==============================] - 0s 1ms/step - loss: 0.2458 - binary_accuracy: 0.9046 - precision: 0.6204 - recall: 0.1898 - val_loss: 0.3173 - val_binary_accuracy: 0.8863 - val_precision: 0.6250 - val_recall: 0.0585\n",
      "Epoch 48/100\n",
      "108/108 [==============================] - 0s 2ms/step - loss: 0.2357 - binary_accuracy: 0.9066 - precision: 0.6299 - recall: 0.2266 - val_loss: 0.3120 - val_binary_accuracy: 0.8863 - val_precision: 0.5312 - val_recall: 0.1988\n",
      "Epoch 49/100\n",
      "108/108 [==============================] - 0s 1ms/step - loss: 0.2479 - binary_accuracy: 0.9040 - precision: 0.6091 - recall: 0.1898 - val_loss: 0.3215 - val_binary_accuracy: 0.8877 - val_precision: 0.8750 - val_recall: 0.0409\n",
      "Epoch 50/100\n",
      "108/108 [==============================] - 0s 1ms/step - loss: 0.2408 - binary_accuracy: 0.9063 - precision: 0.6176 - recall: 0.2380 - val_loss: 0.3194 - val_binary_accuracy: 0.8863 - val_precision: 0.6667 - val_recall: 0.0468\n",
      "Epoch 51/100\n",
      "108/108 [==============================] - 0s 1ms/step - loss: 0.2378 - binary_accuracy: 0.9054 - precision: 0.6239 - recall: 0.2068 - val_loss: 0.3056 - val_binary_accuracy: 0.8843 - val_precision: 0.5116 - val_recall: 0.1287\n",
      "Epoch 52/100\n",
      "108/108 [==============================] - 0s 2ms/step - loss: 0.2347 - binary_accuracy: 0.9095 - precision: 0.6443 - recall: 0.2720 - val_loss: 0.3097 - val_binary_accuracy: 0.8707 - val_precision: 0.4326 - val_recall: 0.3567\n",
      "Epoch 53/100\n",
      "108/108 [==============================] - 0s 1ms/step - loss: 0.2440 - binary_accuracy: 0.9051 - precision: 0.5959 - recall: 0.2465 - val_loss: 0.3403 - val_binary_accuracy: 0.8639 - val_precision: 0.4088 - val_recall: 0.3801\n",
      "Epoch 54/100\n",
      "108/108 [==============================] - 0s 2ms/step - loss: 0.2490 - binary_accuracy: 0.9025 - precision: 0.6022 - recall: 0.1586 - val_loss: 0.3226 - val_binary_accuracy: 0.8897 - val_precision: 0.7368 - val_recall: 0.0819\n",
      "Epoch 55/100\n",
      "108/108 [==============================] - 0s 1ms/step - loss: 0.2434 - binary_accuracy: 0.9066 - precision: 0.6222 - recall: 0.2380 - val_loss: 0.2964 - val_binary_accuracy: 0.8850 - val_precision: 0.5143 - val_recall: 0.2105\n",
      "Epoch 56/100\n",
      "108/108 [==============================] - 0s 1ms/step - loss: 0.2379 - binary_accuracy: 0.9081 - precision: 0.6080 - recall: 0.3031 - val_loss: 0.3196 - val_binary_accuracy: 0.8884 - val_precision: 0.5897 - val_recall: 0.1345\n",
      "Epoch 57/100\n",
      "108/108 [==============================] - 0s 1ms/step - loss: 0.2430 - binary_accuracy: 0.9031 - precision: 0.5963 - recall: 0.1841 - val_loss: 0.3069 - val_binary_accuracy: 0.8850 - val_precision: 0.5217 - val_recall: 0.1404\n",
      "Epoch 58/100\n",
      "108/108 [==============================] - 0s 1ms/step - loss: 0.2508 - binary_accuracy: 0.9040 - precision: 0.5968 - recall: 0.2096 - val_loss: 0.3257 - val_binary_accuracy: 0.8897 - val_precision: 0.7143 - val_recall: 0.0877\n",
      "Epoch 59/100\n",
      "108/108 [==============================] - 0s 1ms/step - loss: 0.2369 - binary_accuracy: 0.9078 - precision: 0.6331 - recall: 0.2493 - val_loss: 0.3199 - val_binary_accuracy: 0.8863 - val_precision: 0.5476 - val_recall: 0.1345\n",
      "Epoch 60/100\n",
      "108/108 [==============================] - 0s 1ms/step - loss: 0.2378 - binary_accuracy: 0.9075 - precision: 0.6286 - recall: 0.2493 - val_loss: 0.3030 - val_binary_accuracy: 0.8802 - val_precision: 0.4675 - val_recall: 0.2105\n",
      "Epoch 61/100\n",
      "108/108 [==============================] - 0s 1ms/step - loss: 0.2436 - binary_accuracy: 0.9034 - precision: 0.5902 - recall: 0.2040 - val_loss: 0.3093 - val_binary_accuracy: 0.8863 - val_precision: 0.5476 - val_recall: 0.1345\n",
      "Epoch 62/100\n",
      "108/108 [==============================] - 0s 1ms/step - loss: 0.2327 - binary_accuracy: 0.9101 - precision: 0.6552 - recall: 0.2691 - val_loss: 0.3166 - val_binary_accuracy: 0.8741 - val_precision: 0.4205 - val_recall: 0.2164\n",
      "Epoch 63/100\n",
      "108/108 [==============================] - 0s 1ms/step - loss: 0.2515 - binary_accuracy: 0.9057 - precision: 0.5987 - recall: 0.2578 - val_loss: 0.3032 - val_binary_accuracy: 0.8734 - val_precision: 0.4242 - val_recall: 0.2456\n",
      "Epoch 64/100\n",
      "108/108 [==============================] - 0s 2ms/step - loss: 0.2317 - binary_accuracy: 0.9078 - precision: 0.6057 - recall: 0.3003 - val_loss: 0.3432 - val_binary_accuracy: 0.8863 - val_precision: 0.6000 - val_recall: 0.0702\n",
      "Epoch 65/100\n",
      "108/108 [==============================] - 0s 1ms/step - loss: 0.2341 - binary_accuracy: 0.9072 - precision: 0.6174 - recall: 0.2606 - val_loss: 0.3113 - val_binary_accuracy: 0.8843 - val_precision: 0.5098 - val_recall: 0.1520\n",
      "Epoch 66/100\n",
      "108/108 [==============================] - 0s 1ms/step - loss: 0.2298 - binary_accuracy: 0.9104 - precision: 0.6292 - recall: 0.3173 - val_loss: 0.3122 - val_binary_accuracy: 0.8768 - val_precision: 0.4419 - val_recall: 0.2222\n",
      "Epoch 67/100\n",
      "108/108 [==============================] - 0s 1ms/step - loss: 0.2309 - binary_accuracy: 0.9089 - precision: 0.6395 - recall: 0.2663 - val_loss: 0.3027 - val_binary_accuracy: 0.8781 - val_precision: 0.4487 - val_recall: 0.2047\n",
      "Epoch 68/100\n",
      "108/108 [==============================] - 0s 1ms/step - loss: 0.2353 - binary_accuracy: 0.9095 - precision: 0.6569 - recall: 0.2550 - val_loss: 0.3046 - val_binary_accuracy: 0.8822 - val_precision: 0.4828 - val_recall: 0.1637\n",
      "Epoch 69/100\n",
      "108/108 [==============================] - 0s 1ms/step - loss: 0.2317 - binary_accuracy: 0.9098 - precision: 0.6618 - recall: 0.2550 - val_loss: 0.3128 - val_binary_accuracy: 0.8877 - val_precision: 0.6250 - val_recall: 0.0877\n",
      "Epoch 70/100\n",
      "108/108 [==============================] - 0s 1ms/step - loss: 0.2247 - binary_accuracy: 0.9159 - precision: 0.6879 - recall: 0.3371 - val_loss: 0.3131 - val_binary_accuracy: 0.8788 - val_precision: 0.4615 - val_recall: 0.2456\n",
      "Epoch 71/100\n",
      "108/108 [==============================] - 0s 1ms/step - loss: 0.2306 - binary_accuracy: 0.9095 - precision: 0.6547 - recall: 0.2578 - val_loss: 0.3114 - val_binary_accuracy: 0.8850 - val_precision: 0.5185 - val_recall: 0.1637\n",
      "Epoch 72/100\n",
      "108/108 [==============================] - 0s 2ms/step - loss: 0.2356 - binary_accuracy: 0.9116 - precision: 0.6838 - recall: 0.2635 - val_loss: 0.3079 - val_binary_accuracy: 0.8850 - val_precision: 0.5208 - val_recall: 0.1462\n",
      "Epoch 73/100\n",
      "108/108 [==============================] - 0s 1ms/step - loss: 0.2296 - binary_accuracy: 0.9095 - precision: 0.6693 - recall: 0.2408 - val_loss: 0.3197 - val_binary_accuracy: 0.8679 - val_precision: 0.4080 - val_recall: 0.2982\n",
      "Epoch 74/100\n",
      "108/108 [==============================] - 0s 1ms/step - loss: 0.2315 - binary_accuracy: 0.9072 - precision: 0.5967 - recall: 0.3059 - val_loss: 0.3034 - val_binary_accuracy: 0.8781 - val_precision: 0.4608 - val_recall: 0.2749\n",
      "Epoch 75/100\n",
      "108/108 [==============================] - 0s 1ms/step - loss: 0.2219 - binary_accuracy: 0.9136 - precision: 0.6404 - recall: 0.3683 - val_loss: 0.3221 - val_binary_accuracy: 0.8523 - val_precision: 0.3708 - val_recall: 0.3860\n",
      "Epoch 76/100\n",
      "108/108 [==============================] - 0s 1ms/step - loss: 0.2296 - binary_accuracy: 0.9159 - precision: 0.6555 - recall: 0.3881 - val_loss: 0.2977 - val_binary_accuracy: 0.8863 - val_precision: 0.5227 - val_recall: 0.2690\n",
      "Epoch 77/100\n",
      "108/108 [==============================] - 0s 1ms/step - loss: 0.2327 - binary_accuracy: 0.9107 - precision: 0.6205 - recall: 0.3428 - val_loss: 0.3395 - val_binary_accuracy: 0.8843 - val_precision: 1.0000 - val_recall: 0.0058\n",
      "Epoch 78/100\n",
      "108/108 [==============================] - 0s 1ms/step - loss: 0.2501 - binary_accuracy: 0.9040 - precision: 0.6714 - recall: 0.1331 - val_loss: 0.3116 - val_binary_accuracy: 0.8877 - val_precision: 0.8000 - val_recall: 0.0468\n",
      "Epoch 79/100\n",
      "108/108 [==============================] - 0s 1ms/step - loss: 0.2285 - binary_accuracy: 0.9133 - precision: 0.7090 - recall: 0.2691 - val_loss: 0.3146 - val_binary_accuracy: 0.8822 - val_precision: 0.4833 - val_recall: 0.1696\n",
      "Epoch 80/100\n",
      "108/108 [==============================] - 0s 2ms/step - loss: 0.2281 - binary_accuracy: 0.9113 - precision: 0.6960 - recall: 0.2465 - val_loss: 0.3301 - val_binary_accuracy: 0.8884 - val_precision: 0.5556 - val_recall: 0.2047\n",
      "Epoch 81/100\n",
      "108/108 [==============================] - 0s 1ms/step - loss: 0.2413 - binary_accuracy: 0.9034 - precision: 0.5655 - recall: 0.2691 - val_loss: 0.3008 - val_binary_accuracy: 0.8802 - val_precision: 0.4667 - val_recall: 0.2047\n",
      "Epoch 82/100\n",
      "108/108 [==============================] - 0s 1ms/step - loss: 0.2199 - binary_accuracy: 0.9124 - precision: 0.6532 - recall: 0.3201 - val_loss: 0.3018 - val_binary_accuracy: 0.8816 - val_precision: 0.4810 - val_recall: 0.2222\n",
      "Epoch 83/100\n",
      "108/108 [==============================] - 0s 1ms/step - loss: 0.2302 - binary_accuracy: 0.9101 - precision: 0.6923 - recall: 0.2295 - val_loss: 0.3700 - val_binary_accuracy: 0.8911 - val_precision: 0.7619 - val_recall: 0.0936\n",
      "Epoch 84/100\n",
      "108/108 [==============================] - 0s 1ms/step - loss: 0.2724 - binary_accuracy: 0.9081 - precision: 0.7969 - recall: 0.1445 - val_loss: 0.3407 - val_binary_accuracy: 0.8904 - val_precision: 0.7083 - val_recall: 0.0994\n",
      "Epoch 85/100\n",
      "108/108 [==============================] - 0s 1ms/step - loss: 0.2623 - binary_accuracy: 0.9104 - precision: 0.7170 - recall: 0.2153 - val_loss: 0.3949 - val_binary_accuracy: 0.8877 - val_precision: 1.0000 - val_recall: 0.0351\n",
      "Epoch 86/100\n",
      "108/108 [==============================] - 0s 1ms/step - loss: 0.2562 - binary_accuracy: 0.9145 - precision: 0.7419 - recall: 0.2606 - val_loss: 0.3598 - val_binary_accuracy: 0.8836 - val_precision: 0.5000 - val_recall: 0.1462\n",
      "Epoch 87/100\n",
      "108/108 [==============================] - 0s 1ms/step - loss: 0.2351 - binary_accuracy: 0.9145 - precision: 0.6667 - recall: 0.3399 - val_loss: 0.3150 - val_binary_accuracy: 0.8802 - val_precision: 0.4615 - val_recall: 0.1754\n",
      "Epoch 88/100\n",
      "108/108 [==============================] - 0s 2ms/step - loss: 0.2253 - binary_accuracy: 0.9136 - precision: 0.7176 - recall: 0.2663 - val_loss: 0.3218 - val_binary_accuracy: 0.8836 - val_precision: 0.5000 - val_recall: 0.1404\n",
      "Epoch 89/100\n",
      "108/108 [==============================] - 0s 1ms/step - loss: 0.2315 - binary_accuracy: 0.9113 - precision: 0.6899 - recall: 0.2521 - val_loss: 0.3106 - val_binary_accuracy: 0.8809 - val_precision: 0.4688 - val_recall: 0.1754\n",
      "Epoch 90/100\n",
      "108/108 [==============================] - 0s 1ms/step - loss: 0.2233 - binary_accuracy: 0.9101 - precision: 0.6316 - recall: 0.3059 - val_loss: 0.3205 - val_binary_accuracy: 0.8659 - val_precision: 0.4133 - val_recall: 0.3626\n",
      "Epoch 91/100\n",
      "108/108 [==============================] - 0s 1ms/step - loss: 0.2226 - binary_accuracy: 0.9121 - precision: 0.6512 - recall: 0.3173 - val_loss: 0.3069 - val_binary_accuracy: 0.8788 - val_precision: 0.4407 - val_recall: 0.1520\n",
      "Epoch 92/100\n",
      "108/108 [==============================] - 0s 1ms/step - loss: 0.2224 - binary_accuracy: 0.9113 - precision: 0.6296 - recall: 0.3371 - val_loss: 0.3241 - val_binary_accuracy: 0.8816 - val_precision: 0.4571 - val_recall: 0.0936\n",
      "Epoch 93/100\n",
      "108/108 [==============================] - 0s 1ms/step - loss: 0.2239 - binary_accuracy: 0.9121 - precision: 0.6429 - recall: 0.3314 - val_loss: 0.3060 - val_binary_accuracy: 0.8781 - val_precision: 0.4583 - val_recall: 0.2573\n",
      "Epoch 94/100\n",
      "108/108 [==============================] - 0s 1ms/step - loss: 0.2194 - binary_accuracy: 0.9165 - precision: 0.6982 - recall: 0.3343 - val_loss: 0.3438 - val_binary_accuracy: 0.8836 - val_precision: 0.5000 - val_recall: 0.1813\n",
      "Epoch 95/100\n",
      "108/108 [==============================] - 0s 1ms/step - loss: 0.2217 - binary_accuracy: 0.9142 - precision: 0.6648 - recall: 0.3371 - val_loss: 0.4003 - val_binary_accuracy: 0.8863 - val_precision: 0.6667 - val_recall: 0.0468\n",
      "Epoch 96/100\n",
      "108/108 [==============================] - 0s 1ms/step - loss: 0.2294 - binary_accuracy: 0.9083 - precision: 0.6466 - recall: 0.2436 - val_loss: 0.3058 - val_binary_accuracy: 0.8809 - val_precision: 0.4744 - val_recall: 0.2164\n",
      "Epoch 97/100\n",
      "108/108 [==============================] - 0s 1ms/step - loss: 0.2253 - binary_accuracy: 0.9127 - precision: 0.6588 - recall: 0.3173 - val_loss: 0.3351 - val_binary_accuracy: 0.8856 - val_precision: 0.5273 - val_recall: 0.1696\n",
      "Epoch 98/100\n",
      "108/108 [==============================] - 0s 1ms/step - loss: 0.2246 - binary_accuracy: 0.9142 - precision: 0.6686 - recall: 0.3314 - val_loss: 0.3272 - val_binary_accuracy: 0.8693 - val_precision: 0.4255 - val_recall: 0.3509\n",
      "Epoch 99/100\n",
      "108/108 [==============================] - 0s 1ms/step - loss: 0.2282 - binary_accuracy: 0.9104 - precision: 0.6223 - recall: 0.3314 - val_loss: 0.3173 - val_binary_accuracy: 0.8843 - val_precision: 0.5085 - val_recall: 0.1754\n",
      "Epoch 100/100\n",
      "108/108 [==============================] - 0s 2ms/step - loss: 0.2208 - binary_accuracy: 0.9110 - precision: 0.6446 - recall: 0.3031 - val_loss: 0.3569 - val_binary_accuracy: 0.8890 - val_precision: 0.6333 - val_recall: 0.1111\n"
     ]
    }
   ],
   "source": [
    "MLP = model.fit(smiles_train,labels_train, epochs=100, verbose =1,validation_data=(smiles_test,labels_test))"
   ]
  },
  {
   "cell_type": "code",
   "execution_count": 17,
   "metadata": {},
   "outputs": [
    {
     "data": {
      "text/plain": [
       "<matplotlib.legend.Legend at 0x7f61d4a722d0>"
      ]
     },
     "execution_count": 17,
     "metadata": {},
     "output_type": "execute_result"
    },
    {
     "data": {
      "image/png": "[encoded data removed]",
      "text/plain": [
       "<Figure size 720x720 with 1 Axes>"
      ]
     },
     "metadata": {
      "needs_background": "light"
     },
     "output_type": "display_data"
    }
   ],
   "source": [
    "import matplotlib.pyplot as plt\n",
    "plt.figure(figsize=(10,10))\n",
    "plt.plot(MLP.history['loss'],label = 'train')\n",
    "plt.plot(MLP.history['val_loss'],label = 'test')\n",
    "plt.legend()\n"
   ]
  },
  {
   "cell_type": "code",
   "execution_count": 18,
   "metadata": {},
   "outputs": [],
   "source": [
    "predictions = np.round(model.predict(smiles_test))"
   ]
  },
  {
   "cell_type": "code",
   "execution_count": 19,
   "metadata": {},
   "outputs": [],
   "source": [
    "from sklearn.metrics import confusion_matrix\n",
    "cm = confusion_matrix(labels_test, predictions)"
   ]
  },
  {
   "cell_type": "code",
   "execution_count": 20,
   "metadata": {},
   "outputs": [],
   "source": [
    "import seaborn as sns\n"
   ]
  },
  {
   "cell_type": "code",
   "execution_count": 21,
   "metadata": {},
   "outputs": [
    {
     "data": {
      "text/plain": [
       "Text(0.5, 15.0, 'PREDICTED')"
      ]
     },
     "execution_count": 21,
     "metadata": {},
     "output_type": "execute_result"
    },
    {
     "data": {
      "image/png": "[encoded data removed]",
      "text/plain": [
       "<Figure size 432x288 with 2 Axes>"
      ]
     },
     "metadata": {
      "needs_background": "light"
     },
     "output_type": "display_data"
    }
   ],
   "source": [
    "sns.heatmap(cm, annot=True,cmap='coolwarm')\n",
    "plt.ylabel(\"TRUE\")\n",
    "plt.xlabel(\"PREDICTED\")"
   ]
  },
  {
   "cell_type": "code",
   "execution_count": 22,
   "metadata": {},
   "outputs": [],
   "source": [
    "tn, fp, fn, tp = confusion_matrix(labels_test, predictions).ravel()"
   ]
  },
  {
   "cell_type": "code",
   "execution_count": 23,
   "metadata": {},
   "outputs": [
    {
     "data": {
      "text/plain": [
       "(1287, 11, 152, 19)"
      ]
     },
     "execution_count": 23,
     "metadata": {},
     "output_type": "execute_result"
    }
   ],
   "source": [
    "tn, fp, fn, tp "
   ]
  },
  {
   "cell_type": "code",
   "execution_count": 24,
   "metadata": {},
   "outputs": [
    {
     "data": {
      "text/plain": [
       "0.8890401633764465"
      ]
     },
     "execution_count": 24,
     "metadata": {},
     "output_type": "execute_result"
    }
   ],
   "source": [
    "#acurácia\n",
    "(tp+tn)/(tp+tn+fp+fn)"
   ]
  },
  {
   "cell_type": "code",
   "execution_count": 25,
   "metadata": {},
   "outputs": [
    {
     "data": {
      "text/plain": [
       "0.1111111111111111"
      ]
     },
     "execution_count": 25,
     "metadata": {},
     "output_type": "execute_result"
    }
   ],
   "source": [
    "#acerta o que é antibiótico\n",
    "(tp)/(tp+fn)"
   ]
  },
  {
   "cell_type": "code",
   "execution_count": 26,
   "metadata": {},
   "outputs": [
    {
     "data": {
      "text/plain": [
       "0.9915254237288136"
      ]
     },
     "execution_count": 26,
     "metadata": {},
     "output_type": "execute_result"
    }
   ],
   "source": [
    "#acerta o que não é antibiótico\n",
    "(tn)/(tn+fp)"
   ]
  },
  {
   "cell_type": "markdown",
   "metadata": {},
   "source": [
    "Convolucional"
   ]
  },
  {
   "cell_type": "code",
   "execution_count": 27,
   "metadata": {},
   "outputs": [],
   "source": [
    "from tensorflow.keras.layers import Flatten, Dense, Conv1D, MaxPool1D, Dropout"
   ]
  },
  {
   "cell_type": "code",
   "execution_count": 28,
   "metadata": {},
   "outputs": [],
   "source": [
    "CNN = Sequential([\n",
    "    tf.keras.layers.Embedding(input_dim = 394, output_dim = 1, input_length = maior_smile),\n",
    "\n",
    "    tf.keras.layers.Conv1D(filters = 32,kernel_size = 3),  #Conv1\n",
    "    tf.keras.layers.MaxPooling1D(pool_size = 3), \n",
    "\n",
    "    tf.keras.layers.Conv1D(filters = 64,kernel_size = 3),  #Conv2\n",
    "\n",
    "    tf.keras.layers.Conv1D(filters = 128,kernel_size = 3), #Conv3\n",
    "    tf.keras.layers.MaxPooling1D(pool_size = 3),\n",
    "\n",
    "    tf.keras.layers.Conv1D(filters = 256,kernel_size = 3), #Conv4\n",
    "\n",
    "\n",
    "    tf.keras.layers.Conv1D(filters = 256,kernel_size = 3), #Conv5\n",
    "    tf.keras.layers.MaxPooling1D(pool_size = 3),\n",
    "\n",
    "    tf.keras.layers.Conv1D(filters = 256,kernel_size = 3),    #Conv6\n",
    "    tf.keras.layers.MaxPooling1D(pool_size = 3),\n",
    "\n",
    "    tf.keras.layers.Flatten(),\n",
    "    tf.keras.layers.Dropout(0.42),\n",
    "    \n",
    "    tf.keras.layers.Dense(394, activation = \"relu\"),\n",
    "    tf.keras.layers.Dense(250, activation = \"relu\"),\n",
    "\n",
    "    tf.keras.layers.Dense(1, activation = \"sigmoid\")\n",
    "])\n",
    "CNN.compile(\n",
    "    optimizer = tf.optimizers.Adam(),\n",
    "    loss = tf.losses.BinaryCrossentropy(),\n",
    "    metrics = [\n",
    "        tf.metrics.BinaryAccuracy(),\n",
    "        tf.keras.metrics.Precision(),\n",
    "        tf.keras.metrics.Recall()\n",
    "    ]\n",
    ")\n"
   ]
  },
  {
   "cell_type": "code",
   "execution_count": 29,
   "metadata": {},
   "outputs": [
    {
     "name": "stdout",
     "output_type": "stream",
     "text": [
      "Epoch 1/100\n",
      "229/229 [==============================] - 3s 10ms/step - loss: 0.3410 - binary_accuracy: 0.8938 - precision_1: 0.1333 - recall_1: 0.0057 - val_loss: 0.3648 - val_binary_accuracy: 0.8836 - val_precision_1: 0.0000e+00 - val_recall_1: 0.0000e+00\n",
      "Epoch 2/100\n",
      "229/229 [==============================] - 2s 8ms/step - loss: 0.3102 - binary_accuracy: 0.8964 - precision_1: 0.4615 - recall_1: 0.0340 - val_loss: 0.3169 - val_binary_accuracy: 0.8836 - val_precision_1: 0.0000e+00 - val_recall_1: 0.0000e+00\n",
      "Epoch 3/100\n",
      "229/229 [==============================] - 2s 8ms/step - loss: 0.2892 - binary_accuracy: 0.8949 - precision_1: 0.3704 - recall_1: 0.0283 - val_loss: 0.3578 - val_binary_accuracy: 0.8836 - val_precision_1: 0.0000e+00 - val_recall_1: 0.0000e+00\n",
      "Epoch 4/100\n",
      "229/229 [==============================] - 2s 8ms/step - loss: 0.2894 - binary_accuracy: 0.9013 - precision_1: 0.5806 - recall_1: 0.1530 - val_loss: 0.3326 - val_binary_accuracy: 0.8884 - val_precision_1: 0.5479 - val_recall_1: 0.2339\n",
      "Epoch 5/100\n",
      "229/229 [==============================] - 2s 8ms/step - loss: 0.2850 - binary_accuracy: 0.8967 - precision_1: 0.4949 - recall_1: 0.1388 - val_loss: 0.3045 - val_binary_accuracy: 0.8843 - val_precision_1: 0.6667 - val_recall_1: 0.0117\n",
      "Epoch 6/100\n",
      "229/229 [==============================] - 2s 8ms/step - loss: 0.2697 - binary_accuracy: 0.9028 - precision_1: 0.5725 - recall_1: 0.2238 - val_loss: 0.3138 - val_binary_accuracy: 0.8890 - val_precision_1: 0.5455 - val_recall_1: 0.2807\n",
      "Epoch 7/100\n",
      "229/229 [==============================] - 2s 8ms/step - loss: 0.2749 - binary_accuracy: 0.9054 - precision_1: 0.6058 - recall_1: 0.2351 - val_loss: 0.3185 - val_binary_accuracy: 0.8924 - val_precision_1: 0.5970 - val_recall_1: 0.2339\n",
      "Epoch 8/100\n",
      "229/229 [==============================] - 2s 8ms/step - loss: 0.2685 - binary_accuracy: 0.9119 - precision_1: 0.6735 - recall_1: 0.2805 - val_loss: 0.3033 - val_binary_accuracy: 0.8904 - val_precision_1: 0.5521 - val_recall_1: 0.3099\n",
      "Epoch 9/100\n",
      "229/229 [==============================] - 2s 8ms/step - loss: 0.2607 - binary_accuracy: 0.9127 - precision_1: 0.6570 - recall_1: 0.3201 - val_loss: 0.3025 - val_binary_accuracy: 0.8952 - val_precision_1: 0.6735 - val_recall_1: 0.1930\n",
      "Epoch 10/100\n",
      "229/229 [==============================] - 2s 8ms/step - loss: 0.2598 - binary_accuracy: 0.9148 - precision_1: 0.7364 - recall_1: 0.2691 - val_loss: 0.3058 - val_binary_accuracy: 0.8890 - val_precision_1: 0.5357 - val_recall_1: 0.3509\n",
      "Epoch 11/100\n",
      "229/229 [==============================] - 2s 8ms/step - loss: 0.2465 - binary_accuracy: 0.9203 - precision_1: 0.7381 - recall_1: 0.3513 - val_loss: 0.2964 - val_binary_accuracy: 0.8999 - val_precision_1: 0.8529 - val_recall_1: 0.1696\n",
      "Epoch 12/100\n",
      "229/229 [==============================] - 2s 8ms/step - loss: 0.2481 - binary_accuracy: 0.9215 - precision_1: 0.7917 - recall_1: 0.3229 - val_loss: 0.2946 - val_binary_accuracy: 0.8958 - val_precision_1: 0.6406 - val_recall_1: 0.2398\n",
      "Epoch 13/100\n",
      "229/229 [==============================] - 2s 8ms/step - loss: 0.2429 - binary_accuracy: 0.9227 - precision_1: 0.7895 - recall_1: 0.3399 - val_loss: 0.3118 - val_binary_accuracy: 0.8863 - val_precision_1: 0.5303 - val_recall_1: 0.2047\n",
      "Epoch 14/100\n",
      "229/229 [==============================] - 2s 8ms/step - loss: 0.2388 - binary_accuracy: 0.9209 - precision_1: 0.7253 - recall_1: 0.3739 - val_loss: 0.3054 - val_binary_accuracy: 0.8986 - val_precision_1: 0.6528 - val_recall_1: 0.2749\n",
      "Epoch 15/100\n",
      "229/229 [==============================] - 2s 8ms/step - loss: 0.2310 - binary_accuracy: 0.9288 - precision_1: 0.7795 - recall_1: 0.4306 - val_loss: 0.3028 - val_binary_accuracy: 0.8904 - val_precision_1: 0.5543 - val_recall_1: 0.2982\n",
      "Epoch 16/100\n",
      "229/229 [==============================] - 2s 8ms/step - loss: 0.2360 - binary_accuracy: 0.9256 - precision_1: 0.7722 - recall_1: 0.3938 - val_loss: 0.3189 - val_binary_accuracy: 0.8938 - val_precision_1: 0.6027 - val_recall_1: 0.2573\n",
      "Epoch 17/100\n",
      "229/229 [==============================] - 2s 8ms/step - loss: 0.2248 - binary_accuracy: 0.9276 - precision_1: 0.7869 - recall_1: 0.4079 - val_loss: 0.3182 - val_binary_accuracy: 0.8843 - val_precision_1: 0.5041 - val_recall_1: 0.3626\n",
      "Epoch 18/100\n",
      "229/229 [==============================] - 2s 8ms/step - loss: 0.2228 - binary_accuracy: 0.9308 - precision_1: 0.7900 - recall_1: 0.4476 - val_loss: 0.3167 - val_binary_accuracy: 0.8965 - val_precision_1: 0.6508 - val_recall_1: 0.2398\n",
      "Epoch 19/100\n",
      "229/229 [==============================] - 2s 8ms/step - loss: 0.2232 - binary_accuracy: 0.9299 - precision_1: 0.8266 - recall_1: 0.4051 - val_loss: 0.3104 - val_binary_accuracy: 0.9006 - val_precision_1: 0.6761 - val_recall_1: 0.2807\n",
      "Epoch 20/100\n",
      "229/229 [==============================] - 2s 8ms/step - loss: 0.2110 - binary_accuracy: 0.9329 - precision_1: 0.7887 - recall_1: 0.4759 - val_loss: 0.3226 - val_binary_accuracy: 0.8986 - val_precision_1: 0.7895 - val_recall_1: 0.1754\n",
      "Epoch 21/100\n",
      "229/229 [==============================] - 2s 8ms/step - loss: 0.1951 - binary_accuracy: 0.9390 - precision_1: 0.8214 - recall_1: 0.5212 - val_loss: 0.4478 - val_binary_accuracy: 0.8816 - val_precision_1: 0.4912 - val_recall_1: 0.4912\n",
      "Epoch 22/100\n",
      "229/229 [==============================] - 2s 8ms/step - loss: 0.2148 - binary_accuracy: 0.9340 - precision_1: 0.8159 - recall_1: 0.4646 - val_loss: 0.3627 - val_binary_accuracy: 0.8965 - val_precision_1: 0.6418 - val_recall_1: 0.2515\n",
      "Epoch 23/100\n",
      "229/229 [==============================] - 2s 8ms/step - loss: 0.1909 - binary_accuracy: 0.9437 - precision_1: 0.8540 - recall_1: 0.5467 - val_loss: 0.3592 - val_binary_accuracy: 0.8999 - val_precision_1: 0.6429 - val_recall_1: 0.3158\n",
      "Epoch 24/100\n",
      "229/229 [==============================] - 2s 8ms/step - loss: 0.2147 - binary_accuracy: 0.9355 - precision_1: 0.8143 - recall_1: 0.4844 - val_loss: 0.3265 - val_binary_accuracy: 0.8911 - val_precision_1: 0.5604 - val_recall_1: 0.2982\n",
      "Epoch 25/100\n",
      "229/229 [==============================] - 2s 8ms/step - loss: 0.2036 - binary_accuracy: 0.9416 - precision_1: 0.8626 - recall_1: 0.5156 - val_loss: 0.3684 - val_binary_accuracy: 0.8986 - val_precision_1: 0.6341 - val_recall_1: 0.3041\n",
      "Epoch 26/100\n",
      "229/229 [==============================] - 2s 8ms/step - loss: 0.1890 - binary_accuracy: 0.9440 - precision_1: 0.8546 - recall_1: 0.5496 - val_loss: 0.3913 - val_binary_accuracy: 0.8938 - val_precision_1: 0.5824 - val_recall_1: 0.3099\n",
      "Epoch 27/100\n",
      "229/229 [==============================] - 2s 8ms/step - loss: 0.1958 - binary_accuracy: 0.9466 - precision_1: 0.8795 - recall_1: 0.5581 - val_loss: 0.3294 - val_binary_accuracy: 0.8993 - val_precision_1: 0.6825 - val_recall_1: 0.2515\n",
      "Epoch 28/100\n",
      "229/229 [==============================] - 2s 8ms/step - loss: 0.1963 - binary_accuracy: 0.9407 - precision_1: 0.8409 - recall_1: 0.5241 - val_loss: 0.3412 - val_binary_accuracy: 0.8843 - val_precision_1: 0.5038 - val_recall_1: 0.3918\n",
      "Epoch 29/100\n",
      "229/229 [==============================] - 2s 8ms/step - loss: 0.1837 - binary_accuracy: 0.9486 - precision_1: 0.8865 - recall_1: 0.5751 - val_loss: 0.3874 - val_binary_accuracy: 0.8550 - val_precision_1: 0.3929 - val_recall_1: 0.4503\n",
      "Epoch 30/100\n",
      "229/229 [==============================] - 2s 8ms/step - loss: 0.1709 - binary_accuracy: 0.9492 - precision_1: 0.8623 - recall_1: 0.6034 - val_loss: 0.4064 - val_binary_accuracy: 0.8979 - val_precision_1: 0.6040 - val_recall_1: 0.3567\n",
      "Epoch 31/100\n",
      "229/229 [==============================] - 2s 8ms/step - loss: 0.1652 - binary_accuracy: 0.9527 - precision_1: 0.8963 - recall_1: 0.6119 - val_loss: 0.5003 - val_binary_accuracy: 0.9067 - val_precision_1: 0.8036 - val_recall_1: 0.2632\n",
      "Epoch 32/100\n",
      "229/229 [==============================] - 2s 8ms/step - loss: 0.1761 - binary_accuracy: 0.9451 - precision_1: 0.8481 - recall_1: 0.5694 - val_loss: 0.4844 - val_binary_accuracy: 0.8931 - val_precision_1: 0.5761 - val_recall_1: 0.3099\n",
      "Epoch 33/100\n",
      "229/229 [==============================] - 2s 8ms/step - loss: 0.1586 - binary_accuracy: 0.9550 - precision_1: 0.9095 - recall_1: 0.6261 - val_loss: 0.5367 - val_binary_accuracy: 0.8890 - val_precision_1: 0.5377 - val_recall_1: 0.3333\n",
      "Epoch 34/100\n",
      "229/229 [==============================] - 2s 8ms/step - loss: 0.1724 - binary_accuracy: 0.9521 - precision_1: 0.8795 - recall_1: 0.6204 - val_loss: 0.5402 - val_binary_accuracy: 0.8931 - val_precision_1: 0.6000 - val_recall_1: 0.2456\n",
      "Epoch 35/100\n",
      "229/229 [==============================] - 2s 8ms/step - loss: 0.1791 - binary_accuracy: 0.9457 - precision_1: 0.8553 - recall_1: 0.5694 - val_loss: 0.4469 - val_binary_accuracy: 0.8938 - val_precision_1: 0.5773 - val_recall_1: 0.3275\n",
      "Epoch 36/100\n",
      "229/229 [==============================] - 2s 8ms/step - loss: 0.1620 - binary_accuracy: 0.9556 - precision_1: 0.9277 - recall_1: 0.6176 - val_loss: 0.5923 - val_binary_accuracy: 0.8816 - val_precision_1: 0.4870 - val_recall_1: 0.3275\n",
      "Epoch 37/100\n",
      "229/229 [==============================] - 2s 8ms/step - loss: 0.1600 - binary_accuracy: 0.9530 - precision_1: 0.8871 - recall_1: 0.6232 - val_loss: 0.5590 - val_binary_accuracy: 0.8958 - val_precision_1: 0.6154 - val_recall_1: 0.2807\n",
      "Epoch 38/100\n",
      "229/229 [==============================] - 2s 8ms/step - loss: 0.1748 - binary_accuracy: 0.9530 - precision_1: 0.9286 - recall_1: 0.5892 - val_loss: 0.4433 - val_binary_accuracy: 0.8952 - val_precision_1: 0.5810 - val_recall_1: 0.3567\n",
      "Epoch 39/100\n",
      "229/229 [==============================] - 2s 8ms/step - loss: 0.1733 - binary_accuracy: 0.9513 - precision_1: 0.8843 - recall_1: 0.6062 - val_loss: 0.4458 - val_binary_accuracy: 0.8870 - val_precision_1: 0.5373 - val_recall_1: 0.2105\n",
      "Epoch 40/100\n",
      "229/229 [==============================] - 2s 8ms/step - loss: 0.1549 - binary_accuracy: 0.9559 - precision_1: 0.9208 - recall_1: 0.6261 - val_loss: 0.7807 - val_binary_accuracy: 0.8924 - val_precision_1: 0.6182 - val_recall_1: 0.1988\n",
      "Epoch 41/100\n",
      "229/229 [==============================] - 2s 8ms/step - loss: 0.1550 - binary_accuracy: 0.9559 - precision_1: 0.9008 - recall_1: 0.6431 - val_loss: 0.5053 - val_binary_accuracy: 0.8904 - val_precision_1: 0.5568 - val_recall_1: 0.2865\n",
      "Epoch 42/100\n",
      "229/229 [==============================] - 2s 8ms/step - loss: 0.1622 - binary_accuracy: 0.9545 - precision_1: 0.9264 - recall_1: 0.6062 - val_loss: 0.4094 - val_binary_accuracy: 0.8918 - val_precision_1: 0.6034 - val_recall_1: 0.2047\n",
      "Epoch 43/100\n",
      "229/229 [==============================] - 2s 8ms/step - loss: 0.1627 - binary_accuracy: 0.9536 - precision_1: 0.9110 - recall_1: 0.6091 - val_loss: 0.3912 - val_binary_accuracy: 0.8924 - val_precision_1: 0.5867 - val_recall_1: 0.2573\n",
      "Epoch 44/100\n",
      "229/229 [==============================] - 2s 8ms/step - loss: 0.1781 - binary_accuracy: 0.9498 - precision_1: 0.8819 - recall_1: 0.5921 - val_loss: 0.3977 - val_binary_accuracy: 0.9013 - val_precision_1: 0.7407 - val_recall_1: 0.2339\n",
      "Epoch 45/100\n",
      "229/229 [==============================] - 2s 8ms/step - loss: 0.1568 - binary_accuracy: 0.9565 - precision_1: 0.9359 - recall_1: 0.6204 - val_loss: 0.5037 - val_binary_accuracy: 0.8904 - val_precision_1: 0.5431 - val_recall_1: 0.3684\n",
      "Epoch 46/100\n",
      "229/229 [==============================] - 2s 8ms/step - loss: 0.1482 - binary_accuracy: 0.9586 - precision_1: 0.9203 - recall_1: 0.6544 - val_loss: 0.5267 - val_binary_accuracy: 0.8972 - val_precision_1: 0.6250 - val_recall_1: 0.2924\n",
      "Epoch 47/100\n",
      "229/229 [==============================] - 2s 8ms/step - loss: 0.1600 - binary_accuracy: 0.9550 - precision_1: 0.9270 - recall_1: 0.6119 - val_loss: 0.5614 - val_binary_accuracy: 0.8911 - val_precision_1: 0.5524 - val_recall_1: 0.3392\n",
      "Epoch 48/100\n",
      "229/229 [==============================] - 2s 8ms/step - loss: 0.1533 - binary_accuracy: 0.9586 - precision_1: 0.9203 - recall_1: 0.6544 - val_loss: 0.5523 - val_binary_accuracy: 0.8952 - val_precision_1: 0.5955 - val_recall_1: 0.3099\n",
      "Epoch 49/100\n",
      "229/229 [==============================] - 2s 8ms/step - loss: 0.1759 - binary_accuracy: 0.9489 - precision_1: 0.8973 - recall_1: 0.5694 - val_loss: 0.4931 - val_binary_accuracy: 0.8897 - val_precision_1: 0.5506 - val_recall_1: 0.2865\n",
      "Epoch 50/100\n",
      "229/229 [==============================] - 2s 9ms/step - loss: 0.2580 - binary_accuracy: 0.9349 - precision_1: 0.8385 - recall_1: 0.4561 - val_loss: 0.4699 - val_binary_accuracy: 0.8918 - val_precision_1: 0.5566 - val_recall_1: 0.3450\n",
      "Epoch 51/100\n",
      "229/229 [==============================] - 2s 8ms/step - loss: 0.1574 - binary_accuracy: 0.9568 - precision_1: 0.9253 - recall_1: 0.6317 - val_loss: 0.4717 - val_binary_accuracy: 0.8972 - val_precision_1: 0.6282 - val_recall_1: 0.2865\n",
      "Epoch 52/100\n",
      "229/229 [==============================] - 2s 8ms/step - loss: 0.1537 - binary_accuracy: 0.9577 - precision_1: 0.9444 - recall_1: 0.6261 - val_loss: 0.4656 - val_binary_accuracy: 0.8918 - val_precision_1: 0.5600 - val_recall_1: 0.3275\n",
      "Epoch 53/100\n",
      "229/229 [==============================] - 2s 8ms/step - loss: 0.1401 - binary_accuracy: 0.9618 - precision_1: 0.9440 - recall_1: 0.6686 - val_loss: 0.5486 - val_binary_accuracy: 0.8890 - val_precision_1: 0.5364 - val_recall_1: 0.3450\n",
      "Epoch 54/100\n",
      "229/229 [==============================] - 2s 8ms/step - loss: 0.1437 - binary_accuracy: 0.9615 - precision_1: 0.9510 - recall_1: 0.6601 - val_loss: 0.5300 - val_binary_accuracy: 0.8958 - val_precision_1: 0.6216 - val_recall_1: 0.2690\n",
      "Epoch 55/100\n",
      "229/229 [==============================] - 2s 8ms/step - loss: 0.1441 - binary_accuracy: 0.9594 - precision_1: 0.9315 - recall_1: 0.6544 - val_loss: 0.6704 - val_binary_accuracy: 0.8843 - val_precision_1: 0.5037 - val_recall_1: 0.3977\n",
      "Epoch 56/100\n",
      "229/229 [==============================] - 2s 8ms/step - loss: 0.1460 - binary_accuracy: 0.9583 - precision_1: 0.9200 - recall_1: 0.6516 - val_loss: 0.6161 - val_binary_accuracy: 0.8918 - val_precision_1: 0.5612 - val_recall_1: 0.3216\n",
      "Epoch 57/100\n",
      "229/229 [==============================] - 2s 8ms/step - loss: 0.1552 - binary_accuracy: 0.9568 - precision_1: 0.9399 - recall_1: 0.6204 - val_loss: 0.4955 - val_binary_accuracy: 0.8918 - val_precision_1: 0.5909 - val_recall_1: 0.2281\n",
      "Epoch 58/100\n",
      "229/229 [==============================] - 2s 8ms/step - loss: 0.1461 - binary_accuracy: 0.9606 - precision_1: 0.9504 - recall_1: 0.6516 - val_loss: 0.5244 - val_binary_accuracy: 0.8931 - val_precision_1: 0.5673 - val_recall_1: 0.3450\n",
      "Epoch 59/100\n",
      "229/229 [==============================] - 2s 8ms/step - loss: 0.1459 - binary_accuracy: 0.9594 - precision_1: 0.9385 - recall_1: 0.6487 - val_loss: 0.5555 - val_binary_accuracy: 0.8999 - val_precision_1: 0.6818 - val_recall_1: 0.2632\n",
      "Epoch 60/100\n",
      "229/229 [==============================] - 2s 8ms/step - loss: 0.1422 - binary_accuracy: 0.9632 - precision_1: 0.9633 - recall_1: 0.6686 - val_loss: 0.5915 - val_binary_accuracy: 0.8924 - val_precision_1: 0.5631 - val_recall_1: 0.3392\n",
      "Epoch 61/100\n",
      "229/229 [==============================] - 2s 8ms/step - loss: 0.1436 - binary_accuracy: 0.9615 - precision_1: 0.9585 - recall_1: 0.6544 - val_loss: 0.6161 - val_binary_accuracy: 0.8999 - val_precision_1: 0.6579 - val_recall_1: 0.2924\n",
      "Epoch 62/100\n",
      "229/229 [==============================] - 2s 8ms/step - loss: 0.1404 - binary_accuracy: 0.9615 - precision_1: 0.9438 - recall_1: 0.6657 - val_loss: 0.5318 - val_binary_accuracy: 0.8911 - val_precision_1: 0.5505 - val_recall_1: 0.3509\n",
      "Epoch 63/100\n",
      "229/229 [==============================] - 2s 8ms/step - loss: 0.1525 - binary_accuracy: 0.9568 - precision_1: 0.9150 - recall_1: 0.6402 - val_loss: 0.5216 - val_binary_accuracy: 0.8965 - val_precision_1: 0.5941 - val_recall_1: 0.3509\n",
      "Epoch 64/100\n",
      "229/229 [==============================] - 2s 8ms/step - loss: 0.1608 - binary_accuracy: 0.9580 - precision_1: 0.9485 - recall_1: 0.6261 - val_loss: 0.3942 - val_binary_accuracy: 0.8924 - val_precision_1: 0.5844 - val_recall_1: 0.2632\n",
      "Epoch 65/100\n",
      "229/229 [==============================] - 2s 8ms/step - loss: 0.1570 - binary_accuracy: 0.9562 - precision_1: 0.9247 - recall_1: 0.6261 - val_loss: 0.5667 - val_binary_accuracy: 0.9006 - val_precision_1: 0.6712 - val_recall_1: 0.2865\n",
      "Epoch 66/100\n",
      "229/229 [==============================] - 2s 8ms/step - loss: 0.1512 - binary_accuracy: 0.9580 - precision_1: 0.9447 - recall_1: 0.6289 - val_loss: 0.5447 - val_binary_accuracy: 0.8993 - val_precision_1: 0.6353 - val_recall_1: 0.3158\n",
      "Epoch 67/100\n",
      "229/229 [==============================] - 2s 8ms/step - loss: 0.1499 - binary_accuracy: 0.9606 - precision_1: 0.9504 - recall_1: 0.6516 - val_loss: 0.8186 - val_binary_accuracy: 0.8897 - val_precision_1: 0.5652 - val_recall_1: 0.2281\n",
      "Epoch 68/100\n",
      "229/229 [==============================] - 2s 8ms/step - loss: 0.1804 - binary_accuracy: 0.9504 - precision_1: 0.8996 - recall_1: 0.5836 - val_loss: 0.5419 - val_binary_accuracy: 0.8843 - val_precision_1: 0.5049 - val_recall_1: 0.3041\n",
      "Epoch 69/100\n",
      "229/229 [==============================] - 2s 8ms/step - loss: 0.1618 - binary_accuracy: 0.9553 - precision_1: 0.9386 - recall_1: 0.6062 - val_loss: 0.4445 - val_binary_accuracy: 0.8924 - val_precision_1: 0.5684 - val_recall_1: 0.3158\n",
      "Epoch 70/100\n",
      "229/229 [==============================] - 2s 8ms/step - loss: 0.1709 - binary_accuracy: 0.9515 - precision_1: 0.9119 - recall_1: 0.5864 - val_loss: 0.4807 - val_binary_accuracy: 0.8979 - val_precision_1: 0.6296 - val_recall_1: 0.2982\n",
      "Epoch 71/100\n",
      "229/229 [==============================] - 2s 8ms/step - loss: 0.1626 - binary_accuracy: 0.9574 - precision_1: 0.9442 - recall_1: 0.6232 - val_loss: 0.6249 - val_binary_accuracy: 0.8986 - val_precision_1: 0.6410 - val_recall_1: 0.2924\n",
      "Epoch 72/100\n",
      "229/229 [==============================] - 2s 8ms/step - loss: 0.2127 - binary_accuracy: 0.9469 - precision_1: 0.9171 - recall_1: 0.5326 - val_loss: 0.3860 - val_binary_accuracy: 0.8924 - val_precision_1: 0.5783 - val_recall_1: 0.2807\n",
      "Epoch 73/100\n",
      "229/229 [==============================] - 2s 8ms/step - loss: 0.1542 - binary_accuracy: 0.9574 - precision_1: 0.9559 - recall_1: 0.6147 - val_loss: 0.4103 - val_binary_accuracy: 0.9013 - val_precision_1: 0.7097 - val_recall_1: 0.2573\n",
      "Epoch 74/100\n",
      "229/229 [==============================] - 2s 8ms/step - loss: 0.1408 - binary_accuracy: 0.9618 - precision_1: 0.9476 - recall_1: 0.6657 - val_loss: 0.5545 - val_binary_accuracy: 0.8999 - val_precision_1: 0.6364 - val_recall_1: 0.3275\n",
      "Epoch 75/100\n",
      "229/229 [==============================] - 2s 8ms/step - loss: 0.1354 - binary_accuracy: 0.9635 - precision_1: 0.9597 - recall_1: 0.6742 - val_loss: 0.6880 - val_binary_accuracy: 0.8897 - val_precision_1: 0.5378 - val_recall_1: 0.3743\n",
      "Epoch 76/100\n",
      "229/229 [==============================] - 2s 8ms/step - loss: 0.1376 - binary_accuracy: 0.9656 - precision_1: 0.9796 - recall_1: 0.6799 - val_loss: 0.6207 - val_binary_accuracy: 0.9013 - val_precision_1: 0.6625 - val_recall_1: 0.3099\n",
      "Epoch 77/100\n",
      "229/229 [==============================] - 2s 8ms/step - loss: 0.1369 - binary_accuracy: 0.9641 - precision_1: 0.9637 - recall_1: 0.6771 - val_loss: 0.6977 - val_binary_accuracy: 0.9006 - val_precision_1: 0.7358 - val_recall_1: 0.2281\n",
      "Epoch 78/100\n",
      "229/229 [==============================] - 2s 8ms/step - loss: 0.1344 - binary_accuracy: 0.9641 - precision_1: 0.9637 - recall_1: 0.6771 - val_loss: 0.7298 - val_binary_accuracy: 0.8945 - val_precision_1: 0.5784 - val_recall_1: 0.3450\n",
      "Epoch 79/100\n",
      "229/229 [==============================] - 2s 8ms/step - loss: 0.1364 - binary_accuracy: 0.9632 - precision_1: 0.9710 - recall_1: 0.6629 - val_loss: 0.7428 - val_binary_accuracy: 0.9020 - val_precision_1: 0.6667 - val_recall_1: 0.3158\n",
      "Epoch 80/100\n",
      "229/229 [==============================] - 2s 8ms/step - loss: 0.1345 - binary_accuracy: 0.9629 - precision_1: 0.9669 - recall_1: 0.6629 - val_loss: 0.9205 - val_binary_accuracy: 0.8993 - val_precision_1: 0.7170 - val_recall_1: 0.2222\n",
      "Epoch 81/100\n",
      "229/229 [==============================] - 2s 8ms/step - loss: 0.1350 - binary_accuracy: 0.9629 - precision_1: 0.9556 - recall_1: 0.6714 - val_loss: 0.8066 - val_binary_accuracy: 0.8877 - val_precision_1: 0.5242 - val_recall_1: 0.3801\n",
      "Epoch 82/100\n",
      "229/229 [==============================] - 2s 8ms/step - loss: 0.1766 - binary_accuracy: 0.9527 - precision_1: 0.9207 - recall_1: 0.5921 - val_loss: 0.4682 - val_binary_accuracy: 0.8938 - val_precision_1: 0.5974 - val_recall_1: 0.2690\n",
      "Epoch 83/100\n",
      "229/229 [==============================] - 2s 8ms/step - loss: 0.1649 - binary_accuracy: 0.9550 - precision_1: 0.9462 - recall_1: 0.5977 - val_loss: 0.5554 - val_binary_accuracy: 0.8993 - val_precision_1: 0.7255 - val_recall_1: 0.2164\n",
      "Epoch 84/100\n",
      "229/229 [==============================] - 2s 8ms/step - loss: 0.1516 - binary_accuracy: 0.9586 - precision_1: 0.9648 - recall_1: 0.6204 - val_loss: 0.8198 - val_binary_accuracy: 0.8945 - val_precision_1: 0.5851 - val_recall_1: 0.3216\n",
      "Epoch 85/100\n",
      "229/229 [==============================] - 2s 8ms/step - loss: 0.1429 - binary_accuracy: 0.9606 - precision_1: 0.9395 - recall_1: 0.6601 - val_loss: 0.8662 - val_binary_accuracy: 0.9013 - val_precision_1: 0.6585 - val_recall_1: 0.3158\n",
      "Epoch 86/100\n",
      "229/229 [==============================] - 2s 8ms/step - loss: 0.1311 - binary_accuracy: 0.9650 - precision_1: 0.9717 - recall_1: 0.6799 - val_loss: 0.9602 - val_binary_accuracy: 0.8918 - val_precision_1: 0.5566 - val_recall_1: 0.3450\n",
      "Epoch 87/100\n",
      "229/229 [==============================] - 2s 8ms/step - loss: 0.1326 - binary_accuracy: 0.9644 - precision_1: 0.9602 - recall_1: 0.6827 - val_loss: 1.2127 - val_binary_accuracy: 0.8931 - val_precision_1: 0.5660 - val_recall_1: 0.3509\n",
      "Epoch 88/100\n",
      "229/229 [==============================] - 2s 8ms/step - loss: 0.1315 - binary_accuracy: 0.9650 - precision_1: 0.9679 - recall_1: 0.6827 - val_loss: 1.0377 - val_binary_accuracy: 0.8958 - val_precision_1: 0.5900 - val_recall_1: 0.3450\n",
      "Epoch 89/100\n",
      "229/229 [==============================] - 2s 8ms/step - loss: 0.1312 - binary_accuracy: 0.9656 - precision_1: 0.9719 - recall_1: 0.6856 - val_loss: 1.1253 - val_binary_accuracy: 0.9040 - val_precision_1: 0.7027 - val_recall_1: 0.3041\n",
      "Epoch 90/100\n",
      "229/229 [==============================] - 2s 8ms/step - loss: 0.1413 - binary_accuracy: 0.9615 - precision_1: 0.9474 - recall_1: 0.6629 - val_loss: 0.6397 - val_binary_accuracy: 0.8986 - val_precision_1: 0.6571 - val_recall_1: 0.2690\n",
      "Epoch 91/100\n",
      "229/229 [==============================] - 2s 8ms/step - loss: 0.1419 - binary_accuracy: 0.9603 - precision_1: 0.9697 - recall_1: 0.6346 - val_loss: 0.7179 - val_binary_accuracy: 0.9006 - val_precision_1: 0.7358 - val_recall_1: 0.2281\n",
      "Epoch 92/100\n",
      "229/229 [==============================] - 2s 8ms/step - loss: 0.2435 - binary_accuracy: 0.9335 - precision_1: 0.8079 - recall_1: 0.4646 - val_loss: 0.4042 - val_binary_accuracy: 0.8870 - val_precision_1: 0.8571 - val_recall_1: 0.0351\n",
      "Epoch 93/100\n",
      "229/229 [==============================] - 2s 8ms/step - loss: 0.3032 - binary_accuracy: 0.9043 - precision_1: 0.7273 - recall_1: 0.1133 - val_loss: 0.3279 - val_binary_accuracy: 0.8918 - val_precision_1: 0.7308 - val_recall_1: 0.1111\n",
      "Epoch 94/100\n",
      "229/229 [==============================] - 2s 8ms/step - loss: 0.2356 - binary_accuracy: 0.9262 - precision_1: 0.8289 - recall_1: 0.3569 - val_loss: 0.3520 - val_binary_accuracy: 0.8999 - val_precision_1: 0.7222 - val_recall_1: 0.2281\n",
      "Epoch 95/100\n",
      "229/229 [==============================] - 2s 8ms/step - loss: 0.1901 - binary_accuracy: 0.9448 - precision_1: 0.8905 - recall_1: 0.5297 - val_loss: 0.3611 - val_binary_accuracy: 0.8965 - val_precision_1: 0.6092 - val_recall_1: 0.3099\n",
      "Epoch 96/100\n",
      "229/229 [==============================] - 2s 9ms/step - loss: 0.1584 - binary_accuracy: 0.9548 - precision_1: 0.9125 - recall_1: 0.6204 - val_loss: 0.4511 - val_binary_accuracy: 0.8979 - val_precision_1: 0.6329 - val_recall_1: 0.2924\n",
      "Epoch 97/100\n",
      "229/229 [==============================] - 2s 9ms/step - loss: 0.1535 - binary_accuracy: 0.9591 - precision_1: 0.9494 - recall_1: 0.6374 - val_loss: 0.5253 - val_binary_accuracy: 0.8958 - val_precision_1: 0.6250 - val_recall_1: 0.2632\n",
      "Epoch 98/100\n",
      "229/229 [==============================] - 2s 9ms/step - loss: 0.1432 - binary_accuracy: 0.9623 - precision_1: 0.9553 - recall_1: 0.6657 - val_loss: 0.7128 - val_binary_accuracy: 0.8938 - val_precision_1: 0.6027 - val_recall_1: 0.2573\n",
      "Epoch 99/100\n",
      "229/229 [==============================] - 2s 9ms/step - loss: 0.1601 - binary_accuracy: 0.9559 - precision_1: 0.9316 - recall_1: 0.6176 - val_loss: 0.5534 - val_binary_accuracy: 0.9013 - val_precision_1: 0.6970 - val_recall_1: 0.2690\n",
      "Epoch 100/100\n",
      "229/229 [==============================] - 2s 9ms/step - loss: 0.1435 - binary_accuracy: 0.9618 - precision_1: 0.9512 - recall_1: 0.6629 - val_loss: 0.5512 - val_binary_accuracy: 0.8965 - val_precision_1: 0.6462 - val_recall_1: 0.2456\n"
     ]
    }
   ],
   "source": [
    "trainer = CNN.fit(\n",
    "     smiles_train,\n",
    "     labels_train,\n",
    "     epochs = 100,\n",
    "     batch_size = 15,\n",
    "     validation_data = (smiles_test,labels_test),  \n",
    "     verbose = 1)"
   ]
  },
  {
   "cell_type": "code",
   "execution_count": 32,
   "metadata": {},
   "outputs": [],
   "source": [
    "y_hat = (CNN.predict(smiles_test) > 0.5).astype(\"float\")"
   ]
  },
  {
   "cell_type": "code",
   "execution_count": 35,
   "metadata": {},
   "outputs": [],
   "source": [
    "cm2 = confusion_matrix(labels_test, y_hat)  "
   ]
  },
  {
   "cell_type": "code",
   "execution_count": 36,
   "metadata": {},
   "outputs": [
    {
     "data": {
      "text/plain": [
       "Text(0.5, 33.0, 'Predicted Values')"
      ]
     },
     "execution_count": 36,
     "metadata": {},
     "output_type": "execute_result"
    },
    {
     "data": {
      "image/png": "[encoded data removed]",
      "text/plain": [
       "<Figure size 432x432 with 2 Axes>"
      ]
     },
     "metadata": {
      "needs_background": "light"
     },
     "output_type": "display_data"
    }
   ],
   "source": [
    "plt.figure(figsize = (6,6))\n",
    "sns.heatmap(cm2, annot = True, fmt = \".5g\", cmap = \"coolwarm\",linewidths=.5)\n",
    "plt.ylabel('Actual Values',fontsize = 14)\n",
    "plt.xlabel('Predicted Values')\n"
   ]
  },
  {
   "cell_type": "code",
   "execution_count": 37,
   "metadata": {},
   "outputs": [
    {
     "data": {
      "text/plain": [
       "(1275, 23, 129, 42)"
      ]
     },
     "execution_count": 37,
     "metadata": {},
     "output_type": "execute_result"
    }
   ],
   "source": [
    "tn2, fp2, fn2, tp2 = confusion_matrix(labels_test, y_hat).ravel()\n",
    "tn2, fp2, fn2, tp2"
   ]
  },
  {
   "cell_type": "code",
   "execution_count": 38,
   "metadata": {},
   "outputs": [
    {
     "data": {
      "text/plain": [
       "0.8965282505105514"
      ]
     },
     "execution_count": 38,
     "metadata": {},
     "output_type": "execute_result"
    }
   ],
   "source": [
    "#acurácia\n",
    "(tp2+tn2)/(tp2+tn2+fp2+fn2)"
   ]
  },
  {
   "cell_type": "code",
   "execution_count": 39,
   "metadata": {},
   "outputs": [
    {
     "data": {
      "text/plain": [
       "0.24561403508771928"
      ]
     },
     "execution_count": 39,
     "metadata": {},
     "output_type": "execute_result"
    }
   ],
   "source": [
    "#acerta o que é antibiótico\n",
    "(tp2)/(tp2+fn2)"
   ]
  },
  {
   "cell_type": "code",
   "execution_count": 40,
   "metadata": {},
   "outputs": [
    {
     "data": {
      "text/plain": [
       "0.9822804314329738"
      ]
     },
     "execution_count": 40,
     "metadata": {},
     "output_type": "execute_result"
    }
   ],
   "source": [
    "#acerta o que não é antibiótico\n",
    "(tn2)/(tn2+fp2)"
   ]
  }
 ],
 "metadata": {
  "interpreter": {
   "hash": "3218d1e1345bf85c44ac3e3bdb7899973b22b8c207b0aa6281a3c4896a58620c"
  },
  "kernelspec": {
   "display_name": "Python 3.7.11 ('diversedrl')",
   "language": "python",
   "name": "python3"
  },
  "language_info": {
   "codemirror_mode": {
    "name": "ipython",
    "version": 3
   },
   "file_extension": ".py",
   "mimetype": "text/x-python",
   "name": "python",
   "nbconvert_exporter": "python",
   "pygments_lexer": "ipython3",
   "version": "3.7.11"
  },
  "orig_nbformat": 4
 },
 "nbformat": 4,
 "nbformat_minor": 2
}
