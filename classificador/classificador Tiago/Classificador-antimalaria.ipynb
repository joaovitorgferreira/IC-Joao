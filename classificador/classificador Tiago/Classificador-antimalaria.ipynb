{
 "cells": [
  {
   "cell_type": "markdown",
   "metadata": {},
   "source": [
    "\n",
    "Classificador\n",
    "1. Importar dados\n",
    "\n",
    "Para criar um classificador formatar os dados da sequinte maneira:\n",
    "\n",
    "moleculas -> uma lista/array com todos os smiles do seu banco de dados\n",
    "\n",
    "classes -> uma lista/array de zeros e uns representando antibiótico e não antibiótico, respectivamente\n",
    "\n",
    "O classificador vai identificar traços das moleculas e associá-los às classes, então cada molécula deverá ter o mesmo índice que sua classe.\n",
    "\n",
    "bibliotecas sugeridas:\n",
    "\n",
    "    pandas\n",
    "    numpy\n",
    "\n"
   ]
  },
  {
   "cell_type": "code",
   "execution_count": 37,
   "metadata": {},
   "outputs": [],
   "source": [
    "import pandas as pd\n",
    "import numpy as np\n",
    "import sklearn as sk\n",
    "\n",
    "#Importar dados\n",
    "df = pd.read_csv('/home/joao/documentos/IC-Joao/classificador/antimalaria_set.csv',index_col=False)\n",
    "\n",
    "#Definir a coluna das classes\n",
    "labels = np.asarray(df.Classe) #1 para antibiótico, 0 para não antibiótico\n",
    "\n",
    "#Selecionar SMILES sem as classes\n",
    "df_selected = df.drop([\"Classe\",\"Name\", \"InChIKey\",\"Index\"], axis=1)\n",
    "\n",
    "#Codificar classes (não é mais necessário)\n",
    "#from sklearn.preprocessing import LabelEncoder\n",
    "#le = LabelEncoder()\n",
    "#le.fit(labels)\n",
    "\n",
    "#labels = le.transform(labels)"
   ]
  },
  {
   "cell_type": "markdown",
   "metadata": {},
   "source": [
    "\n",
    "2. Processamento dos dados\n",
    "2.1 Encoding/padding\n",
    "\n",
    "Nessa etapa acontece a codificação das moleculas. Pode ser tokens, one hot vector, integer vector. Você decide.\n",
    "\n",
    "É importante que ao final do processamento todos os tokens tenham o mesmo comprimento, então um processo chamado padding precisa ser aplicado.\n",
    "\n",
    "Por convenção as variáveis em machine learning assumem esses nomes:\n",
    "\n",
    "X -> uma lista/array com todos os smiles codificados\n",
    "\n",
    "y -> uma lista/array de zeros e uns representando antibiótico e não antibiótico, respectivamente\n",
    "\n",
    "Bibliotecas sugeridas:\n",
    "\n",
    "    numpy\n",
    "    sklearn\n",
    "\n"
   ]
  },
  {
   "cell_type": "markdown",
   "metadata": {},
   "source": [
    "ADIÇÕES DO TIAGO: INICIO"
   ]
  },
  {
   "cell_type": "code",
   "execution_count": 38,
   "metadata": {},
   "outputs": [],
   "source": [
    "comprimentos = [len(x) for x in df_selected.SMILES.values]"
   ]
  },
  {
   "cell_type": "code",
   "execution_count": 39,
   "metadata": {},
   "outputs": [
    {
     "data": {
      "text/plain": [
       "394"
      ]
     },
     "execution_count": 39,
     "metadata": {},
     "output_type": "execute_result"
    }
   ],
   "source": [
    "maior_smile = np.max(comprimentos)\n",
    "maior_smile"
   ]
  },
  {
   "cell_type": "code",
   "execution_count": 40,
   "metadata": {},
   "outputs": [],
   "source": [
    "from tensorflow.keras.preprocessing.sequence import pad_sequences\n",
    "\n",
    "smiles = list(df_selected.SMILES.values)\n",
    "\n",
    "table = ['se','Fe','As','Cl', 'Br', 'Na', 'Li', 'Ca', 'Al', 'Ag', 'Se', 'Mg', 'Zn', 'H', 'B', 'C', 'N', 'O', 'P', 'S', 'F', 'I', 'K', '(', ')', '[', ']', '=', '#', '@', '*', '%', '0', '1', '2', '3', '4', '5', '6', '7', '8', '9', '.', '/', '\\\\', '+', '-', 'c', 'n', 'o', 's', 'p']\n"
   ]
  },
  {
   "cell_type": "code",
   "execution_count": 41,
   "metadata": {},
   "outputs": [
    {
     "data": {
      "text/plain": [
       "52"
      ]
     },
     "execution_count": 41,
     "metadata": {},
     "output_type": "execute_result"
    }
   ],
   "source": [
    "len(table)"
   ]
  },
  {
   "cell_type": "code",
   "execution_count": 42,
   "metadata": {},
   "outputs": [],
   "source": [
    "def tokenizer(smiles,table):\n",
    "    tokens_list = []\n",
    "    #index = 0\n",
    "    for smile in smiles:\n",
    "        #print(index)\n",
    "        i = 0\n",
    "        token = []\n",
    "        while i < len(smile):\n",
    "            for j in table:\n",
    "                if j == smile[i:i+len(j)]:\n",
    "                    token.append(j)\n",
    "                    i = i+len(j)\n",
    "                    break\n",
    "        while len(token) < maior_smile:\n",
    "            token.insert(0,\"A\")\n",
    "        tokens_list.append(token)\n",
    "        #index = index+1\n",
    "    return tokens_list\n",
    "\n",
    "padded_tokens = tokenizer(smiles,table)\n"
   ]
  },
  {
   "cell_type": "code",
   "execution_count": 43,
   "metadata": {},
   "outputs": [
    {
     "data": {
      "text/plain": [
       "4503"
      ]
     },
     "execution_count": 43,
     "metadata": {},
     "output_type": "execute_result"
    }
   ],
   "source": [
    "len(padded_tokens)"
   ]
  },
  {
   "cell_type": "code",
   "execution_count": 44,
   "metadata": {},
   "outputs": [
    {
     "data": {
      "text/plain": [
       "394"
      ]
     },
     "execution_count": 44,
     "metadata": {},
     "output_type": "execute_result"
    }
   ],
   "source": [
    "len(padded_tokens[0])"
   ]
  },
  {
   "cell_type": "code",
   "execution_count": 45,
   "metadata": {},
   "outputs": [],
   "source": [
    "#Usar integer encoding ao invez de one hot\n",
    "from sklearn.preprocessing import LabelEncoder\n",
    "tokens_encoder = LabelEncoder()\n",
    "table.append(\"A\")\n",
    "tokens_encoder.fit(table)\n",
    "tokens_int_encoded = np.array([tokens_encoder.transform(i) for i in padded_tokens])\n"
   ]
  },
  {
   "cell_type": "code",
   "execution_count": 46,
   "metadata": {},
   "outputs": [
    {
     "data": {
      "text/plain": [
       "array([[21, 21, 21, ..., 47, 47, 10],\n",
       "       [21, 21, 21, ...,  3, 47, 10],\n",
       "       [21, 21, 21, ..., 27, 27, 39],\n",
       "       ...,\n",
       "       [21, 21, 21, ...,  3, 27, 27],\n",
       "       [21, 21, 21, ..., 27,  3, 27],\n",
       "       [21, 21, 21, ..., 27,  3, 27]])"
      ]
     },
     "execution_count": 46,
     "metadata": {},
     "output_type": "execute_result"
    }
   ],
   "source": [
    "tokens_int_encoded"
   ]
  },
  {
   "cell_type": "code",
   "execution_count": 47,
   "metadata": {},
   "outputs": [
    {
     "data": {
      "text/plain": [
       "(4503, 394)"
      ]
     },
     "execution_count": 47,
     "metadata": {},
     "output_type": "execute_result"
    }
   ],
   "source": [
    "tokens_int_encoded.shape"
   ]
  },
  {
   "cell_type": "markdown",
   "metadata": {},
   "source": [
    "ADIÇÕES DO TIAGO: FIM"
   ]
  },
  {
   "cell_type": "markdown",
   "metadata": {},
   "source": [
    "\n",
    "3. Holdout: train/test split\n",
    "\n",
    "Depois do processamento, seu banco de dados precisa ser dividio em traino e teste. O Holdout é o ponto de separação. Geralmente os dados são dividos em dados em 70/30. 70% para treino e 30% para teste.\n",
    "\n",
    "Agora as variáveis serão separadas pelos conjuntos criados:\n",
    "\n",
    "X_treino -> 70% dos smiles codificados\n",
    "\n",
    "X_teste -> 30% dos smiles codificados\n",
    "\n",
    "y_treino -> 70% das classes\n",
    "\n",
    "y_teste -> 30% das classes\n",
    "\n",
    "Bibliotecas sugeridas:\n",
    "\n",
    "    numpy\n",
    "    sklearn\n",
    "\n"
   ]
  },
  {
   "cell_type": "code",
   "execution_count": 48,
   "metadata": {},
   "outputs": [],
   "source": [
    "from sklearn.model_selection import train_test_split\n",
    "\n",
    "smiles_train, smiles_test, labels_train, labels_test = train_test_split(\n",
    "    tokens_int_encoded, labels, \n",
    "    test_size=0.30, random_state=42)\n"
   ]
  },
  {
   "cell_type": "markdown",
   "metadata": {},
   "source": [
    "\n",
    "4. Modelo\n",
    "\n",
    "Depois de preparar os dados, precisamos criar um variável que contem nosso modelo. Estude o tensoflow/keras, mais especificamente a função Sequential(), para criação dos modelos.\n",
    "\n",
    "Arquiteturas sugeridas:\n",
    "\n",
    "    MultiLayer Perceptron (MLP)\n",
    "    Convolutional Neural Networks (CNN)\n",
    "\n",
    "Não esqueça de adicionar as métricas precision, recall, accuracy e loss. Para essa ultima, você precisa estudar sobre as funções de perda usadas para classificação binária (0,1).\n",
    "\n",
    "Depois de construído use o método .fit() para treinar seu classificador\n"
   ]
  },
  {
   "cell_type": "code",
   "execution_count": 49,
   "metadata": {},
   "outputs": [],
   "source": [
    "import tensorflow as tf\n",
    "from tensorflow.keras.models import Sequential\n",
    "model = Sequential([\n",
    "    tf.keras.layers.Input(shape = 394,),\n",
    "    tf.keras.layers.Dense(350, activation = 'relu'),\n",
    "    tf.keras.layers.Dense(150, activation = 'relu'),\n",
    "    tf.keras.layers.Dense(100, activation = 'relu'),\n",
    "    tf.keras.layers.Dense(1, activation = 'sigmoid')\n",
    "])\n",
    "model.compile(\n",
    "    optimizer='adam',\n",
    "    loss = tf.losses.BinaryCrossentropy(),\n",
    "    metrics = [tf.metrics.BinaryAccuracy(),\n",
    "    tf.metrics.Precision(),\n",
    "    tf.metrics.Recall()]\n",
    "\n",
    ")"
   ]
  },
  {
   "cell_type": "code",
   "execution_count": 50,
   "metadata": {},
   "outputs": [
    {
     "name": "stdout",
     "output_type": "stream",
     "text": [
      "Model: \"sequential_3\"\n",
      "_________________________________________________________________\n",
      " Layer (type)                Output Shape              Param #   \n",
      "=================================================================\n",
      " dense_10 (Dense)            (None, 350)               138250    \n",
      "                                                                 \n",
      " dense_11 (Dense)            (None, 150)               52650     \n",
      "                                                                 \n",
      " dense_12 (Dense)            (None, 100)               15100     \n",
      "                                                                 \n",
      " dense_13 (Dense)            (None, 1)                 101       \n",
      "                                                                 \n",
      "=================================================================\n",
      "Total params: 206,101\n",
      "Trainable params: 206,101\n",
      "Non-trainable params: 0\n",
      "_________________________________________________________________\n"
     ]
    }
   ],
   "source": [
    "model.summary()"
   ]
  },
  {
   "cell_type": "code",
   "execution_count": 51,
   "metadata": {},
   "outputs": [
    {
     "data": {
      "text/plain": [
       "array([0, 0, 0, ..., 0, 0, 0])"
      ]
     },
     "execution_count": 51,
     "metadata": {},
     "output_type": "execute_result"
    }
   ],
   "source": [
    "labels_test"
   ]
  },
  {
   "cell_type": "code",
   "execution_count": 52,
   "metadata": {},
   "outputs": [
    {
     "name": "stdout",
     "output_type": "stream",
     "text": [
      "Epoch 1/100\n",
      "99/99 [==============================] - 1s 3ms/step - loss: 1.0029 - binary_accuracy: 0.9423 - precision_3: 0.0213 - recall_3: 0.0217 - val_loss: 0.1344 - val_binary_accuracy: 0.9704 - val_precision_3: 0.0000e+00 - val_recall_3: 0.0000e+00\n",
      "Epoch 2/100\n",
      "99/99 [==============================] - 0s 1ms/step - loss: 0.1384 - binary_accuracy: 0.9711 - precision_3: 0.5714 - recall_3: 0.0435 - val_loss: 0.2795 - val_binary_accuracy: 0.9711 - val_precision_3: 0.5088 - val_recall_3: 0.7250\n",
      "Epoch 3/100\n",
      "99/99 [==============================] - 0s 1ms/step - loss: 0.1019 - binary_accuracy: 0.9762 - precision_3: 0.8400 - recall_3: 0.2283 - val_loss: 0.1315 - val_binary_accuracy: 0.9704 - val_precision_3: 0.0000e+00 - val_recall_3: 0.0000e+00\n",
      "Epoch 4/100\n",
      "99/99 [==============================] - 0s 2ms/step - loss: 0.0633 - binary_accuracy: 0.9829 - precision_3: 0.9750 - recall_3: 0.4239 - val_loss: 0.0629 - val_binary_accuracy: 0.9778 - val_precision_3: 1.0000 - val_recall_3: 0.2500\n",
      "Epoch 5/100\n",
      "99/99 [==============================] - 0s 1ms/step - loss: 0.1374 - binary_accuracy: 0.9768 - precision_3: 0.6557 - recall_3: 0.4348 - val_loss: 0.1981 - val_binary_accuracy: 0.9704 - val_precision_3: 0.0000e+00 - val_recall_3: 0.0000e+00\n",
      "Epoch 6/100\n",
      "99/99 [==============================] - 0s 2ms/step - loss: 0.0939 - binary_accuracy: 0.9775 - precision_3: 0.8889 - recall_3: 0.2609 - val_loss: 0.0826 - val_binary_accuracy: 0.9719 - val_precision_3: 1.0000 - val_recall_3: 0.0500\n",
      "Epoch 7/100\n",
      "99/99 [==============================] - 0s 2ms/step - loss: 0.0607 - binary_accuracy: 0.9822 - precision_3: 0.8462 - recall_3: 0.4783 - val_loss: 0.0868 - val_binary_accuracy: 0.9719 - val_precision_3: 1.0000 - val_recall_3: 0.0500\n",
      "Epoch 8/100\n",
      "99/99 [==============================] - 0s 2ms/step - loss: 0.0441 - binary_accuracy: 0.9870 - precision_3: 0.8923 - recall_3: 0.6304 - val_loss: 0.0462 - val_binary_accuracy: 0.9889 - val_precision_3: 1.0000 - val_recall_3: 0.6250\n",
      "Epoch 9/100\n",
      "99/99 [==============================] - 0s 2ms/step - loss: 0.1147 - binary_accuracy: 0.9721 - precision_3: 0.5312 - recall_3: 0.3696 - val_loss: 0.2311 - val_binary_accuracy: 0.9704 - val_precision_3: 0.0000e+00 - val_recall_3: 0.0000e+00\n",
      "Epoch 10/100\n",
      "99/99 [==============================] - 0s 2ms/step - loss: 0.0556 - binary_accuracy: 0.9826 - precision_3: 0.8364 - recall_3: 0.5000 - val_loss: 0.0481 - val_binary_accuracy: 0.9859 - val_precision_3: 1.0000 - val_recall_3: 0.5250\n",
      "Epoch 11/100\n",
      "99/99 [==============================] - 0s 2ms/step - loss: 0.0494 - binary_accuracy: 0.9873 - precision_3: 0.8824 - recall_3: 0.6522 - val_loss: 0.0417 - val_binary_accuracy: 0.9852 - val_precision_3: 0.7778 - val_recall_3: 0.7000\n",
      "Epoch 12/100\n",
      "99/99 [==============================] - 0s 2ms/step - loss: 0.0481 - binary_accuracy: 0.9876 - precision_3: 0.8955 - recall_3: 0.6522 - val_loss: 0.0484 - val_binary_accuracy: 0.9852 - val_precision_3: 1.0000 - val_recall_3: 0.5000\n",
      "Epoch 13/100\n",
      "99/99 [==============================] - 0s 2ms/step - loss: 0.0477 - binary_accuracy: 0.9845 - precision_3: 0.8116 - recall_3: 0.6087 - val_loss: 0.0409 - val_binary_accuracy: 0.9896 - val_precision_3: 0.9333 - val_recall_3: 0.7000\n",
      "Epoch 14/100\n",
      "99/99 [==============================] - 0s 2ms/step - loss: 0.0529 - binary_accuracy: 0.9857 - precision_3: 0.8852 - recall_3: 0.5870 - val_loss: 0.0414 - val_binary_accuracy: 0.9889 - val_precision_3: 0.9310 - val_recall_3: 0.6750\n",
      "Epoch 15/100\n",
      "99/99 [==============================] - 0s 2ms/step - loss: 0.0514 - binary_accuracy: 0.9867 - precision_3: 0.8472 - recall_3: 0.6630 - val_loss: 0.0650 - val_binary_accuracy: 0.9800 - val_precision_3: 1.0000 - val_recall_3: 0.3250\n",
      "Epoch 16/100\n",
      "99/99 [==============================] - 0s 2ms/step - loss: 0.0390 - binary_accuracy: 0.9892 - precision_3: 0.8919 - recall_3: 0.7174 - val_loss: 0.0450 - val_binary_accuracy: 0.9830 - val_precision_3: 0.6889 - val_recall_3: 0.7750\n",
      "Epoch 17/100\n",
      "99/99 [==============================] - 0s 2ms/step - loss: 0.0353 - binary_accuracy: 0.9892 - precision_3: 0.8816 - recall_3: 0.7283 - val_loss: 0.0402 - val_binary_accuracy: 0.9896 - val_precision_3: 1.0000 - val_recall_3: 0.6500\n",
      "Epoch 18/100\n",
      "99/99 [==============================] - 0s 2ms/step - loss: 0.0367 - binary_accuracy: 0.9898 - precision_3: 0.9054 - recall_3: 0.7283 - val_loss: 0.0903 - val_binary_accuracy: 0.9756 - val_precision_3: 1.0000 - val_recall_3: 0.1750\n",
      "Epoch 19/100\n",
      "99/99 [==============================] - 0s 2ms/step - loss: 0.0308 - binary_accuracy: 0.9898 - precision_3: 0.9054 - recall_3: 0.7283 - val_loss: 0.0420 - val_binary_accuracy: 0.9874 - val_precision_3: 0.8710 - val_recall_3: 0.6750\n",
      "Epoch 20/100\n",
      "99/99 [==============================] - 0s 2ms/step - loss: 0.0554 - binary_accuracy: 0.9832 - precision_3: 0.8000 - recall_3: 0.5652 - val_loss: 0.0463 - val_binary_accuracy: 0.9852 - val_precision_3: 0.7778 - val_recall_3: 0.7000\n",
      "Epoch 21/100\n",
      "99/99 [==============================] - 0s 2ms/step - loss: 0.0532 - binary_accuracy: 0.9876 - precision_3: 0.8732 - recall_3: 0.6739 - val_loss: 0.0523 - val_binary_accuracy: 0.9822 - val_precision_3: 0.6905 - val_recall_3: 0.7250\n",
      "Epoch 22/100\n",
      "99/99 [==============================] - 0s 2ms/step - loss: 0.0332 - binary_accuracy: 0.9892 - precision_3: 0.8625 - recall_3: 0.7500 - val_loss: 0.1364 - val_binary_accuracy: 0.9734 - val_precision_3: 1.0000 - val_recall_3: 0.1000\n",
      "Epoch 23/100\n",
      "99/99 [==============================] - 0s 2ms/step - loss: 0.0500 - binary_accuracy: 0.9854 - precision_3: 0.8485 - recall_3: 0.6087 - val_loss: 0.0834 - val_binary_accuracy: 0.9748 - val_precision_3: 1.0000 - val_recall_3: 0.1500\n",
      "Epoch 24/100\n",
      "99/99 [==============================] - 0s 2ms/step - loss: 0.0396 - binary_accuracy: 0.9898 - precision_3: 0.9286 - recall_3: 0.7065 - val_loss: 0.0416 - val_binary_accuracy: 0.9874 - val_precision_3: 0.8485 - val_recall_3: 0.7000\n",
      "Epoch 25/100\n",
      "99/99 [==============================] - 0s 2ms/step - loss: 0.0315 - binary_accuracy: 0.9914 - precision_3: 0.9333 - recall_3: 0.7609 - val_loss: 0.0793 - val_binary_accuracy: 0.9830 - val_precision_3: 1.0000 - val_recall_3: 0.4250\n",
      "Epoch 26/100\n",
      "99/99 [==============================] - 0s 1ms/step - loss: 0.0544 - binary_accuracy: 0.9860 - precision_3: 0.8871 - recall_3: 0.5978 - val_loss: 0.0714 - val_binary_accuracy: 0.9748 - val_precision_3: 1.0000 - val_recall_3: 0.1500\n",
      "Epoch 27/100\n",
      "99/99 [==============================] - 0s 2ms/step - loss: 0.0395 - binary_accuracy: 0.9895 - precision_3: 0.9041 - recall_3: 0.7174 - val_loss: 0.0585 - val_binary_accuracy: 0.9845 - val_precision_3: 1.0000 - val_recall_3: 0.4750\n",
      "Epoch 28/100\n",
      "99/99 [==============================] - 0s 2ms/step - loss: 0.0361 - binary_accuracy: 0.9895 - precision_3: 0.9155 - recall_3: 0.7065 - val_loss: 0.0378 - val_binary_accuracy: 0.9889 - val_precision_3: 0.9310 - val_recall_3: 0.6750\n",
      "Epoch 29/100\n",
      "99/99 [==============================] - 0s 2ms/step - loss: 0.0373 - binary_accuracy: 0.9905 - precision_3: 0.9079 - recall_3: 0.7500 - val_loss: 0.0436 - val_binary_accuracy: 0.9889 - val_precision_3: 1.0000 - val_recall_3: 0.6250\n",
      "Epoch 30/100\n",
      "99/99 [==============================] - 0s 2ms/step - loss: 0.0255 - binary_accuracy: 0.9918 - precision_3: 0.9125 - recall_3: 0.7935 - val_loss: 0.0377 - val_binary_accuracy: 0.9882 - val_precision_3: 0.8333 - val_recall_3: 0.7500\n",
      "Epoch 31/100\n",
      "99/99 [==============================] - 0s 2ms/step - loss: 0.0407 - binary_accuracy: 0.9867 - precision_3: 0.8676 - recall_3: 0.6413 - val_loss: 0.0477 - val_binary_accuracy: 0.9808 - val_precision_3: 0.6400 - val_recall_3: 0.8000\n",
      "Epoch 32/100\n",
      "99/99 [==============================] - 0s 2ms/step - loss: 0.0281 - binary_accuracy: 0.9911 - precision_3: 0.9211 - recall_3: 0.7609 - val_loss: 0.0401 - val_binary_accuracy: 0.9859 - val_precision_3: 0.7692 - val_recall_3: 0.7500\n",
      "Epoch 33/100\n",
      "99/99 [==============================] - 0s 2ms/step - loss: 0.0271 - binary_accuracy: 0.9924 - precision_3: 0.9474 - recall_3: 0.7826 - val_loss: 0.0514 - val_binary_accuracy: 0.9852 - val_precision_3: 0.7273 - val_recall_3: 0.8000\n",
      "Epoch 34/100\n",
      "99/99 [==============================] - 0s 2ms/step - loss: 0.0236 - binary_accuracy: 0.9933 - precision_3: 0.9383 - recall_3: 0.8261 - val_loss: 0.0434 - val_binary_accuracy: 0.9852 - val_precision_3: 0.7381 - val_recall_3: 0.7750\n",
      "Epoch 35/100\n",
      "99/99 [==============================] - 0s 2ms/step - loss: 0.0471 - binary_accuracy: 0.9860 - precision_3: 0.8871 - recall_3: 0.5978 - val_loss: 0.0422 - val_binary_accuracy: 0.9867 - val_precision_3: 0.8667 - val_recall_3: 0.6500\n",
      "Epoch 36/100\n",
      "99/99 [==============================] - 0s 2ms/step - loss: 0.0267 - binary_accuracy: 0.9908 - precision_3: 0.9200 - recall_3: 0.7500 - val_loss: 0.0454 - val_binary_accuracy: 0.9859 - val_precision_3: 0.7692 - val_recall_3: 0.7500\n",
      "Epoch 37/100\n",
      "99/99 [==============================] - 0s 2ms/step - loss: 0.0234 - binary_accuracy: 0.9930 - precision_3: 0.9487 - recall_3: 0.8043 - val_loss: 0.1340 - val_binary_accuracy: 0.9771 - val_precision_3: 1.0000 - val_recall_3: 0.2250\n",
      "Epoch 38/100\n",
      "99/99 [==============================] - 0s 2ms/step - loss: 0.0481 - binary_accuracy: 0.9873 - precision_3: 0.9194 - recall_3: 0.6196 - val_loss: 0.0599 - val_binary_accuracy: 0.9874 - val_precision_3: 1.0000 - val_recall_3: 0.5750\n",
      "Epoch 39/100\n",
      "99/99 [==============================] - 0s 2ms/step - loss: 0.0267 - binary_accuracy: 0.9918 - precision_3: 0.9459 - recall_3: 0.7609 - val_loss: 0.0488 - val_binary_accuracy: 0.9882 - val_precision_3: 1.0000 - val_recall_3: 0.6000\n",
      "Epoch 40/100\n",
      "99/99 [==============================] - 0s 2ms/step - loss: 0.0216 - binary_accuracy: 0.9940 - precision_3: 0.9398 - recall_3: 0.8478 - val_loss: 0.0431 - val_binary_accuracy: 0.9896 - val_precision_3: 0.9643 - val_recall_3: 0.6750\n",
      "Epoch 41/100\n",
      "99/99 [==============================] - 0s 2ms/step - loss: 0.0421 - binary_accuracy: 0.9879 - precision_3: 0.8971 - recall_3: 0.6630 - val_loss: 0.0780 - val_binary_accuracy: 0.9837 - val_precision_3: 1.0000 - val_recall_3: 0.4500\n",
      "Epoch 42/100\n",
      "99/99 [==============================] - 0s 2ms/step - loss: 0.0228 - binary_accuracy: 0.9927 - precision_3: 0.9259 - recall_3: 0.8152 - val_loss: 0.0411 - val_binary_accuracy: 0.9904 - val_precision_3: 0.9655 - val_recall_3: 0.7000\n",
      "Epoch 43/100\n",
      "99/99 [==============================] - 0s 2ms/step - loss: 0.0222 - binary_accuracy: 0.9933 - precision_3: 0.9176 - recall_3: 0.8478 - val_loss: 0.0738 - val_binary_accuracy: 0.9837 - val_precision_3: 1.0000 - val_recall_3: 0.4500\n",
      "Epoch 44/100\n",
      "99/99 [==============================] - 0s 2ms/step - loss: 0.0313 - binary_accuracy: 0.9908 - precision_3: 0.9200 - recall_3: 0.7500 - val_loss: 0.1503 - val_binary_accuracy: 0.9571 - val_precision_3: 0.4000 - val_recall_3: 0.9000\n",
      "Epoch 45/100\n",
      "99/99 [==============================] - 0s 2ms/step - loss: 0.0367 - binary_accuracy: 0.9892 - precision_3: 0.8718 - recall_3: 0.7391 - val_loss: 0.0436 - val_binary_accuracy: 0.9904 - val_precision_3: 0.9655 - val_recall_3: 0.7000\n",
      "Epoch 46/100\n",
      "99/99 [==============================] - 0s 2ms/step - loss: 0.0395 - binary_accuracy: 0.9905 - precision_3: 0.9079 - recall_3: 0.7500 - val_loss: 0.0576 - val_binary_accuracy: 0.9874 - val_precision_3: 1.0000 - val_recall_3: 0.5750\n",
      "Epoch 47/100\n",
      "99/99 [==============================] - 0s 2ms/step - loss: 0.0232 - binary_accuracy: 0.9943 - precision_3: 0.9512 - recall_3: 0.8478 - val_loss: 0.0454 - val_binary_accuracy: 0.9896 - val_precision_3: 1.0000 - val_recall_3: 0.6500\n",
      "Epoch 48/100\n",
      "99/99 [==============================] - 0s 2ms/step - loss: 0.0224 - binary_accuracy: 0.9943 - precision_3: 0.9512 - recall_3: 0.8478 - val_loss: 0.0685 - val_binary_accuracy: 0.9845 - val_precision_3: 1.0000 - val_recall_3: 0.4750\n",
      "Epoch 49/100\n",
      "99/99 [==============================] - 0s 2ms/step - loss: 0.0328 - binary_accuracy: 0.9908 - precision_3: 0.8987 - recall_3: 0.7717 - val_loss: 0.0387 - val_binary_accuracy: 0.9904 - val_precision_3: 0.9355 - val_recall_3: 0.7250\n",
      "Epoch 50/100\n",
      "99/99 [==============================] - 0s 2ms/step - loss: 0.0397 - binary_accuracy: 0.9889 - precision_3: 0.9254 - recall_3: 0.6739 - val_loss: 0.0590 - val_binary_accuracy: 0.9852 - val_precision_3: 1.0000 - val_recall_3: 0.5000\n",
      "Epoch 51/100\n",
      "99/99 [==============================] - 0s 2ms/step - loss: 0.0299 - binary_accuracy: 0.9921 - precision_3: 0.9241 - recall_3: 0.7935 - val_loss: 0.0459 - val_binary_accuracy: 0.9874 - val_precision_3: 1.0000 - val_recall_3: 0.5750\n",
      "Epoch 52/100\n",
      "99/99 [==============================] - 0s 2ms/step - loss: 0.0186 - binary_accuracy: 0.9949 - precision_3: 0.9872 - recall_3: 0.8370 - val_loss: 0.0433 - val_binary_accuracy: 0.9867 - val_precision_3: 0.7750 - val_recall_3: 0.7750\n",
      "Epoch 53/100\n",
      "99/99 [==============================] - 0s 2ms/step - loss: 0.0195 - binary_accuracy: 0.9937 - precision_3: 0.9186 - recall_3: 0.8587 - val_loss: 0.0614 - val_binary_accuracy: 0.9874 - val_precision_3: 1.0000 - val_recall_3: 0.5750\n",
      "Epoch 54/100\n",
      "99/99 [==============================] - 0s 2ms/step - loss: 0.0222 - binary_accuracy: 0.9930 - precision_3: 0.9268 - recall_3: 0.8261 - val_loss: 0.0689 - val_binary_accuracy: 0.9845 - val_precision_3: 1.0000 - val_recall_3: 0.4750\n",
      "Epoch 55/100\n",
      "99/99 [==============================] - 0s 1ms/step - loss: 0.0226 - binary_accuracy: 0.9927 - precision_3: 0.9259 - recall_3: 0.8152 - val_loss: 0.0432 - val_binary_accuracy: 0.9882 - val_precision_3: 0.8333 - val_recall_3: 0.7500\n",
      "Epoch 56/100\n",
      "99/99 [==============================] - 0s 2ms/step - loss: 0.0234 - binary_accuracy: 0.9946 - precision_3: 0.9630 - recall_3: 0.8478 - val_loss: 0.0427 - val_binary_accuracy: 0.9904 - val_precision_3: 0.9355 - val_recall_3: 0.7250\n",
      "Epoch 57/100\n",
      "99/99 [==============================] - 0s 2ms/step - loss: 0.0208 - binary_accuracy: 0.9930 - precision_3: 0.9070 - recall_3: 0.8478 - val_loss: 0.0940 - val_binary_accuracy: 0.9830 - val_precision_3: 1.0000 - val_recall_3: 0.4250\n",
      "Epoch 58/100\n",
      "99/99 [==============================] - 0s 1ms/step - loss: 0.0200 - binary_accuracy: 0.9940 - precision_3: 0.9195 - recall_3: 0.8696 - val_loss: 0.0829 - val_binary_accuracy: 0.9830 - val_precision_3: 1.0000 - val_recall_3: 0.4250\n",
      "Epoch 59/100\n",
      "99/99 [==============================] - 0s 2ms/step - loss: 0.0211 - binary_accuracy: 0.9937 - precision_3: 0.9390 - recall_3: 0.8370 - val_loss: 0.0468 - val_binary_accuracy: 0.9837 - val_precision_3: 0.7045 - val_recall_3: 0.7750\n",
      "Epoch 60/100\n",
      "99/99 [==============================] - 0s 2ms/step - loss: 0.0151 - binary_accuracy: 0.9959 - precision_3: 0.9438 - recall_3: 0.9130 - val_loss: 0.0451 - val_binary_accuracy: 0.9896 - val_precision_3: 0.8824 - val_recall_3: 0.7500\n",
      "Epoch 61/100\n",
      "99/99 [==============================] - 0s 2ms/step - loss: 0.0208 - binary_accuracy: 0.9924 - precision_3: 0.9146 - recall_3: 0.8152 - val_loss: 0.0744 - val_binary_accuracy: 0.9845 - val_precision_3: 1.0000 - val_recall_3: 0.4750\n",
      "Epoch 62/100\n",
      "99/99 [==============================] - 0s 2ms/step - loss: 0.0208 - binary_accuracy: 0.9933 - precision_3: 0.9494 - recall_3: 0.8152 - val_loss: 0.0435 - val_binary_accuracy: 0.9859 - val_precision_3: 0.7692 - val_recall_3: 0.7500\n",
      "Epoch 63/100\n",
      "99/99 [==============================] - 0s 2ms/step - loss: 0.0174 - binary_accuracy: 0.9956 - precision_3: 0.9643 - recall_3: 0.8804 - val_loss: 0.0462 - val_binary_accuracy: 0.9882 - val_precision_3: 0.8333 - val_recall_3: 0.7500\n",
      "Epoch 64/100\n",
      "99/99 [==============================] - 0s 2ms/step - loss: 0.0269 - binary_accuracy: 0.9921 - precision_3: 0.9241 - recall_3: 0.7935 - val_loss: 0.0505 - val_binary_accuracy: 0.9896 - val_precision_3: 1.0000 - val_recall_3: 0.6500\n",
      "Epoch 65/100\n",
      "99/99 [==============================] - 0s 2ms/step - loss: 0.0315 - binary_accuracy: 0.9911 - precision_3: 0.9324 - recall_3: 0.7500 - val_loss: 0.0480 - val_binary_accuracy: 0.9889 - val_precision_3: 0.9630 - val_recall_3: 0.6500\n",
      "Epoch 66/100\n",
      "99/99 [==============================] - 0s 2ms/step - loss: 0.0232 - binary_accuracy: 0.9908 - precision_3: 0.8889 - recall_3: 0.7826 - val_loss: 0.0486 - val_binary_accuracy: 0.9889 - val_precision_3: 1.0000 - val_recall_3: 0.6250\n",
      "Epoch 67/100\n",
      "99/99 [==============================] - 0s 2ms/step - loss: 0.0218 - binary_accuracy: 0.9949 - precision_3: 0.9419 - recall_3: 0.8804 - val_loss: 0.0527 - val_binary_accuracy: 0.9882 - val_precision_3: 1.0000 - val_recall_3: 0.6000\n",
      "Epoch 68/100\n",
      "99/99 [==============================] - 0s 2ms/step - loss: 0.0269 - binary_accuracy: 0.9921 - precision_3: 0.9036 - recall_3: 0.8152 - val_loss: 0.0549 - val_binary_accuracy: 0.9830 - val_precision_3: 0.6889 - val_recall_3: 0.7750\n",
      "Epoch 69/100\n",
      "99/99 [==============================] - 0s 2ms/step - loss: 0.0171 - binary_accuracy: 0.9946 - precision_3: 0.9747 - recall_3: 0.8370 - val_loss: 0.0471 - val_binary_accuracy: 0.9889 - val_precision_3: 0.9310 - val_recall_3: 0.6750\n",
      "Epoch 70/100\n",
      "99/99 [==============================] - 0s 2ms/step - loss: 0.0158 - binary_accuracy: 0.9956 - precision_3: 0.9535 - recall_3: 0.8913 - val_loss: 0.0445 - val_binary_accuracy: 0.9889 - val_precision_3: 0.8571 - val_recall_3: 0.7500\n",
      "Epoch 71/100\n",
      "99/99 [==============================] - 0s 2ms/step - loss: 0.0442 - binary_accuracy: 0.9908 - precision_3: 0.9437 - recall_3: 0.7283 - val_loss: 0.1037 - val_binary_accuracy: 0.9778 - val_precision_3: 0.5926 - val_recall_3: 0.8000\n",
      "Epoch 72/100\n",
      "99/99 [==============================] - 0s 2ms/step - loss: 0.0422 - binary_accuracy: 0.9886 - precision_3: 0.9375 - recall_3: 0.6522 - val_loss: 0.0773 - val_binary_accuracy: 0.9763 - val_precision_3: 0.5690 - val_recall_3: 0.8250\n",
      "Epoch 73/100\n",
      "99/99 [==============================] - 0s 2ms/step - loss: 0.0202 - binary_accuracy: 0.9949 - precision_3: 0.9419 - recall_3: 0.8804 - val_loss: 0.0496 - val_binary_accuracy: 0.9882 - val_precision_3: 0.9286 - val_recall_3: 0.6500\n",
      "Epoch 74/100\n",
      "99/99 [==============================] - 0s 2ms/step - loss: 0.0304 - binary_accuracy: 0.9908 - precision_3: 0.9091 - recall_3: 0.7609 - val_loss: 0.0417 - val_binary_accuracy: 0.9882 - val_precision_3: 0.8529 - val_recall_3: 0.7250\n",
      "Epoch 75/100\n",
      "99/99 [==============================] - 0s 2ms/step - loss: 0.0178 - binary_accuracy: 0.9946 - precision_3: 0.9412 - recall_3: 0.8696 - val_loss: 0.0503 - val_binary_accuracy: 0.9882 - val_precision_3: 0.9286 - val_recall_3: 0.6500\n",
      "Epoch 76/100\n",
      "99/99 [==============================] - 0s 2ms/step - loss: 0.0174 - binary_accuracy: 0.9937 - precision_3: 0.9186 - recall_3: 0.8587 - val_loss: 0.0563 - val_binary_accuracy: 0.9837 - val_precision_3: 0.7045 - val_recall_3: 0.7750\n",
      "Epoch 77/100\n",
      "99/99 [==============================] - 0s 2ms/step - loss: 0.0160 - binary_accuracy: 0.9952 - precision_3: 0.9639 - recall_3: 0.8696 - val_loss: 0.0544 - val_binary_accuracy: 0.9889 - val_precision_3: 1.0000 - val_recall_3: 0.6250\n",
      "Epoch 78/100\n",
      "99/99 [==============================] - 0s 2ms/step - loss: 0.0262 - binary_accuracy: 0.9930 - precision_3: 0.9375 - recall_3: 0.8152 - val_loss: 0.0524 - val_binary_accuracy: 0.9830 - val_precision_3: 1.0000 - val_recall_3: 0.4250\n",
      "Epoch 79/100\n",
      "99/99 [==============================] - 0s 2ms/step - loss: 0.0196 - binary_accuracy: 0.9952 - precision_3: 0.9639 - recall_3: 0.8696 - val_loss: 0.0483 - val_binary_accuracy: 0.9889 - val_precision_3: 0.9630 - val_recall_3: 0.6500\n",
      "Epoch 80/100\n",
      "99/99 [==============================] - 0s 2ms/step - loss: 0.0335 - binary_accuracy: 0.9914 - precision_3: 0.9333 - recall_3: 0.7609 - val_loss: 0.0469 - val_binary_accuracy: 0.9882 - val_precision_3: 0.9615 - val_recall_3: 0.6250\n",
      "Epoch 81/100\n",
      "99/99 [==============================] - 0s 2ms/step - loss: 0.0207 - binary_accuracy: 0.9943 - precision_3: 0.9512 - recall_3: 0.8478 - val_loss: 0.0549 - val_binary_accuracy: 0.9874 - val_precision_3: 1.0000 - val_recall_3: 0.5750\n",
      "Epoch 82/100\n",
      "99/99 [==============================] - 0s 2ms/step - loss: 0.0190 - binary_accuracy: 0.9952 - precision_3: 0.9639 - recall_3: 0.8696 - val_loss: 0.0453 - val_binary_accuracy: 0.9889 - val_precision_3: 0.8788 - val_recall_3: 0.7250\n",
      "Epoch 83/100\n",
      "99/99 [==============================] - 0s 2ms/step - loss: 0.0254 - binary_accuracy: 0.9930 - precision_3: 0.9375 - recall_3: 0.8152 - val_loss: 0.0463 - val_binary_accuracy: 0.9896 - val_precision_3: 0.9643 - val_recall_3: 0.6750\n",
      "Epoch 84/100\n",
      "99/99 [==============================] - 0s 2ms/step - loss: 0.0265 - binary_accuracy: 0.9918 - precision_3: 0.9231 - recall_3: 0.7826 - val_loss: 0.1404 - val_binary_accuracy: 0.9756 - val_precision_3: 1.0000 - val_recall_3: 0.1750\n",
      "Epoch 85/100\n",
      "99/99 [==============================] - 0s 2ms/step - loss: 0.0260 - binary_accuracy: 0.9921 - precision_3: 0.9241 - recall_3: 0.7935 - val_loss: 0.0543 - val_binary_accuracy: 0.9882 - val_precision_3: 0.8529 - val_recall_3: 0.7250\n",
      "Epoch 86/100\n",
      "99/99 [==============================] - 0s 2ms/step - loss: 0.0295 - binary_accuracy: 0.9933 - precision_3: 0.9383 - recall_3: 0.8261 - val_loss: 0.0424 - val_binary_accuracy: 0.9889 - val_precision_3: 0.8571 - val_recall_3: 0.7500\n",
      "Epoch 87/100\n",
      "99/99 [==============================] - 0s 2ms/step - loss: 0.0365 - binary_accuracy: 0.9924 - precision_3: 0.9146 - recall_3: 0.8152 - val_loss: 0.0556 - val_binary_accuracy: 0.9852 - val_precision_3: 1.0000 - val_recall_3: 0.5000\n",
      "Epoch 88/100\n",
      "99/99 [==============================] - 0s 2ms/step - loss: 0.0201 - binary_accuracy: 0.9943 - precision_3: 0.9512 - recall_3: 0.8478 - val_loss: 0.0603 - val_binary_accuracy: 0.9830 - val_precision_3: 0.6889 - val_recall_3: 0.7750\n",
      "Epoch 89/100\n",
      "99/99 [==============================] - 0s 2ms/step - loss: 0.0226 - binary_accuracy: 0.9946 - precision_3: 0.9518 - recall_3: 0.8587 - val_loss: 0.0665 - val_binary_accuracy: 0.9867 - val_precision_3: 1.0000 - val_recall_3: 0.5500\n",
      "Epoch 90/100\n",
      "99/99 [==============================] - 0s 2ms/step - loss: 0.0176 - binary_accuracy: 0.9959 - precision_3: 0.9759 - recall_3: 0.8804 - val_loss: 0.0656 - val_binary_accuracy: 0.9830 - val_precision_3: 0.6889 - val_recall_3: 0.7750\n",
      "Epoch 91/100\n",
      "99/99 [==============================] - 0s 2ms/step - loss: 0.0168 - binary_accuracy: 0.9952 - precision_3: 0.9639 - recall_3: 0.8696 - val_loss: 0.0500 - val_binary_accuracy: 0.9882 - val_precision_3: 0.9615 - val_recall_3: 0.6250\n",
      "Epoch 92/100\n",
      "99/99 [==============================] - 0s 2ms/step - loss: 0.0194 - binary_accuracy: 0.9933 - precision_3: 0.9176 - recall_3: 0.8478 - val_loss: 0.0950 - val_binary_accuracy: 0.9815 - val_precision_3: 1.0000 - val_recall_3: 0.3750\n",
      "Epoch 93/100\n",
      "99/99 [==============================] - 0s 2ms/step - loss: 0.0263 - binary_accuracy: 0.9924 - precision_3: 0.9595 - recall_3: 0.7717 - val_loss: 0.0479 - val_binary_accuracy: 0.9882 - val_precision_3: 0.9000 - val_recall_3: 0.6750\n",
      "Epoch 94/100\n",
      "99/99 [==============================] - 0s 2ms/step - loss: 0.0190 - binary_accuracy: 0.9940 - precision_3: 0.9294 - recall_3: 0.8587 - val_loss: 0.0520 - val_binary_accuracy: 0.9874 - val_precision_3: 0.9600 - val_recall_3: 0.6000\n",
      "Epoch 95/100\n",
      "99/99 [==============================] - 0s 2ms/step - loss: 0.0142 - binary_accuracy: 0.9956 - precision_3: 0.9756 - recall_3: 0.8696 - val_loss: 0.1478 - val_binary_accuracy: 0.9734 - val_precision_3: 0.5333 - val_recall_3: 0.8000\n",
      "Epoch 96/100\n",
      "99/99 [==============================] - 0s 2ms/step - loss: 0.0174 - binary_accuracy: 0.9952 - precision_3: 0.9425 - recall_3: 0.8913 - val_loss: 0.1280 - val_binary_accuracy: 0.9793 - val_precision_3: 1.0000 - val_recall_3: 0.3000\n",
      "Epoch 97/100\n",
      "99/99 [==============================] - 0s 2ms/step - loss: 0.0395 - binary_accuracy: 0.9921 - precision_3: 0.9718 - recall_3: 0.7500 - val_loss: 0.0486 - val_binary_accuracy: 0.9882 - val_precision_3: 0.8333 - val_recall_3: 0.7500\n",
      "Epoch 98/100\n",
      "99/99 [==============================] - 0s 2ms/step - loss: 0.0176 - binary_accuracy: 0.9952 - precision_3: 0.9753 - recall_3: 0.8587 - val_loss: 0.0502 - val_binary_accuracy: 0.9852 - val_precision_3: 0.7500 - val_recall_3: 0.7500\n",
      "Epoch 99/100\n",
      "99/99 [==============================] - 0s 2ms/step - loss: 0.0146 - binary_accuracy: 0.9965 - precision_3: 0.9765 - recall_3: 0.9022 - val_loss: 0.0509 - val_binary_accuracy: 0.9889 - val_precision_3: 0.8571 - val_recall_3: 0.7500\n",
      "Epoch 100/100\n",
      "99/99 [==============================] - 0s 2ms/step - loss: 0.0186 - binary_accuracy: 0.9959 - precision_3: 0.9877 - recall_3: 0.8696 - val_loss: 0.0648 - val_binary_accuracy: 0.9859 - val_precision_3: 1.0000 - val_recall_3: 0.5250\n"
     ]
    }
   ],
   "source": [
    "MLP = model.fit(smiles_train,labels_train, epochs=100, verbose =1,validation_data=(smiles_test,labels_test))"
   ]
  },
  {
   "cell_type": "code",
   "execution_count": 53,
   "metadata": {},
   "outputs": [
    {
     "data": {
      "text/plain": [
       "<matplotlib.legend.Legend at 0x7fe1f456d4d0>"
      ]
     },
     "execution_count": 53,
     "metadata": {},
     "output_type": "execute_result"
    },
    {
     "data": {
      "image/png": "[encoded data removed]",
      "text/plain": [
       "<Figure size 720x720 with 1 Axes>"
      ]
     },
     "metadata": {
      "needs_background": "light"
     },
     "output_type": "display_data"
    }
   ],
   "source": [
    "import matplotlib.pyplot as plt\n",
    "plt.figure(figsize=(10,10))\n",
    "plt.plot(MLP.history['loss'],label = 'train')\n",
    "plt.plot(MLP.history['val_loss'],label = 'test')\n",
    "plt.title('Erro', fontsize =10)\n",
    "plt.xlabel('epoch')\n",
    "plt.ylabel('erro')\n",
    "plt.legend()\n"
   ]
  },
  {
   "cell_type": "code",
   "execution_count": 54,
   "metadata": {},
   "outputs": [],
   "source": [
    "predictions = np.round(model.predict(smiles_test))"
   ]
  },
  {
   "cell_type": "code",
   "execution_count": 55,
   "metadata": {},
   "outputs": [],
   "source": [
    "from sklearn.metrics import confusion_matrix\n",
    "cm = confusion_matrix(labels_test, predictions)"
   ]
  },
  {
   "cell_type": "code",
   "execution_count": 56,
   "metadata": {},
   "outputs": [],
   "source": [
    "import seaborn as sns\n"
   ]
  },
  {
   "cell_type": "code",
   "execution_count": 57,
   "metadata": {},
   "outputs": [
    {
     "data": {
      "text/plain": [
       "Text(0.5, 15.0, 'PREDICTED')"
      ]
     },
     "execution_count": 57,
     "metadata": {},
     "output_type": "execute_result"
    },
    {
     "data": {
      "image/png": "[encoded data removed]",
      "text/plain": [
       "<Figure size 432x288 with 2 Axes>"
      ]
     },
     "metadata": {
      "needs_background": "light"
     },
     "output_type": "display_data"
    }
   ],
   "source": [
    "sns.heatmap(cm, annot=True,cmap='coolwarm')\n",
    "plt.ylabel(\"TRUE\")\n",
    "plt.xlabel(\"PREDICTED\")"
   ]
  },
  {
   "cell_type": "code",
   "execution_count": 58,
   "metadata": {},
   "outputs": [],
   "source": [
    "tn, fp, fn, tp = confusion_matrix(labels_test, predictions).ravel()"
   ]
  },
  {
   "cell_type": "code",
   "execution_count": 59,
   "metadata": {},
   "outputs": [
    {
     "data": {
      "text/plain": [
       "(1311, 0, 19, 21)"
      ]
     },
     "execution_count": 59,
     "metadata": {},
     "output_type": "execute_result"
    }
   ],
   "source": [
    "tn, fp, fn, tp "
   ]
  },
  {
   "cell_type": "code",
   "execution_count": 60,
   "metadata": {},
   "outputs": [
    {
     "data": {
      "text/plain": [
       "0.9859363434492968"
      ]
     },
     "execution_count": 60,
     "metadata": {},
     "output_type": "execute_result"
    }
   ],
   "source": [
    "#acurácia\n",
    "(tp+tn)/(tp+tn+fp+fn)"
   ]
  },
  {
   "cell_type": "code",
   "execution_count": 61,
   "metadata": {},
   "outputs": [
    {
     "data": {
      "text/plain": [
       "0.525"
      ]
     },
     "execution_count": 61,
     "metadata": {},
     "output_type": "execute_result"
    }
   ],
   "source": [
    "#acerta o que é antibiótico\n",
    "(tp)/(tp+fn)"
   ]
  },
  {
   "cell_type": "code",
   "execution_count": 62,
   "metadata": {},
   "outputs": [
    {
     "data": {
      "text/plain": [
       "1.0"
      ]
     },
     "execution_count": 62,
     "metadata": {},
     "output_type": "execute_result"
    }
   ],
   "source": [
    "#acerta o que não é antibiótico\n",
    "(tn)/(tn+fp)"
   ]
  },
  {
   "cell_type": "markdown",
   "metadata": {},
   "source": [
    "Convolucional"
   ]
  },
  {
   "cell_type": "code",
   "execution_count": 63,
   "metadata": {},
   "outputs": [],
   "source": [
    "from tensorflow.keras.layers import Flatten, Dense, Conv1D, MaxPool1D, Dropout"
   ]
  },
  {
   "cell_type": "code",
   "execution_count": 94,
   "metadata": {},
   "outputs": [],
   "source": [
    "CNN = Sequential([\n",
    "    tf.keras.layers.Embedding(input_dim = 53+1, output_dim = 1, input_length = maior_smile),\n",
    "\n",
    "    tf.keras.layers.Conv1D(filters = 32,kernel_size = 3),  #Conv1\n",
    "    tf.keras.layers.MaxPooling1D(pool_size = 3), \n",
    "\n",
    "    #tf.keras.layers.Conv1D(filters = 64,kernel_size = 3),  #Conv2\n",
    "\n",
    "    tf.keras.layers.Conv1D(filters = 128,kernel_size = 3), #Conv3\n",
    "    tf.keras.layers.MaxPooling1D(pool_size = 3),\n",
    "\n",
    "    #tf.keras.layers.Conv1D(filters = 256,kernel_size = 3), #Conv4\n",
    "    \n",
    "\n",
    "    tf.keras.layers.Conv1D(filters = 256,kernel_size = 3), #Conv5\n",
    "    tf.keras.layers.MaxPooling1D(pool_size = 3),\n",
    "\n",
    "    tf.keras.layers.Conv1D(filters = 256,kernel_size = 3),    #Conv6\n",
    "    tf.keras.layers.MaxPooling1D(pool_size = 3),\n",
    "\n",
    "    tf.keras.layers.Flatten(),\n",
    "    tf.keras.layers.Dropout(0.42),\n",
    "    \n",
    "    tf.keras.layers.Dense(394, activation = \"relu\"),\n",
    "    tf.keras.layers.Dense(100, activation = \"relu\"),\n",
    "\n",
    "    tf.keras.layers.Dense(1, activation = \"sigmoid\")\n",
    "])\n",
    "CNN.compile(\n",
    "    optimizer = tf.optimizers.Adam(),\n",
    "    loss = tf.losses.BinaryCrossentropy(),\n",
    "    metrics = [\n",
    "        tf.metrics.BinaryAccuracy(),\n",
    "        tf.keras.metrics.Precision(),\n",
    "        tf.keras.metrics.Recall()\n",
    "    ]\n",
    ")\n"
   ]
  },
  {
   "cell_type": "code",
   "execution_count": 95,
   "metadata": {},
   "outputs": [
    {
     "name": "stdout",
     "output_type": "stream",
     "text": [
      "Epoch 1/50\n",
      "316/316 [==============================] - 2s 5ms/step - loss: 0.1561 - binary_accuracy: 0.9686 - precision_10: 0.0000e+00 - recall_10: 0.0000e+00 - val_loss: 0.1410 - val_binary_accuracy: 0.9704 - val_precision_10: 0.0000e+00 - val_recall_10: 0.0000e+00\n",
      "Epoch 2/50\n",
      "316/316 [==============================] - 2s 5ms/step - loss: 0.1514 - binary_accuracy: 0.9708 - precision_10: 0.0000e+00 - recall_10: 0.0000e+00 - val_loss: 0.1333 - val_binary_accuracy: 0.9704 - val_precision_10: 0.0000e+00 - val_recall_10: 0.0000e+00\n",
      "Epoch 3/50\n",
      "316/316 [==============================] - 1s 5ms/step - loss: 0.1399 - binary_accuracy: 0.9708 - precision_10: 0.0000e+00 - recall_10: 0.0000e+00 - val_loss: 0.1383 - val_binary_accuracy: 0.9704 - val_precision_10: 0.0000e+00 - val_recall_10: 0.0000e+00\n",
      "Epoch 4/50\n",
      "316/316 [==============================] - 1s 5ms/step - loss: 0.1387 - binary_accuracy: 0.9708 - precision_10: 0.0000e+00 - recall_10: 0.0000e+00 - val_loss: 0.4298 - val_binary_accuracy: 0.9704 - val_precision_10: 0.0000e+00 - val_recall_10: 0.0000e+00\n",
      "Epoch 5/50\n",
      "316/316 [==============================] - 1s 5ms/step - loss: 0.1540 - binary_accuracy: 0.9708 - precision_10: 0.0000e+00 - recall_10: 0.0000e+00 - val_loss: 0.1402 - val_binary_accuracy: 0.9704 - val_precision_10: 0.0000e+00 - val_recall_10: 0.0000e+00\n",
      "Epoch 6/50\n",
      "316/316 [==============================] - 2s 5ms/step - loss: 0.1371 - binary_accuracy: 0.9708 - precision_10: 0.0000e+00 - recall_10: 0.0000e+00 - val_loss: 0.1314 - val_binary_accuracy: 0.9704 - val_precision_10: 0.0000e+00 - val_recall_10: 0.0000e+00\n",
      "Epoch 7/50\n",
      "316/316 [==============================] - 2s 5ms/step - loss: 0.1310 - binary_accuracy: 0.9708 - precision_10: 0.0000e+00 - recall_10: 0.0000e+00 - val_loss: 0.1574 - val_binary_accuracy: 0.9704 - val_precision_10: 0.0000e+00 - val_recall_10: 0.0000e+00\n",
      "Epoch 8/50\n",
      "316/316 [==============================] - 2s 5ms/step - loss: 0.1370 - binary_accuracy: 0.9708 - precision_10: 0.0000e+00 - recall_10: 0.0000e+00 - val_loss: 0.1442 - val_binary_accuracy: 0.9704 - val_precision_10: 0.0000e+00 - val_recall_10: 0.0000e+00\n",
      "Epoch 9/50\n",
      "316/316 [==============================] - 2s 5ms/step - loss: 0.1382 - binary_accuracy: 0.9708 - precision_10: 0.0000e+00 - recall_10: 0.0000e+00 - val_loss: 0.1299 - val_binary_accuracy: 0.9704 - val_precision_10: 0.0000e+00 - val_recall_10: 0.0000e+00\n",
      "Epoch 10/50\n",
      "316/316 [==============================] - 1s 5ms/step - loss: 0.1347 - binary_accuracy: 0.9708 - precision_10: 0.0000e+00 - recall_10: 0.0000e+00 - val_loss: 0.1331 - val_binary_accuracy: 0.9704 - val_precision_10: 0.0000e+00 - val_recall_10: 0.0000e+00\n",
      "Epoch 11/50\n",
      "316/316 [==============================] - 1s 5ms/step - loss: 0.1347 - binary_accuracy: 0.9708 - precision_10: 0.0000e+00 - recall_10: 0.0000e+00 - val_loss: 0.1546 - val_binary_accuracy: 0.9704 - val_precision_10: 0.0000e+00 - val_recall_10: 0.0000e+00\n",
      "Epoch 12/50\n",
      "316/316 [==============================] - 1s 5ms/step - loss: 0.1362 - binary_accuracy: 0.9708 - precision_10: 0.0000e+00 - recall_10: 0.0000e+00 - val_loss: 0.1324 - val_binary_accuracy: 0.9704 - val_precision_10: 0.0000e+00 - val_recall_10: 0.0000e+00\n",
      "Epoch 13/50\n",
      "316/316 [==============================] - 1s 5ms/step - loss: 0.1312 - binary_accuracy: 0.9708 - precision_10: 0.0000e+00 - recall_10: 0.0000e+00 - val_loss: 0.1298 - val_binary_accuracy: 0.9704 - val_precision_10: 0.0000e+00 - val_recall_10: 0.0000e+00\n",
      "Epoch 14/50\n",
      "316/316 [==============================] - 1s 5ms/step - loss: 0.1271 - binary_accuracy: 0.9708 - precision_10: 0.5000 - recall_10: 0.0109 - val_loss: 0.1341 - val_binary_accuracy: 0.9711 - val_precision_10: 1.0000 - val_recall_10: 0.0250\n",
      "Epoch 15/50\n",
      "316/316 [==============================] - 1s 5ms/step - loss: 0.1528 - binary_accuracy: 0.9711 - precision_10: 0.6667 - recall_10: 0.0217 - val_loss: 0.1524 - val_binary_accuracy: 0.9704 - val_precision_10: 0.0000e+00 - val_recall_10: 0.0000e+00\n",
      "Epoch 16/50\n",
      "316/316 [==============================] - 1s 5ms/step - loss: 0.1417 - binary_accuracy: 0.9708 - precision_10: 0.0000e+00 - recall_10: 0.0000e+00 - val_loss: 0.1356 - val_binary_accuracy: 0.9704 - val_precision_10: 0.0000e+00 - val_recall_10: 0.0000e+00\n",
      "Epoch 17/50\n",
      "316/316 [==============================] - 1s 5ms/step - loss: 0.1294 - binary_accuracy: 0.9708 - precision_10: 0.0000e+00 - recall_10: 0.0000e+00 - val_loss: 0.1316 - val_binary_accuracy: 0.9704 - val_precision_10: 0.0000e+00 - val_recall_10: 0.0000e+00\n",
      "Epoch 18/50\n",
      "316/316 [==============================] - 2s 5ms/step - loss: 0.1298 - binary_accuracy: 0.9705 - precision_10: 0.0000e+00 - recall_10: 0.0000e+00 - val_loss: 0.1272 - val_binary_accuracy: 0.9704 - val_precision_10: 0.0000e+00 - val_recall_10: 0.0000e+00\n",
      "Epoch 19/50\n",
      "316/316 [==============================] - 2s 5ms/step - loss: 0.1231 - binary_accuracy: 0.9711 - precision_10: 1.0000 - recall_10: 0.0109 - val_loss: 0.1188 - val_binary_accuracy: 0.9726 - val_precision_10: 1.0000 - val_recall_10: 0.0750\n",
      "Epoch 20/50\n",
      "316/316 [==============================] - 1s 5ms/step - loss: 0.1200 - binary_accuracy: 0.9734 - precision_10: 0.7500 - recall_10: 0.1304 - val_loss: 0.1174 - val_binary_accuracy: 0.9734 - val_precision_10: 1.0000 - val_recall_10: 0.1000\n",
      "Epoch 21/50\n",
      "316/316 [==============================] - 1s 5ms/step - loss: 0.1226 - binary_accuracy: 0.9724 - precision_10: 0.7273 - recall_10: 0.0870 - val_loss: 0.1177 - val_binary_accuracy: 0.9711 - val_precision_10: 1.0000 - val_recall_10: 0.0250\n",
      "Epoch 22/50\n",
      "316/316 [==============================] - 2s 5ms/step - loss: 0.1216 - binary_accuracy: 0.9724 - precision_10: 0.6923 - recall_10: 0.0978 - val_loss: 0.1267 - val_binary_accuracy: 0.9704 - val_precision_10: 0.0000e+00 - val_recall_10: 0.0000e+00\n",
      "Epoch 23/50\n",
      "316/316 [==============================] - 1s 5ms/step - loss: 0.1202 - binary_accuracy: 0.9730 - precision_10: 0.8889 - recall_10: 0.0870 - val_loss: 0.1194 - val_binary_accuracy: 0.9734 - val_precision_10: 0.8333 - val_recall_10: 0.1250\n",
      "Epoch 24/50\n",
      "316/316 [==============================] - 1s 5ms/step - loss: 0.1212 - binary_accuracy: 0.9734 - precision_10: 0.7857 - recall_10: 0.1196 - val_loss: 0.1145 - val_binary_accuracy: 0.9741 - val_precision_10: 1.0000 - val_recall_10: 0.1250\n",
      "Epoch 25/50\n",
      "316/316 [==============================] - 2s 5ms/step - loss: 0.1197 - binary_accuracy: 0.9737 - precision_10: 0.8462 - recall_10: 0.1196 - val_loss: 0.1196 - val_binary_accuracy: 0.9719 - val_precision_10: 1.0000 - val_recall_10: 0.0500\n",
      "Epoch 26/50\n",
      "316/316 [==============================] - 2s 5ms/step - loss: 0.1179 - binary_accuracy: 0.9737 - precision_10: 0.9091 - recall_10: 0.1087 - val_loss: 0.1143 - val_binary_accuracy: 0.9741 - val_precision_10: 1.0000 - val_recall_10: 0.1250\n",
      "Epoch 27/50\n",
      "316/316 [==============================] - 1s 5ms/step - loss: 0.1421 - binary_accuracy: 0.9714 - precision_10: 0.6250 - recall_10: 0.0543 - val_loss: 0.1227 - val_binary_accuracy: 0.9726 - val_precision_10: 1.0000 - val_recall_10: 0.0750\n",
      "Epoch 28/50\n",
      "316/316 [==============================] - 2s 5ms/step - loss: 0.1272 - binary_accuracy: 0.9711 - precision_10: 0.5714 - recall_10: 0.0435 - val_loss: 0.1214 - val_binary_accuracy: 0.9711 - val_precision_10: 1.0000 - val_recall_10: 0.0250\n",
      "Epoch 29/50\n",
      "316/316 [==============================] - 2s 5ms/step - loss: 0.1211 - binary_accuracy: 0.9734 - precision_10: 0.8333 - recall_10: 0.1087 - val_loss: 0.1159 - val_binary_accuracy: 0.9734 - val_precision_10: 1.0000 - val_recall_10: 0.1000\n",
      "Epoch 30/50\n",
      "316/316 [==============================] - 2s 5ms/step - loss: 0.1178 - binary_accuracy: 0.9737 - precision_10: 0.8462 - recall_10: 0.1196 - val_loss: 0.1173 - val_binary_accuracy: 0.9726 - val_precision_10: 1.0000 - val_recall_10: 0.0750\n",
      "Epoch 31/50\n",
      "316/316 [==============================] - 1s 5ms/step - loss: 0.1164 - binary_accuracy: 0.9743 - precision_10: 0.9231 - recall_10: 0.1304 - val_loss: 0.1226 - val_binary_accuracy: 0.9726 - val_precision_10: 1.0000 - val_recall_10: 0.0750\n",
      "Epoch 32/50\n",
      "316/316 [==============================] - 2s 5ms/step - loss: 0.1180 - binary_accuracy: 0.9737 - precision_10: 0.8462 - recall_10: 0.1196 - val_loss: 0.1206 - val_binary_accuracy: 0.9719 - val_precision_10: 1.0000 - val_recall_10: 0.0500\n",
      "Epoch 33/50\n",
      "316/316 [==============================] - 1s 5ms/step - loss: 0.1169 - binary_accuracy: 0.9743 - precision_10: 0.9231 - recall_10: 0.1304 - val_loss: 0.1277 - val_binary_accuracy: 0.9726 - val_precision_10: 1.0000 - val_recall_10: 0.0750\n",
      "Epoch 34/50\n",
      "316/316 [==============================] - 1s 5ms/step - loss: 0.1169 - binary_accuracy: 0.9746 - precision_10: 1.0000 - recall_10: 0.1304 - val_loss: 0.1228 - val_binary_accuracy: 0.9726 - val_precision_10: 1.0000 - val_recall_10: 0.0750\n",
      "Epoch 35/50\n",
      "316/316 [==============================] - 2s 5ms/step - loss: 0.1185 - binary_accuracy: 0.9746 - precision_10: 1.0000 - recall_10: 0.1304 - val_loss: 0.1372 - val_binary_accuracy: 0.9719 - val_precision_10: 1.0000 - val_recall_10: 0.0500\n",
      "Epoch 36/50\n",
      "316/316 [==============================] - 1s 5ms/step - loss: 0.1196 - binary_accuracy: 0.9740 - precision_10: 0.8571 - recall_10: 0.1304 - val_loss: 0.1327 - val_binary_accuracy: 0.9711 - val_precision_10: 1.0000 - val_recall_10: 0.0250\n",
      "Epoch 37/50\n",
      "316/316 [==============================] - 2s 5ms/step - loss: 0.1187 - binary_accuracy: 0.9740 - precision_10: 1.0000 - recall_10: 0.1087 - val_loss: 0.1168 - val_binary_accuracy: 0.9734 - val_precision_10: 1.0000 - val_recall_10: 0.1000\n",
      "Epoch 38/50\n",
      "316/316 [==============================] - 2s 5ms/step - loss: 0.1193 - binary_accuracy: 0.9749 - precision_10: 1.0000 - recall_10: 0.1413 - val_loss: 0.1292 - val_binary_accuracy: 0.9734 - val_precision_10: 1.0000 - val_recall_10: 0.1000\n",
      "Epoch 39/50\n",
      "316/316 [==============================] - 2s 5ms/step - loss: 0.1171 - binary_accuracy: 0.9749 - precision_10: 1.0000 - recall_10: 0.1413 - val_loss: 0.1288 - val_binary_accuracy: 0.9726 - val_precision_10: 1.0000 - val_recall_10: 0.0750\n",
      "Epoch 40/50\n",
      "316/316 [==============================] - 2s 5ms/step - loss: 0.1175 - binary_accuracy: 0.9746 - precision_10: 1.0000 - recall_10: 0.1304 - val_loss: 0.1270 - val_binary_accuracy: 0.9726 - val_precision_10: 0.8000 - val_recall_10: 0.1000\n",
      "Epoch 41/50\n",
      "316/316 [==============================] - 1s 5ms/step - loss: 0.1159 - binary_accuracy: 0.9749 - precision_10: 1.0000 - recall_10: 0.1413 - val_loss: 0.1258 - val_binary_accuracy: 0.9734 - val_precision_10: 1.0000 - val_recall_10: 0.1000\n",
      "Epoch 42/50\n",
      "316/316 [==============================] - 2s 5ms/step - loss: 0.1830 - binary_accuracy: 0.9705 - precision_10: 0.3333 - recall_10: 0.0109 - val_loss: 0.1301 - val_binary_accuracy: 0.9704 - val_precision_10: 0.0000e+00 - val_recall_10: 0.0000e+00\n",
      "Epoch 43/50\n",
      "316/316 [==============================] - 2s 5ms/step - loss: 0.1337 - binary_accuracy: 0.9708 - precision_10: 0.0000e+00 - recall_10: 0.0000e+00 - val_loss: 0.1398 - val_binary_accuracy: 0.9704 - val_precision_10: 0.0000e+00 - val_recall_10: 0.0000e+00\n",
      "Epoch 44/50\n",
      "316/316 [==============================] - 1s 5ms/step - loss: 0.1353 - binary_accuracy: 0.9708 - precision_10: 0.0000e+00 - recall_10: 0.0000e+00 - val_loss: 0.1319 - val_binary_accuracy: 0.9704 - val_precision_10: 0.0000e+00 - val_recall_10: 0.0000e+00\n",
      "Epoch 45/50\n",
      "316/316 [==============================] - 1s 5ms/step - loss: 0.1305 - binary_accuracy: 0.9708 - precision_10: 0.0000e+00 - recall_10: 0.0000e+00 - val_loss: 0.1247 - val_binary_accuracy: 0.9704 - val_precision_10: 0.0000e+00 - val_recall_10: 0.0000e+00\n",
      "Epoch 46/50\n",
      "316/316 [==============================] - 2s 5ms/step - loss: 0.1182 - binary_accuracy: 0.9734 - precision_10: 0.9000 - recall_10: 0.0978 - val_loss: 0.1195 - val_binary_accuracy: 0.9734 - val_precision_10: 1.0000 - val_recall_10: 0.1000\n",
      "Epoch 47/50\n",
      "316/316 [==============================] - 1s 5ms/step - loss: 0.1232 - binary_accuracy: 0.9740 - precision_10: 0.9167 - recall_10: 0.1196 - val_loss: 0.1159 - val_binary_accuracy: 0.9734 - val_precision_10: 1.0000 - val_recall_10: 0.1000\n",
      "Epoch 48/50\n",
      "316/316 [==============================] - 2s 5ms/step - loss: 0.1184 - binary_accuracy: 0.9743 - precision_10: 0.9231 - recall_10: 0.1304 - val_loss: 0.1221 - val_binary_accuracy: 0.9734 - val_precision_10: 1.0000 - val_recall_10: 0.1000\n",
      "Epoch 49/50\n",
      "316/316 [==============================] - 1s 5ms/step - loss: 0.1183 - binary_accuracy: 0.9743 - precision_10: 0.9231 - recall_10: 0.1304 - val_loss: 0.1255 - val_binary_accuracy: 0.9726 - val_precision_10: 1.0000 - val_recall_10: 0.0750\n",
      "Epoch 50/50\n",
      "316/316 [==============================] - 2s 5ms/step - loss: 0.1158 - binary_accuracy: 0.9749 - precision_10: 1.0000 - recall_10: 0.1413 - val_loss: 0.1161 - val_binary_accuracy: 0.9734 - val_precision_10: 1.0000 - val_recall_10: 0.1000\n"
     ]
    }
   ],
   "source": [
    "trainer = CNN.fit(\n",
    "     smiles_train,\n",
    "     labels_train,\n",
    "     epochs = 50,\n",
    "     batch_size = 10,\n",
    "     validation_data = (smiles_test,labels_test),  \n",
    "     verbose = 1)"
   ]
  },
  {
   "cell_type": "code",
   "execution_count": 96,
   "metadata": {},
   "outputs": [],
   "source": [
    "y_hat = (CNN.predict(smiles_test) > 0.5).astype(\"float\")"
   ]
  },
  {
   "cell_type": "code",
   "execution_count": 97,
   "metadata": {},
   "outputs": [
    {
     "data": {
      "text/plain": [
       "Text(0, 0.5, 'Binary Accuracy')"
      ]
     },
     "execution_count": 97,
     "metadata": {},
     "output_type": "execute_result"
    },
    {
     "data": {
      "image/png": "[encoded data removed]",
      "text/plain": [
       "<Figure size 432x288 with 1 Axes>"
      ]
     },
     "metadata": {
      "needs_background": "light"
     },
     "output_type": "display_data"
    }
   ],
   "source": [
    "plt.plot(trainer.history['binary_accuracy'])\n",
    "plt.plot(trainer.history['val_binary_accuracy'])\n",
    "plt.legend([\"binary_accuracy\",\"val_binary_accuracy\"])\n",
    "plt.title('Binary_Accuracy Vs Val_Binary_Accuracy')\n",
    "plt.xlabel('Epoch')\n",
    "plt.ylabel('Binary Accuracy')"
   ]
  },
  {
   "cell_type": "code",
   "execution_count": 98,
   "metadata": {},
   "outputs": [
    {
     "data": {
      "text/plain": [
       "Text(0, 0.5, 'Loss')"
      ]
     },
     "execution_count": 98,
     "metadata": {},
     "output_type": "execute_result"
    },
    {
     "data": {
      "image/png": "[encoded data removed]",
      "text/plain": [
       "<Figure size 432x288 with 1 Axes>"
      ]
     },
     "metadata": {
      "needs_background": "light"
     },
     "output_type": "display_data"
    }
   ],
   "source": [
    "plt.plot(trainer.history['loss'])\n",
    "plt.plot(trainer.history['val_loss'])\n",
    "plt.legend([\"loss\",\"val_loss\"])\n",
    "plt.title('Loss Vs Val_loss')\n",
    "plt.xlabel('Epoch')\n",
    "plt.ylabel('Loss')"
   ]
  },
  {
   "cell_type": "code",
   "execution_count": 99,
   "metadata": {},
   "outputs": [],
   "source": [
    "cm2 = confusion_matrix(labels_test, y_hat)  "
   ]
  },
  {
   "cell_type": "code",
   "execution_count": 100,
   "metadata": {},
   "outputs": [
    {
     "data": {
      "text/plain": [
       "Text(0.5, 33.0, 'Predicted Values')"
      ]
     },
     "execution_count": 100,
     "metadata": {},
     "output_type": "execute_result"
    },
    {
     "data": {
      "image/png": "[encoded data removed]",
      "text/plain": [
       "<Figure size 432x432 with 2 Axes>"
      ]
     },
     "metadata": {
      "needs_background": "light"
     },
     "output_type": "display_data"
    }
   ],
   "source": [
    "plt.figure(figsize = (6,6))\n",
    "sns.heatmap(cm2, annot = True, fmt = \".5g\", cmap = \"coolwarm\",linewidths=.5)\n",
    "plt.ylabel('Actual Values',fontsize = 14)\n",
    "plt.xlabel('Predicted Values')\n"
   ]
  },
  {
   "cell_type": "code",
   "execution_count": 102,
   "metadata": {},
   "outputs": [
    {
     "data": {
      "text/plain": [
       "(1311, 0, 36, 4)"
      ]
     },
     "execution_count": 102,
     "metadata": {},
     "output_type": "execute_result"
    }
   ],
   "source": [
    "tn2, fp2, fn2, tp2 = confusion_matrix(labels_test, y_hat).ravel()\n",
    "tn2, fp2, fn2, tp2"
   ]
  },
  {
   "cell_type": "code",
   "execution_count": 103,
   "metadata": {},
   "outputs": [
    {
     "data": {
      "text/plain": [
       "0.9733530717986677"
      ]
     },
     "execution_count": 103,
     "metadata": {},
     "output_type": "execute_result"
    }
   ],
   "source": [
    "#acurácia\n",
    "(tp2+tn2)/(tp2+tn2+fp2+fn2)"
   ]
  },
  {
   "cell_type": "code",
   "execution_count": 104,
   "metadata": {},
   "outputs": [
    {
     "data": {
      "text/plain": [
       "0.1"
      ]
     },
     "execution_count": 104,
     "metadata": {},
     "output_type": "execute_result"
    }
   ],
   "source": [
    "#acerta o que é antimalárico\n",
    "(tp2)/(tp2+fn2)"
   ]
  },
  {
   "cell_type": "code",
   "execution_count": 105,
   "metadata": {},
   "outputs": [
    {
     "data": {
      "text/plain": [
       "1.0"
      ]
     },
     "execution_count": 105,
     "metadata": {},
     "output_type": "execute_result"
    }
   ],
   "source": [
    "#acerta o que não é antimalárico\n",
    "(tn2)/(tn2+fp2)"
   ]
  },
  {
   "cell_type": "markdown",
   "metadata": {},
   "source": [
    "Convolucional mais simples"
   ]
  },
  {
   "cell_type": "code",
   "execution_count": 138,
   "metadata": {},
   "outputs": [],
   "source": [
    "CNN2 = tf.keras.models.Sequential([\n",
    "    tf.keras.layers.Embedding(input_dim = 53,output_dim = 1,input_length = maior_smile),\n",
    "    tf.keras.layers.Conv1D(filters = 16,kernel_size = 3),\n",
    "    tf.keras.layers.MaxPooling1D(pool_size = 5),\n",
    "    #tf.keras.layers.Dropout(0.42),\n",
    "    tf.keras.layers.Conv1D(filters = 32,kernel_size = 3),\n",
    "    tf.keras.layers.MaxPooling1D(pool_size = 4),\n",
    "    #tf.keras.layers.Dropout(0.42),\n",
    "    tf.keras.layers.Conv1D(filters = 64,kernel_size = 3),\n",
    "    tf.keras.layers.MaxPooling1D(pool_size = 2),\n",
    "    #tf.keras.layers.Dropout(0.42),\n",
    "    tf.keras.layers.Conv1D(filters = 128,kernel_size = 3),\n",
    "    tf.keras.layers.MaxPooling1D(pool_size = 2),   \n",
    "    tf.keras.layers.Flatten(),\n",
    "    tf.keras.layers.Dropout(0.42),\n",
    "\n",
    "    tf.keras.layers.Dense(394, activation = \"relu\"),\n",
    "    tf.keras.layers.Dense(150, activation = \"relu\"),\n",
    "    tf.keras.layers.Dense(1, activation = \"sigmoid\")\n",
    "    ])\n",
    "CNN2.compile(\n",
    "    optimizer = tf.optimizers.Adam(),\n",
    "    loss = tf.losses.BinaryCrossentropy(),\n",
    "    metrics = [\n",
    "        tf.metrics.BinaryAccuracy(),\n",
    "        tf.keras.metrics.Precision(),\n",
    "        tf.keras.metrics.Recall()\n",
    "    ]\n",
    ")\n"
   ]
  },
  {
   "cell_type": "code",
   "execution_count": 139,
   "metadata": {},
   "outputs": [
    {
     "name": "stdout",
     "output_type": "stream",
     "text": [
      "Epoch 1/100\n",
      "316/316 [==============================] - 2s 4ms/step - loss: 0.1543 - binary_accuracy: 0.9708 - precision_17: 0.0000e+00 - recall_17: 0.0000e+00 - val_loss: 0.0513 - val_binary_accuracy: 0.9704 - val_precision_17: 0.0000e+00 - val_recall_17: 0.0000e+00\n",
      "Epoch 2/100\n",
      "316/316 [==============================] - 1s 3ms/step - loss: 0.0166 - binary_accuracy: 0.9965 - precision_17: 0.9880 - recall_17: 0.8913 - val_loss: 0.0295 - val_binary_accuracy: 0.9963 - val_precision_17: 0.9730 - val_recall_17: 0.9000\n",
      "Epoch 3/100\n",
      "316/316 [==============================] - 1s 3ms/step - loss: 0.0105 - binary_accuracy: 0.9984 - precision_17: 0.9780 - recall_17: 0.9674 - val_loss: 0.0370 - val_binary_accuracy: 0.9948 - val_precision_17: 1.0000 - val_recall_17: 0.8250\n",
      "Epoch 4/100\n",
      "316/316 [==============================] - 1s 3ms/step - loss: 0.0072 - binary_accuracy: 0.9990 - precision_17: 1.0000 - recall_17: 0.9674 - val_loss: 0.0390 - val_binary_accuracy: 0.9963 - val_precision_17: 1.0000 - val_recall_17: 0.8750\n",
      "Epoch 5/100\n",
      "316/316 [==============================] - 1s 3ms/step - loss: 0.0099 - binary_accuracy: 0.9990 - precision_17: 1.0000 - recall_17: 0.9674 - val_loss: 0.0312 - val_binary_accuracy: 0.9963 - val_precision_17: 0.9730 - val_recall_17: 0.9000\n",
      "Epoch 6/100\n",
      "316/316 [==============================] - 1s 3ms/step - loss: 0.0068 - binary_accuracy: 0.9990 - precision_17: 1.0000 - recall_17: 0.9674 - val_loss: 0.0254 - val_binary_accuracy: 0.9963 - val_precision_17: 0.9730 - val_recall_17: 0.9000\n",
      "Epoch 7/100\n",
      "316/316 [==============================] - 1s 3ms/step - loss: 0.0088 - binary_accuracy: 0.9990 - precision_17: 1.0000 - recall_17: 0.9674 - val_loss: 0.0239 - val_binary_accuracy: 0.9956 - val_precision_17: 0.9722 - val_recall_17: 0.8750\n",
      "Epoch 8/100\n",
      "316/316 [==============================] - 1s 3ms/step - loss: 0.0054 - binary_accuracy: 0.9990 - precision_17: 0.9890 - recall_17: 0.9783 - val_loss: 0.0320 - val_binary_accuracy: 0.9963 - val_precision_17: 1.0000 - val_recall_17: 0.8750\n",
      "Epoch 9/100\n",
      "316/316 [==============================] - 1s 3ms/step - loss: 0.0107 - binary_accuracy: 0.9987 - precision_17: 1.0000 - recall_17: 0.9565 - val_loss: 0.0318 - val_binary_accuracy: 0.9963 - val_precision_17: 0.9730 - val_recall_17: 0.9000\n",
      "Epoch 10/100\n",
      "316/316 [==============================] - 1s 3ms/step - loss: 0.0082 - binary_accuracy: 0.9984 - precision_17: 0.9888 - recall_17: 0.9565 - val_loss: 0.0443 - val_binary_accuracy: 0.9889 - val_precision_17: 0.7660 - val_recall_17: 0.9000\n",
      "Epoch 11/100\n",
      "316/316 [==============================] - 1s 3ms/step - loss: 0.0140 - binary_accuracy: 0.9984 - precision_17: 0.9780 - recall_17: 0.9674 - val_loss: 0.0261 - val_binary_accuracy: 0.9970 - val_precision_17: 1.0000 - val_recall_17: 0.9000\n",
      "Epoch 12/100\n",
      "316/316 [==============================] - 1s 3ms/step - loss: 0.0050 - binary_accuracy: 0.9994 - precision_17: 1.0000 - recall_17: 0.9783 - val_loss: 0.0326 - val_binary_accuracy: 0.9970 - val_precision_17: 1.0000 - val_recall_17: 0.9000\n",
      "Epoch 13/100\n",
      "316/316 [==============================] - 1s 3ms/step - loss: 0.0045 - binary_accuracy: 0.9994 - precision_17: 1.0000 - recall_17: 0.9783 - val_loss: 0.0336 - val_binary_accuracy: 0.9970 - val_precision_17: 1.0000 - val_recall_17: 0.9000\n",
      "Epoch 14/100\n",
      "316/316 [==============================] - 1s 3ms/step - loss: 0.0026 - binary_accuracy: 0.9994 - precision_17: 1.0000 - recall_17: 0.9783 - val_loss: 0.0263 - val_binary_accuracy: 0.9948 - val_precision_17: 0.9231 - val_recall_17: 0.9000\n",
      "Epoch 15/100\n",
      "316/316 [==============================] - 1s 3ms/step - loss: 0.0084 - binary_accuracy: 0.9987 - precision_17: 0.9889 - recall_17: 0.9674 - val_loss: 0.0309 - val_binary_accuracy: 0.9970 - val_precision_17: 1.0000 - val_recall_17: 0.9000\n",
      "Epoch 16/100\n",
      "316/316 [==============================] - 1s 3ms/step - loss: 0.0098 - binary_accuracy: 0.9981 - precision_17: 0.9674 - recall_17: 0.9674 - val_loss: 0.0264 - val_binary_accuracy: 0.9970 - val_precision_17: 1.0000 - val_recall_17: 0.9000\n",
      "Epoch 17/100\n",
      "316/316 [==============================] - 1s 3ms/step - loss: 0.0034 - binary_accuracy: 0.9990 - precision_17: 0.9890 - recall_17: 0.9783 - val_loss: 0.0220 - val_binary_accuracy: 0.9970 - val_precision_17: 1.0000 - val_recall_17: 0.9000\n",
      "Epoch 18/100\n",
      "316/316 [==============================] - 1s 3ms/step - loss: 0.0040 - binary_accuracy: 0.9987 - precision_17: 0.9783 - recall_17: 0.9783 - val_loss: 0.0366 - val_binary_accuracy: 0.9970 - val_precision_17: 1.0000 - val_recall_17: 0.9000\n",
      "Epoch 19/100\n",
      "316/316 [==============================] - 1s 3ms/step - loss: 0.0028 - binary_accuracy: 0.9997 - precision_17: 1.0000 - recall_17: 0.9891 - val_loss: 0.0378 - val_binary_accuracy: 0.9970 - val_precision_17: 1.0000 - val_recall_17: 0.9000\n",
      "Epoch 20/100\n",
      "316/316 [==============================] - 1s 3ms/step - loss: 0.0046 - binary_accuracy: 0.9990 - precision_17: 0.9890 - recall_17: 0.9783 - val_loss: 0.0317 - val_binary_accuracy: 0.9948 - val_precision_17: 0.9231 - val_recall_17: 0.9000\n",
      "Epoch 21/100\n",
      "316/316 [==============================] - 1s 3ms/step - loss: 0.0052 - binary_accuracy: 0.9990 - precision_17: 0.9890 - recall_17: 0.9783 - val_loss: 0.0361 - val_binary_accuracy: 0.9970 - val_precision_17: 1.0000 - val_recall_17: 0.9000\n",
      "Epoch 22/100\n",
      "316/316 [==============================] - 1s 3ms/step - loss: 0.0047 - binary_accuracy: 0.9990 - precision_17: 0.9890 - recall_17: 0.9783 - val_loss: 0.0292 - val_binary_accuracy: 0.9948 - val_precision_17: 0.9231 - val_recall_17: 0.9000\n",
      "Epoch 23/100\n",
      "316/316 [==============================] - 1s 3ms/step - loss: 0.0027 - binary_accuracy: 0.9990 - precision_17: 0.9785 - recall_17: 0.9891 - val_loss: 0.0368 - val_binary_accuracy: 0.9970 - val_precision_17: 1.0000 - val_recall_17: 0.9000\n",
      "Epoch 24/100\n",
      "316/316 [==============================] - 1s 3ms/step - loss: 0.0021 - binary_accuracy: 0.9994 - precision_17: 1.0000 - recall_17: 0.9783 - val_loss: 0.0407 - val_binary_accuracy: 0.9970 - val_precision_17: 1.0000 - val_recall_17: 0.9000\n",
      "Epoch 25/100\n",
      "316/316 [==============================] - 1s 3ms/step - loss: 0.0035 - binary_accuracy: 0.9994 - precision_17: 0.9891 - recall_17: 0.9891 - val_loss: 0.0543 - val_binary_accuracy: 0.9963 - val_precision_17: 1.0000 - val_recall_17: 0.8750\n",
      "Epoch 26/100\n",
      "316/316 [==============================] - 1s 3ms/step - loss: 0.0037 - binary_accuracy: 0.9994 - precision_17: 1.0000 - recall_17: 0.9783 - val_loss: 0.0450 - val_binary_accuracy: 0.9963 - val_precision_17: 1.0000 - val_recall_17: 0.8750\n",
      "Epoch 27/100\n",
      "316/316 [==============================] - 1s 3ms/step - loss: 0.0039 - binary_accuracy: 0.9994 - precision_17: 1.0000 - recall_17: 0.9783 - val_loss: 0.0542 - val_binary_accuracy: 0.9970 - val_precision_17: 1.0000 - val_recall_17: 0.9000\n",
      "Epoch 28/100\n",
      "316/316 [==============================] - 1s 3ms/step - loss: 0.0038 - binary_accuracy: 0.9990 - precision_17: 1.0000 - recall_17: 0.9674 - val_loss: 0.0466 - val_binary_accuracy: 0.9970 - val_precision_17: 1.0000 - val_recall_17: 0.9000\n",
      "Epoch 29/100\n",
      "316/316 [==============================] - 1s 3ms/step - loss: 0.0030 - binary_accuracy: 0.9994 - precision_17: 1.0000 - recall_17: 0.9783 - val_loss: 0.0475 - val_binary_accuracy: 0.9963 - val_precision_17: 1.0000 - val_recall_17: 0.8750\n",
      "Epoch 30/100\n",
      "316/316 [==============================] - 1s 3ms/step - loss: 0.0036 - binary_accuracy: 0.9994 - precision_17: 0.9891 - recall_17: 0.9891 - val_loss: 0.0608 - val_binary_accuracy: 0.9963 - val_precision_17: 1.0000 - val_recall_17: 0.8750\n",
      "Epoch 31/100\n",
      "316/316 [==============================] - 1s 3ms/step - loss: 0.0016 - binary_accuracy: 0.9994 - precision_17: 0.9891 - recall_17: 0.9891 - val_loss: 0.0713 - val_binary_accuracy: 0.9970 - val_precision_17: 1.0000 - val_recall_17: 0.9000\n",
      "Epoch 32/100\n",
      "316/316 [==============================] - 1s 3ms/step - loss: 0.0213 - binary_accuracy: 0.9978 - precision_17: 0.9775 - recall_17: 0.9457 - val_loss: 0.0419 - val_binary_accuracy: 0.9963 - val_precision_17: 1.0000 - val_recall_17: 0.8750\n",
      "Epoch 33/100\n",
      "316/316 [==============================] - 1s 3ms/step - loss: 0.0030 - binary_accuracy: 0.9994 - precision_17: 1.0000 - recall_17: 0.9783 - val_loss: 0.0558 - val_binary_accuracy: 0.9963 - val_precision_17: 1.0000 - val_recall_17: 0.8750\n",
      "Epoch 34/100\n",
      "316/316 [==============================] - 1s 3ms/step - loss: 0.0020 - binary_accuracy: 0.9990 - precision_17: 0.9890 - recall_17: 0.9783 - val_loss: 0.0647 - val_binary_accuracy: 0.9963 - val_precision_17: 1.0000 - val_recall_17: 0.8750\n",
      "Epoch 35/100\n",
      "316/316 [==============================] - 1s 3ms/step - loss: 0.0020 - binary_accuracy: 0.9994 - precision_17: 0.9891 - recall_17: 0.9891 - val_loss: 0.0761 - val_binary_accuracy: 0.9963 - val_precision_17: 1.0000 - val_recall_17: 0.8750\n",
      "Epoch 36/100\n",
      "316/316 [==============================] - 1s 3ms/step - loss: 0.0031 - binary_accuracy: 0.9994 - precision_17: 1.0000 - recall_17: 0.9783 - val_loss: 0.0873 - val_binary_accuracy: 0.9963 - val_precision_17: 1.0000 - val_recall_17: 0.8750\n",
      "Epoch 37/100\n",
      "316/316 [==============================] - 1s 3ms/step - loss: 0.0076 - binary_accuracy: 0.9987 - precision_17: 0.9889 - recall_17: 0.9674 - val_loss: 0.0895 - val_binary_accuracy: 0.9963 - val_precision_17: 1.0000 - val_recall_17: 0.8750\n",
      "Epoch 38/100\n",
      "316/316 [==============================] - 1s 3ms/step - loss: 0.0051 - binary_accuracy: 0.9990 - precision_17: 0.9890 - recall_17: 0.9783 - val_loss: 0.0672 - val_binary_accuracy: 0.9970 - val_precision_17: 1.0000 - val_recall_17: 0.9000\n",
      "Epoch 39/100\n",
      "316/316 [==============================] - 1s 3ms/step - loss: 0.0043 - binary_accuracy: 0.9994 - precision_17: 0.9891 - recall_17: 0.9891 - val_loss: 0.0529 - val_binary_accuracy: 0.9970 - val_precision_17: 1.0000 - val_recall_17: 0.9000\n",
      "Epoch 40/100\n",
      "316/316 [==============================] - 1s 3ms/step - loss: 0.0029 - binary_accuracy: 0.9994 - precision_17: 1.0000 - recall_17: 0.9783 - val_loss: 0.0464 - val_binary_accuracy: 0.9970 - val_precision_17: 1.0000 - val_recall_17: 0.9000\n",
      "Epoch 41/100\n",
      "316/316 [==============================] - 1s 3ms/step - loss: 0.0024 - binary_accuracy: 0.9997 - precision_17: 1.0000 - recall_17: 0.9891 - val_loss: 0.0447 - val_binary_accuracy: 0.9970 - val_precision_17: 1.0000 - val_recall_17: 0.9000\n",
      "Epoch 42/100\n",
      "316/316 [==============================] - 1s 3ms/step - loss: 0.0024 - binary_accuracy: 0.9997 - precision_17: 1.0000 - recall_17: 0.9891 - val_loss: 0.0744 - val_binary_accuracy: 0.9963 - val_precision_17: 1.0000 - val_recall_17: 0.8750\n",
      "Epoch 43/100\n",
      "316/316 [==============================] - 1s 3ms/step - loss: 0.0022 - binary_accuracy: 0.9997 - precision_17: 1.0000 - recall_17: 0.9891 - val_loss: 0.0804 - val_binary_accuracy: 0.9970 - val_precision_17: 1.0000 - val_recall_17: 0.9000\n",
      "Epoch 44/100\n",
      "316/316 [==============================] - 1s 3ms/step - loss: 0.0065 - binary_accuracy: 0.9987 - precision_17: 0.9783 - recall_17: 0.9783 - val_loss: 0.0667 - val_binary_accuracy: 0.9963 - val_precision_17: 1.0000 - val_recall_17: 0.8750\n",
      "Epoch 45/100\n",
      "316/316 [==============================] - 1s 3ms/step - loss: 0.0025 - binary_accuracy: 0.9997 - precision_17: 1.0000 - recall_17: 0.9891 - val_loss: 0.0724 - val_binary_accuracy: 0.9970 - val_precision_17: 1.0000 - val_recall_17: 0.9000\n",
      "Epoch 46/100\n",
      "316/316 [==============================] - 1s 3ms/step - loss: 0.0021 - binary_accuracy: 0.9997 - precision_17: 1.0000 - recall_17: 0.9891 - val_loss: 0.0992 - val_binary_accuracy: 0.9963 - val_precision_17: 1.0000 - val_recall_17: 0.8750\n",
      "Epoch 47/100\n",
      "316/316 [==============================] - 1s 3ms/step - loss: 0.0028 - binary_accuracy: 0.9990 - precision_17: 0.9890 - recall_17: 0.9783 - val_loss: 0.0978 - val_binary_accuracy: 0.9963 - val_precision_17: 1.0000 - val_recall_17: 0.8750\n",
      "Epoch 48/100\n",
      "316/316 [==============================] - 1s 3ms/step - loss: 0.0049 - binary_accuracy: 0.9990 - precision_17: 0.9890 - recall_17: 0.9783 - val_loss: 0.1117 - val_binary_accuracy: 0.9963 - val_precision_17: 1.0000 - val_recall_17: 0.8750\n",
      "Epoch 49/100\n",
      "316/316 [==============================] - 1s 3ms/step - loss: 0.0030 - binary_accuracy: 0.9994 - precision_17: 1.0000 - recall_17: 0.9783 - val_loss: 0.1223 - val_binary_accuracy: 0.9963 - val_precision_17: 1.0000 - val_recall_17: 0.8750\n",
      "Epoch 50/100\n",
      "316/316 [==============================] - 1s 3ms/step - loss: 0.0013 - binary_accuracy: 0.9997 - precision_17: 1.0000 - recall_17: 0.9891 - val_loss: 0.1115 - val_binary_accuracy: 0.9963 - val_precision_17: 1.0000 - val_recall_17: 0.8750\n",
      "Epoch 51/100\n",
      "316/316 [==============================] - 1s 3ms/step - loss: 0.0042 - binary_accuracy: 0.9990 - precision_17: 0.9890 - recall_17: 0.9783 - val_loss: 0.0991 - val_binary_accuracy: 0.9963 - val_precision_17: 0.9730 - val_recall_17: 0.9000\n",
      "Epoch 52/100\n",
      "316/316 [==============================] - 1s 3ms/step - loss: 0.0093 - binary_accuracy: 0.9990 - precision_17: 0.9890 - recall_17: 0.9783 - val_loss: 0.0522 - val_binary_accuracy: 0.9963 - val_precision_17: 0.9730 - val_recall_17: 0.9000\n",
      "Epoch 53/100\n",
      "316/316 [==============================] - 1s 3ms/step - loss: 0.0032 - binary_accuracy: 0.9994 - precision_17: 1.0000 - recall_17: 0.9783 - val_loss: 0.0635 - val_binary_accuracy: 0.9963 - val_precision_17: 0.9730 - val_recall_17: 0.9000\n",
      "Epoch 54/100\n",
      "316/316 [==============================] - 1s 3ms/step - loss: 0.0020 - binary_accuracy: 0.9997 - precision_17: 1.0000 - recall_17: 0.9891 - val_loss: 0.0838 - val_binary_accuracy: 0.9963 - val_precision_17: 0.9730 - val_recall_17: 0.9000\n",
      "Epoch 55/100\n",
      "316/316 [==============================] - 1s 3ms/step - loss: 0.0035 - binary_accuracy: 0.9994 - precision_17: 1.0000 - recall_17: 0.9783 - val_loss: 0.0524 - val_binary_accuracy: 0.9963 - val_precision_17: 0.9730 - val_recall_17: 0.9000\n",
      "Epoch 56/100\n",
      "316/316 [==============================] - 1s 3ms/step - loss: 0.0075 - binary_accuracy: 0.9984 - precision_17: 0.9780 - recall_17: 0.9674 - val_loss: 0.0656 - val_binary_accuracy: 0.9719 - val_precision_17: 0.5147 - val_recall_17: 0.8750\n",
      "Epoch 57/100\n",
      "316/316 [==============================] - 1s 3ms/step - loss: 0.0078 - binary_accuracy: 0.9981 - precision_17: 0.9674 - recall_17: 0.9674 - val_loss: 0.1639 - val_binary_accuracy: 0.9963 - val_precision_17: 1.0000 - val_recall_17: 0.8750\n",
      "Epoch 58/100\n",
      "316/316 [==============================] - 1s 3ms/step - loss: 0.0044 - binary_accuracy: 0.9994 - precision_17: 1.0000 - recall_17: 0.9783 - val_loss: 0.1094 - val_binary_accuracy: 0.9963 - val_precision_17: 1.0000 - val_recall_17: 0.8750\n",
      "Epoch 59/100\n",
      "316/316 [==============================] - 1s 3ms/step - loss: 0.0016 - binary_accuracy: 0.9997 - precision_17: 1.0000 - recall_17: 0.9891 - val_loss: 0.0735 - val_binary_accuracy: 0.9970 - val_precision_17: 1.0000 - val_recall_17: 0.9000\n",
      "Epoch 60/100\n",
      "316/316 [==============================] - 1s 3ms/step - loss: 0.0025 - binary_accuracy: 0.9990 - precision_17: 0.9890 - recall_17: 0.9783 - val_loss: 0.1079 - val_binary_accuracy: 0.9970 - val_precision_17: 1.0000 - val_recall_17: 0.9000\n",
      "Epoch 61/100\n",
      "316/316 [==============================] - 1s 3ms/step - loss: 0.0016 - binary_accuracy: 0.9997 - precision_17: 1.0000 - recall_17: 0.9891 - val_loss: 0.0923 - val_binary_accuracy: 0.9970 - val_precision_17: 1.0000 - val_recall_17: 0.9000\n",
      "Epoch 62/100\n",
      "316/316 [==============================] - 1s 3ms/step - loss: 0.0023 - binary_accuracy: 0.9997 - precision_17: 1.0000 - recall_17: 0.9891 - val_loss: 0.1246 - val_binary_accuracy: 0.9970 - val_precision_17: 1.0000 - val_recall_17: 0.9000\n",
      "Epoch 63/100\n",
      "316/316 [==============================] - 1s 3ms/step - loss: 0.0049 - binary_accuracy: 0.9994 - precision_17: 0.9891 - recall_17: 0.9891 - val_loss: 0.1169 - val_binary_accuracy: 0.9963 - val_precision_17: 1.0000 - val_recall_17: 0.8750\n",
      "Epoch 64/100\n",
      "316/316 [==============================] - 1s 3ms/step - loss: 0.0035 - binary_accuracy: 0.9987 - precision_17: 0.9783 - recall_17: 0.9783 - val_loss: 0.0921 - val_binary_accuracy: 0.9970 - val_precision_17: 1.0000 - val_recall_17: 0.9000\n",
      "Epoch 65/100\n",
      "316/316 [==============================] - 1s 3ms/step - loss: 0.0024 - binary_accuracy: 0.9984 - precision_17: 0.9677 - recall_17: 0.9783 - val_loss: 0.1577 - val_binary_accuracy: 0.9970 - val_precision_17: 1.0000 - val_recall_17: 0.9000\n",
      "Epoch 66/100\n",
      "316/316 [==============================] - 1s 3ms/step - loss: 0.0039 - binary_accuracy: 0.9990 - precision_17: 0.9890 - recall_17: 0.9783 - val_loss: 0.1131 - val_binary_accuracy: 0.9970 - val_precision_17: 1.0000 - val_recall_17: 0.9000\n",
      "Epoch 67/100\n",
      "316/316 [==============================] - 1s 3ms/step - loss: 0.0028 - binary_accuracy: 0.9994 - precision_17: 1.0000 - recall_17: 0.9783 - val_loss: 0.0699 - val_binary_accuracy: 0.9911 - val_precision_17: 0.8182 - val_recall_17: 0.9000\n",
      "Epoch 68/100\n",
      "316/316 [==============================] - 1s 3ms/step - loss: 0.0029 - binary_accuracy: 0.9994 - precision_17: 0.9891 - recall_17: 0.9891 - val_loss: 0.1074 - val_binary_accuracy: 0.9956 - val_precision_17: 0.9474 - val_recall_17: 0.9000\n",
      "Epoch 69/100\n",
      "316/316 [==============================] - 1s 3ms/step - loss: 0.0020 - binary_accuracy: 0.9994 - precision_17: 0.9891 - recall_17: 0.9891 - val_loss: 0.1382 - val_binary_accuracy: 0.9970 - val_precision_17: 1.0000 - val_recall_17: 0.9000\n",
      "Epoch 70/100\n",
      "316/316 [==============================] - 1s 3ms/step - loss: 0.0037 - binary_accuracy: 0.9994 - precision_17: 0.9891 - recall_17: 0.9891 - val_loss: 0.1287 - val_binary_accuracy: 0.9963 - val_precision_17: 0.9730 - val_recall_17: 0.9000\n",
      "Epoch 71/100\n",
      "316/316 [==============================] - 1s 3ms/step - loss: 0.0029 - binary_accuracy: 0.9987 - precision_17: 0.9783 - recall_17: 0.9783 - val_loss: 0.1593 - val_binary_accuracy: 0.9970 - val_precision_17: 1.0000 - val_recall_17: 0.9000\n",
      "Epoch 72/100\n",
      "316/316 [==============================] - 1s 3ms/step - loss: 0.0032 - binary_accuracy: 0.9994 - precision_17: 0.9891 - recall_17: 0.9891 - val_loss: 0.1741 - val_binary_accuracy: 0.9926 - val_precision_17: 0.8750 - val_recall_17: 0.8750\n",
      "Epoch 73/100\n",
      "316/316 [==============================] - 1s 3ms/step - loss: 0.0084 - binary_accuracy: 0.9984 - precision_17: 0.9780 - recall_17: 0.9674 - val_loss: 0.2692 - val_binary_accuracy: 0.9963 - val_precision_17: 0.9730 - val_recall_17: 0.9000\n",
      "Epoch 74/100\n",
      "316/316 [==============================] - 1s 3ms/step - loss: 0.0140 - binary_accuracy: 0.9975 - precision_17: 0.9375 - recall_17: 0.9783 - val_loss: 0.1803 - val_binary_accuracy: 0.9956 - val_precision_17: 0.9722 - val_recall_17: 0.8750\n",
      "Epoch 75/100\n",
      "316/316 [==============================] - 1s 3ms/step - loss: 0.0065 - binary_accuracy: 0.9990 - precision_17: 0.9785 - recall_17: 0.9891 - val_loss: 0.1224 - val_binary_accuracy: 0.9963 - val_precision_17: 0.9730 - val_recall_17: 0.9000\n",
      "Epoch 76/100\n",
      "316/316 [==============================] - 1s 3ms/step - loss: 0.0032 - binary_accuracy: 0.9987 - precision_17: 0.9783 - recall_17: 0.9783 - val_loss: 0.1304 - val_binary_accuracy: 0.9963 - val_precision_17: 0.9730 - val_recall_17: 0.9000\n",
      "Epoch 77/100\n",
      "316/316 [==============================] - 1s 3ms/step - loss: 0.0030 - binary_accuracy: 0.9990 - precision_17: 0.9785 - recall_17: 0.9891 - val_loss: 0.1469 - val_binary_accuracy: 0.9956 - val_precision_17: 0.9722 - val_recall_17: 0.8750\n",
      "Epoch 78/100\n",
      "316/316 [==============================] - 1s 3ms/step - loss: 0.0031 - binary_accuracy: 0.9984 - precision_17: 0.9677 - recall_17: 0.9783 - val_loss: 0.1451 - val_binary_accuracy: 0.9956 - val_precision_17: 0.9722 - val_recall_17: 0.8750\n",
      "Epoch 79/100\n",
      "316/316 [==============================] - 1s 3ms/step - loss: 0.0020 - binary_accuracy: 0.9994 - precision_17: 0.9891 - recall_17: 0.9891 - val_loss: 0.1572 - val_binary_accuracy: 0.9956 - val_precision_17: 0.9722 - val_recall_17: 0.8750\n",
      "Epoch 80/100\n",
      "316/316 [==============================] - 1s 3ms/step - loss: 0.0014 - binary_accuracy: 0.9994 - precision_17: 0.9891 - recall_17: 0.9891 - val_loss: 0.1520 - val_binary_accuracy: 0.9948 - val_precision_17: 0.9459 - val_recall_17: 0.8750\n",
      "Epoch 81/100\n",
      "316/316 [==============================] - 1s 3ms/step - loss: 0.0034 - binary_accuracy: 0.9994 - precision_17: 0.9891 - recall_17: 0.9891 - val_loss: 0.1956 - val_binary_accuracy: 0.9948 - val_precision_17: 0.9459 - val_recall_17: 0.8750\n",
      "Epoch 82/100\n",
      "316/316 [==============================] - 1s 3ms/step - loss: 0.0122 - binary_accuracy: 0.9981 - precision_17: 0.9574 - recall_17: 0.9783 - val_loss: 0.1951 - val_binary_accuracy: 0.9911 - val_precision_17: 1.0000 - val_recall_17: 0.7000\n",
      "Epoch 83/100\n",
      "316/316 [==============================] - 1s 3ms/step - loss: 0.0186 - binary_accuracy: 0.9984 - precision_17: 0.9677 - recall_17: 0.9783 - val_loss: 0.0949 - val_binary_accuracy: 0.9970 - val_precision_17: 1.0000 - val_recall_17: 0.9000\n",
      "Epoch 84/100\n",
      "316/316 [==============================] - 1s 3ms/step - loss: 0.0040 - binary_accuracy: 0.9984 - precision_17: 0.9677 - recall_17: 0.9783 - val_loss: 0.0751 - val_binary_accuracy: 0.9926 - val_precision_17: 0.8750 - val_recall_17: 0.8750\n",
      "Epoch 85/100\n",
      "316/316 [==============================] - 1s 3ms/step - loss: 0.0040 - binary_accuracy: 0.9987 - precision_17: 0.9681 - recall_17: 0.9891 - val_loss: 0.0786 - val_binary_accuracy: 0.9956 - val_precision_17: 0.9722 - val_recall_17: 0.8750\n",
      "Epoch 86/100\n",
      "316/316 [==============================] - 1s 3ms/step - loss: 0.0026 - binary_accuracy: 0.9997 - precision_17: 1.0000 - recall_17: 0.9891 - val_loss: 0.0833 - val_binary_accuracy: 0.9956 - val_precision_17: 0.9722 - val_recall_17: 0.8750\n",
      "Epoch 87/100\n",
      "316/316 [==============================] - 1s 3ms/step - loss: 0.0017 - binary_accuracy: 0.9997 - precision_17: 1.0000 - recall_17: 0.9891 - val_loss: 0.0786 - val_binary_accuracy: 0.9948 - val_precision_17: 0.9459 - val_recall_17: 0.8750\n",
      "Epoch 88/100\n",
      "316/316 [==============================] - 1s 3ms/step - loss: 0.0026 - binary_accuracy: 0.9990 - precision_17: 0.9785 - recall_17: 0.9891 - val_loss: 0.1439 - val_binary_accuracy: 0.9956 - val_precision_17: 1.0000 - val_recall_17: 0.8500\n",
      "Epoch 89/100\n",
      "316/316 [==============================] - 1s 3ms/step - loss: 0.0057 - binary_accuracy: 0.9990 - precision_17: 0.9890 - recall_17: 0.9783 - val_loss: 0.0659 - val_binary_accuracy: 0.9956 - val_precision_17: 0.9722 - val_recall_17: 0.8750\n",
      "Epoch 90/100\n",
      "316/316 [==============================] - 1s 3ms/step - loss: 0.0020 - binary_accuracy: 0.9990 - precision_17: 0.9890 - recall_17: 0.9783 - val_loss: 0.0707 - val_binary_accuracy: 0.9956 - val_precision_17: 0.9722 - val_recall_17: 0.8750\n",
      "Epoch 91/100\n",
      "316/316 [==============================] - 1s 3ms/step - loss: 0.0019 - binary_accuracy: 0.9997 - precision_17: 1.0000 - recall_17: 0.9891 - val_loss: 0.0578 - val_binary_accuracy: 0.9956 - val_precision_17: 0.9722 - val_recall_17: 0.8750\n",
      "Epoch 92/100\n",
      "316/316 [==============================] - 1s 3ms/step - loss: 0.0026 - binary_accuracy: 0.9990 - precision_17: 0.9890 - recall_17: 0.9783 - val_loss: 0.1126 - val_binary_accuracy: 0.9956 - val_precision_17: 0.9722 - val_recall_17: 0.8750\n",
      "Epoch 93/100\n",
      "316/316 [==============================] - 1s 3ms/step - loss: 0.0036 - binary_accuracy: 0.9990 - precision_17: 0.9890 - recall_17: 0.9783 - val_loss: 0.0745 - val_binary_accuracy: 0.9941 - val_precision_17: 0.9211 - val_recall_17: 0.8750\n",
      "Epoch 94/100\n",
      "316/316 [==============================] - 1s 3ms/step - loss: 0.0023 - binary_accuracy: 0.9990 - precision_17: 0.9890 - recall_17: 0.9783 - val_loss: 0.0821 - val_binary_accuracy: 0.9963 - val_precision_17: 0.9730 - val_recall_17: 0.9000\n",
      "Epoch 95/100\n",
      "316/316 [==============================] - 1s 3ms/step - loss: 0.0014 - binary_accuracy: 0.9994 - precision_17: 0.9891 - recall_17: 0.9891 - val_loss: 0.1445 - val_binary_accuracy: 0.9963 - val_precision_17: 0.9730 - val_recall_17: 0.9000\n",
      "Epoch 96/100\n",
      "316/316 [==============================] - 1s 3ms/step - loss: 0.0039 - binary_accuracy: 0.9984 - precision_17: 0.9677 - recall_17: 0.9783 - val_loss: 0.1078 - val_binary_accuracy: 0.9956 - val_precision_17: 0.9722 - val_recall_17: 0.8750\n",
      "Epoch 97/100\n",
      "316/316 [==============================] - 1s 3ms/step - loss: 0.0029 - binary_accuracy: 0.9990 - precision_17: 0.9785 - recall_17: 0.9891 - val_loss: 0.2393 - val_binary_accuracy: 0.9956 - val_precision_17: 1.0000 - val_recall_17: 0.8500\n",
      "Epoch 98/100\n",
      "316/316 [==============================] - 1s 3ms/step - loss: 0.0018 - binary_accuracy: 0.9994 - precision_17: 0.9891 - recall_17: 0.9891 - val_loss: 0.1804 - val_binary_accuracy: 0.9963 - val_precision_17: 1.0000 - val_recall_17: 0.8750\n",
      "Epoch 99/100\n",
      "316/316 [==============================] - 1s 3ms/step - loss: 0.0063 - binary_accuracy: 0.9997 - precision_17: 1.0000 - recall_17: 0.9891 - val_loss: 0.0463 - val_binary_accuracy: 0.9933 - val_precision_17: 0.8974 - val_recall_17: 0.8750\n",
      "Epoch 100/100\n",
      "316/316 [==============================] - 1s 3ms/step - loss: 0.0053 - binary_accuracy: 0.9984 - precision_17: 0.9780 - recall_17: 0.9674 - val_loss: 0.2562 - val_binary_accuracy: 0.9963 - val_precision_17: 1.0000 - val_recall_17: 0.8750\n"
     ]
    }
   ],
   "source": [
    "trainer = CNN2.fit(\n",
    "     smiles_train,\n",
    "     labels_train,\n",
    "     batch_size = 10,\n",
    "     epochs = 100,\n",
    "     validation_data = (smiles_test,labels_test),  \n",
    "     verbose = 1)"
   ]
  },
  {
   "cell_type": "code",
   "execution_count": 140,
   "metadata": {},
   "outputs": [],
   "source": [
    "y_hat2 = (CNN2.predict(smiles_test) > 0.5).astype(\"float\")"
   ]
  },
  {
   "cell_type": "code",
   "execution_count": 141,
   "metadata": {},
   "outputs": [],
   "source": [
    "cm3 = confusion_matrix(labels_test, y_hat2)  "
   ]
  },
  {
   "cell_type": "code",
   "execution_count": 142,
   "metadata": {},
   "outputs": [
    {
     "data": {
      "text/plain": [
       "Text(0.5, 33.0, 'Predicted Values')"
      ]
     },
     "execution_count": 142,
     "metadata": {},
     "output_type": "execute_result"
    },
    {
     "data": {
      "image/png": "[encoded data removed]",
      "text/plain": [
       "<Figure size 432x432 with 2 Axes>"
      ]
     },
     "metadata": {
      "needs_background": "light"
     },
     "output_type": "display_data"
    }
   ],
   "source": [
    "plt.figure(figsize = (6,6))\n",
    "sns.heatmap(cm3, annot = True, fmt = \".5g\", cmap = \"coolwarm\",linewidths=.5)\n",
    "plt.ylabel('Actual Values',fontsize = 14)\n",
    "plt.xlabel('Predicted Values')\n"
   ]
  },
  {
   "cell_type": "code",
   "execution_count": 143,
   "metadata": {},
   "outputs": [
    {
     "data": {
      "text/plain": [
       "(1311, 0, 5, 35)"
      ]
     },
     "execution_count": 143,
     "metadata": {},
     "output_type": "execute_result"
    }
   ],
   "source": [
    "tn3, fp3, fn3, tp3 = confusion_matrix(labels_test, y_hat2).ravel()\n",
    "tn3, fp3, fn3, tp3"
   ]
  },
  {
   "cell_type": "code",
   "execution_count": 144,
   "metadata": {},
   "outputs": [
    {
     "data": {
      "text/plain": [
       "0.996299037749815"
      ]
     },
     "execution_count": 144,
     "metadata": {},
     "output_type": "execute_result"
    }
   ],
   "source": [
    "#acurácia\n",
    "(tp3+tn3)/(tp3+tn3+fp3+fn3)"
   ]
  },
  {
   "cell_type": "code",
   "execution_count": 145,
   "metadata": {},
   "outputs": [
    {
     "data": {
      "text/plain": [
       "0.875"
      ]
     },
     "execution_count": 145,
     "metadata": {},
     "output_type": "execute_result"
    }
   ],
   "source": [
    "#acerta o que é antimalárico\n",
    "(tp3)/(tp3+fn3)"
   ]
  },
  {
   "cell_type": "code",
   "execution_count": 146,
   "metadata": {},
   "outputs": [
    {
     "data": {
      "text/plain": [
       "1.0"
      ]
     },
     "execution_count": 146,
     "metadata": {},
     "output_type": "execute_result"
    }
   ],
   "source": [
    "#acerta o que não é antimalárico\n",
    "(tn3)/(tn3+fp3)"
   ]
  },
  {
   "cell_type": "code",
   "execution_count": null,
   "metadata": {},
   "outputs": [],
   "source": []
  }
 ],
 "metadata": {
  "interpreter": {
   "hash": "3218d1e1345bf85c44ac3e3bdb7899973b22b8c207b0aa6281a3c4896a58620c"
  },
  "kernelspec": {
   "display_name": "Python 3.7.11 ('diversedrl')",
   "language": "python",
   "name": "python3"
  },
  "language_info": {
   "codemirror_mode": {
    "name": "ipython",
    "version": 3
   },
   "file_extension": ".py",
   "mimetype": "text/x-python",
   "name": "python",
   "nbconvert_exporter": "python",
   "pygments_lexer": "ipython3",
   "version": "3.7.11"
  },
  "orig_nbformat": 4
 },
 "nbformat": 4,
 "nbformat_minor": 2
}
