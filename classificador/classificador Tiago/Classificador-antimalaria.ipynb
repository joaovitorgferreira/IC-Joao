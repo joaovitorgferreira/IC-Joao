{
 "cells": [
  {
   "cell_type": "markdown",
   "metadata": {},
   "source": [
    "\n",
    "Classificador\n",
    "1. Importar dados\n",
    "\n",
    "Para criar um classificador formatar os dados da sequinte maneira:\n",
    "\n",
    "moleculas -> uma lista/array com todos os smiles do seu banco de dados\n",
    "\n",
    "classes -> uma lista/array de zeros e uns representando antibiótico e não antibiótico, respectivamente\n",
    "\n",
    "O classificador vai identificar traços das moleculas e associá-los às classes, então cada molécula deverá ter o mesmo índice que sua classe.\n",
    "\n",
    "bibliotecas sugeridas:\n",
    "\n",
    "    pandas\n",
    "    numpy\n",
    "\n"
   ]
  },
  {
   "cell_type": "code",
   "execution_count": 2,
   "metadata": {},
   "outputs": [],
   "source": [
    "import pandas as pd\n",
    "import numpy as np\n",
    "import sklearn as sk\n",
    "\n",
    "#Importar dados\n",
    "df = pd.read_csv('/home/joao/documentos/IC-Joao/classificador/antimalaria_set.csv',index_col=False)\n",
    "\n",
    "#Definir a coluna das classes\n",
    "labels = np.asarray(df.Classe) #1 para antibiótico, 0 para não antibiótico\n",
    "\n",
    "#Selecionar SMILES sem as classes\n",
    "df_selected = df.drop([\"Classe\",\"Name\", \"InChIKey\",\"Index\"], axis=1)\n",
    "\n",
    "#Codificar classes (não é mais necessário)\n",
    "#from sklearn.preprocessing import LabelEncoder\n",
    "#le = LabelEncoder()\n",
    "#le.fit(labels)\n",
    "\n",
    "#labels = le.transform(labels)"
   ]
  },
  {
   "cell_type": "markdown",
   "metadata": {},
   "source": [
    "\n",
    "2. Processamento dos dados\n",
    "2.1 Encoding/padding\n",
    "\n",
    "Nessa etapa acontece a codificação das moleculas. Pode ser tokens, one hot vector, integer vector. Você decide.\n",
    "\n",
    "É importante que ao final do processamento todos os tokens tenham o mesmo comprimento, então um processo chamado padding precisa ser aplicado.\n",
    "\n",
    "Por convenção as variáveis em machine learning assumem esses nomes:\n",
    "\n",
    "X -> uma lista/array com todos os smiles codificados\n",
    "\n",
    "y -> uma lista/array de zeros e uns representando antibiótico e não antibiótico, respectivamente\n",
    "\n",
    "Bibliotecas sugeridas:\n",
    "\n",
    "    numpy\n",
    "    sklearn\n",
    "\n"
   ]
  },
  {
   "cell_type": "markdown",
   "metadata": {},
   "source": [
    "ADIÇÕES DO TIAGO: INICIO"
   ]
  },
  {
   "cell_type": "code",
   "execution_count": 3,
   "metadata": {},
   "outputs": [],
   "source": [
    "comprimentos = [len(x) for x in df_selected.SMILES.values]"
   ]
  },
  {
   "cell_type": "code",
   "execution_count": 4,
   "metadata": {},
   "outputs": [
    {
     "data": {
      "text/plain": [
       "394"
      ]
     },
     "execution_count": 4,
     "metadata": {},
     "output_type": "execute_result"
    }
   ],
   "source": [
    "maior_smile = np.max(comprimentos)\n",
    "maior_smile"
   ]
  },
  {
   "cell_type": "code",
   "execution_count": 5,
   "metadata": {},
   "outputs": [
    {
     "name": "stderr",
     "output_type": "stream",
     "text": [
      "2022-06-30 10:45:33.846164: W tensorflow/stream_executor/platform/default/dso_loader.cc:64] Could not load dynamic library 'libcudart.so.11.0'; dlerror: libcudart.so.11.0: cannot open shared object file: No such file or directory\n",
      "2022-06-30 10:45:33.846225: I tensorflow/stream_executor/cuda/cudart_stub.cc:29] Ignore above cudart dlerror if you do not have a GPU set up on your machine.\n"
     ]
    }
   ],
   "source": [
    "from tensorflow.keras.preprocessing.sequence import pad_sequences\n",
    "\n",
    "smiles = list(df_selected.SMILES.values)\n",
    "\n",
    "table = ['se','Fe','As','Cl', 'Br', 'Na', 'Li', 'Ca', 'Al', 'Ag', 'Se', 'Mg', 'Zn', 'H', 'B', 'C', 'N', 'O', 'P', 'S', 'F', 'I', 'K', '(', ')', '[', ']', '=', '#', '@', '*', '%', '0', '1', '2', '3', '4', '5', '6', '7', '8', '9', '.', '/', '\\\\', '+', '-', 'c', 'n', 'o', 's', 'p']\n"
   ]
  },
  {
   "cell_type": "code",
   "execution_count": 6,
   "metadata": {},
   "outputs": [
    {
     "data": {
      "text/plain": [
       "4503"
      ]
     },
     "execution_count": 6,
     "metadata": {},
     "output_type": "execute_result"
    }
   ],
   "source": [
    "len(smiles)"
   ]
  },
  {
   "cell_type": "code",
   "execution_count": 7,
   "metadata": {},
   "outputs": [],
   "source": [
    "def tokenizer(smiles,table):\n",
    "    tokens_list = []\n",
    "    #index = 0\n",
    "    for smile in smiles:\n",
    "        #print(index)\n",
    "        i = 0\n",
    "        token = []\n",
    "        while i < len(smile):\n",
    "            for j in table:\n",
    "                if j == smile[i:i+len(j)]:\n",
    "                    token.append(j)\n",
    "                    i = i+len(j)\n",
    "                    break\n",
    "        while len(token) < maior_smile:\n",
    "            token.insert(0,\"A\")\n",
    "        tokens_list.append(token)\n",
    "        #index = index+1\n",
    "    return tokens_list\n",
    "\n",
    "padded_tokens = tokenizer(smiles,table)\n"
   ]
  },
  {
   "cell_type": "code",
   "execution_count": 8,
   "metadata": {},
   "outputs": [
    {
     "data": {
      "text/plain": [
       "4503"
      ]
     },
     "execution_count": 8,
     "metadata": {},
     "output_type": "execute_result"
    }
   ],
   "source": [
    "len(padded_tokens)"
   ]
  },
  {
   "cell_type": "code",
   "execution_count": 9,
   "metadata": {},
   "outputs": [
    {
     "data": {
      "text/plain": [
       "394"
      ]
     },
     "execution_count": 9,
     "metadata": {},
     "output_type": "execute_result"
    }
   ],
   "source": [
    "len(padded_tokens[0])"
   ]
  },
  {
   "cell_type": "code",
   "execution_count": 10,
   "metadata": {},
   "outputs": [],
   "source": [
    "#Usar integer encoding ao invez de one hot\n",
    "from sklearn.preprocessing import LabelEncoder\n",
    "tokens_encoder = LabelEncoder()\n",
    "table.append(\"A\")\n",
    "tokens_encoder.fit(table)\n",
    "tokens_int_encoded = np.array([tokens_encoder.transform(i) for i in padded_tokens])\n"
   ]
  },
  {
   "cell_type": "code",
   "execution_count": 11,
   "metadata": {},
   "outputs": [
    {
     "data": {
      "text/plain": [
       "array([[21, 21, 21, ..., 47, 47, 10],\n",
       "       [21, 21, 21, ...,  3, 47, 10],\n",
       "       [21, 21, 21, ..., 27, 27, 39],\n",
       "       ...,\n",
       "       [21, 21, 21, ...,  3, 27, 27],\n",
       "       [21, 21, 21, ..., 27,  3, 27],\n",
       "       [21, 21, 21, ..., 27,  3, 27]])"
      ]
     },
     "execution_count": 11,
     "metadata": {},
     "output_type": "execute_result"
    }
   ],
   "source": [
    "tokens_int_encoded"
   ]
  },
  {
   "cell_type": "code",
   "execution_count": 11,
   "metadata": {},
   "outputs": [
    {
     "data": {
      "text/plain": [
       "(4895, 394)"
      ]
     },
     "execution_count": 11,
     "metadata": {},
     "output_type": "execute_result"
    }
   ],
   "source": [
    "tokens_int_encoded.shape"
   ]
  },
  {
   "cell_type": "markdown",
   "metadata": {},
   "source": [
    "ADIÇÕES DO TIAGO: FIM"
   ]
  },
  {
   "cell_type": "markdown",
   "metadata": {},
   "source": [
    "\n",
    "3. Holdout: train/test split\n",
    "\n",
    "Depois do processamento, seu banco de dados precisa ser dividio em traino e teste. O Holdout é o ponto de separação. Geralmente os dados são dividos em dados em 70/30. 70% para treino e 30% para teste.\n",
    "\n",
    "Agora as variáveis serão separadas pelos conjuntos criados:\n",
    "\n",
    "X_treino -> 70% dos smiles codificados\n",
    "\n",
    "X_teste -> 30% dos smiles codificados\n",
    "\n",
    "y_treino -> 70% das classes\n",
    "\n",
    "y_teste -> 30% das classes\n",
    "\n",
    "Bibliotecas sugeridas:\n",
    "\n",
    "    numpy\n",
    "    sklearn\n",
    "\n"
   ]
  },
  {
   "cell_type": "code",
   "execution_count": 12,
   "metadata": {},
   "outputs": [],
   "source": [
    "from sklearn.model_selection import train_test_split\n",
    "\n",
    "smiles_train, smiles_test, labels_train, labels_test = train_test_split(\n",
    "    tokens_int_encoded, labels, \n",
    "    test_size=0.30, random_state=42)\n"
   ]
  },
  {
   "cell_type": "markdown",
   "metadata": {},
   "source": [
    "\n",
    "4. Modelo\n",
    "\n",
    "Depois de preparar os dados, precisamos criar um variável que contem nosso modelo. Estude o tensoflow/keras, mais especificamente a função Sequential(), para criação dos modelos.\n",
    "\n",
    "Arquiteturas sugeridas:\n",
    "\n",
    "    MultiLayer Perceptron (MLP)\n",
    "    Convolutional Neural Networks (CNN)\n",
    "\n",
    "Não esqueça de adicionar as métricas precision, recall, accuracy e loss. Para essa ultima, você precisa estudar sobre as funções de perda usadas para classificação binária (0,1).\n",
    "\n",
    "Depois de construído use o método .fit() para treinar seu classificador\n"
   ]
  },
  {
   "cell_type": "code",
   "execution_count": 13,
   "metadata": {},
   "outputs": [
    {
     "name": "stderr",
     "output_type": "stream",
     "text": [
      "2022-06-30 10:46:26.007268: W tensorflow/stream_executor/platform/default/dso_loader.cc:64] Could not load dynamic library 'libcuda.so.1'; dlerror: libcuda.so.1: cannot open shared object file: No such file or directory\n",
      "2022-06-30 10:46:26.007334: W tensorflow/stream_executor/cuda/cuda_driver.cc:269] failed call to cuInit: UNKNOWN ERROR (303)\n",
      "2022-06-30 10:46:26.007389: I tensorflow/stream_executor/cuda/cuda_diagnostics.cc:156] kernel driver does not appear to be running on this host (seriema): /proc/driver/nvidia/version does not exist\n",
      "2022-06-30 10:46:26.026451: I tensorflow/core/platform/cpu_feature_guard.cc:151] This TensorFlow binary is optimized with oneAPI Deep Neural Network Library (oneDNN) to use the following CPU instructions in performance-critical operations:  AVX2 FMA\n",
      "To enable them in other operations, rebuild TensorFlow with the appropriate compiler flags.\n"
     ]
    }
   ],
   "source": [
    "import tensorflow as tf\n",
    "from tensorflow.keras.models import Sequential\n",
    "model = Sequential([\n",
    "    tf.keras.layers.Input(shape = 394,),\n",
    "    tf.keras.layers.Dense(350, activation = 'relu'),\n",
    "    tf.keras.layers.Dense(200, activation = 'relu'),\n",
    "    tf.keras.layers.Dense(100, activation = 'relu'),\n",
    "    tf.keras.layers.Dense(1, activation = 'sigmoid')\n",
    "])\n",
    "model.compile(\n",
    "    optimizer='adam',\n",
    "    loss = tf.losses.BinaryCrossentropy(),\n",
    "    metrics = [tf.metrics.BinaryAccuracy(),\n",
    "    tf.metrics.Precision(),\n",
    "    tf.metrics.Recall()]\n",
    "\n",
    ")"
   ]
  },
  {
   "cell_type": "code",
   "execution_count": 14,
   "metadata": {},
   "outputs": [
    {
     "name": "stdout",
     "output_type": "stream",
     "text": [
      "Model: \"sequential\"\n",
      "_________________________________________________________________\n",
      " Layer (type)                Output Shape              Param #   \n",
      "=================================================================\n",
      " dense (Dense)               (None, 350)               138250    \n",
      "                                                                 \n",
      " dense_1 (Dense)             (None, 200)               70200     \n",
      "                                                                 \n",
      " dense_2 (Dense)             (None, 100)               20100     \n",
      "                                                                 \n",
      " dense_3 (Dense)             (None, 1)                 101       \n",
      "                                                                 \n",
      "=================================================================\n",
      "Total params: 228,651\n",
      "Trainable params: 228,651\n",
      "Non-trainable params: 0\n",
      "_________________________________________________________________\n"
     ]
    }
   ],
   "source": [
    "model.summary()"
   ]
  },
  {
   "cell_type": "code",
   "execution_count": 15,
   "metadata": {},
   "outputs": [
    {
     "data": {
      "text/plain": [
       "array([1, 1, 0, ..., 0, 0, 0])"
      ]
     },
     "execution_count": 15,
     "metadata": {},
     "output_type": "execute_result"
    }
   ],
   "source": [
    "labels_test"
   ]
  },
  {
   "cell_type": "code",
   "execution_count": 14,
   "metadata": {},
   "outputs": [
    {
     "name": "stdout",
     "output_type": "stream",
     "text": [
      "Epoch 1/100\n",
      "99/99 [==============================] - 2s 5ms/step - loss: 0.9933 - binary_accuracy: 0.9410 - precision: 0.0648 - recall: 0.0761 - val_loss: 0.1967 - val_binary_accuracy: 0.9704 - val_precision: 0.0000e+00 - val_recall: 0.0000e+00\n",
      "Epoch 2/100\n",
      "99/99 [==============================] - 0s 2ms/step - loss: 0.3165 - binary_accuracy: 0.9629 - precision: 0.0690 - recall: 0.0217 - val_loss: 0.1822 - val_binary_accuracy: 0.9704 - val_precision: 0.0000e+00 - val_recall: 0.0000e+00\n",
      "Epoch 3/100\n",
      "99/99 [==============================] - 0s 2ms/step - loss: 0.1012 - binary_accuracy: 0.9756 - precision: 0.9412 - recall: 0.1739 - val_loss: 0.0777 - val_binary_accuracy: 0.9734 - val_precision: 1.0000 - val_recall: 0.1000\n",
      "Epoch 4/100\n",
      "99/99 [==============================] - 0s 2ms/step - loss: 0.0766 - binary_accuracy: 0.9803 - precision: 0.9167 - recall: 0.3587 - val_loss: 0.0614 - val_binary_accuracy: 0.9771 - val_precision: 1.0000 - val_recall: 0.2250\n",
      "Epoch 5/100\n",
      "99/99 [==============================] - 0s 2ms/step - loss: 0.0564 - binary_accuracy: 0.9829 - precision: 0.9130 - recall: 0.4565 - val_loss: 0.0568 - val_binary_accuracy: 0.9793 - val_precision: 1.0000 - val_recall: 0.3000\n",
      "Epoch 6/100\n",
      "99/99 [==============================] - 0s 2ms/step - loss: 0.0630 - binary_accuracy: 0.9845 - precision: 0.8308 - recall: 0.5870 - val_loss: 0.0481 - val_binary_accuracy: 0.9845 - val_precision: 1.0000 - val_recall: 0.4750\n",
      "Epoch 7/100\n",
      "99/99 [==============================] - 0s 2ms/step - loss: 0.0650 - binary_accuracy: 0.9838 - precision: 0.8361 - recall: 0.5543 - val_loss: 0.0768 - val_binary_accuracy: 0.9808 - val_precision: 0.6250 - val_recall: 0.8750\n",
      "Epoch 8/100\n",
      "99/99 [==============================] - 0s 2ms/step - loss: 0.0454 - binary_accuracy: 0.9857 - precision: 0.8730 - recall: 0.5978 - val_loss: 0.0649 - val_binary_accuracy: 0.9808 - val_precision: 1.0000 - val_recall: 0.3500\n",
      "Epoch 9/100\n",
      "99/99 [==============================] - 0s 2ms/step - loss: 0.0305 - binary_accuracy: 0.9914 - precision: 0.9221 - recall: 0.7717 - val_loss: 0.0390 - val_binary_accuracy: 0.9874 - val_precision: 0.8710 - val_recall: 0.6750\n",
      "Epoch 10/100\n",
      "99/99 [==============================] - 0s 2ms/step - loss: 0.0371 - binary_accuracy: 0.9886 - precision: 0.8684 - recall: 0.7174 - val_loss: 0.0385 - val_binary_accuracy: 0.9882 - val_precision: 0.9000 - val_recall: 0.6750\n",
      "Epoch 11/100\n",
      "99/99 [==============================] - 0s 2ms/step - loss: 0.0613 - binary_accuracy: 0.9867 - precision: 0.8472 - recall: 0.6630 - val_loss: 0.0873 - val_binary_accuracy: 0.9793 - val_precision: 1.0000 - val_recall: 0.3000\n",
      "Epoch 12/100\n",
      "99/99 [==============================] - 0s 2ms/step - loss: 0.0569 - binary_accuracy: 0.9854 - precision: 0.8382 - recall: 0.6196 - val_loss: 0.0443 - val_binary_accuracy: 0.9808 - val_precision: 0.6667 - val_recall: 0.7000\n",
      "Epoch 13/100\n",
      "99/99 [==============================] - 0s 2ms/step - loss: 0.0831 - binary_accuracy: 0.9835 - precision: 0.7941 - recall: 0.5870 - val_loss: 0.0477 - val_binary_accuracy: 0.9896 - val_precision: 1.0000 - val_recall: 0.6500\n",
      "Epoch 14/100\n",
      "99/99 [==============================] - 0s 2ms/step - loss: 0.3624 - binary_accuracy: 0.9543 - precision: 0.3030 - recall: 0.4348 - val_loss: 1.6312 - val_binary_accuracy: 0.9704 - val_precision: 0.0000e+00 - val_recall: 0.0000e+00\n",
      "Epoch 15/100\n",
      "99/99 [==============================] - 0s 2ms/step - loss: 0.6750 - binary_accuracy: 0.9553 - precision: 0.1975 - recall: 0.1739 - val_loss: 0.0798 - val_binary_accuracy: 0.9719 - val_precision: 1.0000 - val_recall: 0.0500\n",
      "Epoch 16/100\n",
      "99/99 [==============================] - 0s 2ms/step - loss: 0.0771 - binary_accuracy: 0.9835 - precision: 0.8333 - recall: 0.5435 - val_loss: 0.0610 - val_binary_accuracy: 0.9830 - val_precision: 0.9474 - val_recall: 0.4500\n",
      "Epoch 17/100\n",
      "99/99 [==============================] - 0s 2ms/step - loss: 0.0546 - binary_accuracy: 0.9851 - precision: 0.8462 - recall: 0.5978 - val_loss: 0.0523 - val_binary_accuracy: 0.9874 - val_precision: 0.9600 - val_recall: 0.6000\n",
      "Epoch 18/100\n",
      "99/99 [==============================] - 0s 2ms/step - loss: 0.0443 - binary_accuracy: 0.9848 - precision: 0.8056 - recall: 0.6304 - val_loss: 0.0494 - val_binary_accuracy: 0.9874 - val_precision: 0.9259 - val_recall: 0.6250\n",
      "Epoch 19/100\n",
      "99/99 [==============================] - 0s 2ms/step - loss: 0.0402 - binary_accuracy: 0.9886 - precision: 0.8784 - recall: 0.7065 - val_loss: 0.0590 - val_binary_accuracy: 0.9867 - val_precision: 1.0000 - val_recall: 0.5500\n",
      "Epoch 20/100\n",
      "99/99 [==============================] - 0s 2ms/step - loss: 0.0464 - binary_accuracy: 0.9898 - precision: 0.9054 - recall: 0.7283 - val_loss: 0.0665 - val_binary_accuracy: 0.9830 - val_precision: 0.7179 - val_recall: 0.7000\n",
      "Epoch 21/100\n",
      "99/99 [==============================] - 0s 2ms/step - loss: 0.0408 - binary_accuracy: 0.9911 - precision: 0.9324 - recall: 0.7500 - val_loss: 0.0582 - val_binary_accuracy: 0.9830 - val_precision: 0.6977 - val_recall: 0.7500\n",
      "Epoch 22/100\n",
      "99/99 [==============================] - 0s 2ms/step - loss: 0.0306 - binary_accuracy: 0.9905 - precision: 0.9079 - recall: 0.7500 - val_loss: 0.0463 - val_binary_accuracy: 0.9867 - val_precision: 0.8667 - val_recall: 0.6500\n",
      "Epoch 23/100\n",
      "99/99 [==============================] - 0s 2ms/step - loss: 0.0301 - binary_accuracy: 0.9914 - precision: 0.9221 - recall: 0.7717 - val_loss: 0.0431 - val_binary_accuracy: 0.9845 - val_precision: 0.7568 - val_recall: 0.7000\n",
      "Epoch 24/100\n",
      "99/99 [==============================] - 0s 2ms/step - loss: 0.0388 - binary_accuracy: 0.9895 - precision: 0.8933 - recall: 0.7283 - val_loss: 0.0678 - val_binary_accuracy: 0.9808 - val_precision: 0.6458 - val_recall: 0.7750\n",
      "Epoch 25/100\n",
      "99/99 [==============================] - 0s 2ms/step - loss: 0.0443 - binary_accuracy: 0.9860 - precision: 0.8429 - recall: 0.6413 - val_loss: 0.0549 - val_binary_accuracy: 0.9874 - val_precision: 0.8966 - val_recall: 0.6500\n",
      "Epoch 26/100\n",
      "99/99 [==============================] - 0s 2ms/step - loss: 0.0301 - binary_accuracy: 0.9924 - precision: 0.9474 - recall: 0.7826 - val_loss: 0.0560 - val_binary_accuracy: 0.9830 - val_precision: 0.6977 - val_recall: 0.7500\n",
      "Epoch 27/100\n",
      "99/99 [==============================] - 0s 2ms/step - loss: 0.0284 - binary_accuracy: 0.9914 - precision: 0.9012 - recall: 0.7935 - val_loss: 0.0434 - val_binary_accuracy: 0.9882 - val_precision: 0.9000 - val_recall: 0.6750\n",
      "Epoch 28/100\n",
      "99/99 [==============================] - 0s 2ms/step - loss: 0.0324 - binary_accuracy: 0.9902 - precision: 0.9067 - recall: 0.7391 - val_loss: 0.0767 - val_binary_accuracy: 0.9771 - val_precision: 1.0000 - val_recall: 0.2250\n",
      "Epoch 29/100\n",
      "99/99 [==============================] - 0s 2ms/step - loss: 0.0310 - binary_accuracy: 0.9908 - precision: 0.9315 - recall: 0.7391 - val_loss: 0.1086 - val_binary_accuracy: 0.9660 - val_precision: 0.4605 - val_recall: 0.8750\n",
      "Epoch 30/100\n",
      "99/99 [==============================] - 0s 2ms/step - loss: 0.0539 - binary_accuracy: 0.9845 - precision: 0.8308 - recall: 0.5870 - val_loss: 0.0548 - val_binary_accuracy: 0.9882 - val_precision: 0.9000 - val_recall: 0.6750\n",
      "Epoch 31/100\n",
      "99/99 [==============================] - 0s 2ms/step - loss: 0.0281 - binary_accuracy: 0.9918 - precision: 0.9459 - recall: 0.7609 - val_loss: 0.0493 - val_binary_accuracy: 0.9882 - val_precision: 1.0000 - val_recall: 0.6000\n",
      "Epoch 32/100\n",
      "99/99 [==============================] - 0s 2ms/step - loss: 0.0447 - binary_accuracy: 0.9860 - precision: 0.8429 - recall: 0.6413 - val_loss: 0.0518 - val_binary_accuracy: 0.9874 - val_precision: 1.0000 - val_recall: 0.5750\n",
      "Epoch 33/100\n",
      "99/99 [==============================] - 0s 2ms/step - loss: 0.0277 - binary_accuracy: 0.9918 - precision: 0.9231 - recall: 0.7826 - val_loss: 0.0499 - val_binary_accuracy: 0.9867 - val_precision: 0.9231 - val_recall: 0.6000\n",
      "Epoch 34/100\n",
      "99/99 [==============================] - 0s 2ms/step - loss: 0.0264 - binary_accuracy: 0.9937 - precision: 0.9615 - recall: 0.8152 - val_loss: 0.0464 - val_binary_accuracy: 0.9896 - val_precision: 1.0000 - val_recall: 0.6500\n",
      "Epoch 35/100\n",
      "99/99 [==============================] - 0s 2ms/step - loss: 0.0319 - binary_accuracy: 0.9908 - precision: 0.9091 - recall: 0.7609 - val_loss: 0.0513 - val_binary_accuracy: 0.9830 - val_precision: 0.7073 - val_recall: 0.7250\n",
      "Epoch 36/100\n",
      "99/99 [==============================] - 0s 2ms/step - loss: 0.0288 - binary_accuracy: 0.9924 - precision: 0.9595 - recall: 0.7717 - val_loss: 0.0634 - val_binary_accuracy: 0.9867 - val_precision: 1.0000 - val_recall: 0.5500\n",
      "Epoch 37/100\n",
      "99/99 [==============================] - 0s 2ms/step - loss: 0.0230 - binary_accuracy: 0.9933 - precision: 0.9494 - recall: 0.8152 - val_loss: 0.0476 - val_binary_accuracy: 0.9867 - val_precision: 0.8438 - val_recall: 0.6750\n",
      "Epoch 38/100\n",
      "99/99 [==============================] - 0s 2ms/step - loss: 0.0443 - binary_accuracy: 0.9851 - precision: 0.8169 - recall: 0.6304 - val_loss: 0.0954 - val_binary_accuracy: 0.9771 - val_precision: 1.0000 - val_recall: 0.2250\n",
      "Epoch 39/100\n",
      "99/99 [==============================] - 0s 2ms/step - loss: 0.0298 - binary_accuracy: 0.9905 - precision: 0.9189 - recall: 0.7391 - val_loss: 0.0583 - val_binary_accuracy: 0.9867 - val_precision: 1.0000 - val_recall: 0.5500\n",
      "Epoch 40/100\n",
      "99/99 [==============================] - 0s 2ms/step - loss: 0.0229 - binary_accuracy: 0.9924 - precision: 0.9359 - recall: 0.7935 - val_loss: 0.0708 - val_binary_accuracy: 0.9785 - val_precision: 0.6000 - val_recall: 0.8250\n",
      "Epoch 41/100\n",
      "99/99 [==============================] - 0s 2ms/step - loss: 0.0350 - binary_accuracy: 0.9902 - precision: 0.9296 - recall: 0.7174 - val_loss: 0.0452 - val_binary_accuracy: 0.9889 - val_precision: 0.9310 - val_recall: 0.6750\n",
      "Epoch 42/100\n",
      "99/99 [==============================] - 0s 2ms/step - loss: 0.0263 - binary_accuracy: 0.9911 - precision: 0.9211 - recall: 0.7609 - val_loss: 0.0599 - val_binary_accuracy: 0.9837 - val_precision: 0.6957 - val_recall: 0.8000\n",
      "Epoch 43/100\n",
      "99/99 [==============================] - 0s 2ms/step - loss: 0.0426 - binary_accuracy: 0.9886 - precision: 0.8889 - recall: 0.6957 - val_loss: 0.1194 - val_binary_accuracy: 0.9741 - val_precision: 1.0000 - val_recall: 0.1250\n",
      "Epoch 44/100\n",
      "99/99 [==============================] - 0s 2ms/step - loss: 0.0302 - binary_accuracy: 0.9905 - precision: 0.9079 - recall: 0.7500 - val_loss: 0.0541 - val_binary_accuracy: 0.9889 - val_precision: 1.0000 - val_recall: 0.6250\n",
      "Epoch 45/100\n",
      "99/99 [==============================] - 0s 2ms/step - loss: 0.0261 - binary_accuracy: 0.9937 - precision: 0.9615 - recall: 0.8152 - val_loss: 0.0748 - val_binary_accuracy: 0.9793 - val_precision: 0.6154 - val_recall: 0.8000\n",
      "Epoch 46/100\n",
      "99/99 [==============================] - 0s 2ms/step - loss: 0.0324 - binary_accuracy: 0.9895 - precision: 0.9041 - recall: 0.7174 - val_loss: 0.0498 - val_binary_accuracy: 0.9859 - val_precision: 0.8387 - val_recall: 0.6500\n",
      "Epoch 47/100\n",
      "99/99 [==============================] - 0s 2ms/step - loss: 0.0272 - binary_accuracy: 0.9918 - precision: 0.9024 - recall: 0.8043 - val_loss: 0.1383 - val_binary_accuracy: 0.9585 - val_precision: 0.4048 - val_recall: 0.8500\n",
      "Epoch 48/100\n",
      "99/99 [==============================] - 0s 2ms/step - loss: 0.0299 - binary_accuracy: 0.9898 - precision: 0.9167 - recall: 0.7174 - val_loss: 0.0499 - val_binary_accuracy: 0.9852 - val_precision: 0.7500 - val_recall: 0.7500\n",
      "Epoch 49/100\n",
      "99/99 [==============================] - 0s 2ms/step - loss: 0.0286 - binary_accuracy: 0.9918 - precision: 0.9125 - recall: 0.7935 - val_loss: 0.0628 - val_binary_accuracy: 0.9815 - val_precision: 0.6596 - val_recall: 0.7750\n",
      "Epoch 50/100\n",
      "99/99 [==============================] - 0s 2ms/step - loss: 0.0234 - binary_accuracy: 0.9924 - precision: 0.9359 - recall: 0.7935 - val_loss: 0.0471 - val_binary_accuracy: 0.9867 - val_precision: 0.8056 - val_recall: 0.7250\n",
      "Epoch 51/100\n",
      "99/99 [==============================] - 0s 2ms/step - loss: 0.0258 - binary_accuracy: 0.9908 - precision: 0.8987 - recall: 0.7717 - val_loss: 0.0734 - val_binary_accuracy: 0.9837 - val_precision: 1.0000 - val_recall: 0.4500\n",
      "Epoch 52/100\n",
      "99/99 [==============================] - 0s 2ms/step - loss: 0.0192 - binary_accuracy: 0.9937 - precision: 0.9286 - recall: 0.8478 - val_loss: 0.0695 - val_binary_accuracy: 0.9830 - val_precision: 0.6809 - val_recall: 0.8000\n",
      "Epoch 53/100\n",
      "99/99 [==============================] - 0s 2ms/step - loss: 0.0224 - binary_accuracy: 0.9927 - precision: 0.9259 - recall: 0.8152 - val_loss: 0.0518 - val_binary_accuracy: 0.9889 - val_precision: 0.9310 - val_recall: 0.6750\n",
      "Epoch 54/100\n",
      "99/99 [==============================] - 0s 2ms/step - loss: 0.0191 - binary_accuracy: 0.9940 - precision: 0.9294 - recall: 0.8587 - val_loss: 0.0557 - val_binary_accuracy: 0.9889 - val_precision: 1.0000 - val_recall: 0.6250\n",
      "Epoch 55/100\n",
      "99/99 [==============================] - 0s 2ms/step - loss: 0.0223 - binary_accuracy: 0.9921 - precision: 0.9351 - recall: 0.7826 - val_loss: 0.0487 - val_binary_accuracy: 0.9859 - val_precision: 0.7838 - val_recall: 0.7250\n",
      "Epoch 56/100\n",
      "99/99 [==============================] - 0s 2ms/step - loss: 0.0356 - binary_accuracy: 0.9902 - precision: 0.9067 - recall: 0.7391 - val_loss: 0.1085 - val_binary_accuracy: 0.9763 - val_precision: 0.5741 - val_recall: 0.7750\n",
      "Epoch 57/100\n",
      "99/99 [==============================] - 0s 2ms/step - loss: 0.0272 - binary_accuracy: 0.9927 - precision: 0.9481 - recall: 0.7935 - val_loss: 0.0480 - val_binary_accuracy: 0.9889 - val_precision: 1.0000 - val_recall: 0.6250\n",
      "Epoch 58/100\n",
      "99/99 [==============================] - 0s 2ms/step - loss: 0.0200 - binary_accuracy: 0.9940 - precision: 0.9506 - recall: 0.8370 - val_loss: 0.0459 - val_binary_accuracy: 0.9882 - val_precision: 0.9000 - val_recall: 0.6750\n",
      "Epoch 59/100\n",
      "99/99 [==============================] - 0s 2ms/step - loss: 0.0214 - binary_accuracy: 0.9930 - precision: 0.9268 - recall: 0.8261 - val_loss: 0.0526 - val_binary_accuracy: 0.9882 - val_precision: 1.0000 - val_recall: 0.6000\n",
      "Epoch 60/100\n",
      "99/99 [==============================] - 0s 2ms/step - loss: 0.0207 - binary_accuracy: 0.9937 - precision: 0.9286 - recall: 0.8478 - val_loss: 0.0519 - val_binary_accuracy: 0.9882 - val_precision: 1.0000 - val_recall: 0.6000\n",
      "Epoch 61/100\n",
      "99/99 [==============================] - 0s 2ms/step - loss: 0.0362 - binary_accuracy: 0.9908 - precision: 0.9091 - recall: 0.7609 - val_loss: 0.0445 - val_binary_accuracy: 0.9882 - val_precision: 1.0000 - val_recall: 0.6000\n",
      "Epoch 62/100\n",
      "99/99 [==============================] - 0s 2ms/step - loss: 0.0358 - binary_accuracy: 0.9905 - precision: 0.9189 - recall: 0.7391 - val_loss: 0.0446 - val_binary_accuracy: 0.9882 - val_precision: 0.8750 - val_recall: 0.7000\n",
      "Epoch 63/100\n",
      "99/99 [==============================] - 0s 2ms/step - loss: 0.0192 - binary_accuracy: 0.9933 - precision: 0.9277 - recall: 0.8370 - val_loss: 0.0472 - val_binary_accuracy: 0.9889 - val_precision: 0.8788 - val_recall: 0.7250\n",
      "Epoch 64/100\n",
      "99/99 [==============================] - 0s 2ms/step - loss: 0.0226 - binary_accuracy: 0.9921 - precision: 0.9036 - recall: 0.8152 - val_loss: 0.0762 - val_binary_accuracy: 0.9822 - val_precision: 1.0000 - val_recall: 0.4000\n",
      "Epoch 65/100\n",
      "99/99 [==============================] - 0s 2ms/step - loss: 0.0412 - binary_accuracy: 0.9886 - precision: 0.9000 - recall: 0.6848 - val_loss: 0.0437 - val_binary_accuracy: 0.9874 - val_precision: 0.8485 - val_recall: 0.7000\n",
      "Epoch 66/100\n",
      "99/99 [==============================] - 0s 2ms/step - loss: 0.0373 - binary_accuracy: 0.9908 - precision: 0.9200 - recall: 0.7500 - val_loss: 0.0497 - val_binary_accuracy: 0.9867 - val_precision: 1.0000 - val_recall: 0.5500\n",
      "Epoch 67/100\n",
      "99/99 [==============================] - 0s 2ms/step - loss: 0.0226 - binary_accuracy: 0.9937 - precision: 0.9737 - recall: 0.8043 - val_loss: 0.0566 - val_binary_accuracy: 0.9867 - val_precision: 0.9231 - val_recall: 0.6000\n",
      "Epoch 68/100\n",
      "99/99 [==============================] - 0s 2ms/step - loss: 0.0165 - binary_accuracy: 0.9946 - precision: 0.9310 - recall: 0.8804 - val_loss: 0.0492 - val_binary_accuracy: 0.9874 - val_precision: 0.8286 - val_recall: 0.7250\n",
      "Epoch 69/100\n",
      "99/99 [==============================] - 0s 2ms/step - loss: 0.0262 - binary_accuracy: 0.9927 - precision: 0.9259 - recall: 0.8152 - val_loss: 0.0666 - val_binary_accuracy: 0.9808 - val_precision: 1.0000 - val_recall: 0.3500\n",
      "Epoch 70/100\n",
      "99/99 [==============================] - 0s 2ms/step - loss: 0.0164 - binary_accuracy: 0.9962 - precision: 0.9878 - recall: 0.8804 - val_loss: 0.0758 - val_binary_accuracy: 0.9808 - val_precision: 0.6400 - val_recall: 0.8000\n",
      "Epoch 71/100\n",
      "99/99 [==============================] - 0s 2ms/step - loss: 0.0207 - binary_accuracy: 0.9933 - precision: 0.9277 - recall: 0.8370 - val_loss: 0.0689 - val_binary_accuracy: 0.9874 - val_precision: 1.0000 - val_recall: 0.5750\n",
      "Epoch 72/100\n",
      "99/99 [==============================] - 0s 2ms/step - loss: 0.0292 - binary_accuracy: 0.9927 - precision: 0.9600 - recall: 0.7826 - val_loss: 0.0436 - val_binary_accuracy: 0.9874 - val_precision: 0.8966 - val_recall: 0.6500\n",
      "Epoch 73/100\n",
      "99/99 [==============================] - 0s 2ms/step - loss: 0.0176 - binary_accuracy: 0.9946 - precision: 0.9747 - recall: 0.8370 - val_loss: 0.0688 - val_binary_accuracy: 0.9867 - val_precision: 1.0000 - val_recall: 0.5500\n",
      "Epoch 74/100\n",
      "99/99 [==============================] - 0s 2ms/step - loss: 0.0144 - binary_accuracy: 0.9962 - precision: 0.9651 - recall: 0.9022 - val_loss: 0.0549 - val_binary_accuracy: 0.9882 - val_precision: 0.8750 - val_recall: 0.7000\n",
      "Epoch 75/100\n",
      "99/99 [==============================] - 0s 2ms/step - loss: 0.0231 - binary_accuracy: 0.9927 - precision: 0.9157 - recall: 0.8261 - val_loss: 0.0824 - val_binary_accuracy: 0.9793 - val_precision: 1.0000 - val_recall: 0.3000\n",
      "Epoch 76/100\n",
      "99/99 [==============================] - 0s 2ms/step - loss: 0.0199 - binary_accuracy: 0.9940 - precision: 0.9398 - recall: 0.8478 - val_loss: 0.0964 - val_binary_accuracy: 0.9808 - val_precision: 1.0000 - val_recall: 0.3500\n",
      "Epoch 77/100\n",
      "99/99 [==============================] - 0s 2ms/step - loss: 0.0264 - binary_accuracy: 0.9924 - precision: 0.9250 - recall: 0.8043 - val_loss: 0.0581 - val_binary_accuracy: 0.9882 - val_precision: 0.9000 - val_recall: 0.6750\n",
      "Epoch 78/100\n",
      "99/99 [==============================] - 0s 2ms/step - loss: 0.0208 - binary_accuracy: 0.9937 - precision: 0.9286 - recall: 0.8478 - val_loss: 0.0469 - val_binary_accuracy: 0.9889 - val_precision: 0.8788 - val_recall: 0.7250\n",
      "Epoch 79/100\n",
      "99/99 [==============================] - 0s 2ms/step - loss: 0.0200 - binary_accuracy: 0.9930 - precision: 0.9167 - recall: 0.8370 - val_loss: 0.0496 - val_binary_accuracy: 0.9874 - val_precision: 0.8108 - val_recall: 0.7500\n",
      "Epoch 80/100\n",
      "99/99 [==============================] - 0s 2ms/step - loss: 0.0119 - binary_accuracy: 0.9965 - precision: 0.9880 - recall: 0.8913 - val_loss: 0.0736 - val_binary_accuracy: 0.9837 - val_precision: 0.6957 - val_recall: 0.8000\n",
      "Epoch 81/100\n",
      "99/99 [==============================] - 0s 2ms/step - loss: 0.0172 - binary_accuracy: 0.9956 - precision: 0.9535 - recall: 0.8913 - val_loss: 0.0518 - val_binary_accuracy: 0.9874 - val_precision: 0.8108 - val_recall: 0.7500\n",
      "Epoch 82/100\n",
      "99/99 [==============================] - 0s 2ms/step - loss: 0.0585 - binary_accuracy: 0.9870 - precision: 0.8493 - recall: 0.6739 - val_loss: 0.0723 - val_binary_accuracy: 0.9815 - val_precision: 1.0000 - val_recall: 0.3750\n",
      "Epoch 83/100\n",
      "99/99 [==============================] - 0s 2ms/step - loss: 0.0268 - binary_accuracy: 0.9918 - precision: 0.9024 - recall: 0.8043 - val_loss: 0.0499 - val_binary_accuracy: 0.9882 - val_precision: 1.0000 - val_recall: 0.6000\n",
      "Epoch 84/100\n",
      "99/99 [==============================] - 0s 2ms/step - loss: 0.0191 - binary_accuracy: 0.9930 - precision: 0.9167 - recall: 0.8370 - val_loss: 0.0692 - val_binary_accuracy: 0.9778 - val_precision: 0.5926 - val_recall: 0.8000\n",
      "Epoch 85/100\n",
      "99/99 [==============================] - 0s 2ms/step - loss: 0.0183 - binary_accuracy: 0.9937 - precision: 0.9186 - recall: 0.8587 - val_loss: 0.0481 - val_binary_accuracy: 0.9889 - val_precision: 0.8788 - val_recall: 0.7250\n",
      "Epoch 86/100\n",
      "99/99 [==============================] - 0s 2ms/step - loss: 0.0207 - binary_accuracy: 0.9933 - precision: 0.9176 - recall: 0.8478 - val_loss: 0.0481 - val_binary_accuracy: 0.9874 - val_precision: 0.8108 - val_recall: 0.7500\n",
      "Epoch 87/100\n",
      "99/99 [==============================] - 0s 2ms/step - loss: 0.0230 - binary_accuracy: 0.9943 - precision: 0.9625 - recall: 0.8370 - val_loss: 0.0562 - val_binary_accuracy: 0.9882 - val_precision: 1.0000 - val_recall: 0.6000\n",
      "Epoch 88/100\n",
      "99/99 [==============================] - 0s 2ms/step - loss: 0.0191 - binary_accuracy: 0.9940 - precision: 0.9294 - recall: 0.8587 - val_loss: 0.0540 - val_binary_accuracy: 0.9889 - val_precision: 1.0000 - val_recall: 0.6250\n",
      "Epoch 89/100\n",
      "99/99 [==============================] - 0s 2ms/step - loss: 0.0157 - binary_accuracy: 0.9959 - precision: 0.9759 - recall: 0.8804 - val_loss: 0.0499 - val_binary_accuracy: 0.9882 - val_precision: 0.8750 - val_recall: 0.7000\n",
      "Epoch 90/100\n",
      "99/99 [==============================] - 0s 2ms/step - loss: 0.0305 - binary_accuracy: 0.9911 - precision: 0.9103 - recall: 0.7717 - val_loss: 0.0585 - val_binary_accuracy: 0.9859 - val_precision: 1.0000 - val_recall: 0.5250\n",
      "Epoch 91/100\n",
      "99/99 [==============================] - 0s 2ms/step - loss: 0.0175 - binary_accuracy: 0.9949 - precision: 0.9419 - recall: 0.8804 - val_loss: 0.0727 - val_binary_accuracy: 0.9859 - val_precision: 1.0000 - val_recall: 0.5250\n",
      "Epoch 92/100\n",
      "99/99 [==============================] - 0s 2ms/step - loss: 0.0170 - binary_accuracy: 0.9949 - precision: 0.9634 - recall: 0.8587 - val_loss: 0.0544 - val_binary_accuracy: 0.9889 - val_precision: 1.0000 - val_recall: 0.6250\n",
      "Epoch 93/100\n",
      "99/99 [==============================] - 0s 2ms/step - loss: 0.0203 - binary_accuracy: 0.9930 - precision: 0.9167 - recall: 0.8370 - val_loss: 0.0511 - val_binary_accuracy: 0.9867 - val_precision: 0.7895 - val_recall: 0.7500\n",
      "Epoch 94/100\n",
      "99/99 [==============================] - 0s 2ms/step - loss: 0.0190 - binary_accuracy: 0.9943 - precision: 0.9302 - recall: 0.8696 - val_loss: 0.0558 - val_binary_accuracy: 0.9889 - val_precision: 1.0000 - val_recall: 0.6250\n",
      "Epoch 95/100\n",
      "99/99 [==============================] - 0s 2ms/step - loss: 0.0191 - binary_accuracy: 0.9949 - precision: 0.9750 - recall: 0.8478 - val_loss: 0.0497 - val_binary_accuracy: 0.9889 - val_precision: 0.8571 - val_recall: 0.7500\n",
      "Epoch 96/100\n",
      "99/99 [==============================] - 0s 2ms/step - loss: 0.0230 - binary_accuracy: 0.9927 - precision: 0.9481 - recall: 0.7935 - val_loss: 0.0514 - val_binary_accuracy: 0.9852 - val_precision: 0.7500 - val_recall: 0.7500\n",
      "Epoch 97/100\n",
      "99/99 [==============================] - 0s 2ms/step - loss: 0.0152 - binary_accuracy: 0.9962 - precision: 0.9651 - recall: 0.9022 - val_loss: 0.0477 - val_binary_accuracy: 0.9889 - val_precision: 0.8571 - val_recall: 0.7500\n",
      "Epoch 98/100\n",
      "99/99 [==============================] - 0s 2ms/step - loss: 0.0156 - binary_accuracy: 0.9962 - precision: 0.9762 - recall: 0.8913 - val_loss: 0.0543 - val_binary_accuracy: 0.9874 - val_precision: 0.8108 - val_recall: 0.7500\n",
      "Epoch 99/100\n",
      "99/99 [==============================] - 0s 2ms/step - loss: 0.0168 - binary_accuracy: 0.9946 - precision: 0.9412 - recall: 0.8696 - val_loss: 0.0625 - val_binary_accuracy: 0.9837 - val_precision: 0.7045 - val_recall: 0.7750\n",
      "Epoch 100/100\n",
      "99/99 [==============================] - 0s 2ms/step - loss: 0.0305 - binary_accuracy: 0.9921 - precision: 0.9351 - recall: 0.7826 - val_loss: 0.0487 - val_binary_accuracy: 0.9882 - val_precision: 1.0000 - val_recall: 0.6000\n"
     ]
    }
   ],
   "source": [
    "MLP = model.fit(smiles_train,labels_train, epochs=100, verbose =1,validation_data=(smiles_test,labels_test))"
   ]
  },
  {
   "cell_type": "code",
   "execution_count": 15,
   "metadata": {},
   "outputs": [
    {
     "data": {
      "text/plain": [
       "<matplotlib.legend.Legend at 0x7fe8f21b4d50>"
      ]
     },
     "execution_count": 15,
     "metadata": {},
     "output_type": "execute_result"
    },
    {
     "data": {
      "image/png": "[encoded data removed]",
      "text/plain": [
       "<Figure size 720x720 with 1 Axes>"
      ]
     },
     "metadata": {
      "needs_background": "light"
     },
     "output_type": "display_data"
    }
   ],
   "source": [
    "import matplotlib.pyplot as plt\n",
    "plt.figure(figsize=(10,10))\n",
    "plt.plot(MLP.history['loss'],label = 'train')\n",
    "plt.plot(MLP.history['val_loss'],label = 'test')\n",
    "plt.title('Erro', fontsize =10)\n",
    "plt.xlabel('epoch')\n",
    "plt.ylabel('erro')\n",
    "plt.legend()\n"
   ]
  },
  {
   "cell_type": "code",
   "execution_count": 16,
   "metadata": {},
   "outputs": [],
   "source": [
    "predictions = np.round(model.predict(smiles_test))"
   ]
  },
  {
   "cell_type": "code",
   "execution_count": 17,
   "metadata": {},
   "outputs": [],
   "source": [
    "from sklearn.metrics import confusion_matrix\n",
    "cm = confusion_matrix(labels_test, predictions)"
   ]
  },
  {
   "cell_type": "code",
   "execution_count": 18,
   "metadata": {},
   "outputs": [],
   "source": [
    "import seaborn as sns\n"
   ]
  },
  {
   "cell_type": "code",
   "execution_count": 19,
   "metadata": {},
   "outputs": [
    {
     "data": {
      "text/plain": [
       "Text(0.5, 15.0, 'PREDICTED')"
      ]
     },
     "execution_count": 19,
     "metadata": {},
     "output_type": "execute_result"
    },
    {
     "data": {
      "image/png": "[encoded data removed]",
      "text/plain": [
       "<Figure size 432x288 with 2 Axes>"
      ]
     },
     "metadata": {
      "needs_background": "light"
     },
     "output_type": "display_data"
    }
   ],
   "source": [
    "sns.heatmap(cm, annot=True,cmap='coolwarm')\n",
    "plt.ylabel(\"TRUE\")\n",
    "plt.xlabel(\"PREDICTED\")"
   ]
  },
  {
   "cell_type": "code",
   "execution_count": 20,
   "metadata": {},
   "outputs": [],
   "source": [
    "tn, fp, fn, tp = confusion_matrix(labels_test, predictions).ravel()"
   ]
  },
  {
   "cell_type": "code",
   "execution_count": 21,
   "metadata": {},
   "outputs": [
    {
     "data": {
      "text/plain": [
       "(1311, 0, 16, 24)"
      ]
     },
     "execution_count": 21,
     "metadata": {},
     "output_type": "execute_result"
    }
   ],
   "source": [
    "tn, fp, fn, tp "
   ]
  },
  {
   "cell_type": "code",
   "execution_count": 22,
   "metadata": {},
   "outputs": [
    {
     "data": {
      "text/plain": [
       "0.9881569207994079"
      ]
     },
     "execution_count": 22,
     "metadata": {},
     "output_type": "execute_result"
    }
   ],
   "source": [
    "#acurácia\n",
    "(tp+tn)/(tp+tn+fp+fn)"
   ]
  },
  {
   "cell_type": "code",
   "execution_count": 23,
   "metadata": {},
   "outputs": [
    {
     "data": {
      "text/plain": [
       "0.6"
      ]
     },
     "execution_count": 23,
     "metadata": {},
     "output_type": "execute_result"
    }
   ],
   "source": [
    "#acerta o que é antibiótico\n",
    "(tp)/(tp+fn)"
   ]
  },
  {
   "cell_type": "code",
   "execution_count": 24,
   "metadata": {},
   "outputs": [
    {
     "data": {
      "text/plain": [
       "1.0"
      ]
     },
     "execution_count": 24,
     "metadata": {},
     "output_type": "execute_result"
    }
   ],
   "source": [
    "#acerta o que não é antibiótico\n",
    "(tn)/(tn+fp)"
   ]
  },
  {
   "cell_type": "markdown",
   "metadata": {},
   "source": [
    "Convolucional"
   ]
  },
  {
   "cell_type": "code",
   "execution_count": 25,
   "metadata": {},
   "outputs": [],
   "source": [
    "from tensorflow.keras.layers import Flatten, Dense, Conv1D, MaxPool1D, Dropout"
   ]
  },
  {
   "cell_type": "code",
   "execution_count": 26,
   "metadata": {},
   "outputs": [],
   "source": [
    "CNN = Sequential([\n",
    "    tf.keras.layers.Embedding(input_dim = 394, output_dim = 1, input_length = maior_smile),\n",
    "\n",
    "    tf.keras.layers.Conv1D(filters = 32,kernel_size = 3),  #Conv1\n",
    "    tf.keras.layers.MaxPooling1D(pool_size = 3), \n",
    "\n",
    "    #tf.keras.layers.Conv1D(filters = 64,kernel_size = 3),  #Conv2\n",
    "\n",
    "    tf.keras.layers.Conv1D(filters = 128,kernel_size = 3), #Conv3\n",
    "    tf.keras.layers.MaxPooling1D(pool_size = 3),\n",
    "\n",
    "    #tf.keras.layers.Conv1D(filters = 256,kernel_size = 3), #Conv4\n",
    "    \n",
    "\n",
    "    tf.keras.layers.Conv1D(filters = 256,kernel_size = 3), #Conv5\n",
    "    tf.keras.layers.MaxPooling1D(pool_size = 3),\n",
    "\n",
    "    tf.keras.layers.Conv1D(filters = 256,kernel_size = 3),    #Conv6\n",
    "    tf.keras.layers.MaxPooling1D(pool_size = 3),\n",
    "\n",
    "    tf.keras.layers.Flatten(),\n",
    "    tf.keras.layers.Dropout(0.42),\n",
    "    \n",
    "    tf.keras.layers.Dense(394, activation = \"relu\"),\n",
    "    tf.keras.layers.Dense(300, activation = \"relu\"),\n",
    "\n",
    "    tf.keras.layers.Dense(1, activation = \"sigmoid\")\n",
    "])\n",
    "CNN.compile(\n",
    "    optimizer = tf.optimizers.Adam(),\n",
    "    loss = tf.losses.BinaryCrossentropy(),\n",
    "    metrics = [\n",
    "        tf.metrics.BinaryAccuracy(),\n",
    "        tf.keras.metrics.Precision(),\n",
    "        tf.keras.metrics.Recall()\n",
    "    ]\n",
    ")\n"
   ]
  },
  {
   "cell_type": "code",
   "execution_count": 27,
   "metadata": {},
   "outputs": [
    {
     "name": "stdout",
     "output_type": "stream",
     "text": [
      "Epoch 1/100\n",
      "316/316 [==============================] - 3s 6ms/step - loss: 0.1961 - binary_accuracy: 0.9686 - precision_1: 0.0000e+00 - recall_1: 0.0000e+00 - val_loss: 0.2399 - val_binary_accuracy: 0.9704 - val_precision_1: 0.0000e+00 - val_recall_1: 0.0000e+00\n",
      "Epoch 2/100\n",
      "316/316 [==============================] - 2s 5ms/step - loss: 0.1437 - binary_accuracy: 0.9708 - precision_1: 0.0000e+00 - recall_1: 0.0000e+00 - val_loss: 0.1326 - val_binary_accuracy: 0.9704 - val_precision_1: 0.0000e+00 - val_recall_1: 0.0000e+00\n",
      "Epoch 3/100\n",
      "316/316 [==============================] - 2s 5ms/step - loss: 0.1345 - binary_accuracy: 0.9708 - precision_1: 0.0000e+00 - recall_1: 0.0000e+00 - val_loss: 0.1395 - val_binary_accuracy: 0.9704 - val_precision_1: 0.0000e+00 - val_recall_1: 0.0000e+00\n",
      "Epoch 4/100\n",
      "316/316 [==============================] - 2s 5ms/step - loss: 0.1400 - binary_accuracy: 0.9708 - precision_1: 0.0000e+00 - recall_1: 0.0000e+00 - val_loss: 0.1406 - val_binary_accuracy: 0.9704 - val_precision_1: 0.0000e+00 - val_recall_1: 0.0000e+00\n",
      "Epoch 5/100\n",
      "316/316 [==============================] - 2s 5ms/step - loss: 0.1477 - binary_accuracy: 0.9708 - precision_1: 0.0000e+00 - recall_1: 0.0000e+00 - val_loss: 0.1437 - val_binary_accuracy: 0.9704 - val_precision_1: 0.0000e+00 - val_recall_1: 0.0000e+00\n",
      "Epoch 6/100\n",
      "316/316 [==============================] - 2s 5ms/step - loss: 0.1438 - binary_accuracy: 0.9708 - precision_1: 0.0000e+00 - recall_1: 0.0000e+00 - val_loss: 0.1750 - val_binary_accuracy: 0.9704 - val_precision_1: 0.0000e+00 - val_recall_1: 0.0000e+00\n",
      "Epoch 7/100\n",
      "316/316 [==============================] - 2s 5ms/step - loss: 0.1385 - binary_accuracy: 0.9708 - precision_1: 0.0000e+00 - recall_1: 0.0000e+00 - val_loss: 0.1308 - val_binary_accuracy: 0.9704 - val_precision_1: 0.0000e+00 - val_recall_1: 0.0000e+00\n",
      "Epoch 8/100\n",
      "316/316 [==============================] - 2s 5ms/step - loss: 0.1329 - binary_accuracy: 0.9708 - precision_1: 0.0000e+00 - recall_1: 0.0000e+00 - val_loss: 0.1342 - val_binary_accuracy: 0.9704 - val_precision_1: 0.0000e+00 - val_recall_1: 0.0000e+00\n",
      "Epoch 9/100\n",
      "316/316 [==============================] - 2s 5ms/step - loss: 0.1382 - binary_accuracy: 0.9708 - precision_1: 0.0000e+00 - recall_1: 0.0000e+00 - val_loss: 0.1310 - val_binary_accuracy: 0.9704 - val_precision_1: 0.0000e+00 - val_recall_1: 0.0000e+00\n",
      "Epoch 10/100\n",
      "316/316 [==============================] - 2s 5ms/step - loss: 0.1402 - binary_accuracy: 0.9705 - precision_1: 0.0000e+00 - recall_1: 0.0000e+00 - val_loss: 0.1379 - val_binary_accuracy: 0.9704 - val_precision_1: 0.0000e+00 - val_recall_1: 0.0000e+00\n",
      "Epoch 11/100\n",
      "316/316 [==============================] - 2s 5ms/step - loss: 0.1469 - binary_accuracy: 0.9708 - precision_1: 0.5000 - recall_1: 0.0109 - val_loss: 0.1281 - val_binary_accuracy: 0.9704 - val_precision_1: 0.0000e+00 - val_recall_1: 0.0000e+00\n",
      "Epoch 12/100\n",
      "316/316 [==============================] - 2s 5ms/step - loss: 0.1281 - binary_accuracy: 0.9718 - precision_1: 0.8000 - recall_1: 0.0435 - val_loss: 0.1277 - val_binary_accuracy: 0.9711 - val_precision_1: 1.0000 - val_recall_1: 0.0250\n",
      "Epoch 13/100\n",
      "316/316 [==============================] - 2s 5ms/step - loss: 0.1397 - binary_accuracy: 0.9727 - precision_1: 0.8750 - recall_1: 0.0761 - val_loss: 0.1367 - val_binary_accuracy: 0.9711 - val_precision_1: 1.0000 - val_recall_1: 0.0250\n",
      "Epoch 14/100\n",
      "316/316 [==============================] - 2s 5ms/step - loss: 0.1281 - binary_accuracy: 0.9727 - precision_1: 1.0000 - recall_1: 0.0652 - val_loss: 0.1268 - val_binary_accuracy: 0.9719 - val_precision_1: 1.0000 - val_recall_1: 0.0500\n",
      "Epoch 15/100\n",
      "316/316 [==============================] - 2s 5ms/step - loss: 0.1219 - binary_accuracy: 0.9737 - precision_1: 1.0000 - recall_1: 0.0978 - val_loss: 0.1252 - val_binary_accuracy: 0.9719 - val_precision_1: 1.0000 - val_recall_1: 0.0500\n",
      "Epoch 16/100\n",
      "316/316 [==============================] - 2s 5ms/step - loss: 0.1228 - binary_accuracy: 0.9737 - precision_1: 1.0000 - recall_1: 0.0978 - val_loss: 0.1269 - val_binary_accuracy: 0.9719 - val_precision_1: 1.0000 - val_recall_1: 0.0500\n",
      "Epoch 17/100\n",
      "316/316 [==============================] - 2s 5ms/step - loss: 0.1206 - binary_accuracy: 0.9737 - precision_1: 1.0000 - recall_1: 0.0978 - val_loss: 0.1387 - val_binary_accuracy: 0.9726 - val_precision_1: 1.0000 - val_recall_1: 0.0750\n",
      "Epoch 18/100\n",
      "316/316 [==============================] - 2s 5ms/step - loss: 0.1203 - binary_accuracy: 0.9737 - precision_1: 1.0000 - recall_1: 0.0978 - val_loss: 0.1283 - val_binary_accuracy: 0.9726 - val_precision_1: 1.0000 - val_recall_1: 0.0750\n",
      "Epoch 19/100\n",
      "316/316 [==============================] - 2s 5ms/step - loss: 0.1265 - binary_accuracy: 0.9737 - precision_1: 1.0000 - recall_1: 0.0978 - val_loss: 0.1277 - val_binary_accuracy: 0.9711 - val_precision_1: 1.0000 - val_recall_1: 0.0250\n",
      "Epoch 20/100\n",
      "316/316 [==============================] - 2s 5ms/step - loss: 0.1428 - binary_accuracy: 0.9714 - precision_1: 0.6250 - recall_1: 0.0543 - val_loss: 0.1449 - val_binary_accuracy: 0.9711 - val_precision_1: 1.0000 - val_recall_1: 0.0250\n",
      "Epoch 21/100\n",
      "316/316 [==============================] - 2s 5ms/step - loss: 0.1273 - binary_accuracy: 0.9730 - precision_1: 1.0000 - recall_1: 0.0761 - val_loss: 0.1350 - val_binary_accuracy: 0.9719 - val_precision_1: 1.0000 - val_recall_1: 0.0500\n",
      "Epoch 22/100\n",
      "316/316 [==============================] - 2s 5ms/step - loss: 0.1230 - binary_accuracy: 0.9737 - precision_1: 1.0000 - recall_1: 0.0978 - val_loss: 0.1310 - val_binary_accuracy: 0.9726 - val_precision_1: 1.0000 - val_recall_1: 0.0750\n",
      "Epoch 23/100\n",
      "316/316 [==============================] - 2s 5ms/step - loss: 0.1250 - binary_accuracy: 0.9737 - precision_1: 1.0000 - recall_1: 0.0978 - val_loss: 0.1242 - val_binary_accuracy: 0.9726 - val_precision_1: 1.0000 - val_recall_1: 0.0750\n",
      "Epoch 24/100\n",
      "316/316 [==============================] - 2s 5ms/step - loss: 0.1202 - binary_accuracy: 0.9737 - precision_1: 1.0000 - recall_1: 0.0978 - val_loss: 0.1338 - val_binary_accuracy: 0.9726 - val_precision_1: 1.0000 - val_recall_1: 0.0750\n",
      "Epoch 25/100\n",
      "316/316 [==============================] - 2s 5ms/step - loss: 0.1237 - binary_accuracy: 0.9734 - precision_1: 0.9000 - recall_1: 0.0978 - val_loss: 0.1276 - val_binary_accuracy: 0.9719 - val_precision_1: 1.0000 - val_recall_1: 0.0500\n",
      "Epoch 26/100\n",
      "316/316 [==============================] - 2s 5ms/step - loss: 0.1235 - binary_accuracy: 0.9734 - precision_1: 1.0000 - recall_1: 0.0870 - val_loss: 0.1277 - val_binary_accuracy: 0.9719 - val_precision_1: 1.0000 - val_recall_1: 0.0500\n",
      "Epoch 27/100\n",
      "316/316 [==============================] - 2s 5ms/step - loss: 0.1172 - binary_accuracy: 0.9737 - precision_1: 1.0000 - recall_1: 0.0978 - val_loss: 0.1407 - val_binary_accuracy: 0.9726 - val_precision_1: 1.0000 - val_recall_1: 0.0750\n",
      "Epoch 28/100\n",
      "316/316 [==============================] - 2s 5ms/step - loss: 0.1196 - binary_accuracy: 0.9740 - precision_1: 1.0000 - recall_1: 0.1087 - val_loss: 0.1280 - val_binary_accuracy: 0.9726 - val_precision_1: 1.0000 - val_recall_1: 0.0750\n",
      "Epoch 29/100\n",
      "316/316 [==============================] - 2s 5ms/step - loss: 0.1512 - binary_accuracy: 0.9721 - precision_1: 0.7500 - recall_1: 0.0652 - val_loss: 0.1304 - val_binary_accuracy: 0.9719 - val_precision_1: 1.0000 - val_recall_1: 0.0500\n",
      "Epoch 30/100\n",
      "316/316 [==============================] - 2s 5ms/step - loss: 0.1229 - binary_accuracy: 0.9737 - precision_1: 1.0000 - recall_1: 0.0978 - val_loss: 0.1263 - val_binary_accuracy: 0.9726 - val_precision_1: 1.0000 - val_recall_1: 0.0750\n",
      "Epoch 31/100\n",
      "316/316 [==============================] - 2s 5ms/step - loss: 0.1256 - binary_accuracy: 0.9737 - precision_1: 1.0000 - recall_1: 0.0978 - val_loss: 0.1254 - val_binary_accuracy: 0.9726 - val_precision_1: 1.0000 - val_recall_1: 0.0750\n",
      "Epoch 32/100\n",
      "316/316 [==============================] - 2s 5ms/step - loss: 0.1215 - binary_accuracy: 0.9734 - precision_1: 0.8333 - recall_1: 0.1087 - val_loss: 0.1253 - val_binary_accuracy: 0.9719 - val_precision_1: 1.0000 - val_recall_1: 0.0500\n",
      "Epoch 33/100\n",
      "316/316 [==============================] - 2s 5ms/step - loss: 0.1223 - binary_accuracy: 0.9737 - precision_1: 1.0000 - recall_1: 0.0978 - val_loss: 0.1271 - val_binary_accuracy: 0.9726 - val_precision_1: 1.0000 - val_recall_1: 0.0750\n",
      "Epoch 34/100\n",
      "316/316 [==============================] - 2s 5ms/step - loss: 0.1185 - binary_accuracy: 0.9737 - precision_1: 1.0000 - recall_1: 0.0978 - val_loss: 0.1256 - val_binary_accuracy: 0.9726 - val_precision_1: 1.0000 - val_recall_1: 0.0750\n",
      "Epoch 35/100\n",
      "316/316 [==============================] - 2s 5ms/step - loss: 0.1191 - binary_accuracy: 0.9734 - precision_1: 0.8333 - recall_1: 0.1087 - val_loss: 0.1331 - val_binary_accuracy: 0.9726 - val_precision_1: 1.0000 - val_recall_1: 0.0750\n",
      "Epoch 36/100\n",
      "316/316 [==============================] - 2s 5ms/step - loss: 0.1179 - binary_accuracy: 0.9737 - precision_1: 0.9091 - recall_1: 0.1087 - val_loss: 0.1366 - val_binary_accuracy: 0.9719 - val_precision_1: 1.0000 - val_recall_1: 0.0500\n",
      "Epoch 37/100\n",
      "316/316 [==============================] - 2s 5ms/step - loss: 0.1196 - binary_accuracy: 0.9740 - precision_1: 1.0000 - recall_1: 0.1087 - val_loss: 0.1393 - val_binary_accuracy: 0.9719 - val_precision_1: 0.7500 - val_recall_1: 0.0750\n",
      "Epoch 38/100\n",
      "316/316 [==============================] - 2s 5ms/step - loss: 0.1176 - binary_accuracy: 0.9740 - precision_1: 0.9167 - recall_1: 0.1196 - val_loss: 0.1364 - val_binary_accuracy: 0.9719 - val_precision_1: 1.0000 - val_recall_1: 0.0500\n",
      "Epoch 39/100\n",
      "316/316 [==============================] - 2s 5ms/step - loss: 0.1178 - binary_accuracy: 0.9740 - precision_1: 1.0000 - recall_1: 0.1087 - val_loss: 0.1266 - val_binary_accuracy: 0.9719 - val_precision_1: 0.7500 - val_recall_1: 0.0750\n",
      "Epoch 40/100\n",
      "316/316 [==============================] - 2s 5ms/step - loss: 0.1167 - binary_accuracy: 0.9746 - precision_1: 1.0000 - recall_1: 0.1304 - val_loss: 0.1287 - val_binary_accuracy: 0.9726 - val_precision_1: 1.0000 - val_recall_1: 0.0750\n",
      "Epoch 41/100\n",
      "316/316 [==============================] - 2s 5ms/step - loss: 0.1160 - binary_accuracy: 0.9746 - precision_1: 1.0000 - recall_1: 0.1304 - val_loss: 0.1248 - val_binary_accuracy: 0.9734 - val_precision_1: 1.0000 - val_recall_1: 0.1000\n",
      "Epoch 42/100\n",
      "316/316 [==============================] - 2s 5ms/step - loss: 0.1210 - binary_accuracy: 0.9740 - precision_1: 0.9167 - recall_1: 0.1196 - val_loss: 0.1379 - val_binary_accuracy: 0.9711 - val_precision_1: 0.6667 - val_recall_1: 0.0500\n",
      "Epoch 43/100\n",
      "316/316 [==============================] - 2s 5ms/step - loss: 0.1305 - binary_accuracy: 0.9737 - precision_1: 0.9091 - recall_1: 0.1087 - val_loss: 0.1268 - val_binary_accuracy: 0.9726 - val_precision_1: 1.0000 - val_recall_1: 0.0750\n",
      "Epoch 44/100\n",
      "316/316 [==============================] - 2s 5ms/step - loss: 0.1199 - binary_accuracy: 0.9740 - precision_1: 1.0000 - recall_1: 0.1087 - val_loss: 0.1477 - val_binary_accuracy: 0.9726 - val_precision_1: 1.0000 - val_recall_1: 0.0750\n",
      "Epoch 45/100\n",
      "316/316 [==============================] - 2s 5ms/step - loss: 0.1196 - binary_accuracy: 0.9743 - precision_1: 1.0000 - recall_1: 0.1196 - val_loss: 0.1244 - val_binary_accuracy: 0.9726 - val_precision_1: 1.0000 - val_recall_1: 0.0750\n",
      "Epoch 46/100\n",
      "316/316 [==============================] - 2s 5ms/step - loss: 0.1197 - binary_accuracy: 0.9749 - precision_1: 1.0000 - recall_1: 0.1413 - val_loss: 0.1211 - val_binary_accuracy: 0.9734 - val_precision_1: 1.0000 - val_recall_1: 0.1000\n",
      "Epoch 47/100\n",
      "316/316 [==============================] - 2s 5ms/step - loss: 0.1217 - binary_accuracy: 0.9734 - precision_1: 0.8333 - recall_1: 0.1087 - val_loss: 0.1231 - val_binary_accuracy: 0.9726 - val_precision_1: 1.0000 - val_recall_1: 0.0750\n",
      "Epoch 48/100\n",
      "316/316 [==============================] - 2s 5ms/step - loss: 0.1170 - binary_accuracy: 0.9743 - precision_1: 0.9231 - recall_1: 0.1304 - val_loss: 0.1306 - val_binary_accuracy: 0.9726 - val_precision_1: 1.0000 - val_recall_1: 0.0750\n",
      "Epoch 49/100\n",
      "316/316 [==============================] - 2s 5ms/step - loss: 0.1190 - binary_accuracy: 0.9740 - precision_1: 1.0000 - recall_1: 0.1087 - val_loss: 0.1275 - val_binary_accuracy: 0.9711 - val_precision_1: 0.6000 - val_recall_1: 0.0750\n",
      "Epoch 50/100\n",
      "316/316 [==============================] - 2s 5ms/step - loss: 0.1167 - binary_accuracy: 0.9746 - precision_1: 1.0000 - recall_1: 0.1304 - val_loss: 0.1214 - val_binary_accuracy: 0.9734 - val_precision_1: 1.0000 - val_recall_1: 0.1000\n",
      "Epoch 51/100\n",
      "316/316 [==============================] - 2s 5ms/step - loss: 0.1168 - binary_accuracy: 0.9749 - precision_1: 1.0000 - recall_1: 0.1413 - val_loss: 0.1281 - val_binary_accuracy: 0.9726 - val_precision_1: 1.0000 - val_recall_1: 0.0750\n",
      "Epoch 52/100\n",
      "316/316 [==============================] - 2s 5ms/step - loss: 0.1156 - binary_accuracy: 0.9749 - precision_1: 1.0000 - recall_1: 0.1413 - val_loss: 0.1243 - val_binary_accuracy: 0.9726 - val_precision_1: 1.0000 - val_recall_1: 0.0750\n",
      "Epoch 53/100\n",
      "316/316 [==============================] - 2s 5ms/step - loss: 0.1155 - binary_accuracy: 0.9749 - precision_1: 1.0000 - recall_1: 0.1413 - val_loss: 0.1258 - val_binary_accuracy: 0.9734 - val_precision_1: 1.0000 - val_recall_1: 0.1000\n",
      "Epoch 54/100\n",
      "316/316 [==============================] - 2s 5ms/step - loss: 0.1163 - binary_accuracy: 0.9749 - precision_1: 1.0000 - recall_1: 0.1413 - val_loss: 0.1265 - val_binary_accuracy: 0.9734 - val_precision_1: 1.0000 - val_recall_1: 0.1000\n",
      "Epoch 55/100\n",
      "316/316 [==============================] - 2s 5ms/step - loss: 0.1155 - binary_accuracy: 0.9749 - precision_1: 1.0000 - recall_1: 0.1413 - val_loss: 0.1298 - val_binary_accuracy: 0.9726 - val_precision_1: 1.0000 - val_recall_1: 0.0750\n",
      "Epoch 56/100\n",
      "316/316 [==============================] - 2s 5ms/step - loss: 0.1157 - binary_accuracy: 0.9749 - precision_1: 1.0000 - recall_1: 0.1413 - val_loss: 0.1258 - val_binary_accuracy: 0.9726 - val_precision_1: 1.0000 - val_recall_1: 0.0750\n",
      "Epoch 57/100\n",
      "316/316 [==============================] - 2s 5ms/step - loss: 0.1158 - binary_accuracy: 0.9749 - precision_1: 1.0000 - recall_1: 0.1413 - val_loss: 0.1263 - val_binary_accuracy: 0.9726 - val_precision_1: 1.0000 - val_recall_1: 0.0750\n",
      "Epoch 58/100\n",
      "316/316 [==============================] - 2s 5ms/step - loss: 0.1160 - binary_accuracy: 0.9749 - precision_1: 1.0000 - recall_1: 0.1413 - val_loss: 0.1304 - val_binary_accuracy: 0.9726 - val_precision_1: 1.0000 - val_recall_1: 0.0750\n",
      "Epoch 59/100\n",
      "316/316 [==============================] - 2s 5ms/step - loss: 0.1151 - binary_accuracy: 0.9749 - precision_1: 1.0000 - recall_1: 0.1413 - val_loss: 0.1304 - val_binary_accuracy: 0.9719 - val_precision_1: 1.0000 - val_recall_1: 0.0500\n",
      "Epoch 60/100\n",
      "316/316 [==============================] - 2s 5ms/step - loss: 0.1412 - binary_accuracy: 0.9743 - precision_1: 0.9231 - recall_1: 0.1304 - val_loss: 0.1628 - val_binary_accuracy: 0.9704 - val_precision_1: 0.0000e+00 - val_recall_1: 0.0000e+00\n",
      "Epoch 61/100\n",
      "316/316 [==============================] - 2s 5ms/step - loss: 0.1428 - binary_accuracy: 0.9724 - precision_1: 0.7778 - recall_1: 0.0761 - val_loss: 0.1555 - val_binary_accuracy: 0.9719 - val_precision_1: 1.0000 - val_recall_1: 0.0500\n",
      "Epoch 62/100\n",
      "316/316 [==============================] - 2s 5ms/step - loss: 0.1264 - binary_accuracy: 0.9737 - precision_1: 1.0000 - recall_1: 0.0978 - val_loss: 0.1311 - val_binary_accuracy: 0.9719 - val_precision_1: 0.7500 - val_recall_1: 0.0750\n",
      "Epoch 63/100\n",
      "316/316 [==============================] - 2s 5ms/step - loss: 0.1212 - binary_accuracy: 0.9743 - precision_1: 1.0000 - recall_1: 0.1196 - val_loss: 0.1275 - val_binary_accuracy: 0.9719 - val_precision_1: 1.0000 - val_recall_1: 0.0500\n",
      "Epoch 64/100\n",
      "316/316 [==============================] - 2s 5ms/step - loss: 0.1156 - binary_accuracy: 0.9746 - precision_1: 1.0000 - recall_1: 0.1304 - val_loss: 0.1274 - val_binary_accuracy: 0.9741 - val_precision_1: 1.0000 - val_recall_1: 0.1250\n",
      "Epoch 65/100\n",
      "316/316 [==============================] - 2s 5ms/step - loss: 0.1195 - binary_accuracy: 0.9746 - precision_1: 1.0000 - recall_1: 0.1304 - val_loss: 0.1270 - val_binary_accuracy: 0.9734 - val_precision_1: 0.8333 - val_recall_1: 0.1250\n",
      "Epoch 66/100\n",
      "316/316 [==============================] - 2s 5ms/step - loss: 0.1151 - binary_accuracy: 0.9740 - precision_1: 0.9167 - recall_1: 0.1196 - val_loss: 0.1342 - val_binary_accuracy: 0.9741 - val_precision_1: 1.0000 - val_recall_1: 0.1250\n",
      "Epoch 67/100\n",
      "316/316 [==============================] - 2s 5ms/step - loss: 0.1150 - binary_accuracy: 0.9749 - precision_1: 1.0000 - recall_1: 0.1413 - val_loss: 0.1282 - val_binary_accuracy: 0.9741 - val_precision_1: 1.0000 - val_recall_1: 0.1250\n",
      "Epoch 68/100\n",
      "316/316 [==============================] - 2s 5ms/step - loss: 0.1132 - binary_accuracy: 0.9749 - precision_1: 1.0000 - recall_1: 0.1413 - val_loss: 0.1306 - val_binary_accuracy: 0.9741 - val_precision_1: 1.0000 - val_recall_1: 0.1250\n",
      "Epoch 69/100\n",
      "316/316 [==============================] - 2s 5ms/step - loss: 0.1154 - binary_accuracy: 0.9749 - precision_1: 1.0000 - recall_1: 0.1413 - val_loss: 0.1314 - val_binary_accuracy: 0.9741 - val_precision_1: 1.0000 - val_recall_1: 0.1250\n",
      "Epoch 70/100\n",
      "316/316 [==============================] - 2s 5ms/step - loss: 0.1154 - binary_accuracy: 0.9749 - precision_1: 1.0000 - recall_1: 0.1413 - val_loss: 0.1366 - val_binary_accuracy: 0.9741 - val_precision_1: 1.0000 - val_recall_1: 0.1250\n",
      "Epoch 71/100\n",
      "316/316 [==============================] - 2s 5ms/step - loss: 0.1147 - binary_accuracy: 0.9749 - precision_1: 1.0000 - recall_1: 0.1413 - val_loss: 0.1326 - val_binary_accuracy: 0.9741 - val_precision_1: 1.0000 - val_recall_1: 0.1250\n",
      "Epoch 72/100\n",
      "316/316 [==============================] - 2s 5ms/step - loss: 0.1156 - binary_accuracy: 0.9749 - precision_1: 1.0000 - recall_1: 0.1413 - val_loss: 0.1405 - val_binary_accuracy: 0.9741 - val_precision_1: 1.0000 - val_recall_1: 0.1250\n",
      "Epoch 73/100\n",
      "316/316 [==============================] - 2s 5ms/step - loss: 0.1138 - binary_accuracy: 0.9749 - precision_1: 1.0000 - recall_1: 0.1413 - val_loss: 0.1451 - val_binary_accuracy: 0.9734 - val_precision_1: 1.0000 - val_recall_1: 0.1000\n",
      "Epoch 74/100\n",
      "316/316 [==============================] - 2s 5ms/step - loss: 0.1314 - binary_accuracy: 0.9737 - precision_1: 0.8462 - recall_1: 0.1196 - val_loss: 0.1505 - val_binary_accuracy: 0.9711 - val_precision_1: 1.0000 - val_recall_1: 0.0250\n",
      "Epoch 75/100\n",
      "316/316 [==============================] - 2s 5ms/step - loss: 0.1738 - binary_accuracy: 0.9718 - precision_1: 0.6364 - recall_1: 0.0761 - val_loss: 0.1665 - val_binary_accuracy: 0.9719 - val_precision_1: 1.0000 - val_recall_1: 0.0500\n",
      "Epoch 76/100\n",
      "316/316 [==============================] - 2s 5ms/step - loss: 0.1305 - binary_accuracy: 0.9737 - precision_1: 1.0000 - recall_1: 0.0978 - val_loss: 0.1346 - val_binary_accuracy: 0.9711 - val_precision_1: 1.0000 - val_recall_1: 0.0250\n",
      "Epoch 77/100\n",
      "316/316 [==============================] - 2s 5ms/step - loss: 0.1230 - binary_accuracy: 0.9737 - precision_1: 1.0000 - recall_1: 0.0978 - val_loss: 0.1294 - val_binary_accuracy: 0.9711 - val_precision_1: 1.0000 - val_recall_1: 0.0250\n",
      "Epoch 78/100\n",
      "316/316 [==============================] - 2s 5ms/step - loss: 0.1193 - binary_accuracy: 0.9737 - precision_1: 1.0000 - recall_1: 0.0978 - val_loss: 0.1224 - val_binary_accuracy: 0.9726 - val_precision_1: 1.0000 - val_recall_1: 0.0750\n",
      "Epoch 79/100\n",
      "316/316 [==============================] - 2s 5ms/step - loss: 0.1184 - binary_accuracy: 0.9746 - precision_1: 1.0000 - recall_1: 0.1304 - val_loss: 0.1372 - val_binary_accuracy: 0.9726 - val_precision_1: 1.0000 - val_recall_1: 0.0750\n",
      "Epoch 80/100\n",
      "316/316 [==============================] - 2s 5ms/step - loss: 0.1187 - binary_accuracy: 0.9746 - precision_1: 0.9286 - recall_1: 0.1413 - val_loss: 0.1272 - val_binary_accuracy: 0.9726 - val_precision_1: 1.0000 - val_recall_1: 0.0750\n",
      "Epoch 81/100\n",
      "316/316 [==============================] - 2s 5ms/step - loss: 0.1161 - binary_accuracy: 0.9743 - precision_1: 1.0000 - recall_1: 0.1196 - val_loss: 0.1229 - val_binary_accuracy: 0.9741 - val_precision_1: 1.0000 - val_recall_1: 0.1250\n",
      "Epoch 82/100\n",
      "316/316 [==============================] - 2s 5ms/step - loss: 0.1212 - binary_accuracy: 0.9740 - precision_1: 0.9167 - recall_1: 0.1196 - val_loss: 0.1345 - val_binary_accuracy: 0.9719 - val_precision_1: 1.0000 - val_recall_1: 0.0500\n",
      "Epoch 83/100\n",
      "316/316 [==============================] - 2s 5ms/step - loss: 0.1155 - binary_accuracy: 0.9743 - precision_1: 0.9231 - recall_1: 0.1304 - val_loss: 0.1398 - val_binary_accuracy: 0.9719 - val_precision_1: 1.0000 - val_recall_1: 0.0500\n",
      "Epoch 84/100\n",
      "316/316 [==============================] - 2s 5ms/step - loss: 0.1154 - binary_accuracy: 0.9746 - precision_1: 1.0000 - recall_1: 0.1304 - val_loss: 0.1314 - val_binary_accuracy: 0.9734 - val_precision_1: 1.0000 - val_recall_1: 0.1000\n",
      "Epoch 85/100\n",
      "316/316 [==============================] - 2s 5ms/step - loss: 0.1163 - binary_accuracy: 0.9749 - precision_1: 1.0000 - recall_1: 0.1413 - val_loss: 0.1386 - val_binary_accuracy: 0.9719 - val_precision_1: 1.0000 - val_recall_1: 0.0500\n",
      "Epoch 86/100\n",
      "316/316 [==============================] - 2s 5ms/step - loss: 0.1143 - binary_accuracy: 0.9749 - precision_1: 1.0000 - recall_1: 0.1413 - val_loss: 0.1301 - val_binary_accuracy: 0.9734 - val_precision_1: 1.0000 - val_recall_1: 0.1000\n",
      "Epoch 87/100\n",
      "316/316 [==============================] - 2s 5ms/step - loss: 0.1151 - binary_accuracy: 0.9749 - precision_1: 1.0000 - recall_1: 0.1413 - val_loss: 0.1335 - val_binary_accuracy: 0.9734 - val_precision_1: 1.0000 - val_recall_1: 0.1000\n",
      "Epoch 88/100\n",
      "316/316 [==============================] - 2s 5ms/step - loss: 0.1164 - binary_accuracy: 0.9749 - precision_1: 1.0000 - recall_1: 0.1413 - val_loss: 0.1281 - val_binary_accuracy: 0.9726 - val_precision_1: 1.0000 - val_recall_1: 0.0750\n",
      "Epoch 89/100\n",
      "316/316 [==============================] - 2s 5ms/step - loss: 0.1161 - binary_accuracy: 0.9749 - precision_1: 1.0000 - recall_1: 0.1413 - val_loss: 0.1422 - val_binary_accuracy: 0.9726 - val_precision_1: 1.0000 - val_recall_1: 0.0750\n",
      "Epoch 90/100\n",
      "316/316 [==============================] - 2s 5ms/step - loss: 0.1141 - binary_accuracy: 0.9749 - precision_1: 1.0000 - recall_1: 0.1413 - val_loss: 0.1417 - val_binary_accuracy: 0.9726 - val_precision_1: 1.0000 - val_recall_1: 0.0750\n",
      "Epoch 91/100\n",
      "316/316 [==============================] - 2s 5ms/step - loss: 0.1157 - binary_accuracy: 0.9749 - precision_1: 1.0000 - recall_1: 0.1413 - val_loss: 0.1453 - val_binary_accuracy: 0.9726 - val_precision_1: 1.0000 - val_recall_1: 0.0750\n",
      "Epoch 92/100\n",
      "316/316 [==============================] - 2s 5ms/step - loss: 0.1151 - binary_accuracy: 0.9749 - precision_1: 1.0000 - recall_1: 0.1413 - val_loss: 0.1435 - val_binary_accuracy: 0.9726 - val_precision_1: 1.0000 - val_recall_1: 0.0750\n",
      "Epoch 93/100\n",
      "316/316 [==============================] - 2s 5ms/step - loss: 0.1140 - binary_accuracy: 0.9749 - precision_1: 1.0000 - recall_1: 0.1413 - val_loss: 0.1478 - val_binary_accuracy: 0.9726 - val_precision_1: 1.0000 - val_recall_1: 0.0750\n",
      "Epoch 94/100\n",
      "316/316 [==============================] - 2s 5ms/step - loss: 0.1207 - binary_accuracy: 0.9743 - precision_1: 0.9231 - recall_1: 0.1304 - val_loss: 0.1907 - val_binary_accuracy: 0.9704 - val_precision_1: 0.0000e+00 - val_recall_1: 0.0000e+00\n",
      "Epoch 95/100\n",
      "316/316 [==============================] - 2s 5ms/step - loss: 0.1183 - binary_accuracy: 0.9743 - precision_1: 1.0000 - recall_1: 0.1196 - val_loss: 0.1241 - val_binary_accuracy: 0.9726 - val_precision_1: 1.0000 - val_recall_1: 0.0750\n",
      "Epoch 96/100\n",
      "316/316 [==============================] - 2s 5ms/step - loss: 0.1427 - binary_accuracy: 0.9730 - precision_1: 0.8889 - recall_1: 0.0870 - val_loss: 0.1352 - val_binary_accuracy: 0.9704 - val_precision_1: 0.5000 - val_recall_1: 0.0250\n",
      "Epoch 97/100\n",
      "316/316 [==============================] - 2s 5ms/step - loss: 0.1321 - binary_accuracy: 0.9718 - precision_1: 1.0000 - recall_1: 0.0326 - val_loss: 0.1311 - val_binary_accuracy: 0.9711 - val_precision_1: 0.6000 - val_recall_1: 0.0750\n",
      "Epoch 98/100\n",
      "316/316 [==============================] - 2s 5ms/step - loss: 0.1196 - binary_accuracy: 0.9743 - precision_1: 1.0000 - recall_1: 0.1196 - val_loss: 0.1213 - val_binary_accuracy: 0.9726 - val_precision_1: 1.0000 - val_recall_1: 0.0750\n",
      "Epoch 99/100\n",
      "316/316 [==============================] - 2s 5ms/step - loss: 0.1148 - binary_accuracy: 0.9749 - precision_1: 1.0000 - recall_1: 0.1413 - val_loss: 0.1242 - val_binary_accuracy: 0.9726 - val_precision_1: 1.0000 - val_recall_1: 0.0750\n",
      "Epoch 100/100\n",
      "316/316 [==============================] - 2s 5ms/step - loss: 0.1152 - binary_accuracy: 0.9746 - precision_1: 1.0000 - recall_1: 0.1304 - val_loss: 0.1197 - val_binary_accuracy: 0.9741 - val_precision_1: 1.0000 - val_recall_1: 0.1250\n"
     ]
    }
   ],
   "source": [
    "trainer = CNN.fit(\n",
    "     smiles_train,\n",
    "     labels_train,\n",
    "     epochs = 100,\n",
    "     batch_size = 10,\n",
    "     validation_data = (smiles_test,labels_test),  \n",
    "     verbose = 1)"
   ]
  },
  {
   "cell_type": "code",
   "execution_count": 28,
   "metadata": {},
   "outputs": [],
   "source": [
    "y_hat = (CNN.predict(smiles_test) > 0.5).astype(\"float\")"
   ]
  },
  {
   "cell_type": "code",
   "execution_count": 29,
   "metadata": {},
   "outputs": [
    {
     "data": {
      "text/plain": [
       "Text(0, 0.5, 'Binary Accuracy')"
      ]
     },
     "execution_count": 29,
     "metadata": {},
     "output_type": "execute_result"
    },
    {
     "data": {
      "image/png": "[encoded data removed]",
      "text/plain": [
       "<Figure size 432x288 with 1 Axes>"
      ]
     },
     "metadata": {
      "needs_background": "light"
     },
     "output_type": "display_data"
    }
   ],
   "source": [
    "plt.plot(trainer.history['binary_accuracy'])\n",
    "plt.plot(trainer.history['val_binary_accuracy'])\n",
    "plt.legend([\"binary_accuracy\",\"val_binary_accuracy\"])\n",
    "plt.title('Binary_Accuracy Vs Val_Binary_Accuracy')\n",
    "plt.xlabel('Epoch')\n",
    "plt.ylabel('Binary Accuracy')"
   ]
  },
  {
   "cell_type": "code",
   "execution_count": 30,
   "metadata": {},
   "outputs": [
    {
     "data": {
      "text/plain": [
       "Text(0, 0.5, 'Loss')"
      ]
     },
     "execution_count": 30,
     "metadata": {},
     "output_type": "execute_result"
    },
    {
     "data": {
      "image/png": "[encoded data removed]",
      "text/plain": [
       "<Figure size 432x288 with 1 Axes>"
      ]
     },
     "metadata": {
      "needs_background": "light"
     },
     "output_type": "display_data"
    }
   ],
   "source": [
    "plt.plot(trainer.history['loss'])\n",
    "plt.plot(trainer.history['val_loss'])\n",
    "plt.legend([\"loss\",\"val_loss\"])\n",
    "plt.title('Loss Vs Val_loss')\n",
    "plt.xlabel('Epoch')\n",
    "plt.ylabel('Loss')"
   ]
  },
  {
   "cell_type": "code",
   "execution_count": 31,
   "metadata": {},
   "outputs": [],
   "source": [
    "cm2 = confusion_matrix(labels_test, y_hat)  "
   ]
  },
  {
   "cell_type": "code",
   "execution_count": 32,
   "metadata": {},
   "outputs": [
    {
     "data": {
      "text/plain": [
       "Text(0.5, 33.0, 'Predicted Values')"
      ]
     },
     "execution_count": 32,
     "metadata": {},
     "output_type": "execute_result"
    },
    {
     "data": {
      "image/png": "[encoded data removed]",
      "text/plain": [
       "<Figure size 432x432 with 2 Axes>"
      ]
     },
     "metadata": {
      "needs_background": "light"
     },
     "output_type": "display_data"
    }
   ],
   "source": [
    "plt.figure(figsize = (6,6))\n",
    "sns.heatmap(cm2, annot = True, fmt = \".5g\", cmap = \"coolwarm\",linewidths=.5)\n",
    "plt.ylabel('Actual Values',fontsize = 14)\n",
    "plt.xlabel('Predicted Values')\n"
   ]
  },
  {
   "cell_type": "code",
   "execution_count": 33,
   "metadata": {},
   "outputs": [
    {
     "data": {
      "text/plain": [
       "(1311, 0, 35, 5)"
      ]
     },
     "execution_count": 33,
     "metadata": {},
     "output_type": "execute_result"
    }
   ],
   "source": [
    "tn2, fp2, fn2, tp2 = confusion_matrix(labels_test, y_hat).ravel()\n",
    "tn2, fp2, fn2, tp2"
   ]
  },
  {
   "cell_type": "code",
   "execution_count": 34,
   "metadata": {},
   "outputs": [
    {
     "data": {
      "text/plain": [
       "0.9740932642487047"
      ]
     },
     "execution_count": 34,
     "metadata": {},
     "output_type": "execute_result"
    }
   ],
   "source": [
    "#acurácia\n",
    "(tp2+tn2)/(tp2+tn2+fp2+fn2)"
   ]
  },
  {
   "cell_type": "code",
   "execution_count": 35,
   "metadata": {},
   "outputs": [
    {
     "data": {
      "text/plain": [
       "0.125"
      ]
     },
     "execution_count": 35,
     "metadata": {},
     "output_type": "execute_result"
    }
   ],
   "source": [
    "#acerta o que é antibiótico\n",
    "(tp2)/(tp2+fn2)"
   ]
  },
  {
   "cell_type": "code",
   "execution_count": 36,
   "metadata": {},
   "outputs": [
    {
     "data": {
      "text/plain": [
       "1.0"
      ]
     },
     "execution_count": 36,
     "metadata": {},
     "output_type": "execute_result"
    }
   ],
   "source": [
    "#acerta o que não é antibiótico\n",
    "(tn2)/(tn2+fp2)"
   ]
  }
 ],
 "metadata": {
  "interpreter": {
   "hash": "3218d1e1345bf85c44ac3e3bdb7899973b22b8c207b0aa6281a3c4896a58620c"
  },
  "kernelspec": {
   "display_name": "Python 3.7.11 ('diversedrl')",
   "language": "python",
   "name": "python3"
  },
  "language_info": {
   "codemirror_mode": {
    "name": "ipython",
    "version": 3
   },
   "file_extension": ".py",
   "mimetype": "text/x-python",
   "name": "python",
   "nbconvert_exporter": "python",
   "pygments_lexer": "ipython3",
   "version": "3.7.11"
  },
  "orig_nbformat": 4
 },
 "nbformat": 4,
 "nbformat_minor": 2
}
