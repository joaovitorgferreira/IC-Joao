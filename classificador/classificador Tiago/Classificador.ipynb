{
 "cells": [
  {
   "cell_type": "markdown",
   "id": "c4b1761e",
   "metadata": {},
   "source": [
    "# Classificador"
   ]
  },
  {
   "cell_type": "markdown",
   "id": "2100420c",
   "metadata": {},
   "source": [
    "## 1. Importar dados"
   ]
  },
  {
   "cell_type": "markdown",
   "id": "102d613b",
   "metadata": {},
   "source": [
    "Para criar um classificador formatar os dados da sequinte maneira:\n",
    "\n",
    "moleculas -> uma lista/array com todos os smiles do seu banco de dados\n",
    "\n",
    "classes -> uma lista/array de zeros e uns representando antibiótico e não antibiótico, respectivamente\n",
    "\n",
    "O classificador vai identificar traços das moleculas e associá-los às classes, então cada molécula deverá ter o mesmo índice que sua classe. \n",
    "\n",
    "bibliotecas sugeridas:\n",
    " - pandas\n",
    " - numpy"
   ]
  },
  {
   "cell_type": "code",
   "execution_count": 1,
   "id": "80bb15e9",
   "metadata": {},
   "outputs": [],
   "source": [
    "import pandas as pd\n",
    "import numpy as np\n",
    "import sklearn as sk\n",
    "\n",
    "#Importar dados\n",
    "df = pd.read_csv('/home/joao/documentos/IC-Joao/classificador/data_teste.csv',sep=';', encoding='latin-1')\n",
    "\n",
    "#Definir a coluna das classes\n",
    "labels = np.asarray(df.Classe)\n",
    "\n",
    "#Selecionar SMILES sem as classes\n",
    "df_selected = df.drop([\"Classe\"], axis=1)"
   ]
  },
  {
   "cell_type": "markdown",
   "id": "d5b79eb0",
   "metadata": {},
   "source": [
    "## 2. Processamento dos dados"
   ]
  },
  {
   "cell_type": "markdown",
   "id": "b72a2d85",
   "metadata": {},
   "source": [
    "### 2.1 Encoding/padding"
   ]
  },
  {
   "cell_type": "markdown",
   "id": "671a95a1",
   "metadata": {},
   "source": [
    "Nessa etapa acontece a codificação das moleculas. Pode ser tokens, one hot vector, integer vector. Você decide.\n",
    "\n",
    "É importante que ao final do processamento todos os tokens tenham o mesmo comprimento, então um processo chamado padding precisa ser aplicado.\n",
    "\n",
    "Por convenção as variáveis em machine learning assumem esses nomes:\n",
    "\n",
    "X -> uma lista/array com todos os smiles codificados\n",
    "\n",
    "y -> uma lista/array de zeros e uns representando antibiótico e não antibiótico, respectivamente\n",
    "\n",
    "\n",
    "Bibliotecas sugeridas:\n",
    " - numpy\n",
    " - sklearn\n",
    " "
   ]
  },
  {
   "cell_type": "code",
   "execution_count": 2,
   "id": "a1d79be1",
   "metadata": {},
   "outputs": [],
   "source": [
    "#Encoding dos labels\n",
    "from sklearn.preprocessing import LabelEncoder\n",
    "\n",
    "le = LabelEncoder()\n",
    "le.fit(labels)\n",
    "\n",
    "labels = le.transform(labels)\n",
    "\n",
    "\n",
    "#Descobrir maior smile da base de dados\n",
    "x = 0\n",
    "longest_smile = '0'\n",
    "\n",
    "while x<len(df_selected.Smiles):\n",
    "    if len(df_selected.Smiles[x])>len(longest_smile):\n",
    "        longest_smile = df_selected.Smiles[x]\n",
    "    else:\n",
    "        longest_smile = longest_smile\n",
    "    x = x+1\n",
    "\n",
    "#Fazer padding\n",
    "\n",
    "code_padding = 'A'\n",
    "lista_padding = []\n",
    "y = 0\n",
    "\n",
    "while y<len(df_selected.Smiles):\n",
    "    if len(df_selected.Smiles[y])<len(longest_smile):\n",
    "        lista_padding.append(df_selected.Smiles[y].rjust(len(longest_smile),code_padding))\n",
    "    y = y+1\n",
    "\n",
    "#Criar vocabulário para tokenização\n",
    "atoms = [\n",
    "         'H','B', 'C', 'N', 'O', 'P', 'S', 'F', 'Cl', 'Br', 'I','Na','Li','Ca','Al','Ag','Se','Mg','K','Zn'\n",
    "        ]\n",
    "\n",
    "special = [\n",
    "        '(', ')', '[', ']', '=', '#', '@', '*', '%', '0', '1', '2',\n",
    "        '3', '4', '5', '6', '7', '8', '9', '.', '/', '\\\\', '+', '-',\n",
    "         'c', 'n', 'o', 's','p'\n",
    "        ]\n",
    "\n",
    "padding = ['G', 'A', 'E'] #Go, Padding ,End\n",
    "table = sorted(atoms, key=len, reverse=True) + special + padding\n",
    "table_len = len(table)\n",
    "\n",
    "#Funções de tokenização e criação de one-hot encode\n",
    "def tokenize(smiles):\n",
    "    N = len(smiles)\n",
    "    i = 0\n",
    "    j= 0\n",
    "    token = []\n",
    "    while (i < N):\n",
    "        for j in range(table_len):\n",
    "            symbol = table[j]\n",
    "            if symbol == smiles[i:i + len(symbol)]:\n",
    "                token.append(symbol)\n",
    "                i += len(symbol)\n",
    "                break\n",
    "    return token\n",
    "\n",
    "def one_hot_encode(trans_char): #create one hot encode table\n",
    "    transl_one_hot = {} #create dictionary\n",
    "    for i, char in enumerate(table): #create one hot encode vector for each character\n",
    "        lista = np.zeros(table_len) #create zero list for each char\n",
    "        lista[i] = 1 #set 1 on the correct position\n",
    "        transl_one_hot[char] = lista #save list in dictionary\n",
    "\n",
    "    result = np.array([transl_one_hot[s] for s in trans_char]) #find the vector corresponding to the character\n",
    "    result = result.reshape(1, result.shape[0], result.shape[1])\n",
    "    #print(\"\\nTransl_one_hot:\\n\",transl_one_hot,\"\\n\")\n",
    "    return result\n",
    "\n",
    "    #Aplicação da função para obter os vetores de cada smiles\n",
    "smiles = []\n",
    "z = 0\n",
    "\n",
    "while z<len(df_selected.Smiles):\n",
    "    smiles.append(one_hot_encode(tokenize(df_selected.Smiles[z])))\n",
    "    z = z+1\n"
   ]
  },
  {
   "cell_type": "markdown",
   "id": "3cf1e7de",
   "metadata": {},
   "source": [
    "## 3. Holdout: train/test split"
   ]
  },
  {
   "cell_type": "markdown",
   "id": "f0d61aa0",
   "metadata": {},
   "source": [
    "Depois do processamento, seu banco de dados precisa ser dividio em traino e teste. O _Holdout_ é o ponto de separação. Geralmente os dados são dividos em dados em 70/30. 70% para treino e 30% para teste.\n",
    "\n",
    "Agora as variáveis serão separadas pelos conjuntos criados:\n",
    "\n",
    "X_treino -> 70% dos smiles codificados\n",
    "\n",
    "X_teste  -> 30% dos smiles codificados\n",
    "\n",
    "y_treino -> 70% das classes\n",
    "\n",
    "y_teste  -> 30% das classes\n",
    "\n",
    "Bibliotecas sugeridas:\n",
    " - numpy\n",
    " - sklearn"
   ]
  },
  {
   "cell_type": "code",
   "execution_count": null,
   "id": "cf7ad2ee",
   "metadata": {},
   "outputs": [],
   "source": [
    "from sklearn.model_selection import train_test_split\n",
    "\n",
    "smiles_train, smiles_test, labels_train, labels_test = train_test_split(\n",
    "    smiles, labels, \n",
    "    test_size=0.30, random_state=42)"
   ]
  },
  {
   "cell_type": "markdown",
   "id": "0c5ac28a",
   "metadata": {},
   "source": [
    "## 4. Modelo"
   ]
  },
  {
   "cell_type": "markdown",
   "id": "26e72ea0",
   "metadata": {},
   "source": [
    "Depois de preparar os dados, precisamos criar um variável que contem nosso modelo. Estude o tensoflow/keras, mais especificamente a função Sequential(), para criação dos modelos.\n",
    "\n",
    "Arquiteturas sugeridas:\n",
    "- MultiLayer Perceptron (MLP)\n",
    "- Convulional Neural Networks (CNN)\n",
    "\n",
    "Não esqueça de adicionar as métricas precision, recall, accuracy e loss. Para essa ultima, você precisa estudar sobre as funções de perda usadas para classificação binária (0,1).\n",
    "\n",
    "Depois de construído use o método .fit() para treinar seu classificador"
   ]
  },
  {
   "cell_type": "code",
   "execution_count": null,
   "id": "e86d7b41",
   "metadata": {},
   "outputs": [],
   "source": [
    "#Código aqui"
   ]
  },
  {
   "cell_type": "markdown",
   "id": "4b7e7b42",
   "metadata": {},
   "source": [
    "## 5 Avaliação"
   ]
  },
  {
   "cell_type": "markdown",
   "id": "89cc5b4a",
   "metadata": {},
   "source": [
    "Apos o treinamento, estude como fazer a predição no conjunto de teste com o modelo pronto. Com esses dados em mãos você pode construir uma matriz de confusão que mostra o desempenho do seu modelo"
   ]
  },
  {
   "cell_type": "code",
   "execution_count": null,
   "id": "fb85aeba",
   "metadata": {},
   "outputs": [],
   "source": [
    "#Código aqui"
   ]
  },
  {
   "cell_type": "code",
   "execution_count": null,
   "id": "26904ff5",
   "metadata": {},
   "outputs": [],
   "source": []
  }
 ],
 "metadata": {
  "interpreter": {
   "hash": "46b936ff1622c326d442b837a2b71fa5dbcf20e52e3a75b5ec5a0d8bfc7f438d"
  },
  "kernelspec": {
   "display_name": "Python 3.8.8 ('base')",
   "language": "python",
   "name": "python3"
  },
  "language_info": {
   "codemirror_mode": {
    "name": "ipython",
    "version": 3
   },
   "file_extension": ".py",
   "mimetype": "text/x-python",
   "name": "python",
   "nbconvert_exporter": "python",
   "pygments_lexer": "ipython3",
   "version": "3.8.8"
  }
 },
 "nbformat": 4,
 "nbformat_minor": 5
}
