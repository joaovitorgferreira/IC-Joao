{
 "cells": [
  {
   "cell_type": "markdown",
   "id": "c4b1761e",
   "metadata": {},
   "source": [
    "# Classificador"
   ]
  },
  {
   "cell_type": "markdown",
   "id": "2100420c",
   "metadata": {},
   "source": [
    "## 1. Importar dados"
   ]
  },
  {
   "cell_type": "markdown",
   "id": "102d613b",
   "metadata": {},
   "source": [
    "Para criar um classificador formatar os dados da sequinte maneira:\n",
    "\n",
    "moleculas -> uma lista/array com todos os smiles do seu banco de dados\n",
    "\n",
    "classes -> uma lista/array de zeros e uns representando antibiótico e não antibiótico, respectivamente\n",
    "\n",
    "O classificador vai identificar traços das moleculas e associá-los às classes, então cada molécula deverá ter o mesmo índice que sua classe. \n",
    "\n",
    "bibliotecas sugeridas:\n",
    " - pandas\n",
    " - numpy"
   ]
  },
  {
   "cell_type": "code",
   "execution_count": 18,
   "id": "80bb15e9",
   "metadata": {},
   "outputs": [],
   "source": [
    "import pandas as pd\n",
    "import numpy as np\n",
    "import sklearn as sk\n",
    "\n",
    "#Importar dados\n",
    "df = pd.read_csv('/home/joao/documentos/IC-Joao/classificador/data_teste.csv',sep=';', encoding='latin-1')\n",
    "\n",
    "#Definir a coluna das classes\n",
    "labels = np.asarray(df.Classe)\n",
    "\n",
    "#Selecionar SMILES sem as classes\n",
    "df_selected = df.drop([\"Classe\"], axis=1)"
   ]
  },
  {
   "cell_type": "code",
   "execution_count": 19,
   "id": "47b44310",
   "metadata": {},
   "outputs": [
    {
     "data": {
      "text/plain": [
       "502"
      ]
     },
     "execution_count": 19,
     "metadata": {},
     "output_type": "execute_result"
    }
   ],
   "source": [
    "len(labels)"
   ]
  },
  {
   "cell_type": "code",
   "execution_count": 20,
   "id": "cdcdc84a",
   "metadata": {},
   "outputs": [
    {
     "data": {
      "text/html": [
       "<div>\n",
       "<style scoped>\n",
       "    .dataframe tbody tr th:only-of-type {\n",
       "        vertical-align: middle;\n",
       "    }\n",
       "\n",
       "    .dataframe tbody tr th {\n",
       "        vertical-align: top;\n",
       "    }\n",
       "\n",
       "    .dataframe thead th {\n",
       "        text-align: right;\n",
       "    }\n",
       "</style>\n",
       "<table border=\"1\" class=\"dataframe\">\n",
       "  <thead>\n",
       "    <tr style=\"text-align: right;\">\n",
       "      <th></th>\n",
       "      <th>Smiles</th>\n",
       "    </tr>\n",
       "  </thead>\n",
       "  <tbody>\n",
       "    <tr>\n",
       "      <th>0</th>\n",
       "      <td>CC[C@H]1OC(=O)[C@H](C)C(=O)[C@H](C)[C@@H](O[C@...</td>\n",
       "    </tr>\n",
       "    <tr>\n",
       "      <th>1</th>\n",
       "      <td>CN1CCN(c2c(F)cc3c(=O)c(C(=O)O)cn4c3c2SCC4)CC1</td>\n",
       "    </tr>\n",
       "    <tr>\n",
       "      <th>2</th>\n",
       "      <td>CO[C@H]1C[C@H](O[C@@H]2[C@@H](C)C(=O)O[C@H](C)...</td>\n",
       "    </tr>\n",
       "    <tr>\n",
       "      <th>3</th>\n",
       "      <td>CCN(CC)CCS(=O)(=O)[C@@H]1CCN2C(=O)c3coc(n3)CC(...</td>\n",
       "    </tr>\n",
       "    <tr>\n",
       "      <th>4</th>\n",
       "      <td>O=C1CN(/N=C/C=C/c2ccc([N+](=O)[O-])o2)C(=O)N1</td>\n",
       "    </tr>\n",
       "    <tr>\n",
       "      <th>...</th>\n",
       "      <td>...</td>\n",
       "    </tr>\n",
       "    <tr>\n",
       "      <th>497</th>\n",
       "      <td>O=C(OOC(=O)c1ccccc1)c1ccccc1</td>\n",
       "    </tr>\n",
       "    <tr>\n",
       "      <th>498</th>\n",
       "      <td>C[C@@H]1C[C@H]2[C@@H]3CCC4=CC(=O)C=C[C@]4(C)[C...</td>\n",
       "    </tr>\n",
       "    <tr>\n",
       "      <th>499</th>\n",
       "      <td>CN(C)CCN(Cc1ccccc1)c1ccccn1</td>\n",
       "    </tr>\n",
       "    <tr>\n",
       "      <th>500</th>\n",
       "      <td>CC(C)(C)c1cc(-c2cc(-c3ccc(C(=O)O)cc3)ccc2OCCO)...</td>\n",
       "    </tr>\n",
       "    <tr>\n",
       "      <th>501</th>\n",
       "      <td>CCCCCCCCN=c1ccn(CCCCCCCCCCn2ccc(=NCCCCCCCC)cc2...</td>\n",
       "    </tr>\n",
       "  </tbody>\n",
       "</table>\n",
       "<p>502 rows × 1 columns</p>\n",
       "</div>"
      ],
      "text/plain": [
       "                                                Smiles\n",
       "0    CC[C@H]1OC(=O)[C@H](C)C(=O)[C@H](C)[C@@H](O[C@...\n",
       "1        CN1CCN(c2c(F)cc3c(=O)c(C(=O)O)cn4c3c2SCC4)CC1\n",
       "2    CO[C@H]1C[C@H](O[C@@H]2[C@@H](C)C(=O)O[C@H](C)...\n",
       "3    CCN(CC)CCS(=O)(=O)[C@@H]1CCN2C(=O)c3coc(n3)CC(...\n",
       "4        O=C1CN(/N=C/C=C/c2ccc([N+](=O)[O-])o2)C(=O)N1\n",
       "..                                                 ...\n",
       "497                       O=C(OOC(=O)c1ccccc1)c1ccccc1\n",
       "498  C[C@@H]1C[C@H]2[C@@H]3CCC4=CC(=O)C=C[C@]4(C)[C...\n",
       "499                        CN(C)CCN(Cc1ccccc1)c1ccccn1\n",
       "500  CC(C)(C)c1cc(-c2cc(-c3ccc(C(=O)O)cc3)ccc2OCCO)...\n",
       "501  CCCCCCCCN=c1ccn(CCCCCCCCCCn2ccc(=NCCCCCCCC)cc2...\n",
       "\n",
       "[502 rows x 1 columns]"
      ]
     },
     "execution_count": 20,
     "metadata": {},
     "output_type": "execute_result"
    }
   ],
   "source": [
    "df_selected"
   ]
  },
  {
   "cell_type": "markdown",
   "id": "d5b79eb0",
   "metadata": {},
   "source": [
    "## 2. Processamento dos dados"
   ]
  },
  {
   "cell_type": "markdown",
   "id": "b72a2d85",
   "metadata": {},
   "source": [
    "### 2.1 Encoding/padding"
   ]
  },
  {
   "cell_type": "markdown",
   "id": "671a95a1",
   "metadata": {},
   "source": [
    "Nessa etapa acontece a codificação das moleculas. Pode ser tokens, one hot vector, integer vector. Você decide.\n",
    "\n",
    "É importante que ao final do processamento todos os tokens tenham o mesmo comprimento, então um processo chamado padding precisa ser aplicado.\n",
    "\n",
    "Por convenção as variáveis em machine learning assumem esses nomes:\n",
    "\n",
    "X -> uma lista/array com todos os smiles codificados\n",
    "\n",
    "y -> uma lista/array de zeros e uns representando antibiótico e não antibiótico, respectivamente\n",
    "\n",
    "\n",
    "Bibliotecas sugeridas:\n",
    " - numpy\n",
    " - sklearn\n",
    " "
   ]
  },
  {
   "cell_type": "markdown",
   "id": "37f7338b",
   "metadata": {},
   "source": [
    "## ADIÇÕES DO TIAGO: INICIO"
   ]
  },
  {
   "cell_type": "code",
   "execution_count": 21,
   "id": "8ed22321",
   "metadata": {},
   "outputs": [],
   "source": [
    "comprimentos = [len(x) for x in df_selected.Smiles.values]"
   ]
  },
  {
   "cell_type": "code",
   "execution_count": 22,
   "id": "63c8d4fa",
   "metadata": {},
   "outputs": [
    {
     "data": {
      "text/plain": [
       "405"
      ]
     },
     "execution_count": 22,
     "metadata": {},
     "output_type": "execute_result"
    }
   ],
   "source": [
    "maior_smile = np.max(comprimentos)\n",
    "maior_smile"
   ]
  },
  {
   "cell_type": "code",
   "execution_count": 23,
   "id": "9e46ff35",
   "metadata": {},
   "outputs": [],
   "source": [
    "from tensorflow.keras.preprocessing.sequence import pad_sequences"
   ]
  },
  {
   "cell_type": "code",
   "execution_count": 24,
   "id": "a34ed680",
   "metadata": {},
   "outputs": [],
   "source": [
    "smiles = list(df_selected.Smiles.values)\n"
   ]
  },
  {
   "cell_type": "code",
   "execution_count": 29,
   "id": "56d33b25",
   "metadata": {},
   "outputs": [],
   "source": [
    "table = ['Cl', 'Br', 'Na', 'Li', 'Ca', 'Al', 'Ag', 'Se', 'Mg', 'Zn', 'H', 'B', 'C', 'N', 'O', 'P', 'S', 'F', 'I', 'K', '(', ')', '[', ']', '=', '#', '@', '*', '%', '0', '1', '2', '3', '4', '5', '6', '7', '8', '9', '.', '/', '\\\\', '+', '-', 'c', 'n', 'o', 's', 'p']"
   ]
  },
  {
   "cell_type": "code",
   "execution_count": 32,
   "id": "3dec4bdd",
   "metadata": {},
   "outputs": [],
   "source": [
    "def tokenizer(smiles,table):\n",
    "    tokens_list = []\n",
    "    for smile in smiles:\n",
    "        i = 0\n",
    "        token = []\n",
    "        while i < len(smile):\n",
    "            for j in table:\n",
    "                if j == smile[i:i+len(j)]:\n",
    "                    token.append(j)\n",
    "                    i = i+len(j)\n",
    "                    break\n",
    "        while len(token) < maior_smile:\n",
    "            token.insert(0,\"A\")\n",
    "        tokens_list.append(token)\n",
    "    return tokens_list"
   ]
  },
  {
   "cell_type": "code",
   "execution_count": 33,
   "id": "94aea5b1",
   "metadata": {},
   "outputs": [],
   "source": [
    "padded_tokens = tokenizer(smiles,table)"
   ]
  },
  {
   "cell_type": "code",
   "execution_count": 34,
   "id": "77a152f2",
   "metadata": {},
   "outputs": [
    {
     "data": {
      "text/plain": [
       "502"
      ]
     },
     "execution_count": 34,
     "metadata": {},
     "output_type": "execute_result"
    }
   ],
   "source": [
    "len(padded_tokens)"
   ]
  },
  {
   "cell_type": "code",
   "execution_count": 59,
   "id": "25f21172",
   "metadata": {},
   "outputs": [
    {
     "data": {
      "text/plain": [
       "405"
      ]
     },
     "execution_count": 59,
     "metadata": {},
     "output_type": "execute_result"
    }
   ],
   "source": [
    "len(padded_tokens[0])"
   ]
  },
  {
   "cell_type": "code",
   "execution_count": 49,
   "id": "e6571c58",
   "metadata": {},
   "outputs": [
    {
     "data": {
      "text/plain": [
       "LabelEncoder()"
      ]
     },
     "execution_count": 49,
     "metadata": {},
     "output_type": "execute_result"
    }
   ],
   "source": [
    "# Usar integer encoding ao invez de one hot\n",
    "from sklearn.preprocessing import LabelEncoder\n",
    "tokens_encoder = LabelEncoder()\n",
    "table.append(\"A\")\n",
    "tokens_encoder.fit(table)\n",
    "tokens_int_encoded = np.array([tokens_encoder.transform(i) for i in padded_tokens])"
   ]
  },
  {
   "cell_type": "code",
   "execution_count": 60,
   "id": "b1e8468d",
   "metadata": {},
   "outputs": [
    {
     "data": {
      "text/plain": [
       "array([[21, 21, 21, ..., 10, 11, 26],\n",
       "       [21, 21, 21, ..., 26, 26, 10],\n",
       "       [21, 21, 21, ..., 44, 10, 37],\n",
       "       ...,\n",
       "       [21, 21, 21, ..., 45, 46, 10],\n",
       "       [21, 21, 21, ..., 26, 26, 10],\n",
       "       [21, 21, 21, ..., 45, 45, 10]])"
      ]
     },
     "execution_count": 60,
     "metadata": {},
     "output_type": "execute_result"
    }
   ],
   "source": [
    "tokens_int_encoded"
   ]
  },
  {
   "cell_type": "code",
   "execution_count": 58,
   "id": "4eb7084b",
   "metadata": {},
   "outputs": [
    {
     "data": {
      "text/plain": [
       "(502, 405)"
      ]
     },
     "execution_count": 58,
     "metadata": {},
     "output_type": "execute_result"
    }
   ],
   "source": [
    "tokens_int_encoded.shape"
   ]
  },
  {
   "cell_type": "markdown",
   "id": "d75c87b8",
   "metadata": {},
   "source": [
    "## ADIÇÕES DO TIAGO: FIM"
   ]
  },
  {
   "cell_type": "code",
   "execution_count": 5,
   "id": "a1d79be1",
   "metadata": {},
   "outputs": [],
   "source": [
    "#Encoding dos labels\n",
    "from sklearn.preprocessing import LabelEncoder\n",
    "\n",
    "le = LabelEncoder()\n",
    "le.fit(labels)\n",
    "\n",
    "labels = le.transform(labels)\n",
    "\n",
    "\n",
    "#Descobrir maior smile da base de dados\n",
    "x = 0\n",
    "longest_smile = '0'\n",
    "\n",
    "while x<len(df_selected.Smiles):\n",
    "    if len(df_selected.Smiles[x])>len(longest_smile):\n",
    "        longest_smile = df_selected.Smiles[x]\n",
    "    else:\n",
    "        longest_smile = longest_smile\n",
    "    x = x+1\n",
    "\n",
    "#Fazer padding\n",
    "\n",
    "code_padding = 'A'\n",
    "lista_padding = []\n",
    "y = 0\n",
    "\n",
    "while y<len(df_selected.Smiles):\n",
    "    if len(df_selected.Smiles[y])<len(longest_smile):\n",
    "        lista_padding.append(df_selected.Smiles[y].rjust(len(longest_smile),code_padding))\n",
    "    y = y+1\n",
    "\n",
    "#Criar vocabulário para tokenização\n",
    "atoms = [\n",
    "         'H','B', 'C', 'N', 'O', 'P', 'S', 'F', 'Cl', 'Br', 'I','Na','Li','Ca','Al','Ag','Se','Mg','K','Zn'\n",
    "        ]\n",
    "\n",
    "special = [\n",
    "        '(', ')', '[', ']', '=', '#', '@', '*', '%', '0', '1', '2',\n",
    "        '3', '4', '5', '6', '7', '8', '9', '.', '/', '\\\\', '+', '-',\n",
    "         'c', 'n', 'o', 's','p'\n",
    "        ]\n",
    "\n",
    "padding = ['G', 'A', 'E'] #Go, Padding ,End\n",
    "table = sorted(atoms, key=len, reverse=True) + special + padding\n",
    "table_len = len(table)\n",
    "\n",
    "#Funções de tokenização e criação de one-hot encode\n",
    "def tokenize(smiles):\n",
    "    N = len(smiles)\n",
    "    i = 0\n",
    "    j= 0\n",
    "    token = []\n",
    "    while (i < N):\n",
    "        for j in range(table_len):\n",
    "            symbol = table[j]\n",
    "            if symbol == smiles[i:i + len(symbol)]:\n",
    "                token.append(symbol)\n",
    "                i += len(symbol)\n",
    "                break\n",
    "    return token\n",
    "\n",
    "def one_hot_encode(trans_char): #create one hot encode table\n",
    "    transl_one_hot = {} #create dictionary\n",
    "    for i, char in enumerate(table): #create one hot encode vector for each character\n",
    "        lista = np.zeros(table_len) #create zero list for each char\n",
    "        lista[i] = 1 #set 1 on the correct position\n",
    "        transl_one_hot[char] = lista #save list in dictionary\n",
    "\n",
    "    result = np.array([transl_one_hot[s] for s in trans_char]) #find the vector corresponding to the character\n",
    "    result = result.reshape(1, result.shape[0], result.shape[1])\n",
    "    #print(\"\\nTransl_one_hot:\\n\",transl_one_hot,\"\\n\")\n",
    "    return result\n",
    "\n",
    "    #Aplicação da função para obter os vetores de cada smiles\n",
    "smiles = []\n",
    "z = 0\n",
    "\n",
    "while z<len(df_selected.Smiles):\n",
    "    smiles.append(one_hot_encode(tokenize(df_selected.Smiles[z])))\n",
    "    z = z+1\n"
   ]
  },
  {
   "cell_type": "markdown",
   "id": "3cf1e7de",
   "metadata": {},
   "source": [
    "## 3. Holdout: train/test split"
   ]
  },
  {
   "cell_type": "markdown",
   "id": "f0d61aa0",
   "metadata": {},
   "source": [
    "Depois do processamento, seu banco de dados precisa ser dividio em traino e teste. O _Holdout_ é o ponto de separação. Geralmente os dados são dividos em dados em 70/30. 70% para treino e 30% para teste.\n",
    "\n",
    "Agora as variáveis serão separadas pelos conjuntos criados:\n",
    "\n",
    "X_treino -> 70% dos smiles codificados\n",
    "\n",
    "X_teste  -> 30% dos smiles codificados\n",
    "\n",
    "y_treino -> 70% das classes\n",
    "\n",
    "y_teste  -> 30% das classes\n",
    "\n",
    "Bibliotecas sugeridas:\n",
    " - numpy\n",
    " - sklearn"
   ]
  },
  {
   "cell_type": "code",
   "execution_count": 6,
   "id": "cf7ad2ee",
   "metadata": {},
   "outputs": [],
   "source": [
    "from sklearn.model_selection import train_test_split\n",
    "\n",
    "smiles_train, smiles_test, labels_train, labels_test = train_test_split(\n",
    "    smiles, labels, \n",
    "    test_size=0.30, random_state=42)"
   ]
  },
  {
   "cell_type": "code",
   "execution_count": 13,
   "id": "05590073",
   "metadata": {},
   "outputs": [
    {
     "data": {
      "text/plain": [
       "(1, 54, 52)"
      ]
     },
     "execution_count": 13,
     "metadata": {},
     "output_type": "execute_result"
    }
   ],
   "source": [
    "smiles_train[0].shape"
   ]
  },
  {
   "cell_type": "markdown",
   "id": "0c5ac28a",
   "metadata": {},
   "source": [
    "## 4. Modelo"
   ]
  },
  {
   "cell_type": "markdown",
   "id": "26e72ea0",
   "metadata": {},
   "source": [
    "Depois de preparar os dados, precisamos criar um variável que contem nosso modelo. Estude o tensoflow/keras, mais especificamente a função Sequential(), para criação dos modelos.\n",
    "\n",
    "Arquiteturas sugeridas:\n",
    "- MultiLayer Perceptron (MLP)\n",
    "- Convulional Neural Networks (CNN)\n",
    "\n",
    "Não esqueça de adicionar as métricas precision, recall, accuracy e loss. Para essa ultima, você precisa estudar sobre as funções de perda usadas para classificação binária (0,1).\n",
    "\n",
    "Depois de construído use o método .fit() para treinar seu classificador"
   ]
  },
  {
   "cell_type": "code",
   "execution_count": null,
   "id": "e86d7b41",
   "metadata": {},
   "outputs": [],
   "source": [
    "#Código aqui"
   ]
  },
  {
   "cell_type": "markdown",
   "id": "4b7e7b42",
   "metadata": {},
   "source": [
    "## 5 Avaliação"
   ]
  },
  {
   "cell_type": "markdown",
   "id": "89cc5b4a",
   "metadata": {},
   "source": [
    "Apos o treinamento, estude como fazer a predição no conjunto de teste com o modelo pronto. Com esses dados em mãos você pode construir uma matriz de confusão que mostra o desempenho do seu modelo"
   ]
  },
  {
   "cell_type": "code",
   "execution_count": null,
   "id": "fb85aeba",
   "metadata": {},
   "outputs": [],
   "source": [
    "#Código aqui"
   ]
  },
  {
   "cell_type": "code",
   "execution_count": null,
   "id": "26904ff5",
   "metadata": {},
   "outputs": [],
   "source": []
  }
 ],
 "metadata": {
  "interpreter": {
   "hash": "4becdc612f94a8bb0dff5d75e15c4e0f92aad7eb21d53035cab6eae2de717ed4"
  },
  "kernelspec": {
   "display_name": "Python 3.10.2 ('tensorflow')",
   "language": "python",
   "name": "python3"
  },
  "language_info": {
   "codemirror_mode": {
    "name": "ipython",
    "version": 3
   },
   "file_extension": ".py",
   "mimetype": "text/x-python",
   "name": "python",
   "nbconvert_exporter": "python",
   "pygments_lexer": "ipython3",
   "version": "3.10.2"
  }
 },
 "nbformat": 4,
 "nbformat_minor": 5
}
