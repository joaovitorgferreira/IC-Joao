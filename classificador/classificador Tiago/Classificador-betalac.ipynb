{
 "cells": [
  {
   "cell_type": "markdown",
   "metadata": {},
   "source": [
    "\n",
    "Classificador\n",
    "1. Importar dados\n",
    "\n",
    "Para criar um classificador formatar os dados da sequinte maneira:\n",
    "\n",
    "moleculas -> uma lista/array com todos os smiles do seu banco de dados\n",
    "\n",
    "classes -> uma lista/array de zeros e uns representando antibiótico e não antibiótico, respectivamente\n",
    "\n",
    "O classificador vai identificar traços das moleculas e associá-los às classes, então cada molécula deverá ter o mesmo índice que sua classe.\n",
    "\n",
    "bibliotecas sugeridas:\n",
    "\n",
    "    pandas\n",
    "    numpy\n",
    "\n"
   ]
  },
  {
   "cell_type": "code",
   "execution_count": 66,
   "metadata": {},
   "outputs": [],
   "source": [
    "import pandas as pd\n",
    "import numpy as np\n",
    "import sklearn as sk\n",
    "\n",
    "#Importar dados\n",
    "df = pd.read_csv('/home/joao/documentos/IC-Joao/classificador/final_data_betalac.csv',index_col=False)\n",
    "\n",
    "#Definir a coluna das classes\n",
    "labels = np.asarray(df.Classe) #1 para antibiótico, 0 para não antibiótico\n",
    "\n",
    "#Selecionar SMILES sem as classes\n",
    "df_selected = df.drop([\"Classe\",\"Name\",\"Index\"], axis=1)\n",
    "\n",
    "#Codificar classes (não é mais necessário)\n",
    "#from sklearn.preprocessing import LabelEncoder\n",
    "#le = LabelEncoder()\n",
    "#le.fit(labels)\n",
    "\n",
    "#labels = le.transform(labels)"
   ]
  },
  {
   "cell_type": "markdown",
   "metadata": {},
   "source": [
    "\n",
    "2. Processamento dos dados\n",
    "2.1 Encoding/padding\n",
    "\n",
    "Nessa etapa acontece a codificação das moleculas. Pode ser tokens, one hot vector, integer vector. Você decide.\n",
    "\n",
    "É importante que ao final do processamento todos os tokens tenham o mesmo comprimento, então um processo chamado padding precisa ser aplicado.\n",
    "\n",
    "Por convenção as variáveis em machine learning assumem esses nomes:\n",
    "\n",
    "X -> uma lista/array com todos os smiles codificados\n",
    "\n",
    "y -> uma lista/array de zeros e uns representando antibiótico e não antibiótico, respectivamente\n",
    "\n",
    "Bibliotecas sugeridas:\n",
    "\n",
    "    numpy\n",
    "    sklearn\n",
    "\n"
   ]
  },
  {
   "cell_type": "markdown",
   "metadata": {},
   "source": [
    "ADIÇÕES DO TIAGO: INICIO"
   ]
  },
  {
   "cell_type": "code",
   "execution_count": 67,
   "metadata": {},
   "outputs": [],
   "source": [
    "comprimentos = [len(x) for x in df_selected.SMILES.values]"
   ]
  },
  {
   "cell_type": "code",
   "execution_count": 68,
   "metadata": {},
   "outputs": [
    {
     "data": {
      "text/plain": [
       "394"
      ]
     },
     "execution_count": 68,
     "metadata": {},
     "output_type": "execute_result"
    }
   ],
   "source": [
    "maior_smile = np.max(comprimentos)\n",
    "maior_smile"
   ]
  },
  {
   "cell_type": "code",
   "execution_count": 69,
   "metadata": {},
   "outputs": [],
   "source": [
    "from tensorflow.keras.preprocessing.sequence import pad_sequences\n",
    "\n",
    "smiles = list(df_selected.SMILES.values)\n",
    "\n",
    "table = ['se','Fe','As','Cl', 'Br', 'Na', 'Li', 'Ca', 'Al', 'Ag', 'Se', 'Mg', 'Zn', 'H', 'B', 'C', 'N', 'O', 'P', 'S', 'F', 'I', 'K', '(', ')', '[', ']', '=', '#', '@', '*', '%', '0', '1', '2', '3', '4', '5', '6', '7', '8', '9', '.', '/', '\\\\', '+', '-', 'c', 'n', 'o', 's', 'p']\n"
   ]
  },
  {
   "cell_type": "code",
   "execution_count": 70,
   "metadata": {},
   "outputs": [
    {
     "data": {
      "text/plain": [
       "4480"
      ]
     },
     "execution_count": 70,
     "metadata": {},
     "output_type": "execute_result"
    }
   ],
   "source": [
    "len(smiles)"
   ]
  },
  {
   "cell_type": "code",
   "execution_count": 71,
   "metadata": {},
   "outputs": [
    {
     "data": {
      "text/plain": [
       "'CC1C(C(=O)N1S(=O)(=O)O)NC(=O)C(=NOC(C)(C)C(=O)O)C2=CSC(=N2)N'"
      ]
     },
     "execution_count": 71,
     "metadata": {},
     "output_type": "execute_result"
    }
   ],
   "source": [
    "smiles[6]"
   ]
  },
  {
   "cell_type": "code",
   "execution_count": 72,
   "metadata": {},
   "outputs": [],
   "source": [
    "def tokenizer(smiles,table):\n",
    "    tokens_list = []\n",
    "    #index = 0\n",
    "    for smile in smiles:\n",
    "        #print(index)\n",
    "        i = 0\n",
    "        token = []\n",
    "        while i < len(smile):\n",
    "            for j in table:\n",
    "                if j == smile[i:i+len(j)]:\n",
    "                    token.append(j)\n",
    "                    i = i+len(j)\n",
    "                    break\n",
    "        while len(token) < maior_smile:\n",
    "            token.insert(0,\"A\")\n",
    "        tokens_list.append(token)\n",
    "        #index = index+1\n",
    "    return tokens_list\n",
    "\n",
    "padded_tokens = tokenizer(smiles,table)\n"
   ]
  },
  {
   "cell_type": "code",
   "execution_count": 73,
   "metadata": {},
   "outputs": [
    {
     "data": {
      "text/plain": [
       "4480"
      ]
     },
     "execution_count": 73,
     "metadata": {},
     "output_type": "execute_result"
    }
   ],
   "source": [
    "len(padded_tokens)"
   ]
  },
  {
   "cell_type": "code",
   "execution_count": 74,
   "metadata": {},
   "outputs": [
    {
     "data": {
      "text/plain": [
       "394"
      ]
     },
     "execution_count": 74,
     "metadata": {},
     "output_type": "execute_result"
    }
   ],
   "source": [
    "len(padded_tokens[0])"
   ]
  },
  {
   "cell_type": "code",
   "execution_count": 75,
   "metadata": {},
   "outputs": [],
   "source": [
    "#Usar integer encoding ao invez de one hot\n",
    "from sklearn.preprocessing import LabelEncoder\n",
    "tokens_encoder = LabelEncoder()\n",
    "table.append(\"A\")\n",
    "tokens_encoder.fit(table)\n",
    "tokens_int_encoded = np.array([tokens_encoder.transform(i) for i in padded_tokens])\n"
   ]
  },
  {
   "cell_type": "code",
   "execution_count": 76,
   "metadata": {},
   "outputs": [
    {
     "data": {
      "text/plain": [
       "array([[21, 21, 21, ..., 39,  3, 27],\n",
       "       [21, 21, 21, ..., 39,  3, 27],\n",
       "       [21, 21, 21, ..., 39,  3, 37],\n",
       "       ...,\n",
       "       [21, 21, 21, ...,  3, 27, 27],\n",
       "       [21, 21, 21, ..., 27,  3, 27],\n",
       "       [21, 21, 21, ..., 27,  3, 27]])"
      ]
     },
     "execution_count": 76,
     "metadata": {},
     "output_type": "execute_result"
    }
   ],
   "source": [
    "tokens_int_encoded"
   ]
  },
  {
   "cell_type": "code",
   "execution_count": 77,
   "metadata": {},
   "outputs": [
    {
     "data": {
      "text/plain": [
       "(4480, 394)"
      ]
     },
     "execution_count": 77,
     "metadata": {},
     "output_type": "execute_result"
    }
   ],
   "source": [
    "tokens_int_encoded.shape"
   ]
  },
  {
   "cell_type": "markdown",
   "metadata": {},
   "source": [
    "ADIÇÕES DO TIAGO: FIM"
   ]
  },
  {
   "cell_type": "markdown",
   "metadata": {},
   "source": [
    "\n",
    "3. Holdout: train/test split\n",
    "\n",
    "Depois do processamento, seu banco de dados precisa ser dividio em traino e teste. O Holdout é o ponto de separação. Geralmente os dados são dividos em dados em 70/30. 70% para treino e 30% para teste.\n",
    "\n",
    "Agora as variáveis serão separadas pelos conjuntos criados:\n",
    "\n",
    "X_treino -> 70% dos smiles codificados\n",
    "\n",
    "X_teste -> 30% dos smiles codificados\n",
    "\n",
    "y_treino -> 70% das classes\n",
    "\n",
    "y_teste -> 30% das classes\n",
    "\n",
    "Bibliotecas sugeridas:\n",
    "\n",
    "    numpy\n",
    "    sklearn\n",
    "\n"
   ]
  },
  {
   "cell_type": "code",
   "execution_count": 78,
   "metadata": {},
   "outputs": [],
   "source": [
    "from sklearn.model_selection import train_test_split\n",
    "\n",
    "smiles_train, smiles_test, labels_train, labels_test = train_test_split(\n",
    "    tokens_int_encoded, labels, \n",
    "    test_size=0.30, random_state=42)\n"
   ]
  },
  {
   "cell_type": "markdown",
   "metadata": {},
   "source": [
    "\n",
    "4. Modelo\n",
    "\n",
    "Depois de preparar os dados, precisamos criar um variável que contem nosso modelo. Estude o tensoflow/keras, mais especificamente a função Sequential(), para criação dos modelos.\n",
    "\n",
    "Arquiteturas sugeridas:\n",
    "\n",
    "    MultiLayer Perceptron (MLP)\n",
    "    Convolutional Neural Networks (CNN)\n",
    "\n",
    "Não esqueça de adicionar as métricas precision, recall, accuracy e loss. Para essa ultima, você precisa estudar sobre as funções de perda usadas para classificação binária (0,1).\n",
    "\n",
    "Depois de construído use o método .fit() para treinar seu classificador\n"
   ]
  },
  {
   "cell_type": "code",
   "execution_count": 79,
   "metadata": {},
   "outputs": [],
   "source": [
    "import tensorflow as tf\n",
    "from tensorflow.keras.models import Sequential\n",
    "model = Sequential([\n",
    "    tf.keras.layers.Input(shape = 394,),\n",
    "    tf.keras.layers.Dense(350, activation = 'relu'),\n",
    "    tf.keras.layers.Dense(200, activation = 'relu'),\n",
    "    tf.keras.layers.Dense(100, activation = 'relu'),\n",
    "    tf.keras.layers.Dense(1, activation = 'sigmoid')\n",
    "])\n",
    "model.compile(\n",
    "    optimizer='adam',\n",
    "    loss = tf.losses.BinaryCrossentropy(),\n",
    "    metrics = [tf.metrics.BinaryAccuracy(),\n",
    "    tf.metrics.Precision(),\n",
    "    tf.metrics.Recall()]\n",
    "\n",
    ")"
   ]
  },
  {
   "cell_type": "code",
   "execution_count": 80,
   "metadata": {},
   "outputs": [
    {
     "name": "stdout",
     "output_type": "stream",
     "text": [
      "Model: \"sequential_2\"\n",
      "_________________________________________________________________\n",
      " Layer (type)                Output Shape              Param #   \n",
      "=================================================================\n",
      " dense_7 (Dense)             (None, 350)               138250    \n",
      "                                                                 \n",
      " dense_8 (Dense)             (None, 200)               70200     \n",
      "                                                                 \n",
      " dense_9 (Dense)             (None, 100)               20100     \n",
      "                                                                 \n",
      " dense_10 (Dense)            (None, 1)                 101       \n",
      "                                                                 \n",
      "=================================================================\n",
      "Total params: 228,651\n",
      "Trainable params: 228,651\n",
      "Non-trainable params: 0\n",
      "_________________________________________________________________\n"
     ]
    }
   ],
   "source": [
    "model.summary()"
   ]
  },
  {
   "cell_type": "code",
   "execution_count": 81,
   "metadata": {},
   "outputs": [
    {
     "data": {
      "text/plain": [
       "array([0, 0, 0, ..., 0, 0, 1])"
      ]
     },
     "execution_count": 81,
     "metadata": {},
     "output_type": "execute_result"
    }
   ],
   "source": [
    "labels_test"
   ]
  },
  {
   "cell_type": "code",
   "execution_count": 82,
   "metadata": {},
   "outputs": [
    {
     "name": "stdout",
     "output_type": "stream",
     "text": [
      "Epoch 1/100\n",
      "98/98 [==============================] - 1s 3ms/step - loss: 0.3750 - binary_accuracy: 0.9652 - precision_2: 0.0500 - recall_2: 0.0274 - val_loss: 0.1086 - val_binary_accuracy: 0.9732 - val_precision_2: 0.0000e+00 - val_recall_2: 0.0000e+00\n",
      "Epoch 2/100\n",
      "98/98 [==============================] - 0s 1ms/step - loss: 0.1809 - binary_accuracy: 0.9767 - precision_2: 0.5000 - recall_2: 0.0411 - val_loss: 0.1220 - val_binary_accuracy: 0.9732 - val_precision_2: 0.0000e+00 - val_recall_2: 0.0000e+00\n",
      "Epoch 3/100\n",
      "98/98 [==============================] - 0s 1ms/step - loss: 0.0783 - binary_accuracy: 0.9793 - precision_2: 1.0000 - recall_2: 0.1096 - val_loss: 0.0880 - val_binary_accuracy: 0.9740 - val_precision_2: 1.0000 - val_recall_2: 0.0278\n",
      "Epoch 4/100\n",
      "98/98 [==============================] - 0s 2ms/step - loss: 0.0613 - binary_accuracy: 0.9834 - precision_2: 0.8621 - recall_2: 0.3425 - val_loss: 0.1336 - val_binary_accuracy: 0.9732 - val_precision_2: 0.0000e+00 - val_recall_2: 0.0000e+00\n",
      "Epoch 5/100\n",
      "98/98 [==============================] - 0s 2ms/step - loss: 0.0805 - binary_accuracy: 0.9812 - precision_2: 0.7333 - recall_2: 0.3014 - val_loss: 0.0898 - val_binary_accuracy: 0.9747 - val_precision_2: 1.0000 - val_recall_2: 0.0556\n",
      "Epoch 6/100\n",
      "98/98 [==============================] - 0s 1ms/step - loss: 0.0686 - binary_accuracy: 0.9821 - precision_2: 0.7073 - recall_2: 0.3973 - val_loss: 0.0990 - val_binary_accuracy: 0.9740 - val_precision_2: 1.0000 - val_recall_2: 0.0278\n",
      "Epoch 7/100\n",
      "98/98 [==============================] - 0s 2ms/step - loss: 0.0842 - binary_accuracy: 0.9802 - precision_2: 0.6410 - recall_2: 0.3425 - val_loss: 0.0866 - val_binary_accuracy: 0.9821 - val_precision_2: 0.7143 - val_recall_2: 0.5556\n",
      "Epoch 8/100\n",
      "98/98 [==============================] - 0s 2ms/step - loss: 0.0619 - binary_accuracy: 0.9847 - precision_2: 0.8571 - recall_2: 0.4110 - val_loss: 0.0852 - val_binary_accuracy: 0.9762 - val_precision_2: 0.5476 - val_recall_2: 0.6389\n",
      "Epoch 9/100\n",
      "98/98 [==============================] - 0s 1ms/step - loss: 0.0452 - binary_accuracy: 0.9888 - precision_2: 0.8519 - recall_2: 0.6301 - val_loss: 0.0892 - val_binary_accuracy: 0.9725 - val_precision_2: 0.4902 - val_recall_2: 0.6944\n",
      "Epoch 10/100\n",
      "98/98 [==============================] - 0s 2ms/step - loss: 0.0558 - binary_accuracy: 0.9837 - precision_2: 0.7500 - recall_2: 0.4521 - val_loss: 0.0842 - val_binary_accuracy: 0.9799 - val_precision_2: 1.0000 - val_recall_2: 0.2500\n",
      "Epoch 11/100\n",
      "98/98 [==============================] - 0s 2ms/step - loss: 0.0492 - binary_accuracy: 0.9879 - precision_2: 0.8571 - recall_2: 0.5753 - val_loss: 0.0815 - val_binary_accuracy: 0.9799 - val_precision_2: 0.6286 - val_recall_2: 0.6111\n",
      "Epoch 12/100\n",
      "98/98 [==============================] - 0s 2ms/step - loss: 0.0372 - binary_accuracy: 0.9888 - precision_2: 0.8800 - recall_2: 0.6027 - val_loss: 0.1358 - val_binary_accuracy: 0.9747 - val_precision_2: 1.0000 - val_recall_2: 0.0556\n",
      "Epoch 13/100\n",
      "98/98 [==============================] - 0s 2ms/step - loss: 0.0462 - binary_accuracy: 0.9869 - precision_2: 0.8478 - recall_2: 0.5342 - val_loss: 0.0743 - val_binary_accuracy: 0.9807 - val_precision_2: 0.6389 - val_recall_2: 0.6389\n",
      "Epoch 14/100\n",
      "98/98 [==============================] - 0s 2ms/step - loss: 0.0530 - binary_accuracy: 0.9853 - precision_2: 0.8140 - recall_2: 0.4795 - val_loss: 0.0777 - val_binary_accuracy: 0.9844 - val_precision_2: 0.8000 - val_recall_2: 0.5556\n",
      "Epoch 15/100\n",
      "98/98 [==============================] - 0s 2ms/step - loss: 0.0448 - binary_accuracy: 0.9882 - precision_2: 0.9091 - recall_2: 0.5479 - val_loss: 0.0726 - val_binary_accuracy: 0.9814 - val_precision_2: 0.6571 - val_recall_2: 0.6389\n",
      "Epoch 16/100\n",
      "98/98 [==============================] - 0s 2ms/step - loss: 0.0394 - binary_accuracy: 0.9888 - precision_2: 0.8800 - recall_2: 0.6027 - val_loss: 0.1044 - val_binary_accuracy: 0.9769 - val_precision_2: 1.0000 - val_recall_2: 0.1389\n",
      "Epoch 17/100\n",
      "98/98 [==============================] - 0s 2ms/step - loss: 0.0487 - binary_accuracy: 0.9863 - precision_2: 0.8000 - recall_2: 0.5479 - val_loss: 0.0658 - val_binary_accuracy: 0.9814 - val_precision_2: 1.0000 - val_recall_2: 0.3056\n",
      "Epoch 18/100\n",
      "98/98 [==============================] - 0s 2ms/step - loss: 0.0431 - binary_accuracy: 0.9876 - precision_2: 0.8542 - recall_2: 0.5616 - val_loss: 0.1239 - val_binary_accuracy: 0.9732 - val_precision_2: 0.0000e+00 - val_recall_2: 0.0000e+00\n",
      "Epoch 19/100\n",
      "98/98 [==============================] - 0s 2ms/step - loss: 0.0300 - binary_accuracy: 0.9911 - precision_2: 0.9592 - recall_2: 0.6438 - val_loss: 0.0889 - val_binary_accuracy: 0.9769 - val_precision_2: 0.5556 - val_recall_2: 0.6944\n",
      "Epoch 20/100\n",
      "98/98 [==============================] - 0s 2ms/step - loss: 0.0399 - binary_accuracy: 0.9850 - precision_2: 0.7500 - recall_2: 0.5342 - val_loss: 0.0760 - val_binary_accuracy: 0.9792 - val_precision_2: 1.0000 - val_recall_2: 0.2222\n",
      "Epoch 21/100\n",
      "98/98 [==============================] - 0s 2ms/step - loss: 0.0385 - binary_accuracy: 0.9885 - precision_2: 0.8491 - recall_2: 0.6164 - val_loss: 0.0600 - val_binary_accuracy: 0.9844 - val_precision_2: 0.7778 - val_recall_2: 0.5833\n",
      "Epoch 22/100\n",
      "98/98 [==============================] - 0s 2ms/step - loss: 0.0270 - binary_accuracy: 0.9911 - precision_2: 0.9245 - recall_2: 0.6712 - val_loss: 0.0855 - val_binary_accuracy: 0.9807 - val_precision_2: 1.0000 - val_recall_2: 0.2778\n",
      "Epoch 23/100\n",
      "98/98 [==============================] - 0s 2ms/step - loss: 0.0474 - binary_accuracy: 0.9895 - precision_2: 0.8846 - recall_2: 0.6301 - val_loss: 0.0622 - val_binary_accuracy: 0.9851 - val_precision_2: 0.8077 - val_recall_2: 0.5833\n",
      "Epoch 24/100\n",
      "98/98 [==============================] - 0s 1ms/step - loss: 0.0570 - binary_accuracy: 0.9876 - precision_2: 0.8696 - recall_2: 0.5479 - val_loss: 0.1025 - val_binary_accuracy: 0.9762 - val_precision_2: 1.0000 - val_recall_2: 0.1111\n",
      "Epoch 25/100\n",
      "98/98 [==============================] - 0s 2ms/step - loss: 0.0378 - binary_accuracy: 0.9885 - precision_2: 0.8627 - recall_2: 0.6027 - val_loss: 0.0604 - val_binary_accuracy: 0.9859 - val_precision_2: 0.7931 - val_recall_2: 0.6389\n",
      "Epoch 26/100\n",
      "98/98 [==============================] - 0s 1ms/step - loss: 0.0285 - binary_accuracy: 0.9917 - precision_2: 0.9123 - recall_2: 0.7123 - val_loss: 0.0551 - val_binary_accuracy: 0.9859 - val_precision_2: 0.8148 - val_recall_2: 0.6111\n",
      "Epoch 27/100\n",
      "98/98 [==============================] - 0s 2ms/step - loss: 0.0330 - binary_accuracy: 0.9917 - precision_2: 0.9273 - recall_2: 0.6986 - val_loss: 0.0722 - val_binary_accuracy: 0.9799 - val_precision_2: 0.6154 - val_recall_2: 0.6667\n",
      "Epoch 28/100\n",
      "98/98 [==============================] - 0s 2ms/step - loss: 0.0275 - binary_accuracy: 0.9920 - precision_2: 0.9000 - recall_2: 0.7397 - val_loss: 0.0914 - val_binary_accuracy: 0.9777 - val_precision_2: 1.0000 - val_recall_2: 0.1667\n",
      "Epoch 29/100\n",
      "98/98 [==============================] - 0s 2ms/step - loss: 0.0369 - binary_accuracy: 0.9892 - precision_2: 0.8679 - recall_2: 0.6301 - val_loss: 0.0663 - val_binary_accuracy: 0.9844 - val_precision_2: 0.7273 - val_recall_2: 0.6667\n",
      "Epoch 30/100\n",
      "98/98 [==============================] - 0s 2ms/step - loss: 0.0477 - binary_accuracy: 0.9882 - precision_2: 0.9091 - recall_2: 0.5479 - val_loss: 0.0620 - val_binary_accuracy: 0.9874 - val_precision_2: 1.0000 - val_recall_2: 0.5278\n",
      "Epoch 31/100\n",
      "98/98 [==============================] - 0s 2ms/step - loss: 0.0323 - binary_accuracy: 0.9930 - precision_2: 0.9474 - recall_2: 0.7397 - val_loss: 0.0962 - val_binary_accuracy: 0.9732 - val_precision_2: 0.5000 - val_recall_2: 0.6944\n",
      "Epoch 32/100\n",
      "98/98 [==============================] - 0s 2ms/step - loss: 0.0231 - binary_accuracy: 0.9939 - precision_2: 0.9355 - recall_2: 0.7945 - val_loss: 0.0790 - val_binary_accuracy: 0.9799 - val_precision_2: 1.0000 - val_recall_2: 0.2500\n",
      "Epoch 33/100\n",
      "98/98 [==============================] - 0s 2ms/step - loss: 0.0359 - binary_accuracy: 0.9904 - precision_2: 0.8909 - recall_2: 0.6712 - val_loss: 0.0597 - val_binary_accuracy: 0.9859 - val_precision_2: 0.8400 - val_recall_2: 0.5833\n",
      "Epoch 34/100\n",
      "98/98 [==============================] - 0s 2ms/step - loss: 0.1370 - binary_accuracy: 0.9866 - precision_2: 0.7123 - recall_2: 0.7123 - val_loss: 0.8588 - val_binary_accuracy: 0.9732 - val_precision_2: 0.0000e+00 - val_recall_2: 0.0000e+00\n",
      "Epoch 35/100\n",
      "98/98 [==============================] - 0s 2ms/step - loss: 0.1168 - binary_accuracy: 0.9786 - precision_2: 0.8750 - recall_2: 0.0959 - val_loss: 0.1428 - val_binary_accuracy: 0.9732 - val_precision_2: 0.0000e+00 - val_recall_2: 0.0000e+00\n",
      "Epoch 36/100\n",
      "98/98 [==============================] - 0s 2ms/step - loss: 0.0614 - binary_accuracy: 0.9857 - precision_2: 0.8043 - recall_2: 0.5068 - val_loss: 0.0732 - val_binary_accuracy: 0.9762 - val_precision_2: 1.0000 - val_recall_2: 0.1111\n",
      "Epoch 37/100\n",
      "98/98 [==============================] - 0s 1ms/step - loss: 0.0453 - binary_accuracy: 0.9901 - precision_2: 0.9375 - recall_2: 0.6164 - val_loss: 0.0864 - val_binary_accuracy: 0.9717 - val_precision_2: 0.4800 - val_recall_2: 0.6667\n",
      "Epoch 38/100\n",
      "98/98 [==============================] - 0s 2ms/step - loss: 0.0367 - binary_accuracy: 0.9898 - precision_2: 0.8727 - recall_2: 0.6575 - val_loss: 0.1410 - val_binary_accuracy: 0.9732 - val_precision_2: 0.0000e+00 - val_recall_2: 0.0000e+00\n",
      "Epoch 39/100\n",
      "98/98 [==============================] - 0s 1ms/step - loss: 0.0487 - binary_accuracy: 0.9860 - precision_2: 0.7959 - recall_2: 0.5342 - val_loss: 0.0870 - val_binary_accuracy: 0.9769 - val_precision_2: 1.0000 - val_recall_2: 0.1389\n",
      "Epoch 40/100\n",
      "98/98 [==============================] - 0s 2ms/step - loss: 0.0334 - binary_accuracy: 0.9895 - precision_2: 0.9000 - recall_2: 0.6164 - val_loss: 0.0959 - val_binary_accuracy: 0.9784 - val_precision_2: 1.0000 - val_recall_2: 0.1944\n",
      "Epoch 41/100\n",
      "98/98 [==============================] - 0s 1ms/step - loss: 0.0236 - binary_accuracy: 0.9936 - precision_2: 0.9344 - recall_2: 0.7808 - val_loss: 0.0845 - val_binary_accuracy: 0.9836 - val_precision_2: 1.0000 - val_recall_2: 0.3889\n",
      "Epoch 42/100\n",
      "98/98 [==============================] - 0s 2ms/step - loss: 0.0251 - binary_accuracy: 0.9939 - precision_2: 0.9500 - recall_2: 0.7808 - val_loss: 0.0711 - val_binary_accuracy: 0.9859 - val_precision_2: 0.9048 - val_recall_2: 0.5278\n",
      "Epoch 43/100\n",
      "98/98 [==============================] - 0s 2ms/step - loss: 0.0308 - binary_accuracy: 0.9914 - precision_2: 0.8833 - recall_2: 0.7260 - val_loss: 0.0828 - val_binary_accuracy: 0.9844 - val_precision_2: 1.0000 - val_recall_2: 0.4167\n",
      "Epoch 44/100\n",
      "98/98 [==============================] - 0s 2ms/step - loss: 0.0233 - binary_accuracy: 0.9930 - precision_2: 0.9048 - recall_2: 0.7808 - val_loss: 0.0745 - val_binary_accuracy: 0.9874 - val_precision_2: 0.9130 - val_recall_2: 0.5833\n",
      "Epoch 45/100\n",
      "98/98 [==============================] - 0s 2ms/step - loss: 0.0374 - binary_accuracy: 0.9927 - precision_2: 0.9167 - recall_2: 0.7534 - val_loss: 0.0869 - val_binary_accuracy: 0.9777 - val_precision_2: 0.5682 - val_recall_2: 0.6944\n",
      "Epoch 46/100\n",
      "98/98 [==============================] - 0s 2ms/step - loss: 0.0282 - binary_accuracy: 0.9911 - precision_2: 0.8947 - recall_2: 0.6986 - val_loss: 0.0719 - val_binary_accuracy: 0.9859 - val_precision_2: 1.0000 - val_recall_2: 0.4722\n",
      "Epoch 47/100\n",
      "98/98 [==============================] - 0s 2ms/step - loss: 0.0186 - binary_accuracy: 0.9949 - precision_2: 0.9254 - recall_2: 0.8493 - val_loss: 0.0729 - val_binary_accuracy: 0.9866 - val_precision_2: 0.9091 - val_recall_2: 0.5556\n",
      "Epoch 48/100\n",
      "98/98 [==============================] - 0s 2ms/step - loss: 0.0202 - binary_accuracy: 0.9952 - precision_2: 0.9677 - recall_2: 0.8219 - val_loss: 0.0707 - val_binary_accuracy: 0.9844 - val_precision_2: 0.7778 - val_recall_2: 0.5833\n",
      "Epoch 49/100\n",
      "98/98 [==============================] - 0s 1ms/step - loss: 0.0182 - binary_accuracy: 0.9946 - precision_2: 0.9242 - recall_2: 0.8356 - val_loss: 0.0845 - val_binary_accuracy: 0.9829 - val_precision_2: 1.0000 - val_recall_2: 0.3611\n",
      "Epoch 50/100\n",
      "98/98 [==============================] - 0s 2ms/step - loss: 0.0306 - binary_accuracy: 0.9908 - precision_2: 0.8929 - recall_2: 0.6849 - val_loss: 0.0685 - val_binary_accuracy: 0.9851 - val_precision_2: 0.9444 - val_recall_2: 0.4722\n",
      "Epoch 51/100\n",
      "98/98 [==============================] - 0s 2ms/step - loss: 0.0172 - binary_accuracy: 0.9952 - precision_2: 0.9265 - recall_2: 0.8630 - val_loss: 0.0698 - val_binary_accuracy: 0.9851 - val_precision_2: 0.8077 - val_recall_2: 0.5833\n",
      "Epoch 52/100\n",
      "98/98 [==============================] - 0s 1ms/step - loss: 0.0274 - binary_accuracy: 0.9923 - precision_2: 0.9016 - recall_2: 0.7534 - val_loss: 0.0662 - val_binary_accuracy: 0.9851 - val_precision_2: 0.8077 - val_recall_2: 0.5833\n",
      "Epoch 53/100\n",
      "98/98 [==============================] - 0s 2ms/step - loss: 0.0319 - binary_accuracy: 0.9911 - precision_2: 0.8814 - recall_2: 0.7123 - val_loss: 0.0792 - val_binary_accuracy: 0.9844 - val_precision_2: 0.9412 - val_recall_2: 0.4444\n",
      "Epoch 54/100\n",
      "98/98 [==============================] - 0s 2ms/step - loss: 0.0254 - binary_accuracy: 0.9923 - precision_2: 0.8889 - recall_2: 0.7671 - val_loss: 0.0777 - val_binary_accuracy: 0.9784 - val_precision_2: 0.5814 - val_recall_2: 0.6944\n",
      "Epoch 55/100\n",
      "98/98 [==============================] - 0s 2ms/step - loss: 0.0176 - binary_accuracy: 0.9962 - precision_2: 0.9552 - recall_2: 0.8767 - val_loss: 0.1664 - val_binary_accuracy: 0.9732 - val_precision_2: 0.0000e+00 - val_recall_2: 0.0000e+00\n",
      "Epoch 56/100\n",
      "98/98 [==============================] - 0s 1ms/step - loss: 0.0170 - binary_accuracy: 0.9952 - precision_2: 0.9394 - recall_2: 0.8493 - val_loss: 0.0681 - val_binary_accuracy: 0.9851 - val_precision_2: 0.7857 - val_recall_2: 0.6111\n",
      "Epoch 57/100\n",
      "98/98 [==============================] - 0s 2ms/step - loss: 0.0219 - binary_accuracy: 0.9933 - precision_2: 0.8824 - recall_2: 0.8219 - val_loss: 0.0682 - val_binary_accuracy: 0.9851 - val_precision_2: 0.7857 - val_recall_2: 0.6111\n",
      "Epoch 58/100\n",
      "98/98 [==============================] - 0s 2ms/step - loss: 0.0210 - binary_accuracy: 0.9949 - precision_2: 0.9385 - recall_2: 0.8356 - val_loss: 0.1178 - val_binary_accuracy: 0.9769 - val_precision_2: 1.0000 - val_recall_2: 0.1389\n",
      "Epoch 59/100\n",
      "98/98 [==============================] - 0s 2ms/step - loss: 0.0355 - binary_accuracy: 0.9892 - precision_2: 0.8824 - recall_2: 0.6164 - val_loss: 0.0637 - val_binary_accuracy: 0.9851 - val_precision_2: 0.7857 - val_recall_2: 0.6111\n",
      "Epoch 60/100\n",
      "98/98 [==============================] - 0s 2ms/step - loss: 0.0262 - binary_accuracy: 0.9933 - precision_2: 0.9333 - recall_2: 0.7671 - val_loss: 0.0766 - val_binary_accuracy: 0.9836 - val_precision_2: 0.9375 - val_recall_2: 0.4167\n",
      "Epoch 61/100\n",
      "98/98 [==============================] - 0s 2ms/step - loss: 0.0268 - binary_accuracy: 0.9917 - precision_2: 0.9123 - recall_2: 0.7123 - val_loss: 0.0813 - val_binary_accuracy: 0.9799 - val_precision_2: 0.6047 - val_recall_2: 0.7222\n",
      "Epoch 62/100\n",
      "98/98 [==============================] - 0s 2ms/step - loss: 0.0207 - binary_accuracy: 0.9943 - precision_2: 0.9231 - recall_2: 0.8219 - val_loss: 0.0837 - val_binary_accuracy: 0.9844 - val_precision_2: 0.9412 - val_recall_2: 0.4444\n",
      "Epoch 63/100\n",
      "98/98 [==============================] - 0s 2ms/step - loss: 0.0187 - binary_accuracy: 0.9946 - precision_2: 0.9516 - recall_2: 0.8082 - val_loss: 0.0842 - val_binary_accuracy: 0.9859 - val_precision_2: 0.9474 - val_recall_2: 0.5000\n",
      "Epoch 64/100\n",
      "98/98 [==============================] - 0s 2ms/step - loss: 0.0350 - binary_accuracy: 0.9914 - precision_2: 0.9107 - recall_2: 0.6986 - val_loss: 0.0764 - val_binary_accuracy: 0.9777 - val_precision_2: 1.0000 - val_recall_2: 0.1667\n",
      "Epoch 65/100\n",
      "98/98 [==============================] - 0s 2ms/step - loss: 0.0339 - binary_accuracy: 0.9901 - precision_2: 0.9038 - recall_2: 0.6438 - val_loss: 0.0790 - val_binary_accuracy: 0.9777 - val_precision_2: 0.5652 - val_recall_2: 0.7222\n",
      "Epoch 66/100\n",
      "98/98 [==============================] - 0s 2ms/step - loss: 0.0206 - binary_accuracy: 0.9952 - precision_2: 0.9531 - recall_2: 0.8356 - val_loss: 0.0795 - val_binary_accuracy: 0.9859 - val_precision_2: 0.9048 - val_recall_2: 0.5278\n",
      "Epoch 67/100\n",
      "98/98 [==============================] - 0s 2ms/step - loss: 0.0315 - binary_accuracy: 0.9917 - precision_2: 0.9273 - recall_2: 0.6986 - val_loss: 0.0876 - val_binary_accuracy: 0.9851 - val_precision_2: 0.9444 - val_recall_2: 0.4722\n",
      "Epoch 68/100\n",
      "98/98 [==============================] - 0s 2ms/step - loss: 0.0165 - binary_accuracy: 0.9959 - precision_2: 0.9545 - recall_2: 0.8630 - val_loss: 0.0837 - val_binary_accuracy: 0.9844 - val_precision_2: 0.9412 - val_recall_2: 0.4444\n",
      "Epoch 69/100\n",
      "98/98 [==============================] - 0s 2ms/step - loss: 0.0320 - binary_accuracy: 0.9908 - precision_2: 0.9231 - recall_2: 0.6575 - val_loss: 0.0745 - val_binary_accuracy: 0.9829 - val_precision_2: 0.7097 - val_recall_2: 0.6111\n",
      "Epoch 70/100\n",
      "98/98 [==============================] - 0s 1ms/step - loss: 0.0158 - binary_accuracy: 0.9971 - precision_2: 0.9706 - recall_2: 0.9041 - val_loss: 0.0743 - val_binary_accuracy: 0.9836 - val_precision_2: 0.8182 - val_recall_2: 0.5000\n",
      "Epoch 71/100\n",
      "98/98 [==============================] - 0s 2ms/step - loss: 0.0161 - binary_accuracy: 0.9955 - precision_2: 0.9403 - recall_2: 0.8630 - val_loss: 0.0878 - val_binary_accuracy: 0.9821 - val_precision_2: 0.6667 - val_recall_2: 0.6667\n",
      "Epoch 72/100\n",
      "98/98 [==============================] - 0s 2ms/step - loss: 0.0220 - binary_accuracy: 0.9952 - precision_2: 0.9531 - recall_2: 0.8356 - val_loss: 0.0721 - val_binary_accuracy: 0.9844 - val_precision_2: 0.8000 - val_recall_2: 0.5556\n",
      "Epoch 73/100\n",
      "98/98 [==============================] - 0s 2ms/step - loss: 0.0194 - binary_accuracy: 0.9943 - precision_2: 0.9104 - recall_2: 0.8356 - val_loss: 0.0687 - val_binary_accuracy: 0.9844 - val_precision_2: 0.7586 - val_recall_2: 0.6111\n",
      "Epoch 74/100\n",
      "98/98 [==============================] - 0s 2ms/step - loss: 0.0173 - binary_accuracy: 0.9965 - precision_2: 0.9559 - recall_2: 0.8904 - val_loss: 0.0688 - val_binary_accuracy: 0.9836 - val_precision_2: 0.7188 - val_recall_2: 0.6389\n",
      "Epoch 75/100\n",
      "98/98 [==============================] - 0s 2ms/step - loss: 0.0263 - binary_accuracy: 0.9930 - precision_2: 0.9048 - recall_2: 0.7808 - val_loss: 0.0664 - val_binary_accuracy: 0.9844 - val_precision_2: 0.7586 - val_recall_2: 0.6111\n",
      "Epoch 76/100\n",
      "98/98 [==============================] - 0s 2ms/step - loss: 0.0234 - binary_accuracy: 0.9949 - precision_2: 0.9524 - recall_2: 0.8219 - val_loss: 0.0645 - val_binary_accuracy: 0.9859 - val_precision_2: 0.8148 - val_recall_2: 0.6111\n",
      "Epoch 77/100\n",
      "98/98 [==============================] - 0s 2ms/step - loss: 0.0115 - binary_accuracy: 0.9978 - precision_2: 0.9853 - recall_2: 0.9178 - val_loss: 0.0792 - val_binary_accuracy: 0.9851 - val_precision_2: 0.7500 - val_recall_2: 0.6667\n",
      "Epoch 78/100\n",
      "98/98 [==============================] - 0s 2ms/step - loss: 0.0312 - binary_accuracy: 0.9904 - precision_2: 0.8772 - recall_2: 0.6849 - val_loss: 0.0647 - val_binary_accuracy: 0.9859 - val_precision_2: 0.7742 - val_recall_2: 0.6667\n",
      "Epoch 79/100\n",
      "98/98 [==============================] - 0s 2ms/step - loss: 0.0141 - binary_accuracy: 0.9974 - precision_2: 0.9851 - recall_2: 0.9041 - val_loss: 0.0842 - val_binary_accuracy: 0.9859 - val_precision_2: 0.7931 - val_recall_2: 0.6389\n",
      "Epoch 80/100\n",
      "98/98 [==============================] - 0s 2ms/step - loss: 0.0227 - binary_accuracy: 0.9927 - precision_2: 0.8906 - recall_2: 0.7808 - val_loss: 0.0735 - val_binary_accuracy: 0.9851 - val_precision_2: 0.8636 - val_recall_2: 0.5278\n",
      "Epoch 81/100\n",
      "98/98 [==============================] - 0s 2ms/step - loss: 0.0149 - binary_accuracy: 0.9965 - precision_2: 0.9697 - recall_2: 0.8767 - val_loss: 0.0768 - val_binary_accuracy: 0.9836 - val_precision_2: 0.7059 - val_recall_2: 0.6667\n",
      "Epoch 82/100\n",
      "98/98 [==============================] - 0s 2ms/step - loss: 0.0131 - binary_accuracy: 0.9965 - precision_2: 0.9697 - recall_2: 0.8767 - val_loss: 0.0786 - val_binary_accuracy: 0.9851 - val_precision_2: 0.8333 - val_recall_2: 0.5556\n",
      "Epoch 83/100\n",
      "98/98 [==============================] - 0s 2ms/step - loss: 0.0098 - binary_accuracy: 0.9981 - precision_2: 0.9855 - recall_2: 0.9315 - val_loss: 0.0847 - val_binary_accuracy: 0.9844 - val_precision_2: 0.8000 - val_recall_2: 0.5556\n",
      "Epoch 84/100\n",
      "98/98 [==============================] - 0s 2ms/step - loss: 0.0186 - binary_accuracy: 0.9962 - precision_2: 0.9692 - recall_2: 0.8630 - val_loss: 0.0764 - val_binary_accuracy: 0.9844 - val_precision_2: 0.7778 - val_recall_2: 0.5833\n",
      "Epoch 85/100\n",
      "98/98 [==============================] - 0s 2ms/step - loss: 0.0270 - binary_accuracy: 0.9914 - precision_2: 0.9107 - recall_2: 0.6986 - val_loss: 0.0655 - val_binary_accuracy: 0.9859 - val_precision_2: 0.9048 - val_recall_2: 0.5278\n",
      "Epoch 86/100\n",
      "98/98 [==============================] - 0s 2ms/step - loss: 0.0116 - binary_accuracy: 0.9981 - precision_2: 0.9855 - recall_2: 0.9315 - val_loss: 0.0773 - val_binary_accuracy: 0.9844 - val_precision_2: 0.8000 - val_recall_2: 0.5556\n",
      "Epoch 87/100\n",
      "98/98 [==============================] - 0s 2ms/step - loss: 0.0189 - binary_accuracy: 0.9962 - precision_2: 0.9841 - recall_2: 0.8493 - val_loss: 0.0770 - val_binary_accuracy: 0.9814 - val_precision_2: 0.6410 - val_recall_2: 0.6944\n",
      "Epoch 88/100\n",
      "98/98 [==============================] - 0s 2ms/step - loss: 0.0307 - binary_accuracy: 0.9901 - precision_2: 0.9038 - recall_2: 0.6438 - val_loss: 0.1113 - val_binary_accuracy: 0.9762 - val_precision_2: 1.0000 - val_recall_2: 0.1111\n",
      "Epoch 89/100\n",
      "98/98 [==============================] - 0s 2ms/step - loss: 0.0528 - binary_accuracy: 0.9863 - precision_2: 0.8409 - recall_2: 0.5068 - val_loss: 0.0881 - val_binary_accuracy: 0.9844 - val_precision_2: 0.7027 - val_recall_2: 0.7222\n",
      "Epoch 90/100\n",
      "98/98 [==============================] - 0s 2ms/step - loss: 0.0145 - binary_accuracy: 0.9971 - precision_2: 1.0000 - recall_2: 0.8767 - val_loss: 0.0809 - val_binary_accuracy: 0.9851 - val_precision_2: 0.8333 - val_recall_2: 0.5556\n",
      "Epoch 91/100\n",
      "98/98 [==============================] - 0s 2ms/step - loss: 0.0201 - binary_accuracy: 0.9930 - precision_2: 0.9322 - recall_2: 0.7534 - val_loss: 0.0678 - val_binary_accuracy: 0.9859 - val_precision_2: 0.8148 - val_recall_2: 0.6111\n",
      "Epoch 92/100\n",
      "98/98 [==============================] - 0s 2ms/step - loss: 0.0111 - binary_accuracy: 0.9971 - precision_2: 0.9706 - recall_2: 0.9041 - val_loss: 0.0840 - val_binary_accuracy: 0.9859 - val_precision_2: 0.7931 - val_recall_2: 0.6389\n",
      "Epoch 93/100\n",
      "98/98 [==============================] - 0s 2ms/step - loss: 0.0116 - binary_accuracy: 0.9971 - precision_2: 0.9571 - recall_2: 0.9178 - val_loss: 0.0822 - val_binary_accuracy: 0.9866 - val_precision_2: 0.8000 - val_recall_2: 0.6667\n",
      "Epoch 94/100\n",
      "98/98 [==============================] - 0s 2ms/step - loss: 0.0122 - binary_accuracy: 0.9974 - precision_2: 0.9710 - recall_2: 0.9178 - val_loss: 0.0831 - val_binary_accuracy: 0.9851 - val_precision_2: 0.8333 - val_recall_2: 0.5556\n",
      "Epoch 95/100\n",
      "98/98 [==============================] - 0s 2ms/step - loss: 0.0132 - binary_accuracy: 0.9971 - precision_2: 0.9848 - recall_2: 0.8904 - val_loss: 0.0847 - val_binary_accuracy: 0.9851 - val_precision_2: 0.8333 - val_recall_2: 0.5556\n",
      "Epoch 96/100\n",
      "98/98 [==============================] - 0s 2ms/step - loss: 0.0353 - binary_accuracy: 0.9927 - precision_2: 0.9808 - recall_2: 0.6986 - val_loss: 0.0924 - val_binary_accuracy: 0.9799 - val_precision_2: 1.0000 - val_recall_2: 0.2500\n",
      "Epoch 97/100\n",
      "98/98 [==============================] - 0s 2ms/step - loss: 0.0211 - binary_accuracy: 0.9943 - precision_2: 0.9661 - recall_2: 0.7808 - val_loss: 0.0720 - val_binary_accuracy: 0.9821 - val_precision_2: 1.0000 - val_recall_2: 0.3333\n",
      "Epoch 98/100\n",
      "98/98 [==============================] - 0s 2ms/step - loss: 0.0244 - binary_accuracy: 0.9949 - precision_2: 0.9831 - recall_2: 0.7945 - val_loss: 0.0660 - val_binary_accuracy: 0.9844 - val_precision_2: 0.7778 - val_recall_2: 0.5833\n",
      "Epoch 99/100\n",
      "98/98 [==============================] - 0s 2ms/step - loss: 0.0193 - binary_accuracy: 0.9952 - precision_2: 0.9677 - recall_2: 0.8219 - val_loss: 0.0729 - val_binary_accuracy: 0.9829 - val_precision_2: 0.6757 - val_recall_2: 0.6944\n",
      "Epoch 100/100\n",
      "98/98 [==============================] - 0s 2ms/step - loss: 0.0094 - binary_accuracy: 0.9990 - precision_2: 1.0000 - recall_2: 0.9589 - val_loss: 0.0916 - val_binary_accuracy: 0.9851 - val_precision_2: 0.7667 - val_recall_2: 0.6389\n"
     ]
    }
   ],
   "source": [
    "MLP = model.fit(smiles_train,labels_train, epochs=100, verbose =1,validation_data=(smiles_test,labels_test))"
   ]
  },
  {
   "cell_type": "code",
   "execution_count": 83,
   "metadata": {},
   "outputs": [
    {
     "data": {
      "text/plain": [
       "<matplotlib.legend.Legend at 0x7f5c6c1728d0>"
      ]
     },
     "execution_count": 83,
     "metadata": {},
     "output_type": "execute_result"
    },
    {
     "data": {
      "image/png": "[encoded data removed]",
      "text/plain": [
       "<Figure size 720x720 with 1 Axes>"
      ]
     },
     "metadata": {
      "needs_background": "light"
     },
     "output_type": "display_data"
    }
   ],
   "source": [
    "import matplotlib.pyplot as plt\n",
    "plt.figure(figsize=(10,10))\n",
    "plt.plot(MLP.history['loss'],label = 'train')\n",
    "plt.plot(MLP.history['val_loss'],label = 'test')\n",
    "plt.title('Erro', fontsize =10)\n",
    "plt.xlabel('epoch')\n",
    "plt.ylabel('erro')\n",
    "plt.legend()\n"
   ]
  },
  {
   "cell_type": "code",
   "execution_count": 84,
   "metadata": {},
   "outputs": [],
   "source": [
    "predictions = np.round(model.predict(smiles_test))"
   ]
  },
  {
   "cell_type": "code",
   "execution_count": 85,
   "metadata": {},
   "outputs": [],
   "source": [
    "from sklearn.metrics import confusion_matrix\n",
    "cm = confusion_matrix(labels_test, predictions)"
   ]
  },
  {
   "cell_type": "code",
   "execution_count": 86,
   "metadata": {},
   "outputs": [],
   "source": [
    "import seaborn as sns\n"
   ]
  },
  {
   "cell_type": "code",
   "execution_count": 87,
   "metadata": {},
   "outputs": [
    {
     "data": {
      "text/plain": [
       "Text(0.5, 15.0, 'PREDICTED')"
      ]
     },
     "execution_count": 87,
     "metadata": {},
     "output_type": "execute_result"
    },
    {
     "data": {
      "image/png": "[encoded data removed]",
      "text/plain": [
       "<Figure size 432x288 with 2 Axes>"
      ]
     },
     "metadata": {
      "needs_background": "light"
     },
     "output_type": "display_data"
    }
   ],
   "source": [
    "sns.heatmap(cm, annot=True,cmap='coolwarm')\n",
    "plt.ylabel(\"TRUE\")\n",
    "plt.xlabel(\"PREDICTED\")"
   ]
  },
  {
   "cell_type": "code",
   "execution_count": 88,
   "metadata": {},
   "outputs": [],
   "source": [
    "tn, fp, fn, tp = confusion_matrix(labels_test, predictions).ravel()"
   ]
  },
  {
   "cell_type": "code",
   "execution_count": 89,
   "metadata": {},
   "outputs": [
    {
     "data": {
      "text/plain": [
       "(1301, 7, 13, 23)"
      ]
     },
     "execution_count": 89,
     "metadata": {},
     "output_type": "execute_result"
    }
   ],
   "source": [
    "tn, fp, fn, tp "
   ]
  },
  {
   "cell_type": "code",
   "execution_count": 90,
   "metadata": {},
   "outputs": [
    {
     "data": {
      "text/plain": [
       "0.9851190476190477"
      ]
     },
     "execution_count": 90,
     "metadata": {},
     "output_type": "execute_result"
    }
   ],
   "source": [
    "#acurácia\n",
    "(tp+tn)/(tp+tn+fp+fn)"
   ]
  },
  {
   "cell_type": "code",
   "execution_count": 91,
   "metadata": {},
   "outputs": [
    {
     "data": {
      "text/plain": [
       "0.6388888888888888"
      ]
     },
     "execution_count": 91,
     "metadata": {},
     "output_type": "execute_result"
    }
   ],
   "source": [
    "#acerta o que é antibiótico\n",
    "(tp)/(tp+fn)"
   ]
  },
  {
   "cell_type": "code",
   "execution_count": 92,
   "metadata": {},
   "outputs": [
    {
     "data": {
      "text/plain": [
       "0.9946483180428135"
      ]
     },
     "execution_count": 92,
     "metadata": {},
     "output_type": "execute_result"
    }
   ],
   "source": [
    "#acerta o que não é antibiótico\n",
    "(tn)/(tn+fp)"
   ]
  },
  {
   "cell_type": "markdown",
   "metadata": {},
   "source": [
    "Convolucional"
   ]
  },
  {
   "cell_type": "code",
   "execution_count": 93,
   "metadata": {},
   "outputs": [],
   "source": [
    "from tensorflow.keras.layers import Flatten, Dense, Conv1D, MaxPool1D, Dropout"
   ]
  },
  {
   "cell_type": "code",
   "execution_count": 94,
   "metadata": {},
   "outputs": [],
   "source": [
    "CNN = Sequential([\n",
    "    tf.keras.layers.Embedding(input_dim = 394, output_dim = 1, input_length = maior_smile),\n",
    "\n",
    "    tf.keras.layers.Conv1D(filters = 32,kernel_size = 3),  #Conv1\n",
    "    tf.keras.layers.MaxPooling1D(pool_size = 3), \n",
    "\n",
    "    #tf.keras.layers.Conv1D(filters = 64,kernel_size = 3),  #Conv2\n",
    "\n",
    "    tf.keras.layers.Conv1D(filters = 128,kernel_size = 3), #Conv3\n",
    "    tf.keras.layers.MaxPooling1D(pool_size = 3),\n",
    "\n",
    "    #tf.keras.layers.Conv1D(filters = 256,kernel_size = 3), #Conv4\n",
    "    \n",
    "\n",
    "    tf.keras.layers.Conv1D(filters = 256,kernel_size = 3), #Conv5\n",
    "    tf.keras.layers.MaxPooling1D(pool_size = 3),\n",
    "\n",
    "    tf.keras.layers.Conv1D(filters = 256,kernel_size = 3),    #Conv6\n",
    "    tf.keras.layers.MaxPooling1D(pool_size = 3),\n",
    "\n",
    "    tf.keras.layers.Flatten(),\n",
    "    tf.keras.layers.Dropout(0.42),\n",
    "    \n",
    "    tf.keras.layers.Dense(394, activation = \"relu\"),\n",
    "    tf.keras.layers.Dense(150, activation = \"relu\"),\n",
    "\n",
    "    tf.keras.layers.Dense(1, activation = \"sigmoid\")\n",
    "])\n",
    "CNN.compile(\n",
    "    optimizer = tf.optimizers.Adam(),\n",
    "    loss = tf.losses.BinaryCrossentropy(),\n",
    "    metrics = [\n",
    "        tf.metrics.BinaryAccuracy(),\n",
    "        tf.keras.metrics.Precision(),\n",
    "        tf.keras.metrics.Recall()\n",
    "    ]\n",
    ")\n"
   ]
  },
  {
   "cell_type": "code",
   "execution_count": 95,
   "metadata": {},
   "outputs": [
    {
     "name": "stdout",
     "output_type": "stream",
     "text": [
      "Epoch 1/100\n",
      "314/314 [==============================] - 2s 6ms/step - loss: 0.1442 - binary_accuracy: 0.9761 - precision_3: 0.0000e+00 - recall_3: 0.0000e+00 - val_loss: 0.1240 - val_binary_accuracy: 0.9732 - val_precision_3: 0.0000e+00 - val_recall_3: 0.0000e+00\n",
      "Epoch 2/100\n",
      "314/314 [==============================] - 2s 5ms/step - loss: 0.1203 - binary_accuracy: 0.9767 - precision_3: 0.0000e+00 - recall_3: 0.0000e+00 - val_loss: 0.1122 - val_binary_accuracy: 0.9732 - val_precision_3: 0.0000e+00 - val_recall_3: 0.0000e+00\n",
      "Epoch 3/100\n",
      "314/314 [==============================] - 1s 5ms/step - loss: 0.0944 - binary_accuracy: 0.9783 - precision_3: 0.6667 - recall_3: 0.1370 - val_loss: 0.1067 - val_binary_accuracy: 0.9829 - val_precision_3: 0.9333 - val_recall_3: 0.3889\n",
      "Epoch 4/100\n",
      "314/314 [==============================] - 2s 5ms/step - loss: 0.0863 - binary_accuracy: 0.9834 - precision_3: 0.7838 - recall_3: 0.3973 - val_loss: 0.0885 - val_binary_accuracy: 0.9821 - val_precision_3: 0.8333 - val_recall_3: 0.4167\n",
      "Epoch 5/100\n",
      "314/314 [==============================] - 2s 5ms/step - loss: 0.0629 - binary_accuracy: 0.9885 - precision_3: 0.9111 - recall_3: 0.5616 - val_loss: 0.0867 - val_binary_accuracy: 0.9829 - val_precision_3: 0.8095 - val_recall_3: 0.4722\n",
      "Epoch 6/100\n",
      "314/314 [==============================] - 2s 5ms/step - loss: 0.0667 - binary_accuracy: 0.9876 - precision_3: 0.8696 - recall_3: 0.5479 - val_loss: 0.0812 - val_binary_accuracy: 0.9821 - val_precision_3: 0.8333 - val_recall_3: 0.4167\n",
      "Epoch 7/100\n",
      "314/314 [==============================] - 2s 5ms/step - loss: 0.0600 - binary_accuracy: 0.9892 - precision_3: 0.9333 - recall_3: 0.5753 - val_loss: 0.0858 - val_binary_accuracy: 0.9829 - val_precision_3: 0.8095 - val_recall_3: 0.4722\n",
      "Epoch 8/100\n",
      "314/314 [==============================] - 2s 5ms/step - loss: 0.0554 - binary_accuracy: 0.9901 - precision_3: 0.9565 - recall_3: 0.6027 - val_loss: 0.0907 - val_binary_accuracy: 0.9814 - val_precision_3: 0.7391 - val_recall_3: 0.4722\n",
      "Epoch 9/100\n",
      "314/314 [==============================] - 1s 5ms/step - loss: 0.0704 - binary_accuracy: 0.9866 - precision_3: 0.8780 - recall_3: 0.4932 - val_loss: 0.1046 - val_binary_accuracy: 0.9821 - val_precision_3: 0.7727 - val_recall_3: 0.4722\n",
      "Epoch 10/100\n",
      "314/314 [==============================] - 2s 5ms/step - loss: 0.0640 - binary_accuracy: 0.9885 - precision_3: 0.8936 - recall_3: 0.5753 - val_loss: 0.0925 - val_binary_accuracy: 0.9829 - val_precision_3: 0.8421 - val_recall_3: 0.4444\n",
      "Epoch 11/100\n",
      "314/314 [==============================] - 2s 5ms/step - loss: 0.0542 - binary_accuracy: 0.9908 - precision_3: 0.9783 - recall_3: 0.6164 - val_loss: 0.0929 - val_binary_accuracy: 0.9814 - val_precision_3: 0.7391 - val_recall_3: 0.4722\n",
      "Epoch 12/100\n",
      "314/314 [==============================] - 2s 5ms/step - loss: 0.0700 - binary_accuracy: 0.9895 - precision_3: 0.9545 - recall_3: 0.5753 - val_loss: 0.1118 - val_binary_accuracy: 0.9799 - val_precision_3: 0.6800 - val_recall_3: 0.4722\n",
      "Epoch 13/100\n",
      "314/314 [==============================] - 1s 5ms/step - loss: 0.0551 - binary_accuracy: 0.9904 - precision_3: 0.9574 - recall_3: 0.6164 - val_loss: 0.0920 - val_binary_accuracy: 0.9814 - val_precision_3: 0.7200 - val_recall_3: 0.5000\n",
      "Epoch 14/100\n",
      "314/314 [==============================] - 2s 5ms/step - loss: 0.0554 - binary_accuracy: 0.9901 - precision_3: 0.9565 - recall_3: 0.6027 - val_loss: 0.0794 - val_binary_accuracy: 0.9836 - val_precision_3: 0.8500 - val_recall_3: 0.4722\n",
      "Epoch 15/100\n",
      "314/314 [==============================] - 2s 5ms/step - loss: 0.0529 - binary_accuracy: 0.9914 - precision_3: 1.0000 - recall_3: 0.6301 - val_loss: 0.0839 - val_binary_accuracy: 0.9836 - val_precision_3: 0.8500 - val_recall_3: 0.4722\n",
      "Epoch 16/100\n",
      "314/314 [==============================] - 2s 5ms/step - loss: 0.0544 - binary_accuracy: 0.9898 - precision_3: 0.9362 - recall_3: 0.6027 - val_loss: 0.0962 - val_binary_accuracy: 0.9851 - val_precision_3: 0.9444 - val_recall_3: 0.4722\n",
      "Epoch 17/100\n",
      "314/314 [==============================] - 2s 5ms/step - loss: 0.0559 - binary_accuracy: 0.9895 - precision_3: 0.9348 - recall_3: 0.5890 - val_loss: 0.0797 - val_binary_accuracy: 0.9844 - val_precision_3: 0.8947 - val_recall_3: 0.4722\n",
      "Epoch 18/100\n",
      "314/314 [==============================] - 2s 5ms/step - loss: 0.0522 - binary_accuracy: 0.9914 - precision_3: 1.0000 - recall_3: 0.6301 - val_loss: 0.0830 - val_binary_accuracy: 0.9836 - val_precision_3: 0.8500 - val_recall_3: 0.4722\n",
      "Epoch 19/100\n",
      "314/314 [==============================] - 2s 5ms/step - loss: 0.0579 - binary_accuracy: 0.9908 - precision_3: 0.9783 - recall_3: 0.6164 - val_loss: 0.0845 - val_binary_accuracy: 0.9829 - val_precision_3: 0.8095 - val_recall_3: 0.4722\n",
      "Epoch 20/100\n",
      "314/314 [==============================] - 2s 5ms/step - loss: 0.0574 - binary_accuracy: 0.9901 - precision_3: 0.9565 - recall_3: 0.6027 - val_loss: 0.0800 - val_binary_accuracy: 0.9836 - val_precision_3: 0.8182 - val_recall_3: 0.5000\n",
      "Epoch 21/100\n",
      "314/314 [==============================] - 2s 5ms/step - loss: 0.0563 - binary_accuracy: 0.9901 - precision_3: 0.9565 - recall_3: 0.6027 - val_loss: 0.0783 - val_binary_accuracy: 0.9836 - val_precision_3: 0.8500 - val_recall_3: 0.4722\n",
      "Epoch 22/100\n",
      "314/314 [==============================] - 2s 5ms/step - loss: 0.0512 - binary_accuracy: 0.9914 - precision_3: 1.0000 - recall_3: 0.6301 - val_loss: 0.0940 - val_binary_accuracy: 0.9851 - val_precision_3: 0.9444 - val_recall_3: 0.4722\n",
      "Epoch 23/100\n",
      "314/314 [==============================] - 2s 5ms/step - loss: 0.0583 - binary_accuracy: 0.9901 - precision_3: 0.9773 - recall_3: 0.5890 - val_loss: 0.0936 - val_binary_accuracy: 0.9851 - val_precision_3: 1.0000 - val_recall_3: 0.4444\n",
      "Epoch 24/100\n",
      "314/314 [==============================] - 2s 5ms/step - loss: 0.0521 - binary_accuracy: 0.9914 - precision_3: 1.0000 - recall_3: 0.6301 - val_loss: 0.0776 - val_binary_accuracy: 0.9836 - val_precision_3: 0.8500 - val_recall_3: 0.4722\n",
      "Epoch 25/100\n",
      "314/314 [==============================] - 2s 5ms/step - loss: 0.0531 - binary_accuracy: 0.9914 - precision_3: 1.0000 - recall_3: 0.6301 - val_loss: 0.0892 - val_binary_accuracy: 0.9829 - val_precision_3: 0.8095 - val_recall_3: 0.4722\n",
      "Epoch 26/100\n",
      "314/314 [==============================] - 2s 5ms/step - loss: 0.0544 - binary_accuracy: 0.9914 - precision_3: 1.0000 - recall_3: 0.6301 - val_loss: 0.0816 - val_binary_accuracy: 0.9829 - val_precision_3: 0.8095 - val_recall_3: 0.4722\n",
      "Epoch 27/100\n",
      "314/314 [==============================] - 2s 5ms/step - loss: 0.0602 - binary_accuracy: 0.9888 - precision_3: 0.9750 - recall_3: 0.5342 - val_loss: 0.1037 - val_binary_accuracy: 0.9807 - val_precision_3: 1.0000 - val_recall_3: 0.2778\n",
      "Epoch 28/100\n",
      "314/314 [==============================] - 2s 5ms/step - loss: 0.0583 - binary_accuracy: 0.9904 - precision_3: 1.0000 - recall_3: 0.5890 - val_loss: 0.0810 - val_binary_accuracy: 0.9851 - val_precision_3: 0.9444 - val_recall_3: 0.4722\n",
      "Epoch 29/100\n",
      "314/314 [==============================] - 2s 5ms/step - loss: 0.0673 - binary_accuracy: 0.9898 - precision_3: 0.9556 - recall_3: 0.5890 - val_loss: 0.0797 - val_binary_accuracy: 0.9851 - val_precision_3: 0.9000 - val_recall_3: 0.5000\n",
      "Epoch 30/100\n",
      "314/314 [==============================] - 2s 5ms/step - loss: 0.0972 - binary_accuracy: 0.9837 - precision_3: 0.7391 - recall_3: 0.4658 - val_loss: 0.0768 - val_binary_accuracy: 0.9851 - val_precision_3: 0.9000 - val_recall_3: 0.5000\n",
      "Epoch 31/100\n",
      "314/314 [==============================] - 2s 5ms/step - loss: 0.0573 - binary_accuracy: 0.9904 - precision_3: 0.9778 - recall_3: 0.6027 - val_loss: 0.0742 - val_binary_accuracy: 0.9844 - val_precision_3: 0.8947 - val_recall_3: 0.4722\n",
      "Epoch 32/100\n",
      "314/314 [==============================] - 2s 5ms/step - loss: 0.0533 - binary_accuracy: 0.9914 - precision_3: 1.0000 - recall_3: 0.6301 - val_loss: 0.0752 - val_binary_accuracy: 0.9859 - val_precision_3: 1.0000 - val_recall_3: 0.4722\n",
      "Epoch 33/100\n",
      "314/314 [==============================] - 2s 5ms/step - loss: 0.0532 - binary_accuracy: 0.9914 - precision_3: 1.0000 - recall_3: 0.6301 - val_loss: 0.0757 - val_binary_accuracy: 0.9859 - val_precision_3: 1.0000 - val_recall_3: 0.4722\n",
      "Epoch 34/100\n",
      "314/314 [==============================] - 2s 5ms/step - loss: 0.0665 - binary_accuracy: 0.9882 - precision_3: 0.9286 - recall_3: 0.5342 - val_loss: 0.0732 - val_binary_accuracy: 0.9859 - val_precision_3: 1.0000 - val_recall_3: 0.4722\n",
      "Epoch 35/100\n",
      "314/314 [==============================] - 2s 5ms/step - loss: 0.0581 - binary_accuracy: 0.9898 - precision_3: 0.9767 - recall_3: 0.5753 - val_loss: 0.0768 - val_binary_accuracy: 0.9851 - val_precision_3: 0.9000 - val_recall_3: 0.5000\n",
      "Epoch 36/100\n",
      "314/314 [==============================] - 2s 5ms/step - loss: 0.0512 - binary_accuracy: 0.9914 - precision_3: 1.0000 - recall_3: 0.6301 - val_loss: 0.0715 - val_binary_accuracy: 0.9859 - val_precision_3: 1.0000 - val_recall_3: 0.4722\n",
      "Epoch 37/100\n",
      "314/314 [==============================] - 2s 5ms/step - loss: 0.0513 - binary_accuracy: 0.9914 - precision_3: 1.0000 - recall_3: 0.6301 - val_loss: 0.0769 - val_binary_accuracy: 0.9851 - val_precision_3: 0.9444 - val_recall_3: 0.4722\n",
      "Epoch 38/100\n",
      "314/314 [==============================] - 2s 5ms/step - loss: 0.0507 - binary_accuracy: 0.9914 - precision_3: 1.0000 - recall_3: 0.6301 - val_loss: 0.0759 - val_binary_accuracy: 0.9859 - val_precision_3: 1.0000 - val_recall_3: 0.4722\n",
      "Epoch 39/100\n",
      "314/314 [==============================] - 2s 5ms/step - loss: 0.0509 - binary_accuracy: 0.9914 - precision_3: 1.0000 - recall_3: 0.6301 - val_loss: 0.0749 - val_binary_accuracy: 0.9859 - val_precision_3: 1.0000 - val_recall_3: 0.4722\n",
      "Epoch 40/100\n",
      "314/314 [==============================] - 2s 5ms/step - loss: 0.0513 - binary_accuracy: 0.9914 - precision_3: 1.0000 - recall_3: 0.6301 - val_loss: 0.0736 - val_binary_accuracy: 0.9859 - val_precision_3: 1.0000 - val_recall_3: 0.4722\n",
      "Epoch 41/100\n",
      "314/314 [==============================] - 2s 5ms/step - loss: 0.0533 - binary_accuracy: 0.9914 - precision_3: 1.0000 - recall_3: 0.6301 - val_loss: 0.0759 - val_binary_accuracy: 0.9859 - val_precision_3: 1.0000 - val_recall_3: 0.4722\n",
      "Epoch 42/100\n",
      "314/314 [==============================] - 2s 5ms/step - loss: 0.0659 - binary_accuracy: 0.9904 - precision_3: 0.9574 - recall_3: 0.6164 - val_loss: 0.0793 - val_binary_accuracy: 0.9851 - val_precision_3: 0.9000 - val_recall_3: 0.5000\n",
      "Epoch 43/100\n",
      "314/314 [==============================] - 2s 5ms/step - loss: 0.0595 - binary_accuracy: 0.9908 - precision_3: 1.0000 - recall_3: 0.6027 - val_loss: 0.0847 - val_binary_accuracy: 0.9829 - val_precision_3: 0.8095 - val_recall_3: 0.4722\n",
      "Epoch 44/100\n",
      "314/314 [==============================] - 2s 5ms/step - loss: 0.0509 - binary_accuracy: 0.9914 - precision_3: 1.0000 - recall_3: 0.6301 - val_loss: 0.0884 - val_binary_accuracy: 0.9836 - val_precision_3: 0.8182 - val_recall_3: 0.5000\n",
      "Epoch 45/100\n",
      "314/314 [==============================] - 2s 5ms/step - loss: 0.0510 - binary_accuracy: 0.9914 - precision_3: 1.0000 - recall_3: 0.6301 - val_loss: 0.0920 - val_binary_accuracy: 0.9836 - val_precision_3: 0.8500 - val_recall_3: 0.4722\n",
      "Epoch 46/100\n",
      "314/314 [==============================] - 2s 5ms/step - loss: 0.0511 - binary_accuracy: 0.9914 - precision_3: 1.0000 - recall_3: 0.6301 - val_loss: 0.0765 - val_binary_accuracy: 0.9836 - val_precision_3: 0.8889 - val_recall_3: 0.4444\n",
      "Epoch 47/100\n",
      "314/314 [==============================] - 2s 5ms/step - loss: 0.0493 - binary_accuracy: 0.9914 - precision_3: 1.0000 - recall_3: 0.6301 - val_loss: 0.0821 - val_binary_accuracy: 0.9836 - val_precision_3: 0.8889 - val_recall_3: 0.4444\n",
      "Epoch 48/100\n",
      "314/314 [==============================] - 2s 5ms/step - loss: 0.0716 - binary_accuracy: 0.9879 - precision_3: 0.9268 - recall_3: 0.5205 - val_loss: 0.0942 - val_binary_accuracy: 0.9844 - val_precision_3: 0.8571 - val_recall_3: 0.5000\n",
      "Epoch 49/100\n",
      "314/314 [==============================] - 2s 5ms/step - loss: 0.0627 - binary_accuracy: 0.9904 - precision_3: 0.9574 - recall_3: 0.6164 - val_loss: 0.0757 - val_binary_accuracy: 0.9851 - val_precision_3: 0.9000 - val_recall_3: 0.5000\n",
      "Epoch 50/100\n",
      "314/314 [==============================] - 2s 5ms/step - loss: 0.0528 - binary_accuracy: 0.9914 - precision_3: 1.0000 - recall_3: 0.6301 - val_loss: 0.0758 - val_binary_accuracy: 0.9836 - val_precision_3: 0.8500 - val_recall_3: 0.4722\n",
      "Epoch 51/100\n",
      "314/314 [==============================] - 2s 5ms/step - loss: 0.0516 - binary_accuracy: 0.9914 - precision_3: 1.0000 - recall_3: 0.6301 - val_loss: 0.0874 - val_binary_accuracy: 0.9836 - val_precision_3: 0.8182 - val_recall_3: 0.5000\n",
      "Epoch 52/100\n",
      "314/314 [==============================] - 2s 5ms/step - loss: 0.0552 - binary_accuracy: 0.9904 - precision_3: 0.9778 - recall_3: 0.6027 - val_loss: 0.0802 - val_binary_accuracy: 0.9836 - val_precision_3: 0.8500 - val_recall_3: 0.4722\n",
      "Epoch 53/100\n",
      "314/314 [==============================] - 2s 5ms/step - loss: 0.0508 - binary_accuracy: 0.9914 - precision_3: 1.0000 - recall_3: 0.6301 - val_loss: 0.0769 - val_binary_accuracy: 0.9851 - val_precision_3: 0.9444 - val_recall_3: 0.4722\n",
      "Epoch 54/100\n",
      "314/314 [==============================] - 2s 5ms/step - loss: 0.0510 - binary_accuracy: 0.9914 - precision_3: 1.0000 - recall_3: 0.6301 - val_loss: 0.0838 - val_binary_accuracy: 0.9844 - val_precision_3: 0.8947 - val_recall_3: 0.4722\n",
      "Epoch 55/100\n",
      "314/314 [==============================] - 2s 5ms/step - loss: 0.0552 - binary_accuracy: 0.9908 - precision_3: 0.9783 - recall_3: 0.6164 - val_loss: 0.0909 - val_binary_accuracy: 0.9836 - val_precision_3: 1.0000 - val_recall_3: 0.3889\n",
      "Epoch 56/100\n",
      "314/314 [==============================] - 2s 5ms/step - loss: 0.0560 - binary_accuracy: 0.9908 - precision_3: 1.0000 - recall_3: 0.6027 - val_loss: 0.0931 - val_binary_accuracy: 0.9836 - val_precision_3: 0.8182 - val_recall_3: 0.5000\n",
      "Epoch 57/100\n",
      "314/314 [==============================] - 2s 5ms/step - loss: 0.0517 - binary_accuracy: 0.9914 - precision_3: 1.0000 - recall_3: 0.6301 - val_loss: 0.0982 - val_binary_accuracy: 0.9829 - val_precision_3: 0.8095 - val_recall_3: 0.4722\n",
      "Epoch 58/100\n",
      "314/314 [==============================] - 2s 5ms/step - loss: 0.0556 - binary_accuracy: 0.9901 - precision_3: 0.9565 - recall_3: 0.6027 - val_loss: 0.1437 - val_binary_accuracy: 0.9814 - val_precision_3: 0.9231 - val_recall_3: 0.3333\n",
      "Epoch 59/100\n",
      "314/314 [==============================] - 2s 5ms/step - loss: 0.0528 - binary_accuracy: 0.9914 - precision_3: 1.0000 - recall_3: 0.6301 - val_loss: 0.0869 - val_binary_accuracy: 0.9844 - val_precision_3: 0.8571 - val_recall_3: 0.5000\n",
      "Epoch 60/100\n",
      "314/314 [==============================] - 2s 5ms/step - loss: 0.0516 - binary_accuracy: 0.9914 - precision_3: 1.0000 - recall_3: 0.6301 - val_loss: 0.0797 - val_binary_accuracy: 0.9859 - val_precision_3: 0.9474 - val_recall_3: 0.5000\n",
      "Epoch 61/100\n",
      "314/314 [==============================] - 2s 5ms/step - loss: 0.0496 - binary_accuracy: 0.9914 - precision_3: 1.0000 - recall_3: 0.6301 - val_loss: 0.0752 - val_binary_accuracy: 0.9851 - val_precision_3: 0.9444 - val_recall_3: 0.4722\n",
      "Epoch 62/100\n",
      "314/314 [==============================] - 2s 5ms/step - loss: 0.0508 - binary_accuracy: 0.9914 - precision_3: 1.0000 - recall_3: 0.6301 - val_loss: 0.0796 - val_binary_accuracy: 0.9851 - val_precision_3: 0.9444 - val_recall_3: 0.4722\n",
      "Epoch 63/100\n",
      "314/314 [==============================] - 2s 5ms/step - loss: 0.0519 - binary_accuracy: 0.9908 - precision_3: 0.9783 - recall_3: 0.6164 - val_loss: 0.0750 - val_binary_accuracy: 0.9866 - val_precision_3: 1.0000 - val_recall_3: 0.5000\n",
      "Epoch 64/100\n",
      "314/314 [==============================] - 2s 5ms/step - loss: 0.0494 - binary_accuracy: 0.9914 - precision_3: 1.0000 - recall_3: 0.6301 - val_loss: 0.0735 - val_binary_accuracy: 0.9866 - val_precision_3: 1.0000 - val_recall_3: 0.5000\n",
      "Epoch 65/100\n",
      "314/314 [==============================] - 2s 5ms/step - loss: 0.0573 - binary_accuracy: 0.9901 - precision_3: 0.9565 - recall_3: 0.6027 - val_loss: 0.0827 - val_binary_accuracy: 0.9836 - val_precision_3: 0.8500 - val_recall_3: 0.4722\n",
      "Epoch 66/100\n",
      "314/314 [==============================] - 2s 5ms/step - loss: 0.0526 - binary_accuracy: 0.9914 - precision_3: 1.0000 - recall_3: 0.6301 - val_loss: 0.0850 - val_binary_accuracy: 0.9836 - val_precision_3: 0.8500 - val_recall_3: 0.4722\n",
      "Epoch 67/100\n",
      "314/314 [==============================] - 2s 5ms/step - loss: 0.0567 - binary_accuracy: 0.9892 - precision_3: 0.9333 - recall_3: 0.5753 - val_loss: 0.2616 - val_binary_accuracy: 0.9807 - val_precision_3: 1.0000 - val_recall_3: 0.2778\n",
      "Epoch 68/100\n",
      "314/314 [==============================] - 2s 5ms/step - loss: 0.0583 - binary_accuracy: 0.9908 - precision_3: 0.9583 - recall_3: 0.6301 - val_loss: 0.0773 - val_binary_accuracy: 0.9851 - val_precision_3: 0.9444 - val_recall_3: 0.4722\n",
      "Epoch 69/100\n",
      "314/314 [==============================] - 2s 5ms/step - loss: 0.0518 - binary_accuracy: 0.9914 - precision_3: 1.0000 - recall_3: 0.6301 - val_loss: 0.0776 - val_binary_accuracy: 0.9859 - val_precision_3: 1.0000 - val_recall_3: 0.4722\n",
      "Epoch 70/100\n",
      "314/314 [==============================] - 2s 5ms/step - loss: 0.0500 - binary_accuracy: 0.9914 - precision_3: 1.0000 - recall_3: 0.6301 - val_loss: 0.0799 - val_binary_accuracy: 0.9859 - val_precision_3: 1.0000 - val_recall_3: 0.4722\n",
      "Epoch 71/100\n",
      "314/314 [==============================] - 2s 5ms/step - loss: 0.0497 - binary_accuracy: 0.9914 - precision_3: 1.0000 - recall_3: 0.6301 - val_loss: 0.0750 - val_binary_accuracy: 0.9859 - val_precision_3: 1.0000 - val_recall_3: 0.4722\n",
      "Epoch 72/100\n",
      "314/314 [==============================] - 2s 5ms/step - loss: 0.0505 - binary_accuracy: 0.9914 - precision_3: 1.0000 - recall_3: 0.6301 - val_loss: 0.0795 - val_binary_accuracy: 0.9859 - val_precision_3: 1.0000 - val_recall_3: 0.4722\n",
      "Epoch 73/100\n",
      "314/314 [==============================] - 2s 5ms/step - loss: 0.0511 - binary_accuracy: 0.9914 - precision_3: 1.0000 - recall_3: 0.6301 - val_loss: 0.0842 - val_binary_accuracy: 0.9859 - val_precision_3: 1.0000 - val_recall_3: 0.4722\n",
      "Epoch 74/100\n",
      "314/314 [==============================] - 2s 5ms/step - loss: 0.0552 - binary_accuracy: 0.9911 - precision_3: 0.9787 - recall_3: 0.6301 - val_loss: 0.0916 - val_binary_accuracy: 0.9844 - val_precision_3: 1.0000 - val_recall_3: 0.4167\n",
      "Epoch 75/100\n",
      "314/314 [==============================] - 2s 5ms/step - loss: 0.0552 - binary_accuracy: 0.9904 - precision_3: 0.9778 - recall_3: 0.6027 - val_loss: 0.0842 - val_binary_accuracy: 0.9851 - val_precision_3: 0.9000 - val_recall_3: 0.5000\n",
      "Epoch 76/100\n",
      "314/314 [==============================] - 2s 5ms/step - loss: 0.0500 - binary_accuracy: 0.9914 - precision_3: 1.0000 - recall_3: 0.6301 - val_loss: 0.0823 - val_binary_accuracy: 0.9851 - val_precision_3: 0.9444 - val_recall_3: 0.4722\n",
      "Epoch 77/100\n",
      "314/314 [==============================] - 2s 5ms/step - loss: 0.0505 - binary_accuracy: 0.9914 - precision_3: 1.0000 - recall_3: 0.6301 - val_loss: 0.0827 - val_binary_accuracy: 0.9851 - val_precision_3: 0.9444 - val_recall_3: 0.4722\n",
      "Epoch 78/100\n",
      "314/314 [==============================] - 2s 5ms/step - loss: 0.0502 - binary_accuracy: 0.9914 - precision_3: 1.0000 - recall_3: 0.6301 - val_loss: 0.0860 - val_binary_accuracy: 0.9851 - val_precision_3: 0.9444 - val_recall_3: 0.4722\n",
      "Epoch 79/100\n",
      "314/314 [==============================] - 2s 5ms/step - loss: 0.0487 - binary_accuracy: 0.9914 - precision_3: 1.0000 - recall_3: 0.6301 - val_loss: 0.0974 - val_binary_accuracy: 0.9851 - val_precision_3: 0.9444 - val_recall_3: 0.4722\n",
      "Epoch 80/100\n",
      "314/314 [==============================] - 2s 5ms/step - loss: 0.0499 - binary_accuracy: 0.9914 - precision_3: 1.0000 - recall_3: 0.6301 - val_loss: 0.0862 - val_binary_accuracy: 0.9851 - val_precision_3: 0.9444 - val_recall_3: 0.4722\n",
      "Epoch 81/100\n",
      "314/314 [==============================] - 2s 5ms/step - loss: 0.0514 - binary_accuracy: 0.9914 - precision_3: 1.0000 - recall_3: 0.6301 - val_loss: 0.0848 - val_binary_accuracy: 0.9851 - val_precision_3: 0.9444 - val_recall_3: 0.4722\n",
      "Epoch 82/100\n",
      "314/314 [==============================] - 2s 5ms/step - loss: 0.0509 - binary_accuracy: 0.9914 - precision_3: 1.0000 - recall_3: 0.6301 - val_loss: 0.0867 - val_binary_accuracy: 0.9844 - val_precision_3: 0.8947 - val_recall_3: 0.4722\n",
      "Epoch 83/100\n",
      "314/314 [==============================] - 2s 5ms/step - loss: 0.0656 - binary_accuracy: 0.9892 - precision_3: 0.9756 - recall_3: 0.5479 - val_loss: 0.1943 - val_binary_accuracy: 0.9799 - val_precision_3: 1.0000 - val_recall_3: 0.2500\n",
      "Epoch 84/100\n",
      "314/314 [==============================] - 2s 5ms/step - loss: 0.0666 - binary_accuracy: 0.9895 - precision_3: 0.9348 - recall_3: 0.5890 - val_loss: 0.0825 - val_binary_accuracy: 0.9836 - val_precision_3: 0.8500 - val_recall_3: 0.4722\n",
      "Epoch 85/100\n",
      "314/314 [==============================] - 2s 5ms/step - loss: 0.0520 - binary_accuracy: 0.9914 - precision_3: 1.0000 - recall_3: 0.6301 - val_loss: 0.0765 - val_binary_accuracy: 0.9859 - val_precision_3: 0.9474 - val_recall_3: 0.5000\n",
      "Epoch 86/100\n",
      "314/314 [==============================] - 2s 5ms/step - loss: 0.0509 - binary_accuracy: 0.9914 - precision_3: 1.0000 - recall_3: 0.6301 - val_loss: 0.0789 - val_binary_accuracy: 0.9859 - val_precision_3: 0.9474 - val_recall_3: 0.5000\n",
      "Epoch 87/100\n",
      "314/314 [==============================] - 2s 5ms/step - loss: 0.0508 - binary_accuracy: 0.9914 - precision_3: 1.0000 - recall_3: 0.6301 - val_loss: 0.0775 - val_binary_accuracy: 0.9851 - val_precision_3: 0.9000 - val_recall_3: 0.5000\n",
      "Epoch 88/100\n",
      "314/314 [==============================] - 2s 5ms/step - loss: 0.0497 - binary_accuracy: 0.9914 - precision_3: 1.0000 - recall_3: 0.6301 - val_loss: 0.1150 - val_binary_accuracy: 0.9844 - val_precision_3: 0.9412 - val_recall_3: 0.4444\n",
      "Epoch 89/100\n",
      "314/314 [==============================] - 2s 5ms/step - loss: 0.0665 - binary_accuracy: 0.9879 - precision_3: 0.9070 - recall_3: 0.5342 - val_loss: 0.0961 - val_binary_accuracy: 0.9851 - val_precision_3: 0.9444 - val_recall_3: 0.4722\n",
      "Epoch 90/100\n",
      "314/314 [==============================] - 2s 5ms/step - loss: 0.0508 - binary_accuracy: 0.9914 - precision_3: 1.0000 - recall_3: 0.6301 - val_loss: 0.0767 - val_binary_accuracy: 0.9836 - val_precision_3: 0.8182 - val_recall_3: 0.5000\n",
      "Epoch 91/100\n",
      "314/314 [==============================] - 2s 5ms/step - loss: 0.0505 - binary_accuracy: 0.9914 - precision_3: 1.0000 - recall_3: 0.6301 - val_loss: 0.0752 - val_binary_accuracy: 0.9836 - val_precision_3: 0.8500 - val_recall_3: 0.4722\n",
      "Epoch 92/100\n",
      "314/314 [==============================] - 2s 5ms/step - loss: 0.0498 - binary_accuracy: 0.9914 - precision_3: 1.0000 - recall_3: 0.6301 - val_loss: 0.0786 - val_binary_accuracy: 0.9844 - val_precision_3: 0.8947 - val_recall_3: 0.4722\n",
      "Epoch 93/100\n",
      "314/314 [==============================] - 2s 5ms/step - loss: 0.0508 - binary_accuracy: 0.9914 - precision_3: 1.0000 - recall_3: 0.6301 - val_loss: 0.0751 - val_binary_accuracy: 0.9844 - val_precision_3: 0.8947 - val_recall_3: 0.4722\n",
      "Epoch 94/100\n",
      "314/314 [==============================] - 2s 5ms/step - loss: 0.0532 - binary_accuracy: 0.9914 - precision_3: 1.0000 - recall_3: 0.6301 - val_loss: 0.0859 - val_binary_accuracy: 0.9844 - val_precision_3: 0.8947 - val_recall_3: 0.4722\n",
      "Epoch 95/100\n",
      "314/314 [==============================] - 2s 5ms/step - loss: 0.0603 - binary_accuracy: 0.9904 - precision_3: 0.9574 - recall_3: 0.6164 - val_loss: 0.1133 - val_binary_accuracy: 0.9829 - val_precision_3: 0.7826 - val_recall_3: 0.5000\n",
      "Epoch 96/100\n",
      "314/314 [==============================] - 2s 5ms/step - loss: 0.0544 - binary_accuracy: 0.9914 - precision_3: 1.0000 - recall_3: 0.6301 - val_loss: 0.0823 - val_binary_accuracy: 0.9844 - val_precision_3: 0.8947 - val_recall_3: 0.4722\n",
      "Epoch 97/100\n",
      "314/314 [==============================] - 2s 5ms/step - loss: 0.0514 - binary_accuracy: 0.9914 - precision_3: 1.0000 - recall_3: 0.6301 - val_loss: 0.0840 - val_binary_accuracy: 0.9844 - val_precision_3: 0.8947 - val_recall_3: 0.4722\n",
      "Epoch 98/100\n",
      "314/314 [==============================] - 2s 5ms/step - loss: 0.0495 - binary_accuracy: 0.9914 - precision_3: 1.0000 - recall_3: 0.6301 - val_loss: 0.0844 - val_binary_accuracy: 0.9844 - val_precision_3: 0.8947 - val_recall_3: 0.4722\n",
      "Epoch 99/100\n",
      "314/314 [==============================] - 2s 5ms/step - loss: 0.0487 - binary_accuracy: 0.9914 - precision_3: 1.0000 - recall_3: 0.6301 - val_loss: 0.1119 - val_binary_accuracy: 0.9851 - val_precision_3: 0.9444 - val_recall_3: 0.4722\n",
      "Epoch 100/100\n",
      "314/314 [==============================] - 2s 5ms/step - loss: 0.0495 - binary_accuracy: 0.9914 - precision_3: 1.0000 - recall_3: 0.6301 - val_loss: 0.1093 - val_binary_accuracy: 0.9814 - val_precision_3: 0.7391 - val_recall_3: 0.4722\n"
     ]
    }
   ],
   "source": [
    "trainer = CNN.fit(\n",
    "     smiles_train,\n",
    "     labels_train,\n",
    "     epochs = 100,\n",
    "     batch_size = 10,\n",
    "     validation_data = (smiles_test,labels_test),  \n",
    "     verbose = 1)"
   ]
  },
  {
   "cell_type": "code",
   "execution_count": 96,
   "metadata": {},
   "outputs": [],
   "source": [
    "y_hat = (CNN.predict(smiles_test) > 0.5).astype(\"float\")"
   ]
  },
  {
   "cell_type": "code",
   "execution_count": 97,
   "metadata": {},
   "outputs": [],
   "source": [
    "cm2 = confusion_matrix(labels_test, y_hat)  "
   ]
  },
  {
   "cell_type": "code",
   "execution_count": 98,
   "metadata": {},
   "outputs": [
    {
     "data": {
      "text/plain": [
       "Text(0.5, 33.0, 'Predicted Values')"
      ]
     },
     "execution_count": 98,
     "metadata": {},
     "output_type": "execute_result"
    },
    {
     "data": {
      "image/png": "[encoded data removed]",
      "text/plain": [
       "<Figure size 432x432 with 2 Axes>"
      ]
     },
     "metadata": {
      "needs_background": "light"
     },
     "output_type": "display_data"
    }
   ],
   "source": [
    "plt.figure(figsize = (6,6))\n",
    "sns.heatmap(cm2, annot = True, fmt = \".5g\", cmap = \"coolwarm\",linewidths=.5)\n",
    "plt.ylabel('Actual Values',fontsize = 14)\n",
    "plt.xlabel('Predicted Values')\n"
   ]
  },
  {
   "cell_type": "code",
   "execution_count": 99,
   "metadata": {},
   "outputs": [
    {
     "data": {
      "text/plain": [
       "(1302, 6, 19, 17)"
      ]
     },
     "execution_count": 99,
     "metadata": {},
     "output_type": "execute_result"
    }
   ],
   "source": [
    "tn2, fp2, fn2, tp2 = confusion_matrix(labels_test, y_hat).ravel()\n",
    "tn2, fp2, fn2, tp2"
   ]
  },
  {
   "cell_type": "code",
   "execution_count": 100,
   "metadata": {},
   "outputs": [
    {
     "data": {
      "text/plain": [
       "0.9813988095238095"
      ]
     },
     "execution_count": 100,
     "metadata": {},
     "output_type": "execute_result"
    }
   ],
   "source": [
    "#acurácia\n",
    "(tp2+tn2)/(tp2+tn2+fp2+fn2)"
   ]
  },
  {
   "cell_type": "code",
   "execution_count": 101,
   "metadata": {},
   "outputs": [
    {
     "data": {
      "text/plain": [
       "0.4722222222222222"
      ]
     },
     "execution_count": 101,
     "metadata": {},
     "output_type": "execute_result"
    }
   ],
   "source": [
    "#acerta o que é antibiótico\n",
    "(tp2)/(tp2+fn2)"
   ]
  },
  {
   "cell_type": "code",
   "execution_count": 102,
   "metadata": {},
   "outputs": [
    {
     "data": {
      "text/plain": [
       "0.9954128440366973"
      ]
     },
     "execution_count": 102,
     "metadata": {},
     "output_type": "execute_result"
    }
   ],
   "source": [
    "#acerta o que não é antibiótico\n",
    "(tn2)/(tn2+fp2)"
   ]
  },
  {
   "cell_type": "markdown",
   "metadata": {},
   "source": [
    "Convolucional mais simples"
   ]
  },
  {
   "cell_type": "code",
   "execution_count": 103,
   "metadata": {},
   "outputs": [],
   "source": [
    "CNN2 = tf.keras.models.Sequential([\n",
    "    tf.keras.layers.Embedding(input_dim = 53,output_dim = 1,input_length = maior_smile),\n",
    "    tf.keras.layers.Conv1D(filters = 16,kernel_size = 3),\n",
    "    tf.keras.layers.MaxPooling1D(pool_size = 5),\n",
    "    tf.keras.layers.Dropout(0.42),\n",
    "    tf.keras.layers.Conv1D(filters = 32,kernel_size = 3),\n",
    "    tf.keras.layers.MaxPooling1D(pool_size = 4),\n",
    "    tf.keras.layers.Dropout(0.42),\n",
    "    tf.keras.layers.Conv1D(filters = 64,kernel_size = 3),\n",
    "    tf.keras.layers.MaxPooling1D(pool_size = 2),\n",
    "    tf.keras.layers.Dropout(0.42),\n",
    "    tf.keras.layers.Conv1D(filters = 128,kernel_size = 3),\n",
    "    tf.keras.layers.MaxPooling1D(pool_size = 2),   \n",
    "    tf.keras.layers.Flatten(),\n",
    "    tf.keras.layers.Dropout(0.42),\n",
    "\n",
    "    tf.keras.layers.Dense(394, activation = \"relu\"),\n",
    "    tf.keras.layers.Dense(150, activation = \"relu\"),\n",
    "    tf.keras.layers.Dense(1, activation = \"sigmoid\")\n",
    "    ])\n",
    "CNN2.compile(\n",
    "    optimizer = tf.optimizers.Adam(),\n",
    "    loss = tf.losses.BinaryCrossentropy(),\n",
    "    metrics = [\n",
    "        tf.metrics.BinaryAccuracy(),\n",
    "        tf.keras.metrics.Precision(),\n",
    "        tf.keras.metrics.Recall()\n",
    "    ]\n",
    ")"
   ]
  },
  {
   "cell_type": "code",
   "execution_count": 104,
   "metadata": {},
   "outputs": [
    {
     "name": "stdout",
     "output_type": "stream",
     "text": [
      "Epoch 1/100\n",
      "314/314 [==============================] - 2s 4ms/step - loss: 0.1318 - binary_accuracy: 0.9767 - precision_4: 0.0000e+00 - recall_4: 0.0000e+00 - val_loss: 0.2073 - val_binary_accuracy: 0.9732 - val_precision_4: 0.0000e+00 - val_recall_4: 0.0000e+00\n",
      "Epoch 2/100\n",
      "314/314 [==============================] - 1s 3ms/step - loss: 0.1241 - binary_accuracy: 0.9767 - precision_4: 0.0000e+00 - recall_4: 0.0000e+00 - val_loss: 0.1634 - val_binary_accuracy: 0.9732 - val_precision_4: 0.0000e+00 - val_recall_4: 0.0000e+00\n",
      "Epoch 3/100\n",
      "314/314 [==============================] - 1s 3ms/step - loss: 0.1087 - binary_accuracy: 0.9767 - precision_4: 0.0000e+00 - recall_4: 0.0000e+00 - val_loss: 0.0925 - val_binary_accuracy: 0.9732 - val_precision_4: 0.0000e+00 - val_recall_4: 0.0000e+00\n",
      "Epoch 4/100\n",
      "314/314 [==============================] - 1s 3ms/step - loss: 0.0745 - binary_accuracy: 0.9790 - precision_4: 1.0000 - recall_4: 0.0959 - val_loss: 0.0626 - val_binary_accuracy: 0.9881 - val_precision_4: 1.0000 - val_recall_4: 0.5556\n",
      "Epoch 5/100\n",
      "314/314 [==============================] - 1s 3ms/step - loss: 0.0209 - binary_accuracy: 0.9971 - precision_4: 1.0000 - recall_4: 0.8767 - val_loss: 0.0417 - val_binary_accuracy: 0.9963 - val_precision_4: 1.0000 - val_recall_4: 0.8611\n",
      "Epoch 6/100\n",
      "314/314 [==============================] - 1s 3ms/step - loss: 0.0175 - binary_accuracy: 0.9965 - precision_4: 0.9559 - recall_4: 0.8904 - val_loss: 0.0304 - val_binary_accuracy: 0.9955 - val_precision_4: 0.9688 - val_recall_4: 0.8611\n",
      "Epoch 7/100\n",
      "314/314 [==============================] - 1s 3ms/step - loss: 0.0176 - binary_accuracy: 0.9978 - precision_4: 0.9853 - recall_4: 0.9178 - val_loss: 0.0364 - val_binary_accuracy: 0.9963 - val_precision_4: 1.0000 - val_recall_4: 0.8611\n",
      "Epoch 8/100\n",
      "314/314 [==============================] - 1s 3ms/step - loss: 0.0148 - binary_accuracy: 0.9968 - precision_4: 0.9565 - recall_4: 0.9041 - val_loss: 0.0302 - val_binary_accuracy: 0.9955 - val_precision_4: 0.9688 - val_recall_4: 0.8611\n",
      "Epoch 9/100\n",
      "314/314 [==============================] - 1s 3ms/step - loss: 0.0144 - binary_accuracy: 0.9971 - precision_4: 0.9706 - recall_4: 0.9041 - val_loss: 0.0437 - val_binary_accuracy: 0.9963 - val_precision_4: 1.0000 - val_recall_4: 0.8611\n",
      "Epoch 10/100\n",
      "314/314 [==============================] - 1s 3ms/step - loss: 0.0178 - binary_accuracy: 0.9974 - precision_4: 0.9710 - recall_4: 0.9178 - val_loss: 0.0276 - val_binary_accuracy: 0.9955 - val_precision_4: 0.9688 - val_recall_4: 0.8611\n",
      "Epoch 11/100\n",
      "314/314 [==============================] - 1s 3ms/step - loss: 0.0164 - binary_accuracy: 0.9974 - precision_4: 0.9710 - recall_4: 0.9178 - val_loss: 0.0448 - val_binary_accuracy: 0.9963 - val_precision_4: 1.0000 - val_recall_4: 0.8611\n",
      "Epoch 12/100\n",
      "314/314 [==============================] - 1s 3ms/step - loss: 0.0157 - binary_accuracy: 0.9974 - precision_4: 0.9710 - recall_4: 0.9178 - val_loss: 0.0194 - val_binary_accuracy: 0.9963 - val_precision_4: 0.9697 - val_recall_4: 0.8889\n",
      "Epoch 13/100\n",
      "314/314 [==============================] - 1s 3ms/step - loss: 0.0143 - binary_accuracy: 0.9981 - precision_4: 0.9855 - recall_4: 0.9315 - val_loss: 0.0283 - val_binary_accuracy: 0.9963 - val_precision_4: 1.0000 - val_recall_4: 0.8611\n",
      "Epoch 14/100\n",
      "314/314 [==============================] - 1s 3ms/step - loss: 0.0144 - binary_accuracy: 0.9978 - precision_4: 0.9714 - recall_4: 0.9315 - val_loss: 0.0373 - val_binary_accuracy: 0.9963 - val_precision_4: 1.0000 - val_recall_4: 0.8611\n",
      "Epoch 15/100\n",
      "314/314 [==============================] - 1s 3ms/step - loss: 0.0158 - binary_accuracy: 0.9984 - precision_4: 0.9857 - recall_4: 0.9452 - val_loss: 0.0384 - val_binary_accuracy: 0.9963 - val_precision_4: 1.0000 - val_recall_4: 0.8611\n",
      "Epoch 16/100\n",
      "314/314 [==============================] - 1s 3ms/step - loss: 0.0147 - binary_accuracy: 0.9974 - precision_4: 0.9710 - recall_4: 0.9178 - val_loss: 0.0404 - val_binary_accuracy: 0.9963 - val_precision_4: 1.0000 - val_recall_4: 0.8611\n",
      "Epoch 17/100\n",
      "314/314 [==============================] - 1s 3ms/step - loss: 0.0147 - binary_accuracy: 0.9974 - precision_4: 0.9710 - recall_4: 0.9178 - val_loss: 0.0192 - val_binary_accuracy: 0.9970 - val_precision_4: 0.9706 - val_recall_4: 0.9167\n",
      "Epoch 18/100\n",
      "314/314 [==============================] - 1s 3ms/step - loss: 0.0124 - binary_accuracy: 0.9984 - precision_4: 0.9857 - recall_4: 0.9452 - val_loss: 0.0272 - val_binary_accuracy: 0.9963 - val_precision_4: 1.0000 - val_recall_4: 0.8611\n",
      "Epoch 19/100\n",
      "314/314 [==============================] - 1s 3ms/step - loss: 0.0136 - binary_accuracy: 0.9990 - precision_4: 1.0000 - recall_4: 0.9589 - val_loss: 0.0209 - val_binary_accuracy: 0.9963 - val_precision_4: 0.9697 - val_recall_4: 0.8889\n",
      "Epoch 20/100\n",
      "314/314 [==============================] - 1s 3ms/step - loss: 0.0123 - binary_accuracy: 0.9978 - precision_4: 0.9583 - recall_4: 0.9452 - val_loss: 0.0296 - val_binary_accuracy: 0.9963 - val_precision_4: 1.0000 - val_recall_4: 0.8611\n",
      "Epoch 21/100\n",
      "314/314 [==============================] - 1s 3ms/step - loss: 0.0090 - binary_accuracy: 0.9984 - precision_4: 0.9857 - recall_4: 0.9452 - val_loss: 0.0398 - val_binary_accuracy: 0.9955 - val_precision_4: 1.0000 - val_recall_4: 0.8333\n",
      "Epoch 22/100\n",
      "314/314 [==============================] - 1s 3ms/step - loss: 0.0110 - binary_accuracy: 0.9981 - precision_4: 0.9718 - recall_4: 0.9452 - val_loss: 0.0232 - val_binary_accuracy: 0.9963 - val_precision_4: 1.0000 - val_recall_4: 0.8611\n",
      "Epoch 23/100\n",
      "314/314 [==============================] - 1s 3ms/step - loss: 0.0156 - binary_accuracy: 0.9978 - precision_4: 0.9714 - recall_4: 0.9315 - val_loss: 0.0211 - val_binary_accuracy: 0.9970 - val_precision_4: 0.9706 - val_recall_4: 0.9167\n",
      "Epoch 24/100\n",
      "314/314 [==============================] - 1s 3ms/step - loss: 0.0134 - binary_accuracy: 0.9981 - precision_4: 0.9855 - recall_4: 0.9315 - val_loss: 0.0269 - val_binary_accuracy: 0.9963 - val_precision_4: 0.9429 - val_recall_4: 0.9167\n",
      "Epoch 25/100\n",
      "314/314 [==============================] - 1s 3ms/step - loss: 0.0146 - binary_accuracy: 0.9981 - precision_4: 0.9855 - recall_4: 0.9315 - val_loss: 0.0182 - val_binary_accuracy: 0.9963 - val_precision_4: 0.9697 - val_recall_4: 0.8889\n",
      "Epoch 26/100\n",
      "314/314 [==============================] - 1s 3ms/step - loss: 0.0138 - binary_accuracy: 0.9981 - precision_4: 0.9855 - recall_4: 0.9315 - val_loss: 0.0220 - val_binary_accuracy: 0.9963 - val_precision_4: 0.9697 - val_recall_4: 0.8889\n",
      "Epoch 27/100\n",
      "314/314 [==============================] - 1s 3ms/step - loss: 0.0130 - binary_accuracy: 0.9984 - precision_4: 1.0000 - recall_4: 0.9315 - val_loss: 0.0218 - val_binary_accuracy: 0.9963 - val_precision_4: 0.9697 - val_recall_4: 0.8889\n",
      "Epoch 28/100\n",
      "314/314 [==============================] - 1s 3ms/step - loss: 0.0124 - binary_accuracy: 0.9981 - precision_4: 0.9855 - recall_4: 0.9315 - val_loss: 0.0294 - val_binary_accuracy: 0.9970 - val_precision_4: 1.0000 - val_recall_4: 0.8889\n",
      "Epoch 29/100\n",
      "314/314 [==============================] - 1s 3ms/step - loss: 0.0121 - binary_accuracy: 0.9974 - precision_4: 0.9577 - recall_4: 0.9315 - val_loss: 0.0186 - val_binary_accuracy: 0.9963 - val_precision_4: 0.9429 - val_recall_4: 0.9167\n",
      "Epoch 30/100\n",
      "314/314 [==============================] - 1s 3ms/step - loss: 0.0089 - binary_accuracy: 0.9987 - precision_4: 0.9859 - recall_4: 0.9589 - val_loss: 0.0333 - val_binary_accuracy: 0.9963 - val_precision_4: 1.0000 - val_recall_4: 0.8611\n",
      "Epoch 31/100\n",
      "314/314 [==============================] - 1s 3ms/step - loss: 0.0109 - binary_accuracy: 0.9987 - precision_4: 1.0000 - recall_4: 0.9452 - val_loss: 0.0183 - val_binary_accuracy: 0.9963 - val_precision_4: 0.9429 - val_recall_4: 0.9167\n",
      "Epoch 32/100\n",
      "314/314 [==============================] - 1s 3ms/step - loss: 0.0153 - binary_accuracy: 0.9981 - precision_4: 0.9718 - recall_4: 0.9452 - val_loss: 0.0190 - val_binary_accuracy: 0.9970 - val_precision_4: 1.0000 - val_recall_4: 0.8889\n",
      "Epoch 33/100\n",
      "314/314 [==============================] - 1s 3ms/step - loss: 0.0107 - binary_accuracy: 0.9981 - precision_4: 0.9855 - recall_4: 0.9315 - val_loss: 0.0233 - val_binary_accuracy: 0.9963 - val_precision_4: 0.9429 - val_recall_4: 0.9167\n",
      "Epoch 34/100\n",
      "314/314 [==============================] - 1s 3ms/step - loss: 0.0136 - binary_accuracy: 0.9984 - precision_4: 0.9857 - recall_4: 0.9452 - val_loss: 0.0217 - val_binary_accuracy: 0.9970 - val_precision_4: 1.0000 - val_recall_4: 0.8889\n",
      "Epoch 35/100\n",
      "314/314 [==============================] - 1s 3ms/step - loss: 0.0160 - binary_accuracy: 0.9978 - precision_4: 0.9714 - recall_4: 0.9315 - val_loss: 0.0181 - val_binary_accuracy: 0.9970 - val_precision_4: 1.0000 - val_recall_4: 0.8889\n",
      "Epoch 36/100\n",
      "314/314 [==============================] - 1s 3ms/step - loss: 0.0081 - binary_accuracy: 0.9987 - precision_4: 1.0000 - recall_4: 0.9452 - val_loss: 0.0303 - val_binary_accuracy: 0.9970 - val_precision_4: 1.0000 - val_recall_4: 0.8889\n",
      "Epoch 37/100\n",
      "314/314 [==============================] - 1s 3ms/step - loss: 0.0163 - binary_accuracy: 0.9981 - precision_4: 0.9855 - recall_4: 0.9315 - val_loss: 0.0183 - val_binary_accuracy: 0.9970 - val_precision_4: 1.0000 - val_recall_4: 0.8889\n",
      "Epoch 38/100\n",
      "314/314 [==============================] - 1s 3ms/step - loss: 0.0117 - binary_accuracy: 0.9984 - precision_4: 0.9857 - recall_4: 0.9452 - val_loss: 0.0242 - val_binary_accuracy: 0.9963 - val_precision_4: 1.0000 - val_recall_4: 0.8611\n",
      "Epoch 39/100\n",
      "314/314 [==============================] - 1s 3ms/step - loss: 0.0151 - binary_accuracy: 0.9984 - precision_4: 1.0000 - recall_4: 0.9315 - val_loss: 0.0229 - val_binary_accuracy: 0.9963 - val_precision_4: 0.9429 - val_recall_4: 0.9167\n",
      "Epoch 40/100\n",
      "314/314 [==============================] - 1s 3ms/step - loss: 0.0117 - binary_accuracy: 0.9984 - precision_4: 0.9857 - recall_4: 0.9452 - val_loss: 0.0199 - val_binary_accuracy: 0.9970 - val_precision_4: 1.0000 - val_recall_4: 0.8889\n",
      "Epoch 41/100\n",
      "314/314 [==============================] - 1s 3ms/step - loss: 0.0090 - binary_accuracy: 0.9987 - precision_4: 0.9859 - recall_4: 0.9589 - val_loss: 0.0324 - val_binary_accuracy: 0.9955 - val_precision_4: 0.9412 - val_recall_4: 0.8889\n",
      "Epoch 42/100\n",
      "314/314 [==============================] - 1s 3ms/step - loss: 0.0403 - binary_accuracy: 0.9978 - precision_4: 1.0000 - recall_4: 0.9041 - val_loss: 0.0443 - val_binary_accuracy: 0.9963 - val_precision_4: 1.0000 - val_recall_4: 0.8611\n",
      "Epoch 43/100\n",
      "314/314 [==============================] - 1s 3ms/step - loss: 0.0123 - binary_accuracy: 0.9987 - precision_4: 0.9859 - recall_4: 0.9589 - val_loss: 0.0333 - val_binary_accuracy: 0.9963 - val_precision_4: 1.0000 - val_recall_4: 0.8611\n",
      "Epoch 44/100\n",
      "314/314 [==============================] - 1s 3ms/step - loss: 0.0104 - binary_accuracy: 0.9981 - precision_4: 0.9855 - recall_4: 0.9315 - val_loss: 0.0397 - val_binary_accuracy: 0.9970 - val_precision_4: 1.0000 - val_recall_4: 0.8889\n",
      "Epoch 45/100\n",
      "314/314 [==============================] - 1s 3ms/step - loss: 0.0095 - binary_accuracy: 0.9981 - precision_4: 0.9855 - recall_4: 0.9315 - val_loss: 0.0252 - val_binary_accuracy: 0.9963 - val_precision_4: 0.9429 - val_recall_4: 0.9167\n",
      "Epoch 46/100\n",
      "314/314 [==============================] - 1s 3ms/step - loss: 0.0156 - binary_accuracy: 0.9978 - precision_4: 0.9714 - recall_4: 0.9315 - val_loss: 0.0204 - val_binary_accuracy: 0.9970 - val_precision_4: 1.0000 - val_recall_4: 0.8889\n",
      "Epoch 47/100\n",
      "314/314 [==============================] - 1s 3ms/step - loss: 0.0103 - binary_accuracy: 0.9981 - precision_4: 0.9855 - recall_4: 0.9315 - val_loss: 0.0361 - val_binary_accuracy: 0.9970 - val_precision_4: 1.0000 - val_recall_4: 0.8889\n",
      "Epoch 48/100\n",
      "314/314 [==============================] - 1s 3ms/step - loss: 0.0139 - binary_accuracy: 0.9978 - precision_4: 0.9714 - recall_4: 0.9315 - val_loss: 0.0387 - val_binary_accuracy: 0.9970 - val_precision_4: 1.0000 - val_recall_4: 0.8889\n",
      "Epoch 49/100\n",
      "314/314 [==============================] - 1s 3ms/step - loss: 0.0112 - binary_accuracy: 0.9984 - precision_4: 1.0000 - recall_4: 0.9315 - val_loss: 0.0239 - val_binary_accuracy: 0.9970 - val_precision_4: 1.0000 - val_recall_4: 0.8889\n",
      "Epoch 50/100\n",
      "314/314 [==============================] - 1s 3ms/step - loss: 0.0112 - binary_accuracy: 0.9981 - precision_4: 0.9718 - recall_4: 0.9452 - val_loss: 0.0217 - val_binary_accuracy: 0.9978 - val_precision_4: 1.0000 - val_recall_4: 0.9167\n",
      "Epoch 51/100\n",
      "314/314 [==============================] - 1s 3ms/step - loss: 0.0106 - binary_accuracy: 0.9987 - precision_4: 1.0000 - recall_4: 0.9452 - val_loss: 0.0220 - val_binary_accuracy: 0.9970 - val_precision_4: 1.0000 - val_recall_4: 0.8889\n",
      "Epoch 52/100\n",
      "314/314 [==============================] - 1s 3ms/step - loss: 0.0105 - binary_accuracy: 0.9987 - precision_4: 1.0000 - recall_4: 0.9452 - val_loss: 0.0480 - val_binary_accuracy: 0.9963 - val_precision_4: 1.0000 - val_recall_4: 0.8611\n",
      "Epoch 53/100\n",
      "314/314 [==============================] - 1s 3ms/step - loss: 0.0106 - binary_accuracy: 0.9984 - precision_4: 0.9857 - recall_4: 0.9452 - val_loss: 0.0422 - val_binary_accuracy: 0.9963 - val_precision_4: 1.0000 - val_recall_4: 0.8611\n",
      "Epoch 54/100\n",
      "314/314 [==============================] - 1s 3ms/step - loss: 0.0150 - binary_accuracy: 0.9978 - precision_4: 0.9714 - recall_4: 0.9315 - val_loss: 0.0394 - val_binary_accuracy: 0.9963 - val_precision_4: 1.0000 - val_recall_4: 0.8611\n",
      "Epoch 55/100\n",
      "314/314 [==============================] - 1s 3ms/step - loss: 0.0080 - binary_accuracy: 0.9987 - precision_4: 0.9859 - recall_4: 0.9589 - val_loss: 0.0220 - val_binary_accuracy: 0.9970 - val_precision_4: 1.0000 - val_recall_4: 0.8889\n",
      "Epoch 56/100\n",
      "314/314 [==============================] - 1s 3ms/step - loss: 0.0149 - binary_accuracy: 0.9984 - precision_4: 0.9857 - recall_4: 0.9452 - val_loss: 0.0176 - val_binary_accuracy: 0.9978 - val_precision_4: 1.0000 - val_recall_4: 0.9167\n",
      "Epoch 57/100\n",
      "314/314 [==============================] - 1s 3ms/step - loss: 0.0103 - binary_accuracy: 0.9981 - precision_4: 0.9855 - recall_4: 0.9315 - val_loss: 0.0249 - val_binary_accuracy: 0.9963 - val_precision_4: 0.9429 - val_recall_4: 0.9167\n",
      "Epoch 58/100\n",
      "314/314 [==============================] - 1s 3ms/step - loss: 0.0080 - binary_accuracy: 0.9984 - precision_4: 0.9857 - recall_4: 0.9452 - val_loss: 0.0195 - val_binary_accuracy: 0.9978 - val_precision_4: 1.0000 - val_recall_4: 0.9167\n",
      "Epoch 59/100\n",
      "314/314 [==============================] - 1s 3ms/step - loss: 0.0093 - binary_accuracy: 0.9984 - precision_4: 0.9857 - recall_4: 0.9452 - val_loss: 0.0446 - val_binary_accuracy: 0.9963 - val_precision_4: 1.0000 - val_recall_4: 0.8611\n",
      "Epoch 60/100\n",
      "314/314 [==============================] - 1s 3ms/step - loss: 0.0118 - binary_accuracy: 0.9981 - precision_4: 0.9855 - recall_4: 0.9315 - val_loss: 0.0483 - val_binary_accuracy: 0.9963 - val_precision_4: 1.0000 - val_recall_4: 0.8611\n",
      "Epoch 61/100\n",
      "314/314 [==============================] - 1s 3ms/step - loss: 0.0085 - binary_accuracy: 0.9987 - precision_4: 0.9859 - recall_4: 0.9589 - val_loss: 0.0245 - val_binary_accuracy: 0.9970 - val_precision_4: 1.0000 - val_recall_4: 0.8889\n",
      "Epoch 62/100\n",
      "314/314 [==============================] - 1s 3ms/step - loss: 0.0157 - binary_accuracy: 0.9981 - precision_4: 0.9855 - recall_4: 0.9315 - val_loss: 0.0472 - val_binary_accuracy: 0.9963 - val_precision_4: 1.0000 - val_recall_4: 0.8611\n",
      "Epoch 63/100\n",
      "314/314 [==============================] - 1s 3ms/step - loss: 0.0118 - binary_accuracy: 0.9987 - precision_4: 1.0000 - recall_4: 0.9452 - val_loss: 0.0382 - val_binary_accuracy: 0.9963 - val_precision_4: 1.0000 - val_recall_4: 0.8611\n",
      "Epoch 64/100\n",
      "314/314 [==============================] - 1s 3ms/step - loss: 0.0109 - binary_accuracy: 0.9987 - precision_4: 1.0000 - recall_4: 0.9452 - val_loss: 0.0295 - val_binary_accuracy: 0.9970 - val_precision_4: 1.0000 - val_recall_4: 0.8889\n",
      "Epoch 65/100\n",
      "314/314 [==============================] - 1s 3ms/step - loss: 0.0103 - binary_accuracy: 0.9981 - precision_4: 0.9855 - recall_4: 0.9315 - val_loss: 0.0219 - val_binary_accuracy: 0.9970 - val_precision_4: 1.0000 - val_recall_4: 0.8889\n",
      "Epoch 66/100\n",
      "314/314 [==============================] - 1s 3ms/step - loss: 0.0139 - binary_accuracy: 0.9981 - precision_4: 0.9855 - recall_4: 0.9315 - val_loss: 0.0602 - val_binary_accuracy: 0.9963 - val_precision_4: 1.0000 - val_recall_4: 0.8611\n",
      "Epoch 67/100\n",
      "314/314 [==============================] - 1s 3ms/step - loss: 0.0133 - binary_accuracy: 0.9981 - precision_4: 0.9855 - recall_4: 0.9315 - val_loss: 0.0209 - val_binary_accuracy: 0.9970 - val_precision_4: 1.0000 - val_recall_4: 0.8889\n",
      "Epoch 68/100\n",
      "314/314 [==============================] - 1s 3ms/step - loss: 0.0086 - binary_accuracy: 0.9971 - precision_4: 0.9444 - recall_4: 0.9315 - val_loss: 0.0504 - val_binary_accuracy: 0.9963 - val_precision_4: 1.0000 - val_recall_4: 0.8611\n",
      "Epoch 69/100\n",
      "314/314 [==============================] - 1s 3ms/step - loss: 0.0142 - binary_accuracy: 0.9974 - precision_4: 0.9577 - recall_4: 0.9315 - val_loss: 0.0435 - val_binary_accuracy: 0.9970 - val_precision_4: 1.0000 - val_recall_4: 0.8889\n",
      "Epoch 70/100\n",
      "314/314 [==============================] - 1s 3ms/step - loss: 0.0143 - binary_accuracy: 0.9987 - precision_4: 1.0000 - recall_4: 0.9452 - val_loss: 0.0533 - val_binary_accuracy: 0.9963 - val_precision_4: 1.0000 - val_recall_4: 0.8611\n",
      "Epoch 71/100\n",
      "314/314 [==============================] - 1s 3ms/step - loss: 0.0112 - binary_accuracy: 0.9984 - precision_4: 1.0000 - recall_4: 0.9315 - val_loss: 0.0320 - val_binary_accuracy: 0.9978 - val_precision_4: 1.0000 - val_recall_4: 0.9167\n",
      "Epoch 72/100\n",
      "314/314 [==============================] - 1s 3ms/step - loss: 0.0104 - binary_accuracy: 0.9981 - precision_4: 0.9718 - recall_4: 0.9452 - val_loss: 0.0300 - val_binary_accuracy: 0.9970 - val_precision_4: 1.0000 - val_recall_4: 0.8889\n",
      "Epoch 73/100\n",
      "314/314 [==============================] - 1s 3ms/step - loss: 0.0054 - binary_accuracy: 0.9990 - precision_4: 1.0000 - recall_4: 0.9589 - val_loss: 0.0388 - val_binary_accuracy: 0.9970 - val_precision_4: 1.0000 - val_recall_4: 0.8889\n",
      "Epoch 74/100\n",
      "314/314 [==============================] - 1s 3ms/step - loss: 0.0055 - binary_accuracy: 0.9987 - precision_4: 1.0000 - recall_4: 0.9452 - val_loss: 0.0466 - val_binary_accuracy: 0.9970 - val_precision_4: 1.0000 - val_recall_4: 0.8889\n",
      "Epoch 75/100\n",
      "314/314 [==============================] - 1s 3ms/step - loss: 0.0438 - binary_accuracy: 0.9981 - precision_4: 0.9855 - recall_4: 0.9315 - val_loss: 0.0777 - val_binary_accuracy: 0.9963 - val_precision_4: 1.0000 - val_recall_4: 0.8611\n",
      "Epoch 76/100\n",
      "314/314 [==============================] - 1s 3ms/step - loss: 0.0206 - binary_accuracy: 0.9984 - precision_4: 0.9857 - recall_4: 0.9452 - val_loss: 0.0531 - val_binary_accuracy: 0.9963 - val_precision_4: 1.0000 - val_recall_4: 0.8611\n",
      "Epoch 77/100\n",
      "314/314 [==============================] - 1s 3ms/step - loss: 0.0103 - binary_accuracy: 0.9987 - precision_4: 1.0000 - recall_4: 0.9452 - val_loss: 0.0560 - val_binary_accuracy: 0.9963 - val_precision_4: 1.0000 - val_recall_4: 0.8611\n",
      "Epoch 78/100\n",
      "314/314 [==============================] - 1s 3ms/step - loss: 0.0133 - binary_accuracy: 0.9981 - precision_4: 0.9855 - recall_4: 0.9315 - val_loss: 0.0327 - val_binary_accuracy: 0.9970 - val_precision_4: 1.0000 - val_recall_4: 0.8889\n",
      "Epoch 79/100\n",
      "314/314 [==============================] - 1s 3ms/step - loss: 0.0164 - binary_accuracy: 0.9981 - precision_4: 0.9855 - recall_4: 0.9315 - val_loss: 0.0452 - val_binary_accuracy: 0.9970 - val_precision_4: 1.0000 - val_recall_4: 0.8889\n",
      "Epoch 80/100\n",
      "314/314 [==============================] - 1s 3ms/step - loss: 0.0118 - binary_accuracy: 0.9984 - precision_4: 1.0000 - recall_4: 0.9315 - val_loss: 0.0289 - val_binary_accuracy: 0.9978 - val_precision_4: 1.0000 - val_recall_4: 0.9167\n",
      "Epoch 81/100\n",
      "314/314 [==============================] - 1s 3ms/step - loss: 0.0247 - binary_accuracy: 0.9981 - precision_4: 0.9718 - recall_4: 0.9452 - val_loss: 0.0858 - val_binary_accuracy: 0.9948 - val_precision_4: 1.0000 - val_recall_4: 0.8056\n",
      "Epoch 82/100\n",
      "314/314 [==============================] - 1s 3ms/step - loss: 0.0113 - binary_accuracy: 0.9984 - precision_4: 0.9857 - recall_4: 0.9452 - val_loss: 0.1246 - val_binary_accuracy: 0.9963 - val_precision_4: 1.0000 - val_recall_4: 0.8611\n",
      "Epoch 83/100\n",
      "314/314 [==============================] - 1s 3ms/step - loss: 0.0182 - binary_accuracy: 0.9981 - precision_4: 0.9855 - recall_4: 0.9315 - val_loss: 0.0340 - val_binary_accuracy: 0.9963 - val_precision_4: 1.0000 - val_recall_4: 0.8611\n",
      "Epoch 84/100\n",
      "314/314 [==============================] - 1s 3ms/step - loss: 0.0146 - binary_accuracy: 0.9987 - precision_4: 1.0000 - recall_4: 0.9452 - val_loss: 0.0673 - val_binary_accuracy: 0.9963 - val_precision_4: 1.0000 - val_recall_4: 0.8611\n",
      "Epoch 85/100\n",
      "314/314 [==============================] - 1s 3ms/step - loss: 0.0176 - binary_accuracy: 0.9974 - precision_4: 0.9577 - recall_4: 0.9315 - val_loss: 0.0518 - val_binary_accuracy: 0.9963 - val_precision_4: 1.0000 - val_recall_4: 0.8611\n",
      "Epoch 86/100\n",
      "314/314 [==============================] - 1s 3ms/step - loss: 0.0093 - binary_accuracy: 0.9987 - precision_4: 1.0000 - recall_4: 0.9452 - val_loss: 0.0506 - val_binary_accuracy: 0.9963 - val_precision_4: 1.0000 - val_recall_4: 0.8611\n",
      "Epoch 87/100\n",
      "314/314 [==============================] - 1s 3ms/step - loss: 0.0101 - binary_accuracy: 0.9984 - precision_4: 0.9857 - recall_4: 0.9452 - val_loss: 0.0510 - val_binary_accuracy: 0.9963 - val_precision_4: 1.0000 - val_recall_4: 0.8611\n",
      "Epoch 88/100\n",
      "314/314 [==============================] - 1s 3ms/step - loss: 0.0097 - binary_accuracy: 0.9984 - precision_4: 1.0000 - recall_4: 0.9315 - val_loss: 0.0354 - val_binary_accuracy: 0.9978 - val_precision_4: 1.0000 - val_recall_4: 0.9167\n",
      "Epoch 89/100\n",
      "314/314 [==============================] - 1s 3ms/step - loss: 0.0135 - binary_accuracy: 0.9984 - precision_4: 0.9857 - recall_4: 0.9452 - val_loss: 0.0506 - val_binary_accuracy: 0.9963 - val_precision_4: 1.0000 - val_recall_4: 0.8611\n",
      "Epoch 90/100\n",
      "314/314 [==============================] - 1s 3ms/step - loss: 0.0071 - binary_accuracy: 0.9987 - precision_4: 1.0000 - recall_4: 0.9452 - val_loss: 0.0684 - val_binary_accuracy: 0.9970 - val_precision_4: 1.0000 - val_recall_4: 0.8889\n",
      "Epoch 91/100\n",
      "314/314 [==============================] - 1s 3ms/step - loss: 0.0084 - binary_accuracy: 0.9990 - precision_4: 1.0000 - recall_4: 0.9589 - val_loss: 0.0671 - val_binary_accuracy: 0.9970 - val_precision_4: 1.0000 - val_recall_4: 0.8889\n",
      "Epoch 92/100\n",
      "314/314 [==============================] - 1s 3ms/step - loss: 0.0131 - binary_accuracy: 0.9981 - precision_4: 0.9855 - recall_4: 0.9315 - val_loss: 0.0648 - val_binary_accuracy: 0.9963 - val_precision_4: 1.0000 - val_recall_4: 0.8611\n",
      "Epoch 93/100\n",
      "314/314 [==============================] - 1s 3ms/step - loss: 0.0135 - binary_accuracy: 0.9987 - precision_4: 1.0000 - recall_4: 0.9452 - val_loss: 0.0601 - val_binary_accuracy: 0.9963 - val_precision_4: 1.0000 - val_recall_4: 0.8611\n",
      "Epoch 94/100\n",
      "314/314 [==============================] - 1s 3ms/step - loss: 0.0121 - binary_accuracy: 0.9978 - precision_4: 0.9853 - recall_4: 0.9178 - val_loss: 0.0541 - val_binary_accuracy: 0.9970 - val_precision_4: 1.0000 - val_recall_4: 0.8889\n",
      "Epoch 95/100\n",
      "314/314 [==============================] - 1s 3ms/step - loss: 0.0124 - binary_accuracy: 0.9981 - precision_4: 0.9718 - recall_4: 0.9452 - val_loss: 0.0513 - val_binary_accuracy: 0.9978 - val_precision_4: 1.0000 - val_recall_4: 0.9167\n",
      "Epoch 96/100\n",
      "314/314 [==============================] - 1s 3ms/step - loss: 0.0121 - binary_accuracy: 0.9981 - precision_4: 0.9855 - recall_4: 0.9315 - val_loss: 0.0420 - val_binary_accuracy: 0.9978 - val_precision_4: 1.0000 - val_recall_4: 0.9167\n",
      "Epoch 97/100\n",
      "314/314 [==============================] - 1s 3ms/step - loss: 0.0134 - binary_accuracy: 0.9981 - precision_4: 0.9855 - recall_4: 0.9315 - val_loss: 0.0675 - val_binary_accuracy: 0.9963 - val_precision_4: 1.0000 - val_recall_4: 0.8611\n",
      "Epoch 98/100\n",
      "314/314 [==============================] - 1s 3ms/step - loss: 0.0095 - binary_accuracy: 0.9981 - precision_4: 0.9718 - recall_4: 0.9452 - val_loss: 0.0219 - val_binary_accuracy: 0.9963 - val_precision_4: 0.9429 - val_recall_4: 0.9167\n",
      "Epoch 99/100\n",
      "314/314 [==============================] - 1s 3ms/step - loss: 0.0110 - binary_accuracy: 0.9984 - precision_4: 0.9857 - recall_4: 0.9452 - val_loss: 0.0311 - val_binary_accuracy: 0.9978 - val_precision_4: 1.0000 - val_recall_4: 0.9167\n",
      "Epoch 100/100\n",
      "314/314 [==============================] - 1s 3ms/step - loss: 0.0144 - binary_accuracy: 0.9981 - precision_4: 0.9718 - recall_4: 0.9452 - val_loss: 0.0383 - val_binary_accuracy: 0.9963 - val_precision_4: 1.0000 - val_recall_4: 0.8611\n"
     ]
    }
   ],
   "source": [
    "trainer = CNN2.fit(\n",
    "     smiles_train,\n",
    "     labels_train,\n",
    "     batch_size = 10,\n",
    "     epochs = 100,\n",
    "     validation_data = (smiles_test,labels_test),  \n",
    "     verbose = 1)"
   ]
  },
  {
   "cell_type": "code",
   "execution_count": 105,
   "metadata": {},
   "outputs": [],
   "source": [
    "y_hat2 = (CNN2.predict(smiles_test) > 0.5).astype(\"float\")"
   ]
  },
  {
   "cell_type": "code",
   "execution_count": 106,
   "metadata": {},
   "outputs": [],
   "source": [
    "cm3 = confusion_matrix(labels_test, y_hat2)  "
   ]
  },
  {
   "cell_type": "code",
   "execution_count": 107,
   "metadata": {},
   "outputs": [
    {
     "data": {
      "text/plain": [
       "Text(0.5, 33.0, 'Predicted Values')"
      ]
     },
     "execution_count": 107,
     "metadata": {},
     "output_type": "execute_result"
    },
    {
     "data": {
      "image/png": "[encoded data removed]",
      "text/plain": [
       "<Figure size 432x432 with 2 Axes>"
      ]
     },
     "metadata": {
      "needs_background": "light"
     },
     "output_type": "display_data"
    }
   ],
   "source": [
    "plt.figure(figsize = (6,6))\n",
    "sns.heatmap(cm3, annot = True, fmt = \".5g\", cmap = \"coolwarm\",linewidths=.5)\n",
    "plt.ylabel('Actual Values',fontsize = 14)\n",
    "plt.xlabel('Predicted Values')"
   ]
  },
  {
   "cell_type": "code",
   "execution_count": 108,
   "metadata": {},
   "outputs": [
    {
     "data": {
      "text/plain": [
       "(1308, 0, 5, 31)"
      ]
     },
     "execution_count": 108,
     "metadata": {},
     "output_type": "execute_result"
    }
   ],
   "source": [
    "tn3, fp3, fn3, tp3 = confusion_matrix(labels_test, y_hat2).ravel()\n",
    "tn3, fp3, fn3, tp3"
   ]
  },
  {
   "cell_type": "code",
   "execution_count": 109,
   "metadata": {},
   "outputs": [
    {
     "data": {
      "text/plain": [
       "0.9962797619047619"
      ]
     },
     "execution_count": 109,
     "metadata": {},
     "output_type": "execute_result"
    }
   ],
   "source": [
    "#acurácia\n",
    "(tp3+tn3)/(tp3+tn3+fp3+fn3)"
   ]
  },
  {
   "cell_type": "code",
   "execution_count": 110,
   "metadata": {},
   "outputs": [
    {
     "data": {
      "text/plain": [
       "0.8611111111111112"
      ]
     },
     "execution_count": 110,
     "metadata": {},
     "output_type": "execute_result"
    }
   ],
   "source": [
    "#acerta o que é antibiótico\n",
    "(tp3)/(tp3+fn3)"
   ]
  },
  {
   "cell_type": "code",
   "execution_count": 111,
   "metadata": {},
   "outputs": [
    {
     "data": {
      "text/plain": [
       "1.0"
      ]
     },
     "execution_count": 111,
     "metadata": {},
     "output_type": "execute_result"
    }
   ],
   "source": [
    "#acerta o que não é antibiótico\n",
    "(tn3)/(tn3+fp3)"
   ]
  }
 ],
 "metadata": {
  "interpreter": {
   "hash": "3218d1e1345bf85c44ac3e3bdb7899973b22b8c207b0aa6281a3c4896a58620c"
  },
  "kernelspec": {
   "display_name": "Python 3.7.11 ('diversedrl')",
   "language": "python",
   "name": "python3"
  },
  "language_info": {
   "codemirror_mode": {
    "name": "ipython",
    "version": 3
   },
   "file_extension": ".py",
   "mimetype": "text/x-python",
   "name": "python",
   "nbconvert_exporter": "python",
   "pygments_lexer": "ipython3",
   "version": "3.7.11"
  },
  "orig_nbformat": 4
 },
 "nbformat": 4,
 "nbformat_minor": 2
}
