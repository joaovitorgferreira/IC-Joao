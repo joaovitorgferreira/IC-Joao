{
 "cells": [
  {
   "cell_type": "markdown",
   "metadata": {},
   "source": [
    "## 1. Faça um código que leia um arquivo .fasta e retorne um arquivo.csv:\n",
    "\n",
    "ID da sequência | tipo de nt | comprimento | conteudo GC(%)\n",
    "----------------| ---------- | ----------- | -----------\n",
    "Seq 1 | RNA | 500 | 56\n",
    "Seq 2 | DNA | 400 | 60\n",
    "\n",
    "\n",
    "Sugestões\n",
    "\n",
    "[BioPython](https://biopython.org/)\n",
    "\n",
    "[Pandas](https://pandas.pydata.org/)"
   ]
  },
  {
   "cell_type": "code",
   "execution_count": null,
   "metadata": {},
   "outputs": [],
   "source": []
  },
  {
   "cell_type": "markdown",
   "metadata": {},
   "source": [
    "## 2. Gráficos (brabo demais)\n",
    "2.1. Gráfico de barras: nº de seq de DNA e RNA\n",
    "\n",
    "2.2. Histograma ou boxplot: distribuição dos comprimentos\n",
    "\n",
    "3.3. Histograma ou boxplot: distribuição do conteúdo GC\n",
    "\n",
    "Sugestão:\n",
    "[matplotlib](https://matplotlib.org/)\n"
   ]
  },
  {
   "cell_type": "code",
   "execution_count": null,
   "metadata": {},
   "outputs": [],
   "source": []
  }
 ],
 "metadata": {
  "interpreter": {
   "hash": "31f2aee4e71d21fbe5cf8b01ff0e069b9275f58929596ceb00d14d90e3e16cd6"
  },
  "kernelspec": {
   "display_name": "Python 3.5.3 64-bit",
   "language": "python",
   "name": "python3"
  },
  "language_info": {
   "codemirror_mode": {
    "name": "ipython",
    "version": 3
   },
   "file_extension": ".py",
   "mimetype": "text/x-python",
   "name": "python",
   "nbconvert_exporter": "python",
   "pygments_lexer": "ipython3",
   "version": "3.8.8"
  },
  "orig_nbformat": 4
 },
 "nbformat": 4,
 "nbformat_minor": 2
}
